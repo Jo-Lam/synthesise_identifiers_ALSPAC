{
 "cells": [
  {
   "cell_type": "code",
   "execution_count": 35,
   "metadata": {},
   "outputs": [
    {
     "data": {
      "text/html": [
       "<div>\n",
       "<style scoped>\n",
       "    .dataframe tbody tr th:only-of-type {\n",
       "        vertical-align: middle;\n",
       "    }\n",
       "\n",
       "    .dataframe tbody tr th {\n",
       "        vertical-align: top;\n",
       "    }\n",
       "\n",
       "    .dataframe thead th {\n",
       "        text-align: right;\n",
       "    }\n",
       "</style>\n",
       "<table border=\"1\" class=\"dataframe\">\n",
       "  <thead>\n",
       "    <tr style=\"text-align: right;\">\n",
       "      <th></th>\n",
       "      <th>unique_id</th>\n",
       "      <th>maternal_agecat</th>\n",
       "      <th>ethgroup</th>\n",
       "      <th>g1_gender_arc</th>\n",
       "      <th>imddecile</th>\n",
       "      <th>g1_dob_arc1</th>\n",
       "      <th>syn_g0_surname</th>\n",
       "      <th>syn_g1_surname</th>\n",
       "      <th>syn_g1_firstname</th>\n",
       "    </tr>\n",
       "  </thead>\n",
       "  <tbody>\n",
       "    <tr>\n",
       "      <th>0</th>\n",
       "      <td>90010731</td>\n",
       "      <td>&lt;20</td>\n",
       "      <td>White</td>\n",
       "      <td>Male</td>\n",
       "      <td>1.0</td>\n",
       "      <td>1992-04-30</td>\n",
       "      <td>vanderveen</td>\n",
       "      <td>baranowska</td>\n",
       "      <td>yitzhak</td>\n",
       "    </tr>\n",
       "    <tr>\n",
       "      <th>1</th>\n",
       "      <td>90000193</td>\n",
       "      <td>20-29</td>\n",
       "      <td>Black</td>\n",
       "      <td>Male</td>\n",
       "      <td>1.0</td>\n",
       "      <td>1992-12-03</td>\n",
       "      <td>vello</td>\n",
       "      <td>krogh</td>\n",
       "      <td>lavinia</td>\n",
       "    </tr>\n",
       "    <tr>\n",
       "      <th>2</th>\n",
       "      <td>90002547</td>\n",
       "      <td>30-39</td>\n",
       "      <td>Other</td>\n",
       "      <td>Male</td>\n",
       "      <td>3.0</td>\n",
       "      <td>1992-06-22</td>\n",
       "      <td>strackerjan</td>\n",
       "      <td>roloff</td>\n",
       "      <td>lyn</td>\n",
       "    </tr>\n",
       "    <tr>\n",
       "      <th>3</th>\n",
       "      <td>90002209</td>\n",
       "      <td>20-29</td>\n",
       "      <td>NaN</td>\n",
       "      <td>Male</td>\n",
       "      <td>1.0</td>\n",
       "      <td>1992-01-29</td>\n",
       "      <td>harald</td>\n",
       "      <td>bahr</td>\n",
       "      <td>aron</td>\n",
       "    </tr>\n",
       "    <tr>\n",
       "      <th>4</th>\n",
       "      <td>90002366</td>\n",
       "      <td>30-39</td>\n",
       "      <td>NaN</td>\n",
       "      <td>Male</td>\n",
       "      <td>1.0</td>\n",
       "      <td>1991-12-15</td>\n",
       "      <td>warde</td>\n",
       "      <td>de ruth</td>\n",
       "      <td>ludwig</td>\n",
       "    </tr>\n",
       "  </tbody>\n",
       "</table>\n",
       "</div>"
      ],
      "text/plain": [
       "   unique_id maternal_agecat ethgroup g1_gender_arc  imddecile g1_dob_arc1  \\\n",
       "0   90010731             <20    White          Male        1.0  1992-04-30   \n",
       "1   90000193           20-29    Black          Male        1.0  1992-12-03   \n",
       "2   90002547           30-39    Other          Male        3.0  1992-06-22   \n",
       "3   90002209           20-29      NaN          Male        1.0  1992-01-29   \n",
       "4   90002366           30-39      NaN          Male        1.0  1991-12-15   \n",
       "\n",
       "  syn_g0_surname syn_g1_surname syn_g1_firstname  \n",
       "0     vanderveen     baranowska          yitzhak  \n",
       "1          vello          krogh          lavinia  \n",
       "2    strackerjan         roloff              lyn  \n",
       "3         harald           bahr             aron  \n",
       "4          warde        de ruth           ludwig  "
      ]
     },
     "execution_count": 35,
     "metadata": {},
     "output_type": "execute_result"
    }
   ],
   "source": [
    "# formatting to splink - scenario 3\n",
    "import os\n",
    "import pandas as pd\n",
    "import altair as alt\n",
    "alt.renderers.enable('html')\n",
    "# import data\n",
    "import numpy as np\n",
    "\n",
    "data_set = 4\n",
    "\n",
    "df = pd.read_csv(f\"corrupted\\\\scen3\\\\file{data_set}_corrupted.csv\") \n",
    "df['unique_id'] = df['unique_id'] + 90000000\n",
    "\n",
    "# formatting\n",
    "# drop useless rows?\n",
    "column_names = df.columns.tolist()\n",
    "columns_to_keep = ['unique_id' , 'maternal_agecat', 'ethgroup', 'g1_gender_arc', 'imddecile', 'g1_dob_arc1', 'syn_g0_surname', 'syn_g1_surname', 'syn_g1_firstname'] \n",
    "df = df.loc[:, columns_to_keep]\n",
    "#df[\"g1_dob_arc1\"] = pd.to_datetime(df[\"g1_dob_arc1\"], unit = \"D\")\n",
    "\n",
    "df[\"g1_dob_str\"] = df[\"g1_dob_arc1\"].astype(str)\n",
    "df[\"g1_dob_str\"] = df[\"g1_dob_str\"].str[:10]\n",
    "df[\"g1_dob_arc1\"] = df[\"g1_dob_str\"]\n",
    "df.drop(columns = \"g1_dob_str\")\n",
    "\n",
    "# inspect vars, code \"missing\" into nulls.\n",
    "df['maternal_agecat'] = df['maternal_agecat'].replace('missing', np.nan)\n",
    "df['ethgroup'] = df['ethgroup'].replace('missing', np.nan)\n",
    "df['imddecile'] = df['imddecile'].replace('missing', np.nan)\n",
    "\n",
    "columns_to_keep = ['unique_id' , 'maternal_agecat', 'ethgroup', 'g1_gender_arc', 'imddecile', 'g1_dob_arc1', 'syn_g0_surname', 'syn_g1_surname', 'syn_g1_firstname'] \n",
    "df = df.loc[:, columns_to_keep]\n",
    "\n",
    "# import uncorrupted data\n",
    "directory = os.path.join(os.getcwd(), \"output\\\\associated\")\n",
    "file_name = f\"data_{data_set}_associated.csv\"\n",
    "file_path = os.path.join(directory, file_name)\n",
    "undrawn_df = pd.read_csv(file_path)\n",
    "\n",
    "# create gold standard (with cluster), by keeping uncorrupted = True rows.\n",
    "undrawn_df['uncorrupted_record'] = undrawn_df['uncorrupted_record'].astype(bool)\n",
    "gold_df = undrawn_df[undrawn_df['uncorrupted_record']]\n",
    "columns_to_keep = ['cluster', 'unique_id' , 'maternal_agecat', 'ethgroup', 'g1_gender_arc', 'imddecile', 'g1_dob_arc1', 'syn_g0_surname', 'syn_g1_surname', 'syn_g1_firstname'] \n",
    "gold_df = gold_df.loc[:, columns_to_keep]\n",
    "\n",
    "#gold_df[\"g1_dob_arc1\"] = pd.to_datetime(gold_df[\"g1_dob_arc1\"], unit = \"D\")\n",
    "#gold_df['g1_dob_arc1']=pd.to_datetime(gold_df['g1_dob_arc1'], format = '%d/%m/%Y') \n",
    "\n",
    "gold_df[\"g1_dob_str\"] = gold_df[\"g1_dob_arc1\"].astype(str)\n",
    "gold_df[\"g1_dob_str\"] = gold_df[\"g1_dob_str\"].str[:10]\n",
    "gold_df[\"g1_dob_arc1\"] = gold_df[\"g1_dob_str\"]\n",
    "gold_df.drop(columns = \"g1_dob_str\")\n",
    "\n",
    "gold_df['maternal_agecat'] = gold_df['maternal_agecat'].replace('', np.nan)\n",
    "gold_df['ethgroup'] = gold_df['ethgroup'].replace('Missing', np.nan)\n",
    "gold_df['imddecile'] = gold_df['imddecile'].replace('', np.nan)\n",
    "\n",
    "columns_to_keep = ['unique_id' , 'maternal_agecat', 'ethgroup', 'g1_gender_arc', 'imddecile', 'g1_dob_arc1', 'syn_g0_surname', 'syn_g1_surname', 'syn_g1_firstname'] \n",
    "gold_df = gold_df.loc[:, columns_to_keep]\n",
    "\n",
    "from splink.duckdb.linker import DuckDBLinker\n",
    "df.head(5)\n",
    "# gold_df.head(5)\n",
    "# gold_df['g1_dob_arc1']=pd.to_datetime(df['g1_dob_arc1'].astype(str), format='%Y-%m-%d')\n",
    "\n"
   ]
  },
  {
   "cell_type": "code",
   "execution_count": 2,
   "metadata": {},
   "outputs": [
    {
     "data": {
      "text/html": [
       "\n",
       "<style>\n",
       "  #altair-viz-c8c4af29dd3e4a6b948632677de8464a.vega-embed {\n",
       "    width: 100%;\n",
       "    display: flex;\n",
       "  }\n",
       "\n",
       "  #altair-viz-c8c4af29dd3e4a6b948632677de8464a.vega-embed details,\n",
       "  #altair-viz-c8c4af29dd3e4a6b948632677de8464a.vega-embed details summary {\n",
       "    position: relative;\n",
       "  }\n",
       "</style>\n",
       "<div id=\"altair-viz-c8c4af29dd3e4a6b948632677de8464a\"></div>\n",
       "<script type=\"text/javascript\">\n",
       "  var VEGA_DEBUG = (typeof VEGA_DEBUG == \"undefined\") ? {} : VEGA_DEBUG;\n",
       "  (function(spec, embedOpt){\n",
       "    let outputDiv = document.currentScript.previousElementSibling;\n",
       "    if (outputDiv.id !== \"altair-viz-c8c4af29dd3e4a6b948632677de8464a\") {\n",
       "      outputDiv = document.getElementById(\"altair-viz-c8c4af29dd3e4a6b948632677de8464a\");\n",
       "    }\n",
       "    const paths = {\n",
       "      \"vega\": \"https://cdn.jsdelivr.net/npm/vega@5?noext\",\n",
       "      \"vega-lib\": \"https://cdn.jsdelivr.net/npm/vega-lib?noext\",\n",
       "      \"vega-lite\": \"https://cdn.jsdelivr.net/npm/vega-lite@5.8.0?noext\",\n",
       "      \"vega-embed\": \"https://cdn.jsdelivr.net/npm/vega-embed@6?noext\",\n",
       "    };\n",
       "\n",
       "    function maybeLoadScript(lib, version) {\n",
       "      var key = `${lib.replace(\"-\", \"\")}_version`;\n",
       "      return (VEGA_DEBUG[key] == version) ?\n",
       "        Promise.resolve(paths[lib]) :\n",
       "        new Promise(function(resolve, reject) {\n",
       "          var s = document.createElement('script');\n",
       "          document.getElementsByTagName(\"head\")[0].appendChild(s);\n",
       "          s.async = true;\n",
       "          s.onload = () => {\n",
       "            VEGA_DEBUG[key] = version;\n",
       "            return resolve(paths[lib]);\n",
       "          };\n",
       "          s.onerror = () => reject(`Error loading script: ${paths[lib]}`);\n",
       "          s.src = paths[lib];\n",
       "        });\n",
       "    }\n",
       "\n",
       "    function showError(err) {\n",
       "      outputDiv.innerHTML = `<div class=\"error\" style=\"color:red;\">${err}</div>`;\n",
       "      throw err;\n",
       "    }\n",
       "\n",
       "    function displayChart(vegaEmbed) {\n",
       "      vegaEmbed(outputDiv, spec, embedOpt)\n",
       "        .catch(err => showError(`Javascript Error: ${err.message}<br>This usually means there's a typo in your chart specification. See the javascript console for the full traceback.`));\n",
       "    }\n",
       "\n",
       "    if(typeof define === \"function\" && define.amd) {\n",
       "      requirejs.config({paths});\n",
       "      require([\"vega-embed\"], displayChart, err => showError(`Error loading script: ${err.message}`));\n",
       "    } else {\n",
       "      maybeLoadScript(\"vega\", \"5\")\n",
       "        .then(() => maybeLoadScript(\"vega-lite\", \"5.8.0\"))\n",
       "        .then(() => maybeLoadScript(\"vega-embed\", \"6\"))\n",
       "        .catch(showError)\n",
       "        .then(() => displayChart(vegaEmbed));\n",
       "    }\n",
       "  })({\"config\": {\"view\": {\"continuousWidth\": 400, \"continuousHeight\": 300}}, \"vconcat\": [{\"hconcat\": [{\"mark\": {\"type\": \"line\", \"interpolate\": \"step-after\"}, \"data\": {\"values\": [{\"percentile_ex_nulls\": 0.0, \"percentile_inc_nulls\": 0.0, \"value_count\": 1, \"group_name\": \"_unique_id_\", \"total_non_null_rows\": 13281, \"total_rows_inc_nulls\": 13281, \"sum_tokens_in_value_count_group\": 13281.0, \"distinct_value_count\": 13281}, {\"percentile_ex_nulls\": 1.0, \"percentile_inc_nulls\": 1.0, \"value_count\": 1, \"group_name\": \"_unique_id_\", \"total_non_null_rows\": 13281, \"total_rows_inc_nulls\": 13281, \"sum_tokens_in_value_count_group\": 13281.0, \"distinct_value_count\": 13281}]}, \"encoding\": {\"tooltip\": [{\"field\": \"value_count\", \"type\": \"quantitative\"}, {\"field\": \"percentile_ex_nulls\", \"type\": \"quantitative\"}, {\"field\": \"percentile_inc_nulls\", \"type\": \"quantitative\"}, {\"field\": \"total_non_null_rows\", \"type\": \"quantitative\"}, {\"field\": \"total_rows_inc_nulls\", \"type\": \"quantitative\"}], \"x\": {\"field\": \"percentile_ex_nulls\", \"sort\": \"descending\", \"title\": \"Percentile\", \"type\": \"quantitative\"}, \"y\": {\"field\": \"value_count\", \"title\": \"Count of values\", \"type\": \"quantitative\"}}, \"title\": {\"text\": \"Distribution of counts of values in column \\\"unique_id\\\"\", \"subtitle\": \"In this col, 0 values (0.0%) are null and there are 13281 distinct values\"}}, {\"mark\": \"bar\", \"data\": {\"values\": [{\"value_count\": 1, \"group_name\": \"_unique_id_\", \"value\": \"90001758\", \"total_non_null_rows\": 13281, \"total_rows_inc_nulls\": 13281, \"distinct_value_count\": 13281}, {\"value_count\": 1, \"group_name\": \"_unique_id_\", \"value\": \"90005703\", \"total_non_null_rows\": 13281, \"total_rows_inc_nulls\": 13281, \"distinct_value_count\": 13281}, {\"value_count\": 1, \"group_name\": \"_unique_id_\", \"value\": \"90006934\", \"total_non_null_rows\": 13281, \"total_rows_inc_nulls\": 13281, \"distinct_value_count\": 13281}, {\"value_count\": 1, \"group_name\": \"_unique_id_\", \"value\": \"90002502\", \"total_non_null_rows\": 13281, \"total_rows_inc_nulls\": 13281, \"distinct_value_count\": 13281}, {\"value_count\": 1, \"group_name\": \"_unique_id_\", \"value\": \"90002472\", \"total_non_null_rows\": 13281, \"total_rows_inc_nulls\": 13281, \"distinct_value_count\": 13281}, {\"value_count\": 1, \"group_name\": \"_unique_id_\", \"value\": \"90001297\", \"total_non_null_rows\": 13281, \"total_rows_inc_nulls\": 13281, \"distinct_value_count\": 13281}, {\"value_count\": 1, \"group_name\": \"_unique_id_\", \"value\": \"90002223\", \"total_non_null_rows\": 13281, \"total_rows_inc_nulls\": 13281, \"distinct_value_count\": 13281}, {\"value_count\": 1, \"group_name\": \"_unique_id_\", \"value\": \"90000133\", \"total_non_null_rows\": 13281, \"total_rows_inc_nulls\": 13281, \"distinct_value_count\": 13281}, {\"value_count\": 1, \"group_name\": \"_unique_id_\", \"value\": \"90004978\", \"total_non_null_rows\": 13281, \"total_rows_inc_nulls\": 13281, \"distinct_value_count\": 13281}, {\"value_count\": 1, \"group_name\": \"_unique_id_\", \"value\": \"90010302\", \"total_non_null_rows\": 13281, \"total_rows_inc_nulls\": 13281, \"distinct_value_count\": 13281}]}, \"encoding\": {\"tooltip\": [{\"field\": \"value\", \"type\": \"nominal\"}, {\"field\": \"value_count\", \"type\": \"quantitative\"}, {\"field\": \"total_non_null_rows\", \"type\": \"quantitative\"}, {\"field\": \"total_rows_inc_nulls\", \"type\": \"quantitative\"}], \"x\": {\"field\": \"value\", \"sort\": \"-y\", \"title\": null, \"type\": \"nominal\"}, \"y\": {\"field\": \"value_count\", \"title\": \"Value count\", \"type\": \"quantitative\"}}, \"title\": \"Top 10 values by value count\"}, {\"mark\": \"bar\", \"data\": {\"values\": [{\"value_count\": 1, \"group_name\": \"_unique_id_\", \"value\": \"90001758\", \"total_non_null_rows\": 13281, \"total_rows_inc_nulls\": 13281, \"distinct_value_count\": 13281}, {\"value_count\": 1, \"group_name\": \"_unique_id_\", \"value\": \"90005703\", \"total_non_null_rows\": 13281, \"total_rows_inc_nulls\": 13281, \"distinct_value_count\": 13281}, {\"value_count\": 1, \"group_name\": \"_unique_id_\", \"value\": \"90006934\", \"total_non_null_rows\": 13281, \"total_rows_inc_nulls\": 13281, \"distinct_value_count\": 13281}, {\"value_count\": 1, \"group_name\": \"_unique_id_\", \"value\": \"90002502\", \"total_non_null_rows\": 13281, \"total_rows_inc_nulls\": 13281, \"distinct_value_count\": 13281}, {\"value_count\": 1, \"group_name\": \"_unique_id_\", \"value\": \"90002472\", \"total_non_null_rows\": 13281, \"total_rows_inc_nulls\": 13281, \"distinct_value_count\": 13281}, {\"value_count\": 1, \"group_name\": \"_unique_id_\", \"value\": \"90001297\", \"total_non_null_rows\": 13281, \"total_rows_inc_nulls\": 13281, \"distinct_value_count\": 13281}, {\"value_count\": 1, \"group_name\": \"_unique_id_\", \"value\": \"90002223\", \"total_non_null_rows\": 13281, \"total_rows_inc_nulls\": 13281, \"distinct_value_count\": 13281}, {\"value_count\": 1, \"group_name\": \"_unique_id_\", \"value\": \"90000133\", \"total_non_null_rows\": 13281, \"total_rows_inc_nulls\": 13281, \"distinct_value_count\": 13281}, {\"value_count\": 1, \"group_name\": \"_unique_id_\", \"value\": \"90004978\", \"total_non_null_rows\": 13281, \"total_rows_inc_nulls\": 13281, \"distinct_value_count\": 13281}, {\"value_count\": 1, \"group_name\": \"_unique_id_\", \"value\": \"90010302\", \"total_non_null_rows\": 13281, \"total_rows_inc_nulls\": 13281, \"distinct_value_count\": 13281}]}, \"encoding\": {\"tooltip\": [{\"field\": \"value\", \"type\": \"nominal\"}, {\"field\": \"value_count\", \"type\": \"quantitative\"}, {\"field\": \"total_non_null_rows\", \"type\": \"quantitative\"}, {\"field\": \"total_rows_inc_nulls\", \"type\": \"quantitative\"}], \"x\": {\"field\": \"value\", \"sort\": \"-y\", \"title\": null, \"type\": \"nominal\"}, \"y\": {\"field\": \"value_count\", \"scale\": {\"domain\": [0, 1]}, \"title\": \"Value count\", \"type\": \"quantitative\"}}, \"title\": \"Bottom 10 values by value count\"}]}, {\"hconcat\": [{\"mark\": {\"type\": \"line\", \"interpolate\": \"step-after\"}, \"data\": {\"values\": [{\"percentile_ex_nulls\": 0.4258403778076172, \"percentile_inc_nulls\": 0.4572697877883911, \"value_count\": 7208, \"group_name\": \"_maternal_agecat_\", \"total_non_null_rows\": 12554, \"total_rows_inc_nulls\": 13281, \"sum_tokens_in_value_count_group\": 7208.0, \"distinct_value_count\": 4}, {\"percentile_ex_nulls\": 0.053927063941955566, \"percentile_inc_nulls\": 0.10571491718292236, \"value_count\": 4669, \"group_name\": \"_maternal_agecat_\", \"total_non_null_rows\": 12554, \"total_rows_inc_nulls\": 13281, \"sum_tokens_in_value_count_group\": 4669.0, \"distinct_value_count\": 4}, {\"percentile_ex_nulls\": 0.011470437049865723, \"percentile_inc_nulls\": 0.06558239459991455, \"value_count\": 533, \"group_name\": \"_maternal_agecat_\", \"total_non_null_rows\": 12554, \"total_rows_inc_nulls\": 13281, \"sum_tokens_in_value_count_group\": 533.0, \"distinct_value_count\": 4}, {\"percentile_ex_nulls\": 0.0, \"percentile_inc_nulls\": 0.05473983287811279, \"value_count\": 144, \"group_name\": \"_maternal_agecat_\", \"total_non_null_rows\": 12554, \"total_rows_inc_nulls\": 13281, \"sum_tokens_in_value_count_group\": 144.0, \"distinct_value_count\": 4}, {\"percentile_ex_nulls\": 1.0, \"percentile_inc_nulls\": 1.0, \"value_count\": 7208, \"group_name\": \"_maternal_agecat_\", \"total_non_null_rows\": 12554, \"total_rows_inc_nulls\": 13281, \"sum_tokens_in_value_count_group\": 7208.0, \"distinct_value_count\": 4}]}, \"encoding\": {\"tooltip\": [{\"field\": \"value_count\", \"type\": \"quantitative\"}, {\"field\": \"percentile_ex_nulls\", \"type\": \"quantitative\"}, {\"field\": \"percentile_inc_nulls\", \"type\": \"quantitative\"}, {\"field\": \"total_non_null_rows\", \"type\": \"quantitative\"}, {\"field\": \"total_rows_inc_nulls\", \"type\": \"quantitative\"}], \"x\": {\"field\": \"percentile_ex_nulls\", \"sort\": \"descending\", \"title\": \"Percentile\", \"type\": \"quantitative\"}, \"y\": {\"field\": \"value_count\", \"title\": \"Count of values\", \"type\": \"quantitative\"}}, \"title\": {\"text\": \"Distribution of counts of values in column \\\"maternal_agecat\\\"\", \"subtitle\": \"In this col, 727 values (5.5%) are null and there are 4 distinct values\"}}, {\"mark\": \"bar\", \"data\": {\"values\": [{\"value_count\": 7208, \"group_name\": \"_maternal_agecat_\", \"value\": \"20-29\", \"total_non_null_rows\": 12554, \"total_rows_inc_nulls\": 13281, \"distinct_value_count\": 4}, {\"value_count\": 4669, \"group_name\": \"_maternal_agecat_\", \"value\": \"30-39\", \"total_non_null_rows\": 12554, \"total_rows_inc_nulls\": 13281, \"distinct_value_count\": 4}, {\"value_count\": 533, \"group_name\": \"_maternal_agecat_\", \"value\": \"<20\", \"total_non_null_rows\": 12554, \"total_rows_inc_nulls\": 13281, \"distinct_value_count\": 4}, {\"value_count\": 144, \"group_name\": \"_maternal_agecat_\", \"value\": \"40+\", \"total_non_null_rows\": 12554, \"total_rows_inc_nulls\": 13281, \"distinct_value_count\": 4}]}, \"encoding\": {\"tooltip\": [{\"field\": \"value\", \"type\": \"nominal\"}, {\"field\": \"value_count\", \"type\": \"quantitative\"}, {\"field\": \"total_non_null_rows\", \"type\": \"quantitative\"}, {\"field\": \"total_rows_inc_nulls\", \"type\": \"quantitative\"}], \"x\": {\"field\": \"value\", \"sort\": \"-y\", \"title\": null, \"type\": \"nominal\"}, \"y\": {\"field\": \"value_count\", \"title\": \"Value count\", \"type\": \"quantitative\"}}, \"title\": \"Top 4 values by value count\"}, {\"mark\": \"bar\", \"data\": {\"values\": [{\"value_count\": 144, \"group_name\": \"_maternal_agecat_\", \"value\": \"40+\", \"total_non_null_rows\": 12554, \"total_rows_inc_nulls\": 13281, \"distinct_value_count\": 4}, {\"value_count\": 533, \"group_name\": \"_maternal_agecat_\", \"value\": \"<20\", \"total_non_null_rows\": 12554, \"total_rows_inc_nulls\": 13281, \"distinct_value_count\": 4}, {\"value_count\": 4669, \"group_name\": \"_maternal_agecat_\", \"value\": \"30-39\", \"total_non_null_rows\": 12554, \"total_rows_inc_nulls\": 13281, \"distinct_value_count\": 4}, {\"value_count\": 7208, \"group_name\": \"_maternal_agecat_\", \"value\": \"20-29\", \"total_non_null_rows\": 12554, \"total_rows_inc_nulls\": 13281, \"distinct_value_count\": 4}]}, \"encoding\": {\"tooltip\": [{\"field\": \"value\", \"type\": \"nominal\"}, {\"field\": \"value_count\", \"type\": \"quantitative\"}, {\"field\": \"total_non_null_rows\", \"type\": \"quantitative\"}, {\"field\": \"total_rows_inc_nulls\", \"type\": \"quantitative\"}], \"x\": {\"field\": \"value\", \"sort\": \"-y\", \"title\": null, \"type\": \"nominal\"}, \"y\": {\"field\": \"value_count\", \"scale\": {\"domain\": [0, 7208]}, \"title\": \"Value count\", \"type\": \"quantitative\"}}, \"title\": \"Bottom 4 values by value count\"}]}, {\"hconcat\": [{\"mark\": {\"type\": \"line\", \"interpolate\": \"step-after\"}, \"data\": {\"values\": [{\"percentile_ex_nulls\": 0.02558767795562744, \"percentile_inc_nulls\": 0.1885400414466858, \"value_count\": 10777, \"group_name\": \"_ethgroup_\", \"total_non_null_rows\": 11060, \"total_rows_inc_nulls\": 13281, \"sum_tokens_in_value_count_group\": 10777.0, \"distinct_value_count\": 4}, {\"percentile_ex_nulls\": 0.014466524124145508, \"percentile_inc_nulls\": 0.1792786717414856, \"value_count\": 123, \"group_name\": \"_ethgroup_\", \"total_non_null_rows\": 11060, \"total_rows_inc_nulls\": 13281, \"sum_tokens_in_value_count_group\": 123.0, \"distinct_value_count\": 4}, {\"percentile_ex_nulls\": 0.005063295364379883, \"percentile_inc_nulls\": 0.17144793272018433, \"value_count\": 104, \"group_name\": \"_ethgroup_\", \"total_non_null_rows\": 11060, \"total_rows_inc_nulls\": 13281, \"sum_tokens_in_value_count_group\": 104.0, \"distinct_value_count\": 4}, {\"percentile_ex_nulls\": 0.0, \"percentile_inc_nulls\": 0.16723138093948364, \"value_count\": 56, \"group_name\": \"_ethgroup_\", \"total_non_null_rows\": 11060, \"total_rows_inc_nulls\": 13281, \"sum_tokens_in_value_count_group\": 56.0, \"distinct_value_count\": 4}, {\"percentile_ex_nulls\": 1.0, \"percentile_inc_nulls\": 1.0, \"value_count\": 10777, \"group_name\": \"_ethgroup_\", \"total_non_null_rows\": 11060, \"total_rows_inc_nulls\": 13281, \"sum_tokens_in_value_count_group\": 10777.0, \"distinct_value_count\": 4}]}, \"encoding\": {\"tooltip\": [{\"field\": \"value_count\", \"type\": \"quantitative\"}, {\"field\": \"percentile_ex_nulls\", \"type\": \"quantitative\"}, {\"field\": \"percentile_inc_nulls\", \"type\": \"quantitative\"}, {\"field\": \"total_non_null_rows\", \"type\": \"quantitative\"}, {\"field\": \"total_rows_inc_nulls\", \"type\": \"quantitative\"}], \"x\": {\"field\": \"percentile_ex_nulls\", \"sort\": \"descending\", \"title\": \"Percentile\", \"type\": \"quantitative\"}, \"y\": {\"field\": \"value_count\", \"title\": \"Count of values\", \"type\": \"quantitative\"}}, \"title\": {\"text\": \"Distribution of counts of values in column \\\"ethgroup\\\"\", \"subtitle\": \"In this col, 2,221 values (16.7%) are null and there are 4 distinct values\"}}, {\"mark\": \"bar\", \"data\": {\"values\": [{\"value_count\": 10777, \"group_name\": \"_ethgroup_\", \"value\": \"White\", \"total_non_null_rows\": 11060, \"total_rows_inc_nulls\": 13281, \"distinct_value_count\": 4}, {\"value_count\": 123, \"group_name\": \"_ethgroup_\", \"value\": \"Black\", \"total_non_null_rows\": 11060, \"total_rows_inc_nulls\": 13281, \"distinct_value_count\": 4}, {\"value_count\": 104, \"group_name\": \"_ethgroup_\", \"value\": \"Asian\", \"total_non_null_rows\": 11060, \"total_rows_inc_nulls\": 13281, \"distinct_value_count\": 4}, {\"value_count\": 56, \"group_name\": \"_ethgroup_\", \"value\": \"Other\", \"total_non_null_rows\": 11060, \"total_rows_inc_nulls\": 13281, \"distinct_value_count\": 4}]}, \"encoding\": {\"tooltip\": [{\"field\": \"value\", \"type\": \"nominal\"}, {\"field\": \"value_count\", \"type\": \"quantitative\"}, {\"field\": \"total_non_null_rows\", \"type\": \"quantitative\"}, {\"field\": \"total_rows_inc_nulls\", \"type\": \"quantitative\"}], \"x\": {\"field\": \"value\", \"sort\": \"-y\", \"title\": null, \"type\": \"nominal\"}, \"y\": {\"field\": \"value_count\", \"title\": \"Value count\", \"type\": \"quantitative\"}}, \"title\": \"Top 4 values by value count\"}, {\"mark\": \"bar\", \"data\": {\"values\": [{\"value_count\": 56, \"group_name\": \"_ethgroup_\", \"value\": \"Other\", \"total_non_null_rows\": 11060, \"total_rows_inc_nulls\": 13281, \"distinct_value_count\": 4}, {\"value_count\": 104, \"group_name\": \"_ethgroup_\", \"value\": \"Asian\", \"total_non_null_rows\": 11060, \"total_rows_inc_nulls\": 13281, \"distinct_value_count\": 4}, {\"value_count\": 123, \"group_name\": \"_ethgroup_\", \"value\": \"Black\", \"total_non_null_rows\": 11060, \"total_rows_inc_nulls\": 13281, \"distinct_value_count\": 4}, {\"value_count\": 10777, \"group_name\": \"_ethgroup_\", \"value\": \"White\", \"total_non_null_rows\": 11060, \"total_rows_inc_nulls\": 13281, \"distinct_value_count\": 4}]}, \"encoding\": {\"tooltip\": [{\"field\": \"value\", \"type\": \"nominal\"}, {\"field\": \"value_count\", \"type\": \"quantitative\"}, {\"field\": \"total_non_null_rows\", \"type\": \"quantitative\"}, {\"field\": \"total_rows_inc_nulls\", \"type\": \"quantitative\"}], \"x\": {\"field\": \"value\", \"sort\": \"-y\", \"title\": null, \"type\": \"nominal\"}, \"y\": {\"field\": \"value_count\", \"scale\": {\"domain\": [0, 10777]}, \"title\": \"Value count\", \"type\": \"quantitative\"}}, \"title\": \"Bottom 4 values by value count\"}]}, {\"hconcat\": [{\"mark\": {\"type\": \"line\", \"interpolate\": \"step-after\"}, \"data\": {\"values\": [{\"percentile_ex_nulls\": 0.4934869408607483, \"percentile_inc_nulls\": 0.4934869408607483, \"value_count\": 6727, \"group_name\": \"_g1_gender_arc_\", \"total_non_null_rows\": 13281, \"total_rows_inc_nulls\": 13281, \"sum_tokens_in_value_count_group\": 6727.0, \"distinct_value_count\": 2}, {\"percentile_ex_nulls\": 0.0, \"percentile_inc_nulls\": 0.0, \"value_count\": 6554, \"group_name\": \"_g1_gender_arc_\", \"total_non_null_rows\": 13281, \"total_rows_inc_nulls\": 13281, \"sum_tokens_in_value_count_group\": 6554.0, \"distinct_value_count\": 2}, {\"percentile_ex_nulls\": 1.0, \"percentile_inc_nulls\": 1.0, \"value_count\": 6727, \"group_name\": \"_g1_gender_arc_\", \"total_non_null_rows\": 13281, \"total_rows_inc_nulls\": 13281, \"sum_tokens_in_value_count_group\": 6727.0, \"distinct_value_count\": 2}]}, \"encoding\": {\"tooltip\": [{\"field\": \"value_count\", \"type\": \"quantitative\"}, {\"field\": \"percentile_ex_nulls\", \"type\": \"quantitative\"}, {\"field\": \"percentile_inc_nulls\", \"type\": \"quantitative\"}, {\"field\": \"total_non_null_rows\", \"type\": \"quantitative\"}, {\"field\": \"total_rows_inc_nulls\", \"type\": \"quantitative\"}], \"x\": {\"field\": \"percentile_ex_nulls\", \"sort\": \"descending\", \"title\": \"Percentile\", \"type\": \"quantitative\"}, \"y\": {\"field\": \"value_count\", \"title\": \"Count of values\", \"type\": \"quantitative\"}}, \"title\": {\"text\": \"Distribution of counts of values in column \\\"g1_gender_arc\\\"\", \"subtitle\": \"In this col, 0 values (0.0%) are null and there are 2 distinct values\"}}, {\"mark\": \"bar\", \"data\": {\"values\": [{\"value_count\": 6727, \"group_name\": \"_g1_gender_arc_\", \"value\": \"Male\", \"total_non_null_rows\": 13281, \"total_rows_inc_nulls\": 13281, \"distinct_value_count\": 2}, {\"value_count\": 6554, \"group_name\": \"_g1_gender_arc_\", \"value\": \"Female\", \"total_non_null_rows\": 13281, \"total_rows_inc_nulls\": 13281, \"distinct_value_count\": 2}]}, \"encoding\": {\"tooltip\": [{\"field\": \"value\", \"type\": \"nominal\"}, {\"field\": \"value_count\", \"type\": \"quantitative\"}, {\"field\": \"total_non_null_rows\", \"type\": \"quantitative\"}, {\"field\": \"total_rows_inc_nulls\", \"type\": \"quantitative\"}], \"x\": {\"field\": \"value\", \"sort\": \"-y\", \"title\": null, \"type\": \"nominal\"}, \"y\": {\"field\": \"value_count\", \"title\": \"Value count\", \"type\": \"quantitative\"}}, \"title\": \"Top 2 values by value count\"}, {\"mark\": \"bar\", \"data\": {\"values\": [{\"value_count\": 6554, \"group_name\": \"_g1_gender_arc_\", \"value\": \"Female\", \"total_non_null_rows\": 13281, \"total_rows_inc_nulls\": 13281, \"distinct_value_count\": 2}, {\"value_count\": 6727, \"group_name\": \"_g1_gender_arc_\", \"value\": \"Male\", \"total_non_null_rows\": 13281, \"total_rows_inc_nulls\": 13281, \"distinct_value_count\": 2}]}, \"encoding\": {\"tooltip\": [{\"field\": \"value\", \"type\": \"nominal\"}, {\"field\": \"value_count\", \"type\": \"quantitative\"}, {\"field\": \"total_non_null_rows\", \"type\": \"quantitative\"}, {\"field\": \"total_rows_inc_nulls\", \"type\": \"quantitative\"}], \"x\": {\"field\": \"value\", \"sort\": \"-y\", \"title\": null, \"type\": \"nominal\"}, \"y\": {\"field\": \"value_count\", \"scale\": {\"domain\": [0, 6727]}, \"title\": \"Value count\", \"type\": \"quantitative\"}}, \"title\": \"Bottom 2 values by value count\"}]}, {\"hconcat\": [{\"mark\": {\"type\": \"line\", \"interpolate\": \"step-after\"}, \"data\": {\"values\": [{\"percentile_ex_nulls\": 0.7153310775756836, \"percentile_inc_nulls\": 0.7627437710762024, \"value_count\": 3151, \"group_name\": \"_imddecile_\", \"total_non_null_rows\": 11069, \"total_rows_inc_nulls\": 13281, \"sum_tokens_in_value_count_group\": 3151.0, \"distinct_value_count\": 5}, {\"percentile_ex_nulls\": 0.49381154775619507, \"percentile_inc_nulls\": 0.578119158744812, \"value_count\": 2452, \"group_name\": \"_imddecile_\", \"total_non_null_rows\": 11069, \"total_rows_inc_nulls\": 13281, \"sum_tokens_in_value_count_group\": 2452.0, \"distinct_value_count\": 5}, {\"percentile_ex_nulls\": 0.3234257698059082, \"percentile_inc_nulls\": 0.4361117482185364, \"value_count\": 1886, \"group_name\": \"_imddecile_\", \"total_non_null_rows\": 11069, \"total_rows_inc_nulls\": 13281, \"sum_tokens_in_value_count_group\": 1886.0, \"distinct_value_count\": 5}, {\"percentile_ex_nulls\": 0.1567440629005432, \"percentile_inc_nulls\": 0.2971915006637573, \"value_count\": 1845, \"group_name\": \"_imddecile_\", \"total_non_null_rows\": 11069, \"total_rows_inc_nulls\": 13281, \"sum_tokens_in_value_count_group\": 1845.0, \"distinct_value_count\": 5}, {\"percentile_ex_nulls\": 0.0, \"percentile_inc_nulls\": 0.16655373573303223, \"value_count\": 1735, \"group_name\": \"_imddecile_\", \"total_non_null_rows\": 11069, \"total_rows_inc_nulls\": 13281, \"sum_tokens_in_value_count_group\": 1735.0, \"distinct_value_count\": 5}, {\"percentile_ex_nulls\": 1.0, \"percentile_inc_nulls\": 1.0, \"value_count\": 3151, \"group_name\": \"_imddecile_\", \"total_non_null_rows\": 11069, \"total_rows_inc_nulls\": 13281, \"sum_tokens_in_value_count_group\": 3151.0, \"distinct_value_count\": 5}]}, \"encoding\": {\"tooltip\": [{\"field\": \"value_count\", \"type\": \"quantitative\"}, {\"field\": \"percentile_ex_nulls\", \"type\": \"quantitative\"}, {\"field\": \"percentile_inc_nulls\", \"type\": \"quantitative\"}, {\"field\": \"total_non_null_rows\", \"type\": \"quantitative\"}, {\"field\": \"total_rows_inc_nulls\", \"type\": \"quantitative\"}], \"x\": {\"field\": \"percentile_ex_nulls\", \"sort\": \"descending\", \"title\": \"Percentile\", \"type\": \"quantitative\"}, \"y\": {\"field\": \"value_count\", \"title\": \"Count of values\", \"type\": \"quantitative\"}}, \"title\": {\"text\": \"Distribution of counts of values in column \\\"imddecile\\\"\", \"subtitle\": \"In this col, 2,212 values (16.7%) are null and there are 5 distinct values\"}}, {\"mark\": \"bar\", \"data\": {\"values\": [{\"value_count\": 3151, \"group_name\": \"_imddecile_\", \"value\": \"5.0\", \"total_non_null_rows\": 11069, \"total_rows_inc_nulls\": 13281, \"distinct_value_count\": 5}, {\"value_count\": 2452, \"group_name\": \"_imddecile_\", \"value\": \"4.0\", \"total_non_null_rows\": 11069, \"total_rows_inc_nulls\": 13281, \"distinct_value_count\": 5}, {\"value_count\": 1886, \"group_name\": \"_imddecile_\", \"value\": \"1.0\", \"total_non_null_rows\": 11069, \"total_rows_inc_nulls\": 13281, \"distinct_value_count\": 5}, {\"value_count\": 1845, \"group_name\": \"_imddecile_\", \"value\": \"3.0\", \"total_non_null_rows\": 11069, \"total_rows_inc_nulls\": 13281, \"distinct_value_count\": 5}, {\"value_count\": 1735, \"group_name\": \"_imddecile_\", \"value\": \"2.0\", \"total_non_null_rows\": 11069, \"total_rows_inc_nulls\": 13281, \"distinct_value_count\": 5}]}, \"encoding\": {\"tooltip\": [{\"field\": \"value\", \"type\": \"nominal\"}, {\"field\": \"value_count\", \"type\": \"quantitative\"}, {\"field\": \"total_non_null_rows\", \"type\": \"quantitative\"}, {\"field\": \"total_rows_inc_nulls\", \"type\": \"quantitative\"}], \"x\": {\"field\": \"value\", \"sort\": \"-y\", \"title\": null, \"type\": \"nominal\"}, \"y\": {\"field\": \"value_count\", \"title\": \"Value count\", \"type\": \"quantitative\"}}, \"title\": \"Top 5 values by value count\"}, {\"mark\": \"bar\", \"data\": {\"values\": [{\"value_count\": 1735, \"group_name\": \"_imddecile_\", \"value\": \"2.0\", \"total_non_null_rows\": 11069, \"total_rows_inc_nulls\": 13281, \"distinct_value_count\": 5}, {\"value_count\": 1845, \"group_name\": \"_imddecile_\", \"value\": \"3.0\", \"total_non_null_rows\": 11069, \"total_rows_inc_nulls\": 13281, \"distinct_value_count\": 5}, {\"value_count\": 1886, \"group_name\": \"_imddecile_\", \"value\": \"1.0\", \"total_non_null_rows\": 11069, \"total_rows_inc_nulls\": 13281, \"distinct_value_count\": 5}, {\"value_count\": 2452, \"group_name\": \"_imddecile_\", \"value\": \"4.0\", \"total_non_null_rows\": 11069, \"total_rows_inc_nulls\": 13281, \"distinct_value_count\": 5}, {\"value_count\": 3151, \"group_name\": \"_imddecile_\", \"value\": \"5.0\", \"total_non_null_rows\": 11069, \"total_rows_inc_nulls\": 13281, \"distinct_value_count\": 5}]}, \"encoding\": {\"tooltip\": [{\"field\": \"value\", \"type\": \"nominal\"}, {\"field\": \"value_count\", \"type\": \"quantitative\"}, {\"field\": \"total_non_null_rows\", \"type\": \"quantitative\"}, {\"field\": \"total_rows_inc_nulls\", \"type\": \"quantitative\"}], \"x\": {\"field\": \"value\", \"sort\": \"-y\", \"title\": null, \"type\": \"nominal\"}, \"y\": {\"field\": \"value_count\", \"scale\": {\"domain\": [0, 3151]}, \"title\": \"Value count\", \"type\": \"quantitative\"}}, \"title\": \"Bottom 5 values by value count\"}]}, {\"hconcat\": [{\"mark\": {\"type\": \"line\", \"interpolate\": \"step-after\"}, \"data\": {\"values\": [{\"percentile_ex_nulls\": 0.9963105320930481, \"percentile_inc_nulls\": 0.9963105320930481, \"value_count\": 49, \"group_name\": \"_g1_dob_arc1_\", \"total_non_null_rows\": 13281, \"total_rows_inc_nulls\": 13281, \"sum_tokens_in_value_count_group\": 49.0, \"distinct_value_count\": 672}, {\"percentile_ex_nulls\": 0.9930728077888489, \"percentile_inc_nulls\": 0.9930728077888489, \"value_count\": 43, \"group_name\": \"_g1_dob_arc1_\", \"total_non_null_rows\": 13281, \"total_rows_inc_nulls\": 13281, \"sum_tokens_in_value_count_group\": 43.0, \"distinct_value_count\": 672}, {\"percentile_ex_nulls\": 0.9900609850883484, \"percentile_inc_nulls\": 0.9900609850883484, \"value_count\": 40, \"group_name\": \"_g1_dob_arc1_\", \"total_non_null_rows\": 13281, \"total_rows_inc_nulls\": 13281, \"sum_tokens_in_value_count_group\": 40.0, \"distinct_value_count\": 672}, {\"percentile_ex_nulls\": 0.9841879606246948, \"percentile_inc_nulls\": 0.9841879606246948, \"value_count\": 39, \"group_name\": \"_g1_dob_arc1_\", \"total_non_null_rows\": 13281, \"total_rows_inc_nulls\": 13281, \"sum_tokens_in_value_count_group\": 78.0, \"distinct_value_count\": 672}, {\"percentile_ex_nulls\": 0.9784654974937439, \"percentile_inc_nulls\": 0.9784654974937439, \"value_count\": 38, \"group_name\": \"_g1_dob_arc1_\", \"total_non_null_rows\": 13281, \"total_rows_inc_nulls\": 13281, \"sum_tokens_in_value_count_group\": 76.0, \"distinct_value_count\": 672}, {\"percentile_ex_nulls\": 0.9673217535018921, \"percentile_inc_nulls\": 0.9673217535018921, \"value_count\": 37, \"group_name\": \"_g1_dob_arc1_\", \"total_non_null_rows\": 13281, \"total_rows_inc_nulls\": 13281, \"sum_tokens_in_value_count_group\": 148.0, \"distinct_value_count\": 672}, {\"percentile_ex_nulls\": 0.9591898322105408, \"percentile_inc_nulls\": 0.9591898322105408, \"value_count\": 36, \"group_name\": \"_g1_dob_arc1_\", \"total_non_null_rows\": 13281, \"total_rows_inc_nulls\": 13281, \"sum_tokens_in_value_count_group\": 108.0, \"distinct_value_count\": 672}, {\"percentile_ex_nulls\": 0.9512838125228882, \"percentile_inc_nulls\": 0.9512838125228882, \"value_count\": 35, \"group_name\": \"_g1_dob_arc1_\", \"total_non_null_rows\": 13281, \"total_rows_inc_nulls\": 13281, \"sum_tokens_in_value_count_group\": 105.0, \"distinct_value_count\": 672}, {\"percentile_ex_nulls\": 0.9384835362434387, \"percentile_inc_nulls\": 0.9384835362434387, \"value_count\": 34, \"group_name\": \"_g1_dob_arc1_\", \"total_non_null_rows\": 13281, \"total_rows_inc_nulls\": 13281, \"sum_tokens_in_value_count_group\": 170.0, \"distinct_value_count\": 672}, {\"percentile_ex_nulls\": 0.9161207675933838, \"percentile_inc_nulls\": 0.9161207675933838, \"value_count\": 33, \"group_name\": \"_g1_dob_arc1_\", \"total_non_null_rows\": 13281, \"total_rows_inc_nulls\": 13281, \"sum_tokens_in_value_count_group\": 297.0, \"distinct_value_count\": 672}, {\"percentile_ex_nulls\": 0.8968451023101807, \"percentile_inc_nulls\": 0.8968451023101807, \"value_count\": 32, \"group_name\": \"_g1_dob_arc1_\", \"total_non_null_rows\": 13281, \"total_rows_inc_nulls\": 13281, \"sum_tokens_in_value_count_group\": 256.0, \"distinct_value_count\": 672}, {\"percentile_ex_nulls\": 0.8641668558120728, \"percentile_inc_nulls\": 0.8641668558120728, \"value_count\": 31, \"group_name\": \"_g1_dob_arc1_\", \"total_non_null_rows\": 13281, \"total_rows_inc_nulls\": 13281, \"sum_tokens_in_value_count_group\": 434.0, \"distinct_value_count\": 672}, {\"percentile_ex_nulls\": 0.8189895153045654, \"percentile_inc_nulls\": 0.8189895153045654, \"value_count\": 30, \"group_name\": \"_g1_dob_arc1_\", \"total_non_null_rows\": 13281, \"total_rows_inc_nulls\": 13281, \"sum_tokens_in_value_count_group\": 600.0, \"distinct_value_count\": 672}, {\"percentile_ex_nulls\": 0.7862359881401062, \"percentile_inc_nulls\": 0.7862359881401062, \"value_count\": 29, \"group_name\": \"_g1_dob_arc1_\", \"total_non_null_rows\": 13281, \"total_rows_inc_nulls\": 13281, \"sum_tokens_in_value_count_group\": 435.0, \"distinct_value_count\": 672}, {\"percentile_ex_nulls\": 0.7546118497848511, \"percentile_inc_nulls\": 0.7546118497848511, \"value_count\": 28, \"group_name\": \"_g1_dob_arc1_\", \"total_non_null_rows\": 13281, \"total_rows_inc_nulls\": 13281, \"sum_tokens_in_value_count_group\": 420.0, \"distinct_value_count\": 672}, {\"percentile_ex_nulls\": 0.7058203220367432, \"percentile_inc_nulls\": 0.7058203220367432, \"value_count\": 27, \"group_name\": \"_g1_dob_arc1_\", \"total_non_null_rows\": 13281, \"total_rows_inc_nulls\": 13281, \"sum_tokens_in_value_count_group\": 648.0, \"distinct_value_count\": 672}, {\"percentile_ex_nulls\": 0.6607936024665833, \"percentile_inc_nulls\": 0.6607936024665833, \"value_count\": 26, \"group_name\": \"_g1_dob_arc1_\", \"total_non_null_rows\": 13281, \"total_rows_inc_nulls\": 13281, \"sum_tokens_in_value_count_group\": 598.0, \"distinct_value_count\": 672}, {\"percentile_ex_nulls\": 0.6174986958503723, \"percentile_inc_nulls\": 0.6174986958503723, \"value_count\": 25, \"group_name\": \"_g1_dob_arc1_\", \"total_non_null_rows\": 13281, \"total_rows_inc_nulls\": 13281, \"sum_tokens_in_value_count_group\": 575.0, \"distinct_value_count\": 672}, {\"percentile_ex_nulls\": 0.5596717000007629, \"percentile_inc_nulls\": 0.5596717000007629, \"value_count\": 24, \"group_name\": \"_g1_dob_arc1_\", \"total_non_null_rows\": 13281, \"total_rows_inc_nulls\": 13281, \"sum_tokens_in_value_count_group\": 768.0, \"distinct_value_count\": 672}, {\"percentile_ex_nulls\": 0.5025224089622498, \"percentile_inc_nulls\": 0.5025224089622498, \"value_count\": 23, \"group_name\": \"_g1_dob_arc1_\", \"total_non_null_rows\": 13281, \"total_rows_inc_nulls\": 13281, \"sum_tokens_in_value_count_group\": 759.0, \"distinct_value_count\": 672}, {\"percentile_ex_nulls\": 0.4511708617210388, \"percentile_inc_nulls\": 0.4511708617210388, \"value_count\": 22, \"group_name\": \"_g1_dob_arc1_\", \"total_non_null_rows\": 13281, \"total_rows_inc_nulls\": 13281, \"sum_tokens_in_value_count_group\": 682.0, \"distinct_value_count\": 672}, {\"percentile_ex_nulls\": 0.3895037770271301, \"percentile_inc_nulls\": 0.3895037770271301, \"value_count\": 21, \"group_name\": \"_g1_dob_arc1_\", \"total_non_null_rows\": 13281, \"total_rows_inc_nulls\": 13281, \"sum_tokens_in_value_count_group\": 819.0, \"distinct_value_count\": 672}, {\"percentile_ex_nulls\": 0.3217378258705139, \"percentile_inc_nulls\": 0.3217378258705139, \"value_count\": 20, \"group_name\": \"_g1_dob_arc1_\", \"total_non_null_rows\": 13281, \"total_rows_inc_nulls\": 13281, \"sum_tokens_in_value_count_group\": 900.0, \"distinct_value_count\": 672}, {\"percentile_ex_nulls\": 0.2630826234817505, \"percentile_inc_nulls\": 0.2630826234817505, \"value_count\": 19, \"group_name\": \"_g1_dob_arc1_\", \"total_non_null_rows\": 13281, \"total_rows_inc_nulls\": 13281, \"sum_tokens_in_value_count_group\": 779.0, \"distinct_value_count\": 672}, {\"percentile_ex_nulls\": 0.2224230170249939, \"percentile_inc_nulls\": 0.2224230170249939, \"value_count\": 18, \"group_name\": \"_g1_dob_arc1_\", \"total_non_null_rows\": 13281, \"total_rows_inc_nulls\": 13281, \"sum_tokens_in_value_count_group\": 540.0, \"distinct_value_count\": 672}, {\"percentile_ex_nulls\": 0.18530231714248657, \"percentile_inc_nulls\": 0.18530231714248657, \"value_count\": 17, \"group_name\": \"_g1_dob_arc1_\", \"total_non_null_rows\": 13281, \"total_rows_inc_nulls\": 13281, \"sum_tokens_in_value_count_group\": 493.0, \"distinct_value_count\": 672}, {\"percentile_ex_nulls\": 0.14072734117507935, \"percentile_inc_nulls\": 0.14072734117507935, \"value_count\": 16, \"group_name\": \"_g1_dob_arc1_\", \"total_non_null_rows\": 13281, \"total_rows_inc_nulls\": 13281, \"sum_tokens_in_value_count_group\": 592.0, \"distinct_value_count\": 672}, {\"percentile_ex_nulls\": 0.11700928211212158, \"percentile_inc_nulls\": 0.11700928211212158, \"value_count\": 15, \"group_name\": \"_g1_dob_arc1_\", \"total_non_null_rows\": 13281, \"total_rows_inc_nulls\": 13281, \"sum_tokens_in_value_count_group\": 315.0, \"distinct_value_count\": 672}, {\"percentile_ex_nulls\": 0.09170997142791748, \"percentile_inc_nulls\": 0.09170997142791748, \"value_count\": 14, \"group_name\": \"_g1_dob_arc1_\", \"total_non_null_rows\": 13281, \"total_rows_inc_nulls\": 13281, \"sum_tokens_in_value_count_group\": 336.0, \"distinct_value_count\": 672}, {\"percentile_ex_nulls\": 0.06919658184051514, \"percentile_inc_nulls\": 0.06919658184051514, \"value_count\": 13, \"group_name\": \"_g1_dob_arc1_\", \"total_non_null_rows\": 13281, \"total_rows_inc_nulls\": 13281, \"sum_tokens_in_value_count_group\": 299.0, \"distinct_value_count\": 672}, {\"percentile_ex_nulls\": 0.04841500520706177, \"percentile_inc_nulls\": 0.04841500520706177, \"value_count\": 12, \"group_name\": \"_g1_dob_arc1_\", \"total_non_null_rows\": 13281, \"total_rows_inc_nulls\": 13281, \"sum_tokens_in_value_count_group\": 276.0, \"distinct_value_count\": 672}, {\"percentile_ex_nulls\": 0.03599125146865845, \"percentile_inc_nulls\": 0.03599125146865845, \"value_count\": 11, \"group_name\": \"_g1_dob_arc1_\", \"total_non_null_rows\": 13281, \"total_rows_inc_nulls\": 13281, \"sum_tokens_in_value_count_group\": 165.0, \"distinct_value_count\": 672}, {\"percentile_ex_nulls\": 0.027708768844604492, \"percentile_inc_nulls\": 0.027708768844604492, \"value_count\": 10, \"group_name\": \"_g1_dob_arc1_\", \"total_non_null_rows\": 13281, \"total_rows_inc_nulls\": 13281, \"sum_tokens_in_value_count_group\": 110.0, \"distinct_value_count\": 672}, {\"percentile_ex_nulls\": 0.018899202346801758, \"percentile_inc_nulls\": 0.018899202346801758, \"value_count\": 9, \"group_name\": \"_g1_dob_arc1_\", \"total_non_null_rows\": 13281, \"total_rows_inc_nulls\": 13281, \"sum_tokens_in_value_count_group\": 117.0, \"distinct_value_count\": 672}, {\"percentile_ex_nulls\": 0.011068463325500488, \"percentile_inc_nulls\": 0.011068463325500488, \"value_count\": 8, \"group_name\": \"_g1_dob_arc1_\", \"total_non_null_rows\": 13281, \"total_rows_inc_nulls\": 13281, \"sum_tokens_in_value_count_group\": 104.0, \"distinct_value_count\": 672}, {\"percentile_ex_nulls\": 0.008433103561401367, \"percentile_inc_nulls\": 0.008433103561401367, \"value_count\": 7, \"group_name\": \"_g1_dob_arc1_\", \"total_non_null_rows\": 13281, \"total_rows_inc_nulls\": 13281, \"sum_tokens_in_value_count_group\": 35.0, \"distinct_value_count\": 672}, {\"percentile_ex_nulls\": 0.006626009941101074, \"percentile_inc_nulls\": 0.006626009941101074, \"value_count\": 6, \"group_name\": \"_g1_dob_arc1_\", \"total_non_null_rows\": 13281, \"total_rows_inc_nulls\": 13281, \"sum_tokens_in_value_count_group\": 24.0, \"distinct_value_count\": 672}, {\"percentile_ex_nulls\": 0.003990650177001953, \"percentile_inc_nulls\": 0.003990650177001953, \"value_count\": 5, \"group_name\": \"_g1_dob_arc1_\", \"total_non_null_rows\": 13281, \"total_rows_inc_nulls\": 13281, \"sum_tokens_in_value_count_group\": 35.0, \"distinct_value_count\": 672}, {\"percentile_ex_nulls\": 0.0018823742866516113, \"percentile_inc_nulls\": 0.0018823742866516113, \"value_count\": 4, \"group_name\": \"_g1_dob_arc1_\", \"total_non_null_rows\": 13281, \"total_rows_inc_nulls\": 13281, \"sum_tokens_in_value_count_group\": 28.0, \"distinct_value_count\": 672}, {\"percentile_ex_nulls\": 0.0012047290802001953, \"percentile_inc_nulls\": 0.0012047290802001953, \"value_count\": 3, \"group_name\": \"_g1_dob_arc1_\", \"total_non_null_rows\": 13281, \"total_rows_inc_nulls\": 13281, \"sum_tokens_in_value_count_group\": 9.0, \"distinct_value_count\": 672}, {\"percentile_ex_nulls\": 0.0007529258728027344, \"percentile_inc_nulls\": 0.0007529258728027344, \"value_count\": 2, \"group_name\": \"_g1_dob_arc1_\", \"total_non_null_rows\": 13281, \"total_rows_inc_nulls\": 13281, \"sum_tokens_in_value_count_group\": 6.0, \"distinct_value_count\": 672}, {\"percentile_ex_nulls\": 0.0, \"percentile_inc_nulls\": 0.0, \"value_count\": 1, \"group_name\": \"_g1_dob_arc1_\", \"total_non_null_rows\": 13281, \"total_rows_inc_nulls\": 13281, \"sum_tokens_in_value_count_group\": 10.0, \"distinct_value_count\": 672}, {\"percentile_ex_nulls\": 1.0, \"percentile_inc_nulls\": 1.0, \"value_count\": 49, \"group_name\": \"_g1_dob_arc1_\", \"total_non_null_rows\": 13281, \"total_rows_inc_nulls\": 13281, \"sum_tokens_in_value_count_group\": 49.0, \"distinct_value_count\": 672}]}, \"encoding\": {\"tooltip\": [{\"field\": \"value_count\", \"type\": \"quantitative\"}, {\"field\": \"percentile_ex_nulls\", \"type\": \"quantitative\"}, {\"field\": \"percentile_inc_nulls\", \"type\": \"quantitative\"}, {\"field\": \"total_non_null_rows\", \"type\": \"quantitative\"}, {\"field\": \"total_rows_inc_nulls\", \"type\": \"quantitative\"}], \"x\": {\"field\": \"percentile_ex_nulls\", \"sort\": \"descending\", \"title\": \"Percentile\", \"type\": \"quantitative\"}, \"y\": {\"field\": \"value_count\", \"title\": \"Count of values\", \"type\": \"quantitative\"}}, \"title\": {\"text\": \"Distribution of counts of values in column \\\"g1_dob_arc1\\\"\", \"subtitle\": \"In this col, 0 values (0.0%) are null and there are 672 distinct values\"}}, {\"mark\": \"bar\", \"data\": {\"values\": [{\"value_count\": 49, \"group_name\": \"_g1_dob_arc1_\", \"value\": \"1991-08-19\", \"total_non_null_rows\": 13281, \"total_rows_inc_nulls\": 13281, \"distinct_value_count\": 672}, {\"value_count\": 43, \"group_name\": \"_g1_dob_arc1_\", \"value\": \"1992-03-30\", \"total_non_null_rows\": 13281, \"total_rows_inc_nulls\": 13281, \"distinct_value_count\": 672}, {\"value_count\": 40, \"group_name\": \"_g1_dob_arc1_\", \"value\": \"1991-09-18\", \"total_non_null_rows\": 13281, \"total_rows_inc_nulls\": 13281, \"distinct_value_count\": 672}, {\"value_count\": 39, \"group_name\": \"_g1_dob_arc1_\", \"value\": \"1992-06-30\", \"total_non_null_rows\": 13281, \"total_rows_inc_nulls\": 13281, \"distinct_value_count\": 672}, {\"value_count\": 39, \"group_name\": \"_g1_dob_arc1_\", \"value\": \"1991-11-18\", \"total_non_null_rows\": 13281, \"total_rows_inc_nulls\": 13281, \"distinct_value_count\": 672}, {\"value_count\": 38, \"group_name\": \"_g1_dob_arc1_\", \"value\": \"1991-08-23\", \"total_non_null_rows\": 13281, \"total_rows_inc_nulls\": 13281, \"distinct_value_count\": 672}, {\"value_count\": 38, \"group_name\": \"_g1_dob_arc1_\", \"value\": \"1992-07-31\", \"total_non_null_rows\": 13281, \"total_rows_inc_nulls\": 13281, \"distinct_value_count\": 672}, {\"value_count\": 37, \"group_name\": \"_g1_dob_arc1_\", \"value\": \"1991-06-16\", \"total_non_null_rows\": 13281, \"total_rows_inc_nulls\": 13281, \"distinct_value_count\": 672}, {\"value_count\": 37, \"group_name\": \"_g1_dob_arc1_\", \"value\": \"1992-05-22\", \"total_non_null_rows\": 13281, \"total_rows_inc_nulls\": 13281, \"distinct_value_count\": 672}, {\"value_count\": 37, \"group_name\": \"_g1_dob_arc1_\", \"value\": \"1991-07-24\", \"total_non_null_rows\": 13281, \"total_rows_inc_nulls\": 13281, \"distinct_value_count\": 672}]}, \"encoding\": {\"tooltip\": [{\"field\": \"value\", \"type\": \"nominal\"}, {\"field\": \"value_count\", \"type\": \"quantitative\"}, {\"field\": \"total_non_null_rows\", \"type\": \"quantitative\"}, {\"field\": \"total_rows_inc_nulls\", \"type\": \"quantitative\"}], \"x\": {\"field\": \"value\", \"sort\": \"-y\", \"title\": null, \"type\": \"nominal\"}, \"y\": {\"field\": \"value_count\", \"title\": \"Value count\", \"type\": \"quantitative\"}}, \"title\": \"Top 10 values by value count\"}, {\"mark\": \"bar\", \"data\": {\"values\": [{\"value_count\": 1, \"group_name\": \"_g1_dob_arc1_\", \"value\": \"1993-01-08\", \"total_non_null_rows\": 13281, \"total_rows_inc_nulls\": 13281, \"distinct_value_count\": 672}, {\"value_count\": 1, \"group_name\": \"_g1_dob_arc1_\", \"value\": \"1991-03-07\", \"total_non_null_rows\": 13281, \"total_rows_inc_nulls\": 13281, \"distinct_value_count\": 672}, {\"value_count\": 1, \"group_name\": \"_g1_dob_arc1_\", \"value\": \"1991-03-05\", \"total_non_null_rows\": 13281, \"total_rows_inc_nulls\": 13281, \"distinct_value_count\": 672}, {\"value_count\": 1, \"group_name\": \"_g1_dob_arc1_\", \"value\": \"1991-02-17\", \"total_non_null_rows\": 13281, \"total_rows_inc_nulls\": 13281, \"distinct_value_count\": 672}, {\"value_count\": 1, \"group_name\": \"_g1_dob_arc1_\", \"value\": \"1991-03-15\", \"total_non_null_rows\": 13281, \"total_rows_inc_nulls\": 13281, \"distinct_value_count\": 672}, {\"value_count\": 1, \"group_name\": \"_g1_dob_arc1_\", \"value\": \"1991-03-23\", \"total_non_null_rows\": 13281, \"total_rows_inc_nulls\": 13281, \"distinct_value_count\": 672}, {\"value_count\": 1, \"group_name\": \"_g1_dob_arc1_\", \"value\": \"1991-03-25\", \"total_non_null_rows\": 13281, \"total_rows_inc_nulls\": 13281, \"distinct_value_count\": 672}, {\"value_count\": 1, \"group_name\": \"_g1_dob_arc1_\", \"value\": \"1993-01-04\", \"total_non_null_rows\": 13281, \"total_rows_inc_nulls\": 13281, \"distinct_value_count\": 672}, {\"value_count\": 1, \"group_name\": \"_g1_dob_arc1_\", \"value\": \"1993-01-14\", \"total_non_null_rows\": 13281, \"total_rows_inc_nulls\": 13281, \"distinct_value_count\": 672}, {\"value_count\": 1, \"group_name\": \"_g1_dob_arc1_\", \"value\": \"1993-01-05\", \"total_non_null_rows\": 13281, \"total_rows_inc_nulls\": 13281, \"distinct_value_count\": 672}]}, \"encoding\": {\"tooltip\": [{\"field\": \"value\", \"type\": \"nominal\"}, {\"field\": \"value_count\", \"type\": \"quantitative\"}, {\"field\": \"total_non_null_rows\", \"type\": \"quantitative\"}, {\"field\": \"total_rows_inc_nulls\", \"type\": \"quantitative\"}], \"x\": {\"field\": \"value\", \"sort\": \"-y\", \"title\": null, \"type\": \"nominal\"}, \"y\": {\"field\": \"value_count\", \"scale\": {\"domain\": [0, 49]}, \"title\": \"Value count\", \"type\": \"quantitative\"}}, \"title\": \"Bottom 10 values by value count\"}]}, {\"hconcat\": [{\"mark\": {\"type\": \"line\", \"interpolate\": \"step-after\"}, \"data\": {\"values\": [{\"percentile_ex_nulls\": 0.9913409948348999, \"percentile_inc_nulls\": 0.9913409948348999, \"value_count\": 115, \"group_name\": \"_syn_g0_surname_\", \"total_non_null_rows\": 13281, \"total_rows_inc_nulls\": 13281, \"sum_tokens_in_value_count_group\": 115.0, \"distinct_value_count\": 7385}, {\"percentile_ex_nulls\": 0.9839620590209961, \"percentile_inc_nulls\": 0.9839620590209961, \"value_count\": 98, \"group_name\": \"_syn_g0_surname_\", \"total_non_null_rows\": 13281, \"total_rows_inc_nulls\": 13281, \"sum_tokens_in_value_count_group\": 98.0, \"distinct_value_count\": 7385}, {\"percentile_ex_nulls\": 0.9774113297462463, \"percentile_inc_nulls\": 0.9774113297462463, \"value_count\": 87, \"group_name\": \"_syn_g0_surname_\", \"total_non_null_rows\": 13281, \"total_rows_inc_nulls\": 13281, \"sum_tokens_in_value_count_group\": 87.0, \"distinct_value_count\": 7385}, {\"percentile_ex_nulls\": 0.9733453989028931, \"percentile_inc_nulls\": 0.9733453989028931, \"value_count\": 54, \"group_name\": \"_syn_g0_surname_\", \"total_non_null_rows\": 13281, \"total_rows_inc_nulls\": 13281, \"sum_tokens_in_value_count_group\": 54.0, \"distinct_value_count\": 7385}, {\"percentile_ex_nulls\": 0.9693546891212463, \"percentile_inc_nulls\": 0.9693546891212463, \"value_count\": 53, \"group_name\": \"_syn_g0_surname_\", \"total_non_null_rows\": 13281, \"total_rows_inc_nulls\": 13281, \"sum_tokens_in_value_count_group\": 53.0, \"distinct_value_count\": 7385}, {\"percentile_ex_nulls\": 0.9654393196105957, \"percentile_inc_nulls\": 0.9654393196105957, \"value_count\": 52, \"group_name\": \"_syn_g0_surname_\", \"total_non_null_rows\": 13281, \"total_rows_inc_nulls\": 13281, \"sum_tokens_in_value_count_group\": 52.0, \"distinct_value_count\": 7385}, {\"percentile_ex_nulls\": 0.9616745710372925, \"percentile_inc_nulls\": 0.9616745710372925, \"value_count\": 50, \"group_name\": \"_syn_g0_surname_\", \"total_non_null_rows\": 13281, \"total_rows_inc_nulls\": 13281, \"sum_tokens_in_value_count_group\": 50.0, \"distinct_value_count\": 7385}, {\"percentile_ex_nulls\": 0.9582110047340393, \"percentile_inc_nulls\": 0.9582110047340393, \"value_count\": 46, \"group_name\": \"_syn_g0_surname_\", \"total_non_null_rows\": 13281, \"total_rows_inc_nulls\": 13281, \"sum_tokens_in_value_count_group\": 46.0, \"distinct_value_count\": 7385}, {\"percentile_ex_nulls\": 0.9548226594924927, \"percentile_inc_nulls\": 0.9548226594924927, \"value_count\": 45, \"group_name\": \"_syn_g0_surname_\", \"total_non_null_rows\": 13281, \"total_rows_inc_nulls\": 13281, \"sum_tokens_in_value_count_group\": 45.0, \"distinct_value_count\": 7385}, {\"percentile_ex_nulls\": 0.9515096545219421, \"percentile_inc_nulls\": 0.9515096545219421, \"value_count\": 44, \"group_name\": \"_syn_g0_surname_\", \"total_non_null_rows\": 13281, \"total_rows_inc_nulls\": 13281, \"sum_tokens_in_value_count_group\": 44.0, \"distinct_value_count\": 7385}, {\"percentile_ex_nulls\": 0.9484978318214417, \"percentile_inc_nulls\": 0.9484978318214417, \"value_count\": 40, \"group_name\": \"_syn_g0_surname_\", \"total_non_null_rows\": 13281, \"total_rows_inc_nulls\": 13281, \"sum_tokens_in_value_count_group\": 40.0, \"distinct_value_count\": 7385}, {\"percentile_ex_nulls\": 0.9456366300582886, \"percentile_inc_nulls\": 0.9456366300582886, \"value_count\": 38, \"group_name\": \"_syn_g0_surname_\", \"total_non_null_rows\": 13281, \"total_rows_inc_nulls\": 13281, \"sum_tokens_in_value_count_group\": 38.0, \"distinct_value_count\": 7385}, {\"percentile_ex_nulls\": 0.9429259896278381, \"percentile_inc_nulls\": 0.9429259896278381, \"value_count\": 36, \"group_name\": \"_syn_g0_surname_\", \"total_non_null_rows\": 13281, \"total_rows_inc_nulls\": 13281, \"sum_tokens_in_value_count_group\": 36.0, \"distinct_value_count\": 7385}, {\"percentile_ex_nulls\": 0.940290629863739, \"percentile_inc_nulls\": 0.940290629863739, \"value_count\": 35, \"group_name\": \"_syn_g0_surname_\", \"total_non_null_rows\": 13281, \"total_rows_inc_nulls\": 13281, \"sum_tokens_in_value_count_group\": 35.0, \"distinct_value_count\": 7385}, {\"percentile_ex_nulls\": 0.9328364133834839, \"percentile_inc_nulls\": 0.9328364133834839, \"value_count\": 33, \"group_name\": \"_syn_g0_surname_\", \"total_non_null_rows\": 13281, \"total_rows_inc_nulls\": 13281, \"sum_tokens_in_value_count_group\": 99.0, \"distinct_value_count\": 7385}, {\"percentile_ex_nulls\": 0.9280174970626831, \"percentile_inc_nulls\": 0.9280174970626831, \"value_count\": 32, \"group_name\": \"_syn_g0_surname_\", \"total_non_null_rows\": 13281, \"total_rows_inc_nulls\": 13281, \"sum_tokens_in_value_count_group\": 64.0, \"distinct_value_count\": 7385}, {\"percentile_ex_nulls\": 0.9234997034072876, \"percentile_inc_nulls\": 0.9234997034072876, \"value_count\": 30, \"group_name\": \"_syn_g0_surname_\", \"total_non_null_rows\": 13281, \"total_rows_inc_nulls\": 13281, \"sum_tokens_in_value_count_group\": 60.0, \"distinct_value_count\": 7385}, {\"percentile_ex_nulls\": 0.921391487121582, \"percentile_inc_nulls\": 0.921391487121582, \"value_count\": 28, \"group_name\": \"_syn_g0_surname_\", \"total_non_null_rows\": 13281, \"total_rows_inc_nulls\": 13281, \"sum_tokens_in_value_count_group\": 28.0, \"distinct_value_count\": 7385}, {\"percentile_ex_nulls\": 0.919358491897583, \"percentile_inc_nulls\": 0.919358491897583, \"value_count\": 27, \"group_name\": \"_syn_g0_surname_\", \"total_non_null_rows\": 13281, \"total_rows_inc_nulls\": 13281, \"sum_tokens_in_value_count_group\": 27.0, \"distinct_value_count\": 7385}, {\"percentile_ex_nulls\": 0.9137113094329834, \"percentile_inc_nulls\": 0.9137113094329834, \"value_count\": 25, \"group_name\": \"_syn_g0_surname_\", \"total_non_null_rows\": 13281, \"total_rows_inc_nulls\": 13281, \"sum_tokens_in_value_count_group\": 75.0, \"distinct_value_count\": 7385}, {\"percentile_ex_nulls\": 0.9028687477111816, \"percentile_inc_nulls\": 0.9028687477111816, \"value_count\": 24, \"group_name\": \"_syn_g0_surname_\", \"total_non_null_rows\": 13281, \"total_rows_inc_nulls\": 13281, \"sum_tokens_in_value_count_group\": 144.0, \"distinct_value_count\": 7385}, {\"percentile_ex_nulls\": 0.8976733684539795, \"percentile_inc_nulls\": 0.8976733684539795, \"value_count\": 23, \"group_name\": \"_syn_g0_surname_\", \"total_non_null_rows\": 13281, \"total_rows_inc_nulls\": 13281, \"sum_tokens_in_value_count_group\": 69.0, \"distinct_value_count\": 7385}, {\"percentile_ex_nulls\": 0.886077880859375, \"percentile_inc_nulls\": 0.886077880859375, \"value_count\": 22, \"group_name\": \"_syn_g0_surname_\", \"total_non_null_rows\": 13281, \"total_rows_inc_nulls\": 13281, \"sum_tokens_in_value_count_group\": 154.0, \"distinct_value_count\": 7385}, {\"percentile_ex_nulls\": 0.8781718015670776, \"percentile_inc_nulls\": 0.8781718015670776, \"value_count\": 21, \"group_name\": \"_syn_g0_surname_\", \"total_non_null_rows\": 13281, \"total_rows_inc_nulls\": 13281, \"sum_tokens_in_value_count_group\": 105.0, \"distinct_value_count\": 7385}, {\"percentile_ex_nulls\": 0.8691363334655762, \"percentile_inc_nulls\": 0.8691363334655762, \"value_count\": 20, \"group_name\": \"_syn_g0_surname_\", \"total_non_null_rows\": 13281, \"total_rows_inc_nulls\": 13281, \"sum_tokens_in_value_count_group\": 120.0, \"distinct_value_count\": 7385}, {\"percentile_ex_nulls\": 0.8619832992553711, \"percentile_inc_nulls\": 0.8619832992553711, \"value_count\": 19, \"group_name\": \"_syn_g0_surname_\", \"total_non_null_rows\": 13281, \"total_rows_inc_nulls\": 13281, \"sum_tokens_in_value_count_group\": 95.0, \"distinct_value_count\": 7385}, {\"percentile_ex_nulls\": 0.8552066683769226, \"percentile_inc_nulls\": 0.8552066683769226, \"value_count\": 18, \"group_name\": \"_syn_g0_surname_\", \"total_non_null_rows\": 13281, \"total_rows_inc_nulls\": 13281, \"sum_tokens_in_value_count_group\": 90.0, \"distinct_value_count\": 7385}, {\"percentile_ex_nulls\": 0.8513666391372681, \"percentile_inc_nulls\": 0.8513666391372681, \"value_count\": 17, \"group_name\": \"_syn_g0_surname_\", \"total_non_null_rows\": 13281, \"total_rows_inc_nulls\": 13281, \"sum_tokens_in_value_count_group\": 51.0, \"distinct_value_count\": 7385}, {\"percentile_ex_nulls\": 0.8381146192550659, \"percentile_inc_nulls\": 0.8381146192550659, \"value_count\": 16, \"group_name\": \"_syn_g0_surname_\", \"total_non_null_rows\": 13281, \"total_rows_inc_nulls\": 13281, \"sum_tokens_in_value_count_group\": 176.0, \"distinct_value_count\": 7385}, {\"percentile_ex_nulls\": 0.8347263336181641, \"percentile_inc_nulls\": 0.8347263336181641, \"value_count\": 15, \"group_name\": \"_syn_g0_surname_\", \"total_non_null_rows\": 13281, \"total_rows_inc_nulls\": 13281, \"sum_tokens_in_value_count_group\": 45.0, \"distinct_value_count\": 7385}, {\"percentile_ex_nulls\": 0.8178601264953613, \"percentile_inc_nulls\": 0.8178601264953613, \"value_count\": 14, \"group_name\": \"_syn_g0_surname_\", \"total_non_null_rows\": 13281, \"total_rows_inc_nulls\": 13281, \"sum_tokens_in_value_count_group\": 224.0, \"distinct_value_count\": 7385}, {\"percentile_ex_nulls\": 0.8149235844612122, \"percentile_inc_nulls\": 0.8149235844612122, \"value_count\": 13, \"group_name\": \"_syn_g0_surname_\", \"total_non_null_rows\": 13281, \"total_rows_inc_nulls\": 13281, \"sum_tokens_in_value_count_group\": 39.0, \"distinct_value_count\": 7385}, {\"percentile_ex_nulls\": 0.8004668354988098, \"percentile_inc_nulls\": 0.8004668354988098, \"value_count\": 12, \"group_name\": \"_syn_g0_surname_\", \"total_non_null_rows\": 13281, \"total_rows_inc_nulls\": 13281, \"sum_tokens_in_value_count_group\": 192.0, \"distinct_value_count\": 7385}, {\"percentile_ex_nulls\": 0.7880430817604065, \"percentile_inc_nulls\": 0.7880430817604065, \"value_count\": 11, \"group_name\": \"_syn_g0_surname_\", \"total_non_null_rows\": 13281, \"total_rows_inc_nulls\": 13281, \"sum_tokens_in_value_count_group\": 165.0, \"distinct_value_count\": 7385}, {\"percentile_ex_nulls\": 0.7714780569076538, \"percentile_inc_nulls\": 0.7714780569076538, \"value_count\": 10, \"group_name\": \"_syn_g0_surname_\", \"total_non_null_rows\": 13281, \"total_rows_inc_nulls\": 13281, \"sum_tokens_in_value_count_group\": 220.0, \"distinct_value_count\": 7385}, {\"percentile_ex_nulls\": 0.7558918595314026, \"percentile_inc_nulls\": 0.7558918595314026, \"value_count\": 9, \"group_name\": \"_syn_g0_surname_\", \"total_non_null_rows\": 13281, \"total_rows_inc_nulls\": 13281, \"sum_tokens_in_value_count_group\": 207.0, \"distinct_value_count\": 7385}, {\"percentile_ex_nulls\": 0.7396280765533447, \"percentile_inc_nulls\": 0.7396280765533447, \"value_count\": 8, \"group_name\": \"_syn_g0_surname_\", \"total_non_null_rows\": 13281, \"total_rows_inc_nulls\": 13281, \"sum_tokens_in_value_count_group\": 216.0, \"distinct_value_count\": 7385}, {\"percentile_ex_nulls\": 0.7217077016830444, \"percentile_inc_nulls\": 0.7217077016830444, \"value_count\": 7, \"group_name\": \"_syn_g0_surname_\", \"total_non_null_rows\": 13281, \"total_rows_inc_nulls\": 13281, \"sum_tokens_in_value_count_group\": 238.0, \"distinct_value_count\": 7385}, {\"percentile_ex_nulls\": 0.6982154846191406, \"percentile_inc_nulls\": 0.6982154846191406, \"value_count\": 6, \"group_name\": \"_syn_g0_surname_\", \"total_non_null_rows\": 13281, \"total_rows_inc_nulls\": 13281, \"sum_tokens_in_value_count_group\": 312.0, \"distinct_value_count\": 7385}, {\"percentile_ex_nulls\": 0.6620736122131348, \"percentile_inc_nulls\": 0.6620736122131348, \"value_count\": 5, \"group_name\": \"_syn_g0_surname_\", \"total_non_null_rows\": 13281, \"total_rows_inc_nulls\": 13281, \"sum_tokens_in_value_count_group\": 480.0, \"distinct_value_count\": 7385}, {\"percentile_ex_nulls\": 0.6196069717407227, \"percentile_inc_nulls\": 0.6196069717407227, \"value_count\": 4, \"group_name\": \"_syn_g0_surname_\", \"total_non_null_rows\": 13281, \"total_rows_inc_nulls\": 13281, \"sum_tokens_in_value_count_group\": 564.0, \"distinct_value_count\": 7385}, {\"percentile_ex_nulls\": 0.5604246854782104, \"percentile_inc_nulls\": 0.5604246854782104, \"value_count\": 3, \"group_name\": \"_syn_g0_surname_\", \"total_non_null_rows\": 13281, \"total_rows_inc_nulls\": 13281, \"sum_tokens_in_value_count_group\": 786.0, \"distinct_value_count\": 7385}, {\"percentile_ex_nulls\": 0.4331752061843872, \"percentile_inc_nulls\": 0.4331752061843872, \"value_count\": 2, \"group_name\": \"_syn_g0_surname_\", \"total_non_null_rows\": 13281, \"total_rows_inc_nulls\": 13281, \"sum_tokens_in_value_count_group\": 1690.0, \"distinct_value_count\": 7385}, {\"percentile_ex_nulls\": 0.0, \"percentile_inc_nulls\": 0.0, \"value_count\": 1, \"group_name\": \"_syn_g0_surname_\", \"total_non_null_rows\": 13281, \"total_rows_inc_nulls\": 13281, \"sum_tokens_in_value_count_group\": 5753.0, \"distinct_value_count\": 7385}, {\"percentile_ex_nulls\": 1.0, \"percentile_inc_nulls\": 1.0, \"value_count\": 115, \"group_name\": \"_syn_g0_surname_\", \"total_non_null_rows\": 13281, \"total_rows_inc_nulls\": 13281, \"sum_tokens_in_value_count_group\": 115.0, \"distinct_value_count\": 7385}]}, \"encoding\": {\"tooltip\": [{\"field\": \"value_count\", \"type\": \"quantitative\"}, {\"field\": \"percentile_ex_nulls\", \"type\": \"quantitative\"}, {\"field\": \"percentile_inc_nulls\", \"type\": \"quantitative\"}, {\"field\": \"total_non_null_rows\", \"type\": \"quantitative\"}, {\"field\": \"total_rows_inc_nulls\", \"type\": \"quantitative\"}], \"x\": {\"field\": \"percentile_ex_nulls\", \"sort\": \"descending\", \"title\": \"Percentile\", \"type\": \"quantitative\"}, \"y\": {\"field\": \"value_count\", \"title\": \"Count of values\", \"type\": \"quantitative\"}}, \"title\": {\"text\": \"Distribution of counts of values in column \\\"syn_g0_surname\\\"\", \"subtitle\": \"In this col, 0 values (0.0%) are null and there are 7385 distinct values\"}}, {\"mark\": \"bar\", \"data\": {\"values\": [{\"value_count\": 115, \"group_name\": \"_syn_g0_surname_\", \"value\": \"smith\", \"total_non_null_rows\": 13281, \"total_rows_inc_nulls\": 13281, \"distinct_value_count\": 7385}, {\"value_count\": 98, \"group_name\": \"_syn_g0_surname_\", \"value\": \"jones\", \"total_non_null_rows\": 13281, \"total_rows_inc_nulls\": 13281, \"distinct_value_count\": 7385}, {\"value_count\": 87, \"group_name\": \"_syn_g0_surname_\", \"value\": \"taylor\", \"total_non_null_rows\": 13281, \"total_rows_inc_nulls\": 13281, \"distinct_value_count\": 7385}, {\"value_count\": 54, \"group_name\": \"_syn_g0_surname_\", \"value\": \"wilson\", \"total_non_null_rows\": 13281, \"total_rows_inc_nulls\": 13281, \"distinct_value_count\": 7385}, {\"value_count\": 53, \"group_name\": \"_syn_g0_surname_\", \"value\": \"williams\", \"total_non_null_rows\": 13281, \"total_rows_inc_nulls\": 13281, \"distinct_value_count\": 7385}, {\"value_count\": 52, \"group_name\": \"_syn_g0_surname_\", \"value\": \"brown\", \"total_non_null_rows\": 13281, \"total_rows_inc_nulls\": 13281, \"distinct_value_count\": 7385}, {\"value_count\": 50, \"group_name\": \"_syn_g0_surname_\", \"value\": \"roberts\", \"total_non_null_rows\": 13281, \"total_rows_inc_nulls\": 13281, \"distinct_value_count\": 7385}, {\"value_count\": 46, \"group_name\": \"_syn_g0_surname_\", \"value\": \"davies\", \"total_non_null_rows\": 13281, \"total_rows_inc_nulls\": 13281, \"distinct_value_count\": 7385}, {\"value_count\": 45, \"group_name\": \"_syn_g0_surname_\", \"value\": \"thomas\", \"total_non_null_rows\": 13281, \"total_rows_inc_nulls\": 13281, \"distinct_value_count\": 7385}, {\"value_count\": 44, \"group_name\": \"_syn_g0_surname_\", \"value\": \"lewis\", \"total_non_null_rows\": 13281, \"total_rows_inc_nulls\": 13281, \"distinct_value_count\": 7385}]}, \"encoding\": {\"tooltip\": [{\"field\": \"value\", \"type\": \"nominal\"}, {\"field\": \"value_count\", \"type\": \"quantitative\"}, {\"field\": \"total_non_null_rows\", \"type\": \"quantitative\"}, {\"field\": \"total_rows_inc_nulls\", \"type\": \"quantitative\"}], \"x\": {\"field\": \"value\", \"sort\": \"-y\", \"title\": null, \"type\": \"nominal\"}, \"y\": {\"field\": \"value_count\", \"title\": \"Value count\", \"type\": \"quantitative\"}}, \"title\": \"Top 10 values by value count\"}, {\"mark\": \"bar\", \"data\": {\"values\": [{\"value_count\": 1, \"group_name\": \"_syn_g0_surname_\", \"value\": \"petersohn\", \"total_non_null_rows\": 13281, \"total_rows_inc_nulls\": 13281, \"distinct_value_count\": 7385}, {\"value_count\": 1, \"group_name\": \"_syn_g0_surname_\", \"value\": \"von borck\", \"total_non_null_rows\": 13281, \"total_rows_inc_nulls\": 13281, \"distinct_value_count\": 7385}, {\"value_count\": 1, \"group_name\": \"_syn_g0_surname_\", \"value\": \"heuseler\", \"total_non_null_rows\": 13281, \"total_rows_inc_nulls\": 13281, \"distinct_value_count\": 7385}, {\"value_count\": 1, \"group_name\": \"_syn_g0_surname_\", \"value\": \"e silva\", \"total_non_null_rows\": 13281, \"total_rows_inc_nulls\": 13281, \"distinct_value_count\": 7385}, {\"value_count\": 1, \"group_name\": \"_syn_g0_surname_\", \"value\": \"bissett\", \"total_non_null_rows\": 13281, \"total_rows_inc_nulls\": 13281, \"distinct_value_count\": 7385}, {\"value_count\": 1, \"group_name\": \"_syn_g0_surname_\", \"value\": \"jungke\", \"total_non_null_rows\": 13281, \"total_rows_inc_nulls\": 13281, \"distinct_value_count\": 7385}, {\"value_count\": 1, \"group_name\": \"_syn_g0_surname_\", \"value\": \"purkhardt\", \"total_non_null_rows\": 13281, \"total_rows_inc_nulls\": 13281, \"distinct_value_count\": 7385}, {\"value_count\": 1, \"group_name\": \"_syn_g0_surname_\", \"value\": \"johannes\", \"total_non_null_rows\": 13281, \"total_rows_inc_nulls\": 13281, \"distinct_value_count\": 7385}, {\"value_count\": 1, \"group_name\": \"_syn_g0_surname_\", \"value\": \"friedle\", \"total_non_null_rows\": 13281, \"total_rows_inc_nulls\": 13281, \"distinct_value_count\": 7385}, {\"value_count\": 1, \"group_name\": \"_syn_g0_surname_\", \"value\": \"kard\\u00e9n\", \"total_non_null_rows\": 13281, \"total_rows_inc_nulls\": 13281, \"distinct_value_count\": 7385}]}, \"encoding\": {\"tooltip\": [{\"field\": \"value\", \"type\": \"nominal\"}, {\"field\": \"value_count\", \"type\": \"quantitative\"}, {\"field\": \"total_non_null_rows\", \"type\": \"quantitative\"}, {\"field\": \"total_rows_inc_nulls\", \"type\": \"quantitative\"}], \"x\": {\"field\": \"value\", \"sort\": \"-y\", \"title\": null, \"type\": \"nominal\"}, \"y\": {\"field\": \"value_count\", \"scale\": {\"domain\": [0, 115]}, \"title\": \"Value count\", \"type\": \"quantitative\"}}, \"title\": \"Bottom 10 values by value count\"}]}, {\"hconcat\": [{\"mark\": {\"type\": \"line\", \"interpolate\": \"step-after\"}, \"data\": {\"values\": [{\"percentile_ex_nulls\": 0.9890821576118469, \"percentile_inc_nulls\": 0.9890821576118469, \"value_count\": 145, \"group_name\": \"_syn_g1_surname_\", \"total_non_null_rows\": 13281, \"total_rows_inc_nulls\": 13281, \"sum_tokens_in_value_count_group\": 145.0, \"distinct_value_count\": 6079}, {\"percentile_ex_nulls\": 0.9804231524467468, \"percentile_inc_nulls\": 0.9804231524467468, \"value_count\": 115, \"group_name\": \"_syn_g1_surname_\", \"total_non_null_rows\": 13281, \"total_rows_inc_nulls\": 13281, \"sum_tokens_in_value_count_group\": 115.0, \"distinct_value_count\": 6079}, {\"percentile_ex_nulls\": 0.9722912311553955, \"percentile_inc_nulls\": 0.9722912311553955, \"value_count\": 108, \"group_name\": \"_syn_g1_surname_\", \"total_non_null_rows\": 13281, \"total_rows_inc_nulls\": 13281, \"sum_tokens_in_value_count_group\": 108.0, \"distinct_value_count\": 6079}, {\"percentile_ex_nulls\": 0.9625028371810913, \"percentile_inc_nulls\": 0.9625028371810913, \"value_count\": 65, \"group_name\": \"_syn_g1_surname_\", \"total_non_null_rows\": 13281, \"total_rows_inc_nulls\": 13281, \"sum_tokens_in_value_count_group\": 130.0, \"distinct_value_count\": 6079}, {\"percentile_ex_nulls\": 0.9578344821929932, \"percentile_inc_nulls\": 0.9578344821929932, \"value_count\": 62, \"group_name\": \"_syn_g1_surname_\", \"total_non_null_rows\": 13281, \"total_rows_inc_nulls\": 13281, \"sum_tokens_in_value_count_group\": 62.0, \"distinct_value_count\": 6079}, {\"percentile_ex_nulls\": 0.9536179304122925, \"percentile_inc_nulls\": 0.9536179304122925, \"value_count\": 56, \"group_name\": \"_syn_g1_surname_\", \"total_non_null_rows\": 13281, \"total_rows_inc_nulls\": 13281, \"sum_tokens_in_value_count_group\": 56.0, \"distinct_value_count\": 6079}, {\"percentile_ex_nulls\": 0.9496272802352905, \"percentile_inc_nulls\": 0.9496272802352905, \"value_count\": 53, \"group_name\": \"_syn_g1_surname_\", \"total_non_null_rows\": 13281, \"total_rows_inc_nulls\": 13281, \"sum_tokens_in_value_count_group\": 53.0, \"distinct_value_count\": 6079}, {\"percentile_ex_nulls\": 0.9417965412139893, \"percentile_inc_nulls\": 0.9417965412139893, \"value_count\": 52, \"group_name\": \"_syn_g1_surname_\", \"total_non_null_rows\": 13281, \"total_rows_inc_nulls\": 13281, \"sum_tokens_in_value_count_group\": 104.0, \"distinct_value_count\": 6079}, {\"percentile_ex_nulls\": 0.9379564523696899, \"percentile_inc_nulls\": 0.9379564523696899, \"value_count\": 51, \"group_name\": \"_syn_g1_surname_\", \"total_non_null_rows\": 13281, \"total_rows_inc_nulls\": 13281, \"sum_tokens_in_value_count_group\": 51.0, \"distinct_value_count\": 6079}, {\"percentile_ex_nulls\": 0.9343422651290894, \"percentile_inc_nulls\": 0.9343422651290894, \"value_count\": 48, \"group_name\": \"_syn_g1_surname_\", \"total_non_null_rows\": 13281, \"total_rows_inc_nulls\": 13281, \"sum_tokens_in_value_count_group\": 48.0, \"distinct_value_count\": 6079}, {\"percentile_ex_nulls\": 0.9308786988258362, \"percentile_inc_nulls\": 0.9308786988258362, \"value_count\": 46, \"group_name\": \"_syn_g1_surname_\", \"total_non_null_rows\": 13281, \"total_rows_inc_nulls\": 13281, \"sum_tokens_in_value_count_group\": 46.0, \"distinct_value_count\": 6079}, {\"percentile_ex_nulls\": 0.9275656938552856, \"percentile_inc_nulls\": 0.9275656938552856, \"value_count\": 44, \"group_name\": \"_syn_g1_surname_\", \"total_non_null_rows\": 13281, \"total_rows_inc_nulls\": 13281, \"sum_tokens_in_value_count_group\": 44.0, \"distinct_value_count\": 6079}, {\"percentile_ex_nulls\": 0.9244785904884338, \"percentile_inc_nulls\": 0.9244785904884338, \"value_count\": 41, \"group_name\": \"_syn_g1_surname_\", \"total_non_null_rows\": 13281, \"total_rows_inc_nulls\": 13281, \"sum_tokens_in_value_count_group\": 41.0, \"distinct_value_count\": 6079}, {\"percentile_ex_nulls\": 0.9214667677879333, \"percentile_inc_nulls\": 0.9214667677879333, \"value_count\": 40, \"group_name\": \"_syn_g1_surname_\", \"total_non_null_rows\": 13281, \"total_rows_inc_nulls\": 13281, \"sum_tokens_in_value_count_group\": 40.0, \"distinct_value_count\": 6079}, {\"percentile_ex_nulls\": 0.9157443046569824, \"percentile_inc_nulls\": 0.9157443046569824, \"value_count\": 38, \"group_name\": \"_syn_g1_surname_\", \"total_non_null_rows\": 13281, \"total_rows_inc_nulls\": 13281, \"sum_tokens_in_value_count_group\": 76.0, \"distinct_value_count\": 6079}, {\"percentile_ex_nulls\": 0.9129583835601807, \"percentile_inc_nulls\": 0.9129583835601807, \"value_count\": 37, \"group_name\": \"_syn_g1_surname_\", \"total_non_null_rows\": 13281, \"total_rows_inc_nulls\": 13281, \"sum_tokens_in_value_count_group\": 37.0, \"distinct_value_count\": 6079}, {\"percentile_ex_nulls\": 0.9103230237960815, \"percentile_inc_nulls\": 0.9103230237960815, \"value_count\": 35, \"group_name\": \"_syn_g1_surname_\", \"total_non_null_rows\": 13281, \"total_rows_inc_nulls\": 13281, \"sum_tokens_in_value_count_group\": 35.0, \"distinct_value_count\": 6079}, {\"percentile_ex_nulls\": 0.9053534865379333, \"percentile_inc_nulls\": 0.9053534865379333, \"value_count\": 33, \"group_name\": \"_syn_g1_surname_\", \"total_non_null_rows\": 13281, \"total_rows_inc_nulls\": 13281, \"sum_tokens_in_value_count_group\": 66.0, \"distinct_value_count\": 6079}, {\"percentile_ex_nulls\": 0.9005346298217773, \"percentile_inc_nulls\": 0.9005346298217773, \"value_count\": 32, \"group_name\": \"_syn_g1_surname_\", \"total_non_null_rows\": 13281, \"total_rows_inc_nulls\": 13281, \"sum_tokens_in_value_count_group\": 64.0, \"distinct_value_count\": 6079}, {\"percentile_ex_nulls\": 0.8982004523277283, \"percentile_inc_nulls\": 0.8982004523277283, \"value_count\": 31, \"group_name\": \"_syn_g1_surname_\", \"total_non_null_rows\": 13281, \"total_rows_inc_nulls\": 13281, \"sum_tokens_in_value_count_group\": 31.0, \"distinct_value_count\": 6079}, {\"percentile_ex_nulls\": 0.8959415555000305, \"percentile_inc_nulls\": 0.8959415555000305, \"value_count\": 30, \"group_name\": \"_syn_g1_surname_\", \"total_non_null_rows\": 13281, \"total_rows_inc_nulls\": 13281, \"sum_tokens_in_value_count_group\": 30.0, \"distinct_value_count\": 6079}, {\"percentile_ex_nulls\": 0.8872072696685791, \"percentile_inc_nulls\": 0.8872072696685791, \"value_count\": 29, \"group_name\": \"_syn_g1_surname_\", \"total_non_null_rows\": 13281, \"total_rows_inc_nulls\": 13281, \"sum_tokens_in_value_count_group\": 116.0, \"distinct_value_count\": 6079}, {\"percentile_ex_nulls\": 0.8808824419975281, \"percentile_inc_nulls\": 0.8808824419975281, \"value_count\": 28, \"group_name\": \"_syn_g1_surname_\", \"total_non_null_rows\": 13281, \"total_rows_inc_nulls\": 13281, \"sum_tokens_in_value_count_group\": 84.0, \"distinct_value_count\": 6079}, {\"percentile_ex_nulls\": 0.8727505207061768, \"percentile_inc_nulls\": 0.8727505207061768, \"value_count\": 27, \"group_name\": \"_syn_g1_surname_\", \"total_non_null_rows\": 13281, \"total_rows_inc_nulls\": 13281, \"sum_tokens_in_value_count_group\": 108.0, \"distinct_value_count\": 6079}, {\"percentile_ex_nulls\": 0.8629621267318726, \"percentile_inc_nulls\": 0.8629621267318726, \"value_count\": 26, \"group_name\": \"_syn_g1_surname_\", \"total_non_null_rows\": 13281, \"total_rows_inc_nulls\": 13281, \"sum_tokens_in_value_count_group\": 130.0, \"distinct_value_count\": 6079}, {\"percentile_ex_nulls\": 0.857314944267273, \"percentile_inc_nulls\": 0.857314944267273, \"value_count\": 25, \"group_name\": \"_syn_g1_surname_\", \"total_non_null_rows\": 13281, \"total_rows_inc_nulls\": 13281, \"sum_tokens_in_value_count_group\": 75.0, \"distinct_value_count\": 6079}, {\"percentile_ex_nulls\": 0.8446652889251709, \"percentile_inc_nulls\": 0.8446652889251709, \"value_count\": 24, \"group_name\": \"_syn_g1_surname_\", \"total_non_null_rows\": 13281, \"total_rows_inc_nulls\": 13281, \"sum_tokens_in_value_count_group\": 168.0, \"distinct_value_count\": 6079}, {\"percentile_ex_nulls\": 0.8360063433647156, \"percentile_inc_nulls\": 0.8360063433647156, \"value_count\": 23, \"group_name\": \"_syn_g1_surname_\", \"total_non_null_rows\": 13281, \"total_rows_inc_nulls\": 13281, \"sum_tokens_in_value_count_group\": 115.0, \"distinct_value_count\": 6079}, {\"percentile_ex_nulls\": 0.826067328453064, \"percentile_inc_nulls\": 0.826067328453064, \"value_count\": 22, \"group_name\": \"_syn_g1_surname_\", \"total_non_null_rows\": 13281, \"total_rows_inc_nulls\": 13281, \"sum_tokens_in_value_count_group\": 132.0, \"distinct_value_count\": 6079}, {\"percentile_ex_nulls\": 0.8181612491607666, \"percentile_inc_nulls\": 0.8181612491607666, \"value_count\": 21, \"group_name\": \"_syn_g1_surname_\", \"total_non_null_rows\": 13281, \"total_rows_inc_nulls\": 13281, \"sum_tokens_in_value_count_group\": 105.0, \"distinct_value_count\": 6079}, {\"percentile_ex_nulls\": 0.8121376037597656, \"percentile_inc_nulls\": 0.8121376037597656, \"value_count\": 20, \"group_name\": \"_syn_g1_surname_\", \"total_non_null_rows\": 13281, \"total_rows_inc_nulls\": 13281, \"sum_tokens_in_value_count_group\": 80.0, \"distinct_value_count\": 6079}, {\"percentile_ex_nulls\": 0.8049845695495605, \"percentile_inc_nulls\": 0.8049845695495605, \"value_count\": 19, \"group_name\": \"_syn_g1_surname_\", \"total_non_null_rows\": 13281, \"total_rows_inc_nulls\": 13281, \"sum_tokens_in_value_count_group\": 95.0, \"distinct_value_count\": 6079}, {\"percentile_ex_nulls\": 0.7941420078277588, \"percentile_inc_nulls\": 0.7941420078277588, \"value_count\": 18, \"group_name\": \"_syn_g1_surname_\", \"total_non_null_rows\": 13281, \"total_rows_inc_nulls\": 13281, \"sum_tokens_in_value_count_group\": 144.0, \"distinct_value_count\": 6079}, {\"percentile_ex_nulls\": 0.7877418994903564, \"percentile_inc_nulls\": 0.7877418994903564, \"value_count\": 17, \"group_name\": \"_syn_g1_surname_\", \"total_non_null_rows\": 13281, \"total_rows_inc_nulls\": 13281, \"sum_tokens_in_value_count_group\": 85.0, \"distinct_value_count\": 6079}, {\"percentile_ex_nulls\": 0.7744898796081543, \"percentile_inc_nulls\": 0.7744898796081543, \"value_count\": 16, \"group_name\": \"_syn_g1_surname_\", \"total_non_null_rows\": 13281, \"total_rows_inc_nulls\": 13281, \"sum_tokens_in_value_count_group\": 176.0, \"distinct_value_count\": 6079}, {\"percentile_ex_nulls\": 0.7654544115066528, \"percentile_inc_nulls\": 0.7654544115066528, \"value_count\": 15, \"group_name\": \"_syn_g1_surname_\", \"total_non_null_rows\": 13281, \"total_rows_inc_nulls\": 13281, \"sum_tokens_in_value_count_group\": 120.0, \"distinct_value_count\": 6079}, {\"percentile_ex_nulls\": 0.7506964802742004, \"percentile_inc_nulls\": 0.7506964802742004, \"value_count\": 14, \"group_name\": \"_syn_g1_surname_\", \"total_non_null_rows\": 13281, \"total_rows_inc_nulls\": 13281, \"sum_tokens_in_value_count_group\": 196.0, \"distinct_value_count\": 6079}, {\"percentile_ex_nulls\": 0.7379715442657471, \"percentile_inc_nulls\": 0.7379715442657471, \"value_count\": 13, \"group_name\": \"_syn_g1_surname_\", \"total_non_null_rows\": 13281, \"total_rows_inc_nulls\": 13281, \"sum_tokens_in_value_count_group\": 169.0, \"distinct_value_count\": 6079}, {\"percentile_ex_nulls\": 0.725321888923645, \"percentile_inc_nulls\": 0.725321888923645, \"value_count\": 12, \"group_name\": \"_syn_g1_surname_\", \"total_non_null_rows\": 13281, \"total_rows_inc_nulls\": 13281, \"sum_tokens_in_value_count_group\": 168.0, \"distinct_value_count\": 6079}, {\"percentile_ex_nulls\": 0.7128981351852417, \"percentile_inc_nulls\": 0.7128981351852417, \"value_count\": 11, \"group_name\": \"_syn_g1_surname_\", \"total_non_null_rows\": 13281, \"total_rows_inc_nulls\": 13281, \"sum_tokens_in_value_count_group\": 165.0, \"distinct_value_count\": 6079}, {\"percentile_ex_nulls\": 0.696333110332489, \"percentile_inc_nulls\": 0.696333110332489, \"value_count\": 10, \"group_name\": \"_syn_g1_surname_\", \"total_non_null_rows\": 13281, \"total_rows_inc_nulls\": 13281, \"sum_tokens_in_value_count_group\": 220.0, \"distinct_value_count\": 6079}, {\"percentile_ex_nulls\": 0.6746479868888855, \"percentile_inc_nulls\": 0.6746479868888855, \"value_count\": 9, \"group_name\": \"_syn_g1_surname_\", \"total_non_null_rows\": 13281, \"total_rows_inc_nulls\": 13281, \"sum_tokens_in_value_count_group\": 288.0, \"distinct_value_count\": 6079}, {\"percentile_ex_nulls\": 0.6535652875900269, \"percentile_inc_nulls\": 0.6535652875900269, \"value_count\": 8, \"group_name\": \"_syn_g1_surname_\", \"total_non_null_rows\": 13281, \"total_rows_inc_nulls\": 13281, \"sum_tokens_in_value_count_group\": 280.0, \"distinct_value_count\": 6079}, {\"percentile_ex_nulls\": 0.6277388334274292, \"percentile_inc_nulls\": 0.6277388334274292, \"value_count\": 7, \"group_name\": \"_syn_g1_surname_\", \"total_non_null_rows\": 13281, \"total_rows_inc_nulls\": 13281, \"sum_tokens_in_value_count_group\": 343.0, \"distinct_value_count\": 6079}, {\"percentile_ex_nulls\": 0.5974700450897217, \"percentile_inc_nulls\": 0.5974700450897217, \"value_count\": 6, \"group_name\": \"_syn_g1_surname_\", \"total_non_null_rows\": 13281, \"total_rows_inc_nulls\": 13281, \"sum_tokens_in_value_count_group\": 402.0, \"distinct_value_count\": 6079}, {\"percentile_ex_nulls\": 0.5620811581611633, \"percentile_inc_nulls\": 0.5620811581611633, \"value_count\": 5, \"group_name\": \"_syn_g1_surname_\", \"total_non_null_rows\": 13281, \"total_rows_inc_nulls\": 13281, \"sum_tokens_in_value_count_group\": 470.0, \"distinct_value_count\": 6079}, {\"percentile_ex_nulls\": 0.5169038772583008, \"percentile_inc_nulls\": 0.5169038772583008, \"value_count\": 4, \"group_name\": \"_syn_g1_surname_\", \"total_non_null_rows\": 13281, \"total_rows_inc_nulls\": 13281, \"sum_tokens_in_value_count_group\": 600.0, \"distinct_value_count\": 6079}, {\"percentile_ex_nulls\": 0.45071905851364136, \"percentile_inc_nulls\": 0.45071905851364136, \"value_count\": 3, \"group_name\": \"_syn_g1_surname_\", \"total_non_null_rows\": 13281, \"total_rows_inc_nulls\": 13281, \"sum_tokens_in_value_count_group\": 879.0, \"distinct_value_count\": 6079}, {\"percentile_ex_nulls\": 0.32813793420791626, \"percentile_inc_nulls\": 0.32813793420791626, \"value_count\": 2, \"group_name\": \"_syn_g1_surname_\", \"total_non_null_rows\": 13281, \"total_rows_inc_nulls\": 13281, \"sum_tokens_in_value_count_group\": 1628.0, \"distinct_value_count\": 6079}, {\"percentile_ex_nulls\": 0.0, \"percentile_inc_nulls\": 0.0, \"value_count\": 1, \"group_name\": \"_syn_g1_surname_\", \"total_non_null_rows\": 13281, \"total_rows_inc_nulls\": 13281, \"sum_tokens_in_value_count_group\": 4358.0, \"distinct_value_count\": 6079}, {\"percentile_ex_nulls\": 1.0, \"percentile_inc_nulls\": 1.0, \"value_count\": 145, \"group_name\": \"_syn_g1_surname_\", \"total_non_null_rows\": 13281, \"total_rows_inc_nulls\": 13281, \"sum_tokens_in_value_count_group\": 145.0, \"distinct_value_count\": 6079}]}, \"encoding\": {\"tooltip\": [{\"field\": \"value_count\", \"type\": \"quantitative\"}, {\"field\": \"percentile_ex_nulls\", \"type\": \"quantitative\"}, {\"field\": \"percentile_inc_nulls\", \"type\": \"quantitative\"}, {\"field\": \"total_non_null_rows\", \"type\": \"quantitative\"}, {\"field\": \"total_rows_inc_nulls\", \"type\": \"quantitative\"}], \"x\": {\"field\": \"percentile_ex_nulls\", \"sort\": \"descending\", \"title\": \"Percentile\", \"type\": \"quantitative\"}, \"y\": {\"field\": \"value_count\", \"title\": \"Count of values\", \"type\": \"quantitative\"}}, \"title\": {\"text\": \"Distribution of counts of values in column \\\"syn_g1_surname\\\"\", \"subtitle\": \"In this col, 0 values (0.0%) are null and there are 6079 distinct values\"}}, {\"mark\": \"bar\", \"data\": {\"values\": [{\"value_count\": 145, \"group_name\": \"_syn_g1_surname_\", \"value\": \"smith\", \"total_non_null_rows\": 13281, \"total_rows_inc_nulls\": 13281, \"distinct_value_count\": 6079}, {\"value_count\": 115, \"group_name\": \"_syn_g1_surname_\", \"value\": \"jones\", \"total_non_null_rows\": 13281, \"total_rows_inc_nulls\": 13281, \"distinct_value_count\": 6079}, {\"value_count\": 108, \"group_name\": \"_syn_g1_surname_\", \"value\": \"taylor\", \"total_non_null_rows\": 13281, \"total_rows_inc_nulls\": 13281, \"distinct_value_count\": 6079}, {\"value_count\": 65, \"group_name\": \"_syn_g1_surname_\", \"value\": \"brown\", \"total_non_null_rows\": 13281, \"total_rows_inc_nulls\": 13281, \"distinct_value_count\": 6079}, {\"value_count\": 65, \"group_name\": \"_syn_g1_surname_\", \"value\": \"williams\", \"total_non_null_rows\": 13281, \"total_rows_inc_nulls\": 13281, \"distinct_value_count\": 6079}, {\"value_count\": 62, \"group_name\": \"_syn_g1_surname_\", \"value\": \"davies\", \"total_non_null_rows\": 13281, \"total_rows_inc_nulls\": 13281, \"distinct_value_count\": 6079}, {\"value_count\": 56, \"group_name\": \"_syn_g1_surname_\", \"value\": \"roberts\", \"total_non_null_rows\": 13281, \"total_rows_inc_nulls\": 13281, \"distinct_value_count\": 6079}, {\"value_count\": 53, \"group_name\": \"_syn_g1_surname_\", \"value\": \"wilson\", \"total_non_null_rows\": 13281, \"total_rows_inc_nulls\": 13281, \"distinct_value_count\": 6079}, {\"value_count\": 52, \"group_name\": \"_syn_g1_surname_\", \"value\": \"johnson\", \"total_non_null_rows\": 13281, \"total_rows_inc_nulls\": 13281, \"distinct_value_count\": 6079}, {\"value_count\": 52, \"group_name\": \"_syn_g1_surname_\", \"value\": \"lewis\", \"total_non_null_rows\": 13281, \"total_rows_inc_nulls\": 13281, \"distinct_value_count\": 6079}]}, \"encoding\": {\"tooltip\": [{\"field\": \"value\", \"type\": \"nominal\"}, {\"field\": \"value_count\", \"type\": \"quantitative\"}, {\"field\": \"total_non_null_rows\", \"type\": \"quantitative\"}, {\"field\": \"total_rows_inc_nulls\", \"type\": \"quantitative\"}], \"x\": {\"field\": \"value\", \"sort\": \"-y\", \"title\": null, \"type\": \"nominal\"}, \"y\": {\"field\": \"value_count\", \"title\": \"Value count\", \"type\": \"quantitative\"}}, \"title\": \"Top 10 values by value count\"}, {\"mark\": \"bar\", \"data\": {\"values\": [{\"value_count\": 1, \"group_name\": \"_syn_g1_surname_\", \"value\": \"colwell\", \"total_non_null_rows\": 13281, \"total_rows_inc_nulls\": 13281, \"distinct_value_count\": 6079}, {\"value_count\": 1, \"group_name\": \"_syn_g1_surname_\", \"value\": \"kristofersson\", \"total_non_null_rows\": 13281, \"total_rows_inc_nulls\": 13281, \"distinct_value_count\": 6079}, {\"value_count\": 1, \"group_name\": \"_syn_g1_surname_\", \"value\": \"\\u00e5s\", \"total_non_null_rows\": 13281, \"total_rows_inc_nulls\": 13281, \"distinct_value_count\": 6079}, {\"value_count\": 1, \"group_name\": \"_syn_g1_surname_\", \"value\": \"hocker\", \"total_non_null_rows\": 13281, \"total_rows_inc_nulls\": 13281, \"distinct_value_count\": 6079}, {\"value_count\": 1, \"group_name\": \"_syn_g1_surname_\", \"value\": \"conradt\", \"total_non_null_rows\": 13281, \"total_rows_inc_nulls\": 13281, \"distinct_value_count\": 6079}, {\"value_count\": 1, \"group_name\": \"_syn_g1_surname_\", \"value\": \"schimansky\", \"total_non_null_rows\": 13281, \"total_rows_inc_nulls\": 13281, \"distinct_value_count\": 6079}, {\"value_count\": 1, \"group_name\": \"_syn_g1_surname_\", \"value\": \"scheurer\", \"total_non_null_rows\": 13281, \"total_rows_inc_nulls\": 13281, \"distinct_value_count\": 6079}, {\"value_count\": 1, \"group_name\": \"_syn_g1_surname_\", \"value\": \"gilles\", \"total_non_null_rows\": 13281, \"total_rows_inc_nulls\": 13281, \"distinct_value_count\": 6079}, {\"value_count\": 1, \"group_name\": \"_syn_g1_surname_\", \"value\": \"mulder\", \"total_non_null_rows\": 13281, \"total_rows_inc_nulls\": 13281, \"distinct_value_count\": 6079}, {\"value_count\": 1, \"group_name\": \"_syn_g1_surname_\", \"value\": \"nyegaard\", \"total_non_null_rows\": 13281, \"total_rows_inc_nulls\": 13281, \"distinct_value_count\": 6079}]}, \"encoding\": {\"tooltip\": [{\"field\": \"value\", \"type\": \"nominal\"}, {\"field\": \"value_count\", \"type\": \"quantitative\"}, {\"field\": \"total_non_null_rows\", \"type\": \"quantitative\"}, {\"field\": \"total_rows_inc_nulls\", \"type\": \"quantitative\"}], \"x\": {\"field\": \"value\", \"sort\": \"-y\", \"title\": null, \"type\": \"nominal\"}, \"y\": {\"field\": \"value_count\", \"scale\": {\"domain\": [0, 145]}, \"title\": \"Value count\", \"type\": \"quantitative\"}}, \"title\": \"Bottom 10 values by value count\"}]}, {\"hconcat\": [{\"mark\": {\"type\": \"line\", \"interpolate\": \"step-after\"}, \"data\": {\"values\": [{\"percentile_ex_nulls\": 0.9846397042274475, \"percentile_inc_nulls\": 0.9846397042274475, \"value_count\": 204, \"group_name\": \"_syn_g1_firstname_\", \"total_non_null_rows\": 13281, \"total_rows_inc_nulls\": 13281, \"sum_tokens_in_value_count_group\": 204.0, \"distinct_value_count\": 2580}, {\"percentile_ex_nulls\": 0.9695053100585938, \"percentile_inc_nulls\": 0.9695053100585938, \"value_count\": 201, \"group_name\": \"_syn_g1_firstname_\", \"total_non_null_rows\": 13281, \"total_rows_inc_nulls\": 13281, \"sum_tokens_in_value_count_group\": 201.0, \"distinct_value_count\": 2580}, {\"percentile_ex_nulls\": 0.9559521079063416, \"percentile_inc_nulls\": 0.9559521079063416, \"value_count\": 180, \"group_name\": \"_syn_g1_firstname_\", \"total_non_null_rows\": 13281, \"total_rows_inc_nulls\": 13281, \"sum_tokens_in_value_count_group\": 180.0, \"distinct_value_count\": 2580}, {\"percentile_ex_nulls\": 0.9439048171043396, \"percentile_inc_nulls\": 0.9439048171043396, \"value_count\": 160, \"group_name\": \"_syn_g1_firstname_\", \"total_non_null_rows\": 13281, \"total_rows_inc_nulls\": 13281, \"sum_tokens_in_value_count_group\": 160.0, \"distinct_value_count\": 2580}, {\"percentile_ex_nulls\": 0.9323093295097351, \"percentile_inc_nulls\": 0.9323093295097351, \"value_count\": 154, \"group_name\": \"_syn_g1_firstname_\", \"total_non_null_rows\": 13281, \"total_rows_inc_nulls\": 13281, \"sum_tokens_in_value_count_group\": 154.0, \"distinct_value_count\": 2580}, {\"percentile_ex_nulls\": 0.909268856048584, \"percentile_inc_nulls\": 0.909268856048584, \"value_count\": 153, \"group_name\": \"_syn_g1_firstname_\", \"total_non_null_rows\": 13281, \"total_rows_inc_nulls\": 13281, \"sum_tokens_in_value_count_group\": 306.0, \"distinct_value_count\": 2580}, {\"percentile_ex_nulls\": 0.8901438117027283, \"percentile_inc_nulls\": 0.8901438117027283, \"value_count\": 127, \"group_name\": \"_syn_g1_firstname_\", \"total_non_null_rows\": 13281, \"total_rows_inc_nulls\": 13281, \"sum_tokens_in_value_count_group\": 254.0, \"distinct_value_count\": 2580}, {\"percentile_ex_nulls\": 0.8808071613311768, \"percentile_inc_nulls\": 0.8808071613311768, \"value_count\": 124, \"group_name\": \"_syn_g1_firstname_\", \"total_non_null_rows\": 13281, \"total_rows_inc_nulls\": 13281, \"sum_tokens_in_value_count_group\": 124.0, \"distinct_value_count\": 2580}, {\"percentile_ex_nulls\": 0.8717716932296753, \"percentile_inc_nulls\": 0.8717716932296753, \"value_count\": 120, \"group_name\": \"_syn_g1_firstname_\", \"total_non_null_rows\": 13281, \"total_rows_inc_nulls\": 13281, \"sum_tokens_in_value_count_group\": 120.0, \"distinct_value_count\": 2580}, {\"percentile_ex_nulls\": 0.8538513779640198, \"percentile_inc_nulls\": 0.8538513779640198, \"value_count\": 119, \"group_name\": \"_syn_g1_firstname_\", \"total_non_null_rows\": 13281, \"total_rows_inc_nulls\": 13281, \"sum_tokens_in_value_count_group\": 238.0, \"distinct_value_count\": 2580}, {\"percentile_ex_nulls\": 0.8453429937362671, \"percentile_inc_nulls\": 0.8453429937362671, \"value_count\": 113, \"group_name\": \"_syn_g1_firstname_\", \"total_non_null_rows\": 13281, \"total_rows_inc_nulls\": 13281, \"sum_tokens_in_value_count_group\": 113.0, \"distinct_value_count\": 2580}, {\"percentile_ex_nulls\": 0.8369098901748657, \"percentile_inc_nulls\": 0.8369098901748657, \"value_count\": 112, \"group_name\": \"_syn_g1_firstname_\", \"total_non_null_rows\": 13281, \"total_rows_inc_nulls\": 13281, \"sum_tokens_in_value_count_group\": 112.0, \"distinct_value_count\": 2580}, {\"percentile_ex_nulls\": 0.828627347946167, \"percentile_inc_nulls\": 0.828627347946167, \"value_count\": 110, \"group_name\": \"_syn_g1_firstname_\", \"total_non_null_rows\": 13281, \"total_rows_inc_nulls\": 13281, \"sum_tokens_in_value_count_group\": 110.0, \"distinct_value_count\": 2580}, {\"percentile_ex_nulls\": 0.8204954266548157, \"percentile_inc_nulls\": 0.8204954266548157, \"value_count\": 108, \"group_name\": \"_syn_g1_firstname_\", \"total_non_null_rows\": 13281, \"total_rows_inc_nulls\": 13281, \"sum_tokens_in_value_count_group\": 108.0, \"distinct_value_count\": 2580}, {\"percentile_ex_nulls\": 0.8125894069671631, \"percentile_inc_nulls\": 0.8125894069671631, \"value_count\": 105, \"group_name\": \"_syn_g1_firstname_\", \"total_non_null_rows\": 13281, \"total_rows_inc_nulls\": 13281, \"sum_tokens_in_value_count_group\": 105.0, \"distinct_value_count\": 2580}, {\"percentile_ex_nulls\": 0.8049092888832092, \"percentile_inc_nulls\": 0.8049092888832092, \"value_count\": 102, \"group_name\": \"_syn_g1_firstname_\", \"total_non_null_rows\": 13281, \"total_rows_inc_nulls\": 13281, \"sum_tokens_in_value_count_group\": 102.0, \"distinct_value_count\": 2580}, {\"percentile_ex_nulls\": 0.7976056337356567, \"percentile_inc_nulls\": 0.7976056337356567, \"value_count\": 97, \"group_name\": \"_syn_g1_firstname_\", \"total_non_null_rows\": 13281, \"total_rows_inc_nulls\": 13281, \"sum_tokens_in_value_count_group\": 97.0, \"distinct_value_count\": 2580}, {\"percentile_ex_nulls\": 0.7903772592544556, \"percentile_inc_nulls\": 0.7903772592544556, \"value_count\": 96, \"group_name\": \"_syn_g1_firstname_\", \"total_non_null_rows\": 13281, \"total_rows_inc_nulls\": 13281, \"sum_tokens_in_value_count_group\": 96.0, \"distinct_value_count\": 2580}, {\"percentile_ex_nulls\": 0.7835253477096558, \"percentile_inc_nulls\": 0.7835253477096558, \"value_count\": 91, \"group_name\": \"_syn_g1_firstname_\", \"total_non_null_rows\": 13281, \"total_rows_inc_nulls\": 13281, \"sum_tokens_in_value_count_group\": 91.0, \"distinct_value_count\": 2580}, {\"percentile_ex_nulls\": 0.7699721455574036, \"percentile_inc_nulls\": 0.7699721455574036, \"value_count\": 90, \"group_name\": \"_syn_g1_firstname_\", \"total_non_null_rows\": 13281, \"total_rows_inc_nulls\": 13281, \"sum_tokens_in_value_count_group\": 180.0, \"distinct_value_count\": 2580}, {\"percentile_ex_nulls\": 0.7634967565536499, \"percentile_inc_nulls\": 0.7634967565536499, \"value_count\": 86, \"group_name\": \"_syn_g1_firstname_\", \"total_non_null_rows\": 13281, \"total_rows_inc_nulls\": 13281, \"sum_tokens_in_value_count_group\": 86.0, \"distinct_value_count\": 2580}, {\"percentile_ex_nulls\": 0.7570965886116028, \"percentile_inc_nulls\": 0.7570965886116028, \"value_count\": 85, \"group_name\": \"_syn_g1_firstname_\", \"total_non_null_rows\": 13281, \"total_rows_inc_nulls\": 13281, \"sum_tokens_in_value_count_group\": 85.0, \"distinct_value_count\": 2580}, {\"percentile_ex_nulls\": 0.7390257120132446, \"percentile_inc_nulls\": 0.7390257120132446, \"value_count\": 80, \"group_name\": \"_syn_g1_firstname_\", \"total_non_null_rows\": 13281, \"total_rows_inc_nulls\": 13281, \"sum_tokens_in_value_count_group\": 240.0, \"distinct_value_count\": 2580}, {\"percentile_ex_nulls\": 0.7333031892776489, \"percentile_inc_nulls\": 0.7333031892776489, \"value_count\": 76, \"group_name\": \"_syn_g1_firstname_\", \"total_non_null_rows\": 13281, \"total_rows_inc_nulls\": 13281, \"sum_tokens_in_value_count_group\": 76.0, \"distinct_value_count\": 2580}, {\"percentile_ex_nulls\": 0.7276560068130493, \"percentile_inc_nulls\": 0.7276560068130493, \"value_count\": 75, \"group_name\": \"_syn_g1_firstname_\", \"total_non_null_rows\": 13281, \"total_rows_inc_nulls\": 13281, \"sum_tokens_in_value_count_group\": 75.0, \"distinct_value_count\": 2580}, {\"percentile_ex_nulls\": 0.7165123224258423, \"percentile_inc_nulls\": 0.7165123224258423, \"value_count\": 74, \"group_name\": \"_syn_g1_firstname_\", \"total_non_null_rows\": 13281, \"total_rows_inc_nulls\": 13281, \"sum_tokens_in_value_count_group\": 148.0, \"distinct_value_count\": 2580}, {\"percentile_ex_nulls\": 0.7110157012939453, \"percentile_inc_nulls\": 0.7110157012939453, \"value_count\": 73, \"group_name\": \"_syn_g1_firstname_\", \"total_non_null_rows\": 13281, \"total_rows_inc_nulls\": 13281, \"sum_tokens_in_value_count_group\": 73.0, \"distinct_value_count\": 2580}, {\"percentile_ex_nulls\": 0.7055944204330444, \"percentile_inc_nulls\": 0.7055944204330444, \"value_count\": 72, \"group_name\": \"_syn_g1_firstname_\", \"total_non_null_rows\": 13281, \"total_rows_inc_nulls\": 13281, \"sum_tokens_in_value_count_group\": 72.0, \"distinct_value_count\": 2580}, {\"percentile_ex_nulls\": 0.7002484798431396, \"percentile_inc_nulls\": 0.7002484798431396, \"value_count\": 71, \"group_name\": \"_syn_g1_firstname_\", \"total_non_null_rows\": 13281, \"total_rows_inc_nulls\": 13281, \"sum_tokens_in_value_count_group\": 71.0, \"distinct_value_count\": 2580}, {\"percentile_ex_nulls\": 0.6950531005859375, \"percentile_inc_nulls\": 0.6950531005859375, \"value_count\": 69, \"group_name\": \"_syn_g1_firstname_\", \"total_non_null_rows\": 13281, \"total_rows_inc_nulls\": 13281, \"sum_tokens_in_value_count_group\": 69.0, \"distinct_value_count\": 2580}, {\"percentile_ex_nulls\": 0.6899329423904419, \"percentile_inc_nulls\": 0.6899329423904419, \"value_count\": 68, \"group_name\": \"_syn_g1_firstname_\", \"total_non_null_rows\": 13281, \"total_rows_inc_nulls\": 13281, \"sum_tokens_in_value_count_group\": 68.0, \"distinct_value_count\": 2580}, {\"percentile_ex_nulls\": 0.6798434257507324, \"percentile_inc_nulls\": 0.6798434257507324, \"value_count\": 67, \"group_name\": \"_syn_g1_firstname_\", \"total_non_null_rows\": 13281, \"total_rows_inc_nulls\": 13281, \"sum_tokens_in_value_count_group\": 134.0, \"distinct_value_count\": 2580}, {\"percentile_ex_nulls\": 0.6749491691589355, \"percentile_inc_nulls\": 0.6749491691589355, \"value_count\": 65, \"group_name\": \"_syn_g1_firstname_\", \"total_non_null_rows\": 13281, \"total_rows_inc_nulls\": 13281, \"sum_tokens_in_value_count_group\": 65.0, \"distinct_value_count\": 2580}, {\"percentile_ex_nulls\": 0.6701302528381348, \"percentile_inc_nulls\": 0.6701302528381348, \"value_count\": 64, \"group_name\": \"_syn_g1_firstname_\", \"total_non_null_rows\": 13281, \"total_rows_inc_nulls\": 13281, \"sum_tokens_in_value_count_group\": 64.0, \"distinct_value_count\": 2580}, {\"percentile_ex_nulls\": 0.6654618978500366, \"percentile_inc_nulls\": 0.6654618978500366, \"value_count\": 62, \"group_name\": \"_syn_g1_firstname_\", \"total_non_null_rows\": 13281, \"total_rows_inc_nulls\": 13281, \"sum_tokens_in_value_count_group\": 62.0, \"distinct_value_count\": 2580}, {\"percentile_ex_nulls\": 0.6562758684158325, \"percentile_inc_nulls\": 0.6562758684158325, \"value_count\": 61, \"group_name\": \"_syn_g1_firstname_\", \"total_non_null_rows\": 13281, \"total_rows_inc_nulls\": 13281, \"sum_tokens_in_value_count_group\": 122.0, \"distinct_value_count\": 2580}, {\"percentile_ex_nulls\": 0.6517581939697266, \"percentile_inc_nulls\": 0.6517581939697266, \"value_count\": 60, \"group_name\": \"_syn_g1_firstname_\", \"total_non_null_rows\": 13281, \"total_rows_inc_nulls\": 13281, \"sum_tokens_in_value_count_group\": 60.0, \"distinct_value_count\": 2580}, {\"percentile_ex_nulls\": 0.6473157405853271, \"percentile_inc_nulls\": 0.6473157405853271, \"value_count\": 59, \"group_name\": \"_syn_g1_firstname_\", \"total_non_null_rows\": 13281, \"total_rows_inc_nulls\": 13281, \"sum_tokens_in_value_count_group\": 59.0, \"distinct_value_count\": 2580}, {\"percentile_ex_nulls\": 0.642948567867279, \"percentile_inc_nulls\": 0.642948567867279, \"value_count\": 58, \"group_name\": \"_syn_g1_firstname_\", \"total_non_null_rows\": 13281, \"total_rows_inc_nulls\": 13281, \"sum_tokens_in_value_count_group\": 58.0, \"distinct_value_count\": 2580}, {\"percentile_ex_nulls\": 0.638656735420227, \"percentile_inc_nulls\": 0.638656735420227, \"value_count\": 57, \"group_name\": \"_syn_g1_firstname_\", \"total_non_null_rows\": 13281, \"total_rows_inc_nulls\": 13281, \"sum_tokens_in_value_count_group\": 57.0, \"distinct_value_count\": 2580}, {\"percentile_ex_nulls\": 0.6302236318588257, \"percentile_inc_nulls\": 0.6302236318588257, \"value_count\": 56, \"group_name\": \"_syn_g1_firstname_\", \"total_non_null_rows\": 13281, \"total_rows_inc_nulls\": 13281, \"sum_tokens_in_value_count_group\": 112.0, \"distinct_value_count\": 2580}, {\"percentile_ex_nulls\": 0.6260823607444763, \"percentile_inc_nulls\": 0.6260823607444763, \"value_count\": 55, \"group_name\": \"_syn_g1_firstname_\", \"total_non_null_rows\": 13281, \"total_rows_inc_nulls\": 13281, \"sum_tokens_in_value_count_group\": 55.0, \"distinct_value_count\": 2580}, {\"percentile_ex_nulls\": 0.617950439453125, \"percentile_inc_nulls\": 0.617950439453125, \"value_count\": 54, \"group_name\": \"_syn_g1_firstname_\", \"total_non_null_rows\": 13281, \"total_rows_inc_nulls\": 13281, \"sum_tokens_in_value_count_group\": 108.0, \"distinct_value_count\": 2580}, {\"percentile_ex_nulls\": 0.613959789276123, \"percentile_inc_nulls\": 0.613959789276123, \"value_count\": 53, \"group_name\": \"_syn_g1_firstname_\", \"total_non_null_rows\": 13281, \"total_rows_inc_nulls\": 13281, \"sum_tokens_in_value_count_group\": 53.0, \"distinct_value_count\": 2580}, {\"percentile_ex_nulls\": 0.6061290502548218, \"percentile_inc_nulls\": 0.6061290502548218, \"value_count\": 52, \"group_name\": \"_syn_g1_firstname_\", \"total_non_null_rows\": 13281, \"total_rows_inc_nulls\": 13281, \"sum_tokens_in_value_count_group\": 104.0, \"distinct_value_count\": 2580}, {\"percentile_ex_nulls\": 0.6022889614105225, \"percentile_inc_nulls\": 0.6022889614105225, \"value_count\": 51, \"group_name\": \"_syn_g1_firstname_\", \"total_non_null_rows\": 13281, \"total_rows_inc_nulls\": 13281, \"sum_tokens_in_value_count_group\": 51.0, \"distinct_value_count\": 2580}, {\"percentile_ex_nulls\": 0.594759464263916, \"percentile_inc_nulls\": 0.594759464263916, \"value_count\": 50, \"group_name\": \"_syn_g1_firstname_\", \"total_non_null_rows\": 13281, \"total_rows_inc_nulls\": 13281, \"sum_tokens_in_value_count_group\": 100.0, \"distinct_value_count\": 2580}, {\"percentile_ex_nulls\": 0.5873804688453674, \"percentile_inc_nulls\": 0.5873804688453674, \"value_count\": 49, \"group_name\": \"_syn_g1_firstname_\", \"total_non_null_rows\": 13281, \"total_rows_inc_nulls\": 13281, \"sum_tokens_in_value_count_group\": 98.0, \"distinct_value_count\": 2580}, {\"percentile_ex_nulls\": 0.5839169025421143, \"percentile_inc_nulls\": 0.5839169025421143, \"value_count\": 46, \"group_name\": \"_syn_g1_firstname_\", \"total_non_null_rows\": 13281, \"total_rows_inc_nulls\": 13281, \"sum_tokens_in_value_count_group\": 46.0, \"distinct_value_count\": 2580}, {\"percentile_ex_nulls\": 0.5771402716636658, \"percentile_inc_nulls\": 0.5771402716636658, \"value_count\": 45, \"group_name\": \"_syn_g1_firstname_\", \"total_non_null_rows\": 13281, \"total_rows_inc_nulls\": 13281, \"sum_tokens_in_value_count_group\": 90.0, \"distinct_value_count\": 2580}, {\"percentile_ex_nulls\": 0.5705142617225647, \"percentile_inc_nulls\": 0.5705142617225647, \"value_count\": 44, \"group_name\": \"_syn_g1_firstname_\", \"total_non_null_rows\": 13281, \"total_rows_inc_nulls\": 13281, \"sum_tokens_in_value_count_group\": 88.0, \"distinct_value_count\": 2580}, {\"percentile_ex_nulls\": 0.5674271583557129, \"percentile_inc_nulls\": 0.5674271583557129, \"value_count\": 41, \"group_name\": \"_syn_g1_firstname_\", \"total_non_null_rows\": 13281, \"total_rows_inc_nulls\": 13281, \"sum_tokens_in_value_count_group\": 41.0, \"distinct_value_count\": 2580}, {\"percentile_ex_nulls\": 0.5644153356552124, \"percentile_inc_nulls\": 0.5644153356552124, \"value_count\": 40, \"group_name\": \"_syn_g1_firstname_\", \"total_non_null_rows\": 13281, \"total_rows_inc_nulls\": 13281, \"sum_tokens_in_value_count_group\": 40.0, \"distinct_value_count\": 2580}, {\"percentile_ex_nulls\": 0.5614787936210632, \"percentile_inc_nulls\": 0.5614787936210632, \"value_count\": 39, \"group_name\": \"_syn_g1_firstname_\", \"total_non_null_rows\": 13281, \"total_rows_inc_nulls\": 13281, \"sum_tokens_in_value_count_group\": 39.0, \"distinct_value_count\": 2580}, {\"percentile_ex_nulls\": 0.5528950691223145, \"percentile_inc_nulls\": 0.5528950691223145, \"value_count\": 38, \"group_name\": \"_syn_g1_firstname_\", \"total_non_null_rows\": 13281, \"total_rows_inc_nulls\": 13281, \"sum_tokens_in_value_count_group\": 114.0, \"distinct_value_count\": 2580}, {\"percentile_ex_nulls\": 0.5445373058319092, \"percentile_inc_nulls\": 0.5445373058319092, \"value_count\": 37, \"group_name\": \"_syn_g1_firstname_\", \"total_non_null_rows\": 13281, \"total_rows_inc_nulls\": 13281, \"sum_tokens_in_value_count_group\": 111.0, \"distinct_value_count\": 2580}, {\"percentile_ex_nulls\": 0.5418266654014587, \"percentile_inc_nulls\": 0.5418266654014587, \"value_count\": 36, \"group_name\": \"_syn_g1_firstname_\", \"total_non_null_rows\": 13281, \"total_rows_inc_nulls\": 13281, \"sum_tokens_in_value_count_group\": 36.0, \"distinct_value_count\": 2580}, {\"percentile_ex_nulls\": 0.5339206457138062, \"percentile_inc_nulls\": 0.5339206457138062, \"value_count\": 35, \"group_name\": \"_syn_g1_firstname_\", \"total_non_null_rows\": 13281, \"total_rows_inc_nulls\": 13281, \"sum_tokens_in_value_count_group\": 105.0, \"distinct_value_count\": 2580}, {\"percentile_ex_nulls\": 0.5288005471229553, \"percentile_inc_nulls\": 0.5288005471229553, \"value_count\": 34, \"group_name\": \"_syn_g1_firstname_\", \"total_non_null_rows\": 13281, \"total_rows_inc_nulls\": 13281, \"sum_tokens_in_value_count_group\": 68.0, \"distinct_value_count\": 2580}, {\"percentile_ex_nulls\": 0.5238310098648071, \"percentile_inc_nulls\": 0.5238310098648071, \"value_count\": 33, \"group_name\": \"_syn_g1_firstname_\", \"total_non_null_rows\": 13281, \"total_rows_inc_nulls\": 13281, \"sum_tokens_in_value_count_group\": 66.0, \"distinct_value_count\": 2580}, {\"percentile_ex_nulls\": 0.516602635383606, \"percentile_inc_nulls\": 0.516602635383606, \"value_count\": 32, \"group_name\": \"_syn_g1_firstname_\", \"total_non_null_rows\": 13281, \"total_rows_inc_nulls\": 13281, \"sum_tokens_in_value_count_group\": 96.0, \"distinct_value_count\": 2580}, {\"percentile_ex_nulls\": 0.5072660446166992, \"percentile_inc_nulls\": 0.5072660446166992, \"value_count\": 31, \"group_name\": \"_syn_g1_firstname_\", \"total_non_null_rows\": 13281, \"total_rows_inc_nulls\": 13281, \"sum_tokens_in_value_count_group\": 124.0, \"distinct_value_count\": 2580}, {\"percentile_ex_nulls\": 0.4985317587852478, \"percentile_inc_nulls\": 0.4985317587852478, \"value_count\": 29, \"group_name\": \"_syn_g1_firstname_\", \"total_non_null_rows\": 13281, \"total_rows_inc_nulls\": 13281, \"sum_tokens_in_value_count_group\": 116.0, \"distinct_value_count\": 2580}, {\"percentile_ex_nulls\": 0.4943152070045471, \"percentile_inc_nulls\": 0.4943152070045471, \"value_count\": 28, \"group_name\": \"_syn_g1_firstname_\", \"total_non_null_rows\": 13281, \"total_rows_inc_nulls\": 13281, \"sum_tokens_in_value_count_group\": 56.0, \"distinct_value_count\": 2580}, {\"percentile_ex_nulls\": 0.4922822117805481, \"percentile_inc_nulls\": 0.4922822117805481, \"value_count\": 27, \"group_name\": \"_syn_g1_firstname_\", \"total_non_null_rows\": 13281, \"total_rows_inc_nulls\": 13281, \"sum_tokens_in_value_count_group\": 27.0, \"distinct_value_count\": 2580}, {\"percentile_ex_nulls\": 0.48640912771224976, \"percentile_inc_nulls\": 0.48640912771224976, \"value_count\": 26, \"group_name\": \"_syn_g1_firstname_\", \"total_non_null_rows\": 13281, \"total_rows_inc_nulls\": 13281, \"sum_tokens_in_value_count_group\": 78.0, \"distinct_value_count\": 2580}, {\"percentile_ex_nulls\": 0.4769971966743469, \"percentile_inc_nulls\": 0.4769971966743469, \"value_count\": 25, \"group_name\": \"_syn_g1_firstname_\", \"total_non_null_rows\": 13281, \"total_rows_inc_nulls\": 13281, \"sum_tokens_in_value_count_group\": 125.0, \"distinct_value_count\": 2580}, {\"percentile_ex_nulls\": 0.46796172857284546, \"percentile_inc_nulls\": 0.46796172857284546, \"value_count\": 24, \"group_name\": \"_syn_g1_firstname_\", \"total_non_null_rows\": 13281, \"total_rows_inc_nulls\": 13281, \"sum_tokens_in_value_count_group\": 120.0, \"distinct_value_count\": 2580}, {\"percentile_ex_nulls\": 0.45757097005844116, \"percentile_inc_nulls\": 0.45757097005844116, \"value_count\": 23, \"group_name\": \"_syn_g1_firstname_\", \"total_non_null_rows\": 13281, \"total_rows_inc_nulls\": 13281, \"sum_tokens_in_value_count_group\": 138.0, \"distinct_value_count\": 2580}, {\"percentile_ex_nulls\": 0.45260143280029297, \"percentile_inc_nulls\": 0.45260143280029297, \"value_count\": 22, \"group_name\": \"_syn_g1_firstname_\", \"total_non_null_rows\": 13281, \"total_rows_inc_nulls\": 13281, \"sum_tokens_in_value_count_group\": 66.0, \"distinct_value_count\": 2580}, {\"percentile_ex_nulls\": 0.4462766647338867, \"percentile_inc_nulls\": 0.4462766647338867, \"value_count\": 21, \"group_name\": \"_syn_g1_firstname_\", \"total_non_null_rows\": 13281, \"total_rows_inc_nulls\": 13281, \"sum_tokens_in_value_count_group\": 84.0, \"distinct_value_count\": 2580}, {\"percentile_ex_nulls\": 0.43422937393188477, \"percentile_inc_nulls\": 0.43422937393188477, \"value_count\": 20, \"group_name\": \"_syn_g1_firstname_\", \"total_non_null_rows\": 13281, \"total_rows_inc_nulls\": 13281, \"sum_tokens_in_value_count_group\": 160.0, \"distinct_value_count\": 2580}, {\"percentile_ex_nulls\": 0.4227844476699829, \"percentile_inc_nulls\": 0.4227844476699829, \"value_count\": 19, \"group_name\": \"_syn_g1_firstname_\", \"total_non_null_rows\": 13281, \"total_rows_inc_nulls\": 13281, \"sum_tokens_in_value_count_group\": 152.0, \"distinct_value_count\": 2580}, {\"percentile_ex_nulls\": 0.41736316680908203, \"percentile_inc_nulls\": 0.41736316680908203, \"value_count\": 18, \"group_name\": \"_syn_g1_firstname_\", \"total_non_null_rows\": 13281, \"total_rows_inc_nulls\": 13281, \"sum_tokens_in_value_count_group\": 72.0, \"distinct_value_count\": 2580}, {\"percentile_ex_nulls\": 0.40200287103652954, \"percentile_inc_nulls\": 0.40200287103652954, \"value_count\": 17, \"group_name\": \"_syn_g1_firstname_\", \"total_non_null_rows\": 13281, \"total_rows_inc_nulls\": 13281, \"sum_tokens_in_value_count_group\": 204.0, \"distinct_value_count\": 2580}, {\"percentile_ex_nulls\": 0.386341392993927, \"percentile_inc_nulls\": 0.386341392993927, \"value_count\": 16, \"group_name\": \"_syn_g1_firstname_\", \"total_non_null_rows\": 13281, \"total_rows_inc_nulls\": 13281, \"sum_tokens_in_value_count_group\": 208.0, \"distinct_value_count\": 2580}, {\"percentile_ex_nulls\": 0.37617647647857666, \"percentile_inc_nulls\": 0.37617647647857666, \"value_count\": 15, \"group_name\": \"_syn_g1_firstname_\", \"total_non_null_rows\": 13281, \"total_rows_inc_nulls\": 13281, \"sum_tokens_in_value_count_group\": 135.0, \"distinct_value_count\": 2580}, {\"percentile_ex_nulls\": 0.3635268211364746, \"percentile_inc_nulls\": 0.3635268211364746, \"value_count\": 14, \"group_name\": \"_syn_g1_firstname_\", \"total_non_null_rows\": 13281, \"total_rows_inc_nulls\": 13281, \"sum_tokens_in_value_count_group\": 168.0, \"distinct_value_count\": 2580}, {\"percentile_ex_nulls\": 0.3566749691963196, \"percentile_inc_nulls\": 0.3566749691963196, \"value_count\": 13, \"group_name\": \"_syn_g1_firstname_\", \"total_non_null_rows\": 13281, \"total_rows_inc_nulls\": 13281, \"sum_tokens_in_value_count_group\": 91.0, \"distinct_value_count\": 2580}, {\"percentile_ex_nulls\": 0.3476395010948181, \"percentile_inc_nulls\": 0.3476395010948181, \"value_count\": 12, \"group_name\": \"_syn_g1_firstname_\", \"total_non_null_rows\": 13281, \"total_rows_inc_nulls\": 13281, \"sum_tokens_in_value_count_group\": 120.0, \"distinct_value_count\": 2580}, {\"percentile_ex_nulls\": 0.33107447624206543, \"percentile_inc_nulls\": 0.33107447624206543, \"value_count\": 11, \"group_name\": \"_syn_g1_firstname_\", \"total_non_null_rows\": 13281, \"total_rows_inc_nulls\": 13281, \"sum_tokens_in_value_count_group\": 220.0, \"distinct_value_count\": 2580}, {\"percentile_ex_nulls\": 0.312250554561615, \"percentile_inc_nulls\": 0.312250554561615, \"value_count\": 10, \"group_name\": \"_syn_g1_firstname_\", \"total_non_null_rows\": 13281, \"total_rows_inc_nulls\": 13281, \"sum_tokens_in_value_count_group\": 250.0, \"distinct_value_count\": 2580}, {\"percentile_ex_nulls\": 0.30411869287490845, \"percentile_inc_nulls\": 0.30411869287490845, \"value_count\": 9, \"group_name\": \"_syn_g1_firstname_\", \"total_non_null_rows\": 13281, \"total_rows_inc_nulls\": 13281, \"sum_tokens_in_value_count_group\": 108.0, \"distinct_value_count\": 2580}, {\"percentile_ex_nulls\": 0.2878548502922058, \"percentile_inc_nulls\": 0.2878548502922058, \"value_count\": 8, \"group_name\": \"_syn_g1_firstname_\", \"total_non_null_rows\": 13281, \"total_rows_inc_nulls\": 13281, \"sum_tokens_in_value_count_group\": 216.0, \"distinct_value_count\": 2580}, {\"percentile_ex_nulls\": 0.26888036727905273, \"percentile_inc_nulls\": 0.26888036727905273, \"value_count\": 7, \"group_name\": \"_syn_g1_firstname_\", \"total_non_null_rows\": 13281, \"total_rows_inc_nulls\": 13281, \"sum_tokens_in_value_count_group\": 252.0, \"distinct_value_count\": 2580}, {\"percentile_ex_nulls\": 0.24809879064559937, \"percentile_inc_nulls\": 0.24809879064559937, \"value_count\": 6, \"group_name\": \"_syn_g1_firstname_\", \"total_non_null_rows\": 13281, \"total_rows_inc_nulls\": 13281, \"sum_tokens_in_value_count_group\": 276.0, \"distinct_value_count\": 2580}, {\"percentile_ex_nulls\": 0.22400420904159546, \"percentile_inc_nulls\": 0.22400420904159546, \"value_count\": 5, \"group_name\": \"_syn_g1_firstname_\", \"total_non_null_rows\": 13281, \"total_rows_inc_nulls\": 13281, \"sum_tokens_in_value_count_group\": 320.0, \"distinct_value_count\": 2580}, {\"percentile_ex_nulls\": 0.1971989870071411, \"percentile_inc_nulls\": 0.1971989870071411, \"value_count\": 4, \"group_name\": \"_syn_g1_firstname_\", \"total_non_null_rows\": 13281, \"total_rows_inc_nulls\": 13281, \"sum_tokens_in_value_count_group\": 356.0, \"distinct_value_count\": 2580}, {\"percentile_ex_nulls\": 0.16489720344543457, \"percentile_inc_nulls\": 0.16489720344543457, \"value_count\": 3, \"group_name\": \"_syn_g1_firstname_\", \"total_non_null_rows\": 13281, \"total_rows_inc_nulls\": 13281, \"sum_tokens_in_value_count_group\": 429.0, \"distinct_value_count\": 2580}, {\"percentile_ex_nulls\": 0.12288230657577515, \"percentile_inc_nulls\": 0.12288230657577515, \"value_count\": 2, \"group_name\": \"_syn_g1_firstname_\", \"total_non_null_rows\": 13281, \"total_rows_inc_nulls\": 13281, \"sum_tokens_in_value_count_group\": 558.0, \"distinct_value_count\": 2580}, {\"percentile_ex_nulls\": 0.0, \"percentile_inc_nulls\": 0.0, \"value_count\": 1, \"group_name\": \"_syn_g1_firstname_\", \"total_non_null_rows\": 13281, \"total_rows_inc_nulls\": 13281, \"sum_tokens_in_value_count_group\": 1632.0, \"distinct_value_count\": 2580}, {\"percentile_ex_nulls\": 1.0, \"percentile_inc_nulls\": 1.0, \"value_count\": 204, \"group_name\": \"_syn_g1_firstname_\", \"total_non_null_rows\": 13281, \"total_rows_inc_nulls\": 13281, \"sum_tokens_in_value_count_group\": 204.0, \"distinct_value_count\": 2580}]}, \"encoding\": {\"tooltip\": [{\"field\": \"value_count\", \"type\": \"quantitative\"}, {\"field\": \"percentile_ex_nulls\", \"type\": \"quantitative\"}, {\"field\": \"percentile_inc_nulls\", \"type\": \"quantitative\"}, {\"field\": \"total_non_null_rows\", \"type\": \"quantitative\"}, {\"field\": \"total_rows_inc_nulls\", \"type\": \"quantitative\"}], \"x\": {\"field\": \"percentile_ex_nulls\", \"sort\": \"descending\", \"title\": \"Percentile\", \"type\": \"quantitative\"}, \"y\": {\"field\": \"value_count\", \"title\": \"Count of values\", \"type\": \"quantitative\"}}, \"title\": {\"text\": \"Distribution of counts of values in column \\\"syn_g1_firstname\\\"\", \"subtitle\": \"In this col, 0 values (0.0%) are null and there are 2580 distinct values\"}}, {\"mark\": \"bar\", \"data\": {\"values\": [{\"value_count\": 204, \"group_name\": \"_syn_g1_firstname_\", \"value\": \"Jack\", \"total_non_null_rows\": 13281, \"total_rows_inc_nulls\": 13281, \"distinct_value_count\": 2580}, {\"value_count\": 201, \"group_name\": \"_syn_g1_firstname_\", \"value\": \"Thomas\", \"total_non_null_rows\": 13281, \"total_rows_inc_nulls\": 13281, \"distinct_value_count\": 2580}, {\"value_count\": 180, \"group_name\": \"_syn_g1_firstname_\", \"value\": \"Oliver\", \"total_non_null_rows\": 13281, \"total_rows_inc_nulls\": 13281, \"distinct_value_count\": 2580}, {\"value_count\": 160, \"group_name\": \"_syn_g1_firstname_\", \"value\": \"Emily\", \"total_non_null_rows\": 13281, \"total_rows_inc_nulls\": 13281, \"distinct_value_count\": 2580}, {\"value_count\": 154, \"group_name\": \"_syn_g1_firstname_\", \"value\": \"Joshua\", \"total_non_null_rows\": 13281, \"total_rows_inc_nulls\": 13281, \"distinct_value_count\": 2580}, {\"value_count\": 153, \"group_name\": \"_syn_g1_firstname_\", \"value\": \"Chloe\", \"total_non_null_rows\": 13281, \"total_rows_inc_nulls\": 13281, \"distinct_value_count\": 2580}, {\"value_count\": 153, \"group_name\": \"_syn_g1_firstname_\", \"value\": \"James\", \"total_non_null_rows\": 13281, \"total_rows_inc_nulls\": 13281, \"distinct_value_count\": 2580}, {\"value_count\": 127, \"group_name\": \"_syn_g1_firstname_\", \"value\": \"Harry\", \"total_non_null_rows\": 13281, \"total_rows_inc_nulls\": 13281, \"distinct_value_count\": 2580}, {\"value_count\": 127, \"group_name\": \"_syn_g1_firstname_\", \"value\": \"Megan\", \"total_non_null_rows\": 13281, \"total_rows_inc_nulls\": 13281, \"distinct_value_count\": 2580}, {\"value_count\": 124, \"group_name\": \"_syn_g1_firstname_\", \"value\": \"Jessica\", \"total_non_null_rows\": 13281, \"total_rows_inc_nulls\": 13281, \"distinct_value_count\": 2580}]}, \"encoding\": {\"tooltip\": [{\"field\": \"value\", \"type\": \"nominal\"}, {\"field\": \"value_count\", \"type\": \"quantitative\"}, {\"field\": \"total_non_null_rows\", \"type\": \"quantitative\"}, {\"field\": \"total_rows_inc_nulls\", \"type\": \"quantitative\"}], \"x\": {\"field\": \"value\", \"sort\": \"-y\", \"title\": null, \"type\": \"nominal\"}, \"y\": {\"field\": \"value_count\", \"title\": \"Value count\", \"type\": \"quantitative\"}}, \"title\": \"Top 10 values by value count\"}, {\"mark\": \"bar\", \"data\": {\"values\": [{\"value_count\": 1, \"group_name\": \"_syn_g1_firstname_\", \"value\": \"Efe\", \"total_non_null_rows\": 13281, \"total_rows_inc_nulls\": 13281, \"distinct_value_count\": 2580}, {\"value_count\": 1, \"group_name\": \"_syn_g1_firstname_\", \"value\": \"Muhammed\", \"total_non_null_rows\": 13281, \"total_rows_inc_nulls\": 13281, \"distinct_value_count\": 2580}, {\"value_count\": 1, \"group_name\": \"_syn_g1_firstname_\", \"value\": \"Tyrone\", \"total_non_null_rows\": 13281, \"total_rows_inc_nulls\": 13281, \"distinct_value_count\": 2580}, {\"value_count\": 1, \"group_name\": \"_syn_g1_firstname_\", \"value\": \"Jamal\", \"total_non_null_rows\": 13281, \"total_rows_inc_nulls\": 13281, \"distinct_value_count\": 2580}, {\"value_count\": 1, \"group_name\": \"_syn_g1_firstname_\", \"value\": \"Siya\", \"total_non_null_rows\": 13281, \"total_rows_inc_nulls\": 13281, \"distinct_value_count\": 2580}, {\"value_count\": 1, \"group_name\": \"_syn_g1_firstname_\", \"value\": \"Evelun\", \"total_non_null_rows\": 13281, \"total_rows_inc_nulls\": 13281, \"distinct_value_count\": 2580}, {\"value_count\": 1, \"group_name\": \"_syn_g1_firstname_\", \"value\": \"Avq\", \"total_non_null_rows\": 13281, \"total_rows_inc_nulls\": 13281, \"distinct_value_count\": 2580}, {\"value_count\": 1, \"group_name\": \"_syn_g1_firstname_\", \"value\": \"robert\", \"total_non_null_rows\": 13281, \"total_rows_inc_nulls\": 13281, \"distinct_value_count\": 2580}, {\"value_count\": 1, \"group_name\": \"_syn_g1_firstname_\", \"value\": \"tatiana\", \"total_non_null_rows\": 13281, \"total_rows_inc_nulls\": 13281, \"distinct_value_count\": 2580}, {\"value_count\": 1, \"group_name\": \"_syn_g1_firstname_\", \"value\": \"Bushra\", \"total_non_null_rows\": 13281, \"total_rows_inc_nulls\": 13281, \"distinct_value_count\": 2580}]}, \"encoding\": {\"tooltip\": [{\"field\": \"value\", \"type\": \"nominal\"}, {\"field\": \"value_count\", \"type\": \"quantitative\"}, {\"field\": \"total_non_null_rows\", \"type\": \"quantitative\"}, {\"field\": \"total_rows_inc_nulls\", \"type\": \"quantitative\"}], \"x\": {\"field\": \"value\", \"sort\": \"-y\", \"title\": null, \"type\": \"nominal\"}, \"y\": {\"field\": \"value_count\", \"scale\": {\"domain\": [0, 204]}, \"title\": \"Value count\", \"type\": \"quantitative\"}}, \"title\": \"Bottom 10 values by value count\"}]}], \"$schema\": \"https://vega.github.io/schema/vega-lite/v5.9.3.json\"}, {\"mode\": \"vega-lite\"});\n",
       "</script>"
      ],
      "text/plain": [
       "alt.VConcatChart(...)"
      ]
     },
     "execution_count": 2,
     "metadata": {},
     "output_type": "execute_result"
    }
   ],
   "source": [
    "from splink.duckdb.linker import DuckDBLinker\n",
    "linker = DuckDBLinker(df)\n",
    "linker.profile_columns()\n",
    "\n"
   ]
  },
  {
   "cell_type": "code",
   "execution_count": 3,
   "metadata": {},
   "outputs": [
    {
     "data": {
      "text/html": [
       "\n",
       "<style>\n",
       "  #altair-viz-bf77f90750ba46429cdbb0e38ff34a7f.vega-embed {\n",
       "    width: 100%;\n",
       "    display: flex;\n",
       "  }\n",
       "\n",
       "  #altair-viz-bf77f90750ba46429cdbb0e38ff34a7f.vega-embed details,\n",
       "  #altair-viz-bf77f90750ba46429cdbb0e38ff34a7f.vega-embed details summary {\n",
       "    position: relative;\n",
       "  }\n",
       "</style>\n",
       "<div id=\"altair-viz-bf77f90750ba46429cdbb0e38ff34a7f\"></div>\n",
       "<script type=\"text/javascript\">\n",
       "  var VEGA_DEBUG = (typeof VEGA_DEBUG == \"undefined\") ? {} : VEGA_DEBUG;\n",
       "  (function(spec, embedOpt){\n",
       "    let outputDiv = document.currentScript.previousElementSibling;\n",
       "    if (outputDiv.id !== \"altair-viz-bf77f90750ba46429cdbb0e38ff34a7f\") {\n",
       "      outputDiv = document.getElementById(\"altair-viz-bf77f90750ba46429cdbb0e38ff34a7f\");\n",
       "    }\n",
       "    const paths = {\n",
       "      \"vega\": \"https://cdn.jsdelivr.net/npm/vega@5?noext\",\n",
       "      \"vega-lib\": \"https://cdn.jsdelivr.net/npm/vega-lib?noext\",\n",
       "      \"vega-lite\": \"https://cdn.jsdelivr.net/npm/vega-lite@5.8.0?noext\",\n",
       "      \"vega-embed\": \"https://cdn.jsdelivr.net/npm/vega-embed@6?noext\",\n",
       "    };\n",
       "\n",
       "    function maybeLoadScript(lib, version) {\n",
       "      var key = `${lib.replace(\"-\", \"\")}_version`;\n",
       "      return (VEGA_DEBUG[key] == version) ?\n",
       "        Promise.resolve(paths[lib]) :\n",
       "        new Promise(function(resolve, reject) {\n",
       "          var s = document.createElement('script');\n",
       "          document.getElementsByTagName(\"head\")[0].appendChild(s);\n",
       "          s.async = true;\n",
       "          s.onload = () => {\n",
       "            VEGA_DEBUG[key] = version;\n",
       "            return resolve(paths[lib]);\n",
       "          };\n",
       "          s.onerror = () => reject(`Error loading script: ${paths[lib]}`);\n",
       "          s.src = paths[lib];\n",
       "        });\n",
       "    }\n",
       "\n",
       "    function showError(err) {\n",
       "      outputDiv.innerHTML = `<div class=\"error\" style=\"color:red;\">${err}</div>`;\n",
       "      throw err;\n",
       "    }\n",
       "\n",
       "    function displayChart(vegaEmbed) {\n",
       "      vegaEmbed(outputDiv, spec, embedOpt)\n",
       "        .catch(err => showError(`Javascript Error: ${err.message}<br>This usually means there's a typo in your chart specification. See the javascript console for the full traceback.`));\n",
       "    }\n",
       "\n",
       "    if(typeof define === \"function\" && define.amd) {\n",
       "      requirejs.config({paths});\n",
       "      require([\"vega-embed\"], displayChart, err => showError(`Error loading script: ${err.message}`));\n",
       "    } else {\n",
       "      maybeLoadScript(\"vega\", \"5\")\n",
       "        .then(() => maybeLoadScript(\"vega-lite\", \"5.8.0\"))\n",
       "        .then(() => maybeLoadScript(\"vega-embed\", \"6\"))\n",
       "        .catch(showError)\n",
       "        .then(() => displayChart(vegaEmbed));\n",
       "    }\n",
       "  })({\"config\": {\"view\": {\"continuousWidth\": 400, \"continuousHeight\": 300}, \"axis\": {\"labelFontSize\": 11}}, \"layer\": [{\"mark\": \"bar\", \"encoding\": {\"color\": {\"field\": \"null_proportion\", \"legend\": {\"format\": \".0%\", \"offset\": 30}, \"scale\": {\"domain\": [0, 1], \"range\": \"heatmap\"}, \"title\": \"Missingness\", \"type\": \"quantitative\"}, \"tooltip\": [{\"field\": \"column_name\", \"title\": \"Column\", \"type\": \"nominal\"}, {\"field\": \"null_count\", \"format\": \",.0f\", \"title\": \"Count of nulls\", \"type\": \"quantitative\"}, {\"field\": \"null_proportion\", \"format\": \".2%\", \"title\": \"Percentage of nulls\", \"type\": \"quantitative\"}, {\"field\": \"total_record_count\", \"format\": \",.0f\", \"title\": \"Total record count\", \"type\": \"quantitative\"}], \"x\": {\"axis\": {\"format\": \"%\", \"labelAlign\": \"center\", \"title\": \"Percentage of nulls\"}, \"field\": \"null_proportion\", \"scale\": {\"domain\": [0, 1]}, \"type\": \"quantitative\"}, \"y\": {\"axis\": {\"title\": \"\"}, \"field\": \"column_name\", \"sort\": \"-x\", \"type\": \"nominal\"}}, \"title\": \"Missingness per column out of 13,281 records\"}], \"data\": {\"values\": [{\"null_proportion\": 0.0, \"null_count\": 0, \"total_record_count\": 13281, \"column_name\": \"None\"}, {\"null_proportion\": 0.0, \"null_count\": 0, \"total_record_count\": 13281, \"column_name\": \"cluster\"}, {\"null_proportion\": 0.0, \"null_count\": 0, \"total_record_count\": 13281, \"column_name\": \"unique_id\"}, {\"null_proportion\": 0.05473983287811279, \"null_count\": 727, \"total_record_count\": 13281, \"column_name\": \"maternal_agecat\"}, {\"null_proportion\": 0.16723138093948364, \"null_count\": 2221, \"total_record_count\": 13281, \"column_name\": \"ethgroup\"}, {\"null_proportion\": 0.0, \"null_count\": 0, \"total_record_count\": 13281, \"column_name\": \"g1_gender_arc\"}, {\"null_proportion\": 0.16655373573303223, \"null_count\": 2212, \"total_record_count\": 13281, \"column_name\": \"imddecile\"}, {\"null_proportion\": 0.0, \"null_count\": 0, \"total_record_count\": 13281, \"column_name\": \"g1_dob_arc1\"}, {\"null_proportion\": 0.0, \"null_count\": 0, \"total_record_count\": 13281, \"column_name\": \"syn_g0_surname\"}, {\"null_proportion\": 0.0, \"null_count\": 0, \"total_record_count\": 13281, \"column_name\": \"syn_g1_surname\"}, {\"null_proportion\": 0.004517734050750732, \"null_count\": 60, \"total_record_count\": 13281, \"column_name\": \"syn_g1_firstname\"}], \"name\": \"data-0e7bce5a1d2f132e282789d6ef7780fe\"}, \"title\": \"\", \"$schema\": \"https://vega.github.io/schema/vega-lite/v5.9.3.json\"}, {\"mode\": \"vega-lite\"});\n",
       "</script>"
      ],
      "text/plain": [
       "alt.LayerChart(...)"
      ]
     },
     "execution_count": 3,
     "metadata": {},
     "output_type": "execute_result"
    }
   ],
   "source": [
    "linker.missingness_chart()"
   ]
  },
  {
   "cell_type": "code",
   "execution_count": 2,
   "metadata": {},
   "outputs": [
    {
     "data": {
      "text/html": [
       "\n",
       "<style>\n",
       "  #altair-viz-6aca00a90d9b4999abcda017a3ae8e04.vega-embed {\n",
       "    width: 100%;\n",
       "    display: flex;\n",
       "  }\n",
       "\n",
       "  #altair-viz-6aca00a90d9b4999abcda017a3ae8e04.vega-embed details,\n",
       "  #altair-viz-6aca00a90d9b4999abcda017a3ae8e04.vega-embed details summary {\n",
       "    position: relative;\n",
       "  }\n",
       "</style>\n",
       "<div id=\"altair-viz-6aca00a90d9b4999abcda017a3ae8e04\"></div>\n",
       "<script type=\"text/javascript\">\n",
       "  var VEGA_DEBUG = (typeof VEGA_DEBUG == \"undefined\") ? {} : VEGA_DEBUG;\n",
       "  (function(spec, embedOpt){\n",
       "    let outputDiv = document.currentScript.previousElementSibling;\n",
       "    if (outputDiv.id !== \"altair-viz-6aca00a90d9b4999abcda017a3ae8e04\") {\n",
       "      outputDiv = document.getElementById(\"altair-viz-6aca00a90d9b4999abcda017a3ae8e04\");\n",
       "    }\n",
       "    const paths = {\n",
       "      \"vega\": \"https://cdn.jsdelivr.net/npm/vega@5?noext\",\n",
       "      \"vega-lib\": \"https://cdn.jsdelivr.net/npm/vega-lib?noext\",\n",
       "      \"vega-lite\": \"https://cdn.jsdelivr.net/npm/vega-lite@5.8.0?noext\",\n",
       "      \"vega-embed\": \"https://cdn.jsdelivr.net/npm/vega-embed@6?noext\",\n",
       "    };\n",
       "\n",
       "    function maybeLoadScript(lib, version) {\n",
       "      var key = `${lib.replace(\"-\", \"\")}_version`;\n",
       "      return (VEGA_DEBUG[key] == version) ?\n",
       "        Promise.resolve(paths[lib]) :\n",
       "        new Promise(function(resolve, reject) {\n",
       "          var s = document.createElement('script');\n",
       "          document.getElementsByTagName(\"head\")[0].appendChild(s);\n",
       "          s.async = true;\n",
       "          s.onload = () => {\n",
       "            VEGA_DEBUG[key] = version;\n",
       "            return resolve(paths[lib]);\n",
       "          };\n",
       "          s.onerror = () => reject(`Error loading script: ${paths[lib]}`);\n",
       "          s.src = paths[lib];\n",
       "        });\n",
       "    }\n",
       "\n",
       "    function showError(err) {\n",
       "      outputDiv.innerHTML = `<div class=\"error\" style=\"color:red;\">${err}</div>`;\n",
       "      throw err;\n",
       "    }\n",
       "\n",
       "    function displayChart(vegaEmbed) {\n",
       "      vegaEmbed(outputDiv, spec, embedOpt)\n",
       "        .catch(err => showError(`Javascript Error: ${err.message}<br>This usually means there's a typo in your chart specification. See the javascript console for the full traceback.`));\n",
       "    }\n",
       "\n",
       "    if(typeof define === \"function\" && define.amd) {\n",
       "      requirejs.config({paths});\n",
       "      require([\"vega-embed\"], displayChart, err => showError(`Error loading script: ${err.message}`));\n",
       "    } else {\n",
       "      maybeLoadScript(\"vega\", \"5\")\n",
       "        .then(() => maybeLoadScript(\"vega-lite\", \"5.8.0\"))\n",
       "        .then(() => maybeLoadScript(\"vega-embed\", \"6\"))\n",
       "        .catch(showError)\n",
       "        .then(() => displayChart(vegaEmbed));\n",
       "    }\n",
       "  })({\"config\": {\"view\": {\"continuousWidth\": 300, \"continuousHeight\": 300}}, \"data\": {\"name\": \"data-e506a541a285378cde39b6366e24c3e1\"}, \"mark\": \"bar\", \"encoding\": {\"color\": {\"field\": \"rule\", \"legend\": null, \"scale\": {\"scheme\": \"category20c\"}}, \"order\": {\"field\": \"cumulative_rows\"}, \"tooltip\": [{\"field\": \"rule\", \"title\": \"SQL Condition\", \"type\": \"nominal\"}, {\"field\": \"row_count\", \"format\": \",\", \"title\": \"Comparisons Generated\", \"type\": \"quantitative\"}, {\"field\": \"cumulative_rows\", \"format\": \",\", \"title\": \"Cumulative Comparisons\", \"type\": \"quantitative\"}, {\"field\": \"cartesian\", \"format\": \",\", \"title\": \"Cartesian Product of Input Data\", \"type\": \"quantitative\"}, {\"field\": \"reduction_ratio\", \"title\": \"Reduction Ratio (cumulative rows/cartesian product)\", \"type\": \"nominal\"}], \"x\": {\"field\": \"start\", \"title\": \"Comparisons Generated by Rule(s)\", \"type\": \"quantitative\"}, \"x2\": {\"field\": \"cumulative_rows\"}, \"y\": {\"field\": \"rule\", \"sort\": [\"-x2\"], \"title\": \"SQL Blocking Rule\"}}, \"height\": {\"step\": 20}, \"title\": {\"text\": \"Count of Additional Comparisons Generated by Each Blocking Rule\", \"subtitle\": \"(Counts exclude comparisons already generated by previous rules)\"}, \"width\": 450, \"$schema\": \"https://vega.github.io/schema/vega-lite/v5.9.3.json\", \"datasets\": {\"data-e506a541a285378cde39b6366e24c3e1\": [{\"row_count\": 8616, \"rule\": \"(l.\\\"syn_g1_firstname\\\" = r.\\\"syn_g1_firstname\\\") AND (l.\\\"syn_g1_surname\\\" = r.\\\"syn_g1_surname\\\") AND (l.\\\"syn_g0_surname\\\" = r.\\\"syn_g0_surname\\\") AND (l.\\\"g1_dob_arc1\\\" = r.\\\"g1_dob_arc1\\\")\", \"cumulative_rows\": 8616, \"cartesian\": 176384961, \"reduction_ratio\": \"The rolling reduction ratio with your given blocking rule(s) is 0.999951. This represents the reduction in the total number of comparisons due to your rule(s).\", \"start\": 0}, {\"row_count\": 358, \"rule\": \"(l.\\\"syn_g1_firstname\\\" = r.\\\"syn_g1_firstname\\\") AND (l.\\\"syn_g0_surname\\\" = r.\\\"syn_g0_surname\\\") AND (l.\\\"g1_dob_arc1\\\" = r.\\\"g1_dob_arc1\\\") AND (l.\\\"g1_gender_arc\\\" = r.\\\"g1_gender_arc\\\")\", \"cumulative_rows\": 8974, \"cartesian\": 176384961, \"reduction_ratio\": \"The rolling reduction ratio with your given blocking rule(s) is 0.999949. This represents the reduction in the total number of comparisons due to your rule(s).\", \"start\": 8616}, {\"row_count\": 1330, \"rule\": \"(l.\\\"syn_g1_surname\\\" = r.\\\"syn_g1_surname\\\") AND (l.\\\"syn_g0_surname\\\" = r.\\\"syn_g0_surname\\\") AND (l.\\\"g1_dob_arc1\\\" = r.\\\"g1_dob_arc1\\\") AND (l.\\\"g1_gender_arc\\\" = r.\\\"g1_gender_arc\\\")\", \"cumulative_rows\": 10304, \"cartesian\": 176384961, \"reduction_ratio\": \"The rolling reduction ratio with your given blocking rule(s) is 0.999942. This represents the reduction in the total number of comparisons due to your rule(s).\", \"start\": 8974}, {\"row_count\": 1647, \"rule\": \"(l.\\\"syn_g1_firstname\\\" = r.\\\"syn_g1_firstname\\\") AND (l.\\\"syn_g1_surname\\\" = r.\\\"syn_g1_surname\\\") AND (l.\\\"g1_dob_arc1\\\" = r.\\\"g1_dob_arc1\\\") AND (l.\\\"g1_gender_arc\\\" = r.\\\"g1_gender_arc\\\")\", \"cumulative_rows\": 11951, \"cartesian\": 176384961, \"reduction_ratio\": \"The rolling reduction ratio with your given blocking rule(s) is 0.999932. This represents the reduction in the total number of comparisons due to your rule(s).\", \"start\": 10304}, {\"row_count\": 1099, \"rule\": \"(l.\\\"syn_g1_firstname\\\" = r.\\\"syn_g1_firstname\\\") AND (l.\\\"syn_g1_surname\\\" = r.\\\"syn_g1_surname\\\") AND (l.\\\"syn_g0_surname\\\" = r.\\\"syn_g0_surname\\\") AND (l.\\\"g1_gender_arc\\\" = r.\\\"g1_gender_arc\\\")\", \"cumulative_rows\": 13050, \"cartesian\": 176384961, \"reduction_ratio\": \"The rolling reduction ratio with your given blocking rule(s) is 0.999926. This represents the reduction in the total number of comparisons due to your rule(s).\", \"start\": 11951}]}}, {\"mode\": \"vega-lite\"});\n",
       "</script>"
      ],
      "text/plain": [
       "alt.Chart(...)"
      ]
     },
     "execution_count": 2,
     "metadata": {},
     "output_type": "execute_result"
    }
   ],
   "source": [
    "from splink.duckdb.blocking_rule_library import block_on\n",
    "import splink.duckdb.comparison_template_library as ctl\n",
    "import splink.duckdb.comparison_library as cl\n",
    "\n",
    "# link_only - setting 1: basic comparison\n",
    "settings_deterministic =  {\n",
    "    \"link_type\": \"link_only\",\n",
    "    \"blocking_rules_to_generate_predictions\": [\n",
    "        block_on([\"syn_g1_firstname\", \"syn_g1_surname\", \"syn_g0_surname\", \"g1_dob_arc1\"]),\n",
    "        block_on([\"syn_g1_firstname\", \"syn_g0_surname\", \"g1_dob_arc1\", \"g1_gender_arc\"]),\n",
    "        block_on([\"syn_g1_surname\", \"syn_g0_surname\", \"g1_dob_arc1\", \"g1_gender_arc\"]),\n",
    "        block_on([\"syn_g1_firstname\", \"syn_g1_surname\", \"g1_dob_arc1\", \"g1_gender_arc\"]),\n",
    "        block_on([\"syn_g1_firstname\", \"syn_g1_surname\", \"syn_g0_surname\", \"g1_gender_arc\"]),\n",
    "    ],  \n",
    "    \"comparisons\": [],\n",
    "    \"retain_matching_columns\":True,\n",
    "    \"retain_intermediate_calculation_columns\":True,\n",
    "    \"additional_columns_to_retain\": [\n",
    "        \"ethgroup\",\n",
    "        \"imddecile\",\n",
    "        \"maternal_agecat\",\n",
    "    ]\n",
    "}\n",
    "\n",
    "linker = DuckDBLinker(\n",
    "    [gold_df, df],\n",
    "    settings_dict= settings_deterministic,\n",
    "    input_table_aliases=[\"df_left\",\"df_right\"]\n",
    ")\n",
    "\n",
    "#linker.save_model_to_json(out_path = \"linkage_outputs\\\\dataset2\\\\scenario3_dataset1\\\\deterministic_linkage_settings.json\", overwrite = True)\n",
    "linker.cumulative_num_comparisons_from_blocking_rules_chart()"
   ]
  },
  {
   "cell_type": "code",
   "execution_count": 3,
   "metadata": {},
   "outputs": [],
   "source": [
    "df_predict = linker.deterministic_link()\n",
    "df_predict.as_pandas_dataframe().head()\n",
    "deterministic_scen1 = df_predict.as_pandas_dataframe()\n",
    "deterministic_scen1.to_csv(f\"linkage_outputs\\\\scen3\\\\dataset{data_set}\\\\deterministic.csv\")"
   ]
  },
  {
   "cell_type": "code",
   "execution_count": 4,
   "metadata": {},
   "outputs": [
    {
     "name": "stderr",
     "output_type": "stream",
     "text": [
      "Completed iteration 1, root rows count 62\n",
      "Completed iteration 2, root rows count 3\n",
      "Completed iteration 3, root rows count 0\n"
     ]
    }
   ],
   "source": [
    "clusters = linker.cluster_pairwise_predictions_at_threshold(df_predict, threshold_match_probability=1)\n"
   ]
  },
  {
   "cell_type": "code",
   "execution_count": 7,
   "metadata": {},
   "outputs": [
    {
     "data": {
      "text/html": [
       "\n",
       "        <iframe\n",
       "            width=\"100%\"\n",
       "            height=\"1200\"\n",
       "            src=\"./linkage_outputs/scenario1_dataset1/dashboard.html\"\n",
       "            frameborder=\"0\"\n",
       "            allowfullscreen\n",
       "            \n",
       "        ></iframe>\n",
       "        "
      ],
      "text/plain": [
       "<IPython.lib.display.IFrame at 0x26f0d630520>"
      ]
     },
     "execution_count": 7,
     "metadata": {},
     "output_type": "execute_result"
    }
   ],
   "source": [
    "clusters.as_pandas_dataframe(limit=5)\n",
    "linker.cluster_studio_dashboard(df_predict, clusters, out_path = \"linkage_outputs\\\\scenario1_dataset1\\\\dashboard.html\", sampling_method = 'by_cluster_size', overwrite = True )\n",
    "\n",
    "from IPython.display import IFrame\n",
    "\n",
    "IFrame(\n",
    "    src=\"./linkage_outputs/scenario1_dataset1/dashboard.html\", width = \"100%\", height = 1200\n",
    ")\n"
   ]
  },
  {
   "cell_type": "code",
   "execution_count": 36,
   "metadata": {},
   "outputs": [],
   "source": [
    "# Define Comparisons - lower JW weights should not matter, try anyway. remove date 3 months.\n",
    "import splink.duckdb.comparison_library as cl\n",
    "import splink.duckdb.comparison_template_library as ctl\n",
    "import splink.duckdb.comparison_level_library as cll\n",
    "\n",
    "comparison_syn_g1_first_name = {\n",
    "    \"output_column_name\": \"syn_g1_firstname\",\n",
    "    \"comparison_description\": \"G1 First name jaro winkler\",\n",
    "    \"comparison_levels\": [\n",
    "        {\n",
    "            \"sql_condition\": \"syn_g1_firstname_l IS NULL OR syn_g1_firstname_r IS NULL\",\n",
    "            \"label_for_charts\": \"Null\",\n",
    "            \"is_null_level\": True,\n",
    "        },\n",
    "        {\n",
    "            \"sql_condition\": \"syn_g1_firstname_l = syn_g1_firstname_r\",\n",
    "            \"label_for_charts\": \"Exact match\",\n",
    "        },\n",
    "        {\n",
    "            \"sql_condition\": 'jaro_winkler_similarity(\"syn_g1_firstname_l\", \"syn_g1_firstname_r\") >= 0.8',\n",
    "            \"label_for_charts\": \"Jaro_winkler_similarity 0.8\",\n",
    "\n",
    "        },\n",
    "        {\"sql_condition\": \"ELSE\", \"label_for_charts\": \"All other comparisons\"},\n",
    "    ],\n",
    "}\n",
    "\n",
    "comparison_syn_g0_surname = {\n",
    "    \"output_column_name\": \"syn_g0_surname\",\n",
    "    \"comparison_description\": \"G0 surname jaro winkler\",\n",
    "    \"comparison_levels\": [\n",
    "        {\n",
    "            \"sql_condition\": \"syn_g0_surname_l IS NULL OR syn_g0_surname_r IS NULL\",\n",
    "            \"label_for_charts\": \"Null\",\n",
    "            \"is_null_level\": True,\n",
    "        },\n",
    "        {\n",
    "            \"sql_condition\": \"syn_g0_surname_l = syn_g0_surname_r\",\n",
    "            \"label_for_charts\": \"Exact match\",\n",
    "        },\n",
    "        {\n",
    "            \"sql_condition\": 'jaro_winkler_similarity(\"syn_g0_surname_l\", \"syn_g0_surname_r\") >= 0.8',\n",
    "            \"label_for_charts\": \"Jaro_winkler_similarity 0.8\",\n",
    "\n",
    "        },\n",
    "        {\"sql_condition\": \"ELSE\", \"label_for_charts\": \"All other comparisons\"},\n",
    "    ],\n",
    "}\n",
    "\n",
    "comparison_syn_g1_surname = {\n",
    "    \"output_column_name\": \"syn_g1_surname\",\n",
    "    \"comparison_description\": \"G1 surname jaro winkler\",\n",
    "    \"comparison_levels\": [\n",
    "        {\n",
    "            \"sql_condition\": \"syn_g1_surname_l IS NULL OR syn_g1_surname_r IS NULL\",\n",
    "            \"label_for_charts\": \"Null\",\n",
    "            \"is_null_level\": True,\n",
    "        },\n",
    "        {\n",
    "            \"sql_condition\": \"syn_g1_surname_l = syn_g1_surname_r\",\n",
    "            \"label_for_charts\": \"Exact match\",\n",
    "        },\n",
    "        {\n",
    "            \"sql_condition\": 'jaro_winkler_similarity(\"syn_g1_surname_l\", \"syn_g1_surname_r\") >= 0.8',\n",
    "            \"label_for_charts\": \"Jaro_winkler_similarity 0.8\",\n",
    "\n",
    "        },\n",
    "        {\"sql_condition\": \"ELSE\", \"label_for_charts\": \"All other comparisons\"},\n",
    "    ],\n",
    "}\n",
    "\"\"\"\n",
    "dob_comparison = {\n",
    "            \"output_column_name\": \"g1_dob_arc1\",\n",
    "            \"comparison_description\": \"Exact match vs. Date_Of_Birth within levenshtein thresholds 1, 2 vs. Dates within the following thresholds Year(s): 1, Year(s): 10 vs. anything else\",\n",
    "            \"comparison_levels\": [\n",
    "                cll.null_level(\"g1_dob_arc1\"),\n",
    "                cll.exact_match_level(\"g1_dob_arc1\"),\n",
    "                cll.levenshtein_level(\"g1_dob_arc1\", 1),\n",
    "                cll.levenshtein_level(\"g1_dob_arc1\", 2),\n",
    "                cll.datediff_level(\"g1_dob_arc1\",\n",
    "                                    date_threshold=1,\n",
    "                                    date_metric=\"year\"),\n",
    "                cll.datediff_level(\"g1_dob_arc1\",\n",
    "                                    date_threshold=10,\n",
    "                                    date_metric=\"year\"),\n",
    "                cll.else_level(),\n",
    "            ],\n",
    "        }\n",
    "\n",
    "comparison_date = {\n",
    "    \"output_column_name\": \"g1_dob_arc1\",\n",
    "    \"comparison_description\": \"exact match vs dob within 3 months vs anything else\",\n",
    "    \"comparison_levels\": [\n",
    "        cll.null_level(\"g1_dob_arc1\"),\n",
    "        cll.exact_match_level(\"g1_dob_arc1\"),\n",
    "        cll.else_level(),\n",
    "    ],\n",
    "}\n",
    "\n",
    "\"\"\"\n",
    "comparison_date = {\n",
    "    \"output_column_name\": \"g1_dob_arc1\",\n",
    "    \"comparison_description\": \"exact match vs anything else\",\n",
    "    \"comparison_levels\": [\n",
    "        cll.null_level(\"g1_dob_arc1\"),\n",
    "        cll.exact_match_level(\"g1_dob_arc1\", m_probability =  0.999),\n",
    "        cll.else_level(m_probability = 0.001),\n",
    "    ],\n",
    "}\n",
    "\n",
    "comparison_gender = {\n",
    "    \"output_column_name\": \"g1_gender_arc\",\n",
    "    \"comparison_description\": \"exact match vs anything else\",\n",
    "    \"comparison_levels\": [\n",
    "        cll.null_level(\"g1_gender_arc\"),\n",
    "        cll.exact_match_level(\"g1_gender_arc\", m_probability =  0.999),\n",
    "        cll.else_level(m_probability = 0.001),\n",
    "    ],\n",
    "}\n"
   ]
  },
  {
   "cell_type": "code",
   "execution_count": 4,
   "metadata": {},
   "outputs": [
    {
     "data": {
      "text/html": [
       "\n",
       "<style>\n",
       "  #altair-viz-280eb9f6af92444a9f53fd7ca6ff0639.vega-embed {\n",
       "    width: 100%;\n",
       "    display: flex;\n",
       "  }\n",
       "\n",
       "  #altair-viz-280eb9f6af92444a9f53fd7ca6ff0639.vega-embed details,\n",
       "  #altair-viz-280eb9f6af92444a9f53fd7ca6ff0639.vega-embed details summary {\n",
       "    position: relative;\n",
       "  }\n",
       "</style>\n",
       "<div id=\"altair-viz-280eb9f6af92444a9f53fd7ca6ff0639\"></div>\n",
       "<script type=\"text/javascript\">\n",
       "  var VEGA_DEBUG = (typeof VEGA_DEBUG == \"undefined\") ? {} : VEGA_DEBUG;\n",
       "  (function(spec, embedOpt){\n",
       "    let outputDiv = document.currentScript.previousElementSibling;\n",
       "    if (outputDiv.id !== \"altair-viz-280eb9f6af92444a9f53fd7ca6ff0639\") {\n",
       "      outputDiv = document.getElementById(\"altair-viz-280eb9f6af92444a9f53fd7ca6ff0639\");\n",
       "    }\n",
       "    const paths = {\n",
       "      \"vega\": \"https://cdn.jsdelivr.net/npm/vega@5?noext\",\n",
       "      \"vega-lib\": \"https://cdn.jsdelivr.net/npm/vega-lib?noext\",\n",
       "      \"vega-lite\": \"https://cdn.jsdelivr.net/npm/vega-lite@5.8.0?noext\",\n",
       "      \"vega-embed\": \"https://cdn.jsdelivr.net/npm/vega-embed@6?noext\",\n",
       "    };\n",
       "\n",
       "    function maybeLoadScript(lib, version) {\n",
       "      var key = `${lib.replace(\"-\", \"\")}_version`;\n",
       "      return (VEGA_DEBUG[key] == version) ?\n",
       "        Promise.resolve(paths[lib]) :\n",
       "        new Promise(function(resolve, reject) {\n",
       "          var s = document.createElement('script');\n",
       "          document.getElementsByTagName(\"head\")[0].appendChild(s);\n",
       "          s.async = true;\n",
       "          s.onload = () => {\n",
       "            VEGA_DEBUG[key] = version;\n",
       "            return resolve(paths[lib]);\n",
       "          };\n",
       "          s.onerror = () => reject(`Error loading script: ${paths[lib]}`);\n",
       "          s.src = paths[lib];\n",
       "        });\n",
       "    }\n",
       "\n",
       "    function showError(err) {\n",
       "      outputDiv.innerHTML = `<div class=\"error\" style=\"color:red;\">${err}</div>`;\n",
       "      throw err;\n",
       "    }\n",
       "\n",
       "    function displayChart(vegaEmbed) {\n",
       "      vegaEmbed(outputDiv, spec, embedOpt)\n",
       "        .catch(err => showError(`Javascript Error: ${err.message}<br>This usually means there's a typo in your chart specification. See the javascript console for the full traceback.`));\n",
       "    }\n",
       "\n",
       "    if(typeof define === \"function\" && define.amd) {\n",
       "      requirejs.config({paths});\n",
       "      require([\"vega-embed\"], displayChart, err => showError(`Error loading script: ${err.message}`));\n",
       "    } else {\n",
       "      maybeLoadScript(\"vega\", \"5\")\n",
       "        .then(() => maybeLoadScript(\"vega-lite\", \"5.8.0\"))\n",
       "        .then(() => maybeLoadScript(\"vega-embed\", \"6\"))\n",
       "        .catch(showError)\n",
       "        .then(() => displayChart(vegaEmbed));\n",
       "    }\n",
       "  })({\"config\": {\"view\": {\"continuousWidth\": 300, \"continuousHeight\": 300}}, \"data\": {\"name\": \"data-0728d34b30e24a1103c08b1443824488\"}, \"mark\": \"bar\", \"encoding\": {\"color\": {\"field\": \"rule\", \"legend\": null, \"scale\": {\"scheme\": \"category20c\"}}, \"order\": {\"field\": \"cumulative_rows\"}, \"tooltip\": [{\"field\": \"rule\", \"title\": \"SQL Condition\", \"type\": \"nominal\"}, {\"field\": \"row_count\", \"format\": \",\", \"title\": \"Comparisons Generated\", \"type\": \"quantitative\"}, {\"field\": \"cumulative_rows\", \"format\": \",\", \"title\": \"Cumulative Comparisons\", \"type\": \"quantitative\"}, {\"field\": \"cartesian\", \"format\": \",\", \"title\": \"Cartesian Product of Input Data\", \"type\": \"quantitative\"}, {\"field\": \"reduction_ratio\", \"title\": \"Reduction Ratio (cumulative rows/cartesian product)\", \"type\": \"nominal\"}], \"x\": {\"field\": \"start\", \"title\": \"Comparisons Generated by Rule(s)\", \"type\": \"quantitative\"}, \"x2\": {\"field\": \"cumulative_rows\"}, \"y\": {\"field\": \"rule\", \"sort\": [\"-x2\"], \"title\": \"SQL Blocking Rule\"}}, \"height\": {\"step\": 20}, \"title\": {\"text\": \"Count of Additional Comparisons Generated by Each Blocking Rule\", \"subtitle\": \"(Counts exclude comparisons already generated by previous rules)\"}, \"width\": 450, \"$schema\": \"https://vega.github.io/schema/vega-lite/v5.9.3.json\", \"datasets\": {\"data-0728d34b30e24a1103c08b1443824488\": [{\"row_count\": 786294, \"rule\": \"l.\\\"syn_g1_firstname\\\" = r.\\\"syn_g1_firstname\\\"\", \"cumulative_rows\": 786294, \"cartesian\": 176384961, \"reduction_ratio\": \"The rolling reduction ratio with your given blocking rule(s) is 0.995542. This represents the reduction in the total number of comparisons due to your rule(s).\", \"start\": 0}, {\"row_count\": 163219, \"rule\": \"l.\\\"syn_g1_surname\\\" = r.\\\"syn_g1_surname\\\"\", \"cumulative_rows\": 949513, \"cartesian\": 176384961, \"reduction_ratio\": \"The rolling reduction ratio with your given blocking rule(s) is 0.994617. This represents the reduction in the total number of comparisons due to your rule(s).\", \"start\": 786294}, {\"row_count\": 42611, \"rule\": \"l.\\\"syn_g0_surname\\\" = r.\\\"syn_g0_surname\\\"\", \"cumulative_rows\": 992124, \"cartesian\": 176384961, \"reduction_ratio\": \"The rolling reduction ratio with your given blocking rule(s) is 0.994375. This represents the reduction in the total number of comparisons due to your rule(s).\", \"start\": 949513}, {\"row_count\": 150315, \"rule\": \"(l.\\\"g1_dob_arc1\\\" = r.\\\"g1_dob_arc1\\\") AND (l.\\\"g1_gender_arc\\\" = r.\\\"g1_gender_arc\\\")\", \"cumulative_rows\": 1142439, \"cartesian\": 176384961, \"reduction_ratio\": \"The rolling reduction ratio with your given blocking rule(s) is 0.993523. This represents the reduction in the total number of comparisons due to your rule(s).\", \"start\": 992124}]}}, {\"mode\": \"vega-lite\"});\n",
       "</script>"
      ],
      "text/plain": [
       "alt.Chart(...)"
      ]
     },
     "execution_count": 4,
     "metadata": {},
     "output_type": "execute_result"
    }
   ],
   "source": [
    "# Scenario 2, relaxed blocking rules, strategy 2\n",
    "from splink.duckdb.blocking_rule_library import block_on\n",
    "setting_test = {\n",
    "        \"link_type\": \"link_only\",\n",
    "    \"probability_two_random_records_match\": 1/13281,\n",
    "    \"blocking_rules_to_generate_predictions\": [       \n",
    "        block_on([\"syn_g1_firstname\"]),\n",
    "        block_on([\"syn_g1_surname\"]),\n",
    "        block_on([\"syn_g0_surname\"]),\n",
    "        block_on([\"g1_dob_arc1\", \"g1_gender_arc\"]),\n",
    "    ]\n",
    "}\n",
    "\n",
    "linker = DuckDBLinker(\n",
    "    [gold_df, df],\n",
    "    settings_dict= setting_test,\n",
    "    input_table_aliases=[\"df_left\",\"df_right\"]\n",
    ")\n",
    "\n",
    "\n",
    "linker.cumulative_num_comparisons_from_blocking_rules_chart()"
   ]
  },
  {
   "cell_type": "code",
   "execution_count": 37,
   "metadata": {},
   "outputs": [],
   "source": [
    "# Scenario 2, simple probabilistic linkage, blocking strategy 3\n",
    "from splink.duckdb.blocking_rule_library import block_on\n",
    "import splink.duckdb.comparison_template_library as ctl\n",
    "import splink.duckdb.comparison_library as cl\n",
    "\n",
    "\n",
    "settings_prob = {\n",
    "    \"link_type\": \"link_only\",\n",
    "    \"probability_two_random_records_match\": 1/13281,\n",
    "    \"blocking_rules_to_generate_predictions\": [       \n",
    "        block_on([\"syn_g1_firstname\"]),\n",
    "        block_on([\"syn_g1_surname\"]),\n",
    "        block_on([\"syn_g0_surname\"]),\n",
    "        block_on([\"g1_dob_arc1\", \"g1_gender_arc\"]),\n",
    "    ],  \n",
    "    \"comparisons\":[\n",
    "        comparison_syn_g1_first_name,\n",
    "        comparison_syn_g1_surname,\n",
    "        comparison_syn_g0_surname,\n",
    "        comparison_date,\n",
    "        comparison_gender,     \n",
    "    ],\n",
    "    \"retain_matching_columns\":True,\n",
    "    \"retain_intermediate_calculation_columns\":True,\n",
    "    \"additional_columns_to_retain\": [\n",
    "        \"ethgroup\",\n",
    "        \"imddecile\",\n",
    "        \"maternal_agecat\",\n",
    "    ]\n",
    "}\n",
    "# set retain to false to run quickly\n",
    "#linker.save_model_to_json(out_path = \"linkage_outputs\\\\scenario3_dataset1\\\\probablistic_linkage_settings.json\", overwrite = True)\n",
    "\n",
    "linker = DuckDBLinker(\n",
    "    [gold_df, df],\n",
    "    settings_dict= settings_prob,\n",
    "    input_table_aliases=[\"df_left\",\"df_right\"]\n",
    ")\n"
   ]
  },
  {
   "cell_type": "code",
   "execution_count": 38,
   "metadata": {},
   "outputs": [
    {
     "name": "stderr",
     "output_type": "stream",
     "text": [
      "----- Estimating u probabilities using random sampling -----\n"
     ]
    },
    {
     "data": {
      "application/vnd.jupyter.widget-view+json": {
       "model_id": "cb5ee9af3697450a997ab2ae686a7a67",
       "version_major": 2,
       "version_minor": 0
      },
      "text/plain": [
       "FloatProgress(value=0.0, layout=Layout(width='auto'), style=ProgressStyle(bar_color='black'))"
      ]
     },
     "metadata": {},
     "output_type": "display_data"
    },
    {
     "name": "stderr",
     "output_type": "stream",
     "text": [
      "\n",
      "Estimated u probabilities using random sampling\n",
      "\n",
      "Your model is not yet fully trained. Missing estimates for:\n",
      "    - syn_g1_firstname (no m values are trained).\n",
      "    - syn_g1_surname (no m values are trained).\n",
      "    - syn_g0_surname (no m values are trained).\n"
     ]
    }
   ],
   "source": [
    "# Estimate U using random sampling\n",
    "linker.estimate_u_using_random_sampling(max_pairs=2e7, seed = 1)"
   ]
  },
  {
   "cell_type": "code",
   "execution_count": 39,
   "metadata": {},
   "outputs": [
    {
     "name": "stderr",
     "output_type": "stream",
     "text": [
      "------- Estimating m probabilities using from column unique_id -------\n",
      "m probability not trained for g1_dob_arc1 - All other comparisons (comparison vector value: 0). This usually means the comparison level was never observed in the training data.\n",
      "m probability not trained for g1_gender_arc - All other comparisons (comparison vector value: 0). This usually means the comparison level was never observed in the training data.\n",
      "\n",
      "Your model is fully trained. All comparisons have at least one estimate for their m and u values\n"
     ]
    }
   ],
   "source": [
    "# Use labelled data for m probability.\n",
    "linker.estimate_m_from_label_column(\"unique_id\")"
   ]
  },
  {
   "cell_type": "code",
   "execution_count": 10,
   "metadata": {},
   "outputs": [
    {
     "data": {
      "text/html": [
       "\n",
       "<style>\n",
       "  #altair-viz-8ad6e13a192d4894907be820c4f6d6ca.vega-embed {\n",
       "    width: 100%;\n",
       "    display: flex;\n",
       "  }\n",
       "\n",
       "  #altair-viz-8ad6e13a192d4894907be820c4f6d6ca.vega-embed details,\n",
       "  #altair-viz-8ad6e13a192d4894907be820c4f6d6ca.vega-embed details summary {\n",
       "    position: relative;\n",
       "  }\n",
       "</style>\n",
       "<div id=\"altair-viz-8ad6e13a192d4894907be820c4f6d6ca\"></div>\n",
       "<script type=\"text/javascript\">\n",
       "  var VEGA_DEBUG = (typeof VEGA_DEBUG == \"undefined\") ? {} : VEGA_DEBUG;\n",
       "  (function(spec, embedOpt){\n",
       "    let outputDiv = document.currentScript.previousElementSibling;\n",
       "    if (outputDiv.id !== \"altair-viz-8ad6e13a192d4894907be820c4f6d6ca\") {\n",
       "      outputDiv = document.getElementById(\"altair-viz-8ad6e13a192d4894907be820c4f6d6ca\");\n",
       "    }\n",
       "    const paths = {\n",
       "      \"vega\": \"https://cdn.jsdelivr.net/npm/vega@5?noext\",\n",
       "      \"vega-lib\": \"https://cdn.jsdelivr.net/npm/vega-lib?noext\",\n",
       "      \"vega-lite\": \"https://cdn.jsdelivr.net/npm/vega-lite@5.8.0?noext\",\n",
       "      \"vega-embed\": \"https://cdn.jsdelivr.net/npm/vega-embed@6?noext\",\n",
       "    };\n",
       "\n",
       "    function maybeLoadScript(lib, version) {\n",
       "      var key = `${lib.replace(\"-\", \"\")}_version`;\n",
       "      return (VEGA_DEBUG[key] == version) ?\n",
       "        Promise.resolve(paths[lib]) :\n",
       "        new Promise(function(resolve, reject) {\n",
       "          var s = document.createElement('script');\n",
       "          document.getElementsByTagName(\"head\")[0].appendChild(s);\n",
       "          s.async = true;\n",
       "          s.onload = () => {\n",
       "            VEGA_DEBUG[key] = version;\n",
       "            return resolve(paths[lib]);\n",
       "          };\n",
       "          s.onerror = () => reject(`Error loading script: ${paths[lib]}`);\n",
       "          s.src = paths[lib];\n",
       "        });\n",
       "    }\n",
       "\n",
       "    function showError(err) {\n",
       "      outputDiv.innerHTML = `<div class=\"error\" style=\"color:red;\">${err}</div>`;\n",
       "      throw err;\n",
       "    }\n",
       "\n",
       "    function displayChart(vegaEmbed) {\n",
       "      vegaEmbed(outputDiv, spec, embedOpt)\n",
       "        .catch(err => showError(`Javascript Error: ${err.message}<br>This usually means there's a typo in your chart specification. See the javascript console for the full traceback.`));\n",
       "    }\n",
       "\n",
       "    if(typeof define === \"function\" && define.amd) {\n",
       "      requirejs.config({paths});\n",
       "      require([\"vega-embed\"], displayChart, err => showError(`Error loading script: ${err.message}`));\n",
       "    } else {\n",
       "      maybeLoadScript(\"vega\", \"5\")\n",
       "        .then(() => maybeLoadScript(\"vega-lite\", \"5.8.0\"))\n",
       "        .then(() => maybeLoadScript(\"vega-embed\", \"6\"))\n",
       "        .catch(showError)\n",
       "        .then(() => displayChart(vegaEmbed));\n",
       "    }\n",
       "  })({\"config\": {\"view\": {\"continuousWidth\": 300, \"continuousHeight\": 300, \"discreteHeight\": 60, \"discreteWidth\": 400}, \"header\": {\"title\": null}, \"mark\": {\"tooltip\": null}, \"title\": {\"anchor\": \"middle\"}}, \"vconcat\": [{\"mark\": {\"type\": \"bar\", \"clip\": true, \"height\": 15}, \"encoding\": {\"color\": {\"field\": \"log2_bayes_factor\", \"scale\": {\"domain\": [-10, 0, 10], \"interpolate\": \"lab\", \"range\": [\"red\", \"#bbbbbb\", \"green\"]}, \"title\": \"Match weight\", \"type\": \"quantitative\"}, \"tooltip\": [{\"field\": \"comparison_name\", \"title\": \"Comparison name\", \"type\": \"nominal\"}, {\"field\": \"probability_two_random_records_match\", \"format\": \".4f\", \"title\": \"Probability two random records match\", \"type\": \"nominal\"}, {\"field\": \"log2_bayes_factor\", \"format\": \",.4f\", \"title\": \"Equivalent match weight\", \"type\": \"quantitative\"}, {\"field\": \"bayes_factor_description\", \"title\": \"Match weight description\", \"type\": \"nominal\"}], \"x\": {\"axis\": {\"domain\": false, \"gridColor\": {\"condition\": {\"test\": \"abs(datum.value / 10)  <= 1 & datum.value % 10 === 0\", \"value\": \"#aaa\"}, \"value\": \"#ddd\"}, \"gridDash\": {\"condition\": {\"test\": \"abs(datum.value / 10) == 1\", \"value\": [3]}, \"value\": null}, \"gridWidth\": {\"condition\": {\"test\": \"abs(datum.value / 10)  <= 1 & datum.value % 10 === 0\", \"value\": 2}, \"value\": 1}, \"labels\": false, \"ticks\": false, \"title\": \"\"}, \"field\": \"log2_bayes_factor\", \"scale\": {\"domain\": [-14, 14]}, \"type\": \"quantitative\"}, \"y\": {\"axis\": {\"title\": \"Prior (starting) match weight\", \"titleAlign\": \"right\", \"titleAngle\": 0, \"titleFontWeight\": \"normal\"}, \"field\": \"label_for_charts\", \"sort\": {\"field\": \"comparison_vector_value\", \"order\": \"descending\"}, \"type\": \"nominal\"}}, \"height\": 20, \"transform\": [{\"filter\": \"(datum.comparison_name == 'probability_two_random_records_match')\"}]}, {\"mark\": {\"type\": \"bar\", \"clip\": true}, \"encoding\": {\"color\": {\"field\": \"log2_bayes_factor\", \"scale\": {\"domain\": [-10, 0, 10], \"interpolate\": \"lab\", \"range\": [\"red\", \"#bbbbbb\", \"green\"]}, \"title\": \"Match weight\", \"type\": \"quantitative\"}, \"row\": {\"field\": \"comparison_name\", \"header\": {\"labelAlign\": \"left\", \"labelAnchor\": \"middle\", \"labelAngle\": 0}, \"sort\": {\"field\": \"comparison_sort_order\"}, \"type\": \"nominal\"}, \"tooltip\": [{\"field\": \"comparison_name\", \"title\": \"Comparison name\", \"type\": \"nominal\"}, {\"field\": \"label_for_charts\", \"title\": \"Label\", \"type\": \"ordinal\"}, {\"field\": \"sql_condition\", \"title\": \"SQL condition\", \"type\": \"nominal\"}, {\"field\": \"m_probability\", \"format\": \".4f\", \"title\": \"M probability\", \"type\": \"quantitative\"}, {\"field\": \"u_probability\", \"format\": \".4f\", \"title\": \"U probability\", \"type\": \"quantitative\"}, {\"field\": \"bayes_factor\", \"format\": \",.4f\", \"title\": \"Bayes factor = m/u\", \"type\": \"quantitative\"}, {\"field\": \"log2_bayes_factor\", \"format\": \",.4f\", \"title\": \"Match weight = log2(m/u)\", \"type\": \"quantitative\"}, {\"field\": \"bayes_factor_description\", \"title\": \"Match weight description\", \"type\": \"nominal\"}], \"x\": {\"axis\": {\"gridColor\": {\"condition\": {\"test\": \"abs(datum.value / 10)  <= 1 & datum.value % 10 === 0\", \"value\": \"#aaa\"}, \"value\": \"#ddd\"}, \"gridDash\": {\"condition\": {\"test\": \"abs(datum.value / 10) == 1\", \"value\": [3]}, \"value\": null}, \"gridWidth\": {\"condition\": {\"test\": \"abs(datum.value / 10)  <= 1 & datum.value % 10 === 0\", \"value\": 2}, \"value\": 1}, \"title\": \"Comparison level match weight = log2(m/u)\"}, \"field\": \"log2_bayes_factor\", \"scale\": {\"domain\": [-14, 14]}, \"type\": \"quantitative\"}, \"y\": {\"axis\": {\"title\": null}, \"field\": \"label_for_charts\", \"sort\": {\"field\": \"comparison_vector_value\", \"order\": \"descending\"}, \"type\": \"nominal\"}}, \"height\": {\"step\": 12}, \"resolve\": {\"axis\": {\"y\": \"independent\"}, \"scale\": {\"y\": \"independent\"}}, \"transform\": [{\"filter\": \"(datum.comparison_name != 'probability_two_random_records_match')\"}]}], \"data\": {\"name\": \"data-ee50064ea6567c373d75f19c5d9d811c\"}, \"params\": [{\"name\": \"mouse_zoom\", \"select\": {\"type\": \"interval\", \"encodings\": [\"x\"]}, \"bind\": \"scales\", \"views\": []}], \"resolve\": {\"axis\": {\"y\": \"independent\"}, \"scale\": {\"y\": \"independent\"}}, \"title\": {\"text\": \"Model parameters (components of final match weight)\", \"subtitle\": \"Use mousewheel to zoom\"}, \"$schema\": \"https://vega.github.io/schema/vega-lite/v5.9.3.json\", \"datasets\": {\"data-ee50064ea6567c373d75f19c5d9d811c\": [{\"comparison_name\": \"probability_two_random_records_match\", \"sql_condition\": null, \"label_for_charts\": \"\", \"m_probability\": null, \"u_probability\": null, \"m_probability_description\": null, \"u_probability_description\": null, \"has_tf_adjustments\": false, \"tf_adjustment_column\": null, \"tf_adjustment_weight\": null, \"is_null_level\": false, \"bayes_factor\": 7.53012048192771e-05, \"log2_bayes_factor\": -13.696967526234287, \"comparison_vector_value\": 0, \"max_comparison_vector_value\": 0, \"bayes_factor_description\": \"The probability that two random records drawn at random match is 0.000 or one in  13,281.0 records.This is equivalent to a starting match weight of -13.697.\", \"probability_two_random_records_match\": 7.529553497477599e-05, \"comparison_sort_order\": -1}, {\"comparison_name\": \"syn_g1_firstname\", \"sql_condition\": \"syn_g1_firstname_l = syn_g1_firstname_r\", \"label_for_charts\": \"Exact match\", \"m_probability\": 0.864014521252458, \"u_probability\": 0.004490954690628057, \"m_probability_description\": \"Amongst matching record comparisons, 86.40% of records are in the exact match comparison level\", \"u_probability_description\": \"Amongst non-matching record comparisons, 0.45% of records are in the exact match comparison level\", \"has_tf_adjustments\": false, \"tf_adjustment_column\": null, \"tf_adjustment_weight\": 1.0, \"is_null_level\": false, \"bayes_factor\": 192.38994395902628, \"log2_bayes_factor\": 7.587889582543846, \"comparison_vector_value\": 2, \"max_comparison_vector_value\": 2, \"bayes_factor_description\": \"If comparison level is `exact match` then comparison is 192.39 times more likely to be a match\", \"probability_two_random_records_match\": 7.529553497477599e-05, \"comparison_sort_order\": 0}, {\"comparison_name\": \"syn_g1_firstname\", \"sql_condition\": \"jaro_winkler_similarity(\\\"syn_g1_firstname_l\\\", \\\"syn_g1_firstname_r\\\") >= 0.8\", \"label_for_charts\": \"Jaro_winkler_similarity 0.8\", \"m_probability\": 0.030252609287551052, \"u_probability\": 0.005754220247955948, \"m_probability_description\": \"Amongst matching record comparisons, 3.03% of records are in the jaro_winkler_similarity 0.8 comparison level\", \"u_probability_description\": \"Amongst non-matching record comparisons, 0.58% of records are in the jaro_winkler_similarity 0.8 comparison level\", \"has_tf_adjustments\": false, \"tf_adjustment_column\": null, \"tf_adjustment_weight\": 1.0, \"is_null_level\": false, \"bayes_factor\": 5.2574646057904335, \"log2_bayes_factor\": 2.3943672325038925, \"comparison_vector_value\": 1, \"max_comparison_vector_value\": 2, \"bayes_factor_description\": \"If comparison level is `jaro_winkler_similarity 0.8` then comparison is 5.26 times more likely to be a match\", \"probability_two_random_records_match\": 7.529553497477599e-05, \"comparison_sort_order\": 0}, {\"comparison_name\": \"syn_g1_firstname\", \"sql_condition\": \"ELSE\", \"label_for_charts\": \"All other comparisons\", \"m_probability\": 0.10573286945999093, \"u_probability\": 0.989754825061416, \"m_probability_description\": \"Amongst matching record comparisons, 10.57% of records are in the all other comparisons comparison level\", \"u_probability_description\": \"Amongst non-matching record comparisons, 98.98% of records are in the all other comparisons comparison level\", \"has_tf_adjustments\": false, \"tf_adjustment_column\": null, \"tf_adjustment_weight\": 1.0, \"is_null_level\": false, \"bayes_factor\": 0.1068273341869589, \"log2_bayes_factor\": -3.226647254506208, \"comparison_vector_value\": 0, \"max_comparison_vector_value\": 2, \"bayes_factor_description\": \"If comparison level is `all other comparisons` then comparison is  9.36 times less likely to be a match\", \"probability_two_random_records_match\": 7.529553497477599e-05, \"comparison_sort_order\": 0}, {\"comparison_name\": \"syn_g1_surname\", \"sql_condition\": \"syn_g1_surname_l = syn_g1_surname_r\", \"label_for_charts\": \"Exact match\", \"m_probability\": 0.9279421730291394, \"u_probability\": 0.0009787396008917406, \"m_probability_description\": \"Amongst matching record comparisons, 92.79% of records are in the exact match comparison level\", \"u_probability_description\": \"Amongst non-matching record comparisons, 0.10% of records are in the exact match comparison level\", \"has_tf_adjustments\": false, \"tf_adjustment_column\": null, \"tf_adjustment_weight\": 1.0, \"is_null_level\": false, \"bayes_factor\": 948.09913912105, \"log2_bayes_factor\": 9.888894113919477, \"comparison_vector_value\": 2, \"max_comparison_vector_value\": 2, \"bayes_factor_description\": \"If comparison level is `exact match` then comparison is 948.10 times more likely to be a match\", \"probability_two_random_records_match\": 7.529553497477599e-05, \"comparison_sort_order\": 1}, {\"comparison_name\": \"syn_g1_surname\", \"sql_condition\": \"jaro_winkler_similarity(\\\"syn_g1_surname_l\\\", \\\"syn_g1_surname_r\\\") >= 0.8\", \"label_for_charts\": \"Jaro_winkler_similarity 0.8\", \"m_probability\": 0.00112943302462164, \"u_probability\": 0.003955277183587795, \"m_probability_description\": \"Amongst matching record comparisons, 0.11% of records are in the jaro_winkler_similarity 0.8 comparison level\", \"u_probability_description\": \"Amongst non-matching record comparisons, 0.40% of records are in the jaro_winkler_similarity 0.8 comparison level\", \"has_tf_adjustments\": false, \"tf_adjustment_column\": null, \"tf_adjustment_weight\": 1.0, \"is_null_level\": false, \"bayes_factor\": 0.2855509164586897, \"log2_bayes_factor\": -1.8081800800417098, \"comparison_vector_value\": 1, \"max_comparison_vector_value\": 2, \"bayes_factor_description\": \"If comparison level is `jaro_winkler_similarity 0.8` then comparison is  3.50 times less likely to be a match\", \"probability_two_random_records_match\": 7.529553497477599e-05, \"comparison_sort_order\": 1}, {\"comparison_name\": \"syn_g1_surname\", \"sql_condition\": \"ELSE\", \"label_for_charts\": \"All other comparisons\", \"m_probability\": 0.07092839394623898, \"u_probability\": 0.9950659832155204, \"m_probability_description\": \"Amongst matching record comparisons, 7.09% of records are in the all other comparisons comparison level\", \"u_probability_description\": \"Amongst non-matching record comparisons, 99.51% of records are in the all other comparisons comparison level\", \"has_tf_adjustments\": false, \"tf_adjustment_column\": null, \"tf_adjustment_weight\": 1.0, \"is_null_level\": false, \"bayes_factor\": 0.07128009111218574, \"log2_bayes_factor\": -3.8103570088209713, \"comparison_vector_value\": 0, \"max_comparison_vector_value\": 2, \"bayes_factor_description\": \"If comparison level is `all other comparisons` then comparison is  14.03 times less likely to be a match\", \"probability_two_random_records_match\": 7.529553497477599e-05, \"comparison_sort_order\": 1}, {\"comparison_name\": \"syn_g0_surname\", \"sql_condition\": \"syn_g0_surname_l = syn_g0_surname_r\", \"label_for_charts\": \"Exact match\", \"m_probability\": 0.8266696784880656, \"u_probability\": 0.0007806960879305416, \"m_probability_description\": \"Amongst matching record comparisons, 82.67% of records are in the exact match comparison level\", \"u_probability_description\": \"Amongst non-matching record comparisons, 0.08% of records are in the exact match comparison level\", \"has_tf_adjustments\": false, \"tf_adjustment_column\": null, \"tf_adjustment_weight\": 1.0, \"is_null_level\": false, \"bayes_factor\": 1058.8879479073478, \"log2_bayes_factor\": 10.04833421530357, \"comparison_vector_value\": 2, \"max_comparison_vector_value\": 2, \"bayes_factor_description\": \"If comparison level is `exact match` then comparison is 1,058.89 times more likely to be a match\", \"probability_two_random_records_match\": 7.529553497477599e-05, \"comparison_sort_order\": 2}, {\"comparison_name\": \"syn_g0_surname\", \"sql_condition\": \"jaro_winkler_similarity(\\\"syn_g0_surname_l\\\", \\\"syn_g0_surname_r\\\") >= 0.8\", \"label_for_charts\": \"Jaro_winkler_similarity 0.8\", \"m_probability\": 0.004668323168436112, \"u_probability\": 0.003483853860618026, \"m_probability_description\": \"Amongst matching record comparisons, 0.47% of records are in the jaro_winkler_similarity 0.8 comparison level\", \"u_probability_description\": \"Amongst non-matching record comparisons, 0.35% of records are in the jaro_winkler_similarity 0.8 comparison level\", \"has_tf_adjustments\": false, \"tf_adjustment_column\": null, \"tf_adjustment_weight\": 1.0, \"is_null_level\": false, \"bayes_factor\": 1.3399882300481927, \"log2_bayes_factor\": 0.4222203286489592, \"comparison_vector_value\": 1, \"max_comparison_vector_value\": 2, \"bayes_factor_description\": \"If comparison level is `jaro_winkler_similarity 0.8` then comparison is 1.34 times more likely to be a match\", \"probability_two_random_records_match\": 7.529553497477599e-05, \"comparison_sort_order\": 2}, {\"comparison_name\": \"syn_g0_surname\", \"sql_condition\": \"ELSE\", \"label_for_charts\": \"All other comparisons\", \"m_probability\": 0.16866199834349824, \"u_probability\": 0.9957354500514515, \"m_probability_description\": \"Amongst matching record comparisons, 16.87% of records are in the all other comparisons comparison level\", \"u_probability_description\": \"Amongst non-matching record comparisons, 99.57% of records are in the all other comparisons comparison level\", \"has_tf_adjustments\": false, \"tf_adjustment_column\": null, \"tf_adjustment_weight\": 1.0, \"is_null_level\": false, \"bayes_factor\": 0.16938434634900582, \"log2_bayes_factor\": -2.5616275406904103, \"comparison_vector_value\": 0, \"max_comparison_vector_value\": 2, \"bayes_factor_description\": \"If comparison level is `all other comparisons` then comparison is  5.90 times less likely to be a match\", \"probability_two_random_records_match\": 7.529553497477599e-05, \"comparison_sort_order\": 2}, {\"comparison_name\": \"g1_dob_arc1\", \"sql_condition\": \"\\\"g1_dob_arc1_l\\\" = \\\"g1_dob_arc1_r\\\"\", \"label_for_charts\": \"Exact match\", \"m_probability\": 0.9948046080867404, \"u_probability\": 0.0017084171119322287, \"m_probability_description\": \"Amongst matching record comparisons, 99.48% of records are in the exact match comparison level\", \"u_probability_description\": \"Amongst non-matching record comparisons, 0.17% of records are in the exact match comparison level\", \"has_tf_adjustments\": false, \"tf_adjustment_column\": null, \"tf_adjustment_weight\": 1.0, \"is_null_level\": false, \"bayes_factor\": 582.2960921771681, \"log2_bayes_factor\": 9.18560912656989, \"comparison_vector_value\": 1, \"max_comparison_vector_value\": 1, \"bayes_factor_description\": \"If comparison level is `exact match` then comparison is 582.30 times more likely to be a match\", \"probability_two_random_records_match\": 7.529553497477599e-05, \"comparison_sort_order\": 3}, {\"comparison_name\": \"g1_dob_arc1\", \"sql_condition\": \"ELSE\", \"label_for_charts\": \"All other comparisons\", \"m_probability\": 0.005195391913259544, \"u_probability\": 0.9982915828880677, \"m_probability_description\": \"Amongst matching record comparisons, 0.52% of records are in the all other comparisons comparison level\", \"u_probability_description\": \"Amongst non-matching record comparisons, 99.83% of records are in the all other comparisons comparison level\", \"has_tf_adjustments\": false, \"tf_adjustment_column\": null, \"tf_adjustment_weight\": 1.0, \"is_null_level\": false, \"bayes_factor\": 0.005204282999391042, \"log2_bayes_factor\": -7.586084869355606, \"comparison_vector_value\": 0, \"max_comparison_vector_value\": 1, \"bayes_factor_description\": \"If comparison level is `all other comparisons` then comparison is  192.15 times less likely to be a match\", \"probability_two_random_records_match\": 7.529553497477599e-05, \"comparison_sort_order\": 3}, {\"comparison_name\": \"g1_gender_arc\", \"sql_condition\": \"\\\"g1_gender_arc_l\\\" = \\\"g1_gender_arc_r\\\"\", \"label_for_charts\": \"Exact match\", \"m_probability\": 1.0, \"u_probability\": 0.5001772761799469, \"m_probability_description\": \"Amongst matching record comparisons, 100.00% of records are in the exact match comparison level\", \"u_probability_description\": \"Amongst non-matching record comparisons, 50.02% of records are in the exact match comparison level\", \"has_tf_adjustments\": false, \"tf_adjustment_column\": null, \"tf_adjustment_weight\": 1.0, \"is_null_level\": false, \"bayes_factor\": 1.999291146605856, \"log2_bayes_factor\": 0.9994885797259218, \"comparison_vector_value\": 1, \"max_comparison_vector_value\": 1, \"bayes_factor_description\": \"If comparison level is `exact match` then comparison is 2.00 times more likely to be a match\", \"probability_two_random_records_match\": 7.529553497477599e-05, \"comparison_sort_order\": 4}, {\"comparison_name\": \"g1_gender_arc\", \"sql_condition\": \"ELSE\", \"label_for_charts\": \"All other comparisons\", \"m_probability\": 0.001, \"u_probability\": 0.49982272382005316, \"m_probability_description\": \"Amongst matching record comparisons, 0.10% of records are in the all other comparisons comparison level\", \"u_probability_description\": \"Amongst non-matching record comparisons, 49.98% of records are in the all other comparisons comparison level\", \"has_tf_adjustments\": false, \"tf_adjustment_column\": null, \"tf_adjustment_weight\": 1.0, \"is_null_level\": false, \"bayes_factor\": 0.0020007093562237105, \"log2_bayes_factor\": -8.965272683030589, \"comparison_vector_value\": 0, \"max_comparison_vector_value\": 1, \"bayes_factor_description\": \"If comparison level is `all other comparisons` then comparison is  499.82 times less likely to be a match\", \"probability_two_random_records_match\": 7.529553497477599e-05, \"comparison_sort_order\": 4}]}}, {\"mode\": \"vega-lite\"});\n",
       "</script>"
      ],
      "text/plain": [
       "alt.VConcatChart(...)"
      ]
     },
     "execution_count": 10,
     "metadata": {},
     "output_type": "execute_result"
    }
   ],
   "source": [
    "linker.match_weights_chart()\n"
   ]
  },
  {
   "cell_type": "code",
   "execution_count": 12,
   "metadata": {},
   "outputs": [
    {
     "data": {
      "text/html": [
       "\n",
       "<style>\n",
       "  #altair-viz-5f2ae7c003fc4c66af548507bf208be7.vega-embed {\n",
       "    width: 100%;\n",
       "    display: flex;\n",
       "  }\n",
       "\n",
       "  #altair-viz-5f2ae7c003fc4c66af548507bf208be7.vega-embed details,\n",
       "  #altair-viz-5f2ae7c003fc4c66af548507bf208be7.vega-embed details summary {\n",
       "    position: relative;\n",
       "  }\n",
       "</style>\n",
       "<div id=\"altair-viz-5f2ae7c003fc4c66af548507bf208be7\"></div>\n",
       "<script type=\"text/javascript\">\n",
       "  var VEGA_DEBUG = (typeof VEGA_DEBUG == \"undefined\") ? {} : VEGA_DEBUG;\n",
       "  (function(spec, embedOpt){\n",
       "    let outputDiv = document.currentScript.previousElementSibling;\n",
       "    if (outputDiv.id !== \"altair-viz-5f2ae7c003fc4c66af548507bf208be7\") {\n",
       "      outputDiv = document.getElementById(\"altair-viz-5f2ae7c003fc4c66af548507bf208be7\");\n",
       "    }\n",
       "    const paths = {\n",
       "      \"vega\": \"https://cdn.jsdelivr.net/npm/vega@5?noext\",\n",
       "      \"vega-lib\": \"https://cdn.jsdelivr.net/npm/vega-lib?noext\",\n",
       "      \"vega-lite\": \"https://cdn.jsdelivr.net/npm/vega-lite@5.8.0?noext\",\n",
       "      \"vega-embed\": \"https://cdn.jsdelivr.net/npm/vega-embed@6?noext\",\n",
       "    };\n",
       "\n",
       "    function maybeLoadScript(lib, version) {\n",
       "      var key = `${lib.replace(\"-\", \"\")}_version`;\n",
       "      return (VEGA_DEBUG[key] == version) ?\n",
       "        Promise.resolve(paths[lib]) :\n",
       "        new Promise(function(resolve, reject) {\n",
       "          var s = document.createElement('script');\n",
       "          document.getElementsByTagName(\"head\")[0].appendChild(s);\n",
       "          s.async = true;\n",
       "          s.onload = () => {\n",
       "            VEGA_DEBUG[key] = version;\n",
       "            return resolve(paths[lib]);\n",
       "          };\n",
       "          s.onerror = () => reject(`Error loading script: ${paths[lib]}`);\n",
       "          s.src = paths[lib];\n",
       "        });\n",
       "    }\n",
       "\n",
       "    function showError(err) {\n",
       "      outputDiv.innerHTML = `<div class=\"error\" style=\"color:red;\">${err}</div>`;\n",
       "      throw err;\n",
       "    }\n",
       "\n",
       "    function displayChart(vegaEmbed) {\n",
       "      vegaEmbed(outputDiv, spec, embedOpt)\n",
       "        .catch(err => showError(`Javascript Error: ${err.message}<br>This usually means there's a typo in your chart specification. See the javascript console for the full traceback.`));\n",
       "    }\n",
       "\n",
       "    if(typeof define === \"function\" && define.amd) {\n",
       "      requirejs.config({paths});\n",
       "      require([\"vega-embed\"], displayChart, err => showError(`Error loading script: ${err.message}`));\n",
       "    } else {\n",
       "      maybeLoadScript(\"vega\", \"5\")\n",
       "        .then(() => maybeLoadScript(\"vega-lite\", \"5.8.0\"))\n",
       "        .then(() => maybeLoadScript(\"vega-embed\", \"6\"))\n",
       "        .catch(showError)\n",
       "        .then(() => displayChart(vegaEmbed));\n",
       "    }\n",
       "  })({\"config\": {\"view\": {\"continuousWidth\": 300, \"continuousHeight\": 300, \"discreteHeight\": 300, \"discreteWidth\": 400}, \"header\": {\"title\": null}, \"title\": {\"anchor\": \"middle\", \"offset\": 10}}, \"hconcat\": [{\"mark\": \"bar\", \"encoding\": {\"color\": {\"value\": \"green\"}, \"row\": {\"field\": \"comparison_name\", \"header\": {\"labelAlign\": \"left\", \"labelAnchor\": \"middle\", \"labelAngle\": 0}, \"sort\": {\"field\": \"comparison_sort_order\"}, \"type\": \"nominal\"}, \"tooltip\": [{\"field\": \"m_probability_description\", \"title\": \"m probability description\", \"type\": \"nominal\"}, {\"field\": \"comparison_name\", \"title\": \"Comparison column name\", \"type\": \"nominal\"}, {\"field\": \"label_for_charts\", \"title\": \"Label\", \"type\": \"ordinal\"}, {\"field\": \"sql_condition\", \"title\": \"SQL condition\", \"type\": \"nominal\"}, {\"field\": \"m_probability\", \"format\": \".4p\", \"title\": \"m probability\", \"type\": \"quantitative\"}, {\"field\": \"u_probability\", \"format\": \".4p\", \"title\": \"u probability\", \"type\": \"quantitative\"}, {\"field\": \"bayes_factor\", \"format\": \",.4f\", \"title\": \"Bayes factor = m/u\", \"type\": \"quantitative\"}, {\"field\": \"log2_bayes_factor\", \"format\": \",.4f\", \"title\": \"Match weight = log2(m/u)\", \"type\": \"quantitative\"}], \"x\": {\"axis\": {\"title\": \"Proportion of record comparisons\"}, \"field\": \"m_probability\", \"type\": \"quantitative\"}, \"y\": {\"axis\": {\"title\": null}, \"field\": \"label_for_charts\", \"sort\": {\"field\": \"comparison_vector_value\", \"order\": \"descending\"}, \"type\": \"nominal\"}}, \"height\": {\"step\": 12}, \"resolve\": {\"scale\": {\"y\": \"independent\"}}, \"title\": {\"text\": \"Amongst matching record comparisons:\", \"fontSize\": 12, \"fontWeight\": \"bold\"}, \"transform\": [{\"filter\": \"(datum.bayes_factor != 'no-op filter due to vega lite issue 4680')\"}], \"width\": 150}, {\"mark\": \"bar\", \"encoding\": {\"color\": {\"value\": \"red\"}, \"row\": {\"field\": \"comparison_name\", \"header\": {\"labels\": false}, \"sort\": {\"field\": \"comparison_sort_order\"}, \"type\": \"nominal\"}, \"tooltip\": [{\"field\": \"u_probability_description\", \"title\": \"u probability description\", \"type\": \"nominal\"}, {\"field\": \"comparison_name\", \"title\": \"Comparison column name\", \"type\": \"nominal\"}, {\"field\": \"label_for_charts\", \"title\": \"Label\", \"type\": \"ordinal\"}, {\"field\": \"sql_condition\", \"title\": \"SQL condition\", \"type\": \"nominal\"}, {\"field\": \"m_probability\", \"format\": \".4p\", \"title\": \"m probability\", \"type\": \"quantitative\"}, {\"field\": \"u_probability\", \"format\": \".4p\", \"title\": \"u probability\", \"type\": \"quantitative\"}, {\"field\": \"bayes_factor\", \"format\": \",.4f\", \"title\": \"Bayes factor = m/u\", \"type\": \"quantitative\"}, {\"field\": \"log2_bayes_factor\", \"format\": \",.4f\", \"title\": \"Match weight = log2(m/u)\", \"type\": \"quantitative\"}], \"x\": {\"axis\": {\"title\": \"Proportion of record comparisons\"}, \"field\": \"u_probability\", \"type\": \"quantitative\"}, \"y\": {\"axis\": {\"title\": null}, \"field\": \"label_for_charts\", \"sort\": {\"field\": \"comparison_vector_value\", \"order\": \"descending\"}, \"type\": \"nominal\"}}, \"height\": {\"step\": 12}, \"resolve\": {\"scale\": {\"y\": \"independent\"}}, \"title\": {\"text\": \"Amongst non-matching record comparisons:\", \"fontSize\": 12, \"fontWeight\": \"bold\"}, \"transform\": [{\"filter\": \"(datum.bayes_factor != 'no-op filter2 due to vega lite issue 4680')\"}], \"width\": 150}], \"data\": {\"name\": \"data-6ce2bf7f4ba9c273b04fccd90c781896\"}, \"title\": {\"text\": \"Proportion of record comparisons in each comparison level by match status\", \"subtitle\": \"(m and u probabilities)\"}, \"$schema\": \"https://vega.github.io/schema/vega-lite/v5.9.3.json\", \"datasets\": {\"data-6ce2bf7f4ba9c273b04fccd90c781896\": [{\"comparison_name\": \"syn_g1_firstname\", \"sql_condition\": \"syn_g1_firstname_l = syn_g1_firstname_r\", \"label_for_charts\": \"Exact match\", \"m_probability\": 0.8640042356856517, \"u_probability\": 0.0044788254869028606, \"m_probability_description\": \"Amongst matching record comparisons, 86.40% of records are in the exact match comparison level\", \"u_probability_description\": \"Amongst non-matching record comparisons, 0.45% of records are in the exact match comparison level\", \"has_tf_adjustments\": false, \"tf_adjustment_column\": null, \"tf_adjustment_weight\": 1.0, \"is_null_level\": false, \"bayes_factor\": 192.90866282068887, \"log2_bayes_factor\": 7.591774120760644, \"comparison_vector_value\": 2, \"max_comparison_vector_value\": 2, \"bayes_factor_description\": \"If comparison level is `exact match` then comparison is 192.91 times more likely to be a match\", \"probability_two_random_records_match\": 7.529553497477599e-05, \"comparison_sort_order\": 0}, {\"comparison_name\": \"syn_g1_firstname\", \"sql_condition\": \"jaro_winkler_similarity(\\\"syn_g1_firstname_l\\\", \\\"syn_g1_firstname_r\\\") >= 0.8\", \"label_for_charts\": \"Jaro_winkler_similarity 0.8\", \"m_probability\": 0.029876711292640495, \"u_probability\": 0.005751240798401668, \"m_probability_description\": \"Amongst matching record comparisons, 2.99% of records are in the jaro_winkler_similarity 0.8 comparison level\", \"u_probability_description\": \"Amongst non-matching record comparisons, 0.58% of records are in the jaro_winkler_similarity 0.8 comparison level\", \"has_tf_adjustments\": false, \"tf_adjustment_column\": null, \"tf_adjustment_weight\": 1.0, \"is_null_level\": false, \"bayes_factor\": 5.194828792587429, \"log2_bayes_factor\": 2.377076202612594, \"comparison_vector_value\": 1, \"max_comparison_vector_value\": 2, \"bayes_factor_description\": \"If comparison level is `jaro_winkler_similarity 0.8` then comparison is 5.19 times more likely to be a match\", \"probability_two_random_records_match\": 7.529553497477599e-05, \"comparison_sort_order\": 0}, {\"comparison_name\": \"syn_g1_firstname\", \"sql_condition\": \"ELSE\", \"label_for_charts\": \"All other comparisons\", \"m_probability\": 0.10611905302170789, \"u_probability\": 0.9897699337146955, \"m_probability_description\": \"Amongst matching record comparisons, 10.61% of records are in the all other comparisons comparison level\", \"u_probability_description\": \"Amongst non-matching record comparisons, 98.98% of records are in the all other comparisons comparison level\", \"has_tf_adjustments\": false, \"tf_adjustment_column\": null, \"tf_adjustment_weight\": 1.0, \"is_null_level\": false, \"bayes_factor\": 0.10721587856627808, \"log2_bayes_factor\": -3.2214095115504344, \"comparison_vector_value\": 0, \"max_comparison_vector_value\": 2, \"bayes_factor_description\": \"If comparison level is `all other comparisons` then comparison is  9.33 times less likely to be a match\", \"probability_two_random_records_match\": 7.529553497477599e-05, \"comparison_sort_order\": 0}, {\"comparison_name\": \"syn_g1_surname\", \"sql_condition\": \"syn_g1_surname_l = syn_g1_surname_r\", \"label_for_charts\": \"Exact match\", \"m_probability\": 0.9284692417739628, \"u_probability\": 0.0009899743876044215, \"m_probability_description\": \"Amongst matching record comparisons, 92.85% of records are in the exact match comparison level\", \"u_probability_description\": \"Amongst non-matching record comparisons, 0.10% of records are in the exact match comparison level\", \"has_tf_adjustments\": false, \"tf_adjustment_column\": null, \"tf_adjustment_weight\": 1.0, \"is_null_level\": false, \"bayes_factor\": 937.8719827496839, \"log2_bayes_factor\": 9.87324720158098, \"comparison_vector_value\": 2, \"max_comparison_vector_value\": 2, \"bayes_factor_description\": \"If comparison level is `exact match` then comparison is 937.87 times more likely to be a match\", \"probability_two_random_records_match\": 7.529553497477599e-05, \"comparison_sort_order\": 1}, {\"comparison_name\": \"syn_g1_surname\", \"sql_condition\": \"jaro_winkler_similarity(\\\"syn_g1_surname_l\\\", \\\"syn_g1_surname_r\\\") >= 0.8\", \"label_for_charts\": \"Jaro_winkler_similarity 0.8\", \"m_probability\": 0.001054137489646864, \"u_probability\": 0.003998805902669395, \"m_probability_description\": \"Amongst matching record comparisons, 0.11% of records are in the jaro_winkler_similarity 0.8 comparison level\", \"u_probability_description\": \"Amongst non-matching record comparisons, 0.40% of records are in the jaro_winkler_similarity 0.8 comparison level\", \"has_tf_adjustments\": false, \"tf_adjustment_column\": null, \"tf_adjustment_weight\": 1.0, \"is_null_level\": false, \"bayes_factor\": 0.26361306732671785, \"log2_bayes_factor\": -1.9235062082280674, \"comparison_vector_value\": 1, \"max_comparison_vector_value\": 2, \"bayes_factor_description\": \"If comparison level is `jaro_winkler_similarity 0.8` then comparison is  3.79 times less likely to be a match\", \"probability_two_random_records_match\": 7.529553497477599e-05, \"comparison_sort_order\": 1}, {\"comparison_name\": \"syn_g1_surname\", \"sql_condition\": \"ELSE\", \"label_for_charts\": \"All other comparisons\", \"m_probability\": 0.07047662073639033, \"u_probability\": 0.9950112197097262, \"m_probability_description\": \"Amongst matching record comparisons, 7.05% of records are in the all other comparisons comparison level\", \"u_probability_description\": \"Amongst non-matching record comparisons, 99.50% of records are in the all other comparisons comparison level\", \"has_tf_adjustments\": false, \"tf_adjustment_column\": null, \"tf_adjustment_weight\": 1.0, \"is_null_level\": false, \"bayes_factor\": 0.07082997592424176, \"log2_bayes_factor\": -3.8194961378722017, \"comparison_vector_value\": 0, \"max_comparison_vector_value\": 2, \"bayes_factor_description\": \"If comparison level is `all other comparisons` then comparison is  14.12 times less likely to be a match\", \"probability_two_random_records_match\": 7.529553497477599e-05, \"comparison_sort_order\": 1}, {\"comparison_name\": \"syn_g0_surname\", \"sql_condition\": \"syn_g0_surname_l = syn_g0_surname_r\", \"label_for_charts\": \"Exact match\", \"m_probability\": 0.826217905278217, \"u_probability\": 0.0008150327087926748, \"m_probability_description\": \"Amongst matching record comparisons, 82.62% of records are in the exact match comparison level\", \"u_probability_description\": \"Amongst non-matching record comparisons, 0.08% of records are in the exact match comparison level\", \"has_tf_adjustments\": false, \"tf_adjustment_column\": null, \"tf_adjustment_weight\": 1.0, \"is_null_level\": false, \"bayes_factor\": 1013.7236166903181, \"log2_bayes_factor\": 9.98544865181452, \"comparison_vector_value\": 2, \"max_comparison_vector_value\": 2, \"bayes_factor_description\": \"If comparison level is `exact match` then comparison is 1,013.72 times more likely to be a match\", \"probability_two_random_records_match\": 7.529553497477599e-05, \"comparison_sort_order\": 2}, {\"comparison_name\": \"syn_g0_surname\", \"sql_condition\": \"jaro_winkler_similarity(\\\"syn_g0_surname_l\\\", \\\"syn_g0_surname_r\\\") >= 0.8\", \"label_for_charts\": \"Jaro_winkler_similarity 0.8\", \"m_probability\": 0.00489420977336044, \"u_probability\": 0.0035343374476646187, \"m_probability_description\": \"Amongst matching record comparisons, 0.49% of records are in the jaro_winkler_similarity 0.8 comparison level\", \"u_probability_description\": \"Amongst non-matching record comparisons, 0.35% of records are in the jaro_winkler_similarity 0.8 comparison level\", \"has_tf_adjustments\": false, \"tf_adjustment_column\": null, \"tf_adjustment_weight\": 1.0, \"is_null_level\": false, \"bayes_factor\": 1.3847601837211054, \"log2_bayes_factor\": 0.4696361483224383, \"comparison_vector_value\": 1, \"max_comparison_vector_value\": 2, \"bayes_factor_description\": \"If comparison level is `jaro_winkler_similarity 0.8` then comparison is 1.38 times more likely to be a match\", \"probability_two_random_records_match\": 7.529553497477599e-05, \"comparison_sort_order\": 2}, {\"comparison_name\": \"syn_g0_surname\", \"sql_condition\": \"ELSE\", \"label_for_charts\": \"All other comparisons\", \"m_probability\": 0.16888788494842255, \"u_probability\": 0.9956506298435427, \"m_probability_description\": \"Amongst matching record comparisons, 16.89% of records are in the all other comparisons comparison level\", \"u_probability_description\": \"Amongst non-matching record comparisons, 99.57% of records are in the all other comparisons comparison level\", \"has_tf_adjustments\": false, \"tf_adjustment_column\": null, \"tf_adjustment_weight\": 1.0, \"is_null_level\": false, \"bayes_factor\": 0.1696256496869406, \"log2_bayes_factor\": -2.5595737535345675, \"comparison_vector_value\": 0, \"max_comparison_vector_value\": 2, \"bayes_factor_description\": \"If comparison level is `all other comparisons` then comparison is  5.90 times less likely to be a match\", \"probability_two_random_records_match\": 7.529553497477599e-05, \"comparison_sort_order\": 2}, {\"comparison_name\": \"g1_dob_arc1\", \"sql_condition\": \"\\\"g1_dob_arc1_l\\\" = \\\"g1_dob_arc1_r\\\"\", \"label_for_charts\": \"Exact match\", \"m_probability\": 0.9962352232512612, \"u_probability\": 0.001703310390699192, \"m_probability_description\": \"Amongst matching record comparisons, 99.62% of records are in the exact match comparison level\", \"u_probability_description\": \"Amongst non-matching record comparisons, 0.17% of records are in the exact match comparison level\", \"has_tf_adjustments\": false, \"tf_adjustment_column\": null, \"tf_adjustment_weight\": 1.0, \"is_null_level\": false, \"bayes_factor\": 584.8817858982923, \"log2_bayes_factor\": 9.192001251851478, \"comparison_vector_value\": 1, \"max_comparison_vector_value\": 1, \"bayes_factor_description\": \"If comparison level is `exact match` then comparison is 584.88 times more likely to be a match\", \"probability_two_random_records_match\": 7.529553497477599e-05, \"comparison_sort_order\": 3}, {\"comparison_name\": \"g1_dob_arc1\", \"sql_condition\": \"ELSE\", \"label_for_charts\": \"All other comparisons\", \"m_probability\": 0.0037647767487387998, \"u_probability\": 0.9982966896093008, \"m_probability_description\": \"Amongst matching record comparisons, 0.38% of records are in the all other comparisons comparison level\", \"u_probability_description\": \"Amongst non-matching record comparisons, 99.83% of records are in the all other comparisons comparison level\", \"has_tf_adjustments\": false, \"tf_adjustment_column\": null, \"tf_adjustment_weight\": 1.0, \"is_null_level\": false, \"bayes_factor\": 0.003771200273349804, \"log2_bayes_factor\": -8.050760516389776, \"comparison_vector_value\": 0, \"max_comparison_vector_value\": 1, \"bayes_factor_description\": \"If comparison level is `all other comparisons` then comparison is  265.17 times less likely to be a match\", \"probability_two_random_records_match\": 7.529553497477599e-05, \"comparison_sort_order\": 3}, {\"comparison_name\": \"g1_gender_arc\", \"sql_condition\": \"\\\"g1_gender_arc_l\\\" = \\\"g1_gender_arc_r\\\"\", \"label_for_charts\": \"Exact match\", \"m_probability\": 1.0, \"u_probability\": 0.49990229140040787, \"m_probability_description\": \"Amongst matching record comparisons, 100.00% of records are in the exact match comparison level\", \"u_probability_description\": \"Amongst non-matching record comparisons, 49.99% of records are in the exact match comparison level\", \"has_tf_adjustments\": false, \"tf_adjustment_column\": null, \"tf_adjustment_weight\": 1.0, \"is_null_level\": false, \"bayes_factor\": 2.00039091078906, \"log2_bayes_factor\": 1.0002819549744906, \"comparison_vector_value\": 1, \"max_comparison_vector_value\": 1, \"bayes_factor_description\": \"If comparison level is `exact match` then comparison is 2.00 times more likely to be a match\", \"probability_two_random_records_match\": 7.529553497477599e-05, \"comparison_sort_order\": 4}, {\"comparison_name\": \"g1_gender_arc\", \"sql_condition\": \"ELSE\", \"label_for_charts\": \"All other comparisons\", \"m_probability\": 0.001, \"u_probability\": 0.5000977085995921, \"m_probability_description\": \"Amongst matching record comparisons, 0.10% of records are in the all other comparisons comparison level\", \"u_probability_description\": \"Amongst non-matching record comparisons, 50.01% of records are in the all other comparisons comparison level\", \"has_tf_adjustments\": false, \"tf_adjustment_column\": null, \"tf_adjustment_weight\": 1.0, \"is_null_level\": false, \"bayes_factor\": 0.001999609241962473, \"log2_bayes_factor\": -8.96606618454311, \"comparison_vector_value\": 0, \"max_comparison_vector_value\": 1, \"bayes_factor_description\": \"If comparison level is `all other comparisons` then comparison is  500.10 times less likely to be a match\", \"probability_two_random_records_match\": 7.529553497477599e-05, \"comparison_sort_order\": 4}]}}, {\"mode\": \"vega-lite\"});\n",
       "</script>"
      ],
      "text/plain": [
       "alt.HConcatChart(...)"
      ]
     },
     "execution_count": 12,
     "metadata": {},
     "output_type": "execute_result"
    }
   ],
   "source": [
    "linker.m_u_parameters_chart()"
   ]
  },
  {
   "cell_type": "code",
   "execution_count": 13,
   "metadata": {},
   "outputs": [
    {
     "data": {
      "text/html": [
       "\n",
       "<style>\n",
       "  #altair-viz-3ee2c69f3ef543818493edeb19044a6b.vega-embed {\n",
       "    width: 100%;\n",
       "    display: flex;\n",
       "  }\n",
       "\n",
       "  #altair-viz-3ee2c69f3ef543818493edeb19044a6b.vega-embed details,\n",
       "  #altair-viz-3ee2c69f3ef543818493edeb19044a6b.vega-embed details summary {\n",
       "    position: relative;\n",
       "  }\n",
       "</style>\n",
       "<div id=\"altair-viz-3ee2c69f3ef543818493edeb19044a6b\"></div>\n",
       "<script type=\"text/javascript\">\n",
       "  var VEGA_DEBUG = (typeof VEGA_DEBUG == \"undefined\") ? {} : VEGA_DEBUG;\n",
       "  (function(spec, embedOpt){\n",
       "    let outputDiv = document.currentScript.previousElementSibling;\n",
       "    if (outputDiv.id !== \"altair-viz-3ee2c69f3ef543818493edeb19044a6b\") {\n",
       "      outputDiv = document.getElementById(\"altair-viz-3ee2c69f3ef543818493edeb19044a6b\");\n",
       "    }\n",
       "    const paths = {\n",
       "      \"vega\": \"https://cdn.jsdelivr.net/npm/vega@5?noext\",\n",
       "      \"vega-lib\": \"https://cdn.jsdelivr.net/npm/vega-lib?noext\",\n",
       "      \"vega-lite\": \"https://cdn.jsdelivr.net/npm/vega-lite@5.8.0?noext\",\n",
       "      \"vega-embed\": \"https://cdn.jsdelivr.net/npm/vega-embed@6?noext\",\n",
       "    };\n",
       "\n",
       "    function maybeLoadScript(lib, version) {\n",
       "      var key = `${lib.replace(\"-\", \"\")}_version`;\n",
       "      return (VEGA_DEBUG[key] == version) ?\n",
       "        Promise.resolve(paths[lib]) :\n",
       "        new Promise(function(resolve, reject) {\n",
       "          var s = document.createElement('script');\n",
       "          document.getElementsByTagName(\"head\")[0].appendChild(s);\n",
       "          s.async = true;\n",
       "          s.onload = () => {\n",
       "            VEGA_DEBUG[key] = version;\n",
       "            return resolve(paths[lib]);\n",
       "          };\n",
       "          s.onerror = () => reject(`Error loading script: ${paths[lib]}`);\n",
       "          s.src = paths[lib];\n",
       "        });\n",
       "    }\n",
       "\n",
       "    function showError(err) {\n",
       "      outputDiv.innerHTML = `<div class=\"error\" style=\"color:red;\">${err}</div>`;\n",
       "      throw err;\n",
       "    }\n",
       "\n",
       "    function displayChart(vegaEmbed) {\n",
       "      vegaEmbed(outputDiv, spec, embedOpt)\n",
       "        .catch(err => showError(`Javascript Error: ${err.message}<br>This usually means there's a typo in your chart specification. See the javascript console for the full traceback.`));\n",
       "    }\n",
       "\n",
       "    if(typeof define === \"function\" && define.amd) {\n",
       "      requirejs.config({paths});\n",
       "      require([\"vega-embed\"], displayChart, err => showError(`Error loading script: ${err.message}`));\n",
       "    } else {\n",
       "      maybeLoadScript(\"vega\", \"5\")\n",
       "        .then(() => maybeLoadScript(\"vega-lite\", \"5.8.0\"))\n",
       "        .then(() => maybeLoadScript(\"vega-embed\", \"6\"))\n",
       "        .catch(showError)\n",
       "        .then(() => displayChart(vegaEmbed));\n",
       "    }\n",
       "  })({\"config\": {\"view\": {\"continuousWidth\": 300, \"continuousHeight\": 300}, \"title\": {\"fontSize\": 14}}, \"data\": {\"name\": \"data-60954140e7e4da84efd2e529c77ac6f9\"}, \"mark\": \"bar\", \"encoding\": {\"tooltip\": [{\"field\": \"count_rows\", \"title\": \"Count in bin\", \"type\": \"quantitative\"}], \"x\": {\"axis\": {\"title\": \"Match weight\"}, \"bin\": \"binned\", \"field\": \"splink_score_bin_low\", \"type\": \"quantitative\"}, \"x2\": {\"field\": \"splink_score_bin_high\"}, \"y\": {\"axis\": {\"title\": \"Count of record comparisons in bin\"}, \"field\": \"count_rows\", \"type\": \"quantitative\"}}, \"height\": 250, \"params\": [{\"name\": \"mouse_zoom\", \"select\": {\"type\": \"interval\", \"encodings\": [\"y\"]}, \"bind\": \"scales\"}], \"title\": {\"text\": \"Histogram of match weights\", \"subtitle\": \"Use mousewheel to zoom\"}, \"width\": 600, \"$schema\": \"https://vega.github.io/schema/vega-lite/v5.9.3.json\", \"datasets\": {\"data-60954140e7e4da84efd2e529c77ac6f9\": [{\"splink_score_bin_low\": -30.0, \"binwidth\": 2, \"count_rows\": 17501, \"splink_score_bin_high\": -28.0}, {\"splink_score_bin_low\": -28.0, \"binwidth\": 2, \"count_rows\": 54795, \"splink_score_bin_high\": -26.0}, {\"splink_score_bin_low\": -26.0, \"binwidth\": 2, \"count_rows\": 1462, \"splink_score_bin_high\": -24.0}, {\"splink_score_bin_low\": -24.0, \"binwidth\": 2, \"count_rows\": 4428, \"splink_score_bin_high\": -22.0}, {\"splink_score_bin_low\": -22.0, \"binwidth\": 2, \"count_rows\": 143, \"splink_score_bin_high\": -20.0}, {\"splink_score_bin_low\": -20.0, \"binwidth\": 2, \"count_rows\": 736319, \"splink_score_bin_high\": -18.0}, {\"splink_score_bin_low\": -18.0, \"binwidth\": 2, \"count_rows\": 55812, \"splink_score_bin_high\": -16.0}, {\"splink_score_bin_low\": -16.0, \"binwidth\": 2, \"count_rows\": 42789, \"splink_score_bin_high\": -14.0}, {\"splink_score_bin_low\": -14.0, \"binwidth\": 2, \"count_rows\": 151279, \"splink_score_bin_high\": -12.0}, {\"splink_score_bin_low\": -12.0, \"binwidth\": 2, \"count_rows\": 1480, \"splink_score_bin_high\": -10.0}, {\"splink_score_bin_low\": -10.0, \"binwidth\": 2, \"count_rows\": 1783, \"splink_score_bin_high\": -8.0}, {\"splink_score_bin_low\": -8.0, \"binwidth\": 2, \"count_rows\": 1305, \"splink_score_bin_high\": -6.0}, {\"splink_score_bin_low\": -6.0, \"binwidth\": 2, \"count_rows\": 40361, \"splink_score_bin_high\": -4.0}, {\"splink_score_bin_low\": -4.0, \"binwidth\": 2, \"count_rows\": 1522, \"splink_score_bin_high\": -2.0}, {\"splink_score_bin_low\": -2.0, \"binwidth\": 2, \"count_rows\": 839, \"splink_score_bin_high\": 0.0}, {\"splink_score_bin_low\": 0.0, \"binwidth\": 2, \"count_rows\": 611, \"splink_score_bin_high\": 2.0}, {\"splink_score_bin_low\": 2.0, \"binwidth\": 2, \"count_rows\": 92, \"splink_score_bin_high\": 4.0}, {\"splink_score_bin_low\": 4.0, \"binwidth\": 2, \"count_rows\": 16, \"splink_score_bin_high\": 6.0}, {\"splink_score_bin_low\": 6.0, \"binwidth\": 2, \"count_rows\": 412, \"splink_score_bin_high\": 8.0}, {\"splink_score_bin_low\": 10.0, \"binwidth\": 2, \"count_rows\": 1903, \"splink_score_bin_high\": 12.0}, {\"splink_score_bin_low\": 12.0, \"binwidth\": 2, \"count_rows\": 931, \"splink_score_bin_high\": 14.0}, {\"splink_score_bin_low\": 14.0, \"binwidth\": 2, \"count_rows\": 60, \"splink_score_bin_high\": 16.0}, {\"splink_score_bin_low\": 16.0, \"binwidth\": 2, \"count_rows\": 47, \"splink_score_bin_high\": 18.0}, {\"splink_score_bin_low\": 18.0, \"binwidth\": 2, \"count_rows\": 339, \"splink_score_bin_high\": 20.0}, {\"splink_score_bin_low\": 22.0, \"binwidth\": 2, \"count_rows\": 9194, \"splink_score_bin_high\": 24.0}]}}, {\"mode\": \"vega-lite\"});\n",
       "</script>"
      ],
      "text/plain": [
       "alt.Chart(...)"
      ]
     },
     "execution_count": 13,
     "metadata": {},
     "output_type": "execute_result"
    }
   ],
   "source": [
    "linker.match_weights_histogram(linker.predict())"
   ]
  },
  {
   "cell_type": "code",
   "execution_count": 40,
   "metadata": {},
   "outputs": [
    {
     "data": {
      "application/vnd.jupyter.widget-view+json": {
       "model_id": "db0e3341858f4ece8b9ebb82cfb48473",
       "version_major": 2,
       "version_minor": 0
      },
      "text/plain": [
       "FloatProgress(value=0.0, layout=Layout(width='auto'), style=ProgressStyle(bar_color='black'))"
      ]
     },
     "metadata": {},
     "output_type": "display_data"
    }
   ],
   "source": [
    "results = linker.predict()\n",
    "results.as_pandas_dataframe(limit = 5)\n",
    "prob_linkage = results.as_pandas_dataframe()\n",
    "prob_linkage.to_csv(f\"linkage_outputs\\\\scen3\\\\dataset{data_set}\\\\probabilistic_nothreshold.csv\")"
   ]
  },
  {
   "cell_type": "code",
   "execution_count": 11,
   "metadata": {},
   "outputs": [
    {
     "data": {
      "application/vnd.jupyter.widget-view+json": {
       "model_id": "3e1c834f3afe4f199a1ddf6db2f67457",
       "version_major": 2,
       "version_minor": 0
      },
      "text/plain": [
       "FloatProgress(value=0.0, layout=Layout(width='auto'), style=ProgressStyle(bar_color='black'))"
      ]
     },
     "metadata": {},
     "output_type": "display_data"
    },
    {
     "data": {
      "application/vnd.jupyter.widget-view+json": {
       "model_id": "1845db4ab427417784d2db15ffaf3464",
       "version_major": 2,
       "version_minor": 0
      },
      "text/plain": [
       "FloatProgress(value=0.0, layout=Layout(width='auto'), style=ProgressStyle(bar_color='black'))"
      ]
     },
     "metadata": {},
     "output_type": "display_data"
    },
    {
     "data": {
      "application/vnd.jupyter.widget-view+json": {
       "model_id": "7d00e509d2cf40b5be68cec310957901",
       "version_major": 2,
       "version_minor": 0
      },
      "text/plain": [
       "FloatProgress(value=0.0, layout=Layout(width='auto'), style=ProgressStyle(bar_color='black'))"
      ]
     },
     "metadata": {},
     "output_type": "display_data"
    },
    {
     "data": {
      "application/vnd.jupyter.widget-view+json": {
       "model_id": "0d16174e14a74c0fb58191b52bf8b3c9",
       "version_major": 2,
       "version_minor": 0
      },
      "text/plain": [
       "FloatProgress(value=0.0, layout=Layout(width='auto'), style=ProgressStyle(bar_color='black'))"
      ]
     },
     "metadata": {},
     "output_type": "display_data"
    },
    {
     "data": {
      "application/vnd.jupyter.widget-view+json": {
       "model_id": "696cbb9bb3464e7d884d4b11b9d16fb3",
       "version_major": 2,
       "version_minor": 0
      },
      "text/plain": [
       "FloatProgress(value=0.0, layout=Layout(width='auto'), style=ProgressStyle(bar_color='black'))"
      ]
     },
     "metadata": {},
     "output_type": "display_data"
    },
    {
     "data": {
      "application/vnd.jupyter.widget-view+json": {
       "model_id": "42e244ad87ca49f2aff126a90f390951",
       "version_major": 2,
       "version_minor": 0
      },
      "text/plain": [
       "FloatProgress(value=0.0, layout=Layout(width='auto'), style=ProgressStyle(bar_color='black'))"
      ]
     },
     "metadata": {},
     "output_type": "display_data"
    },
    {
     "data": {
      "application/vnd.jupyter.widget-view+json": {
       "model_id": "2348f81ae15b4fbb8972956c594ebd75",
       "version_major": 2,
       "version_minor": 0
      },
      "text/plain": [
       "FloatProgress(value=0.0, layout=Layout(width='auto'), style=ProgressStyle(bar_color='black'))"
      ]
     },
     "metadata": {},
     "output_type": "display_data"
    }
   ],
   "source": [
    "# With threshold\n",
    "threshold_values = [-0.22, 0.00000001, 2, 3, 4, 5, 6]\n",
    "for v in threshold_values:\n",
    "    results = linker.predict(threshold_match_weight = v)\n",
    "    prob_linkage = results.as_pandas_dataframe()\n",
    "    file_name = f\"linkage_outputs//scen3//dataset{data_set}//probabilistic_threshold_{v}.csv\"\n",
    "    prob_linkage.to_csv(file_name)"
   ]
  },
  {
   "cell_type": "code",
   "execution_count": 10,
   "metadata": {
    "scrolled": true
   },
   "outputs": [
    {
     "data": {
      "application/vnd.jupyter.widget-view+json": {
       "model_id": "68c689fd7e4f4372b82ef42e010c83aa",
       "version_major": 2,
       "version_minor": 0
      },
      "text/plain": [
       "FloatProgress(value=0.0, layout=Layout(width='auto'), style=ProgressStyle(bar_color='black'))"
      ]
     },
     "metadata": {},
     "output_type": "display_data"
    },
    {
     "data": {
      "text/html": [
       "\n",
       "        <iframe\n",
       "            width=\"100%\"\n",
       "            height=\"1200\"\n",
       "            src=\"./scv.html\"\n",
       "            frameborder=\"0\"\n",
       "            allowfullscreen\n",
       "            \n",
       "        ></iframe>\n",
       "        "
      ],
      "text/plain": [
       "<IPython.lib.display.IFrame at 0x1965260b4f0>"
      ]
     },
     "execution_count": 10,
     "metadata": {},
     "output_type": "execute_result"
    }
   ],
   "source": [
    "df_predictions = linker.predict()\n",
    "\n",
    "linker.comparison_viewer_dashboard(df_predictions, \"scv.html\", overwrite=True)\n",
    "\n",
    "# You can view the scv.html file in your browser, or inline in a notbook as follows\n",
    "from IPython.display import IFrame\n",
    "IFrame(\n",
    "    src=\"./scv.html\", width=\"100%\", height=1200\n",
    ")  "
   ]
  },
  {
   "cell_type": "code",
   "execution_count": null,
   "metadata": {},
   "outputs": [],
   "source": [
    "df_predictions = linker.predict(threshold_match_weight= 11)\n",
    "\n",
    "linker.comparison_viewer_dashboard(df_predictions, \"scv.html\", overwrite=True)\n",
    "\n",
    "# You can view the scv.html file in your browser, or inline in a notbook as follows\n",
    "from IPython.display import IFrame\n",
    "IFrame(\n",
    "    src=\"./scv.html\", width=\"100%\", height=1200\n",
    ")  "
   ]
  },
  {
   "cell_type": "code",
   "execution_count": 41,
   "metadata": {},
   "outputs": [],
   "source": [
    "# Scenario 3\n",
    "import splink.duckdb.comparison_library as cl\n",
    "import splink.duckdb.comparison_template_library as ctl\n",
    "import splink.duckdb.comparison_level_library as cll\n",
    "# Define Comparisons \n",
    "tfcomparison_syn_g1_first_name = {\n",
    "    \"output_column_name\": \"syn_g1_firstname\",\n",
    "    \"comparison_description\": \"G1 First name jaro winkler\",\n",
    "    \"comparison_levels\": [\n",
    "        {\n",
    "            \"sql_condition\": \"syn_g1_firstname_l IS NULL OR syn_g1_firstname_r IS NULL\",\n",
    "            \"label_for_charts\": \"Null\",\n",
    "            \"is_null_level\": True,\n",
    "        },\n",
    "        {\n",
    "            \"sql_condition\": \"syn_g1_firstname_l = syn_g1_firstname_r\",\n",
    "            \"label_for_charts\": \"Exact match\",\n",
    "            \"tf_adjustment_column\": \"syn_g1_firstname\",\n",
    "            \"tf_adjustment_weight\": 1.0,\n",
    "            \"tf_minimum_u_value\": 0.001,\n",
    "        },\n",
    "        {\n",
    "            \"sql_condition\": 'jaro_winkler_similarity(\"syn_g1_firstname_l\", \"syn_g1_firstname_r\") >= 0.8',\n",
    "            \"label_for_charts\": \"Jaro_winkler_similarity 0.8\",\n",
    "            \"tf_adjustment_column\": \"syn_g1_firstname\",\n",
    "            \"tf_adjustment_weight\": 0.5,\n",
    "            \"tf_minimum_u_value\": 0.001,\n",
    "\n",
    "        },\n",
    "        {\"sql_condition\": \"ELSE\", \"label_for_charts\": \"All other comparisons\"},\n",
    "    ],\n",
    "}\n",
    "\n",
    "tfcomparison_syn_g0_surname = {\n",
    "    \"output_column_name\": \"syn_g0_surname\",\n",
    "    \"comparison_description\": \"G0 surname jaro winkler\",\n",
    "    \"comparison_levels\": [\n",
    "        {\n",
    "            \"sql_condition\": \"syn_g0_surname_l IS NULL OR syn_g0_surname_r IS NULL\",\n",
    "            \"label_for_charts\": \"Null\",\n",
    "            \"is_null_level\": True,\n",
    "        },\n",
    "        {\n",
    "            \"sql_condition\": \"syn_g0_surname_l = syn_g0_surname_r\",\n",
    "            \"label_for_charts\": \"Exact match\",\n",
    "             \"tf_adjustment_column\": \"syn_g0_surname\",\n",
    "            \"tf_adjustment_weight\": 1.0,\n",
    "            \"tf_minimum_u_value\": 0.001,\n",
    "        },\n",
    "        {\n",
    "            \"sql_condition\": 'jaro_winkler_similarity(\"syn_g0_surname_l\", \"syn_g0_surname_r\") >= 0.8',\n",
    "            \"label_for_charts\": \"Jaro_winkler_similarity 0.8\",\n",
    "            \"tf_adjustment_column\": \"syn_g0_surname\",\n",
    "            \"tf_adjustment_weight\": 0.5,\n",
    "            \"tf_minimum_u_value\": 0.001,\n",
    "\n",
    "        },\n",
    "        {\"sql_condition\": \"ELSE\", \"label_for_charts\": \"All other comparisons\"},\n",
    "    ],\n",
    "}\n",
    "\n",
    "tfcomparison_syn_g1_surname = {\n",
    "    \"output_column_name\": \"syn_g1_surname\",\n",
    "    \"comparison_description\": \"G1 surname jaro winkler\",\n",
    "    \"comparison_levels\": [\n",
    "        {\n",
    "            \"sql_condition\": \"syn_g1_surname_l IS NULL OR syn_g1_surname_r IS NULL\",\n",
    "            \"label_for_charts\": \"Null\",\n",
    "            \"is_null_level\": True,\n",
    "        },\n",
    "        {\n",
    "            \"sql_condition\": \"syn_g1_surname_l = syn_g1_surname_r\",\n",
    "            \"label_for_charts\": \"Exact match\",\n",
    "            \"tf_adjustment_column\": \"syn_g1_surname\",\n",
    "            \"tf_adjustment_weight\": 1.0,\n",
    "            \"tf_minimum_u_value\": 0.001,\n",
    "        },\n",
    "        {\n",
    "            \"sql_condition\": 'jaro_winkler_similarity(\"syn_g1_surname_l\", \"syn_g1_surname_r\") >= 0.8',\n",
    "            \"label_for_charts\": \"Jaro_winkler_similarity 0.8\",     \n",
    "            \"tf_adjustment_column\": \"syn_g1_surname\",\n",
    "            \"tf_adjustment_weight\": 0.5,\n",
    "            \"tf_minimum_u_value\": 0.001,\n",
    "\n",
    "        },\n",
    "        {\"sql_condition\": \"ELSE\", \"label_for_charts\": \"All other comparisons\"},\n",
    "    ],\n",
    "}\n",
    "\n",
    "comparison_date = {\n",
    "    \"output_column_name\": \"g1_dob_arc1\",\n",
    "    \"comparison_description\": \"exact match vs anything else\",\n",
    "    \"comparison_levels\": [\n",
    "        cll.null_level(\"g1_dob_arc1\"),\n",
    "        cll.exact_match_level(\"g1_dob_arc1\", m_probability =  0.999),\n",
    "        cll.else_level(m_probability = 0.001),\n",
    "    ],\n",
    "}\n",
    "\n",
    "comparison_gender = {\n",
    "    \"output_column_name\": \"g1_gender_arc\",\n",
    "    \"comparison_description\": \"exact match vs anything else\",\n",
    "    \"comparison_levels\": [\n",
    "        cll.null_level(\"g1_gender_arc\"),\n",
    "        cll.exact_match_level(\"g1_gender_arc\", m_probability =  0.999),\n",
    "        cll.else_level(m_probability = 0.001),\n",
    "    ],\n",
    "}\n",
    "\n",
    "\n"
   ]
  },
  {
   "cell_type": "code",
   "execution_count": 42,
   "metadata": {},
   "outputs": [],
   "source": [
    "# Scenario 3,  probabilistic linkage with term frequency adjustment\n",
    "from splink.duckdb.blocking_rule_library import block_on\n",
    "settings_prob_tf = {\n",
    "    \"link_type\": \"link_only\",\n",
    "    \"probability_two_random_records_match\": 1/13281,\n",
    "    \"blocking_rules_to_generate_predictions\":[     \n",
    "        block_on([\"syn_g1_firstname\"]),\n",
    "        block_on([\"syn_g1_surname\"]),\n",
    "        block_on([\"syn_g0_surname\"]),\n",
    "        block_on([\"g1_dob_arc1\", \"g1_gender_arc\"]),\n",
    "    ],  \n",
    "    \"comparisons\":[\n",
    "        tfcomparison_syn_g1_first_name,\n",
    "        tfcomparison_syn_g1_surname,\n",
    "        tfcomparison_syn_g0_surname,\n",
    "        comparison_date,\n",
    "        comparison_gender,      \n",
    "    ],\n",
    "    \"retain_matching_columns\":True,\n",
    "    \"retain_intermediate_calculation_columns\":True,\n",
    "    \"additional_columns_to_retain\": [\n",
    "        \"ethgroup\",\n",
    "        \"imddecile\",\n",
    "        \"maternal_agecat\",\n",
    "    ]\n",
    "}\n",
    "\n",
    "linker = DuckDBLinker(\n",
    "    [gold_df, df],\n",
    "    settings_dict= settings_prob_tf,\n",
    "    input_table_aliases=[\"df_left\",\"df_right\"]\n",
    ")\n",
    "\n",
    "\n",
    "#linker.save_model_to_json(out_path = \"linkage_outputs\\\\scenario3_dataset1\\\\probablistic_linkage_tf_settings.json\", overwrite = True)\n"
   ]
  },
  {
   "cell_type": "code",
   "execution_count": 43,
   "metadata": {},
   "outputs": [
    {
     "name": "stderr",
     "output_type": "stream",
     "text": [
      "----- Estimating u probabilities using random sampling -----\n"
     ]
    },
    {
     "data": {
      "application/vnd.jupyter.widget-view+json": {
       "model_id": "5df8f1083cdc420baf9d1624a32681d9",
       "version_major": 2,
       "version_minor": 0
      },
      "text/plain": [
       "FloatProgress(value=0.0, layout=Layout(width='auto'), style=ProgressStyle(bar_color='black'))"
      ]
     },
     "metadata": {},
     "output_type": "display_data"
    },
    {
     "name": "stderr",
     "output_type": "stream",
     "text": [
      "\n",
      "Estimated u probabilities using random sampling\n",
      "\n",
      "Your model is not yet fully trained. Missing estimates for:\n",
      "    - syn_g1_firstname (no m values are trained).\n",
      "    - syn_g1_surname (no m values are trained).\n",
      "    - syn_g0_surname (no m values are trained).\n"
     ]
    }
   ],
   "source": [
    "# Estimate U using random sampling\n",
    "linker.estimate_u_using_random_sampling(max_pairs=2e7, seed = 1)\n"
   ]
  },
  {
   "cell_type": "code",
   "execution_count": 44,
   "metadata": {},
   "outputs": [
    {
     "name": "stderr",
     "output_type": "stream",
     "text": [
      "------- Estimating m probabilities using from column unique_id -------\n",
      "m probability not trained for g1_dob_arc1 - All other comparisons (comparison vector value: 0). This usually means the comparison level was never observed in the training data.\n",
      "m probability not trained for g1_gender_arc - All other comparisons (comparison vector value: 0). This usually means the comparison level was never observed in the training data.\n",
      "\n",
      "Your model is fully trained. All comparisons have at least one estimate for their m and u values\n"
     ]
    }
   ],
   "source": [
    "# Use labelled data for m probability.\n",
    "linker.estimate_m_from_label_column(\"unique_id\")"
   ]
  },
  {
   "cell_type": "code",
   "execution_count": 7,
   "metadata": {},
   "outputs": [
    {
     "name": "stderr",
     "output_type": "stream",
     "text": [
      "C:\\Users\\uctvjla\\OneDrive - University College London\\Desktop\\splink\\splink_synthetic_data-main\\venv\\lib\\site-packages\\splink\\linker.py:3343: UserWarning: Values [None] from `vals_to_include` were not found in the dataset so are not included in the chart.\n",
      "  return tf_adjustment_chart(\n"
     ]
    },
    {
     "data": {
      "text/html": [
       "\n",
       "<style>\n",
       "  #altair-viz-90dc24d30d274e50b0984ea48b1da5ec.vega-embed {\n",
       "    width: 100%;\n",
       "    display: flex;\n",
       "  }\n",
       "\n",
       "  #altair-viz-90dc24d30d274e50b0984ea48b1da5ec.vega-embed details,\n",
       "  #altair-viz-90dc24d30d274e50b0984ea48b1da5ec.vega-embed details summary {\n",
       "    position: relative;\n",
       "  }\n",
       "</style>\n",
       "<div id=\"altair-viz-90dc24d30d274e50b0984ea48b1da5ec\"></div>\n",
       "<script type=\"text/javascript\">\n",
       "  var VEGA_DEBUG = (typeof VEGA_DEBUG == \"undefined\") ? {} : VEGA_DEBUG;\n",
       "  (function(spec, embedOpt){\n",
       "    let outputDiv = document.currentScript.previousElementSibling;\n",
       "    if (outputDiv.id !== \"altair-viz-90dc24d30d274e50b0984ea48b1da5ec\") {\n",
       "      outputDiv = document.getElementById(\"altair-viz-90dc24d30d274e50b0984ea48b1da5ec\");\n",
       "    }\n",
       "    const paths = {\n",
       "      \"vega\": \"https://cdn.jsdelivr.net/npm/vega@5?noext\",\n",
       "      \"vega-lib\": \"https://cdn.jsdelivr.net/npm/vega-lib?noext\",\n",
       "      \"vega-lite\": \"https://cdn.jsdelivr.net/npm/vega-lite@5.8.0?noext\",\n",
       "      \"vega-embed\": \"https://cdn.jsdelivr.net/npm/vega-embed@6?noext\",\n",
       "    };\n",
       "\n",
       "    function maybeLoadScript(lib, version) {\n",
       "      var key = `${lib.replace(\"-\", \"\")}_version`;\n",
       "      return (VEGA_DEBUG[key] == version) ?\n",
       "        Promise.resolve(paths[lib]) :\n",
       "        new Promise(function(resolve, reject) {\n",
       "          var s = document.createElement('script');\n",
       "          document.getElementsByTagName(\"head\")[0].appendChild(s);\n",
       "          s.async = true;\n",
       "          s.onload = () => {\n",
       "            VEGA_DEBUG[key] = version;\n",
       "            return resolve(paths[lib]);\n",
       "          };\n",
       "          s.onerror = () => reject(`Error loading script: ${paths[lib]}`);\n",
       "          s.src = paths[lib];\n",
       "        });\n",
       "    }\n",
       "\n",
       "    function showError(err) {\n",
       "      outputDiv.innerHTML = `<div class=\"error\" style=\"color:red;\">${err}</div>`;\n",
       "      throw err;\n",
       "    }\n",
       "\n",
       "    function displayChart(vegaEmbed) {\n",
       "      vegaEmbed(outputDiv, spec, embedOpt)\n",
       "        .catch(err => showError(`Javascript Error: ${err.message}<br>This usually means there's a typo in your chart specification. See the javascript console for the full traceback.`));\n",
       "    }\n",
       "\n",
       "    if(typeof define === \"function\" && define.amd) {\n",
       "      requirejs.config({paths});\n",
       "      require([\"vega-embed\"], displayChart, err => showError(`Error loading script: ${err.message}`));\n",
       "    } else {\n",
       "      maybeLoadScript(\"vega\", \"5\")\n",
       "        .then(() => maybeLoadScript(\"vega-lite\", \"5.8.0\"))\n",
       "        .then(() => maybeLoadScript(\"vega-embed\", \"6\"))\n",
       "        .catch(showError)\n",
       "        .then(() => displayChart(vegaEmbed));\n",
       "    }\n",
       "  })({\"config\": {\"view\": {\"continuousWidth\": 300, \"continuousHeight\": 300}, \"params\": [{\"name\": \"gamma_sel\", \"bind\": {\"input\": \"select\", \"options\": [2, 1], \"labels\": [\"Exact match (TF col: syn_g1_surname)\", \"Jaro_winkler_similarity 0.8 (TF col: syn_g1_surname)\"], \"name\": \"Gamma level:\"}, \"value\": 2}]}, \"hconcat\": [{\"layer\": [{\"mark\": {\"type\": \"point\", \"filled\": true, \"size\": 100, \"stroke\": \"black\", \"strokeWidth\": 1}, \"encoding\": {\"color\": {\"field\": \"log2_bf_tf\", \"scale\": {\"domain\": [-2.5, 2.5], \"scheme\": \"redyellowgreen\"}, \"title\": \"TF adjustment weight\", \"type\": \"quantitative\"}, \"tooltip\": [{\"field\": \"value\", \"title\": \"Value\", \"type\": \"nominal\"}, {\"field\": \"log2_bf\", \"format\": \"+.3\", \"title\": \"Match weight\", \"type\": \"quantitative\"}, {\"field\": \"log2_bf_tf\", \"format\": \"+.3\", \"title\": \"TF adjusted match weight\", \"type\": \"quantitative\"}, {\"field\": \"log2_bf_final\", \"format\": \"+.3\", \"title\": \"Final match weight\", \"type\": \"quantitative\"}], \"x\": {\"axis\": {\"labelAngle\": -60, \"labelFontSize\": 16, \"titleFontSize\": 20}, \"field\": \"value\", \"sort\": {\"field\": \"log2_bf_final\", \"order\": \"ascending\"}, \"title\": \"TF column value\", \"type\": \"nominal\"}, \"y\": {\"axis\": {\"format\": \"+\", \"labelFontSize\": 16, \"titleFontSize\": 18, \"values\": [-5, -4, -3, -2, -1, 0, 1, 2, 3, 4, 5, 6, 7, 8, 9, 10, 11, 12, 13, 14, 15, 16, 17, 18, 19, 20]}, \"field\": \"log2_bf_final\", \"title\": \"Match weight\", \"type\": \"quantitative\"}}}, {\"mark\": \"rule\", \"encoding\": {\"y\": {\"field\": \"log2_bf\", \"type\": \"quantitative\"}}, \"transform\": [{\"filter\": \"datum.gamma == gamma_sel\"}]}, {\"mark\": {\"type\": \"rule\", \"opacity\": 0.5, \"strokeWidth\": 2}, \"encoding\": {\"color\": {\"field\": \"log2_bf_tf\", \"legend\": null, \"scale\": {\"domain\": [-2.5, 2.5], \"scheme\": \"redyellowgreen\"}, \"title\": \"TF adjustment weight\", \"type\": \"quantitative\"}, \"x\": {\"field\": \"value\", \"sort\": {\"field\": \"log2_bf_final\", \"order\": \"ascending\"}, \"title\": \"TF column value\", \"type\": \"nominal\"}, \"y\": {\"field\": \"log2_bf_final\", \"type\": \"quantitative\"}, \"y2\": {\"type\": \"quantitative\"}}, \"transform\": [{\"filter\": \"datum.gamma == gamma_sel\"}]}], \"data\": {\"name\": \"data\"}, \"height\": 400, \"transform\": [{\"filter\": \"datum.gamma == gamma_sel\"}], \"width\": {\"step\": 20}}, {\"mark\": {\"type\": \"bar\", \"fillOpacity\": 0.8, \"filled\": true, \"stroke\": \"black\", \"strokeWidth\": 1}, \"data\": {\"name\": \"hist\"}, \"encoding\": {\"color\": {\"field\": \"log2_bf_tf\", \"legend\": null, \"scale\": {\"domain\": [-2.5, 2.5], \"scheme\": \"redyellowgreen\"}, \"title\": \"TF adjustment weight\", \"type\": \"quantitative\"}, \"tooltip\": [{\"field\": \"log2_bf_desc\", \"title\": \"Match weight\"}, {\"field\": \"count\", \"title\": \"Number of values\"}], \"x\": {\"axis\": {\"domain\": false, \"gridOpacity\": 0.5, \"labelAlign\": \"center\", \"labelFontSize\": 12, \"labelOpacity\": 0.5, \"labelOverlap\": true, \"ticks\": false, \"title\": \"Count of values\", \"titleFontSize\": 12, \"titleOpacity\": 0.5}, \"field\": \"count\", \"type\": \"quantitative\"}, \"y\": {\"axis\": null, \"bin\": {\"step\": 0.5}, \"field\": \"log2_bf_final\", \"type\": \"quantitative\"}}, \"transform\": [{\"filter\": {\"or\": [\"datum.gamma == gamma_sel\", {\"field\": \"gamma\", \"valid\": false}]}}], \"view\": {\"stroke\": \"transparent\"}, \"width\": 100}], \"datasets\": {\"data\": [{\"value\": \"sh\\u012b\", \"tf\": 3.7647767487387995e-05, \"label_for_charts\": \"Exact match\", \"u_probability\": 0.0009733897024571305, \"tf_col\": \"syn_g1_surname\", \"tf_adjustment_weight\": 1.0, \"log2_bf\": 9.897620889825705, \"gamma\": 2, \"log2_bf_tf\": 4.6923812916170204, \"log2_bf_final\": 14.590002181442724, \"most_freq_rank\": 6391, \"least_freq_rank\": 0}, {\"value\": \"sh\\u012b\", \"tf\": 3.7647767487387995e-05, \"label_for_charts\": \"Jaro_winkler_similarity 0.8\", \"u_probability\": 0.003937136164350436, \"tf_col\": \"syn_g1_surname\", \"tf_adjustment_weight\": 0.5, \"log2_bf\": -1.9010835605160503, \"gamma\": 1, \"log2_bf_tf\": 3.354219241286827, \"log2_bf_final\": 1.4531356807707767, \"most_freq_rank\": 6391, \"least_freq_rank\": 0}, {\"value\": \"southall\", \"tf\": 3.7647767487387995e-05, \"label_for_charts\": \"Jaro_winkler_similarity 0.8\", \"u_probability\": 0.003937136164350436, \"tf_col\": \"syn_g1_surname\", \"tf_adjustment_weight\": 0.5, \"log2_bf\": -1.9010835605160503, \"gamma\": 1, \"log2_bf_tf\": 3.354219241286827, \"log2_bf_final\": 1.4531356807707767, \"most_freq_rank\": 6390, \"least_freq_rank\": 1}, {\"value\": \"southall\", \"tf\": 3.7647767487387995e-05, \"label_for_charts\": \"Exact match\", \"u_probability\": 0.0009733897024571305, \"tf_col\": \"syn_g1_surname\", \"tf_adjustment_weight\": 1.0, \"log2_bf\": 9.897620889825705, \"gamma\": 2, \"log2_bf_tf\": 4.6923812916170204, \"log2_bf_final\": 14.590002181442724, \"most_freq_rank\": 6390, \"least_freq_rank\": 1}, {\"value\": \"Angus\", \"tf\": 3.7647767487387995e-05, \"label_for_charts\": \"Exact match\", \"u_probability\": 0.0009733897024571305, \"tf_col\": \"syn_g1_surname\", \"tf_adjustment_weight\": 1.0, \"log2_bf\": 9.897620889825705, \"gamma\": 2, \"log2_bf_tf\": 4.6923812916170204, \"log2_bf_final\": 14.590002181442724, \"most_freq_rank\": 6389, \"least_freq_rank\": 2}, {\"value\": \"Angus\", \"tf\": 3.7647767487387995e-05, \"label_for_charts\": \"Jaro_winkler_similarity 0.8\", \"u_probability\": 0.003937136164350436, \"tf_col\": \"syn_g1_surname\", \"tf_adjustment_weight\": 0.5, \"log2_bf\": -1.9010835605160503, \"gamma\": 1, \"log2_bf_tf\": 3.354219241286827, \"log2_bf_final\": 1.4531356807707767, \"most_freq_rank\": 6389, \"least_freq_rank\": 2}, {\"value\": \"buttery taylor\", \"tf\": 3.7647767487387995e-05, \"label_for_charts\": \"Jaro_winkler_similarity 0.8\", \"u_probability\": 0.003937136164350436, \"tf_col\": \"syn_g1_surname\", \"tf_adjustment_weight\": 0.5, \"log2_bf\": -1.9010835605160503, \"gamma\": 1, \"log2_bf_tf\": 3.354219241286827, \"log2_bf_final\": 1.4531356807707767, \"most_freq_rank\": 6388, \"least_freq_rank\": 3}, {\"value\": \"buttery taylor\", \"tf\": 3.7647767487387995e-05, \"label_for_charts\": \"Exact match\", \"u_probability\": 0.0009733897024571305, \"tf_col\": \"syn_g1_surname\", \"tf_adjustment_weight\": 1.0, \"log2_bf\": 9.897620889825705, \"gamma\": 2, \"log2_bf_tf\": 4.6923812916170204, \"log2_bf_final\": 14.590002181442724, \"most_freq_rank\": 6388, \"least_freq_rank\": 3}, {\"value\": \"kaspar\", \"tf\": 3.7647767487387995e-05, \"label_for_charts\": \"Jaro_winkler_similarity 0.8\", \"u_probability\": 0.003937136164350436, \"tf_col\": \"syn_g1_surname\", \"tf_adjustment_weight\": 0.5, \"log2_bf\": -1.9010835605160503, \"gamma\": 1, \"log2_bf_tf\": 3.354219241286827, \"log2_bf_final\": 1.4531356807707767, \"most_freq_rank\": 6387, \"least_freq_rank\": 4}, {\"value\": \"kaspar\", \"tf\": 3.7647767487387995e-05, \"label_for_charts\": \"Exact match\", \"u_probability\": 0.0009733897024571305, \"tf_col\": \"syn_g1_surname\", \"tf_adjustment_weight\": 1.0, \"log2_bf\": 9.897620889825705, \"gamma\": 2, \"log2_bf_tf\": 4.6923812916170204, \"log2_bf_final\": 14.590002181442724, \"most_freq_rank\": 6387, \"least_freq_rank\": 4}, {\"value\": \"barto\\u0148\", \"tf\": 3.7647767487387995e-05, \"label_for_charts\": \"Jaro_winkler_similarity 0.8\", \"u_probability\": 0.003937136164350436, \"tf_col\": \"syn_g1_surname\", \"tf_adjustment_weight\": 0.5, \"log2_bf\": -1.9010835605160503, \"gamma\": 1, \"log2_bf_tf\": 3.354219241286827, \"log2_bf_final\": 1.4531356807707767, \"most_freq_rank\": 6386, \"least_freq_rank\": 5}, {\"value\": \"barto\\u0148\", \"tf\": 3.7647767487387995e-05, \"label_for_charts\": \"Exact match\", \"u_probability\": 0.0009733897024571305, \"tf_col\": \"syn_g1_surname\", \"tf_adjustment_weight\": 1.0, \"log2_bf\": 9.897620889825705, \"gamma\": 2, \"log2_bf_tf\": 4.6923812916170204, \"log2_bf_final\": 14.590002181442724, \"most_freq_rank\": 6386, \"least_freq_rank\": 5}, {\"value\": \"Alicja\", \"tf\": 3.7647767487387995e-05, \"label_for_charts\": \"Exact match\", \"u_probability\": 0.0009733897024571305, \"tf_col\": \"syn_g1_surname\", \"tf_adjustment_weight\": 1.0, \"log2_bf\": 9.897620889825705, \"gamma\": 2, \"log2_bf_tf\": 4.6923812916170204, \"log2_bf_final\": 14.590002181442724, \"most_freq_rank\": 6385, \"least_freq_rank\": 6}, {\"value\": \"Alicja\", \"tf\": 3.7647767487387995e-05, \"label_for_charts\": \"Jaro_winkler_similarity 0.8\", \"u_probability\": 0.003937136164350436, \"tf_col\": \"syn_g1_surname\", \"tf_adjustment_weight\": 0.5, \"log2_bf\": -1.9010835605160503, \"gamma\": 1, \"log2_bf_tf\": 3.354219241286827, \"log2_bf_final\": 1.4531356807707767, \"most_freq_rank\": 6385, \"least_freq_rank\": 6}, {\"value\": \"franklyn\", \"tf\": 3.7647767487387995e-05, \"label_for_charts\": \"Jaro_winkler_similarity 0.8\", \"u_probability\": 0.003937136164350436, \"tf_col\": \"syn_g1_surname\", \"tf_adjustment_weight\": 0.5, \"log2_bf\": -1.9010835605160503, \"gamma\": 1, \"log2_bf_tf\": 3.354219241286827, \"log2_bf_final\": 1.4531356807707767, \"most_freq_rank\": 6384, \"least_freq_rank\": 7}, {\"value\": \"franklyn\", \"tf\": 3.7647767487387995e-05, \"label_for_charts\": \"Exact match\", \"u_probability\": 0.0009733897024571305, \"tf_col\": \"syn_g1_surname\", \"tf_adjustment_weight\": 1.0, \"log2_bf\": 9.897620889825705, \"gamma\": 2, \"log2_bf_tf\": 4.6923812916170204, \"log2_bf_final\": 14.590002181442724, \"most_freq_rank\": 6384, \"least_freq_rank\": 7}, {\"value\": \"macgowan\", \"tf\": 3.7647767487387995e-05, \"label_for_charts\": \"Exact match\", \"u_probability\": 0.0009733897024571305, \"tf_col\": \"syn_g1_surname\", \"tf_adjustment_weight\": 1.0, \"log2_bf\": 9.897620889825705, \"gamma\": 2, \"log2_bf_tf\": 4.6923812916170204, \"log2_bf_final\": 14.590002181442724, \"most_freq_rank\": 6383, \"least_freq_rank\": 8}, {\"value\": \"macgowan\", \"tf\": 3.7647767487387995e-05, \"label_for_charts\": \"Jaro_winkler_similarity 0.8\", \"u_probability\": 0.003937136164350436, \"tf_col\": \"syn_g1_surname\", \"tf_adjustment_weight\": 0.5, \"log2_bf\": -1.9010835605160503, \"gamma\": 1, \"log2_bf_tf\": 3.354219241286827, \"log2_bf_final\": 1.4531356807707767, \"most_freq_rank\": 6383, \"least_freq_rank\": 8}, {\"value\": \"beckett\", \"tf\": 3.7647767487387995e-05, \"label_for_charts\": \"Exact match\", \"u_probability\": 0.0009733897024571305, \"tf_col\": \"syn_g1_surname\", \"tf_adjustment_weight\": 1.0, \"log2_bf\": 9.897620889825705, \"gamma\": 2, \"log2_bf_tf\": 4.6923812916170204, \"log2_bf_final\": 14.590002181442724, \"most_freq_rank\": 6382, \"least_freq_rank\": 9}, {\"value\": \"beckett\", \"tf\": 3.7647767487387995e-05, \"label_for_charts\": \"Jaro_winkler_similarity 0.8\", \"u_probability\": 0.003937136164350436, \"tf_col\": \"syn_g1_surname\", \"tf_adjustment_weight\": 0.5, \"log2_bf\": -1.9010835605160503, \"gamma\": 1, \"log2_bf_tf\": 3.354219241286827, \"log2_bf_final\": 1.4531356807707767, \"most_freq_rank\": 6382, \"least_freq_rank\": 9}, {\"value\": \"wilson\", \"tf\": 0.003990663353663128, \"label_for_charts\": \"Exact match\", \"u_probability\": 0.0009733897024571305, \"tf_col\": \"syn_g1_surname\", \"tf_adjustment_weight\": 1.0, \"log2_bf\": 9.897620889825705, \"gamma\": 2, \"log2_bf_tf\": -2.035539162946179, \"log2_bf_final\": 7.862081726879525, \"most_freq_rank\": 9, \"least_freq_rank\": 6382}, {\"value\": \"wilson\", \"tf\": 0.003990663353663128, \"label_for_charts\": \"Jaro_winkler_similarity 0.8\", \"u_probability\": 0.003937136164350436, \"tf_col\": \"syn_g1_surname\", \"tf_adjustment_weight\": 0.5, \"log2_bf\": -1.9010835605160503, \"gamma\": 1, \"log2_bf_tf\": -0.009740985994772359, \"log2_bf_final\": -1.9108245465108227, \"most_freq_rank\": 9, \"least_freq_rank\": 6382}, {\"value\": \"lewis\", \"tf\": 0.003990663353663128, \"label_for_charts\": \"Exact match\", \"u_probability\": 0.0009733897024571305, \"tf_col\": \"syn_g1_surname\", \"tf_adjustment_weight\": 1.0, \"log2_bf\": 9.897620889825705, \"gamma\": 2, \"log2_bf_tf\": -2.035539162946179, \"log2_bf_final\": 7.862081726879525, \"most_freq_rank\": 8, \"least_freq_rank\": 6383}, {\"value\": \"lewis\", \"tf\": 0.003990663353663128, \"label_for_charts\": \"Jaro_winkler_similarity 0.8\", \"u_probability\": 0.003937136164350436, \"tf_col\": \"syn_g1_surname\", \"tf_adjustment_weight\": 0.5, \"log2_bf\": -1.9010835605160503, \"gamma\": 1, \"log2_bf_tf\": -0.009740985994772359, \"log2_bf_final\": -1.9108245465108227, \"most_freq_rank\": 8, \"least_freq_rank\": 6383}, {\"value\": \"johnson\", \"tf\": 0.0040659588886379034, \"label_for_charts\": \"Exact match\", \"u_probability\": 0.0009733897024571305, \"tf_col\": \"syn_g1_surname\", \"tf_adjustment_weight\": 1.0, \"log2_bf\": 9.897620889825705, \"gamma\": 2, \"log2_bf_tf\": -2.0625062105464487, \"log2_bf_final\": 7.835114679279256, \"most_freq_rank\": 7, \"least_freq_rank\": 6384}, {\"value\": \"johnson\", \"tf\": 0.0040659588886379034, \"label_for_charts\": \"Jaro_winkler_similarity 0.8\", \"u_probability\": 0.003937136164350436, \"tf_col\": \"syn_g1_surname\", \"tf_adjustment_weight\": 0.5, \"log2_bf\": -1.9010835605160503, \"gamma\": 1, \"log2_bf_tf\": -0.023224509794906995, \"log2_bf_final\": -1.9243080703109574, \"most_freq_rank\": 7, \"least_freq_rank\": 6384}, {\"value\": \"roberts\", \"tf\": 0.004178902191100068, \"label_for_charts\": \"Exact match\", \"u_probability\": 0.0009733897024571305, \"tf_col\": \"syn_g1_surname\", \"tf_adjustment_weight\": 1.0, \"log2_bf\": 9.897620889825705, \"gamma\": 2, \"log2_bf_tf\": -2.102034574733086, \"log2_bf_final\": 7.795586315092619, \"most_freq_rank\": 6, \"least_freq_rank\": 6385}, {\"value\": \"roberts\", \"tf\": 0.004178902191100068, \"label_for_charts\": \"Jaro_winkler_similarity 0.8\", \"u_probability\": 0.003937136164350436, \"tf_col\": \"syn_g1_surname\", \"tf_adjustment_weight\": 0.5, \"log2_bf\": -1.9010835605160503, \"gamma\": 1, \"log2_bf_tf\": -0.04298869188822583, \"log2_bf_final\": -1.9440722524042762, \"most_freq_rank\": 6, \"least_freq_rank\": 6385}, {\"value\": \"davies\", \"tf\": 0.004555379865973948, \"label_for_charts\": \"Jaro_winkler_similarity 0.8\", \"u_probability\": 0.003937136164350436, \"tf_col\": \"syn_g1_surname\", \"tf_adjustment_weight\": 0.5, \"log2_bf\": -1.9010835605160503, \"gamma\": 1, \"log2_bf_tf\": -0.10521237735047007, \"log2_bf_final\": -2.00629593786652, \"most_freq_rank\": 5, \"least_freq_rank\": 6386}, {\"value\": \"davies\", \"tf\": 0.004555379865973948, \"label_for_charts\": \"Exact match\", \"u_probability\": 0.0009733897024571305, \"tf_col\": \"syn_g1_surname\", \"tf_adjustment_weight\": 1.0, \"log2_bf\": 9.897620889825705, \"gamma\": 2, \"log2_bf_tf\": -2.2264819456575746, \"log2_bf_final\": 7.6711389441681295, \"most_freq_rank\": 5, \"least_freq_rank\": 6386}, {\"value\": \"brown\", \"tf\": 0.004781266470898275, \"label_for_charts\": \"Jaro_winkler_similarity 0.8\", \"u_probability\": 0.003937136164350436, \"tf_col\": \"syn_g1_surname\", \"tf_adjustment_weight\": 0.5, \"log2_bf\": -1.9010835605160503, \"gamma\": 1, \"log2_bf_tf\": -0.14012310209925566, \"log2_bf_final\": -2.041206662615306, \"most_freq_rank\": 4, \"least_freq_rank\": 6387}, {\"value\": \"brown\", \"tf\": 0.004781266470898275, \"label_for_charts\": \"Exact match\", \"u_probability\": 0.0009733897024571305, \"tf_col\": \"syn_g1_surname\", \"tf_adjustment_weight\": 1.0, \"log2_bf\": 9.897620889825705, \"gamma\": 2, \"log2_bf_tf\": -2.296303395155146, \"log2_bf_final\": 7.601317494670559, \"most_freq_rank\": 4, \"least_freq_rank\": 6387}, {\"value\": \"williams\", \"tf\": 0.004856562005873052, \"label_for_charts\": \"Exact match\", \"u_probability\": 0.0009733897024571305, \"tf_col\": \"syn_g1_surname\", \"tf_adjustment_weight\": 1.0, \"log2_bf\": 9.897620889825705, \"gamma\": 2, \"log2_bf_tf\": -2.3188459638062344, \"log2_bf_final\": 7.57877492601947, \"most_freq_rank\": 3, \"least_freq_rank\": 6388}, {\"value\": \"williams\", \"tf\": 0.004856562005873052, \"label_for_charts\": \"Jaro_winkler_similarity 0.8\", \"u_probability\": 0.003937136164350436, \"tf_col\": \"syn_g1_surname\", \"tf_adjustment_weight\": 0.5, \"log2_bf\": -1.9010835605160503, \"gamma\": 1, \"log2_bf_tf\": -0.15139438642479988, \"log2_bf_final\": -2.0524779469408503, \"most_freq_rank\": 3, \"least_freq_rank\": 6388}, {\"value\": \"taylor\", \"tf\": 0.008207213312250583, \"label_for_charts\": \"Exact match\", \"u_probability\": 0.0009733897024571305, \"tf_col\": \"syn_g1_surname\", \"tf_adjustment_weight\": 1.0, \"log2_bf\": 9.897620889825705, \"gamma\": 2, \"log2_bf_tf\": -3.0758030331599064, \"log2_bf_final\": 6.821817856665798, \"most_freq_rank\": 2, \"least_freq_rank\": 6389}, {\"value\": \"taylor\", \"tf\": 0.008207213312250583, \"label_for_charts\": \"Jaro_winkler_similarity 0.8\", \"u_probability\": 0.003937136164350436, \"tf_col\": \"syn_g1_surname\", \"tf_adjustment_weight\": 0.5, \"log2_bf\": -1.9010835605160503, \"gamma\": 1, \"log2_bf_tf\": -0.529872921101636, \"log2_bf_final\": -2.4309564816176863, \"most_freq_rank\": 2, \"least_freq_rank\": 6389}, {\"value\": \"jones\", \"tf\": 0.008960168661998344, \"label_for_charts\": \"Exact match\", \"u_probability\": 0.0009733897024571305, \"tf_col\": \"syn_g1_surname\", \"tf_adjustment_weight\": 1.0, \"log2_bf\": 9.897620889825705, \"gamma\": 2, \"log2_bf_tf\": -3.2024364716909237, \"log2_bf_final\": 6.695184418134781, \"most_freq_rank\": 1, \"least_freq_rank\": 6390}, {\"value\": \"jones\", \"tf\": 0.008960168661998344, \"label_for_charts\": \"Jaro_winkler_similarity 0.8\", \"u_probability\": 0.003937136164350436, \"tf_col\": \"syn_g1_surname\", \"tf_adjustment_weight\": 0.5, \"log2_bf\": -1.9010835605160503, \"gamma\": 1, \"log2_bf_tf\": -0.5931896403671446, \"log2_bf_final\": -2.494273200883195, \"most_freq_rank\": 1, \"least_freq_rank\": 6390}, {\"value\": \"smith\", \"tf\": 0.011369625781191176, \"label_for_charts\": \"Jaro_winkler_similarity 0.8\", \"u_probability\": 0.003937136164350436, \"tf_col\": \"syn_g1_surname\", \"tf_adjustment_weight\": 0.5, \"log2_bf\": -1.9010835605160503, \"gamma\": 1, \"log2_bf_tf\": -0.7649831283757123, \"log2_bf_final\": -2.6660666888917626, \"most_freq_rank\": 0, \"least_freq_rank\": 6391}, {\"value\": \"smith\", \"tf\": 0.011369625781191176, \"label_for_charts\": \"Exact match\", \"u_probability\": 0.0009733897024571305, \"tf_col\": \"syn_g1_surname\", \"tf_adjustment_weight\": 1.0, \"log2_bf\": 9.897620889825705, \"gamma\": 2, \"log2_bf_tf\": -3.546023447708059, \"log2_bf_final\": 6.3515974421176455, \"most_freq_rank\": 0, \"least_freq_rank\": 6391}], \"hist\": [{\"gamma\": 1, \"log2_bf\": -1.9010835605160503, \"count\": 1, \"log2_bf_tf\": -0.7649831283757123, \"bin_start\": -3.0, \"bin_end\": -2.5, \"log2_bf_final\": -2.75, \"log2_bf_desc\": \"-3.0--2.5\"}, {\"gamma\": 1, \"log2_bf\": -1.9010835605160503, \"count\": 5, \"log2_bf_tf\": -0.3039584854686612, \"bin_start\": -2.5, \"bin_end\": -2.0, \"log2_bf_final\": -2.25, \"log2_bf_desc\": \"-2.5--2.0\"}, {\"gamma\": 1, \"log2_bf\": -1.9010835605160503, \"count\": 21, \"log2_bf_tf\": 0.18902543604304226, \"bin_start\": -2.0, \"bin_end\": -1.5, \"log2_bf_final\": -1.75, \"log2_bf_desc\": \"-2.0--1.5\"}, {\"gamma\": 1, \"log2_bf\": -1.9010835605160503, \"count\": 84, \"log2_bf_tf\": 0.675050217149379, \"bin_start\": -1.5, \"bin_end\": -1.0, \"log2_bf_final\": -1.25, \"log2_bf_desc\": \"-1.5--1.0\"}, {\"gamma\": 1, \"log2_bf\": -1.9010835605160503, \"count\": 155, \"log2_bf_tf\": 1.1952163007215046, \"bin_start\": -1.0, \"bin_end\": -0.5, \"log2_bf_final\": -0.75, \"log2_bf_desc\": \"-1.0--0.5\"}, {\"gamma\": 1, \"log2_bf\": -1.9010835605160503, \"count\": 331, \"log2_bf_tf\": 1.6918846084996733, \"bin_start\": -0.5, \"bin_end\": 0.0, \"log2_bf_final\": -0.25, \"log2_bf_desc\": \"-0.5-0.0\"}, {\"gamma\": 1, \"log2_bf\": -1.9010835605160503, \"count\": 1062, \"log2_bf_tf\": 2.248858764757698, \"bin_start\": 0.0, \"bin_end\": 0.5, \"log2_bf_final\": 0.25, \"log2_bf_desc\": \"0.0-0.5\"}, {\"gamma\": 1, \"log2_bf\": -1.9010835605160503, \"count\": 3757, \"log2_bf_tf\": 2.8435538350319964, \"bin_start\": 0.5, \"bin_end\": 1.0, \"log2_bf_final\": 0.75, \"log2_bf_desc\": \"0.5-1.0\"}, {\"gamma\": 1, \"log2_bf\": -1.9010835605160503, \"count\": 976, \"log2_bf_tf\": 3.354219241286827, \"bin_start\": 1.0, \"bin_end\": 1.5, \"log2_bf_final\": 1.25, \"log2_bf_desc\": \"1.0-1.5\"}, {\"gamma\": 2, \"log2_bf\": 9.897620889825705, \"count\": 1, \"log2_bf_tf\": -3.546023447708059, \"bin_start\": 6.0, \"bin_end\": 6.5, \"log2_bf_final\": 6.25, \"log2_bf_desc\": \"6.0-6.5\"}, {\"gamma\": 2, \"log2_bf\": 9.897620889825705, \"count\": 2, \"log2_bf_tf\": -3.1391197524254153, \"bin_start\": 6.5, \"bin_end\": 7.0, \"log2_bf_final\": 6.75, \"log2_bf_desc\": \"6.5-7.0\"}, {\"gamma\": 2, \"log2_bf\": 9.897620889825705, \"count\": 8, \"log2_bf_tf\": -2.1339212064196307, \"bin_start\": 7.5, \"bin_end\": 8.0, \"log2_bf_final\": 7.75, \"log2_bf_desc\": \"7.5-8.0\"}, {\"gamma\": 2, \"log2_bf\": 9.897620889825705, \"count\": 9, \"log2_bf_tf\": -1.6616180179608773, \"bin_start\": 8.0, \"bin_end\": 8.5, \"log2_bf_final\": 8.25, \"log2_bf_desc\": \"8.0-8.5\"}, {\"gamma\": 2, \"log2_bf\": 9.897620889825705, \"count\": 29, \"log2_bf_tf\": -1.1231972770425935, \"bin_start\": 8.5, \"bin_end\": 9.0, \"log2_bf_final\": 8.75, \"log2_bf_desc\": \"8.5-9.0\"}, {\"gamma\": 2, \"log2_bf\": 9.897620889825705, \"count\": 36, \"log2_bf_tf\": -0.6837737172620615, \"bin_start\": 9.0, \"bin_end\": 9.5, \"log2_bf_final\": 9.25, \"log2_bf_desc\": \"9.0-9.5\"}, {\"gamma\": 2, \"log2_bf\": 9.897620889825705, \"count\": 53, \"log2_bf_tf\": -0.1791417300549601, \"bin_start\": 9.5, \"bin_end\": 10.0, \"log2_bf_final\": 9.75, \"log2_bf_desc\": \"9.5-10.0\"}, {\"gamma\": 2, \"log2_bf\": 9.897620889825705, \"count\": 88, \"log2_bf_tf\": 0.3542747562789228, \"bin_start\": 10.0, \"bin_end\": 10.5, \"log2_bf_final\": 10.25, \"log2_bf_desc\": \"10.0-10.5\"}, {\"gamma\": 2, \"log2_bf\": 9.897620889825705, \"count\": 98, \"log2_bf_tf\": 0.8319386201560698, \"bin_start\": 10.5, \"bin_end\": 11.0, \"log2_bf_final\": 10.75, \"log2_bf_desc\": \"10.5-11.0\"}, {\"gamma\": 2, \"log2_bf\": 9.897620889825705, \"count\": 162, \"log2_bf_tf\": 1.306847341664332, \"bin_start\": 11.0, \"bin_end\": 11.5, \"log2_bf_final\": 11.25, \"log2_bf_desc\": \"11.0-11.5\"}, {\"gamma\": 2, \"log2_bf\": 9.897620889825705, \"count\": 162, \"log2_bf_tf\": 1.7530288161544407, \"bin_start\": 11.5, \"bin_end\": 12.0, \"log2_bf_final\": 11.75, \"log2_bf_desc\": \"11.5-12.0\"}, {\"gamma\": 2, \"log2_bf\": 9.897620889825705, \"count\": 345, \"log2_bf_tf\": 2.163075346333159, \"bin_start\": 12.0, \"bin_end\": 12.5, \"log2_bf_final\": 12.25, \"log2_bf_desc\": \"12.0-12.5\"}, {\"gamma\": 2, \"log2_bf\": 9.897620889825705, \"count\": 666, \"log2_bf_tf\": 2.69238129161702, \"bin_start\": 12.5, \"bin_end\": 13.0, \"log2_bf_final\": 12.75, \"log2_bf_desc\": \"12.5-13.0\"}, {\"gamma\": 2, \"log2_bf\": 9.897620889825705, \"count\": 137, \"log2_bf_tf\": 3.107418790895864, \"bin_start\": 13.0, \"bin_end\": 13.5, \"log2_bf_final\": 13.25, \"log2_bf_desc\": \"13.0-13.5\"}, {\"gamma\": 2, \"log2_bf\": 9.897620889825705, \"count\": 3620, \"log2_bf_tf\": 3.69238129161702, \"bin_start\": 13.5, \"bin_end\": 14.0, \"log2_bf_final\": 13.75, \"log2_bf_desc\": \"13.5-14.0\"}, {\"gamma\": 2, \"log2_bf\": 9.897620889825705, \"count\": 976, \"log2_bf_tf\": 4.6923812916170204, \"bin_start\": 14.5, \"bin_end\": 15.0, \"log2_bf_final\": 14.75, \"log2_bf_desc\": \"14.5-15.0\"}]}, \"resolve\": {\"scale\": {\"color\": \"shared\", \"y\": \"shared\"}}, \"spacing\": 10, \"title\": {\"text\": \"Term frequency adjusted match weights\", \"anchor\": \"middle\", \"fontSize\": 16, \"subtitle\": \"For selected values, incl. the lowest and highest frequency\"}, \"$schema\": \"https://vega.github.io/schema/vega-lite/v5.9.3.json\"}, {\"mode\": \"vega-lite\"});\n",
       "</script>"
      ],
      "text/plain": [
       "alt.HConcatChart(...)"
      ]
     },
     "execution_count": 7,
     "metadata": {},
     "output_type": "execute_result"
    }
   ],
   "source": [
    "linker.tf_adjustment_chart(\"syn_g1_surname\")\n"
   ]
  },
  {
   "cell_type": "code",
   "execution_count": 26,
   "metadata": {},
   "outputs": [
    {
     "name": "stderr",
     "output_type": "stream",
     "text": [
      "C:\\Users\\uctvjla\\OneDrive - University College London\\Desktop\\splink\\splink_synthetic_data-main\\venv\\lib\\site-packages\\splink\\linker.py:3343: UserWarning: Values [None] from `vals_to_include` were not found in the dataset so are not included in the chart.\n",
      "  return tf_adjustment_chart(\n"
     ]
    },
    {
     "data": {
      "text/html": [
       "\n",
       "<style>\n",
       "  #altair-viz-335af45a157347bc84f1701e9205d44d.vega-embed {\n",
       "    width: 100%;\n",
       "    display: flex;\n",
       "  }\n",
       "\n",
       "  #altair-viz-335af45a157347bc84f1701e9205d44d.vega-embed details,\n",
       "  #altair-viz-335af45a157347bc84f1701e9205d44d.vega-embed details summary {\n",
       "    position: relative;\n",
       "  }\n",
       "</style>\n",
       "<div id=\"altair-viz-335af45a157347bc84f1701e9205d44d\"></div>\n",
       "<script type=\"text/javascript\">\n",
       "  var VEGA_DEBUG = (typeof VEGA_DEBUG == \"undefined\") ? {} : VEGA_DEBUG;\n",
       "  (function(spec, embedOpt){\n",
       "    let outputDiv = document.currentScript.previousElementSibling;\n",
       "    if (outputDiv.id !== \"altair-viz-335af45a157347bc84f1701e9205d44d\") {\n",
       "      outputDiv = document.getElementById(\"altair-viz-335af45a157347bc84f1701e9205d44d\");\n",
       "    }\n",
       "    const paths = {\n",
       "      \"vega\": \"https://cdn.jsdelivr.net/npm/vega@5?noext\",\n",
       "      \"vega-lib\": \"https://cdn.jsdelivr.net/npm/vega-lib?noext\",\n",
       "      \"vega-lite\": \"https://cdn.jsdelivr.net/npm/vega-lite@5.8.0?noext\",\n",
       "      \"vega-embed\": \"https://cdn.jsdelivr.net/npm/vega-embed@6?noext\",\n",
       "    };\n",
       "\n",
       "    function maybeLoadScript(lib, version) {\n",
       "      var key = `${lib.replace(\"-\", \"\")}_version`;\n",
       "      return (VEGA_DEBUG[key] == version) ?\n",
       "        Promise.resolve(paths[lib]) :\n",
       "        new Promise(function(resolve, reject) {\n",
       "          var s = document.createElement('script');\n",
       "          document.getElementsByTagName(\"head\")[0].appendChild(s);\n",
       "          s.async = true;\n",
       "          s.onload = () => {\n",
       "            VEGA_DEBUG[key] = version;\n",
       "            return resolve(paths[lib]);\n",
       "          };\n",
       "          s.onerror = () => reject(`Error loading script: ${paths[lib]}`);\n",
       "          s.src = paths[lib];\n",
       "        });\n",
       "    }\n",
       "\n",
       "    function showError(err) {\n",
       "      outputDiv.innerHTML = `<div class=\"error\" style=\"color:red;\">${err}</div>`;\n",
       "      throw err;\n",
       "    }\n",
       "\n",
       "    function displayChart(vegaEmbed) {\n",
       "      vegaEmbed(outputDiv, spec, embedOpt)\n",
       "        .catch(err => showError(`Javascript Error: ${err.message}<br>This usually means there's a typo in your chart specification. See the javascript console for the full traceback.`));\n",
       "    }\n",
       "\n",
       "    if(typeof define === \"function\" && define.amd) {\n",
       "      requirejs.config({paths});\n",
       "      require([\"vega-embed\"], displayChart, err => showError(`Error loading script: ${err.message}`));\n",
       "    } else {\n",
       "      maybeLoadScript(\"vega\", \"5\")\n",
       "        .then(() => maybeLoadScript(\"vega-lite\", \"5.8.0\"))\n",
       "        .then(() => maybeLoadScript(\"vega-embed\", \"6\"))\n",
       "        .catch(showError)\n",
       "        .then(() => displayChart(vegaEmbed));\n",
       "    }\n",
       "  })({\"config\": {\"view\": {\"continuousWidth\": 300, \"continuousHeight\": 300}, \"params\": [{\"name\": \"gamma_sel\", \"bind\": {\"input\": \"select\", \"options\": [2, 1], \"labels\": [\"Exact match (TF col: syn_g0_surname)\", \"Jaro_winkler_similarity 0.8 (TF col: syn_g0_surname)\"], \"name\": \"Gamma level:\"}, \"value\": 2}]}, \"hconcat\": [{\"layer\": [{\"mark\": {\"type\": \"point\", \"filled\": true, \"size\": 100, \"stroke\": \"black\", \"strokeWidth\": 1}, \"encoding\": {\"color\": {\"field\": \"log2_bf_tf\", \"scale\": {\"domain\": [-2.5, 2.5], \"scheme\": \"redyellowgreen\"}, \"title\": \"TF adjustment weight\", \"type\": \"quantitative\"}, \"tooltip\": [{\"field\": \"value\", \"title\": \"Value\", \"type\": \"nominal\"}, {\"field\": \"log2_bf\", \"format\": \"+.3\", \"title\": \"Match weight\", \"type\": \"quantitative\"}, {\"field\": \"log2_bf_tf\", \"format\": \"+.3\", \"title\": \"TF adjusted match weight\", \"type\": \"quantitative\"}, {\"field\": \"log2_bf_final\", \"format\": \"+.3\", \"title\": \"Final match weight\", \"type\": \"quantitative\"}], \"x\": {\"axis\": {\"labelAngle\": -60, \"labelFontSize\": 16, \"titleFontSize\": 20}, \"field\": \"value\", \"sort\": {\"field\": \"log2_bf_final\", \"order\": \"ascending\"}, \"title\": \"TF column value\", \"type\": \"nominal\"}, \"y\": {\"axis\": {\"format\": \"+\", \"labelFontSize\": 16, \"titleFontSize\": 18, \"values\": [-5, -4, -3, -2, -1, 0, 1, 2, 3, 4, 5, 6, 7, 8, 9, 10, 11, 12, 13, 14, 15, 16, 17, 18, 19, 20]}, \"field\": \"log2_bf_final\", \"title\": \"Match weight\", \"type\": \"quantitative\"}}}, {\"mark\": \"rule\", \"encoding\": {\"y\": {\"field\": \"log2_bf\", \"type\": \"quantitative\"}}, \"transform\": [{\"filter\": \"datum.gamma == gamma_sel\"}]}, {\"mark\": {\"type\": \"rule\", \"opacity\": 0.5, \"strokeWidth\": 2}, \"encoding\": {\"color\": {\"field\": \"log2_bf_tf\", \"legend\": null, \"scale\": {\"domain\": [-2.5, 2.5], \"scheme\": \"redyellowgreen\"}, \"title\": \"TF adjustment weight\", \"type\": \"quantitative\"}, \"x\": {\"field\": \"value\", \"sort\": {\"field\": \"log2_bf_final\", \"order\": \"ascending\"}, \"title\": \"TF column value\", \"type\": \"nominal\"}, \"y\": {\"field\": \"log2_bf_final\", \"type\": \"quantitative\"}, \"y2\": {\"type\": \"quantitative\"}}, \"transform\": [{\"filter\": \"datum.gamma == gamma_sel\"}]}], \"data\": {\"name\": \"data\"}, \"height\": 400, \"transform\": [{\"filter\": \"datum.gamma == gamma_sel\"}], \"width\": {\"step\": 20}}, {\"mark\": {\"type\": \"bar\", \"fillOpacity\": 0.8, \"filled\": true, \"stroke\": \"black\", \"strokeWidth\": 1}, \"data\": {\"name\": \"hist\"}, \"encoding\": {\"color\": {\"field\": \"log2_bf_tf\", \"legend\": null, \"scale\": {\"domain\": [-2.5, 2.5], \"scheme\": \"redyellowgreen\"}, \"title\": \"TF adjustment weight\", \"type\": \"quantitative\"}, \"tooltip\": [{\"field\": \"log2_bf_desc\", \"title\": \"Match weight\"}, {\"field\": \"count\", \"title\": \"Number of values\"}], \"x\": {\"axis\": {\"domain\": false, \"gridOpacity\": 0.5, \"labelAlign\": \"center\", \"labelFontSize\": 12, \"labelOpacity\": 0.5, \"labelOverlap\": true, \"ticks\": false, \"title\": \"Count of values\", \"titleFontSize\": 12, \"titleOpacity\": 0.5}, \"field\": \"count\", \"type\": \"quantitative\"}, \"y\": {\"axis\": null, \"bin\": {\"step\": 0.5}, \"field\": \"log2_bf_final\", \"type\": \"quantitative\"}}, \"transform\": [{\"filter\": {\"or\": [\"datum.gamma == gamma_sel\", {\"field\": \"gamma\", \"valid\": false}]}}], \"view\": {\"stroke\": \"transparent\"}, \"width\": 100}], \"datasets\": {\"data\": [{\"value\": \"mart\\u00ednez\", \"tf\": 3.7647767487387995e-05, \"label_for_charts\": \"Exact match\", \"u_probability\": 0.0007971848480165407, \"tf_col\": \"syn_g0_surname\", \"tf_adjustment_weight\": 1.0, \"log2_bf\": 10.062293435242767, \"gamma\": 2, \"log2_bf_tf\": 4.404278068599658, \"log2_bf_final\": 14.466571503842424, \"most_freq_rank\": 7965, \"least_freq_rank\": 0}, {\"value\": \"mart\\u00ednez\", \"tf\": 3.7647767487387995e-05, \"label_for_charts\": \"Jaro_winkler_similarity 0.8\", \"u_probability\": 0.0035789328185787746, \"tf_col\": \"syn_g0_surname\", \"tf_adjustment_weight\": 0.5, \"log2_bf\": 0.8341213794514446, \"gamma\": 1, \"log2_bf_tf\": 3.2854106684117608, \"log2_bf_final\": 4.119532047863205, \"most_freq_rank\": 7965, \"least_freq_rank\": 0}, {\"value\": \"ivanovski\", \"tf\": 3.7647767487387995e-05, \"label_for_charts\": \"Jaro_winkler_similarity 0.8\", \"u_probability\": 0.0035789328185787746, \"tf_col\": \"syn_g0_surname\", \"tf_adjustment_weight\": 0.5, \"log2_bf\": 0.8341213794514446, \"gamma\": 1, \"log2_bf_tf\": 3.2854106684117608, \"log2_bf_final\": 4.119532047863205, \"most_freq_rank\": 7964, \"least_freq_rank\": 1}, {\"value\": \"ivanovski\", \"tf\": 3.7647767487387995e-05, \"label_for_charts\": \"Exact match\", \"u_probability\": 0.0007971848480165407, \"tf_col\": \"syn_g0_surname\", \"tf_adjustment_weight\": 1.0, \"log2_bf\": 10.062293435242767, \"gamma\": 2, \"log2_bf_tf\": 4.404278068599658, \"log2_bf_final\": 14.466571503842424, \"most_freq_rank\": 7964, \"least_freq_rank\": 1}, {\"value\": \"gei\\u00dfler\", \"tf\": 3.7647767487387995e-05, \"label_for_charts\": \"Exact match\", \"u_probability\": 0.0007971848480165407, \"tf_col\": \"syn_g0_surname\", \"tf_adjustment_weight\": 1.0, \"log2_bf\": 10.062293435242767, \"gamma\": 2, \"log2_bf_tf\": 4.404278068599658, \"log2_bf_final\": 14.466571503842424, \"most_freq_rank\": 7963, \"least_freq_rank\": 2}, {\"value\": \"gei\\u00dfler\", \"tf\": 3.7647767487387995e-05, \"label_for_charts\": \"Jaro_winkler_similarity 0.8\", \"u_probability\": 0.0035789328185787746, \"tf_col\": \"syn_g0_surname\", \"tf_adjustment_weight\": 0.5, \"log2_bf\": 0.8341213794514446, \"gamma\": 1, \"log2_bf_tf\": 3.2854106684117608, \"log2_bf_final\": 4.119532047863205, \"most_freq_rank\": 7963, \"least_freq_rank\": 2}, {\"value\": \"bondy\", \"tf\": 3.7647767487387995e-05, \"label_for_charts\": \"Jaro_winkler_similarity 0.8\", \"u_probability\": 0.0035789328185787746, \"tf_col\": \"syn_g0_surname\", \"tf_adjustment_weight\": 0.5, \"log2_bf\": 0.8341213794514446, \"gamma\": 1, \"log2_bf_tf\": 3.2854106684117608, \"log2_bf_final\": 4.119532047863205, \"most_freq_rank\": 7962, \"least_freq_rank\": 3}, {\"value\": \"bondy\", \"tf\": 3.7647767487387995e-05, \"label_for_charts\": \"Exact match\", \"u_probability\": 0.0007971848480165407, \"tf_col\": \"syn_g0_surname\", \"tf_adjustment_weight\": 1.0, \"log2_bf\": 10.062293435242767, \"gamma\": 2, \"log2_bf_tf\": 4.404278068599658, \"log2_bf_final\": 14.466571503842424, \"most_freq_rank\": 7962, \"least_freq_rank\": 3}, {\"value\": \"hasekawa\", \"tf\": 3.7647767487387995e-05, \"label_for_charts\": \"Jaro_winkler_similarity 0.8\", \"u_probability\": 0.0035789328185787746, \"tf_col\": \"syn_g0_surname\", \"tf_adjustment_weight\": 0.5, \"log2_bf\": 0.8341213794514446, \"gamma\": 1, \"log2_bf_tf\": 3.2854106684117608, \"log2_bf_final\": 4.119532047863205, \"most_freq_rank\": 7961, \"least_freq_rank\": 4}, {\"value\": \"hasekawa\", \"tf\": 3.7647767487387995e-05, \"label_for_charts\": \"Exact match\", \"u_probability\": 0.0007971848480165407, \"tf_col\": \"syn_g0_surname\", \"tf_adjustment_weight\": 1.0, \"log2_bf\": 10.062293435242767, \"gamma\": 2, \"log2_bf_tf\": 4.404278068599658, \"log2_bf_final\": 14.466571503842424, \"most_freq_rank\": 7961, \"least_freq_rank\": 4}, {\"value\": \"sikora\", \"tf\": 3.7647767487387995e-05, \"label_for_charts\": \"Jaro_winkler_similarity 0.8\", \"u_probability\": 0.0035789328185787746, \"tf_col\": \"syn_g0_surname\", \"tf_adjustment_weight\": 0.5, \"log2_bf\": 0.8341213794514446, \"gamma\": 1, \"log2_bf_tf\": 3.2854106684117608, \"log2_bf_final\": 4.119532047863205, \"most_freq_rank\": 7960, \"least_freq_rank\": 5}, {\"value\": \"sikora\", \"tf\": 3.7647767487387995e-05, \"label_for_charts\": \"Exact match\", \"u_probability\": 0.0007971848480165407, \"tf_col\": \"syn_g0_surname\", \"tf_adjustment_weight\": 1.0, \"log2_bf\": 10.062293435242767, \"gamma\": 2, \"log2_bf_tf\": 4.404278068599658, \"log2_bf_final\": 14.466571503842424, \"most_freq_rank\": 7960, \"least_freq_rank\": 5}, {\"value\": \"dumon\", \"tf\": 3.7647767487387995e-05, \"label_for_charts\": \"Exact match\", \"u_probability\": 0.0007971848480165407, \"tf_col\": \"syn_g0_surname\", \"tf_adjustment_weight\": 1.0, \"log2_bf\": 10.062293435242767, \"gamma\": 2, \"log2_bf_tf\": 4.404278068599658, \"log2_bf_final\": 14.466571503842424, \"most_freq_rank\": 7959, \"least_freq_rank\": 6}, {\"value\": \"dumon\", \"tf\": 3.7647767487387995e-05, \"label_for_charts\": \"Jaro_winkler_similarity 0.8\", \"u_probability\": 0.0035789328185787746, \"tf_col\": \"syn_g0_surname\", \"tf_adjustment_weight\": 0.5, \"log2_bf\": 0.8341213794514446, \"gamma\": 1, \"log2_bf_tf\": 3.2854106684117608, \"log2_bf_final\": 4.119532047863205, \"most_freq_rank\": 7959, \"least_freq_rank\": 6}, {\"value\": \"bohm\", \"tf\": 3.7647767487387995e-05, \"label_for_charts\": \"Jaro_winkler_similarity 0.8\", \"u_probability\": 0.0035789328185787746, \"tf_col\": \"syn_g0_surname\", \"tf_adjustment_weight\": 0.5, \"log2_bf\": 0.8341213794514446, \"gamma\": 1, \"log2_bf_tf\": 3.2854106684117608, \"log2_bf_final\": 4.119532047863205, \"most_freq_rank\": 7958, \"least_freq_rank\": 7}, {\"value\": \"bohm\", \"tf\": 3.7647767487387995e-05, \"label_for_charts\": \"Exact match\", \"u_probability\": 0.0007971848480165407, \"tf_col\": \"syn_g0_surname\", \"tf_adjustment_weight\": 1.0, \"log2_bf\": 10.062293435242767, \"gamma\": 2, \"log2_bf_tf\": 4.404278068599658, \"log2_bf_final\": 14.466571503842424, \"most_freq_rank\": 7958, \"least_freq_rank\": 7}, {\"value\": \"schi\\u00f8tt\", \"tf\": 3.7647767487387995e-05, \"label_for_charts\": \"Exact match\", \"u_probability\": 0.0007971848480165407, \"tf_col\": \"syn_g0_surname\", \"tf_adjustment_weight\": 1.0, \"log2_bf\": 10.062293435242767, \"gamma\": 2, \"log2_bf_tf\": 4.404278068599658, \"log2_bf_final\": 14.466571503842424, \"most_freq_rank\": 7957, \"least_freq_rank\": 8}, {\"value\": \"schi\\u00f8tt\", \"tf\": 3.7647767487387995e-05, \"label_for_charts\": \"Jaro_winkler_similarity 0.8\", \"u_probability\": 0.0035789328185787746, \"tf_col\": \"syn_g0_surname\", \"tf_adjustment_weight\": 0.5, \"log2_bf\": 0.8341213794514446, \"gamma\": 1, \"log2_bf_tf\": 3.2854106684117608, \"log2_bf_final\": 4.119532047863205, \"most_freq_rank\": 7957, \"least_freq_rank\": 8}, {\"value\": \"eichm\\u00fcller\", \"tf\": 3.7647767487387995e-05, \"label_for_charts\": \"Exact match\", \"u_probability\": 0.0007971848480165407, \"tf_col\": \"syn_g0_surname\", \"tf_adjustment_weight\": 1.0, \"log2_bf\": 10.062293435242767, \"gamma\": 2, \"log2_bf_tf\": 4.404278068599658, \"log2_bf_final\": 14.466571503842424, \"most_freq_rank\": 7956, \"least_freq_rank\": 9}, {\"value\": \"eichm\\u00fcller\", \"tf\": 3.7647767487387995e-05, \"label_for_charts\": \"Jaro_winkler_similarity 0.8\", \"u_probability\": 0.0035789328185787746, \"tf_col\": \"syn_g0_surname\", \"tf_adjustment_weight\": 0.5, \"log2_bf\": 0.8341213794514446, \"gamma\": 1, \"log2_bf_tf\": 3.2854106684117608, \"log2_bf_final\": 4.119532047863205, \"most_freq_rank\": 7956, \"least_freq_rank\": 9}, {\"value\": \"lewis\", \"tf\": 0.003840072283713576, \"label_for_charts\": \"Exact match\", \"u_probability\": 0.0007971848480165407, \"tf_col\": \"syn_g0_surname\", \"tf_adjustment_weight\": 1.0, \"log2_bf\": 10.062293435242767, \"gamma\": 2, \"log2_bf_tf\": -2.268147273371838, \"log2_bf_final\": 7.794146161870929, \"most_freq_rank\": 9, \"least_freq_rank\": 7956}, {\"value\": \"lewis\", \"tf\": 0.003840072283713576, \"label_for_charts\": \"Jaro_winkler_similarity 0.8\", \"u_probability\": 0.0035789328185787746, \"tf_col\": \"syn_g0_surname\", \"tf_adjustment_weight\": 0.5, \"log2_bf\": 0.8341213794514446, \"gamma\": 1, \"log2_bf_tf\": -0.05080200257398728, \"log2_bf_final\": 0.7833193768774573, \"most_freq_rank\": 9, \"least_freq_rank\": 7956}, {\"value\": \"roberts\", \"tf\": 0.003915367818688352, \"label_for_charts\": \"Exact match\", \"u_probability\": 0.0007971848480165407, \"tf_col\": \"syn_g0_surname\", \"tf_adjustment_weight\": 1.0, \"log2_bf\": 10.062293435242767, \"gamma\": 2, \"log2_bf_tf\": -2.296161649541434, \"log2_bf_final\": 7.766131785701333, \"most_freq_rank\": 8, \"least_freq_rank\": 7957}, {\"value\": \"roberts\", \"tf\": 0.003915367818688352, \"label_for_charts\": \"Jaro_winkler_similarity 0.8\", \"u_probability\": 0.0035789328185787746, \"tf_col\": \"syn_g0_surname\", \"tf_adjustment_weight\": 0.5, \"log2_bf\": 0.8341213794514446, \"gamma\": 1, \"log2_bf_tf\": -0.0648091906587856, \"log2_bf_final\": 0.7693121887926591, \"most_freq_rank\": 8, \"least_freq_rank\": 7957}, {\"value\": \"thomas\", \"tf\": 0.0040283111211505155, \"label_for_charts\": \"Exact match\", \"u_probability\": 0.0007971848480165407, \"tf_col\": \"syn_g0_surname\", \"tf_adjustment_weight\": 1.0, \"log2_bf\": 10.062293435242767, \"gamma\": 2, \"log2_bf_tf\": -2.337188917801489, \"log2_bf_final\": 7.725104517441277, \"most_freq_rank\": 7, \"least_freq_rank\": 7958}, {\"value\": \"thomas\", \"tf\": 0.0040283111211505155, \"label_for_charts\": \"Jaro_winkler_similarity 0.8\", \"u_probability\": 0.0035789328185787746, \"tf_col\": \"syn_g0_surname\", \"tf_adjustment_weight\": 0.5, \"log2_bf\": 0.8341213794514446, \"gamma\": 1, \"log2_bf_tf\": -0.0853228247888129, \"log2_bf_final\": 0.7487985546626317, \"most_freq_rank\": 7, \"least_freq_rank\": 7958}, {\"value\": \"brown\", \"tf\": 0.0044047887960243955, \"label_for_charts\": \"Exact match\", \"u_probability\": 0.0007971848480165407, \"tf_col\": \"syn_g0_surname\", \"tf_adjustment_weight\": 1.0, \"log2_bf\": 10.062293435242767, \"gamma\": 2, \"log2_bf_tf\": -2.4660866509837462, \"log2_bf_final\": 7.596206784259021, \"most_freq_rank\": 6, \"least_freq_rank\": 7959}, {\"value\": \"brown\", \"tf\": 0.0044047887960243955, \"label_for_charts\": \"Jaro_winkler_similarity 0.8\", \"u_probability\": 0.0035789328185787746, \"tf_col\": \"syn_g0_surname\", \"tf_adjustment_weight\": 0.5, \"log2_bf\": 0.8341213794514446, \"gamma\": 1, \"log2_bf_tf\": -0.1497716913799417, \"log2_bf_final\": 0.6843496880715029, \"most_freq_rank\": 6, \"least_freq_rank\": 7959}, {\"value\": \"wilson\", \"tf\": 0.0044047887960243955, \"label_for_charts\": \"Jaro_winkler_similarity 0.8\", \"u_probability\": 0.0035789328185787746, \"tf_col\": \"syn_g0_surname\", \"tf_adjustment_weight\": 0.5, \"log2_bf\": 0.8341213794514446, \"gamma\": 1, \"log2_bf_tf\": -0.1497716913799417, \"log2_bf_final\": 0.6843496880715029, \"most_freq_rank\": 5, \"least_freq_rank\": 7960}, {\"value\": \"wilson\", \"tf\": 0.0044047887960243955, \"label_for_charts\": \"Exact match\", \"u_probability\": 0.0007971848480165407, \"tf_col\": \"syn_g0_surname\", \"tf_adjustment_weight\": 1.0, \"log2_bf\": 10.062293435242767, \"gamma\": 2, \"log2_bf_tf\": -2.4660866509837462, \"log2_bf_final\": 7.596206784259021, \"most_freq_rank\": 5, \"least_freq_rank\": 7960}, {\"value\": \"williams\", \"tf\": 0.004442436563511783, \"label_for_charts\": \"Jaro_winkler_similarity 0.8\", \"u_probability\": 0.0035789328185787746, \"tf_col\": \"syn_g0_surname\", \"tf_adjustment_weight\": 0.5, \"log2_bf\": 0.8341213794514446, \"gamma\": 1, \"log2_bf_tf\": -0.15591085626916004, \"log2_bf_final\": 0.6782105231822846, \"most_freq_rank\": 4, \"least_freq_rank\": 7961}, {\"value\": \"williams\", \"tf\": 0.004442436563511783, \"label_for_charts\": \"Exact match\", \"u_probability\": 0.0007971848480165407, \"tf_col\": \"syn_g0_surname\", \"tf_adjustment_weight\": 1.0, \"log2_bf\": 10.062293435242767, \"gamma\": 2, \"log2_bf_tf\": -2.478364980762183, \"log2_bf_final\": 7.583928454480583, \"most_freq_rank\": 4, \"least_freq_rank\": 7961}, {\"value\": \"davies\", \"tf\": 0.004555379865973948, \"label_for_charts\": \"Exact match\", \"u_probability\": 0.0007971848480165407, \"tf_col\": \"syn_g0_surname\", \"tf_adjustment_weight\": 1.0, \"log2_bf\": 10.062293435242767, \"gamma\": 2, \"log2_bf_tf\": -2.5145851686749365, \"log2_bf_final\": 7.54770826656783, \"most_freq_rank\": 3, \"least_freq_rank\": 7962}, {\"value\": \"davies\", \"tf\": 0.004555379865973948, \"label_for_charts\": \"Jaro_winkler_similarity 0.8\", \"u_probability\": 0.0035789328185787746, \"tf_col\": \"syn_g0_surname\", \"tf_adjustment_weight\": 0.5, \"log2_bf\": 0.8341213794514446, \"gamma\": 1, \"log2_bf_tf\": -0.1740209502255367, \"log2_bf_final\": 0.6601004292259078, \"most_freq_rank\": 3, \"least_freq_rank\": 7962}, {\"value\": \"jones\", \"tf\": 0.007680144567427152, \"label_for_charts\": \"Exact match\", \"u_probability\": 0.0007971848480165407, \"tf_col\": \"syn_g0_surname\", \"tf_adjustment_weight\": 1.0, \"log2_bf\": 10.062293435242767, \"gamma\": 2, \"log2_bf_tf\": -3.268147273371838, \"log2_bf_final\": 6.794146161870929, \"most_freq_rank\": 2, \"least_freq_rank\": 7963}, {\"value\": \"jones\", \"tf\": 0.007680144567427152, \"label_for_charts\": \"Jaro_winkler_similarity 0.8\", \"u_probability\": 0.0035789328185787746, \"tf_col\": \"syn_g0_surname\", \"tf_adjustment_weight\": 0.5, \"log2_bf\": 0.8341213794514446, \"gamma\": 1, \"log2_bf_tf\": -0.5508020025739873, \"log2_bf_final\": 0.28331937687745734, \"most_freq_rank\": 2, \"least_freq_rank\": 7963}, {\"value\": \"taylor\", \"tf\": 0.007793087869889316, \"label_for_charts\": \"Exact match\", \"u_probability\": 0.0007971848480165407, \"tf_col\": \"syn_g0_surname\", \"tf_adjustment_weight\": 1.0, \"log2_bf\": 10.062293435242767, \"gamma\": 2, \"log2_bf_tf\": -3.289208888899667, \"log2_bf_final\": 6.7730845463430995, \"most_freq_rank\": 1, \"least_freq_rank\": 7964}, {\"value\": \"taylor\", \"tf\": 0.007793087869889316, \"label_for_charts\": \"Jaro_winkler_similarity 0.8\", \"u_probability\": 0.0035789328185787746, \"tf_col\": \"syn_g0_surname\", \"tf_adjustment_weight\": 0.5, \"log2_bf\": 0.8341213794514446, \"gamma\": 1, \"log2_bf_tf\": -0.561332810337902, \"log2_bf_final\": 0.27278856911354254, \"most_freq_rank\": 1, \"least_freq_rank\": 7964}, {\"value\": \"smith\", \"tf\": 0.00997665838415782, \"label_for_charts\": \"Jaro_winkler_similarity 0.8\", \"u_probability\": 0.0035789328185787746, \"tf_col\": \"syn_g0_surname\", \"tf_adjustment_weight\": 0.5, \"log2_bf\": 0.8341213794514446, \"gamma\": 1, \"log2_bf_tf\": -0.7395136063135203, \"log2_bf_final\": 0.09460777313792434, \"most_freq_rank\": 0, \"least_freq_rank\": 7965}, {\"value\": \"smith\", \"tf\": 0.00997665838415782, \"label_for_charts\": \"Exact match\", \"u_probability\": 0.0007971848480165407, \"tf_col\": \"syn_g0_surname\", \"tf_adjustment_weight\": 1.0, \"log2_bf\": 10.062293435242767, \"gamma\": 2, \"log2_bf_tf\": -3.6455704808509033, \"log2_bf_final\": 6.416722954391863, \"most_freq_rank\": 0, \"least_freq_rank\": 7965}], \"hist\": [{\"gamma\": 1, \"log2_bf\": 0.8341213794514446, \"count\": 3, \"log2_bf_tf\": -0.6172161397418031, \"bin_start\": 0.0, \"bin_end\": 0.5, \"log2_bf_final\": 0.25, \"log2_bf_desc\": \"0.0-0.5\"}, {\"gamma\": 1, \"log2_bf\": 0.8341213794514446, \"count\": 13, \"log2_bf_tf\": -0.02065139988892891, \"bin_start\": 0.5, \"bin_end\": 1.0, \"log2_bf_final\": 0.75, \"log2_bf_desc\": \"0.5-1.0\"}, {\"gamma\": 1, \"log2_bf\": 0.8341213794514446, \"count\": 50, \"log2_bf_tf\": 0.47744426950411245, \"bin_start\": 1.0, \"bin_end\": 1.5, \"log2_bf_final\": 1.25, \"log2_bf_desc\": \"1.0-1.5\"}, {\"gamma\": 1, \"log2_bf\": 0.8341213794514446, \"count\": 109, \"log2_bf_tf\": 0.9623993865660299, \"bin_start\": 1.5, \"bin_end\": 2.0, \"log2_bf_final\": 1.75, \"log2_bf_desc\": \"1.5-2.0\"}, {\"gamma\": 1, \"log2_bf\": 0.8341213794514446, \"count\": 214, \"log2_bf_tf\": 1.4506210051845965, \"bin_start\": 2.0, \"bin_end\": 2.5, \"log2_bf_final\": 2.25, \"log2_bf_desc\": \"2.0-2.5\"}, {\"gamma\": 1, \"log2_bf\": 0.8341213794514446, \"count\": 524, \"log2_bf_tf\": 1.9426585061964226, \"bin_start\": 2.5, \"bin_end\": 3.0, \"log2_bf_final\": 2.75, \"log2_bf_desc\": \"2.5-3.0\"}, {\"gamma\": 1, \"log2_bf\": 0.8341213794514446, \"count\": 754, \"log2_bf_tf\": 2.348436919960073, \"bin_start\": 3.0, \"bin_end\": 3.5, \"log2_bf_final\": 3.25, \"log2_bf_desc\": \"3.0-3.5\"}, {\"gamma\": 1, \"log2_bf\": 0.8341213794514446, \"count\": 4037, \"log2_bf_tf\": 2.7854106684117608, \"bin_start\": 3.5, \"bin_end\": 4.0, \"log2_bf_final\": 3.75, \"log2_bf_desc\": \"3.5-4.0\"}, {\"gamma\": 1, \"log2_bf\": 0.8341213794514446, \"count\": 2262, \"log2_bf_tf\": 3.2854106684117608, \"bin_start\": 4.0, \"bin_end\": 4.5, \"log2_bf_final\": 4.25, \"log2_bf_desc\": \"4.0-4.5\"}, {\"gamma\": 2, \"log2_bf\": 10.062293435242767, \"count\": 1, \"log2_bf_tf\": -3.6455704808509033, \"bin_start\": 6.0, \"bin_end\": 6.5, \"log2_bf_final\": 6.25, \"log2_bf_desc\": \"6.0-6.5\"}, {\"gamma\": 2, \"log2_bf\": 10.062293435242767, \"count\": 2, \"log2_bf_tf\": -3.2786780811357525, \"bin_start\": 6.5, \"bin_end\": 7.0, \"log2_bf_final\": 6.75, \"log2_bf_desc\": \"6.5-7.0\"}, {\"gamma\": 2, \"log2_bf\": 10.062293435242767, \"count\": 9, \"log2_bf_tf\": -2.337072715035272, \"bin_start\": 7.5, \"bin_end\": 8.0, \"log2_bf_final\": 7.75, \"log2_bf_desc\": \"7.5-8.0\"}, {\"gamma\": 2, \"log2_bf\": 10.062293435242767, \"count\": 11, \"log2_bf_tf\": -1.7879601496097193, \"bin_start\": 8.0, \"bin_end\": 8.5, \"log2_bf_final\": 8.25, \"log2_bf_desc\": \"8.0-8.5\"}, {\"gamma\": 2, \"log2_bf\": 10.062293435242767, \"count\": 24, \"log2_bf_tf\": -1.269310860651154, \"bin_start\": 8.5, \"bin_end\": 9.0, \"log2_bf_final\": 8.75, \"log2_bf_desc\": \"8.5-9.0\"}, {\"gamma\": 2, \"log2_bf\": 10.062293435242767, \"count\": 36, \"log2_bf_tf\": -0.8252903161219045, \"bin_start\": 9.0, \"bin_end\": 9.5, \"log2_bf_final\": 9.25, \"log2_bf_desc\": \"9.0-9.5\"}, {\"gamma\": 2, \"log2_bf\": 10.062293435242767, \"count\": 49, \"log2_bf_tf\": -0.3388309023237068, \"bin_start\": 9.5, \"bin_end\": 10.0, \"log2_bf_final\": 9.75, \"log2_bf_desc\": \"9.5-10.0\"}, {\"gamma\": 2, \"log2_bf\": 10.062293435242767, \"count\": 89, \"log2_bf_tf\": 0.19588265420849246, \"bin_start\": 10.0, \"bin_end\": 10.5, \"log2_bf_final\": 10.25, \"log2_bf_desc\": \"10.0-10.5\"}, {\"gamma\": 2, \"log2_bf\": 10.062293435242767, \"count\": 95, \"log2_bf_tf\": 0.6968260542330194, \"bin_start\": 10.5, \"bin_end\": 11.0, \"log2_bf_final\": 10.75, \"log2_bf_desc\": \"10.5-11.0\"}, {\"gamma\": 2, \"log2_bf\": 10.062293435242767, \"count\": 203, \"log2_bf_tf\": 1.2416021198570142, \"bin_start\": 11.0, \"bin_end\": 11.5, \"log2_bf_final\": 11.25, \"log2_bf_desc\": \"11.0-11.5\"}, {\"gamma\": 2, \"log2_bf\": 10.062293435242767, \"count\": 293, \"log2_bf_tf\": 1.7532809581301367, \"bin_start\": 11.5, \"bin_end\": 12.0, \"log2_bf_final\": 11.75, \"log2_bf_desc\": \"11.5-12.0\"}, {\"gamma\": 2, \"log2_bf\": 10.062293435242767, \"count\": 626, \"log2_bf_tf\": 2.352337593226457, \"bin_start\": 12.0, \"bin_end\": 12.5, \"log2_bf_final\": 12.25, \"log2_bf_desc\": \"12.0-12.5\"}, {\"gamma\": 2, \"log2_bf\": 10.062293435242767, \"count\": 229, \"log2_bf_tf\": 2.819315567878502, \"bin_start\": 12.5, \"bin_end\": 13.0, \"log2_bf_final\": 12.75, \"log2_bf_desc\": \"12.5-13.0\"}, {\"gamma\": 2, \"log2_bf\": 10.062293435242767, \"count\": 4037, \"log2_bf_tf\": 3.404278068599658, \"bin_start\": 13.0, \"bin_end\": 13.5, \"log2_bf_final\": 13.25, \"log2_bf_desc\": \"13.0-13.5\"}, {\"gamma\": 2, \"log2_bf\": 10.062293435242767, \"count\": 2262, \"log2_bf_tf\": 4.404278068599658, \"bin_start\": 14.0, \"bin_end\": 14.5, \"log2_bf_final\": 14.25, \"log2_bf_desc\": \"14.0-14.5\"}]}, \"resolve\": {\"scale\": {\"color\": \"shared\", \"y\": \"shared\"}}, \"spacing\": 10, \"title\": {\"text\": \"Term frequency adjusted match weights\", \"anchor\": \"middle\", \"fontSize\": 16, \"subtitle\": \"For selected values, incl. the lowest and highest frequency\"}, \"$schema\": \"https://vega.github.io/schema/vega-lite/v5.9.3.json\"}, {\"mode\": \"vega-lite\"});\n",
       "</script>"
      ],
      "text/plain": [
       "alt.HConcatChart(...)"
      ]
     },
     "execution_count": 26,
     "metadata": {},
     "output_type": "execute_result"
    }
   ],
   "source": [
    "linker.tf_adjustment_chart(\"syn_g0_surname\")\n"
   ]
  },
  {
   "cell_type": "code",
   "execution_count": 14,
   "metadata": {},
   "outputs": [
    {
     "name": "stderr",
     "output_type": "stream",
     "text": [
      "C:\\Users\\uctvjla\\OneDrive - University College London\\Desktop\\splink\\splink_synthetic_data-main\\venv\\lib\\site-packages\\splink\\linker.py:3343: UserWarning: Values [None] from `vals_to_include` were not found in the dataset so are not included in the chart.\n",
      "  return tf_adjustment_chart(\n"
     ]
    },
    {
     "data": {
      "text/html": [
       "\n",
       "<style>\n",
       "  #altair-viz-f0111217428240ea998a881dad705d17.vega-embed {\n",
       "    width: 100%;\n",
       "    display: flex;\n",
       "  }\n",
       "\n",
       "  #altair-viz-f0111217428240ea998a881dad705d17.vega-embed details,\n",
       "  #altair-viz-f0111217428240ea998a881dad705d17.vega-embed details summary {\n",
       "    position: relative;\n",
       "  }\n",
       "</style>\n",
       "<div id=\"altair-viz-f0111217428240ea998a881dad705d17\"></div>\n",
       "<script type=\"text/javascript\">\n",
       "  var VEGA_DEBUG = (typeof VEGA_DEBUG == \"undefined\") ? {} : VEGA_DEBUG;\n",
       "  (function(spec, embedOpt){\n",
       "    let outputDiv = document.currentScript.previousElementSibling;\n",
       "    if (outputDiv.id !== \"altair-viz-f0111217428240ea998a881dad705d17\") {\n",
       "      outputDiv = document.getElementById(\"altair-viz-f0111217428240ea998a881dad705d17\");\n",
       "    }\n",
       "    const paths = {\n",
       "      \"vega\": \"https://cdn.jsdelivr.net/npm/vega@5?noext\",\n",
       "      \"vega-lib\": \"https://cdn.jsdelivr.net/npm/vega-lib?noext\",\n",
       "      \"vega-lite\": \"https://cdn.jsdelivr.net/npm/vega-lite@5.8.0?noext\",\n",
       "      \"vega-embed\": \"https://cdn.jsdelivr.net/npm/vega-embed@6?noext\",\n",
       "    };\n",
       "\n",
       "    function maybeLoadScript(lib, version) {\n",
       "      var key = `${lib.replace(\"-\", \"\")}_version`;\n",
       "      return (VEGA_DEBUG[key] == version) ?\n",
       "        Promise.resolve(paths[lib]) :\n",
       "        new Promise(function(resolve, reject) {\n",
       "          var s = document.createElement('script');\n",
       "          document.getElementsByTagName(\"head\")[0].appendChild(s);\n",
       "          s.async = true;\n",
       "          s.onload = () => {\n",
       "            VEGA_DEBUG[key] = version;\n",
       "            return resolve(paths[lib]);\n",
       "          };\n",
       "          s.onerror = () => reject(`Error loading script: ${paths[lib]}`);\n",
       "          s.src = paths[lib];\n",
       "        });\n",
       "    }\n",
       "\n",
       "    function showError(err) {\n",
       "      outputDiv.innerHTML = `<div class=\"error\" style=\"color:red;\">${err}</div>`;\n",
       "      throw err;\n",
       "    }\n",
       "\n",
       "    function displayChart(vegaEmbed) {\n",
       "      vegaEmbed(outputDiv, spec, embedOpt)\n",
       "        .catch(err => showError(`Javascript Error: ${err.message}<br>This usually means there's a typo in your chart specification. See the javascript console for the full traceback.`));\n",
       "    }\n",
       "\n",
       "    if(typeof define === \"function\" && define.amd) {\n",
       "      requirejs.config({paths});\n",
       "      require([\"vega-embed\"], displayChart, err => showError(`Error loading script: ${err.message}`));\n",
       "    } else {\n",
       "      maybeLoadScript(\"vega\", \"5\")\n",
       "        .then(() => maybeLoadScript(\"vega-lite\", \"5.8.0\"))\n",
       "        .then(() => maybeLoadScript(\"vega-embed\", \"6\"))\n",
       "        .catch(showError)\n",
       "        .then(() => displayChart(vegaEmbed));\n",
       "    }\n",
       "  })({\"config\": {\"view\": {\"continuousWidth\": 300, \"continuousHeight\": 300}, \"params\": [{\"name\": \"gamma_sel\", \"bind\": {\"input\": \"select\", \"options\": [2, 1], \"labels\": [\"Exact match (TF col: syn_g1_firstname)\", \"Jaro_winkler_similarity 0.8 (TF col: syn_g1_firstname)\"], \"name\": \"Gamma level:\"}, \"value\": 2}]}, \"hconcat\": [{\"layer\": [{\"mark\": {\"type\": \"point\", \"filled\": true, \"size\": 100, \"stroke\": \"black\", \"strokeWidth\": 1}, \"encoding\": {\"color\": {\"field\": \"log2_bf_tf\", \"scale\": {\"domain\": [-2.5, 2.5], \"scheme\": \"redyellowgreen\"}, \"title\": \"TF adjustment weight\", \"type\": \"quantitative\"}, \"tooltip\": [{\"field\": \"value\", \"title\": \"Value\", \"type\": \"nominal\"}, {\"field\": \"log2_bf\", \"format\": \"+.3\", \"title\": \"Match weight\", \"type\": \"quantitative\"}, {\"field\": \"log2_bf_tf\", \"format\": \"+.3\", \"title\": \"TF adjusted match weight\", \"type\": \"quantitative\"}, {\"field\": \"log2_bf_final\", \"format\": \"+.3\", \"title\": \"Final match weight\", \"type\": \"quantitative\"}], \"x\": {\"axis\": {\"labelAngle\": -60, \"labelFontSize\": 16, \"titleFontSize\": 20}, \"field\": \"value\", \"sort\": {\"field\": \"log2_bf_final\", \"order\": \"ascending\"}, \"title\": \"TF column value\", \"type\": \"nominal\"}, \"y\": {\"axis\": {\"format\": \"+\", \"labelFontSize\": 16, \"titleFontSize\": 18, \"values\": [-5, -4, -3, -2, -1, 0, 1, 2, 3, 4, 5, 6, 7, 8, 9, 10, 11, 12, 13, 14, 15, 16, 17, 18, 19, 20]}, \"field\": \"log2_bf_final\", \"title\": \"Match weight\", \"type\": \"quantitative\"}}}, {\"mark\": \"rule\", \"encoding\": {\"y\": {\"field\": \"log2_bf\", \"type\": \"quantitative\"}}, \"transform\": [{\"filter\": \"datum.gamma == gamma_sel\"}]}, {\"mark\": {\"type\": \"rule\", \"opacity\": 0.5, \"strokeWidth\": 2}, \"encoding\": {\"color\": {\"field\": \"log2_bf_tf\", \"legend\": null, \"scale\": {\"domain\": [-2.5, 2.5], \"scheme\": \"redyellowgreen\"}, \"title\": \"TF adjustment weight\", \"type\": \"quantitative\"}, \"x\": {\"field\": \"value\", \"sort\": {\"field\": \"log2_bf_final\", \"order\": \"ascending\"}, \"title\": \"TF column value\", \"type\": \"nominal\"}, \"y\": {\"field\": \"log2_bf_final\", \"type\": \"quantitative\"}, \"y2\": {\"type\": \"quantitative\"}}, \"transform\": [{\"filter\": \"datum.gamma == gamma_sel\"}]}], \"data\": {\"name\": \"data\"}, \"height\": 400, \"transform\": [{\"filter\": \"datum.gamma == gamma_sel\"}], \"width\": {\"step\": 20}}, {\"mark\": {\"type\": \"bar\", \"fillOpacity\": 0.8, \"filled\": true, \"stroke\": \"black\", \"strokeWidth\": 1}, \"data\": {\"name\": \"hist\"}, \"encoding\": {\"color\": {\"field\": \"log2_bf_tf\", \"legend\": null, \"scale\": {\"domain\": [-2.5, 2.5], \"scheme\": \"redyellowgreen\"}, \"title\": \"TF adjustment weight\", \"type\": \"quantitative\"}, \"tooltip\": [{\"field\": \"log2_bf_desc\", \"title\": \"Match weight\"}, {\"field\": \"count\", \"title\": \"Number of values\"}], \"x\": {\"axis\": {\"domain\": false, \"gridOpacity\": 0.5, \"labelAlign\": \"center\", \"labelFontSize\": 12, \"labelOpacity\": 0.5, \"labelOverlap\": true, \"ticks\": false, \"title\": \"Count of values\", \"titleFontSize\": 12, \"titleOpacity\": 0.5}, \"field\": \"count\", \"type\": \"quantitative\"}, \"y\": {\"axis\": null, \"bin\": {\"step\": 0.5}, \"field\": \"log2_bf_final\", \"type\": \"quantitative\"}}, \"transform\": [{\"filter\": {\"or\": [\"datum.gamma == gamma_sel\", {\"field\": \"gamma\", \"valid\": false}]}}], \"view\": {\"stroke\": \"transparent\"}, \"width\": 100}], \"datasets\": {\"data\": [{\"value\": \"Gsbriel\", \"tf\": 3.7820052191672025e-05, \"label_for_charts\": \"Exact match\", \"u_probability\": 0.004743627023359504, \"tf_col\": \"syn_g1_firstname\", \"tf_adjustment_weight\": 1.0, \"log2_bf\": 7.567414642782866, \"gamma\": 2, \"log2_bf_tf\": 6.970695415285325, \"log2_bf_final\": 14.538110058068192, \"most_freq_rank\": 2556, \"least_freq_rank\": 0}, {\"value\": \"Gsbriel\", \"tf\": 3.7820052191672025e-05, \"label_for_charts\": \"Jaro_winkler_similarity 0.8\", \"u_probability\": 0.005925172046137443, \"tf_col\": \"syn_g1_firstname\", \"tf_adjustment_weight\": 0.5, \"log2_bf\": 2.267022529989871, \"gamma\": 1, \"log2_bf_tf\": 3.6457809404853907, \"log2_bf_final\": 5.912803470475262, \"most_freq_rank\": 2556, \"least_freq_rank\": 0}, {\"value\": \"juan\", \"tf\": 3.7820052191672025e-05, \"label_for_charts\": \"Jaro_winkler_similarity 0.8\", \"u_probability\": 0.005925172046137443, \"tf_col\": \"syn_g1_firstname\", \"tf_adjustment_weight\": 0.5, \"log2_bf\": 2.267022529989871, \"gamma\": 1, \"log2_bf_tf\": 3.6457809404853907, \"log2_bf_final\": 5.912803470475262, \"most_freq_rank\": 2555, \"least_freq_rank\": 1}, {\"value\": \"juan\", \"tf\": 3.7820052191672025e-05, \"label_for_charts\": \"Exact match\", \"u_probability\": 0.004743627023359504, \"tf_col\": \"syn_g1_firstname\", \"tf_adjustment_weight\": 1.0, \"log2_bf\": 7.567414642782866, \"gamma\": 2, \"log2_bf_tf\": 6.970695415285325, \"log2_bf_final\": 14.538110058068192, \"most_freq_rank\": 2555, \"least_freq_rank\": 1}, {\"value\": \"eneasz\", \"tf\": 3.7820052191672025e-05, \"label_for_charts\": \"Exact match\", \"u_probability\": 0.004743627023359504, \"tf_col\": \"syn_g1_firstname\", \"tf_adjustment_weight\": 1.0, \"log2_bf\": 7.567414642782866, \"gamma\": 2, \"log2_bf_tf\": 6.970695415285325, \"log2_bf_final\": 14.538110058068192, \"most_freq_rank\": 2554, \"least_freq_rank\": 2}, {\"value\": \"eneasz\", \"tf\": 3.7820052191672025e-05, \"label_for_charts\": \"Jaro_winkler_similarity 0.8\", \"u_probability\": 0.005925172046137443, \"tf_col\": \"syn_g1_firstname\", \"tf_adjustment_weight\": 0.5, \"log2_bf\": 2.267022529989871, \"gamma\": 1, \"log2_bf_tf\": 3.6457809404853907, \"log2_bf_final\": 5.912803470475262, \"most_freq_rank\": 2554, \"least_freq_rank\": 2}, {\"value\": \"Maceline\", \"tf\": 3.7820052191672025e-05, \"label_for_charts\": \"Jaro_winkler_similarity 0.8\", \"u_probability\": 0.005925172046137443, \"tf_col\": \"syn_g1_firstname\", \"tf_adjustment_weight\": 0.5, \"log2_bf\": 2.267022529989871, \"gamma\": 1, \"log2_bf_tf\": 3.6457809404853907, \"log2_bf_final\": 5.912803470475262, \"most_freq_rank\": 2553, \"least_freq_rank\": 3}, {\"value\": \"Maceline\", \"tf\": 3.7820052191672025e-05, \"label_for_charts\": \"Exact match\", \"u_probability\": 0.004743627023359504, \"tf_col\": \"syn_g1_firstname\", \"tf_adjustment_weight\": 1.0, \"log2_bf\": 7.567414642782866, \"gamma\": 2, \"log2_bf_tf\": 6.970695415285325, \"log2_bf_final\": 14.538110058068192, \"most_freq_rank\": 2553, \"least_freq_rank\": 3}, {\"value\": \"Lortie\", \"tf\": 3.7820052191672025e-05, \"label_for_charts\": \"Jaro_winkler_similarity 0.8\", \"u_probability\": 0.005925172046137443, \"tf_col\": \"syn_g1_firstname\", \"tf_adjustment_weight\": 0.5, \"log2_bf\": 2.267022529989871, \"gamma\": 1, \"log2_bf_tf\": 3.6457809404853907, \"log2_bf_final\": 5.912803470475262, \"most_freq_rank\": 2552, \"least_freq_rank\": 4}, {\"value\": \"Lortie\", \"tf\": 3.7820052191672025e-05, \"label_for_charts\": \"Exact match\", \"u_probability\": 0.004743627023359504, \"tf_col\": \"syn_g1_firstname\", \"tf_adjustment_weight\": 1.0, \"log2_bf\": 7.567414642782866, \"gamma\": 2, \"log2_bf_tf\": 6.970695415285325, \"log2_bf_final\": 14.538110058068192, \"most_freq_rank\": 2552, \"least_freq_rank\": 4}, {\"value\": \"J0shua\", \"tf\": 3.7820052191672025e-05, \"label_for_charts\": \"Jaro_winkler_similarity 0.8\", \"u_probability\": 0.005925172046137443, \"tf_col\": \"syn_g1_firstname\", \"tf_adjustment_weight\": 0.5, \"log2_bf\": 2.267022529989871, \"gamma\": 1, \"log2_bf_tf\": 3.6457809404853907, \"log2_bf_final\": 5.912803470475262, \"most_freq_rank\": 2551, \"least_freq_rank\": 5}, {\"value\": \"J0shua\", \"tf\": 3.7820052191672025e-05, \"label_for_charts\": \"Exact match\", \"u_probability\": 0.004743627023359504, \"tf_col\": \"syn_g1_firstname\", \"tf_adjustment_weight\": 1.0, \"log2_bf\": 7.567414642782866, \"gamma\": 2, \"log2_bf_tf\": 6.970695415285325, \"log2_bf_final\": 14.538110058068192, \"most_freq_rank\": 2551, \"least_freq_rank\": 5}, {\"value\": \"Tylrr\", \"tf\": 3.7820052191672025e-05, \"label_for_charts\": \"Exact match\", \"u_probability\": 0.004743627023359504, \"tf_col\": \"syn_g1_firstname\", \"tf_adjustment_weight\": 1.0, \"log2_bf\": 7.567414642782866, \"gamma\": 2, \"log2_bf_tf\": 6.970695415285325, \"log2_bf_final\": 14.538110058068192, \"most_freq_rank\": 2550, \"least_freq_rank\": 6}, {\"value\": \"Tylrr\", \"tf\": 3.7820052191672025e-05, \"label_for_charts\": \"Jaro_winkler_similarity 0.8\", \"u_probability\": 0.005925172046137443, \"tf_col\": \"syn_g1_firstname\", \"tf_adjustment_weight\": 0.5, \"log2_bf\": 2.267022529989871, \"gamma\": 1, \"log2_bf_tf\": 3.6457809404853907, \"log2_bf_final\": 5.912803470475262, \"most_freq_rank\": 2550, \"least_freq_rank\": 6}, {\"value\": \"Eyhan\", \"tf\": 3.7820052191672025e-05, \"label_for_charts\": \"Jaro_winkler_similarity 0.8\", \"u_probability\": 0.005925172046137443, \"tf_col\": \"syn_g1_firstname\", \"tf_adjustment_weight\": 0.5, \"log2_bf\": 2.267022529989871, \"gamma\": 1, \"log2_bf_tf\": 3.6457809404853907, \"log2_bf_final\": 5.912803470475262, \"most_freq_rank\": 2549, \"least_freq_rank\": 7}, {\"value\": \"Eyhan\", \"tf\": 3.7820052191672025e-05, \"label_for_charts\": \"Exact match\", \"u_probability\": 0.004743627023359504, \"tf_col\": \"syn_g1_firstname\", \"tf_adjustment_weight\": 1.0, \"log2_bf\": 7.567414642782866, \"gamma\": 2, \"log2_bf_tf\": 6.970695415285325, \"log2_bf_final\": 14.538110058068192, \"most_freq_rank\": 2549, \"least_freq_rank\": 7}, {\"value\": \"Harrispn\", \"tf\": 3.7820052191672025e-05, \"label_for_charts\": \"Exact match\", \"u_probability\": 0.004743627023359504, \"tf_col\": \"syn_g1_firstname\", \"tf_adjustment_weight\": 1.0, \"log2_bf\": 7.567414642782866, \"gamma\": 2, \"log2_bf_tf\": 6.970695415285325, \"log2_bf_final\": 14.538110058068192, \"most_freq_rank\": 2548, \"least_freq_rank\": 8}, {\"value\": \"Harrispn\", \"tf\": 3.7820052191672025e-05, \"label_for_charts\": \"Jaro_winkler_similarity 0.8\", \"u_probability\": 0.005925172046137443, \"tf_col\": \"syn_g1_firstname\", \"tf_adjustment_weight\": 0.5, \"log2_bf\": 2.267022529989871, \"gamma\": 1, \"log2_bf_tf\": 3.6457809404853907, \"log2_bf_final\": 5.912803470475262, \"most_freq_rank\": 2548, \"least_freq_rank\": 8}, {\"value\": \"S5even\", \"tf\": 3.7820052191672025e-05, \"label_for_charts\": \"Exact match\", \"u_probability\": 0.004743627023359504, \"tf_col\": \"syn_g1_firstname\", \"tf_adjustment_weight\": 1.0, \"log2_bf\": 7.567414642782866, \"gamma\": 2, \"log2_bf_tf\": 6.970695415285325, \"log2_bf_final\": 14.538110058068192, \"most_freq_rank\": 2547, \"least_freq_rank\": 9}, {\"value\": \"S5even\", \"tf\": 3.7820052191672025e-05, \"label_for_charts\": \"Jaro_winkler_similarity 0.8\", \"u_probability\": 0.005925172046137443, \"tf_col\": \"syn_g1_firstname\", \"tf_adjustment_weight\": 0.5, \"log2_bf\": 2.267022529989871, \"gamma\": 1, \"log2_bf_tf\": 3.6457809404853907, \"log2_bf_final\": 5.912803470475262, \"most_freq_rank\": 2547, \"least_freq_rank\": 9}, {\"value\": \"Sophie\", \"tf\": 0.010060133882984759, \"label_for_charts\": \"Exact match\", \"u_probability\": 0.004743627023359504, \"tf_col\": \"syn_g1_firstname\", \"tf_adjustment_weight\": 1.0, \"log2_bf\": 7.567414642782866, \"gamma\": 2, \"log2_bf_tf\": -1.0845870202158645, \"log2_bf_final\": 6.482827622567002, \"most_freq_rank\": 9, \"least_freq_rank\": 2547}, {\"value\": \"Sophie\", \"tf\": 0.010060133882984759, \"label_for_charts\": \"Jaro_winkler_similarity 0.8\", \"u_probability\": 0.005925172046137443, \"tf_col\": \"syn_g1_firstname\", \"tf_adjustment_weight\": 0.5, \"log2_bf\": 2.267022529989871, \"gamma\": 1, \"log2_bf_tf\": -0.3818602772652042, \"log2_bf_final\": 1.8851622527246668, \"most_freq_rank\": 9, \"least_freq_rank\": 2547}, {\"value\": \"Harry\", \"tf\": 0.0108165349268182, \"label_for_charts\": \"Exact match\", \"u_probability\": 0.004743627023359504, \"tf_col\": \"syn_g1_firstname\", \"tf_adjustment_weight\": 1.0, \"log2_bf\": 7.567414642782866, \"gamma\": 2, \"log2_bf_tf\": -1.1891759214930644, \"log2_bf_final\": 6.378238721289802, \"most_freq_rank\": 8, \"least_freq_rank\": 2548}, {\"value\": \"Harry\", \"tf\": 0.0108165349268182, \"label_for_charts\": \"Jaro_winkler_similarity 0.8\", \"u_probability\": 0.005925172046137443, \"tf_col\": \"syn_g1_firstname\", \"tf_adjustment_weight\": 0.5, \"log2_bf\": 2.267022529989871, \"gamma\": 1, \"log2_bf_tf\": -0.434154727903804, \"log2_bf_final\": 1.832867802086067, \"most_freq_rank\": 8, \"least_freq_rank\": 2548}, {\"value\": \"Jessica\", \"tf\": 0.010929995083393216, \"label_for_charts\": \"Exact match\", \"u_probability\": 0.004743627023359504, \"tf_col\": \"syn_g1_firstname\", \"tf_adjustment_weight\": 1.0, \"log2_bf\": 7.567414642782866, \"gamma\": 2, \"log2_bf_tf\": -1.2042302672153538, \"log2_bf_final\": 6.363184375567513, \"most_freq_rank\": 7, \"least_freq_rank\": 2549}, {\"value\": \"Jessica\", \"tf\": 0.010929995083393216, \"label_for_charts\": \"Jaro_winkler_similarity 0.8\", \"u_probability\": 0.005925172046137443, \"tf_col\": \"syn_g1_firstname\", \"tf_adjustment_weight\": 0.5, \"log2_bf\": 2.267022529989871, \"gamma\": 1, \"log2_bf_tf\": -0.44168190076494884, \"log2_bf_final\": 1.8253406292249221, \"most_freq_rank\": 7, \"least_freq_rank\": 2549}, {\"value\": \"Chloe\", \"tf\": 0.011686396127226656, \"label_for_charts\": \"Exact match\", \"u_probability\": 0.004743627023359504, \"tf_col\": \"syn_g1_firstname\", \"tf_adjustment_weight\": 1.0, \"log2_bf\": 7.567414642782866, \"gamma\": 2, \"log2_bf_tf\": -1.3007676126190495, \"log2_bf_final\": 6.266647030163817, \"most_freq_rank\": 6, \"least_freq_rank\": 2550}, {\"value\": \"Chloe\", \"tf\": 0.011686396127226656, \"label_for_charts\": \"Jaro_winkler_similarity 0.8\", \"u_probability\": 0.005925172046137443, \"tf_col\": \"syn_g1_firstname\", \"tf_adjustment_weight\": 0.5, \"log2_bf\": 2.267022529989871, \"gamma\": 1, \"log2_bf_tf\": -0.4899505734667967, \"log2_bf_final\": 1.7770719565230744, \"most_freq_rank\": 6, \"least_freq_rank\": 2550}, {\"value\": \"James\", \"tf\": 0.013123558110510192, \"label_for_charts\": \"Jaro_winkler_similarity 0.8\", \"u_probability\": 0.005925172046137443, \"tf_col\": \"syn_g1_firstname\", \"tf_adjustment_weight\": 0.5, \"log2_bf\": 2.267022529989871, \"gamma\": 1, \"log2_bf_tf\": -0.5736149858037398, \"log2_bf_final\": 1.6934075441861312, \"most_freq_rank\": 5, \"least_freq_rank\": 2551}, {\"value\": \"James\", \"tf\": 0.013123558110510192, \"label_for_charts\": \"Exact match\", \"u_probability\": 0.004743627023359504, \"tf_col\": \"syn_g1_firstname\", \"tf_adjustment_weight\": 1.0, \"log2_bf\": 7.567414642782866, \"gamma\": 2, \"log2_bf_tf\": -1.4680964372929357, \"log2_bf_final\": 6.099318205489931, \"most_freq_rank\": 5, \"least_freq_rank\": 2551}, {\"value\": \"Joshua\", \"tf\": 0.013615218789001928, \"label_for_charts\": \"Jaro_winkler_similarity 0.8\", \"u_probability\": 0.005925172046137443, \"tf_col\": \"syn_g1_firstname\", \"tf_adjustment_weight\": 0.5, \"log2_bf\": 2.267022529989871, \"gamma\": 1, \"log2_bf_tf\": -0.6001456076794467, \"log2_bf_final\": 1.6668769223104243, \"most_freq_rank\": 4, \"least_freq_rank\": 2552}, {\"value\": \"Joshua\", \"tf\": 0.013615218789001928, \"label_for_charts\": \"Exact match\", \"u_probability\": 0.004743627023359504, \"tf_col\": \"syn_g1_firstname\", \"tf_adjustment_weight\": 1.0, \"log2_bf\": 7.567414642782866, \"gamma\": 2, \"log2_bf_tf\": -1.5211576810443497, \"log2_bf_final\": 6.046256961738517, \"most_freq_rank\": 4, \"least_freq_rank\": 2552}, {\"value\": \"Emily\", \"tf\": 0.014258159676260353, \"label_for_charts\": \"Exact match\", \"u_probability\": 0.004743627023359504, \"tf_col\": \"syn_g1_firstname\", \"tf_adjustment_weight\": 1.0, \"log2_bf\": 7.567414642782866, \"gamma\": 2, \"log2_bf_tf\": -1.587725297983339, \"log2_bf_final\": 5.979689344799527, \"most_freq_rank\": 3, \"least_freq_rank\": 2553}, {\"value\": \"Emily\", \"tf\": 0.014258159676260353, \"label_for_charts\": \"Jaro_winkler_similarity 0.8\", \"u_probability\": 0.005925172046137443, \"tf_col\": \"syn_g1_firstname\", \"tf_adjustment_weight\": 0.5, \"log2_bf\": 2.267022529989871, \"gamma\": 1, \"log2_bf_tf\": -0.6334294161489414, \"log2_bf_final\": 1.6335931138409294, \"most_freq_rank\": 3, \"least_freq_rank\": 2553}, {\"value\": \"Oliver\", \"tf\": 0.015392761242010514, \"label_for_charts\": \"Exact match\", \"u_probability\": 0.004743627023359504, \"tf_col\": \"syn_g1_firstname\", \"tf_adjustment_weight\": 1.0, \"log2_bf\": 7.567414642782866, \"gamma\": 2, \"log2_bf_tf\": -1.6981895689809219, \"log2_bf_final\": 5.869225073801944, \"most_freq_rank\": 2, \"least_freq_rank\": 2554}, {\"value\": \"Oliver\", \"tf\": 0.015392761242010514, \"label_for_charts\": \"Jaro_winkler_similarity 0.8\", \"u_probability\": 0.005925172046137443, \"tf_col\": \"syn_g1_firstname\", \"tf_adjustment_weight\": 0.5, \"log2_bf\": 2.267022529989871, \"gamma\": 1, \"log2_bf_tf\": -0.6886615516477329, \"log2_bf_final\": 1.578360978342138, \"most_freq_rank\": 2, \"least_freq_rank\": 2554}, {\"value\": \"Thomas\", \"tf\": 0.017510684164744147, \"label_for_charts\": \"Exact match\", \"u_probability\": 0.004743627023359504, \"tf_col\": \"syn_g1_firstname\", \"tf_adjustment_weight\": 1.0, \"log2_bf\": 7.567414642782866, \"gamma\": 2, \"log2_bf_tf\": -1.8841729679749115, \"log2_bf_final\": 5.683241674807955, \"most_freq_rank\": 1, \"least_freq_rank\": 2555}, {\"value\": \"Thomas\", \"tf\": 0.017510684164744147, \"label_for_charts\": \"Jaro_winkler_similarity 0.8\", \"u_probability\": 0.005925172046137443, \"tf_col\": \"syn_g1_firstname\", \"tf_adjustment_weight\": 0.5, \"log2_bf\": 2.267022529989871, \"gamma\": 1, \"log2_bf_tf\": -0.7816532511447275, \"log2_bf_final\": 1.4853692788451434, \"most_freq_rank\": 1, \"least_freq_rank\": 2555}, {\"value\": \"Jack\", \"tf\": 0.01773760447789418, \"label_for_charts\": \"Jaro_winkler_similarity 0.8\", \"u_probability\": 0.005925172046137443, \"tf_col\": \"syn_g1_firstname\", \"tf_adjustment_weight\": 0.5, \"log2_bf\": 2.267022529989871, \"gamma\": 1, \"log2_bf_tf\": -0.7909411157722976, \"log2_bf_final\": 1.4760814142175733, \"most_freq_rank\": 0, \"least_freq_rank\": 2556}, {\"value\": \"Jack\", \"tf\": 0.01773760447789418, \"label_for_charts\": \"Exact match\", \"u_probability\": 0.004743627023359504, \"tf_col\": \"syn_g1_firstname\", \"tf_adjustment_weight\": 1.0, \"log2_bf\": 7.567414642782866, \"gamma\": 2, \"log2_bf_tf\": -1.9027486972300516, \"log2_bf_final\": 5.664665945552815, \"most_freq_rank\": 0, \"least_freq_rank\": 2556}], \"hist\": [{\"gamma\": 1, \"log2_bf\": 2.267022529989871, \"count\": 2, \"log2_bf_tf\": -0.7862971834585126, \"bin_start\": 1.0, \"bin_end\": 1.5, \"log2_bf_final\": 1.25, \"log2_bf_desc\": \"1.0-1.5\"}, {\"gamma\": 1, \"log2_bf\": 2.267022529989871, \"count\": 18, \"log2_bf_tf\": -0.41710461637899743, \"bin_start\": 1.5, \"bin_end\": 2.0, \"log2_bf_final\": 1.75, \"log2_bf_desc\": \"1.5-2.0\"}, {\"gamma\": 1, \"log2_bf\": 2.267022529989871, \"count\": 34, \"log2_bf_tf\": 0.01965472500181816, \"bin_start\": 2.0, \"bin_end\": 2.5, \"log2_bf_final\": 2.25, \"log2_bf_desc\": \"2.0-2.5\"}, {\"gamma\": 1, \"log2_bf\": 2.267022529989871, \"count\": 44, \"log2_bf_tf\": 0.5014205816378773, \"bin_start\": 2.5, \"bin_end\": 3.0, \"log2_bf_final\": 2.75, \"log2_bf_desc\": \"2.5-3.0\"}, {\"gamma\": 1, \"log2_bf\": 2.267022529989871, \"count\": 74, \"log2_bf_tf\": 0.9838391101664596, \"bin_start\": 3.0, \"bin_end\": 3.5, \"log2_bf_final\": 3.25, \"log2_bf_desc\": \"3.0-3.5\"}, {\"gamma\": 1, \"log2_bf\": 2.267022529989871, \"count\": 102, \"log2_bf_tf\": 1.4994014708157395, \"bin_start\": 3.5, \"bin_end\": 4.0, \"log2_bf_final\": 3.75, \"log2_bf_desc\": \"3.5-4.0\"}, {\"gamma\": 1, \"log2_bf\": 2.267022529989871, \"count\": 178, \"log2_bf_tf\": 1.9706840475845482, \"bin_start\": 4.0, \"bin_end\": 4.5, \"log2_bf_final\": 4.25, \"log2_bf_desc\": \"4.0-4.5\"}, {\"gamma\": 1, \"log2_bf\": 2.267022529989871, \"count\": 364, \"log2_bf_tf\": 2.534160717583647, \"bin_start\": 4.5, \"bin_end\": 5.0, \"log2_bf_final\": 4.75, \"log2_bf_desc\": \"4.5-5.0\"}, {\"gamma\": 1, \"log2_bf\": 2.267022529989871, \"count\": 1178, \"log2_bf_tf\": 3.1306354767570417, \"bin_start\": 5.0, \"bin_end\": 5.5, \"log2_bf_final\": 5.25, \"log2_bf_desc\": \"5.0-5.5\"}, {\"gamma\": 1, \"log2_bf\": 2.267022529989871, \"count\": 563, \"log2_bf_tf\": 3.6457809404853907, \"bin_start\": 5.5, \"bin_end\": 6.0, \"log2_bf_final\": 5.75, \"log2_bf_desc\": \"5.5-6.0\"}, {\"gamma\": 2, \"log2_bf\": 7.567414642782866, \"count\": 4, \"log2_bf_tf\": -1.768209133042306, \"bin_start\": 5.5, \"bin_end\": 6.0, \"log2_bf_final\": 5.75, \"log2_bf_desc\": \"5.5-6.0\"}, {\"gamma\": 2, \"log2_bf\": 7.567414642782866, \"count\": 7, \"log2_bf_tf\": -1.263881153435122, \"bin_start\": 6.0, \"bin_end\": 6.5, \"log2_bf_final\": 6.25, \"log2_bf_desc\": \"6.0-6.5\"}, {\"gamma\": 2, \"log2_bf\": 7.567414642782866, \"count\": 14, \"log2_bf_tf\": -0.8637812333247947, \"bin_start\": 6.5, \"bin_end\": 7.0, \"log2_bf_final\": 6.75, \"log2_bf_desc\": \"6.5-7.0\"}, {\"gamma\": 2, \"log2_bf\": 7.567414642782866, \"count\": 20, \"log2_bf_tf\": -0.31391320882553414, \"bin_start\": 7.0, \"bin_end\": 7.5, \"log2_bf_final\": 7.25, \"log2_bf_desc\": \"7.0-7.5\"}, {\"gamma\": 2, \"log2_bf\": 7.567414642782866, \"count\": 21, \"log2_bf_tf\": 0.17619450533892408, \"bin_start\": 7.5, \"bin_end\": 8.0, \"log2_bf_final\": 7.75, \"log2_bf_desc\": \"7.5-8.0\"}, {\"gamma\": 2, \"log2_bf\": 7.567414642782866, \"count\": 21, \"log2_bf_tf\": 0.7149578326727355, \"bin_start\": 8.0, \"bin_end\": 8.5, \"log2_bf_final\": 8.25, \"log2_bf_desc\": \"8.0-8.5\"}, {\"gamma\": 2, \"log2_bf\": 7.567414642782866, \"count\": 32, \"log2_bf_tf\": 1.2042879184026394, \"bin_start\": 8.5, \"bin_end\": 9.0, \"log2_bf_final\": 8.75, \"log2_bf_desc\": \"8.5-9.0\"}, {\"gamma\": 2, \"log2_bf\": 7.567414642782866, \"count\": 36, \"log2_bf_tf\": 1.6771338647351703, \"bin_start\": 9.0, \"bin_end\": 9.5, \"log2_bf_final\": 9.25, \"log2_bf_desc\": \"9.0-9.5\"}, {\"gamma\": 2, \"log2_bf\": 7.567414642782866, \"count\": 37, \"log2_bf_tf\": 2.1544631339472504, \"bin_start\": 9.5, \"bin_end\": 10.0, \"log2_bf_final\": 9.75, \"log2_bf_desc\": \"9.5-10.0\"}, {\"gamma\": 2, \"log2_bf\": 7.567414642782866, \"count\": 53, \"log2_bf_tf\": 2.651879488559768, \"bin_start\": 10.0, \"bin_end\": 10.5, \"log2_bf_final\": 10.25, \"log2_bf_desc\": \"10.0-10.5\"}, {\"gamma\": 2, \"log2_bf\": 7.567414642782866, \"count\": 83, \"log2_bf_tf\": 3.1812179497028032, \"bin_start\": 10.5, \"bin_end\": 11.0, \"log2_bf_final\": 10.75, \"log2_bf_desc\": \"10.5-11.0\"}, {\"gamma\": 2, \"log2_bf\": 7.567414642782866, \"count\": 76, \"log2_bf_tf\": 3.645819739276735, \"bin_start\": 11.0, \"bin_end\": 11.5, \"log2_bf_final\": 11.25, \"log2_bf_desc\": \"11.0-11.5\"}, {\"gamma\": 2, \"log2_bf\": 7.567414642782866, \"count\": 162, \"log2_bf_tf\": 4.2284390225962944, \"bin_start\": 11.5, \"bin_end\": 12.0, \"log2_bf_final\": 11.75, \"log2_bf_desc\": \"11.5-12.0\"}, {\"gamma\": 2, \"log2_bf\": 7.567414642782866, \"count\": 28, \"log2_bf_tf\": 4.648767320397963, \"bin_start\": 12.0, \"bin_end\": 12.5, \"log2_bf_final\": 12.25, \"log2_bf_desc\": \"12.0-12.5\"}, {\"gamma\": 2, \"log2_bf\": 7.567414642782866, \"count\": 283, \"log2_bf_tf\": 5.060155794988539, \"bin_start\": 12.5, \"bin_end\": 13.0, \"log2_bf_final\": 12.75, \"log2_bf_desc\": \"12.5-13.0\"}, {\"gamma\": 2, \"log2_bf\": 7.567414642782866, \"count\": 1117, \"log2_bf_tf\": 5.970695415285325, \"bin_start\": 13.5, \"bin_end\": 14.0, \"log2_bf_final\": 13.75, \"log2_bf_desc\": \"13.5-14.0\"}, {\"gamma\": 2, \"log2_bf\": 7.567414642782866, \"count\": 563, \"log2_bf_tf\": 6.970695415285325, \"bin_start\": 14.5, \"bin_end\": 15.0, \"log2_bf_final\": 14.75, \"log2_bf_desc\": \"14.5-15.0\"}]}, \"resolve\": {\"scale\": {\"color\": \"shared\", \"y\": \"shared\"}}, \"spacing\": 10, \"title\": {\"text\": \"Term frequency adjusted match weights\", \"anchor\": \"middle\", \"fontSize\": 16, \"subtitle\": \"For selected values, incl. the lowest and highest frequency\"}, \"$schema\": \"https://vega.github.io/schema/vega-lite/v5.9.3.json\"}, {\"mode\": \"vega-lite\"});\n",
       "</script>"
      ],
      "text/plain": [
       "alt.HConcatChart(...)"
      ]
     },
     "execution_count": 14,
     "metadata": {},
     "output_type": "execute_result"
    }
   ],
   "source": [
    "linker.tf_adjustment_chart(\"syn_g1_firstname\")\n"
   ]
  },
  {
   "cell_type": "code",
   "execution_count": 8,
   "metadata": {},
   "outputs": [
    {
     "data": {
      "text/html": [
       "\n",
       "<style>\n",
       "  #altair-viz-9eb9ee55643a4f388c1ddaa767ee2ad8.vega-embed {\n",
       "    width: 100%;\n",
       "    display: flex;\n",
       "  }\n",
       "\n",
       "  #altair-viz-9eb9ee55643a4f388c1ddaa767ee2ad8.vega-embed details,\n",
       "  #altair-viz-9eb9ee55643a4f388c1ddaa767ee2ad8.vega-embed details summary {\n",
       "    position: relative;\n",
       "  }\n",
       "</style>\n",
       "<div id=\"altair-viz-9eb9ee55643a4f388c1ddaa767ee2ad8\"></div>\n",
       "<script type=\"text/javascript\">\n",
       "  var VEGA_DEBUG = (typeof VEGA_DEBUG == \"undefined\") ? {} : VEGA_DEBUG;\n",
       "  (function(spec, embedOpt){\n",
       "    let outputDiv = document.currentScript.previousElementSibling;\n",
       "    if (outputDiv.id !== \"altair-viz-9eb9ee55643a4f388c1ddaa767ee2ad8\") {\n",
       "      outputDiv = document.getElementById(\"altair-viz-9eb9ee55643a4f388c1ddaa767ee2ad8\");\n",
       "    }\n",
       "    const paths = {\n",
       "      \"vega\": \"https://cdn.jsdelivr.net/npm/vega@5?noext\",\n",
       "      \"vega-lib\": \"https://cdn.jsdelivr.net/npm/vega-lib?noext\",\n",
       "      \"vega-lite\": \"https://cdn.jsdelivr.net/npm/vega-lite@5.8.0?noext\",\n",
       "      \"vega-embed\": \"https://cdn.jsdelivr.net/npm/vega-embed@6?noext\",\n",
       "    };\n",
       "\n",
       "    function maybeLoadScript(lib, version) {\n",
       "      var key = `${lib.replace(\"-\", \"\")}_version`;\n",
       "      return (VEGA_DEBUG[key] == version) ?\n",
       "        Promise.resolve(paths[lib]) :\n",
       "        new Promise(function(resolve, reject) {\n",
       "          var s = document.createElement('script');\n",
       "          document.getElementsByTagName(\"head\")[0].appendChild(s);\n",
       "          s.async = true;\n",
       "          s.onload = () => {\n",
       "            VEGA_DEBUG[key] = version;\n",
       "            return resolve(paths[lib]);\n",
       "          };\n",
       "          s.onerror = () => reject(`Error loading script: ${paths[lib]}`);\n",
       "          s.src = paths[lib];\n",
       "        });\n",
       "    }\n",
       "\n",
       "    function showError(err) {\n",
       "      outputDiv.innerHTML = `<div class=\"error\" style=\"color:red;\">${err}</div>`;\n",
       "      throw err;\n",
       "    }\n",
       "\n",
       "    function displayChart(vegaEmbed) {\n",
       "      vegaEmbed(outputDiv, spec, embedOpt)\n",
       "        .catch(err => showError(`Javascript Error: ${err.message}<br>This usually means there's a typo in your chart specification. See the javascript console for the full traceback.`));\n",
       "    }\n",
       "\n",
       "    if(typeof define === \"function\" && define.amd) {\n",
       "      requirejs.config({paths});\n",
       "      require([\"vega-embed\"], displayChart, err => showError(`Error loading script: ${err.message}`));\n",
       "    } else {\n",
       "      maybeLoadScript(\"vega\", \"5\")\n",
       "        .then(() => maybeLoadScript(\"vega-lite\", \"5.8.0\"))\n",
       "        .then(() => maybeLoadScript(\"vega-embed\", \"6\"))\n",
       "        .catch(showError)\n",
       "        .then(() => displayChart(vegaEmbed));\n",
       "    }\n",
       "  })({\"config\": {\"view\": {\"continuousWidth\": 300, \"continuousHeight\": 300, \"discreteHeight\": 300, \"discreteWidth\": 400}, \"header\": {\"title\": null}, \"title\": {\"anchor\": \"middle\", \"offset\": 10}}, \"hconcat\": [{\"mark\": \"bar\", \"encoding\": {\"color\": {\"value\": \"green\"}, \"row\": {\"field\": \"comparison_name\", \"header\": {\"labelAlign\": \"left\", \"labelAnchor\": \"middle\", \"labelAngle\": 0}, \"sort\": {\"field\": \"comparison_sort_order\"}, \"type\": \"nominal\"}, \"tooltip\": [{\"field\": \"m_probability_description\", \"title\": \"m probability description\", \"type\": \"nominal\"}, {\"field\": \"comparison_name\", \"title\": \"Comparison column name\", \"type\": \"nominal\"}, {\"field\": \"label_for_charts\", \"title\": \"Label\", \"type\": \"ordinal\"}, {\"field\": \"sql_condition\", \"title\": \"SQL condition\", \"type\": \"nominal\"}, {\"field\": \"m_probability\", \"format\": \".4p\", \"title\": \"m probability\", \"type\": \"quantitative\"}, {\"field\": \"u_probability\", \"format\": \".4p\", \"title\": \"u probability\", \"type\": \"quantitative\"}, {\"field\": \"bayes_factor\", \"format\": \",.4f\", \"title\": \"Bayes factor = m/u\", \"type\": \"quantitative\"}, {\"field\": \"log2_bayes_factor\", \"format\": \",.4f\", \"title\": \"Match weight = log2(m/u)\", \"type\": \"quantitative\"}], \"x\": {\"axis\": {\"title\": \"Proportion of record comparisons\"}, \"field\": \"m_probability\", \"type\": \"quantitative\"}, \"y\": {\"axis\": {\"title\": null}, \"field\": \"label_for_charts\", \"sort\": {\"field\": \"comparison_vector_value\", \"order\": \"descending\"}, \"type\": \"nominal\"}}, \"height\": {\"step\": 12}, \"resolve\": {\"scale\": {\"y\": \"independent\"}}, \"title\": {\"text\": \"Amongst matching record comparisons:\", \"fontSize\": 12, \"fontWeight\": \"bold\"}, \"transform\": [{\"filter\": \"(datum.bayes_factor != 'no-op filter due to vega lite issue 4680')\"}], \"width\": 150}, {\"mark\": \"bar\", \"encoding\": {\"color\": {\"value\": \"red\"}, \"row\": {\"field\": \"comparison_name\", \"header\": {\"labels\": false}, \"sort\": {\"field\": \"comparison_sort_order\"}, \"type\": \"nominal\"}, \"tooltip\": [{\"field\": \"u_probability_description\", \"title\": \"u probability description\", \"type\": \"nominal\"}, {\"field\": \"comparison_name\", \"title\": \"Comparison column name\", \"type\": \"nominal\"}, {\"field\": \"label_for_charts\", \"title\": \"Label\", \"type\": \"ordinal\"}, {\"field\": \"sql_condition\", \"title\": \"SQL condition\", \"type\": \"nominal\"}, {\"field\": \"m_probability\", \"format\": \".4p\", \"title\": \"m probability\", \"type\": \"quantitative\"}, {\"field\": \"u_probability\", \"format\": \".4p\", \"title\": \"u probability\", \"type\": \"quantitative\"}, {\"field\": \"bayes_factor\", \"format\": \",.4f\", \"title\": \"Bayes factor = m/u\", \"type\": \"quantitative\"}, {\"field\": \"log2_bayes_factor\", \"format\": \",.4f\", \"title\": \"Match weight = log2(m/u)\", \"type\": \"quantitative\"}], \"x\": {\"axis\": {\"title\": \"Proportion of record comparisons\"}, \"field\": \"u_probability\", \"type\": \"quantitative\"}, \"y\": {\"axis\": {\"title\": null}, \"field\": \"label_for_charts\", \"sort\": {\"field\": \"comparison_vector_value\", \"order\": \"descending\"}, \"type\": \"nominal\"}}, \"height\": {\"step\": 12}, \"resolve\": {\"scale\": {\"y\": \"independent\"}}, \"title\": {\"text\": \"Amongst non-matching record comparisons:\", \"fontSize\": 12, \"fontWeight\": \"bold\"}, \"transform\": [{\"filter\": \"(datum.bayes_factor != 'no-op filter2 due to vega lite issue 4680')\"}], \"width\": 150}], \"data\": {\"name\": \"data-e963a4c5992e0d2695860cd3c8087451\"}, \"title\": {\"text\": \"Proportion of record comparisons in each comparison level by match status\", \"subtitle\": \"(m and u probabilities)\"}, \"$schema\": \"https://vega.github.io/schema/vega-lite/v5.9.3.json\", \"datasets\": {\"data-e963a4c5992e0d2695860cd3c8087451\": [{\"comparison_name\": \"syn_g1_firstname\", \"sql_condition\": \"syn_g1_firstname_l = syn_g1_firstname_r\", \"label_for_charts\": \"Exact match\", \"m_probability\": 0.8640042356856517, \"u_probability\": 0.004332132196817261, \"m_probability_description\": \"Amongst matching record comparisons, 86.40% of records are in the exact match comparison level\", \"u_probability_description\": \"Amongst non-matching record comparisons, 0.43% of records are in the exact match comparison level\", \"has_tf_adjustments\": true, \"tf_adjustment_column\": \"syn_g1_firstname\", \"tf_adjustment_weight\": 1.0, \"is_null_level\": false, \"bayes_factor\": 199.44087493923197, \"log2_bayes_factor\": 7.639817306776756, \"comparison_vector_value\": 2, \"max_comparison_vector_value\": 2, \"bayes_factor_description\": \"If comparison level is `exact match` then comparison is 199.44 times more likely to be a match\", \"probability_two_random_records_match\": 7.529553497477599e-05, \"comparison_sort_order\": 0}, {\"comparison_name\": \"syn_g1_firstname\", \"sql_condition\": \"jaro_winkler_similarity(\\\"syn_g1_firstname_l\\\", \\\"syn_g1_firstname_r\\\") >= 0.8\", \"label_for_charts\": \"Jaro_winkler_similarity 0.8\", \"m_probability\": 0.029876711292640495, \"u_probability\": 0.005838420810649826, \"m_probability_description\": \"Amongst matching record comparisons, 2.99% of records are in the jaro_winkler_similarity 0.8 comparison level\", \"u_probability_description\": \"Amongst non-matching record comparisons, 0.58% of records are in the jaro_winkler_similarity 0.8 comparison level\", \"has_tf_adjustments\": true, \"tf_adjustment_column\": \"syn_g1_firstname\", \"tf_adjustment_weight\": 0.5, \"is_null_level\": false, \"bayes_factor\": 5.117258974917083, \"log2_bayes_factor\": 2.355371247296416, \"comparison_vector_value\": 1, \"max_comparison_vector_value\": 2, \"bayes_factor_description\": \"If comparison level is `jaro_winkler_similarity 0.8` then comparison is 5.12 times more likely to be a match\", \"probability_two_random_records_match\": 7.529553497477599e-05, \"comparison_sort_order\": 0}, {\"comparison_name\": \"syn_g1_firstname\", \"sql_condition\": \"ELSE\", \"label_for_charts\": \"All other comparisons\", \"m_probability\": 0.10611905302170789, \"u_probability\": 0.989829446992533, \"m_probability_description\": \"Amongst matching record comparisons, 10.61% of records are in the all other comparisons comparison level\", \"u_probability_description\": \"Amongst non-matching record comparisons, 98.98% of records are in the all other comparisons comparison level\", \"has_tf_adjustments\": false, \"tf_adjustment_column\": null, \"tf_adjustment_weight\": 1.0, \"is_null_level\": false, \"bayes_factor\": 0.10720943223515599, \"log2_bayes_factor\": -3.221496255880288, \"comparison_vector_value\": 0, \"max_comparison_vector_value\": 2, \"bayes_factor_description\": \"If comparison level is `all other comparisons` then comparison is  9.33 times less likely to be a match\", \"probability_two_random_records_match\": 7.529553497477599e-05, \"comparison_sort_order\": 0}, {\"comparison_name\": \"syn_g1_surname\", \"sql_condition\": \"syn_g1_surname_l = syn_g1_surname_r\", \"label_for_charts\": \"Exact match\", \"m_probability\": 0.9284692417739628, \"u_probability\": 0.0009733897024571305, \"m_probability_description\": \"Amongst matching record comparisons, 92.85% of records are in the exact match comparison level\", \"u_probability_description\": \"Amongst non-matching record comparisons, 0.10% of records are in the exact match comparison level\", \"has_tf_adjustments\": true, \"tf_adjustment_column\": \"syn_g1_surname\", \"tf_adjustment_weight\": 1.0, \"is_null_level\": false, \"bayes_factor\": 953.8515143834223, \"log2_bayes_factor\": 9.897620889825705, \"comparison_vector_value\": 2, \"max_comparison_vector_value\": 2, \"bayes_factor_description\": \"If comparison level is `exact match` then comparison is 953.85 times more likely to be a match\", \"probability_two_random_records_match\": 7.529553497477599e-05, \"comparison_sort_order\": 1}, {\"comparison_name\": \"syn_g1_surname\", \"sql_condition\": \"jaro_winkler_similarity(\\\"syn_g1_surname_l\\\", \\\"syn_g1_surname_r\\\") >= 0.8\", \"label_for_charts\": \"Jaro_winkler_similarity 0.8\", \"m_probability\": 0.001054137489646864, \"u_probability\": 0.003937136164350436, \"m_probability_description\": \"Amongst matching record comparisons, 0.11% of records are in the jaro_winkler_similarity 0.8 comparison level\", \"u_probability_description\": \"Amongst non-matching record comparisons, 0.39% of records are in the jaro_winkler_similarity 0.8 comparison level\", \"has_tf_adjustments\": true, \"tf_adjustment_column\": \"syn_g1_surname\", \"tf_adjustment_weight\": 0.5, \"is_null_level\": false, \"bayes_factor\": 0.2677421977913176, \"log2_bayes_factor\": -1.9010835605160503, \"comparison_vector_value\": 1, \"max_comparison_vector_value\": 2, \"bayes_factor_description\": \"If comparison level is `jaro_winkler_similarity 0.8` then comparison is  3.73 times less likely to be a match\", \"probability_two_random_records_match\": 7.529553497477599e-05, \"comparison_sort_order\": 1}, {\"comparison_name\": \"syn_g1_surname\", \"sql_condition\": \"ELSE\", \"label_for_charts\": \"All other comparisons\", \"m_probability\": 0.07047662073639033, \"u_probability\": 0.9950894741331925, \"m_probability_description\": \"Amongst matching record comparisons, 7.05% of records are in the all other comparisons comparison level\", \"u_probability_description\": \"Amongst non-matching record comparisons, 99.51% of records are in the all other comparisons comparison level\", \"has_tf_adjustments\": false, \"tf_adjustment_column\": null, \"tf_adjustment_weight\": 1.0, \"is_null_level\": false, \"bayes_factor\": 0.07082440581313701, \"log2_bayes_factor\": -3.8196095967228723, \"comparison_vector_value\": 0, \"max_comparison_vector_value\": 2, \"bayes_factor_description\": \"If comparison level is `all other comparisons` then comparison is  14.12 times less likely to be a match\", \"probability_two_random_records_match\": 7.529553497477599e-05, \"comparison_sort_order\": 1}, {\"comparison_name\": \"syn_g0_surname\", \"sql_condition\": \"syn_g0_surname_l = syn_g0_surname_r\", \"label_for_charts\": \"Exact match\", \"m_probability\": 0.826217905278217, \"u_probability\": 0.0007725739693979973, \"m_probability_description\": \"Amongst matching record comparisons, 82.62% of records are in the exact match comparison level\", \"u_probability_description\": \"Amongst non-matching record comparisons, 0.08% of records are in the exact match comparison level\", \"has_tf_adjustments\": true, \"tf_adjustment_column\": \"syn_g0_surname\", \"tf_adjustment_weight\": 1.0, \"is_null_level\": false, \"bayes_factor\": 1069.435339533922, \"log2_bayes_factor\": 10.062633541214772, \"comparison_vector_value\": 2, \"max_comparison_vector_value\": 2, \"bayes_factor_description\": \"If comparison level is `exact match` then comparison is 1,069.44 times more likely to be a match\", \"probability_two_random_records_match\": 7.529553497477599e-05, \"comparison_sort_order\": 2}, {\"comparison_name\": \"syn_g0_surname\", \"sql_condition\": \"jaro_winkler_similarity(\\\"syn_g0_surname_l\\\", \\\"syn_g0_surname_r\\\") >= 0.8\", \"label_for_charts\": \"Jaro_winkler_similarity 0.8\", \"m_probability\": 0.00489420977336044, \"u_probability\": 0.0034903223741798725, \"m_probability_description\": \"Amongst matching record comparisons, 0.49% of records are in the jaro_winkler_similarity 0.8 comparison level\", \"u_probability_description\": \"Amongst non-matching record comparisons, 0.35% of records are in the jaro_winkler_similarity 0.8 comparison level\", \"has_tf_adjustments\": true, \"tf_adjustment_column\": \"syn_g0_surname\", \"tf_adjustment_weight\": 0.5, \"is_null_level\": false, \"bayes_factor\": 1.402222846109005, \"log2_bayes_factor\": 0.48771564565960907, \"comparison_vector_value\": 1, \"max_comparison_vector_value\": 2, \"bayes_factor_description\": \"If comparison level is `jaro_winkler_similarity 0.8` then comparison is 1.40 times more likely to be a match\", \"probability_two_random_records_match\": 7.529553497477599e-05, \"comparison_sort_order\": 2}, {\"comparison_name\": \"syn_g0_surname\", \"sql_condition\": \"ELSE\", \"label_for_charts\": \"All other comparisons\", \"m_probability\": 0.16888788494842255, \"u_probability\": 0.9957371036564221, \"m_probability_description\": \"Amongst matching record comparisons, 16.89% of records are in the all other comparisons comparison level\", \"u_probability_description\": \"Amongst non-matching record comparisons, 99.57% of records are in the all other comparisons comparison level\", \"has_tf_adjustments\": false, \"tf_adjustment_column\": null, \"tf_adjustment_weight\": 1.0, \"is_null_level\": false, \"bayes_factor\": 0.16961091871363781, \"log2_bayes_factor\": -2.559699048412092, \"comparison_vector_value\": 0, \"max_comparison_vector_value\": 2, \"bayes_factor_description\": \"If comparison level is `all other comparisons` then comparison is  5.90 times less likely to be a match\", \"probability_two_random_records_match\": 7.529553497477599e-05, \"comparison_sort_order\": 2}, {\"comparison_name\": \"g1_dob_arc1\", \"sql_condition\": \"\\\"g1_dob_arc1_l\\\" = \\\"g1_dob_arc1_r\\\"\", \"label_for_charts\": \"Exact match\", \"m_probability\": 0.9962352232512612, \"u_probability\": 0.0017076875803275092, \"m_probability_description\": \"Amongst matching record comparisons, 99.62% of records are in the exact match comparison level\", \"u_probability_description\": \"Amongst non-matching record comparisons, 0.17% of records are in the exact match comparison level\", \"has_tf_adjustments\": false, \"tf_adjustment_column\": null, \"tf_adjustment_weight\": 1.0, \"is_null_level\": false, \"bayes_factor\": 583.38260155303, \"log2_bayes_factor\": 9.18829855059523, \"comparison_vector_value\": 1, \"max_comparison_vector_value\": 1, \"bayes_factor_description\": \"If comparison level is `exact match` then comparison is 583.38 times more likely to be a match\", \"probability_two_random_records_match\": 7.529553497477599e-05, \"comparison_sort_order\": 3}, {\"comparison_name\": \"g1_dob_arc1\", \"sql_condition\": \"ELSE\", \"label_for_charts\": \"All other comparisons\", \"m_probability\": 0.0037647767487387998, \"u_probability\": 0.9982923124196725, \"m_probability_description\": \"Amongst matching record comparisons, 0.38% of records are in the all other comparisons comparison level\", \"u_probability_description\": \"Amongst non-matching record comparisons, 99.83% of records are in the all other comparisons comparison level\", \"has_tf_adjustments\": false, \"tf_adjustment_column\": null, \"tf_adjustment_weight\": 1.0, \"is_null_level\": false, \"bayes_factor\": 0.0037712168088459884, \"log2_bayes_factor\": -8.050754190651466, \"comparison_vector_value\": 0, \"max_comparison_vector_value\": 1, \"bayes_factor_description\": \"If comparison level is `all other comparisons` then comparison is  265.17 times less likely to be a match\", \"probability_two_random_records_match\": 7.529553497477599e-05, \"comparison_sort_order\": 3}, {\"comparison_name\": \"g1_gender_arc\", \"sql_condition\": \"\\\"g1_gender_arc_l\\\" = \\\"g1_gender_arc_r\\\"\", \"label_for_charts\": \"Exact match\", \"m_probability\": 1.0, \"u_probability\": 0.500111910148164, \"m_probability_description\": \"Amongst matching record comparisons, 100.00% of records are in the exact match comparison level\", \"u_probability_description\": \"Amongst non-matching record comparisons, 50.01% of records are in the exact match comparison level\", \"has_tf_adjustments\": false, \"tf_adjustment_column\": null, \"tf_adjustment_weight\": 1.0, \"is_null_level\": false, \"bayes_factor\": 1.9995524595759742, \"log2_bayes_factor\": 0.9996771316993289, \"comparison_vector_value\": 1, \"max_comparison_vector_value\": 1, \"bayes_factor_description\": \"If comparison level is `exact match` then comparison is 2.00 times more likely to be a match\", \"probability_two_random_records_match\": 7.529553497477599e-05, \"comparison_sort_order\": 4}, {\"comparison_name\": \"g1_gender_arc\", \"sql_condition\": \"ELSE\", \"label_for_charts\": \"All other comparisons\", \"m_probability\": 0.001, \"u_probability\": 0.499888089851836, \"m_probability_description\": \"Amongst matching record comparisons, 0.10% of records are in the all other comparisons comparison level\", \"u_probability_description\": \"Amongst non-matching record comparisons, 49.99% of records are in the all other comparisons comparison level\", \"has_tf_adjustments\": false, \"tf_adjustment_column\": null, \"tf_adjustment_weight\": 1.0, \"is_null_level\": false, \"bayes_factor\": 0.002000447740806136, \"log2_bayes_factor\": -8.96546134408885, \"comparison_vector_value\": 0, \"max_comparison_vector_value\": 1, \"bayes_factor_description\": \"If comparison level is `all other comparisons` then comparison is  499.89 times less likely to be a match\", \"probability_two_random_records_match\": 7.529553497477599e-05, \"comparison_sort_order\": 4}]}}, {\"mode\": \"vega-lite\"});\n",
       "</script>"
      ],
      "text/plain": [
       "alt.HConcatChart(...)"
      ]
     },
     "execution_count": 8,
     "metadata": {},
     "output_type": "execute_result"
    }
   ],
   "source": [
    "linker.m_u_parameters_chart()"
   ]
  },
  {
   "cell_type": "code",
   "execution_count": 9,
   "metadata": {},
   "outputs": [
    {
     "data": {
      "text/html": [
       "\n",
       "<style>\n",
       "  #altair-viz-60f62ae805e0459e862cf624b89acb5f.vega-embed {\n",
       "    width: 100%;\n",
       "    display: flex;\n",
       "  }\n",
       "\n",
       "  #altair-viz-60f62ae805e0459e862cf624b89acb5f.vega-embed details,\n",
       "  #altair-viz-60f62ae805e0459e862cf624b89acb5f.vega-embed details summary {\n",
       "    position: relative;\n",
       "  }\n",
       "</style>\n",
       "<div id=\"altair-viz-60f62ae805e0459e862cf624b89acb5f\"></div>\n",
       "<script type=\"text/javascript\">\n",
       "  var VEGA_DEBUG = (typeof VEGA_DEBUG == \"undefined\") ? {} : VEGA_DEBUG;\n",
       "  (function(spec, embedOpt){\n",
       "    let outputDiv = document.currentScript.previousElementSibling;\n",
       "    if (outputDiv.id !== \"altair-viz-60f62ae805e0459e862cf624b89acb5f\") {\n",
       "      outputDiv = document.getElementById(\"altair-viz-60f62ae805e0459e862cf624b89acb5f\");\n",
       "    }\n",
       "    const paths = {\n",
       "      \"vega\": \"https://cdn.jsdelivr.net/npm/vega@5?noext\",\n",
       "      \"vega-lib\": \"https://cdn.jsdelivr.net/npm/vega-lib?noext\",\n",
       "      \"vega-lite\": \"https://cdn.jsdelivr.net/npm/vega-lite@5.8.0?noext\",\n",
       "      \"vega-embed\": \"https://cdn.jsdelivr.net/npm/vega-embed@6?noext\",\n",
       "    };\n",
       "\n",
       "    function maybeLoadScript(lib, version) {\n",
       "      var key = `${lib.replace(\"-\", \"\")}_version`;\n",
       "      return (VEGA_DEBUG[key] == version) ?\n",
       "        Promise.resolve(paths[lib]) :\n",
       "        new Promise(function(resolve, reject) {\n",
       "          var s = document.createElement('script');\n",
       "          document.getElementsByTagName(\"head\")[0].appendChild(s);\n",
       "          s.async = true;\n",
       "          s.onload = () => {\n",
       "            VEGA_DEBUG[key] = version;\n",
       "            return resolve(paths[lib]);\n",
       "          };\n",
       "          s.onerror = () => reject(`Error loading script: ${paths[lib]}`);\n",
       "          s.src = paths[lib];\n",
       "        });\n",
       "    }\n",
       "\n",
       "    function showError(err) {\n",
       "      outputDiv.innerHTML = `<div class=\"error\" style=\"color:red;\">${err}</div>`;\n",
       "      throw err;\n",
       "    }\n",
       "\n",
       "    function displayChart(vegaEmbed) {\n",
       "      vegaEmbed(outputDiv, spec, embedOpt)\n",
       "        .catch(err => showError(`Javascript Error: ${err.message}<br>This usually means there's a typo in your chart specification. See the javascript console for the full traceback.`));\n",
       "    }\n",
       "\n",
       "    if(typeof define === \"function\" && define.amd) {\n",
       "      requirejs.config({paths});\n",
       "      require([\"vega-embed\"], displayChart, err => showError(`Error loading script: ${err.message}`));\n",
       "    } else {\n",
       "      maybeLoadScript(\"vega\", \"5\")\n",
       "        .then(() => maybeLoadScript(\"vega-lite\", \"5.8.0\"))\n",
       "        .then(() => maybeLoadScript(\"vega-embed\", \"6\"))\n",
       "        .catch(showError)\n",
       "        .then(() => displayChart(vegaEmbed));\n",
       "    }\n",
       "  })({\"config\": {\"view\": {\"continuousWidth\": 300, \"continuousHeight\": 300, \"discreteHeight\": 60, \"discreteWidth\": 400}, \"header\": {\"title\": null}, \"mark\": {\"tooltip\": null}, \"title\": {\"anchor\": \"middle\"}}, \"vconcat\": [{\"mark\": {\"type\": \"bar\", \"clip\": true, \"height\": 15}, \"encoding\": {\"color\": {\"field\": \"log2_bayes_factor\", \"scale\": {\"domain\": [-10, 0, 10], \"interpolate\": \"lab\", \"range\": [\"red\", \"#bbbbbb\", \"green\"]}, \"title\": \"Match weight\", \"type\": \"quantitative\"}, \"tooltip\": [{\"field\": \"comparison_name\", \"title\": \"Comparison name\", \"type\": \"nominal\"}, {\"field\": \"probability_two_random_records_match\", \"format\": \".4f\", \"title\": \"Probability two random records match\", \"type\": \"nominal\"}, {\"field\": \"log2_bayes_factor\", \"format\": \",.4f\", \"title\": \"Equivalent match weight\", \"type\": \"quantitative\"}, {\"field\": \"bayes_factor_description\", \"title\": \"Match weight description\", \"type\": \"nominal\"}], \"x\": {\"axis\": {\"domain\": false, \"gridColor\": {\"condition\": {\"test\": \"abs(datum.value / 10)  <= 1 & datum.value % 10 === 0\", \"value\": \"#aaa\"}, \"value\": \"#ddd\"}, \"gridDash\": {\"condition\": {\"test\": \"abs(datum.value / 10) == 1\", \"value\": [3]}, \"value\": null}, \"gridWidth\": {\"condition\": {\"test\": \"abs(datum.value / 10)  <= 1 & datum.value % 10 === 0\", \"value\": 2}, \"value\": 1}, \"labels\": false, \"ticks\": false, \"title\": \"\"}, \"field\": \"log2_bayes_factor\", \"scale\": {\"domain\": [-14, 14]}, \"type\": \"quantitative\"}, \"y\": {\"axis\": {\"title\": \"Prior (starting) match weight\", \"titleAlign\": \"right\", \"titleAngle\": 0, \"titleFontWeight\": \"normal\"}, \"field\": \"label_for_charts\", \"sort\": {\"field\": \"comparison_vector_value\", \"order\": \"descending\"}, \"type\": \"nominal\"}}, \"height\": 20, \"transform\": [{\"filter\": \"(datum.comparison_name == 'probability_two_random_records_match')\"}]}, {\"mark\": {\"type\": \"bar\", \"clip\": true}, \"encoding\": {\"color\": {\"field\": \"log2_bayes_factor\", \"scale\": {\"domain\": [-10, 0, 10], \"interpolate\": \"lab\", \"range\": [\"red\", \"#bbbbbb\", \"green\"]}, \"title\": \"Match weight\", \"type\": \"quantitative\"}, \"row\": {\"field\": \"comparison_name\", \"header\": {\"labelAlign\": \"left\", \"labelAnchor\": \"middle\", \"labelAngle\": 0}, \"sort\": {\"field\": \"comparison_sort_order\"}, \"type\": \"nominal\"}, \"tooltip\": [{\"field\": \"comparison_name\", \"title\": \"Comparison name\", \"type\": \"nominal\"}, {\"field\": \"label_for_charts\", \"title\": \"Label\", \"type\": \"ordinal\"}, {\"field\": \"sql_condition\", \"title\": \"SQL condition\", \"type\": \"nominal\"}, {\"field\": \"m_probability\", \"format\": \".4f\", \"title\": \"M probability\", \"type\": \"quantitative\"}, {\"field\": \"u_probability\", \"format\": \".4f\", \"title\": \"U probability\", \"type\": \"quantitative\"}, {\"field\": \"bayes_factor\", \"format\": \",.4f\", \"title\": \"Bayes factor = m/u\", \"type\": \"quantitative\"}, {\"field\": \"log2_bayes_factor\", \"format\": \",.4f\", \"title\": \"Match weight = log2(m/u)\", \"type\": \"quantitative\"}, {\"field\": \"bayes_factor_description\", \"title\": \"Match weight description\", \"type\": \"nominal\"}], \"x\": {\"axis\": {\"gridColor\": {\"condition\": {\"test\": \"abs(datum.value / 10)  <= 1 & datum.value % 10 === 0\", \"value\": \"#aaa\"}, \"value\": \"#ddd\"}, \"gridDash\": {\"condition\": {\"test\": \"abs(datum.value / 10) == 1\", \"value\": [3]}, \"value\": null}, \"gridWidth\": {\"condition\": {\"test\": \"abs(datum.value / 10)  <= 1 & datum.value % 10 === 0\", \"value\": 2}, \"value\": 1}, \"title\": \"Comparison level match weight = log2(m/u)\"}, \"field\": \"log2_bayes_factor\", \"scale\": {\"domain\": [-14, 14]}, \"type\": \"quantitative\"}, \"y\": {\"axis\": {\"title\": null}, \"field\": \"label_for_charts\", \"sort\": {\"field\": \"comparison_vector_value\", \"order\": \"descending\"}, \"type\": \"nominal\"}}, \"height\": {\"step\": 12}, \"resolve\": {\"axis\": {\"y\": \"independent\"}, \"scale\": {\"y\": \"independent\"}}, \"transform\": [{\"filter\": \"(datum.comparison_name != 'probability_two_random_records_match')\"}]}], \"data\": {\"name\": \"data-cbd562755ad54eb862525320ada4ea1e\"}, \"params\": [{\"name\": \"mouse_zoom\", \"select\": {\"type\": \"interval\", \"encodings\": [\"x\"]}, \"bind\": \"scales\", \"views\": []}], \"resolve\": {\"axis\": {\"y\": \"independent\"}, \"scale\": {\"y\": \"independent\"}}, \"title\": {\"text\": \"Model parameters (components of final match weight)\", \"subtitle\": \"Use mousewheel to zoom\"}, \"$schema\": \"https://vega.github.io/schema/vega-lite/v5.9.3.json\", \"datasets\": {\"data-cbd562755ad54eb862525320ada4ea1e\": [{\"comparison_name\": \"probability_two_random_records_match\", \"sql_condition\": null, \"label_for_charts\": \"\", \"m_probability\": null, \"u_probability\": null, \"m_probability_description\": null, \"u_probability_description\": null, \"has_tf_adjustments\": false, \"tf_adjustment_column\": null, \"tf_adjustment_weight\": null, \"is_null_level\": false, \"bayes_factor\": 7.53012048192771e-05, \"log2_bayes_factor\": -13.696967526234287, \"comparison_vector_value\": 0, \"max_comparison_vector_value\": 0, \"bayes_factor_description\": \"The probability that two random records drawn at random match is 0.000 or one in  13,281.0 records.This is equivalent to a starting match weight of -13.697.\", \"probability_two_random_records_match\": 7.529553497477599e-05, \"comparison_sort_order\": -1}, {\"comparison_name\": \"syn_g1_firstname\", \"sql_condition\": \"syn_g1_firstname_l = syn_g1_firstname_r\", \"label_for_charts\": \"Exact match\", \"m_probability\": 0.8640042356856517, \"u_probability\": 0.004332132196817261, \"m_probability_description\": \"Amongst matching record comparisons, 86.40% of records are in the exact match comparison level\", \"u_probability_description\": \"Amongst non-matching record comparisons, 0.43% of records are in the exact match comparison level\", \"has_tf_adjustments\": true, \"tf_adjustment_column\": \"syn_g1_firstname\", \"tf_adjustment_weight\": 1.0, \"is_null_level\": false, \"bayes_factor\": 199.44087493923197, \"log2_bayes_factor\": 7.639817306776756, \"comparison_vector_value\": 2, \"max_comparison_vector_value\": 2, \"bayes_factor_description\": \"If comparison level is `exact match` then comparison is 199.44 times more likely to be a match\", \"probability_two_random_records_match\": 7.529553497477599e-05, \"comparison_sort_order\": 0}, {\"comparison_name\": \"syn_g1_firstname\", \"sql_condition\": \"jaro_winkler_similarity(\\\"syn_g1_firstname_l\\\", \\\"syn_g1_firstname_r\\\") >= 0.8\", \"label_for_charts\": \"Jaro_winkler_similarity 0.8\", \"m_probability\": 0.029876711292640495, \"u_probability\": 0.005838420810649826, \"m_probability_description\": \"Amongst matching record comparisons, 2.99% of records are in the jaro_winkler_similarity 0.8 comparison level\", \"u_probability_description\": \"Amongst non-matching record comparisons, 0.58% of records are in the jaro_winkler_similarity 0.8 comparison level\", \"has_tf_adjustments\": true, \"tf_adjustment_column\": \"syn_g1_firstname\", \"tf_adjustment_weight\": 0.5, \"is_null_level\": false, \"bayes_factor\": 5.117258974917083, \"log2_bayes_factor\": 2.355371247296416, \"comparison_vector_value\": 1, \"max_comparison_vector_value\": 2, \"bayes_factor_description\": \"If comparison level is `jaro_winkler_similarity 0.8` then comparison is 5.12 times more likely to be a match\", \"probability_two_random_records_match\": 7.529553497477599e-05, \"comparison_sort_order\": 0}, {\"comparison_name\": \"syn_g1_firstname\", \"sql_condition\": \"ELSE\", \"label_for_charts\": \"All other comparisons\", \"m_probability\": 0.10611905302170789, \"u_probability\": 0.989829446992533, \"m_probability_description\": \"Amongst matching record comparisons, 10.61% of records are in the all other comparisons comparison level\", \"u_probability_description\": \"Amongst non-matching record comparisons, 98.98% of records are in the all other comparisons comparison level\", \"has_tf_adjustments\": false, \"tf_adjustment_column\": null, \"tf_adjustment_weight\": 1.0, \"is_null_level\": false, \"bayes_factor\": 0.10720943223515599, \"log2_bayes_factor\": -3.221496255880288, \"comparison_vector_value\": 0, \"max_comparison_vector_value\": 2, \"bayes_factor_description\": \"If comparison level is `all other comparisons` then comparison is  9.33 times less likely to be a match\", \"probability_two_random_records_match\": 7.529553497477599e-05, \"comparison_sort_order\": 0}, {\"comparison_name\": \"syn_g1_surname\", \"sql_condition\": \"syn_g1_surname_l = syn_g1_surname_r\", \"label_for_charts\": \"Exact match\", \"m_probability\": 0.9284692417739628, \"u_probability\": 0.0009733897024571305, \"m_probability_description\": \"Amongst matching record comparisons, 92.85% of records are in the exact match comparison level\", \"u_probability_description\": \"Amongst non-matching record comparisons, 0.10% of records are in the exact match comparison level\", \"has_tf_adjustments\": true, \"tf_adjustment_column\": \"syn_g1_surname\", \"tf_adjustment_weight\": 1.0, \"is_null_level\": false, \"bayes_factor\": 953.8515143834223, \"log2_bayes_factor\": 9.897620889825705, \"comparison_vector_value\": 2, \"max_comparison_vector_value\": 2, \"bayes_factor_description\": \"If comparison level is `exact match` then comparison is 953.85 times more likely to be a match\", \"probability_two_random_records_match\": 7.529553497477599e-05, \"comparison_sort_order\": 1}, {\"comparison_name\": \"syn_g1_surname\", \"sql_condition\": \"jaro_winkler_similarity(\\\"syn_g1_surname_l\\\", \\\"syn_g1_surname_r\\\") >= 0.8\", \"label_for_charts\": \"Jaro_winkler_similarity 0.8\", \"m_probability\": 0.001054137489646864, \"u_probability\": 0.003937136164350436, \"m_probability_description\": \"Amongst matching record comparisons, 0.11% of records are in the jaro_winkler_similarity 0.8 comparison level\", \"u_probability_description\": \"Amongst non-matching record comparisons, 0.39% of records are in the jaro_winkler_similarity 0.8 comparison level\", \"has_tf_adjustments\": true, \"tf_adjustment_column\": \"syn_g1_surname\", \"tf_adjustment_weight\": 0.5, \"is_null_level\": false, \"bayes_factor\": 0.2677421977913176, \"log2_bayes_factor\": -1.9010835605160503, \"comparison_vector_value\": 1, \"max_comparison_vector_value\": 2, \"bayes_factor_description\": \"If comparison level is `jaro_winkler_similarity 0.8` then comparison is  3.73 times less likely to be a match\", \"probability_two_random_records_match\": 7.529553497477599e-05, \"comparison_sort_order\": 1}, {\"comparison_name\": \"syn_g1_surname\", \"sql_condition\": \"ELSE\", \"label_for_charts\": \"All other comparisons\", \"m_probability\": 0.07047662073639033, \"u_probability\": 0.9950894741331925, \"m_probability_description\": \"Amongst matching record comparisons, 7.05% of records are in the all other comparisons comparison level\", \"u_probability_description\": \"Amongst non-matching record comparisons, 99.51% of records are in the all other comparisons comparison level\", \"has_tf_adjustments\": false, \"tf_adjustment_column\": null, \"tf_adjustment_weight\": 1.0, \"is_null_level\": false, \"bayes_factor\": 0.07082440581313701, \"log2_bayes_factor\": -3.8196095967228723, \"comparison_vector_value\": 0, \"max_comparison_vector_value\": 2, \"bayes_factor_description\": \"If comparison level is `all other comparisons` then comparison is  14.12 times less likely to be a match\", \"probability_two_random_records_match\": 7.529553497477599e-05, \"comparison_sort_order\": 1}, {\"comparison_name\": \"syn_g0_surname\", \"sql_condition\": \"syn_g0_surname_l = syn_g0_surname_r\", \"label_for_charts\": \"Exact match\", \"m_probability\": 0.826217905278217, \"u_probability\": 0.0007725739693979973, \"m_probability_description\": \"Amongst matching record comparisons, 82.62% of records are in the exact match comparison level\", \"u_probability_description\": \"Amongst non-matching record comparisons, 0.08% of records are in the exact match comparison level\", \"has_tf_adjustments\": true, \"tf_adjustment_column\": \"syn_g0_surname\", \"tf_adjustment_weight\": 1.0, \"is_null_level\": false, \"bayes_factor\": 1069.435339533922, \"log2_bayes_factor\": 10.062633541214772, \"comparison_vector_value\": 2, \"max_comparison_vector_value\": 2, \"bayes_factor_description\": \"If comparison level is `exact match` then comparison is 1,069.44 times more likely to be a match\", \"probability_two_random_records_match\": 7.529553497477599e-05, \"comparison_sort_order\": 2}, {\"comparison_name\": \"syn_g0_surname\", \"sql_condition\": \"jaro_winkler_similarity(\\\"syn_g0_surname_l\\\", \\\"syn_g0_surname_r\\\") >= 0.8\", \"label_for_charts\": \"Jaro_winkler_similarity 0.8\", \"m_probability\": 0.00489420977336044, \"u_probability\": 0.0034903223741798725, \"m_probability_description\": \"Amongst matching record comparisons, 0.49% of records are in the jaro_winkler_similarity 0.8 comparison level\", \"u_probability_description\": \"Amongst non-matching record comparisons, 0.35% of records are in the jaro_winkler_similarity 0.8 comparison level\", \"has_tf_adjustments\": true, \"tf_adjustment_column\": \"syn_g0_surname\", \"tf_adjustment_weight\": 0.5, \"is_null_level\": false, \"bayes_factor\": 1.402222846109005, \"log2_bayes_factor\": 0.48771564565960907, \"comparison_vector_value\": 1, \"max_comparison_vector_value\": 2, \"bayes_factor_description\": \"If comparison level is `jaro_winkler_similarity 0.8` then comparison is 1.40 times more likely to be a match\", \"probability_two_random_records_match\": 7.529553497477599e-05, \"comparison_sort_order\": 2}, {\"comparison_name\": \"syn_g0_surname\", \"sql_condition\": \"ELSE\", \"label_for_charts\": \"All other comparisons\", \"m_probability\": 0.16888788494842255, \"u_probability\": 0.9957371036564221, \"m_probability_description\": \"Amongst matching record comparisons, 16.89% of records are in the all other comparisons comparison level\", \"u_probability_description\": \"Amongst non-matching record comparisons, 99.57% of records are in the all other comparisons comparison level\", \"has_tf_adjustments\": false, \"tf_adjustment_column\": null, \"tf_adjustment_weight\": 1.0, \"is_null_level\": false, \"bayes_factor\": 0.16961091871363781, \"log2_bayes_factor\": -2.559699048412092, \"comparison_vector_value\": 0, \"max_comparison_vector_value\": 2, \"bayes_factor_description\": \"If comparison level is `all other comparisons` then comparison is  5.90 times less likely to be a match\", \"probability_two_random_records_match\": 7.529553497477599e-05, \"comparison_sort_order\": 2}, {\"comparison_name\": \"g1_dob_arc1\", \"sql_condition\": \"\\\"g1_dob_arc1_l\\\" = \\\"g1_dob_arc1_r\\\"\", \"label_for_charts\": \"Exact match\", \"m_probability\": 0.9962352232512612, \"u_probability\": 0.0017076875803275092, \"m_probability_description\": \"Amongst matching record comparisons, 99.62% of records are in the exact match comparison level\", \"u_probability_description\": \"Amongst non-matching record comparisons, 0.17% of records are in the exact match comparison level\", \"has_tf_adjustments\": false, \"tf_adjustment_column\": null, \"tf_adjustment_weight\": 1.0, \"is_null_level\": false, \"bayes_factor\": 583.38260155303, \"log2_bayes_factor\": 9.18829855059523, \"comparison_vector_value\": 1, \"max_comparison_vector_value\": 1, \"bayes_factor_description\": \"If comparison level is `exact match` then comparison is 583.38 times more likely to be a match\", \"probability_two_random_records_match\": 7.529553497477599e-05, \"comparison_sort_order\": 3}, {\"comparison_name\": \"g1_dob_arc1\", \"sql_condition\": \"ELSE\", \"label_for_charts\": \"All other comparisons\", \"m_probability\": 0.0037647767487387998, \"u_probability\": 0.9982923124196725, \"m_probability_description\": \"Amongst matching record comparisons, 0.38% of records are in the all other comparisons comparison level\", \"u_probability_description\": \"Amongst non-matching record comparisons, 99.83% of records are in the all other comparisons comparison level\", \"has_tf_adjustments\": false, \"tf_adjustment_column\": null, \"tf_adjustment_weight\": 1.0, \"is_null_level\": false, \"bayes_factor\": 0.0037712168088459884, \"log2_bayes_factor\": -8.050754190651466, \"comparison_vector_value\": 0, \"max_comparison_vector_value\": 1, \"bayes_factor_description\": \"If comparison level is `all other comparisons` then comparison is  265.17 times less likely to be a match\", \"probability_two_random_records_match\": 7.529553497477599e-05, \"comparison_sort_order\": 3}, {\"comparison_name\": \"g1_gender_arc\", \"sql_condition\": \"\\\"g1_gender_arc_l\\\" = \\\"g1_gender_arc_r\\\"\", \"label_for_charts\": \"Exact match\", \"m_probability\": 1.0, \"u_probability\": 0.500111910148164, \"m_probability_description\": \"Amongst matching record comparisons, 100.00% of records are in the exact match comparison level\", \"u_probability_description\": \"Amongst non-matching record comparisons, 50.01% of records are in the exact match comparison level\", \"has_tf_adjustments\": false, \"tf_adjustment_column\": null, \"tf_adjustment_weight\": 1.0, \"is_null_level\": false, \"bayes_factor\": 1.9995524595759742, \"log2_bayes_factor\": 0.9996771316993289, \"comparison_vector_value\": 1, \"max_comparison_vector_value\": 1, \"bayes_factor_description\": \"If comparison level is `exact match` then comparison is 2.00 times more likely to be a match\", \"probability_two_random_records_match\": 7.529553497477599e-05, \"comparison_sort_order\": 4}, {\"comparison_name\": \"g1_gender_arc\", \"sql_condition\": \"ELSE\", \"label_for_charts\": \"All other comparisons\", \"m_probability\": 0.001, \"u_probability\": 0.499888089851836, \"m_probability_description\": \"Amongst matching record comparisons, 0.10% of records are in the all other comparisons comparison level\", \"u_probability_description\": \"Amongst non-matching record comparisons, 49.99% of records are in the all other comparisons comparison level\", \"has_tf_adjustments\": false, \"tf_adjustment_column\": null, \"tf_adjustment_weight\": 1.0, \"is_null_level\": false, \"bayes_factor\": 0.002000447740806136, \"log2_bayes_factor\": -8.96546134408885, \"comparison_vector_value\": 0, \"max_comparison_vector_value\": 1, \"bayes_factor_description\": \"If comparison level is `all other comparisons` then comparison is  499.89 times less likely to be a match\", \"probability_two_random_records_match\": 7.529553497477599e-05, \"comparison_sort_order\": 4}]}}, {\"mode\": \"vega-lite\"});\n",
       "</script>"
      ],
      "text/plain": [
       "alt.VConcatChart(...)"
      ]
     },
     "execution_count": 9,
     "metadata": {},
     "output_type": "execute_result"
    }
   ],
   "source": [
    "linker.match_weights_chart()\n"
   ]
  },
  {
   "cell_type": "code",
   "execution_count": 10,
   "metadata": {},
   "outputs": [
    {
     "data": {
      "application/vnd.jupyter.widget-view+json": {
       "model_id": "8b572d3260eb4aadb9857d035a547eca",
       "version_major": 2,
       "version_minor": 0
      },
      "text/plain": [
       "FloatProgress(value=0.0, layout=Layout(width='auto'), style=ProgressStyle(bar_color='black'))"
      ]
     },
     "metadata": {},
     "output_type": "display_data"
    },
    {
     "data": {
      "text/html": [
       "\n",
       "<style>\n",
       "  #altair-viz-417265951f76422da6eb664be261f00b.vega-embed {\n",
       "    width: 100%;\n",
       "    display: flex;\n",
       "  }\n",
       "\n",
       "  #altair-viz-417265951f76422da6eb664be261f00b.vega-embed details,\n",
       "  #altair-viz-417265951f76422da6eb664be261f00b.vega-embed details summary {\n",
       "    position: relative;\n",
       "  }\n",
       "</style>\n",
       "<div id=\"altair-viz-417265951f76422da6eb664be261f00b\"></div>\n",
       "<script type=\"text/javascript\">\n",
       "  var VEGA_DEBUG = (typeof VEGA_DEBUG == \"undefined\") ? {} : VEGA_DEBUG;\n",
       "  (function(spec, embedOpt){\n",
       "    let outputDiv = document.currentScript.previousElementSibling;\n",
       "    if (outputDiv.id !== \"altair-viz-417265951f76422da6eb664be261f00b\") {\n",
       "      outputDiv = document.getElementById(\"altair-viz-417265951f76422da6eb664be261f00b\");\n",
       "    }\n",
       "    const paths = {\n",
       "      \"vega\": \"https://cdn.jsdelivr.net/npm/vega@5?noext\",\n",
       "      \"vega-lib\": \"https://cdn.jsdelivr.net/npm/vega-lib?noext\",\n",
       "      \"vega-lite\": \"https://cdn.jsdelivr.net/npm/vega-lite@5.8.0?noext\",\n",
       "      \"vega-embed\": \"https://cdn.jsdelivr.net/npm/vega-embed@6?noext\",\n",
       "    };\n",
       "\n",
       "    function maybeLoadScript(lib, version) {\n",
       "      var key = `${lib.replace(\"-\", \"\")}_version`;\n",
       "      return (VEGA_DEBUG[key] == version) ?\n",
       "        Promise.resolve(paths[lib]) :\n",
       "        new Promise(function(resolve, reject) {\n",
       "          var s = document.createElement('script');\n",
       "          document.getElementsByTagName(\"head\")[0].appendChild(s);\n",
       "          s.async = true;\n",
       "          s.onload = () => {\n",
       "            VEGA_DEBUG[key] = version;\n",
       "            return resolve(paths[lib]);\n",
       "          };\n",
       "          s.onerror = () => reject(`Error loading script: ${paths[lib]}`);\n",
       "          s.src = paths[lib];\n",
       "        });\n",
       "    }\n",
       "\n",
       "    function showError(err) {\n",
       "      outputDiv.innerHTML = `<div class=\"error\" style=\"color:red;\">${err}</div>`;\n",
       "      throw err;\n",
       "    }\n",
       "\n",
       "    function displayChart(vegaEmbed) {\n",
       "      vegaEmbed(outputDiv, spec, embedOpt)\n",
       "        .catch(err => showError(`Javascript Error: ${err.message}<br>This usually means there's a typo in your chart specification. See the javascript console for the full traceback.`));\n",
       "    }\n",
       "\n",
       "    if(typeof define === \"function\" && define.amd) {\n",
       "      requirejs.config({paths});\n",
       "      require([\"vega-embed\"], displayChart, err => showError(`Error loading script: ${err.message}`));\n",
       "    } else {\n",
       "      maybeLoadScript(\"vega\", \"5\")\n",
       "        .then(() => maybeLoadScript(\"vega-lite\", \"5.8.0\"))\n",
       "        .then(() => maybeLoadScript(\"vega-embed\", \"6\"))\n",
       "        .catch(showError)\n",
       "        .then(() => displayChart(vegaEmbed));\n",
       "    }\n",
       "  })({\"config\": {\"view\": {\"continuousWidth\": 300, \"continuousHeight\": 300}, \"title\": {\"fontSize\": 14}}, \"data\": {\"name\": \"data-2ef97c003a5097bfc5030772dd509c8f\"}, \"mark\": \"bar\", \"encoding\": {\"tooltip\": [{\"field\": \"count_rows\", \"title\": \"Count in bin\", \"type\": \"quantitative\"}], \"x\": {\"axis\": {\"title\": \"Match weight\"}, \"bin\": \"binned\", \"field\": \"splink_score_bin_low\", \"type\": \"quantitative\"}, \"x2\": {\"field\": \"splink_score_bin_high\"}, \"y\": {\"axis\": {\"title\": \"Count of record comparisons in bin\"}, \"field\": \"count_rows\", \"type\": \"quantitative\"}}, \"height\": 250, \"params\": [{\"name\": \"mouse_zoom\", \"select\": {\"type\": \"interval\", \"encodings\": [\"y\"]}, \"bind\": \"scales\"}], \"title\": {\"text\": \"Histogram of match weights\", \"subtitle\": \"Use mousewheel to zoom\"}, \"width\": 600, \"$schema\": \"https://vega.github.io/schema/vega-lite/v5.9.3.json\", \"datasets\": {\"data-2ef97c003a5097bfc5030772dd509c8f\": [{\"splink_score_bin_low\": -32.0, \"binwidth\": 2, \"count_rows\": 26542, \"splink_score_bin_high\": -30.0}, {\"splink_score_bin_low\": -30.0, \"binwidth\": 2, \"count_rows\": 31707, \"splink_score_bin_high\": -28.0}, {\"splink_score_bin_low\": -28.0, \"binwidth\": 2, \"count_rows\": 17590, \"splink_score_bin_high\": -26.0}, {\"splink_score_bin_low\": -26.0, \"binwidth\": 2, \"count_rows\": 1524, \"splink_score_bin_high\": -24.0}, {\"splink_score_bin_low\": -24.0, \"binwidth\": 2, \"count_rows\": 924, \"splink_score_bin_high\": -22.0}, {\"splink_score_bin_low\": -22.0, \"binwidth\": 2, \"count_rows\": 555167, \"splink_score_bin_high\": -20.0}, {\"splink_score_bin_low\": -20.0, \"binwidth\": 2, \"count_rows\": 218927, \"splink_score_bin_high\": -18.0}, {\"splink_score_bin_low\": -18.0, \"binwidth\": 2, \"count_rows\": 51438, \"splink_score_bin_high\": -16.0}, {\"splink_score_bin_low\": -16.0, \"binwidth\": 2, \"count_rows\": 13570, \"splink_score_bin_high\": -14.0}, {\"splink_score_bin_low\": -14.0, \"binwidth\": 2, \"count_rows\": 148149, \"splink_score_bin_high\": -12.0}, {\"splink_score_bin_low\": -12.0, \"binwidth\": 2, \"count_rows\": 13016, \"splink_score_bin_high\": -10.0}, {\"splink_score_bin_low\": -10.0, \"binwidth\": 2, \"count_rows\": 9169, \"splink_score_bin_high\": -8.0}, {\"splink_score_bin_low\": -8.0, \"binwidth\": 2, \"count_rows\": 10982, \"splink_score_bin_high\": -6.0}, {\"splink_score_bin_low\": -6.0, \"binwidth\": 2, \"count_rows\": 11572, \"splink_score_bin_high\": -4.0}, {\"splink_score_bin_low\": -4.0, \"binwidth\": 2, \"count_rows\": 1315, \"splink_score_bin_high\": -2.0}, {\"splink_score_bin_low\": -2.0, \"binwidth\": 2, \"count_rows\": 691, \"splink_score_bin_high\": 0.0}, {\"splink_score_bin_low\": 0.0, \"binwidth\": 2, \"count_rows\": 377, \"splink_score_bin_high\": 2.0}, {\"splink_score_bin_low\": 2.0, \"binwidth\": 2, \"count_rows\": 132, \"splink_score_bin_high\": 4.0}, {\"splink_score_bin_low\": 4.0, \"binwidth\": 2, \"count_rows\": 140, \"splink_score_bin_high\": 6.0}, {\"splink_score_bin_low\": 6.0, \"binwidth\": 2, \"count_rows\": 108, \"splink_score_bin_high\": 8.0}, {\"splink_score_bin_low\": 8.0, \"binwidth\": 2, \"count_rows\": 473, \"splink_score_bin_high\": 10.0}, {\"splink_score_bin_low\": 10.0, \"binwidth\": 2, \"count_rows\": 844, \"splink_score_bin_high\": 12.0}, {\"splink_score_bin_low\": 12.0, \"binwidth\": 2, \"count_rows\": 1465, \"splink_score_bin_high\": 14.0}, {\"splink_score_bin_low\": 14.0, \"binwidth\": 2, \"count_rows\": 65, \"splink_score_bin_high\": 16.0}, {\"splink_score_bin_low\": 16.0, \"binwidth\": 2, \"count_rows\": 275, \"splink_score_bin_high\": 18.0}, {\"splink_score_bin_low\": 18.0, \"binwidth\": 2, \"count_rows\": 563, \"splink_score_bin_high\": 20.0}, {\"splink_score_bin_low\": 20.0, \"binwidth\": 2, \"count_rows\": 1103, \"splink_score_bin_high\": 22.0}, {\"splink_score_bin_low\": 22.0, \"binwidth\": 2, \"count_rows\": 3740, \"splink_score_bin_high\": 24.0}, {\"splink_score_bin_low\": 24.0, \"binwidth\": 2, \"count_rows\": 3855, \"splink_score_bin_high\": 26.0}]}}, {\"mode\": \"vega-lite\"});\n",
       "</script>"
      ],
      "text/plain": [
       "alt.Chart(...)"
      ]
     },
     "execution_count": 10,
     "metadata": {},
     "output_type": "execute_result"
    }
   ],
   "source": [
    "linker.match_weights_histogram(linker.predict())\n"
   ]
  },
  {
   "cell_type": "code",
   "execution_count": 11,
   "metadata": {},
   "outputs": [
    {
     "data": {
      "application/vnd.jupyter.widget-view+json": {
       "model_id": "588e303d341c4bdeb337d94c370f1362",
       "version_major": 2,
       "version_minor": 0
      },
      "text/plain": [
       "FloatProgress(value=0.0, layout=Layout(width='auto'), style=ProgressStyle(bar_color='black'))"
      ]
     },
     "metadata": {},
     "output_type": "display_data"
    },
    {
     "data": {
      "text/html": [
       "\n",
       "<style>\n",
       "  #altair-viz-777fc00ccaa444618630a271698cdc0e.vega-embed {\n",
       "    width: 100%;\n",
       "    display: flex;\n",
       "  }\n",
       "\n",
       "  #altair-viz-777fc00ccaa444618630a271698cdc0e.vega-embed details,\n",
       "  #altair-viz-777fc00ccaa444618630a271698cdc0e.vega-embed details summary {\n",
       "    position: relative;\n",
       "  }\n",
       "</style>\n",
       "<div id=\"altair-viz-777fc00ccaa444618630a271698cdc0e\"></div>\n",
       "<script type=\"text/javascript\">\n",
       "  var VEGA_DEBUG = (typeof VEGA_DEBUG == \"undefined\") ? {} : VEGA_DEBUG;\n",
       "  (function(spec, embedOpt){\n",
       "    let outputDiv = document.currentScript.previousElementSibling;\n",
       "    if (outputDiv.id !== \"altair-viz-777fc00ccaa444618630a271698cdc0e\") {\n",
       "      outputDiv = document.getElementById(\"altair-viz-777fc00ccaa444618630a271698cdc0e\");\n",
       "    }\n",
       "    const paths = {\n",
       "      \"vega\": \"https://cdn.jsdelivr.net/npm/vega@5?noext\",\n",
       "      \"vega-lib\": \"https://cdn.jsdelivr.net/npm/vega-lib?noext\",\n",
       "      \"vega-lite\": \"https://cdn.jsdelivr.net/npm/vega-lite@5.8.0?noext\",\n",
       "      \"vega-embed\": \"https://cdn.jsdelivr.net/npm/vega-embed@6?noext\",\n",
       "    };\n",
       "\n",
       "    function maybeLoadScript(lib, version) {\n",
       "      var key = `${lib.replace(\"-\", \"\")}_version`;\n",
       "      return (VEGA_DEBUG[key] == version) ?\n",
       "        Promise.resolve(paths[lib]) :\n",
       "        new Promise(function(resolve, reject) {\n",
       "          var s = document.createElement('script');\n",
       "          document.getElementsByTagName(\"head\")[0].appendChild(s);\n",
       "          s.async = true;\n",
       "          s.onload = () => {\n",
       "            VEGA_DEBUG[key] = version;\n",
       "            return resolve(paths[lib]);\n",
       "          };\n",
       "          s.onerror = () => reject(`Error loading script: ${paths[lib]}`);\n",
       "          s.src = paths[lib];\n",
       "        });\n",
       "    }\n",
       "\n",
       "    function showError(err) {\n",
       "      outputDiv.innerHTML = `<div class=\"error\" style=\"color:red;\">${err}</div>`;\n",
       "      throw err;\n",
       "    }\n",
       "\n",
       "    function displayChart(vegaEmbed) {\n",
       "      vegaEmbed(outputDiv, spec, embedOpt)\n",
       "        .catch(err => showError(`Javascript Error: ${err.message}<br>This usually means there's a typo in your chart specification. See the javascript console for the full traceback.`));\n",
       "    }\n",
       "\n",
       "    if(typeof define === \"function\" && define.amd) {\n",
       "      requirejs.config({paths});\n",
       "      require([\"vega-embed\"], displayChart, err => showError(`Error loading script: ${err.message}`));\n",
       "    } else {\n",
       "      maybeLoadScript(\"vega\", \"5\")\n",
       "        .then(() => maybeLoadScript(\"vega-lite\", \"5.8.0\"))\n",
       "        .then(() => maybeLoadScript(\"vega-embed\", \"6\"))\n",
       "        .catch(showError)\n",
       "        .then(() => displayChart(vegaEmbed));\n",
       "    }\n",
       "  })({\"config\": {\"view\": {\"continuousWidth\": 400, \"continuousHeight\": 300}}, \"layer\": [{\"layer\": [{\"mark\": \"rule\", \"encoding\": {\"color\": {\"value\": \"black\"}, \"size\": {\"value\": 0.5}, \"y\": {\"field\": \"zero\", \"type\": \"quantitative\"}}}, {\"mark\": {\"type\": \"bar\", \"width\": 60}, \"encoding\": {\"color\": {\"condition\": {\"test\": \"(datum.log2_bayes_factor < 0)\", \"value\": \"red\"}, \"value\": \"green\"}, \"opacity\": {\"condition\": {\"test\": \"datum.column_name == 'Prior match weight' || datum.column_name == 'Final score'\", \"value\": 1}, \"value\": 0.5}, \"tooltip\": [{\"field\": \"column_name\", \"title\": \"Comparison column\", \"type\": \"nominal\"}, {\"field\": \"value_l\", \"title\": \"Value (L)\", \"type\": \"nominal\"}, {\"field\": \"value_r\", \"title\": \"Value (R)\", \"type\": \"nominal\"}, {\"field\": \"label_for_charts\", \"title\": \"Label\", \"type\": \"ordinal\"}, {\"field\": \"sql_condition\", \"title\": \"SQL condition\", \"type\": \"nominal\"}, {\"field\": \"comparison_vector_value\", \"title\": \"Comparison vector value\", \"type\": \"nominal\"}, {\"field\": \"bayes_factor\", \"format\": \",.4f\", \"title\": \"Bayes factor = m/u\", \"type\": \"quantitative\"}, {\"field\": \"log2_bayes_factor\", \"format\": \",.4f\", \"title\": \"Match weight = log2(m/u)\", \"type\": \"quantitative\"}, {\"field\": \"prob\", \"format\": \".4f\", \"title\": \"Cumulative match probability\", \"type\": \"quantitative\"}, {\"field\": \"bayes_factor_description\", \"title\": \"Match weight description\", \"type\": \"nominal\"}], \"x\": {\"axis\": {\"grid\": true, \"labelAlign\": \"center\", \"labelAngle\": -20, \"labelExpr\": \"datum.value == 'Prior' || datum.value == 'Final score' ? '' : datum.value\", \"labelPadding\": 10, \"tickBand\": \"extent\", \"title\": \"Column\"}, \"field\": \"column_name\", \"sort\": {\"field\": \"bar_sort_order\", \"order\": \"ascending\"}, \"type\": \"nominal\"}, \"y\": {\"axis\": {\"grid\": false, \"orient\": \"left\", \"title\": \"Match Weight\"}, \"field\": \"previous_sum\", \"type\": \"quantitative\"}, \"y2\": {\"field\": \"sum\"}}}, {\"mark\": {\"type\": \"text\", \"fontWeight\": \"bold\"}, \"encoding\": {\"color\": {\"value\": \"white\"}, \"text\": {\"condition\": {\"test\": \"abs(datum.log2_bayes_factor) > 1\", \"field\": \"log2_bayes_factor\", \"format\": \".2f\", \"type\": \"nominal\"}, \"value\": \"\"}, \"x\": {\"axis\": {\"labelAngle\": -20, \"title\": \"Column\"}, \"field\": \"column_name\", \"sort\": {\"field\": \"bar_sort_order\", \"order\": \"ascending\"}, \"type\": \"nominal\"}, \"y\": {\"axis\": {\"orient\": \"left\"}, \"field\": \"center\", \"type\": \"quantitative\"}}}, {\"mark\": {\"type\": \"text\", \"baseline\": \"bottom\", \"dy\": -25, \"fontWeight\": \"bold\"}, \"encoding\": {\"color\": {\"value\": \"black\"}, \"text\": {\"field\": \"column_name\", \"type\": \"nominal\"}, \"x\": {\"axis\": {\"labelAngle\": -20, \"title\": \"Column\"}, \"field\": \"column_name\", \"sort\": {\"field\": \"bar_sort_order\", \"order\": \"ascending\"}, \"type\": \"nominal\"}, \"y\": {\"field\": \"sum_top\", \"type\": \"quantitative\"}}}, {\"mark\": {\"type\": \"text\", \"baseline\": \"bottom\", \"dy\": -13, \"fontSize\": 8}, \"encoding\": {\"color\": {\"value\": \"grey\"}, \"text\": {\"field\": \"value_l\", \"type\": \"nominal\"}, \"x\": {\"axis\": {\"labelAngle\": -20, \"title\": \"Column\"}, \"field\": \"column_name\", \"sort\": {\"field\": \"bar_sort_order\", \"order\": \"ascending\"}, \"type\": \"nominal\"}, \"y\": {\"field\": \"sum_top\", \"type\": \"quantitative\"}}}, {\"mark\": {\"type\": \"text\", \"baseline\": \"bottom\", \"dy\": -5, \"fontSize\": 8}, \"encoding\": {\"color\": {\"value\": \"grey\"}, \"text\": {\"field\": \"value_r\", \"type\": \"nominal\"}, \"x\": {\"axis\": {\"labelAngle\": -20, \"title\": \"Column\"}, \"field\": \"column_name\", \"sort\": {\"field\": \"bar_sort_order\", \"order\": \"ascending\"}, \"type\": \"nominal\"}, \"y\": {\"field\": \"sum_top\", \"type\": \"quantitative\"}}}]}, {\"mark\": {\"type\": \"rule\", \"color\": \"black\", \"strokeWidth\": 2, \"x2Offset\": 30, \"xOffset\": -30}, \"encoding\": {\"x\": {\"axis\": {\"labelAngle\": -20, \"title\": \"Column\"}, \"field\": \"column_name\", \"sort\": {\"field\": \"bar_sort_order\", \"order\": \"ascending\"}, \"type\": \"nominal\"}, \"x2\": {\"field\": \"lead\"}, \"y\": {\"axis\": {\"labelExpr\": \"format(1 / (1 + pow(2, -1*datum.value)), '.2r')\", \"orient\": \"right\", \"title\": \"Probability\"}, \"field\": \"sum\", \"scale\": {\"zero\": false}, \"type\": \"quantitative\"}}}], \"data\": {\"name\": \"data-78e6463f7e28bd132e8149d87650db76\"}, \"height\": 450, \"params\": [{\"name\": \"record_number\", \"bind\": {\"input\": \"range\", \"max\": 9, \"min\": 0, \"step\": 1}, \"value\": 0}], \"resolve\": {\"axis\": {\"y\": \"independent\"}}, \"title\": {\"text\": \"Match weights waterfall chart\", \"subtitle\": \"How each comparison contributes to the final match score\"}, \"transform\": [{\"filter\": \"(datum.record_number == record_number)\"}, {\"filter\": \"(datum.bayes_factor !== 1.0)\"}, {\"window\": [{\"op\": \"sum\", \"field\": \"log2_bayes_factor\", \"as\": \"sum\"}, {\"op\": \"lead\", \"field\": \"column_name\", \"as\": \"lead\"}], \"frame\": [null, 0]}, {\"calculate\": \"datum.column_name === \\\"Final score\\\" ? datum.sum - datum.log2_bayes_factor : datum.sum\", \"as\": \"sum\"}, {\"calculate\": \"datum.lead === null ? datum.column_name : datum.lead\", \"as\": \"lead\"}, {\"calculate\": \"datum.column_name === \\\"Final score\\\" || datum.column_name === \\\"Prior match weight\\\" ? 0 : datum.sum - datum.log2_bayes_factor\", \"as\": \"previous_sum\"}, {\"calculate\": \"datum.sum > datum.previous_sum ? datum.column_name : \\\"\\\"\", \"as\": \"top_label\"}, {\"calculate\": \"datum.sum < datum.previous_sum ? datum.column_name : \\\"\\\"\", \"as\": \"bottom_label\"}, {\"calculate\": \"datum.sum > datum.previous_sum ? datum.sum : datum.previous_sum\", \"as\": \"sum_top\"}, {\"calculate\": \"datum.sum < datum.previous_sum ? datum.sum : datum.previous_sum\", \"as\": \"sum_bottom\"}, {\"calculate\": \"(datum.sum + datum.previous_sum) / 2\", \"as\": \"center\"}, {\"calculate\": \"(datum.log2_bayes_factor > 0 ? \\\"+\\\" : \\\"\\\") + datum.log2_bayes_factor\", \"as\": \"text_log2_bayes_factor\"}, {\"calculate\": \"datum.sum < datum.previous_sum ? 4 : -4\", \"as\": \"dy\"}, {\"calculate\": \"datum.sum < datum.previous_sum ? \\\"top\\\" : \\\"bottom\\\"\", \"as\": \"baseline\"}, {\"calculate\": \"1. / (1 + pow(2, -1.*datum.sum))\", \"as\": \"prob\"}, {\"calculate\": \"0*datum.sum\", \"as\": \"zero\"}], \"width\": {\"step\": 75}, \"$schema\": \"https://vega.github.io/schema/vega-lite/v5.9.3.json\", \"datasets\": {\"data-78e6463f7e28bd132e8149d87650db76\": [{\"column_name\": \"Prior\", \"label_for_charts\": \"Starting match weight (prior)\", \"sql_condition\": null, \"log2_bayes_factor\": -13.696967526234287, \"bayes_factor\": 7.53012048192771e-05, \"comparison_vector_value\": null, \"m_probability\": null, \"u_probability\": null, \"bayes_factor_description\": null, \"value_l\": \"\", \"value_r\": \"\", \"term_frequency_adjustment\": null, \"bar_sort_order\": 0, \"record_number\": 0}, {\"column_name\": \"syn_g1_firstname\", \"label_for_charts\": \"Exact match\", \"sql_condition\": \"syn_g1_firstname_l = syn_g1_firstname_r\", \"log2_bayes_factor\": 7.639817306776756, \"bayes_factor\": 199.44087493923197, \"comparison_vector_value\": 2, \"m_probability\": 0.8640042356856517, \"u_probability\": 0.004332132196817261, \"bayes_factor_description\": \"If comparison level is `exact match` then comparison is 199.44 times more likely to be a match\", \"value_l\": \"Pearl\", \"value_r\": \"Pearl\", \"term_frequency_adjustment\": false, \"bar_sort_order\": 1, \"record_number\": 0}, {\"column_name\": \"tf_syn_g1_firstname\", \"label_for_charts\": \"Term freq adjustment on syn_g1_firstname with weight {cl.tf_adjustment_weight}\", \"sql_condition\": \"syn_g1_firstname_l = syn_g1_firstname_r\", \"log2_bayes_factor\": 2.115077268057669, \"bayes_factor\": 4.332132196817261, \"comparison_vector_value\": 2, \"m_probability\": null, \"u_probability\": null, \"bayes_factor_description\": \"Term frequency adjustment on syn_g1_firstname makes comparison 4.33 times more likely to be a match\", \"value_l\": \"Pearl\", \"value_r\": \"Pearl\", \"term_frequency_adjustment\": true, \"bar_sort_order\": 2, \"record_number\": 0}, {\"column_name\": \"syn_g1_surname\", \"label_for_charts\": \"Exact match\", \"sql_condition\": \"syn_g1_surname_l = syn_g1_surname_r\", \"log2_bayes_factor\": 9.897620889825705, \"bayes_factor\": 953.8515143834223, \"comparison_vector_value\": 2, \"m_probability\": 0.9284692417739628, \"u_probability\": 0.0009733897024571305, \"bayes_factor_description\": \"If comparison level is `exact match` then comparison is 953.85 times more likely to be a match\", \"value_l\": \"khan\", \"value_r\": \"khan\", \"term_frequency_adjustment\": false, \"bar_sort_order\": 3, \"record_number\": 0}, {\"column_name\": \"tf_syn_g1_surname\", \"label_for_charts\": \"Term freq adjustment on syn_g1_surname with weight {cl.tf_adjustment_weight}\", \"sql_condition\": \"syn_g1_surname_l = syn_g1_surname_r\", \"log2_bayes_factor\": -0.03891058253991509, \"bayes_factor\": 0.9733897024571304, \"comparison_vector_value\": 2, \"m_probability\": null, \"u_probability\": null, \"bayes_factor_description\": \"Term frequency adjustment on syn_g1_surname makes comparison  1.03 times less likely to be a match\", \"value_l\": \"khan\", \"value_r\": \"khan\", \"term_frequency_adjustment\": true, \"bar_sort_order\": 4, \"record_number\": 0}, {\"column_name\": \"syn_g0_surname\", \"label_for_charts\": \"Exact match\", \"sql_condition\": \"syn_g0_surname_l = syn_g0_surname_r\", \"log2_bayes_factor\": 10.062633541214772, \"bayes_factor\": 1069.435339533922, \"comparison_vector_value\": 2, \"m_probability\": 0.826217905278217, \"u_probability\": 0.0007725739693979973, \"bayes_factor_description\": \"If comparison level is `exact match` then comparison is 1,069.44 times more likely to be a match\", \"value_l\": \"khan\", \"value_r\": \"khan\", \"term_frequency_adjustment\": false, \"bar_sort_order\": 5, \"record_number\": 0}, {\"column_name\": \"tf_syn_g0_surname\", \"label_for_charts\": \"Term freq adjustment on syn_g0_surname with weight {cl.tf_adjustment_weight}\", \"sql_condition\": \"syn_g0_surname_l = syn_g0_surname_r\", \"log2_bayes_factor\": -0.3722550257217082, \"bayes_factor\": 0.7725739693979973, \"comparison_vector_value\": 2, \"m_probability\": null, \"u_probability\": null, \"bayes_factor_description\": \"Term frequency adjustment on syn_g0_surname makes comparison  1.29 times less likely to be a match\", \"value_l\": \"khan\", \"value_r\": \"khan\", \"term_frequency_adjustment\": true, \"bar_sort_order\": 6, \"record_number\": 0}, {\"column_name\": \"g1_dob_arc1\", \"label_for_charts\": \"Exact match\", \"sql_condition\": \"\\\"g1_dob_arc1_l\\\" = \\\"g1_dob_arc1_r\\\"\", \"log2_bayes_factor\": 9.18829855059523, \"bayes_factor\": 583.38260155303, \"comparison_vector_value\": 1, \"m_probability\": 0.9962352232512612, \"u_probability\": 0.0017076875803275092, \"bayes_factor_description\": \"If comparison level is `exact match` then comparison is 583.38 times more likely to be a match\", \"value_l\": \"1992-01-20\", \"value_r\": \"1992-01-20\", \"term_frequency_adjustment\": false, \"bar_sort_order\": 7, \"record_number\": 0}, {\"column_name\": \"g1_gender_arc\", \"label_for_charts\": \"Exact match\", \"sql_condition\": \"\\\"g1_gender_arc_l\\\" = \\\"g1_gender_arc_r\\\"\", \"log2_bayes_factor\": 0.9996771316993289, \"bayes_factor\": 1.9995524595759742, \"comparison_vector_value\": 1, \"m_probability\": 1.0, \"u_probability\": 0.500111910148164, \"bayes_factor_description\": \"If comparison level is `exact match` then comparison is 2.00 times more likely to be a match\", \"value_l\": \"Female\", \"value_r\": \"Female\", \"term_frequency_adjustment\": false, \"bar_sort_order\": 8, \"record_number\": 0}, {\"column_name\": \"Final score\", \"label_for_charts\": \"Final score\", \"sql_condition\": null, \"log2_bayes_factor\": 25.794991553673547, \"bayes_factor\": 58219194.922794595, \"comparison_vector_value\": null, \"m_probability\": null, \"u_probability\": null, \"bayes_factor_description\": null, \"value_l\": \"\", \"value_r\": \"\", \"term_frequency_adjustment\": null, \"bar_sort_order\": 9, \"record_number\": 0}, {\"column_name\": \"Prior\", \"label_for_charts\": \"Starting match weight (prior)\", \"sql_condition\": null, \"log2_bayes_factor\": -13.696967526234287, \"bayes_factor\": 7.53012048192771e-05, \"comparison_vector_value\": null, \"m_probability\": null, \"u_probability\": null, \"bayes_factor_description\": null, \"value_l\": \"\", \"value_r\": \"\", \"term_frequency_adjustment\": null, \"bar_sort_order\": 0, \"record_number\": 1}, {\"column_name\": \"syn_g1_firstname\", \"label_for_charts\": \"Exact match\", \"sql_condition\": \"syn_g1_firstname_l = syn_g1_firstname_r\", \"log2_bayes_factor\": 7.639817306776756, \"bayes_factor\": 199.44087493923197, \"comparison_vector_value\": 2, \"m_probability\": 0.8640042356856517, \"u_probability\": 0.004332132196817261, \"bayes_factor_description\": \"If comparison level is `exact match` then comparison is 199.44 times more likely to be a match\", \"value_l\": \"Liyana\", \"value_r\": \"Liyana\", \"term_frequency_adjustment\": false, \"bar_sort_order\": 1, \"record_number\": 1}, {\"column_name\": \"tf_syn_g1_firstname\", \"label_for_charts\": \"Term freq adjustment on syn_g1_firstname with weight {cl.tf_adjustment_weight}\", \"sql_condition\": \"syn_g1_firstname_l = syn_g1_firstname_r\", \"log2_bayes_factor\": 2.115077268057669, \"bayes_factor\": 4.332132196817261, \"comparison_vector_value\": 2, \"m_probability\": null, \"u_probability\": null, \"bayes_factor_description\": \"Term frequency adjustment on syn_g1_firstname makes comparison 4.33 times more likely to be a match\", \"value_l\": \"Liyana\", \"value_r\": \"Liyana\", \"term_frequency_adjustment\": true, \"bar_sort_order\": 2, \"record_number\": 1}, {\"column_name\": \"syn_g1_surname\", \"label_for_charts\": \"Exact match\", \"sql_condition\": \"syn_g1_surname_l = syn_g1_surname_r\", \"log2_bayes_factor\": 9.897620889825705, \"bayes_factor\": 953.8515143834223, \"comparison_vector_value\": 2, \"m_probability\": 0.9284692417739628, \"u_probability\": 0.0009733897024571305, \"bayes_factor_description\": \"If comparison level is `exact match` then comparison is 953.85 times more likely to be a match\", \"value_l\": \"fitzgerald\", \"value_r\": \"fitzgerald\", \"term_frequency_adjustment\": false, \"bar_sort_order\": 3, \"record_number\": 1}, {\"column_name\": \"tf_syn_g1_surname\", \"label_for_charts\": \"Term freq adjustment on syn_g1_surname with weight {cl.tf_adjustment_weight}\", \"sql_condition\": \"syn_g1_surname_l = syn_g1_surname_r\", \"log2_bayes_factor\": -0.03891058253991509, \"bayes_factor\": 0.9733897024571304, \"comparison_vector_value\": 2, \"m_probability\": null, \"u_probability\": null, \"bayes_factor_description\": \"Term frequency adjustment on syn_g1_surname makes comparison  1.03 times less likely to be a match\", \"value_l\": \"fitzgerald\", \"value_r\": \"fitzgerald\", \"term_frequency_adjustment\": true, \"bar_sort_order\": 4, \"record_number\": 1}, {\"column_name\": \"syn_g0_surname\", \"label_for_charts\": \"All other comparisons\", \"sql_condition\": \"ELSE\", \"log2_bayes_factor\": -2.559699048412092, \"bayes_factor\": 0.16961091871363781, \"comparison_vector_value\": 0, \"m_probability\": 0.16888788494842255, \"u_probability\": 0.9957371036564221, \"bayes_factor_description\": \"If comparison level is `all other comparisons` then comparison is  5.90 times less likely to be a match\", \"value_l\": \"fitzgerald\", \"value_r\": \"k\\u014di\", \"term_frequency_adjustment\": false, \"bar_sort_order\": 5, \"record_number\": 1}, {\"column_name\": \"tf_syn_g0_surname\", \"label_for_charts\": \"All other comparisons\", \"sql_condition\": \"ELSE\", \"log2_bayes_factor\": 0.0, \"bayes_factor\": 1.0, \"comparison_vector_value\": 0, \"m_probability\": 0.16888788494842255, \"u_probability\": 0.9957371036564221, \"bayes_factor_description\": \"If comparison level is `all other comparisons` then comparison is  5.90 times less likely to be a match\", \"value_l\": \"\", \"value_r\": \"\", \"term_frequency_adjustment\": true, \"bar_sort_order\": 6, \"record_number\": 1}, {\"column_name\": \"g1_dob_arc1\", \"label_for_charts\": \"Exact match\", \"sql_condition\": \"\\\"g1_dob_arc1_l\\\" = \\\"g1_dob_arc1_r\\\"\", \"log2_bayes_factor\": 9.18829855059523, \"bayes_factor\": 583.38260155303, \"comparison_vector_value\": 1, \"m_probability\": 0.9962352232512612, \"u_probability\": 0.0017076875803275092, \"bayes_factor_description\": \"If comparison level is `exact match` then comparison is 583.38 times more likely to be a match\", \"value_l\": \"1992-11-02\", \"value_r\": \"1992-11-02\", \"term_frequency_adjustment\": false, \"bar_sort_order\": 7, \"record_number\": 1}, {\"column_name\": \"g1_gender_arc\", \"label_for_charts\": \"Exact match\", \"sql_condition\": \"\\\"g1_gender_arc_l\\\" = \\\"g1_gender_arc_r\\\"\", \"log2_bayes_factor\": 0.9996771316993289, \"bayes_factor\": 1.9995524595759742, \"comparison_vector_value\": 1, \"m_probability\": 1.0, \"u_probability\": 0.500111910148164, \"bayes_factor_description\": \"If comparison level is `exact match` then comparison is 2.00 times more likely to be a match\", \"value_l\": \"Female\", \"value_r\": \"Female\", \"term_frequency_adjustment\": false, \"bar_sort_order\": 8, \"record_number\": 1}, {\"column_name\": \"Final score\", \"label_for_charts\": \"Final score\", \"sql_condition\": null, \"log2_bayes_factor\": 13.544913989768393, \"bayes_factor\": 11951.582112346528, \"comparison_vector_value\": null, \"m_probability\": null, \"u_probability\": null, \"bayes_factor_description\": null, \"value_l\": \"\", \"value_r\": \"\", \"term_frequency_adjustment\": null, \"bar_sort_order\": 9, \"record_number\": 1}, {\"column_name\": \"Prior\", \"label_for_charts\": \"Starting match weight (prior)\", \"sql_condition\": null, \"log2_bayes_factor\": -13.696967526234287, \"bayes_factor\": 7.53012048192771e-05, \"comparison_vector_value\": null, \"m_probability\": null, \"u_probability\": null, \"bayes_factor_description\": null, \"value_l\": \"\", \"value_r\": \"\", \"term_frequency_adjustment\": null, \"bar_sort_order\": 0, \"record_number\": 2}, {\"column_name\": \"syn_g1_firstname\", \"label_for_charts\": \"Exact match\", \"sql_condition\": \"syn_g1_firstname_l = syn_g1_firstname_r\", \"log2_bayes_factor\": 7.639817306776756, \"bayes_factor\": 199.44087493923197, \"comparison_vector_value\": 2, \"m_probability\": 0.8640042356856517, \"u_probability\": 0.004332132196817261, \"bayes_factor_description\": \"If comparison level is `exact match` then comparison is 199.44 times more likely to be a match\", \"value_l\": \"Lina\", \"value_r\": \"Lina\", \"term_frequency_adjustment\": false, \"bar_sort_order\": 1, \"record_number\": 2}, {\"column_name\": \"tf_syn_g1_firstname\", \"label_for_charts\": \"Term freq adjustment on syn_g1_firstname with weight {cl.tf_adjustment_weight}\", \"sql_condition\": \"syn_g1_firstname_l = syn_g1_firstname_r\", \"log2_bayes_factor\": 2.115077268057669, \"bayes_factor\": 4.332132196817261, \"comparison_vector_value\": 2, \"m_probability\": null, \"u_probability\": null, \"bayes_factor_description\": \"Term frequency adjustment on syn_g1_firstname makes comparison 4.33 times more likely to be a match\", \"value_l\": \"Lina\", \"value_r\": \"Lina\", \"term_frequency_adjustment\": true, \"bar_sort_order\": 2, \"record_number\": 2}, {\"column_name\": \"syn_g1_surname\", \"label_for_charts\": \"Exact match\", \"sql_condition\": \"syn_g1_surname_l = syn_g1_surname_r\", \"log2_bayes_factor\": 9.897620889825705, \"bayes_factor\": 953.8515143834223, \"comparison_vector_value\": 2, \"m_probability\": 0.9284692417739628, \"u_probability\": 0.0009733897024571305, \"bayes_factor_description\": \"If comparison level is `exact match` then comparison is 953.85 times more likely to be a match\", \"value_l\": \"chen\", \"value_r\": \"chen\", \"term_frequency_adjustment\": false, \"bar_sort_order\": 3, \"record_number\": 2}, {\"column_name\": \"tf_syn_g1_surname\", \"label_for_charts\": \"Term freq adjustment on syn_g1_surname with weight {cl.tf_adjustment_weight}\", \"sql_condition\": \"syn_g1_surname_l = syn_g1_surname_r\", \"log2_bayes_factor\": -0.03891058253991509, \"bayes_factor\": 0.9733897024571304, \"comparison_vector_value\": 2, \"m_probability\": null, \"u_probability\": null, \"bayes_factor_description\": \"Term frequency adjustment on syn_g1_surname makes comparison  1.03 times less likely to be a match\", \"value_l\": \"chen\", \"value_r\": \"chen\", \"term_frequency_adjustment\": true, \"bar_sort_order\": 4, \"record_number\": 2}, {\"column_name\": \"syn_g0_surname\", \"label_for_charts\": \"All other comparisons\", \"sql_condition\": \"ELSE\", \"log2_bayes_factor\": -2.559699048412092, \"bayes_factor\": 0.16961091871363781, \"comparison_vector_value\": 0, \"m_probability\": 0.16888788494842255, \"u_probability\": 0.9957371036564221, \"bayes_factor_description\": \"If comparison level is `all other comparisons` then comparison is  5.90 times less likely to be a match\", \"value_l\": \"chen\", \"value_r\": \"hisayasu\", \"term_frequency_adjustment\": false, \"bar_sort_order\": 5, \"record_number\": 2}, {\"column_name\": \"tf_syn_g0_surname\", \"label_for_charts\": \"All other comparisons\", \"sql_condition\": \"ELSE\", \"log2_bayes_factor\": 0.0, \"bayes_factor\": 1.0, \"comparison_vector_value\": 0, \"m_probability\": 0.16888788494842255, \"u_probability\": 0.9957371036564221, \"bayes_factor_description\": \"If comparison level is `all other comparisons` then comparison is  5.90 times less likely to be a match\", \"value_l\": \"\", \"value_r\": \"\", \"term_frequency_adjustment\": true, \"bar_sort_order\": 6, \"record_number\": 2}, {\"column_name\": \"g1_dob_arc1\", \"label_for_charts\": \"Exact match\", \"sql_condition\": \"\\\"g1_dob_arc1_l\\\" = \\\"g1_dob_arc1_r\\\"\", \"log2_bayes_factor\": 9.18829855059523, \"bayes_factor\": 583.38260155303, \"comparison_vector_value\": 1, \"m_probability\": 0.9962352232512612, \"u_probability\": 0.0017076875803275092, \"bayes_factor_description\": \"If comparison level is `exact match` then comparison is 583.38 times more likely to be a match\", \"value_l\": \"1991-04-17\", \"value_r\": \"1991-04-17\", \"term_frequency_adjustment\": false, \"bar_sort_order\": 7, \"record_number\": 2}, {\"column_name\": \"g1_gender_arc\", \"label_for_charts\": \"Exact match\", \"sql_condition\": \"\\\"g1_gender_arc_l\\\" = \\\"g1_gender_arc_r\\\"\", \"log2_bayes_factor\": 0.9996771316993289, \"bayes_factor\": 1.9995524595759742, \"comparison_vector_value\": 1, \"m_probability\": 1.0, \"u_probability\": 0.500111910148164, \"bayes_factor_description\": \"If comparison level is `exact match` then comparison is 2.00 times more likely to be a match\", \"value_l\": \"Female\", \"value_r\": \"Female\", \"term_frequency_adjustment\": false, \"bar_sort_order\": 8, \"record_number\": 2}, {\"column_name\": \"Final score\", \"label_for_charts\": \"Final score\", \"sql_condition\": null, \"log2_bayes_factor\": 13.544913989768393, \"bayes_factor\": 11951.582112346528, \"comparison_vector_value\": null, \"m_probability\": null, \"u_probability\": null, \"bayes_factor_description\": null, \"value_l\": \"\", \"value_r\": \"\", \"term_frequency_adjustment\": null, \"bar_sort_order\": 9, \"record_number\": 2}, {\"column_name\": \"Prior\", \"label_for_charts\": \"Starting match weight (prior)\", \"sql_condition\": null, \"log2_bayes_factor\": -13.696967526234287, \"bayes_factor\": 7.53012048192771e-05, \"comparison_vector_value\": null, \"m_probability\": null, \"u_probability\": null, \"bayes_factor_description\": null, \"value_l\": \"\", \"value_r\": \"\", \"term_frequency_adjustment\": null, \"bar_sort_order\": 0, \"record_number\": 3}, {\"column_name\": \"syn_g1_firstname\", \"label_for_charts\": \"Exact match\", \"sql_condition\": \"syn_g1_firstname_l = syn_g1_firstname_r\", \"log2_bayes_factor\": 7.639817306776756, \"bayes_factor\": 199.44087493923197, \"comparison_vector_value\": 2, \"m_probability\": 0.8640042356856517, \"u_probability\": 0.004332132196817261, \"bayes_factor_description\": \"If comparison level is `exact match` then comparison is 199.44 times more likely to be a match\", \"value_l\": \"Demi Fatimah\", \"value_r\": \"Demi Fatimah\", \"term_frequency_adjustment\": false, \"bar_sort_order\": 1, \"record_number\": 3}, {\"column_name\": \"tf_syn_g1_firstname\", \"label_for_charts\": \"Term freq adjustment on syn_g1_firstname with weight {cl.tf_adjustment_weight}\", \"sql_condition\": \"syn_g1_firstname_l = syn_g1_firstname_r\", \"log2_bayes_factor\": 2.115077268057669, \"bayes_factor\": 4.332132196817261, \"comparison_vector_value\": 2, \"m_probability\": null, \"u_probability\": null, \"bayes_factor_description\": \"Term frequency adjustment on syn_g1_firstname makes comparison 4.33 times more likely to be a match\", \"value_l\": \"Demi Fatimah\", \"value_r\": \"Demi Fatimah\", \"term_frequency_adjustment\": true, \"bar_sort_order\": 2, \"record_number\": 3}, {\"column_name\": \"syn_g1_surname\", \"label_for_charts\": \"All other comparisons\", \"sql_condition\": \"ELSE\", \"log2_bayes_factor\": -3.8196095967228723, \"bayes_factor\": 0.07082440581313701, \"comparison_vector_value\": 0, \"m_probability\": 0.07047662073639033, \"u_probability\": 0.9950894741331925, \"bayes_factor_description\": \"If comparison level is `all other comparisons` then comparison is  14.12 times less likely to be a match\", \"value_l\": \"ali\", \"value_r\": \"andre\\u00e6\", \"term_frequency_adjustment\": false, \"bar_sort_order\": 3, \"record_number\": 3}, {\"column_name\": \"tf_syn_g1_surname\", \"label_for_charts\": \"All other comparisons\", \"sql_condition\": \"ELSE\", \"log2_bayes_factor\": 0.0, \"bayes_factor\": 1.0, \"comparison_vector_value\": 0, \"m_probability\": 0.07047662073639033, \"u_probability\": 0.9950894741331925, \"bayes_factor_description\": \"If comparison level is `all other comparisons` then comparison is  14.12 times less likely to be a match\", \"value_l\": \"\", \"value_r\": \"\", \"term_frequency_adjustment\": true, \"bar_sort_order\": 4, \"record_number\": 3}, {\"column_name\": \"syn_g0_surname\", \"label_for_charts\": \"All other comparisons\", \"sql_condition\": \"ELSE\", \"log2_bayes_factor\": -2.559699048412092, \"bayes_factor\": 0.16961091871363781, \"comparison_vector_value\": 0, \"m_probability\": 0.16888788494842255, \"u_probability\": 0.9957371036564221, \"bayes_factor_description\": \"If comparison level is `all other comparisons` then comparison is  5.90 times less likely to be a match\", \"value_l\": \"ali\", \"value_r\": \"blacksmith\", \"term_frequency_adjustment\": false, \"bar_sort_order\": 5, \"record_number\": 3}, {\"column_name\": \"tf_syn_g0_surname\", \"label_for_charts\": \"All other comparisons\", \"sql_condition\": \"ELSE\", \"log2_bayes_factor\": 0.0, \"bayes_factor\": 1.0, \"comparison_vector_value\": 0, \"m_probability\": 0.16888788494842255, \"u_probability\": 0.9957371036564221, \"bayes_factor_description\": \"If comparison level is `all other comparisons` then comparison is  5.90 times less likely to be a match\", \"value_l\": \"\", \"value_r\": \"\", \"term_frequency_adjustment\": true, \"bar_sort_order\": 6, \"record_number\": 3}, {\"column_name\": \"g1_dob_arc1\", \"label_for_charts\": \"Exact match\", \"sql_condition\": \"\\\"g1_dob_arc1_l\\\" = \\\"g1_dob_arc1_r\\\"\", \"log2_bayes_factor\": 9.18829855059523, \"bayes_factor\": 583.38260155303, \"comparison_vector_value\": 1, \"m_probability\": 0.9962352232512612, \"u_probability\": 0.0017076875803275092, \"bayes_factor_description\": \"If comparison level is `exact match` then comparison is 583.38 times more likely to be a match\", \"value_l\": \"1992-01-04\", \"value_r\": \"1992-01-04\", \"term_frequency_adjustment\": false, \"bar_sort_order\": 7, \"record_number\": 3}, {\"column_name\": \"g1_gender_arc\", \"label_for_charts\": \"Exact match\", \"sql_condition\": \"\\\"g1_gender_arc_l\\\" = \\\"g1_gender_arc_r\\\"\", \"log2_bayes_factor\": 0.9996771316993289, \"bayes_factor\": 1.9995524595759742, \"comparison_vector_value\": 1, \"m_probability\": 1.0, \"u_probability\": 0.500111910148164, \"bayes_factor_description\": \"If comparison level is `exact match` then comparison is 2.00 times more likely to be a match\", \"value_l\": \"Female\", \"value_r\": \"Female\", \"term_frequency_adjustment\": false, \"bar_sort_order\": 8, \"record_number\": 3}, {\"column_name\": \"Final score\", \"label_for_charts\": \"Final score\", \"sql_condition\": null, \"log2_bayes_factor\": -0.13340591424026846, \"bayes_factor\": 0.9116766216364683, \"comparison_vector_value\": null, \"m_probability\": null, \"u_probability\": null, \"bayes_factor_description\": null, \"value_l\": \"\", \"value_r\": \"\", \"term_frequency_adjustment\": null, \"bar_sort_order\": 9, \"record_number\": 3}, {\"column_name\": \"Prior\", \"label_for_charts\": \"Starting match weight (prior)\", \"sql_condition\": null, \"log2_bayes_factor\": -13.696967526234287, \"bayes_factor\": 7.53012048192771e-05, \"comparison_vector_value\": null, \"m_probability\": null, \"u_probability\": null, \"bayes_factor_description\": null, \"value_l\": \"\", \"value_r\": \"\", \"term_frequency_adjustment\": null, \"bar_sort_order\": 0, \"record_number\": 4}, {\"column_name\": \"syn_g1_firstname\", \"label_for_charts\": \"Exact match\", \"sql_condition\": \"syn_g1_firstname_l = syn_g1_firstname_r\", \"log2_bayes_factor\": 7.639817306776756, \"bayes_factor\": 199.44087493923197, \"comparison_vector_value\": 2, \"m_probability\": 0.8640042356856517, \"u_probability\": 0.004332132196817261, \"bayes_factor_description\": \"If comparison level is `exact match` then comparison is 199.44 times more likely to be a match\", \"value_l\": \"Fatima\", \"value_r\": \"Fatima\", \"term_frequency_adjustment\": false, \"bar_sort_order\": 1, \"record_number\": 4}, {\"column_name\": \"tf_syn_g1_firstname\", \"label_for_charts\": \"Term freq adjustment on syn_g1_firstname with weight {cl.tf_adjustment_weight}\", \"sql_condition\": \"syn_g1_firstname_l = syn_g1_firstname_r\", \"log2_bayes_factor\": 2.115077268057669, \"bayes_factor\": 4.332132196817261, \"comparison_vector_value\": 2, \"m_probability\": null, \"u_probability\": null, \"bayes_factor_description\": \"Term frequency adjustment on syn_g1_firstname makes comparison 4.33 times more likely to be a match\", \"value_l\": \"Fatima\", \"value_r\": \"Fatima\", \"term_frequency_adjustment\": true, \"bar_sort_order\": 2, \"record_number\": 4}, {\"column_name\": \"syn_g1_surname\", \"label_for_charts\": \"Exact match\", \"sql_condition\": \"syn_g1_surname_l = syn_g1_surname_r\", \"log2_bayes_factor\": 9.897620889825705, \"bayes_factor\": 953.8515143834223, \"comparison_vector_value\": 2, \"m_probability\": 0.9284692417739628, \"u_probability\": 0.0009733897024571305, \"bayes_factor_description\": \"If comparison level is `exact match` then comparison is 953.85 times more likely to be a match\", \"value_l\": \"ali\", \"value_r\": \"ali\", \"term_frequency_adjustment\": false, \"bar_sort_order\": 3, \"record_number\": 4}, {\"column_name\": \"tf_syn_g1_surname\", \"label_for_charts\": \"Term freq adjustment on syn_g1_surname with weight {cl.tf_adjustment_weight}\", \"sql_condition\": \"syn_g1_surname_l = syn_g1_surname_r\", \"log2_bayes_factor\": -0.03891058253991509, \"bayes_factor\": 0.9733897024571304, \"comparison_vector_value\": 2, \"m_probability\": null, \"u_probability\": null, \"bayes_factor_description\": \"Term frequency adjustment on syn_g1_surname makes comparison  1.03 times less likely to be a match\", \"value_l\": \"ali\", \"value_r\": \"ali\", \"term_frequency_adjustment\": true, \"bar_sort_order\": 4, \"record_number\": 4}, {\"column_name\": \"syn_g0_surname\", \"label_for_charts\": \"Exact match\", \"sql_condition\": \"syn_g0_surname_l = syn_g0_surname_r\", \"log2_bayes_factor\": 10.062633541214772, \"bayes_factor\": 1069.435339533922, \"comparison_vector_value\": 2, \"m_probability\": 0.826217905278217, \"u_probability\": 0.0007725739693979973, \"bayes_factor_description\": \"If comparison level is `exact match` then comparison is 1,069.44 times more likely to be a match\", \"value_l\": \"ali\", \"value_r\": \"ali\", \"term_frequency_adjustment\": false, \"bar_sort_order\": 5, \"record_number\": 4}, {\"column_name\": \"tf_syn_g0_surname\", \"label_for_charts\": \"Term freq adjustment on syn_g0_surname with weight {cl.tf_adjustment_weight}\", \"sql_condition\": \"syn_g0_surname_l = syn_g0_surname_r\", \"log2_bayes_factor\": -0.3722550257217082, \"bayes_factor\": 0.7725739693979973, \"comparison_vector_value\": 2, \"m_probability\": null, \"u_probability\": null, \"bayes_factor_description\": \"Term frequency adjustment on syn_g0_surname makes comparison  1.29 times less likely to be a match\", \"value_l\": \"ali\", \"value_r\": \"ali\", \"term_frequency_adjustment\": true, \"bar_sort_order\": 6, \"record_number\": 4}, {\"column_name\": \"g1_dob_arc1\", \"label_for_charts\": \"Exact match\", \"sql_condition\": \"\\\"g1_dob_arc1_l\\\" = \\\"g1_dob_arc1_r\\\"\", \"log2_bayes_factor\": 9.18829855059523, \"bayes_factor\": 583.38260155303, \"comparison_vector_value\": 1, \"m_probability\": 0.9962352232512612, \"u_probability\": 0.0017076875803275092, \"bayes_factor_description\": \"If comparison level is `exact match` then comparison is 583.38 times more likely to be a match\", \"value_l\": \"1991-07-04\", \"value_r\": \"1991-07-04\", \"term_frequency_adjustment\": false, \"bar_sort_order\": 7, \"record_number\": 4}, {\"column_name\": \"g1_gender_arc\", \"label_for_charts\": \"Exact match\", \"sql_condition\": \"\\\"g1_gender_arc_l\\\" = \\\"g1_gender_arc_r\\\"\", \"log2_bayes_factor\": 0.9996771316993289, \"bayes_factor\": 1.9995524595759742, \"comparison_vector_value\": 1, \"m_probability\": 1.0, \"u_probability\": 0.500111910148164, \"bayes_factor_description\": \"If comparison level is `exact match` then comparison is 2.00 times more likely to be a match\", \"value_l\": \"Female\", \"value_r\": \"Female\", \"term_frequency_adjustment\": false, \"bar_sort_order\": 8, \"record_number\": 4}, {\"column_name\": \"Final score\", \"label_for_charts\": \"Final score\", \"sql_condition\": null, \"log2_bayes_factor\": 25.794991553673547, \"bayes_factor\": 58219194.922794595, \"comparison_vector_value\": null, \"m_probability\": null, \"u_probability\": null, \"bayes_factor_description\": null, \"value_l\": \"\", \"value_r\": \"\", \"term_frequency_adjustment\": null, \"bar_sort_order\": 9, \"record_number\": 4}, {\"column_name\": \"Prior\", \"label_for_charts\": \"Starting match weight (prior)\", \"sql_condition\": null, \"log2_bayes_factor\": -13.696967526234287, \"bayes_factor\": 7.53012048192771e-05, \"comparison_vector_value\": null, \"m_probability\": null, \"u_probability\": null, \"bayes_factor_description\": null, \"value_l\": \"\", \"value_r\": \"\", \"term_frequency_adjustment\": null, \"bar_sort_order\": 0, \"record_number\": 5}, {\"column_name\": \"syn_g1_firstname\", \"label_for_charts\": \"Exact match\", \"sql_condition\": \"syn_g1_firstname_l = syn_g1_firstname_r\", \"log2_bayes_factor\": 7.639817306776756, \"bayes_factor\": 199.44087493923197, \"comparison_vector_value\": 2, \"m_probability\": 0.8640042356856517, \"u_probability\": 0.004332132196817261, \"bayes_factor_description\": \"If comparison level is `exact match` then comparison is 199.44 times more likely to be a match\", \"value_l\": \"Humaira\", \"value_r\": \"Humaira\", \"term_frequency_adjustment\": false, \"bar_sort_order\": 1, \"record_number\": 5}, {\"column_name\": \"tf_syn_g1_firstname\", \"label_for_charts\": \"Term freq adjustment on syn_g1_firstname with weight {cl.tf_adjustment_weight}\", \"sql_condition\": \"syn_g1_firstname_l = syn_g1_firstname_r\", \"log2_bayes_factor\": 2.115077268057669, \"bayes_factor\": 4.332132196817261, \"comparison_vector_value\": 2, \"m_probability\": null, \"u_probability\": null, \"bayes_factor_description\": \"Term frequency adjustment on syn_g1_firstname makes comparison 4.33 times more likely to be a match\", \"value_l\": \"Humaira\", \"value_r\": \"Humaira\", \"term_frequency_adjustment\": true, \"bar_sort_order\": 2, \"record_number\": 5}, {\"column_name\": \"syn_g1_surname\", \"label_for_charts\": \"Exact match\", \"sql_condition\": \"syn_g1_surname_l = syn_g1_surname_r\", \"log2_bayes_factor\": 9.897620889825705, \"bayes_factor\": 953.8515143834223, \"comparison_vector_value\": 2, \"m_probability\": 0.9284692417739628, \"u_probability\": 0.0009733897024571305, \"bayes_factor_description\": \"If comparison level is `exact match` then comparison is 953.85 times more likely to be a match\", \"value_l\": \"tailor\", \"value_r\": \"tailor\", \"term_frequency_adjustment\": false, \"bar_sort_order\": 3, \"record_number\": 5}, {\"column_name\": \"tf_syn_g1_surname\", \"label_for_charts\": \"Term freq adjustment on syn_g1_surname with weight {cl.tf_adjustment_weight}\", \"sql_condition\": \"syn_g1_surname_l = syn_g1_surname_r\", \"log2_bayes_factor\": -0.03891058253991509, \"bayes_factor\": 0.9733897024571304, \"comparison_vector_value\": 2, \"m_probability\": null, \"u_probability\": null, \"bayes_factor_description\": \"Term frequency adjustment on syn_g1_surname makes comparison  1.03 times less likely to be a match\", \"value_l\": \"tailor\", \"value_r\": \"tailor\", \"term_frequency_adjustment\": true, \"bar_sort_order\": 4, \"record_number\": 5}, {\"column_name\": \"syn_g0_surname\", \"label_for_charts\": \"Exact match\", \"sql_condition\": \"syn_g0_surname_l = syn_g0_surname_r\", \"log2_bayes_factor\": 10.062633541214772, \"bayes_factor\": 1069.435339533922, \"comparison_vector_value\": 2, \"m_probability\": 0.826217905278217, \"u_probability\": 0.0007725739693979973, \"bayes_factor_description\": \"If comparison level is `exact match` then comparison is 1,069.44 times more likely to be a match\", \"value_l\": \"tailor\", \"value_r\": \"tailor\", \"term_frequency_adjustment\": false, \"bar_sort_order\": 5, \"record_number\": 5}, {\"column_name\": \"tf_syn_g0_surname\", \"label_for_charts\": \"Term freq adjustment on syn_g0_surname with weight {cl.tf_adjustment_weight}\", \"sql_condition\": \"syn_g0_surname_l = syn_g0_surname_r\", \"log2_bayes_factor\": -0.3722550257217082, \"bayes_factor\": 0.7725739693979973, \"comparison_vector_value\": 2, \"m_probability\": null, \"u_probability\": null, \"bayes_factor_description\": \"Term frequency adjustment on syn_g0_surname makes comparison  1.29 times less likely to be a match\", \"value_l\": \"tailor\", \"value_r\": \"tailor\", \"term_frequency_adjustment\": true, \"bar_sort_order\": 6, \"record_number\": 5}, {\"column_name\": \"g1_dob_arc1\", \"label_for_charts\": \"Exact match\", \"sql_condition\": \"\\\"g1_dob_arc1_l\\\" = \\\"g1_dob_arc1_r\\\"\", \"log2_bayes_factor\": 9.18829855059523, \"bayes_factor\": 583.38260155303, \"comparison_vector_value\": 1, \"m_probability\": 0.9962352232512612, \"u_probability\": 0.0017076875803275092, \"bayes_factor_description\": \"If comparison level is `exact match` then comparison is 583.38 times more likely to be a match\", \"value_l\": \"1991-12-17\", \"value_r\": \"1991-12-17\", \"term_frequency_adjustment\": false, \"bar_sort_order\": 7, \"record_number\": 5}, {\"column_name\": \"g1_gender_arc\", \"label_for_charts\": \"Exact match\", \"sql_condition\": \"\\\"g1_gender_arc_l\\\" = \\\"g1_gender_arc_r\\\"\", \"log2_bayes_factor\": 0.9996771316993289, \"bayes_factor\": 1.9995524595759742, \"comparison_vector_value\": 1, \"m_probability\": 1.0, \"u_probability\": 0.500111910148164, \"bayes_factor_description\": \"If comparison level is `exact match` then comparison is 2.00 times more likely to be a match\", \"value_l\": \"Female\", \"value_r\": \"Female\", \"term_frequency_adjustment\": false, \"bar_sort_order\": 8, \"record_number\": 5}, {\"column_name\": \"Final score\", \"label_for_charts\": \"Final score\", \"sql_condition\": null, \"log2_bayes_factor\": 25.794991553673547, \"bayes_factor\": 58219194.922794595, \"comparison_vector_value\": null, \"m_probability\": null, \"u_probability\": null, \"bayes_factor_description\": null, \"value_l\": \"\", \"value_r\": \"\", \"term_frequency_adjustment\": null, \"bar_sort_order\": 9, \"record_number\": 5}, {\"column_name\": \"Prior\", \"label_for_charts\": \"Starting match weight (prior)\", \"sql_condition\": null, \"log2_bayes_factor\": -13.696967526234287, \"bayes_factor\": 7.53012048192771e-05, \"comparison_vector_value\": null, \"m_probability\": null, \"u_probability\": null, \"bayes_factor_description\": null, \"value_l\": \"\", \"value_r\": \"\", \"term_frequency_adjustment\": null, \"bar_sort_order\": 0, \"record_number\": 6}, {\"column_name\": \"syn_g1_firstname\", \"label_for_charts\": \"Exact match\", \"sql_condition\": \"syn_g1_firstname_l = syn_g1_firstname_r\", \"log2_bayes_factor\": 7.639817306776756, \"bayes_factor\": 199.44087493923197, \"comparison_vector_value\": 2, \"m_probability\": 0.8640042356856517, \"u_probability\": 0.004332132196817261, \"bayes_factor_description\": \"If comparison level is `exact match` then comparison is 199.44 times more likely to be a match\", \"value_l\": \"Yasmin\", \"value_r\": \"Yasmin\", \"term_frequency_adjustment\": false, \"bar_sort_order\": 1, \"record_number\": 6}, {\"column_name\": \"tf_syn_g1_firstname\", \"label_for_charts\": \"Term freq adjustment on syn_g1_firstname with weight {cl.tf_adjustment_weight}\", \"sql_condition\": \"syn_g1_firstname_l = syn_g1_firstname_r\", \"log2_bayes_factor\": 2.115077268057669, \"bayes_factor\": 4.332132196817261, \"comparison_vector_value\": 2, \"m_probability\": null, \"u_probability\": null, \"bayes_factor_description\": \"Term frequency adjustment on syn_g1_firstname makes comparison 4.33 times more likely to be a match\", \"value_l\": \"Yasmin\", \"value_r\": \"Yasmin\", \"term_frequency_adjustment\": true, \"bar_sort_order\": 2, \"record_number\": 6}, {\"column_name\": \"syn_g1_surname\", \"label_for_charts\": \"Exact match\", \"sql_condition\": \"syn_g1_surname_l = syn_g1_surname_r\", \"log2_bayes_factor\": 9.897620889825705, \"bayes_factor\": 953.8515143834223, \"comparison_vector_value\": 2, \"m_probability\": 0.9284692417739628, \"u_probability\": 0.0009733897024571305, \"bayes_factor_description\": \"If comparison level is `exact match` then comparison is 953.85 times more likely to be a match\", \"value_l\": \"gibson\", \"value_r\": \"gibson\", \"term_frequency_adjustment\": false, \"bar_sort_order\": 3, \"record_number\": 6}, {\"column_name\": \"tf_syn_g1_surname\", \"label_for_charts\": \"Term freq adjustment on syn_g1_surname with weight {cl.tf_adjustment_weight}\", \"sql_condition\": \"syn_g1_surname_l = syn_g1_surname_r\", \"log2_bayes_factor\": -0.03891058253991509, \"bayes_factor\": 0.9733897024571304, \"comparison_vector_value\": 2, \"m_probability\": null, \"u_probability\": null, \"bayes_factor_description\": \"Term frequency adjustment on syn_g1_surname makes comparison  1.03 times less likely to be a match\", \"value_l\": \"gibson\", \"value_r\": \"gibson\", \"term_frequency_adjustment\": true, \"bar_sort_order\": 4, \"record_number\": 6}, {\"column_name\": \"syn_g0_surname\", \"label_for_charts\": \"Exact match\", \"sql_condition\": \"syn_g0_surname_l = syn_g0_surname_r\", \"log2_bayes_factor\": 10.062633541214772, \"bayes_factor\": 1069.435339533922, \"comparison_vector_value\": 2, \"m_probability\": 0.826217905278217, \"u_probability\": 0.0007725739693979973, \"bayes_factor_description\": \"If comparison level is `exact match` then comparison is 1,069.44 times more likely to be a match\", \"value_l\": \"gibson\", \"value_r\": \"gibson\", \"term_frequency_adjustment\": false, \"bar_sort_order\": 5, \"record_number\": 6}, {\"column_name\": \"tf_syn_g0_surname\", \"label_for_charts\": \"Term freq adjustment on syn_g0_surname with weight {cl.tf_adjustment_weight}\", \"sql_condition\": \"syn_g0_surname_l = syn_g0_surname_r\", \"log2_bayes_factor\": -0.9985151561828568, \"bayes_factor\": 0.5005148725646246, \"comparison_vector_value\": 2, \"m_probability\": null, \"u_probability\": null, \"bayes_factor_description\": \"Term frequency adjustment on syn_g0_surname makes comparison  2.00 times less likely to be a match\", \"value_l\": \"gibson\", \"value_r\": \"gibson\", \"term_frequency_adjustment\": true, \"bar_sort_order\": 6, \"record_number\": 6}, {\"column_name\": \"g1_dob_arc1\", \"label_for_charts\": \"All other comparisons\", \"sql_condition\": \"ELSE\", \"log2_bayes_factor\": -8.050754190651466, \"bayes_factor\": 0.0037712168088459884, \"comparison_vector_value\": 0, \"m_probability\": 0.0037647767487387998, \"u_probability\": 0.9982923124196725, \"bayes_factor_description\": \"If comparison level is `all other comparisons` then comparison is  265.17 times less likely to be a match\", \"value_l\": \"1991-12-07\", \"value_r\": \"1991-07-04\", \"term_frequency_adjustment\": false, \"bar_sort_order\": 7, \"record_number\": 6}, {\"column_name\": \"g1_gender_arc\", \"label_for_charts\": \"Exact match\", \"sql_condition\": \"\\\"g1_gender_arc_l\\\" = \\\"g1_gender_arc_r\\\"\", \"log2_bayes_factor\": 0.9996771316993289, \"bayes_factor\": 1.9995524595759742, \"comparison_vector_value\": 1, \"m_probability\": 1.0, \"u_probability\": 0.500111910148164, \"bayes_factor_description\": \"If comparison level is `exact match` then comparison is 2.00 times more likely to be a match\", \"value_l\": \"Female\", \"value_r\": \"Female\", \"term_frequency_adjustment\": false, \"bar_sort_order\": 8, \"record_number\": 6}, {\"column_name\": \"Final score\", \"label_for_charts\": \"Final score\", \"sql_condition\": null, \"log2_bayes_factor\": 7.929678681965704, \"bayes_factor\": 243.82101746635524, \"comparison_vector_value\": null, \"m_probability\": null, \"u_probability\": null, \"bayes_factor_description\": null, \"value_l\": \"\", \"value_r\": \"\", \"term_frequency_adjustment\": null, \"bar_sort_order\": 9, \"record_number\": 6}, {\"column_name\": \"Prior\", \"label_for_charts\": \"Starting match weight (prior)\", \"sql_condition\": null, \"log2_bayes_factor\": -13.696967526234287, \"bayes_factor\": 7.53012048192771e-05, \"comparison_vector_value\": null, \"m_probability\": null, \"u_probability\": null, \"bayes_factor_description\": null, \"value_l\": \"\", \"value_r\": \"\", \"term_frequency_adjustment\": null, \"bar_sort_order\": 0, \"record_number\": 7}, {\"column_name\": \"syn_g1_firstname\", \"label_for_charts\": \"Exact match\", \"sql_condition\": \"syn_g1_firstname_l = syn_g1_firstname_r\", \"log2_bayes_factor\": 7.639817306776756, \"bayes_factor\": 199.44087493923197, \"comparison_vector_value\": 2, \"m_probability\": 0.8640042356856517, \"u_probability\": 0.004332132196817261, \"bayes_factor_description\": \"If comparison level is `exact match` then comparison is 199.44 times more likely to be a match\", \"value_l\": \"Hafsah\", \"value_r\": \"Hafsah\", \"term_frequency_adjustment\": false, \"bar_sort_order\": 1, \"record_number\": 7}, {\"column_name\": \"tf_syn_g1_firstname\", \"label_for_charts\": \"Term freq adjustment on syn_g1_firstname with weight {cl.tf_adjustment_weight}\", \"sql_condition\": \"syn_g1_firstname_l = syn_g1_firstname_r\", \"log2_bayes_factor\": 2.115077268057669, \"bayes_factor\": 4.332132196817261, \"comparison_vector_value\": 2, \"m_probability\": null, \"u_probability\": null, \"bayes_factor_description\": \"Term frequency adjustment on syn_g1_firstname makes comparison 4.33 times more likely to be a match\", \"value_l\": \"Hafsah\", \"value_r\": \"Hafsah\", \"term_frequency_adjustment\": true, \"bar_sort_order\": 2, \"record_number\": 7}, {\"column_name\": \"syn_g1_surname\", \"label_for_charts\": \"Exact match\", \"sql_condition\": \"syn_g1_surname_l = syn_g1_surname_r\", \"log2_bayes_factor\": 9.897620889825705, \"bayes_factor\": 953.8515143834223, \"comparison_vector_value\": 2, \"m_probability\": 0.9284692417739628, \"u_probability\": 0.0009733897024571305, \"bayes_factor_description\": \"If comparison level is `exact match` then comparison is 953.85 times more likely to be a match\", \"value_l\": \"wong\", \"value_r\": \"wong\", \"term_frequency_adjustment\": false, \"bar_sort_order\": 3, \"record_number\": 7}, {\"column_name\": \"tf_syn_g1_surname\", \"label_for_charts\": \"Term freq adjustment on syn_g1_surname with weight {cl.tf_adjustment_weight}\", \"sql_condition\": \"syn_g1_surname_l = syn_g1_surname_r\", \"log2_bayes_factor\": -0.03891058253991509, \"bayes_factor\": 0.9733897024571304, \"comparison_vector_value\": 2, \"m_probability\": null, \"u_probability\": null, \"bayes_factor_description\": \"Term frequency adjustment on syn_g1_surname makes comparison  1.03 times less likely to be a match\", \"value_l\": \"wong\", \"value_r\": \"wong\", \"term_frequency_adjustment\": true, \"bar_sort_order\": 4, \"record_number\": 7}, {\"column_name\": \"syn_g0_surname\", \"label_for_charts\": \"Exact match\", \"sql_condition\": \"syn_g0_surname_l = syn_g0_surname_r\", \"log2_bayes_factor\": 10.062633541214772, \"bayes_factor\": 1069.435339533922, \"comparison_vector_value\": 2, \"m_probability\": 0.826217905278217, \"u_probability\": 0.0007725739693979973, \"bayes_factor_description\": \"If comparison level is `exact match` then comparison is 1,069.44 times more likely to be a match\", \"value_l\": \"wong\", \"value_r\": \"wong\", \"term_frequency_adjustment\": false, \"bar_sort_order\": 5, \"record_number\": 7}, {\"column_name\": \"tf_syn_g0_surname\", \"label_for_charts\": \"Term freq adjustment on syn_g0_surname with weight {cl.tf_adjustment_weight}\", \"sql_condition\": \"syn_g0_surname_l = syn_g0_surname_r\", \"log2_bayes_factor\": -0.3722550257217082, \"bayes_factor\": 0.7725739693979973, \"comparison_vector_value\": 2, \"m_probability\": null, \"u_probability\": null, \"bayes_factor_description\": \"Term frequency adjustment on syn_g0_surname makes comparison  1.29 times less likely to be a match\", \"value_l\": \"wong\", \"value_r\": \"wong\", \"term_frequency_adjustment\": true, \"bar_sort_order\": 6, \"record_number\": 7}, {\"column_name\": \"g1_dob_arc1\", \"label_for_charts\": \"Exact match\", \"sql_condition\": \"\\\"g1_dob_arc1_l\\\" = \\\"g1_dob_arc1_r\\\"\", \"log2_bayes_factor\": 9.18829855059523, \"bayes_factor\": 583.38260155303, \"comparison_vector_value\": 1, \"m_probability\": 0.9962352232512612, \"u_probability\": 0.0017076875803275092, \"bayes_factor_description\": \"If comparison level is `exact match` then comparison is 583.38 times more likely to be a match\", \"value_l\": \"1992-08-18\", \"value_r\": \"1992-08-18\", \"term_frequency_adjustment\": false, \"bar_sort_order\": 7, \"record_number\": 7}, {\"column_name\": \"g1_gender_arc\", \"label_for_charts\": \"Exact match\", \"sql_condition\": \"\\\"g1_gender_arc_l\\\" = \\\"g1_gender_arc_r\\\"\", \"log2_bayes_factor\": 0.9996771316993289, \"bayes_factor\": 1.9995524595759742, \"comparison_vector_value\": 1, \"m_probability\": 1.0, \"u_probability\": 0.500111910148164, \"bayes_factor_description\": \"If comparison level is `exact match` then comparison is 2.00 times more likely to be a match\", \"value_l\": \"Female\", \"value_r\": \"Female\", \"term_frequency_adjustment\": false, \"bar_sort_order\": 8, \"record_number\": 7}, {\"column_name\": \"Final score\", \"label_for_charts\": \"Final score\", \"sql_condition\": null, \"log2_bayes_factor\": 25.794991553673547, \"bayes_factor\": 58219194.922794595, \"comparison_vector_value\": null, \"m_probability\": null, \"u_probability\": null, \"bayes_factor_description\": null, \"value_l\": \"\", \"value_r\": \"\", \"term_frequency_adjustment\": null, \"bar_sort_order\": 9, \"record_number\": 7}, {\"column_name\": \"Prior\", \"label_for_charts\": \"Starting match weight (prior)\", \"sql_condition\": null, \"log2_bayes_factor\": -13.696967526234287, \"bayes_factor\": 7.53012048192771e-05, \"comparison_vector_value\": null, \"m_probability\": null, \"u_probability\": null, \"bayes_factor_description\": null, \"value_l\": \"\", \"value_r\": \"\", \"term_frequency_adjustment\": null, \"bar_sort_order\": 0, \"record_number\": 8}, {\"column_name\": \"syn_g1_firstname\", \"label_for_charts\": \"Exact match\", \"sql_condition\": \"syn_g1_firstname_l = syn_g1_firstname_r\", \"log2_bayes_factor\": 7.639817306776756, \"bayes_factor\": 199.44087493923197, \"comparison_vector_value\": 2, \"m_probability\": 0.8640042356856517, \"u_probability\": 0.004332132196817261, \"bayes_factor_description\": \"If comparison level is `exact match` then comparison is 199.44 times more likely to be a match\", \"value_l\": \"Sumaya\", \"value_r\": \"Sumaya\", \"term_frequency_adjustment\": false, \"bar_sort_order\": 1, \"record_number\": 8}, {\"column_name\": \"tf_syn_g1_firstname\", \"label_for_charts\": \"Term freq adjustment on syn_g1_firstname with weight {cl.tf_adjustment_weight}\", \"sql_condition\": \"syn_g1_firstname_l = syn_g1_firstname_r\", \"log2_bayes_factor\": 2.115077268057669, \"bayes_factor\": 4.332132196817261, \"comparison_vector_value\": 2, \"m_probability\": null, \"u_probability\": null, \"bayes_factor_description\": \"Term frequency adjustment on syn_g1_firstname makes comparison 4.33 times more likely to be a match\", \"value_l\": \"Sumaya\", \"value_r\": \"Sumaya\", \"term_frequency_adjustment\": true, \"bar_sort_order\": 2, \"record_number\": 8}, {\"column_name\": \"syn_g1_surname\", \"label_for_charts\": \"Exact match\", \"sql_condition\": \"syn_g1_surname_l = syn_g1_surname_r\", \"log2_bayes_factor\": 9.897620889825705, \"bayes_factor\": 953.8515143834223, \"comparison_vector_value\": 2, \"m_probability\": 0.9284692417739628, \"u_probability\": 0.0009733897024571305, \"bayes_factor_description\": \"If comparison level is `exact match` then comparison is 953.85 times more likely to be a match\", \"value_l\": \"gibson\", \"value_r\": \"gibson\", \"term_frequency_adjustment\": false, \"bar_sort_order\": 3, \"record_number\": 8}, {\"column_name\": \"tf_syn_g1_surname\", \"label_for_charts\": \"Term freq adjustment on syn_g1_surname with weight {cl.tf_adjustment_weight}\", \"sql_condition\": \"syn_g1_surname_l = syn_g1_surname_r\", \"log2_bayes_factor\": -0.03891058253991509, \"bayes_factor\": 0.9733897024571304, \"comparison_vector_value\": 2, \"m_probability\": null, \"u_probability\": null, \"bayes_factor_description\": \"Term frequency adjustment on syn_g1_surname makes comparison  1.03 times less likely to be a match\", \"value_l\": \"gibson\", \"value_r\": \"gibson\", \"term_frequency_adjustment\": true, \"bar_sort_order\": 4, \"record_number\": 8}, {\"column_name\": \"syn_g0_surname\", \"label_for_charts\": \"All other comparisons\", \"sql_condition\": \"ELSE\", \"log2_bayes_factor\": -2.559699048412092, \"bayes_factor\": 0.16961091871363781, \"comparison_vector_value\": 0, \"m_probability\": 0.16888788494842255, \"u_probability\": 0.9957371036564221, \"bayes_factor_description\": \"If comparison level is `all other comparisons` then comparison is  5.90 times less likely to be a match\", \"value_l\": \"gibson\", \"value_r\": \"mortensson\", \"term_frequency_adjustment\": false, \"bar_sort_order\": 5, \"record_number\": 8}, {\"column_name\": \"tf_syn_g0_surname\", \"label_for_charts\": \"All other comparisons\", \"sql_condition\": \"ELSE\", \"log2_bayes_factor\": 0.0, \"bayes_factor\": 1.0, \"comparison_vector_value\": 0, \"m_probability\": 0.16888788494842255, \"u_probability\": 0.9957371036564221, \"bayes_factor_description\": \"If comparison level is `all other comparisons` then comparison is  5.90 times less likely to be a match\", \"value_l\": \"\", \"value_r\": \"\", \"term_frequency_adjustment\": true, \"bar_sort_order\": 6, \"record_number\": 8}, {\"column_name\": \"g1_dob_arc1\", \"label_for_charts\": \"Exact match\", \"sql_condition\": \"\\\"g1_dob_arc1_l\\\" = \\\"g1_dob_arc1_r\\\"\", \"log2_bayes_factor\": 9.18829855059523, \"bayes_factor\": 583.38260155303, \"comparison_vector_value\": 1, \"m_probability\": 0.9962352232512612, \"u_probability\": 0.0017076875803275092, \"bayes_factor_description\": \"If comparison level is `exact match` then comparison is 583.38 times more likely to be a match\", \"value_l\": \"1991-12-08\", \"value_r\": \"1991-12-08\", \"term_frequency_adjustment\": false, \"bar_sort_order\": 7, \"record_number\": 8}, {\"column_name\": \"g1_gender_arc\", \"label_for_charts\": \"Exact match\", \"sql_condition\": \"\\\"g1_gender_arc_l\\\" = \\\"g1_gender_arc_r\\\"\", \"log2_bayes_factor\": 0.9996771316993289, \"bayes_factor\": 1.9995524595759742, \"comparison_vector_value\": 1, \"m_probability\": 1.0, \"u_probability\": 0.500111910148164, \"bayes_factor_description\": \"If comparison level is `exact match` then comparison is 2.00 times more likely to be a match\", \"value_l\": \"Female\", \"value_r\": \"Female\", \"term_frequency_adjustment\": false, \"bar_sort_order\": 8, \"record_number\": 8}, {\"column_name\": \"Final score\", \"label_for_charts\": \"Final score\", \"sql_condition\": null, \"log2_bayes_factor\": 13.544913989768393, \"bayes_factor\": 11951.582112346528, \"comparison_vector_value\": null, \"m_probability\": null, \"u_probability\": null, \"bayes_factor_description\": null, \"value_l\": \"\", \"value_r\": \"\", \"term_frequency_adjustment\": null, \"bar_sort_order\": 9, \"record_number\": 8}, {\"column_name\": \"Prior\", \"label_for_charts\": \"Starting match weight (prior)\", \"sql_condition\": null, \"log2_bayes_factor\": -13.696967526234287, \"bayes_factor\": 7.53012048192771e-05, \"comparison_vector_value\": null, \"m_probability\": null, \"u_probability\": null, \"bayes_factor_description\": null, \"value_l\": \"\", \"value_r\": \"\", \"term_frequency_adjustment\": null, \"bar_sort_order\": 0, \"record_number\": 9}, {\"column_name\": \"syn_g1_firstname\", \"label_for_charts\": \"Exact match\", \"sql_condition\": \"syn_g1_firstname_l = syn_g1_firstname_r\", \"log2_bayes_factor\": 7.639817306776756, \"bayes_factor\": 199.44087493923197, \"comparison_vector_value\": 2, \"m_probability\": 0.8640042356856517, \"u_probability\": 0.004332132196817261, \"bayes_factor_description\": \"If comparison level is `exact match` then comparison is 199.44 times more likely to be a match\", \"value_l\": \"Alishba\", \"value_r\": \"Alishba\", \"term_frequency_adjustment\": false, \"bar_sort_order\": 1, \"record_number\": 9}, {\"column_name\": \"tf_syn_g1_firstname\", \"label_for_charts\": \"Term freq adjustment on syn_g1_firstname with weight {cl.tf_adjustment_weight}\", \"sql_condition\": \"syn_g1_firstname_l = syn_g1_firstname_r\", \"log2_bayes_factor\": 2.115077268057669, \"bayes_factor\": 4.332132196817261, \"comparison_vector_value\": 2, \"m_probability\": null, \"u_probability\": null, \"bayes_factor_description\": \"Term frequency adjustment on syn_g1_firstname makes comparison 4.33 times more likely to be a match\", \"value_l\": \"Alishba\", \"value_r\": \"Alishba\", \"term_frequency_adjustment\": true, \"bar_sort_order\": 2, \"record_number\": 9}, {\"column_name\": \"syn_g1_surname\", \"label_for_charts\": \"Exact match\", \"sql_condition\": \"syn_g1_surname_l = syn_g1_surname_r\", \"log2_bayes_factor\": 9.897620889825705, \"bayes_factor\": 953.8515143834223, \"comparison_vector_value\": 2, \"m_probability\": 0.9284692417739628, \"u_probability\": 0.0009733897024571305, \"bayes_factor_description\": \"If comparison level is `exact match` then comparison is 953.85 times more likely to be a match\", \"value_l\": \"gibson\", \"value_r\": \"gibson\", \"term_frequency_adjustment\": false, \"bar_sort_order\": 3, \"record_number\": 9}, {\"column_name\": \"tf_syn_g1_surname\", \"label_for_charts\": \"Term freq adjustment on syn_g1_surname with weight {cl.tf_adjustment_weight}\", \"sql_condition\": \"syn_g1_surname_l = syn_g1_surname_r\", \"log2_bayes_factor\": -0.03891058253991509, \"bayes_factor\": 0.9733897024571304, \"comparison_vector_value\": 2, \"m_probability\": null, \"u_probability\": null, \"bayes_factor_description\": \"Term frequency adjustment on syn_g1_surname makes comparison  1.03 times less likely to be a match\", \"value_l\": \"gibson\", \"value_r\": \"gibson\", \"term_frequency_adjustment\": true, \"bar_sort_order\": 4, \"record_number\": 9}, {\"column_name\": \"syn_g0_surname\", \"label_for_charts\": \"Exact match\", \"sql_condition\": \"syn_g0_surname_l = syn_g0_surname_r\", \"log2_bayes_factor\": 10.062633541214772, \"bayes_factor\": 1069.435339533922, \"comparison_vector_value\": 2, \"m_probability\": 0.826217905278217, \"u_probability\": 0.0007725739693979973, \"bayes_factor_description\": \"If comparison level is `exact match` then comparison is 1,069.44 times more likely to be a match\", \"value_l\": \"gibson\", \"value_r\": \"gibson\", \"term_frequency_adjustment\": false, \"bar_sort_order\": 5, \"record_number\": 9}, {\"column_name\": \"tf_syn_g0_surname\", \"label_for_charts\": \"Term freq adjustment on syn_g0_surname with weight {cl.tf_adjustment_weight}\", \"sql_condition\": \"syn_g0_surname_l = syn_g0_surname_r\", \"log2_bayes_factor\": -0.9985151561828568, \"bayes_factor\": 0.5005148725646246, \"comparison_vector_value\": 2, \"m_probability\": null, \"u_probability\": null, \"bayes_factor_description\": \"Term frequency adjustment on syn_g0_surname makes comparison  2.00 times less likely to be a match\", \"value_l\": \"gibson\", \"value_r\": \"gibson\", \"term_frequency_adjustment\": true, \"bar_sort_order\": 6, \"record_number\": 9}, {\"column_name\": \"g1_dob_arc1\", \"label_for_charts\": \"Exact match\", \"sql_condition\": \"\\\"g1_dob_arc1_l\\\" = \\\"g1_dob_arc1_r\\\"\", \"log2_bayes_factor\": 9.18829855059523, \"bayes_factor\": 583.38260155303, \"comparison_vector_value\": 1, \"m_probability\": 0.9962352232512612, \"u_probability\": 0.0017076875803275092, \"bayes_factor_description\": \"If comparison level is `exact match` then comparison is 583.38 times more likely to be a match\", \"value_l\": \"1991-09-05\", \"value_r\": \"1991-09-05\", \"term_frequency_adjustment\": false, \"bar_sort_order\": 7, \"record_number\": 9}, {\"column_name\": \"g1_gender_arc\", \"label_for_charts\": \"Exact match\", \"sql_condition\": \"\\\"g1_gender_arc_l\\\" = \\\"g1_gender_arc_r\\\"\", \"log2_bayes_factor\": 0.9996771316993289, \"bayes_factor\": 1.9995524595759742, \"comparison_vector_value\": 1, \"m_probability\": 1.0, \"u_probability\": 0.500111910148164, \"bayes_factor_description\": \"If comparison level is `exact match` then comparison is 2.00 times more likely to be a match\", \"value_l\": \"Female\", \"value_r\": \"Female\", \"term_frequency_adjustment\": false, \"bar_sort_order\": 8, \"record_number\": 9}, {\"column_name\": \"Final score\", \"label_for_charts\": \"Final score\", \"sql_condition\": null, \"log2_bayes_factor\": 25.1687314232124, \"bayes_factor\": 37717518.427787095, \"comparison_vector_value\": null, \"m_probability\": null, \"u_probability\": null, \"bayes_factor_description\": null, \"value_l\": \"\", \"value_r\": \"\", \"term_frequency_adjustment\": null, \"bar_sort_order\": 9, \"record_number\": 9}]}}, {\"mode\": \"vega-lite\"});\n",
       "</script>"
      ],
      "text/plain": [
       "alt.LayerChart(...)"
      ]
     },
     "execution_count": 11,
     "metadata": {},
     "output_type": "execute_result"
    }
   ],
   "source": [
    "df = linker.predict(threshold_match_weight= -0.5)\n",
    "records = df.as_record_dict(limit=10)\n",
    "linker.waterfall_chart(records)\n"
   ]
  },
  {
   "cell_type": "code",
   "execution_count": 45,
   "metadata": {},
   "outputs": [
    {
     "data": {
      "application/vnd.jupyter.widget-view+json": {
       "model_id": "4e65f27a3bcd42eca8b4e537a716ce04",
       "version_major": 2,
       "version_minor": 0
      },
      "text/plain": [
       "FloatProgress(value=0.0, layout=Layout(width='auto'), style=ProgressStyle(bar_color='black'))"
      ]
     },
     "metadata": {},
     "output_type": "display_data"
    }
   ],
   "source": [
    "results = linker.predict()\n",
    "prob_linkage = results.as_pandas_dataframe()\n",
    "prob_linkage.to_csv(f\"linkage_outputs\\\\scen3\\\\dataset{data_set}\\\\probabilistic_tf_nothreshold.csv\")"
   ]
  },
  {
   "cell_type": "code",
   "execution_count": 16,
   "metadata": {},
   "outputs": [
    {
     "data": {
      "application/vnd.jupyter.widget-view+json": {
       "model_id": "effa44ff53394d4394d7b0142d61191d",
       "version_major": 2,
       "version_minor": 0
      },
      "text/plain": [
       "FloatProgress(value=0.0, layout=Layout(width='auto'), style=ProgressStyle(bar_color='black'))"
      ]
     },
     "metadata": {},
     "output_type": "display_data"
    },
    {
     "data": {
      "application/vnd.jupyter.widget-view+json": {
       "model_id": "26b28ec0eb5a43b88a83d717d6df3bef",
       "version_major": 2,
       "version_minor": 0
      },
      "text/plain": [
       "FloatProgress(value=0.0, layout=Layout(width='auto'), style=ProgressStyle(bar_color='black'))"
      ]
     },
     "metadata": {},
     "output_type": "display_data"
    },
    {
     "data": {
      "application/vnd.jupyter.widget-view+json": {
       "model_id": "e6352e25a59e45b6aebc53ed0c4d9219",
       "version_major": 2,
       "version_minor": 0
      },
      "text/plain": [
       "FloatProgress(value=0.0, layout=Layout(width='auto'), style=ProgressStyle(bar_color='black'))"
      ]
     },
     "metadata": {},
     "output_type": "display_data"
    },
    {
     "data": {
      "application/vnd.jupyter.widget-view+json": {
       "model_id": "731115d3aadc41069740a63e8971bc5a",
       "version_major": 2,
       "version_minor": 0
      },
      "text/plain": [
       "FloatProgress(value=0.0, layout=Layout(width='auto'), style=ProgressStyle(bar_color='black'))"
      ]
     },
     "metadata": {},
     "output_type": "display_data"
    },
    {
     "data": {
      "application/vnd.jupyter.widget-view+json": {
       "model_id": "9f2d95bbfc16400994cdaf52d83b4e03",
       "version_major": 2,
       "version_minor": 0
      },
      "text/plain": [
       "FloatProgress(value=0.0, layout=Layout(width='auto'), style=ProgressStyle(bar_color='black'))"
      ]
     },
     "metadata": {},
     "output_type": "display_data"
    },
    {
     "data": {
      "application/vnd.jupyter.widget-view+json": {
       "model_id": "b5f1b9e2b51749a9bb618c0bea4c7629",
       "version_major": 2,
       "version_minor": 0
      },
      "text/plain": [
       "FloatProgress(value=0.0, layout=Layout(width='auto'), style=ProgressStyle(bar_color='black'))"
      ]
     },
     "metadata": {},
     "output_type": "display_data"
    },
    {
     "data": {
      "application/vnd.jupyter.widget-view+json": {
       "model_id": "cc663e75d4b8479382525ace8b3c7f06",
       "version_major": 2,
       "version_minor": 0
      },
      "text/plain": [
       "FloatProgress(value=0.0, layout=Layout(width='auto'), style=ProgressStyle(bar_color='black'))"
      ]
     },
     "metadata": {},
     "output_type": "display_data"
    },
    {
     "data": {
      "application/vnd.jupyter.widget-view+json": {
       "model_id": "0bf3f74db17449f5b7db4a35d17c5132",
       "version_major": 2,
       "version_minor": 0
      },
      "text/plain": [
       "FloatProgress(value=0.0, layout=Layout(width='auto'), style=ProgressStyle(bar_color='black'))"
      ]
     },
     "metadata": {},
     "output_type": "display_data"
    },
    {
     "data": {
      "application/vnd.jupyter.widget-view+json": {
       "model_id": "0d66924097184e39b14ff409cdd13a02",
       "version_major": 2,
       "version_minor": 0
      },
      "text/plain": [
       "FloatProgress(value=0.0, layout=Layout(width='auto'), style=ProgressStyle(bar_color='black'))"
      ]
     },
     "metadata": {},
     "output_type": "display_data"
    }
   ],
   "source": [
    "threshold_values = [-3, -2, -1, -0.5, 1, 2, 4, 5, 6]\n",
    "for v in threshold_values:\n",
    "    results = linker.predict(threshold_match_weight = v)\n",
    "    prob_linkage = results.as_pandas_dataframe()\n",
    "    file_name = f\"linkage_outputs\\\\scen3\\\\dataset{data_set}\\\\tf_{v}.csv\"\n",
    "    prob_linkage.to_csv(file_name)"
   ]
  },
  {
   "cell_type": "code",
   "execution_count": 24,
   "metadata": {},
   "outputs": [
    {
     "data": {
      "application/vnd.jupyter.widget-view+json": {
       "model_id": "6da5e19dcb374fb38c86d7fa8c032232",
       "version_major": 2,
       "version_minor": 0
      },
      "text/plain": [
       "FloatProgress(value=0.0, layout=Layout(width='auto'), style=ProgressStyle(bar_color='black'))"
      ]
     },
     "metadata": {},
     "output_type": "display_data"
    },
    {
     "data": {
      "text/html": [
       "\n",
       "        <iframe\n",
       "            width=\"100%\"\n",
       "            height=\"1200\"\n",
       "            src=\"./scv.html\"\n",
       "            frameborder=\"0\"\n",
       "            allowfullscreen\n",
       "            \n",
       "        ></iframe>\n",
       "        "
      ],
      "text/plain": [
       "<IPython.lib.display.IFrame at 0x196643209d0>"
      ]
     },
     "execution_count": 24,
     "metadata": {},
     "output_type": "execute_result"
    }
   ],
   "source": [
    "df_predictions = linker.predict(threshold_match_weight= -5)\n",
    "\n",
    "linker.comparison_viewer_dashboard(df_predictions, \"scv.html\", overwrite=True)\n",
    "\n",
    "# You can view the scv.html file in your browser, or inline in a notbook as follows\n",
    "from IPython.display import IFrame\n",
    "IFrame(\n",
    "    src=\"./scv.html\", width=\"100%\", height=1200\n",
    ")  "
   ]
  },
  {
   "cell_type": "code",
   "execution_count": 17,
   "metadata": {},
   "outputs": [
    {
     "data": {
      "text/html": [
       "\n",
       "<style>\n",
       "  #altair-viz-27c3e091c5604709a1a2d2408b4307ca.vega-embed {\n",
       "    width: 100%;\n",
       "    display: flex;\n",
       "  }\n",
       "\n",
       "  #altair-viz-27c3e091c5604709a1a2d2408b4307ca.vega-embed details,\n",
       "  #altair-viz-27c3e091c5604709a1a2d2408b4307ca.vega-embed details summary {\n",
       "    position: relative;\n",
       "  }\n",
       "</style>\n",
       "<div id=\"altair-viz-27c3e091c5604709a1a2d2408b4307ca\"></div>\n",
       "<script type=\"text/javascript\">\n",
       "  var VEGA_DEBUG = (typeof VEGA_DEBUG == \"undefined\") ? {} : VEGA_DEBUG;\n",
       "  (function(spec, embedOpt){\n",
       "    let outputDiv = document.currentScript.previousElementSibling;\n",
       "    if (outputDiv.id !== \"altair-viz-27c3e091c5604709a1a2d2408b4307ca\") {\n",
       "      outputDiv = document.getElementById(\"altair-viz-27c3e091c5604709a1a2d2408b4307ca\");\n",
       "    }\n",
       "    const paths = {\n",
       "      \"vega\": \"https://cdn.jsdelivr.net/npm/vega@5?noext\",\n",
       "      \"vega-lib\": \"https://cdn.jsdelivr.net/npm/vega-lib?noext\",\n",
       "      \"vega-lite\": \"https://cdn.jsdelivr.net/npm/vega-lite@5.8.0?noext\",\n",
       "      \"vega-embed\": \"https://cdn.jsdelivr.net/npm/vega-embed@6?noext\",\n",
       "    };\n",
       "\n",
       "    function maybeLoadScript(lib, version) {\n",
       "      var key = `${lib.replace(\"-\", \"\")}_version`;\n",
       "      return (VEGA_DEBUG[key] == version) ?\n",
       "        Promise.resolve(paths[lib]) :\n",
       "        new Promise(function(resolve, reject) {\n",
       "          var s = document.createElement('script');\n",
       "          document.getElementsByTagName(\"head\")[0].appendChild(s);\n",
       "          s.async = true;\n",
       "          s.onload = () => {\n",
       "            VEGA_DEBUG[key] = version;\n",
       "            return resolve(paths[lib]);\n",
       "          };\n",
       "          s.onerror = () => reject(`Error loading script: ${paths[lib]}`);\n",
       "          s.src = paths[lib];\n",
       "        });\n",
       "    }\n",
       "\n",
       "    function showError(err) {\n",
       "      outputDiv.innerHTML = `<div class=\"error\" style=\"color:red;\">${err}</div>`;\n",
       "      throw err;\n",
       "    }\n",
       "\n",
       "    function displayChart(vegaEmbed) {\n",
       "      vegaEmbed(outputDiv, spec, embedOpt)\n",
       "        .catch(err => showError(`Javascript Error: ${err.message}<br>This usually means there's a typo in your chart specification. See the javascript console for the full traceback.`));\n",
       "    }\n",
       "\n",
       "    if(typeof define === \"function\" && define.amd) {\n",
       "      requirejs.config({paths});\n",
       "      require([\"vega-embed\"], displayChart, err => showError(`Error loading script: ${err.message}`));\n",
       "    } else {\n",
       "      maybeLoadScript(\"vega\", \"5\")\n",
       "        .then(() => maybeLoadScript(\"vega-lite\", \"5.8.0\"))\n",
       "        .then(() => maybeLoadScript(\"vega-embed\", \"6\"))\n",
       "        .catch(showError)\n",
       "        .then(() => displayChart(vegaEmbed));\n",
       "    }\n",
       "  })({\"config\": {\"view\": {\"continuousWidth\": 400, \"continuousHeight\": 300}}, \"layer\": [{\"mark\": {\"type\": \"line\"}, \"encoding\": {\"x\": {\"axis\": {\"format\": \"+\", \"title\": \"Threshold match weight\"}, \"field\": \"match_weight\", \"type\": \"quantitative\"}, \"y\": {\"axis\": {\"format\": \"%\", \"title\": \"Percentage of unlinkable records\"}, \"field\": \"cum_prop\", \"type\": \"quantitative\"}}}, {\"mark\": {\"type\": \"point\"}, \"encoding\": {\"opacity\": {\"condition\": {\"param\": \"x_match_weight_y_cum_prop_coords_of_mouse\", \"value\": 1, \"empty\": false}, \"value\": 0}, \"tooltip\": [{\"field\": \"match_weight\", \"format\": \"+.5\", \"title\": \"Match weight\", \"type\": \"quantitative\"}, {\"field\": \"match_probability\", \"format\": \".5\", \"title\": \"Match probability\", \"type\": \"quantitative\"}, {\"field\": \"cum_prop\", \"format\": \".3%\", \"title\": \"Proportion of unlinkable records\", \"type\": \"quantitative\"}], \"x\": {\"axis\": {\"title\": \"Threshold match weight\"}, \"field\": \"match_weight\", \"type\": \"quantitative\"}, \"y\": {\"axis\": {\"format\": \"%\", \"title\": \"Percentage of unlinkable records\"}, \"field\": \"cum_prop\", \"type\": \"quantitative\"}}, \"name\": \"mouse_coords\"}, {\"mark\": {\"type\": \"rule\", \"color\": \"gray\"}, \"encoding\": {\"x\": {\"field\": \"match_weight\", \"type\": \"quantitative\"}}, \"transform\": [{\"filter\": {\"param\": \"x_match_weight_y_cum_prop_coords_of_mouse\", \"empty\": false}}]}, {\"mark\": {\"type\": \"rule\", \"color\": \"gray\"}, \"encoding\": {\"y\": {\"field\": \"cum_prop\", \"type\": \"quantitative\"}}, \"transform\": [{\"filter\": {\"param\": \"x_match_weight_y_cum_prop_coords_of_mouse\", \"empty\": false}}]}], \"data\": {\"name\": \"data-469855676521324e2d40eff341b2efd9\"}, \"height\": 400, \"params\": [{\"name\": \"x_match_weight_y_cum_prop_coords_of_mouse\", \"select\": {\"type\": \"point\", \"fields\": [\"match_weight\", \"cum_prop\"], \"nearest\": true, \"on\": \"mouseover\"}, \"views\": [\"mouse_coords\"]}], \"title\": {\"text\": \"Unlinkable records\", \"subtitle\": \"Records with insufficient information to exceed a given match threshold\"}, \"width\": 400, \"$schema\": \"https://vega.github.io/schema/vega-lite/v5.9.3.json\", \"datasets\": {\"data-469855676521324e2d40eff341b2efd9\": [{\"match_weight\": 9.27, \"match_probability\": 0.99838, \"prop\": 0.0001505910768173635, \"cum_prop\": 0.0001505910768173635}, {\"match_weight\": 9.95, \"match_probability\": 0.99899, \"prop\": 7.529553840868175e-05, \"cum_prop\": 0.00022588661522604525}, {\"match_weight\": 10.07, \"match_probability\": 0.99907, \"prop\": 7.529553840868175e-05, \"cum_prop\": 0.000301182153634727}, {\"match_weight\": 11.91, \"match_probability\": 0.99974, \"prop\": 7.529553840868175e-05, \"cum_prop\": 0.00037647769204340875}, {\"match_weight\": 12.02, \"match_probability\": 0.99976, \"prop\": 7.529553840868175e-05, \"cum_prop\": 0.0004517732304520905}, {\"match_weight\": 13.27, \"match_probability\": 0.9999, \"prop\": 7.529553840868175e-05, \"cum_prop\": 0.0005270687688607723}, {\"match_weight\": 14.13, \"match_probability\": 0.99994, \"prop\": 0.00022588660067413002, \"cum_prop\": 0.0007529553695349023}, {\"match_weight\": 14.27, \"match_probability\": 0.99995, \"prop\": 7.529553840868175e-05, \"cum_prop\": 0.000828250907943584}, {\"match_weight\": 14.75, \"match_probability\": 0.99996, \"prop\": 0.0004141254466958344, \"cum_prop\": 0.0012423763546394184}, {\"match_weight\": 15.28, \"match_probability\": 0.99997, \"prop\": 0.0005647165235131979, \"cum_prop\": 0.0018070928781526163}, {\"match_weight\": 16.0, \"match_probability\": 0.99998, \"prop\": 0.002032979391515255, \"cum_prop\": 0.0038400722696678713}, {\"match_weight\": 17.6, \"match_probability\": 0.99999, \"prop\": 0.01001430582255125, \"cum_prop\": 0.013854378092219122}]}}, {\"mode\": \"vega-lite\"});\n",
       "</script>"
      ],
      "text/plain": [
       "alt.LayerChart(...)"
      ]
     },
     "execution_count": 17,
     "metadata": {},
     "output_type": "execute_result"
    }
   ],
   "source": [
    "linker.unlinkables_chart()"
   ]
  },
  {
   "cell_type": "code",
   "execution_count": 18,
   "metadata": {},
   "outputs": [
    {
     "data": {
      "text/html": [
       "\n",
       "<style>\n",
       "  #altair-viz-baf53d8198864b50b0ac871c864d571f.vega-embed {\n",
       "    width: 100%;\n",
       "    display: flex;\n",
       "  }\n",
       "\n",
       "  #altair-viz-baf53d8198864b50b0ac871c864d571f.vega-embed details,\n",
       "  #altair-viz-baf53d8198864b50b0ac871c864d571f.vega-embed details summary {\n",
       "    position: relative;\n",
       "  }\n",
       "</style>\n",
       "<div id=\"altair-viz-baf53d8198864b50b0ac871c864d571f\"></div>\n",
       "<script type=\"text/javascript\">\n",
       "  var VEGA_DEBUG = (typeof VEGA_DEBUG == \"undefined\") ? {} : VEGA_DEBUG;\n",
       "  (function(spec, embedOpt){\n",
       "    let outputDiv = document.currentScript.previousElementSibling;\n",
       "    if (outputDiv.id !== \"altair-viz-baf53d8198864b50b0ac871c864d571f\") {\n",
       "      outputDiv = document.getElementById(\"altair-viz-baf53d8198864b50b0ac871c864d571f\");\n",
       "    }\n",
       "    const paths = {\n",
       "      \"vega\": \"https://cdn.jsdelivr.net/npm/vega@5?noext\",\n",
       "      \"vega-lib\": \"https://cdn.jsdelivr.net/npm/vega-lib?noext\",\n",
       "      \"vega-lite\": \"https://cdn.jsdelivr.net/npm/vega-lite@5.8.0?noext\",\n",
       "      \"vega-embed\": \"https://cdn.jsdelivr.net/npm/vega-embed@6?noext\",\n",
       "    };\n",
       "\n",
       "    function maybeLoadScript(lib, version) {\n",
       "      var key = `${lib.replace(\"-\", \"\")}_version`;\n",
       "      return (VEGA_DEBUG[key] == version) ?\n",
       "        Promise.resolve(paths[lib]) :\n",
       "        new Promise(function(resolve, reject) {\n",
       "          var s = document.createElement('script');\n",
       "          document.getElementsByTagName(\"head\")[0].appendChild(s);\n",
       "          s.async = true;\n",
       "          s.onload = () => {\n",
       "            VEGA_DEBUG[key] = version;\n",
       "            return resolve(paths[lib]);\n",
       "          };\n",
       "          s.onerror = () => reject(`Error loading script: ${paths[lib]}`);\n",
       "          s.src = paths[lib];\n",
       "        });\n",
       "    }\n",
       "\n",
       "    function showError(err) {\n",
       "      outputDiv.innerHTML = `<div class=\"error\" style=\"color:red;\">${err}</div>`;\n",
       "      throw err;\n",
       "    }\n",
       "\n",
       "    function displayChart(vegaEmbed) {\n",
       "      vegaEmbed(outputDiv, spec, embedOpt)\n",
       "        .catch(err => showError(`Javascript Error: ${err.message}<br>This usually means there's a typo in your chart specification. See the javascript console for the full traceback.`));\n",
       "    }\n",
       "\n",
       "    if(typeof define === \"function\" && define.amd) {\n",
       "      requirejs.config({paths});\n",
       "      require([\"vega-embed\"], displayChart, err => showError(`Error loading script: ${err.message}`));\n",
       "    } else {\n",
       "      maybeLoadScript(\"vega\", \"5\")\n",
       "        .then(() => maybeLoadScript(\"vega-lite\", \"5.8.0\"))\n",
       "        .then(() => maybeLoadScript(\"vega-embed\", \"6\"))\n",
       "        .catch(showError)\n",
       "        .then(() => displayChart(vegaEmbed));\n",
       "    }\n",
       "  })({\"config\": {\"view\": {\"continuousWidth\": 400, \"continuousHeight\": 300}, \"title\": {\"anchor\": \"middle\", \"fontSize\": 18, \"subtitleFontSize\": 14}}, \"data\": {\"name\": \"data-43b15335f4655ef930b944587270c7a7\"}, \"mark\": {\"type\": \"point\", \"filled\": false, \"opacity\": 0.7, \"size\": 100}, \"encoding\": {\"color\": {\"field\": \"estimate_description\", \"type\": \"nominal\"}, \"column\": {\"align\": \"each\", \"field\": \"col_header\", \"header\": {\"labelFontSize\": 14, \"labelFontWeight\": \"bold\"}, \"title\": null, \"type\": \"nominal\"}, \"row\": {\"align\": \"each\", \"field\": \"comparison_name\", \"header\": {\"labelAlign\": \"left\", \"labelAnchor\": \"middle\", \"labelAngle\": 0, \"labelFontSize\": 12, \"labelFontWeight\": \"bold\"}, \"sort\": {\"field\": \"comparison_sort_order\"}, \"title\": null, \"type\": \"nominal\"}, \"shape\": {\"field\": \"estimate_description\", \"scale\": {\"range\": [\"circle\", \"square\", \"triangle\", \"diamond\"]}, \"type\": \"nominal\"}, \"tooltip\": [{\"field\": \"comparison_name\", \"type\": \"nominal\"}, {\"field\": \"estimate_description\", \"type\": \"nominal\"}, {\"field\": \"estimated_probability\", \"type\": \"quantitative\"}], \"x\": {\"axis\": {\"gridColor\": {\"condition\": {\"test\": \"abs(datum.value / 10)  <= 1 & datum.value % 10 === 0\", \"value\": \"#aaa\"}, \"value\": \"#ddd\"}, \"gridDash\": {\"condition\": {\"test\": \"abs(datum.value / 10) == 1\", \"value\": [3]}, \"value\": null}, \"gridWidth\": {\"condition\": {\"test\": \"abs(datum.value / 10)  <= 1 & datum.value % 10 === 0\", \"value\": 2}, \"value\": 1}}, \"field\": \"estimated_probability_as_log_odds\", \"title\": \"Estimated probability as log odds\", \"type\": \"quantitative\"}, \"y\": {\"axis\": {\"grid\": true, \"title\": null}, \"field\": \"comparison_level_label\", \"sort\": {\"field\": \"comparison_vector_value\", \"order\": \"descending\"}, \"type\": \"nominal\"}}, \"params\": [{\"name\": \"mouse_zoom\", \"select\": {\"type\": \"interval\", \"encodings\": [\"x\"]}, \"bind\": \"scales\"}], \"resolve\": {\"scale\": {\"y\": \"independent\"}}, \"title\": {\"text\": \"Comparison of parameter estimates across training sessions\", \"subtitle\": \"Use mousewheel to zoom\"}, \"transform\": [{\"calculate\": \"datum.m_or_u + '-probability (as log odds)'\", \"as\": \"col_header\"}], \"$schema\": \"https://vega.github.io/schema/vega-lite/v5.9.3.json\", \"datasets\": {\"data-43b15335f4655ef930b944587270c7a7\": [{\"m_or_u\": \"m\", \"estimated_probability\": 0.8997654890687646, \"estimate_description\": \"estimate m from label column\", \"estimated_probability_as_log_odds\": 3.16616971603828, \"sql_condition\": \"syn_g1_firstname_l = syn_g1_firstname_r\", \"comparison_level_label\": \"Exact match\", \"comparison_vector_value\": 2, \"comparison_name\": \"syn_g1_firstname\", \"comparison_sort_order\": 0}, {\"m_or_u\": \"m\", \"estimated_probability\": 0.028519555185717527, \"estimate_description\": \"estimate m from label column\", \"estimated_probability_as_log_odds\": -5.090161570095071, \"sql_condition\": \"jaro_winkler_similarity(\\\"syn_g1_firstname_l\\\", \\\"syn_g1_firstname_r\\\") >= 0.8\", \"comparison_level_label\": \"Jaro_winkler_similarity 0.8\", \"comparison_vector_value\": 1, \"comparison_name\": \"syn_g1_firstname\", \"comparison_sort_order\": 0}, {\"m_or_u\": \"m\", \"estimated_probability\": 0.07171495574551781, \"estimate_description\": \"estimate m from label column\", \"estimated_probability_as_log_odds\": -3.694221953918883, \"sql_condition\": \"ELSE\", \"comparison_level_label\": \"All other comparisons\", \"comparison_vector_value\": 0, \"comparison_name\": \"syn_g1_firstname\", \"comparison_sort_order\": 0}, {\"m_or_u\": \"m\", \"estimated_probability\": 0.9481213764023794, \"estimate_description\": \"estimate m from label column\", \"estimated_probability_as_log_odds\": 4.1918596528031955, \"sql_condition\": \"syn_g1_surname_l = syn_g1_surname_r\", \"comparison_level_label\": \"Exact match\", \"comparison_vector_value\": 2, \"comparison_name\": \"syn_g1_surname\", \"comparison_sort_order\": 1}, {\"m_or_u\": \"m\", \"estimated_probability\": 0.0025600481891423837, \"estimate_description\": \"estimate m from label column\", \"estimated_probability_as_log_odds\": -8.605915213056567, \"sql_condition\": \"jaro_winkler_similarity(\\\"syn_g1_surname_l\\\", \\\"syn_g1_surname_r\\\") >= 0.8\", \"comparison_level_label\": \"Jaro_winkler_similarity 0.8\", \"comparison_vector_value\": 1, \"comparison_name\": \"syn_g1_surname\", \"comparison_sort_order\": 1}, {\"m_or_u\": \"m\", \"estimated_probability\": 0.049318575408478275, \"estimate_description\": \"estimate m from label column\", \"estimated_probability_as_log_odds\": -4.268758939338175, \"sql_condition\": \"ELSE\", \"comparison_level_label\": \"All other comparisons\", \"comparison_vector_value\": 0, \"comparison_name\": \"syn_g1_surname\", \"comparison_sort_order\": 1}, {\"m_or_u\": \"m\", \"estimated_probability\": 0.850086589865221, \"estimate_description\": \"estimate m from label column\", \"estimated_probability_as_log_odds\": 2.5034803599398607, \"sql_condition\": \"syn_g0_surname_l = syn_g0_surname_r\", \"comparison_level_label\": \"Exact match\", \"comparison_vector_value\": 2, \"comparison_name\": \"syn_g0_surname\", \"comparison_sort_order\": 2}, {\"m_or_u\": \"m\", \"estimated_probability\": 0.00489420977336044, \"estimate_description\": \"estimate m from label column\", \"estimated_probability_as_log_odds\": -7.667630158390991, \"sql_condition\": \"jaro_winkler_similarity(\\\"syn_g0_surname_l\\\", \\\"syn_g0_surname_r\\\") >= 0.8\", \"comparison_level_label\": \"Jaro_winkler_similarity 0.8\", \"comparison_vector_value\": 1, \"comparison_name\": \"syn_g0_surname\", \"comparison_sort_order\": 2}, {\"m_or_u\": \"m\", \"estimated_probability\": 0.14501920036141858, \"estimate_description\": \"estimate m from label column\", \"estimated_probability_as_log_odds\": -2.5596480977507907, \"sql_condition\": \"ELSE\", \"comparison_level_label\": \"All other comparisons\", \"comparison_vector_value\": 0, \"comparison_name\": \"syn_g0_surname\", \"comparison_sort_order\": 2}, {\"m_or_u\": \"m\", \"estimated_probability\": 1.0, \"estimate_description\": \"estimate m from label column\", \"estimated_probability_as_log_odds\": null, \"sql_condition\": \"\\\"g1_dob_arc1_l\\\" = \\\"g1_dob_arc1_r\\\"\", \"comparison_level_label\": \"Exact match\", \"comparison_vector_value\": 1, \"comparison_name\": \"g1_dob_arc1\", \"comparison_sort_order\": 3}, {\"m_or_u\": \"m\", \"estimated_probability\": \"level not observed in training dataset\", \"estimate_description\": \"estimate m from label column\", \"estimated_probability_as_log_odds\": null, \"sql_condition\": \"ELSE\", \"comparison_level_label\": \"All other comparisons\", \"comparison_vector_value\": 0, \"comparison_name\": \"g1_dob_arc1\", \"comparison_sort_order\": 3}, {\"m_or_u\": \"m\", \"estimated_probability\": 1.0, \"estimate_description\": \"estimate m from label column\", \"estimated_probability_as_log_odds\": null, \"sql_condition\": \"\\\"g1_gender_arc_l\\\" = \\\"g1_gender_arc_r\\\"\", \"comparison_level_label\": \"Exact match\", \"comparison_vector_value\": 1, \"comparison_name\": \"g1_gender_arc\", \"comparison_sort_order\": 4}, {\"m_or_u\": \"m\", \"estimated_probability\": \"level not observed in training dataset\", \"estimate_description\": \"estimate m from label column\", \"estimated_probability_as_log_odds\": null, \"sql_condition\": \"ELSE\", \"comparison_level_label\": \"All other comparisons\", \"comparison_vector_value\": 0, \"comparison_name\": \"g1_gender_arc\", \"comparison_sort_order\": 4}]}}, {\"mode\": \"vega-lite\"});\n",
       "</script>"
      ],
      "text/plain": [
       "alt.Chart(...)"
      ]
     },
     "execution_count": 18,
     "metadata": {},
     "output_type": "execute_result"
    }
   ],
   "source": [
    "linker.parameter_estimate_comparisons_chart()"
   ]
  },
  {
   "cell_type": "code",
   "execution_count": null,
   "metadata": {},
   "outputs": [],
   "source": []
  }
 ],
 "metadata": {
  "kernelspec": {
   "display_name": "Python 3 (ipykernel)",
   "language": "python",
   "name": "python3"
  },
  "language_info": {
   "codemirror_mode": {
    "name": "ipython",
    "version": 3
   },
   "file_extension": ".py",
   "mimetype": "text/x-python",
   "name": "python",
   "nbconvert_exporter": "python",
   "pygments_lexer": "ipython3",
   "version": "3.10.5"
  },
  "vscode": {
   "interpreter": {
    "hash": "2531e3b508fbb3d6eccb945cca14e7a59c2422839bd9845528f68dee50072fc5"
   }
  }
 },
 "nbformat": 4,
 "nbformat_minor": 4
}
