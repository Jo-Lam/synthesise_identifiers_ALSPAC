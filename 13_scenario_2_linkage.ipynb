{
 "cells": [
  {
   "cell_type": "code",
   "execution_count": 26,
   "metadata": {},
   "outputs": [
    {
     "data": {
      "text/html": [
       "<div>\n",
       "<style scoped>\n",
       "    .dataframe tbody tr th:only-of-type {\n",
       "        vertical-align: middle;\n",
       "    }\n",
       "\n",
       "    .dataframe tbody tr th {\n",
       "        vertical-align: top;\n",
       "    }\n",
       "\n",
       "    .dataframe thead th {\n",
       "        text-align: right;\n",
       "    }\n",
       "</style>\n",
       "<table border=\"1\" class=\"dataframe\">\n",
       "  <thead>\n",
       "    <tr style=\"text-align: right;\">\n",
       "      <th></th>\n",
       "      <th>unique_id</th>\n",
       "      <th>maternal_agecat</th>\n",
       "      <th>ethgroup</th>\n",
       "      <th>g1_gender_arc</th>\n",
       "      <th>imddecile</th>\n",
       "      <th>g1_dob_arc1</th>\n",
       "      <th>syn_g0_surname</th>\n",
       "      <th>syn_g1_surname</th>\n",
       "      <th>syn_g1_firstname</th>\n",
       "    </tr>\n",
       "  </thead>\n",
       "  <tbody>\n",
       "    <tr>\n",
       "      <th>0</th>\n",
       "      <td>90000211</td>\n",
       "      <td>&lt;20</td>\n",
       "      <td>Black</td>\n",
       "      <td>Male</td>\n",
       "      <td>1.0</td>\n",
       "      <td>1992-02-01</td>\n",
       "      <td>webster</td>\n",
       "      <td>webster</td>\n",
       "      <td>lamarr</td>\n",
       "    </tr>\n",
       "    <tr>\n",
       "      <th>1</th>\n",
       "      <td>90000197</td>\n",
       "      <td>30-39</td>\n",
       "      <td>Black</td>\n",
       "      <td>Male</td>\n",
       "      <td>2.0</td>\n",
       "      <td>1992-09-08</td>\n",
       "      <td>jackson</td>\n",
       "      <td>jackson</td>\n",
       "      <td>kaare</td>\n",
       "    </tr>\n",
       "    <tr>\n",
       "      <th>2</th>\n",
       "      <td>90000094</td>\n",
       "      <td>20-29</td>\n",
       "      <td>Asian</td>\n",
       "      <td>Male</td>\n",
       "      <td>NaN</td>\n",
       "      <td>1992-06-18</td>\n",
       "      <td>kapoor</td>\n",
       "      <td>zilahy</td>\n",
       "      <td>Umar</td>\n",
       "    </tr>\n",
       "    <tr>\n",
       "      <th>3</th>\n",
       "      <td>90000084</td>\n",
       "      <td>40+</td>\n",
       "      <td>Asian</td>\n",
       "      <td>Male</td>\n",
       "      <td>4.0</td>\n",
       "      <td>1991-12-18</td>\n",
       "      <td>bartlett</td>\n",
       "      <td>bartlett</td>\n",
       "      <td>Jan</td>\n",
       "    </tr>\n",
       "    <tr>\n",
       "      <th>4</th>\n",
       "      <td>90002500</td>\n",
       "      <td>&lt;20</td>\n",
       "      <td>Other</td>\n",
       "      <td>Female</td>\n",
       "      <td>5.0</td>\n",
       "      <td>1991-11-13</td>\n",
       "      <td>madgewick</td>\n",
       "      <td>chervinskyi</td>\n",
       "      <td>Aaron</td>\n",
       "    </tr>\n",
       "  </tbody>\n",
       "</table>\n",
       "</div>"
      ],
      "text/plain": [
       "   unique_id maternal_agecat ethgroup g1_gender_arc imddecile g1_dob_arc1  \\\n",
       "0   90000211             <20    Black          Male       1.0  1992-02-01   \n",
       "1   90000197           30-39    Black          Male       2.0  1992-09-08   \n",
       "2   90000094           20-29    Asian          Male       NaN  1992-06-18   \n",
       "3   90000084             40+    Asian          Male       4.0  1991-12-18   \n",
       "4   90002500             <20    Other        Female       5.0  1991-11-13   \n",
       "\n",
       "  syn_g0_surname syn_g1_surname syn_g1_firstname  \n",
       "0        webster        webster           lamarr  \n",
       "1        jackson        jackson            kaare  \n",
       "2         kapoor         zilahy             Umar  \n",
       "3       bartlett       bartlett              Jan  \n",
       "4      madgewick    chervinskyi            Aaron  "
      ]
     },
     "execution_count": 26,
     "metadata": {},
     "output_type": "execute_result"
    }
   ],
   "source": [
    "# formatting to splink - scenario 2\n",
    "import os\n",
    "import pandas as pd\n",
    "import altair as alt\n",
    "alt.renderers.enable('html')\n",
    "# import data\n",
    "import numpy as np\n",
    "\n",
    "data_set = 3\n",
    "\n",
    "df = pd.read_csv(f\"corrupted\\\\scen2\\\\20231027_data{data_set}.csv\") \n",
    "\n",
    "df['unique_id'] = df['unique_id'] + 90000000\n",
    "# formatting\n",
    "# drop useless rows?\n",
    "column_names = df.columns.tolist()\n",
    "columns_to_keep = ['unique_id' , 'maternal_agecat', 'ethgroup', 'g1_gender_arc', 'imddecile', 'g1_dob_arc1', 'syn_g0_surname', 'syn_g1_surname', 'syn_g1_firstname'] \n",
    "df = df.loc[:, columns_to_keep]\n",
    "#df[\"g1_dob_arc1\"] = pd.to_datetime(df[\"g1_dob_arc1\"], unit = \"D\")\n",
    "\n",
    "df[\"g1_dob_str\"] = df[\"g1_dob_arc1\"].astype(str)\n",
    "df[\"g1_dob_str\"] = df[\"g1_dob_str\"].str[:10]\n",
    "df[\"g1_dob_arc1\"] = df[\"g1_dob_str\"]\n",
    "df.drop(columns = \"g1_dob_str\")\n",
    "\n",
    "# inspect vars, code \"missing\" into nulls.\n",
    "df['maternal_agecat'] = df['maternal_agecat'].replace('missing', np.nan)\n",
    "df['ethgroup'] = df['ethgroup'].replace('missing', np.nan)\n",
    "df['imddecile'] = df['imddecile'].replace('missing', np.nan)\n",
    "df['syn_g1_firstname'] = df['syn_g1_firstname'].replace('missing', np.nan)\n",
    "\n",
    "columns_to_keep = ['unique_id' , 'maternal_agecat', 'ethgroup', 'g1_gender_arc', 'imddecile', 'g1_dob_arc1', 'syn_g0_surname', 'syn_g1_surname', 'syn_g1_firstname'] \n",
    "df = df.loc[:, columns_to_keep]\n",
    "\n",
    "# import uncorrupted data\n",
    "directory = os.path.join(os.getcwd(), \"output\\\\associated\")\n",
    "file_name = f\"data_{data_set}_associated.csv\"\n",
    "file_path = os.path.join(directory, file_name)\n",
    "undrawn_df = pd.read_csv(file_path)\n",
    "\n",
    "# create gold standard (with cluster), by keeping uncorrupted = True rows.\n",
    "undrawn_df['uncorrupted_record'] = undrawn_df['uncorrupted_record'].astype(bool)\n",
    "gold_df = undrawn_df[undrawn_df['uncorrupted_record']]\n",
    "columns_to_keep = ['cluster', 'unique_id' , 'maternal_agecat', 'ethgroup', 'g1_gender_arc', 'imddecile', 'g1_dob_arc1', 'syn_g0_surname', 'syn_g1_surname', 'syn_g1_firstname'] \n",
    "gold_df = gold_df.loc[:, columns_to_keep]\n",
    "\n",
    "#gold_df[\"g1_dob_arc1\"] = pd.to_datetime(gold_df[\"g1_dob_arc1\"], unit = \"D\")\n",
    "#gold_df['g1_dob_arc1']=pd.to_datetime(gold_df['g1_dob_arc1'], format = '%d/%m/%Y') \n",
    "\n",
    "gold_df[\"g1_dob_str\"] = gold_df[\"g1_dob_arc1\"].astype(str)\n",
    "gold_df[\"g1_dob_str\"] = gold_df[\"g1_dob_str\"].str[:10]\n",
    "gold_df[\"g1_dob_arc1\"] = gold_df[\"g1_dob_str\"]\n",
    "gold_df.drop(columns = \"g1_dob_str\")\n",
    "\n",
    "gold_df['maternal_agecat'] = gold_df['maternal_agecat'].replace('', np.nan)\n",
    "gold_df['ethgroup'] = gold_df['ethgroup'].replace('Missing', np.nan)\n",
    "gold_df['imddecile'] = gold_df['imddecile'].replace('', np.nan)\n",
    "gold_df['syn_g1_firstname'] = gold_df['syn_g1_firstname'].replace('missing', np.nan)\n",
    "\n",
    "columns_to_keep = ['unique_id' , 'maternal_agecat', 'ethgroup', 'g1_gender_arc', 'imddecile', 'g1_dob_arc1', 'syn_g0_surname', 'syn_g1_surname', 'syn_g1_firstname'] \n",
    "gold_df = gold_df.loc[:, columns_to_keep]\n",
    "\n",
    "df.head(5)\n",
    "# gold_df.head(5)\n",
    "# gold_df['g1_dob_arc1']=pd.to_datetime(df['g1_dob_arc1'].astype(str), format='%Y-%m-%d')\n",
    "\n"
   ]
  },
  {
   "cell_type": "code",
   "execution_count": 2,
   "metadata": {},
   "outputs": [
    {
     "data": {
      "text/html": [
       "\n",
       "<style>\n",
       "  #altair-viz-e23b7351e4a846bcafa0a26b77d3be06.vega-embed {\n",
       "    width: 100%;\n",
       "    display: flex;\n",
       "  }\n",
       "\n",
       "  #altair-viz-e23b7351e4a846bcafa0a26b77d3be06.vega-embed details,\n",
       "  #altair-viz-e23b7351e4a846bcafa0a26b77d3be06.vega-embed details summary {\n",
       "    position: relative;\n",
       "  }\n",
       "</style>\n",
       "<div id=\"altair-viz-e23b7351e4a846bcafa0a26b77d3be06\"></div>\n",
       "<script type=\"text/javascript\">\n",
       "  var VEGA_DEBUG = (typeof VEGA_DEBUG == \"undefined\") ? {} : VEGA_DEBUG;\n",
       "  (function(spec, embedOpt){\n",
       "    let outputDiv = document.currentScript.previousElementSibling;\n",
       "    if (outputDiv.id !== \"altair-viz-e23b7351e4a846bcafa0a26b77d3be06\") {\n",
       "      outputDiv = document.getElementById(\"altair-viz-e23b7351e4a846bcafa0a26b77d3be06\");\n",
       "    }\n",
       "    const paths = {\n",
       "      \"vega\": \"https://cdn.jsdelivr.net/npm/vega@5?noext\",\n",
       "      \"vega-lib\": \"https://cdn.jsdelivr.net/npm/vega-lib?noext\",\n",
       "      \"vega-lite\": \"https://cdn.jsdelivr.net/npm/vega-lite@5.8.0?noext\",\n",
       "      \"vega-embed\": \"https://cdn.jsdelivr.net/npm/vega-embed@6?noext\",\n",
       "    };\n",
       "\n",
       "    function maybeLoadScript(lib, version) {\n",
       "      var key = `${lib.replace(\"-\", \"\")}_version`;\n",
       "      return (VEGA_DEBUG[key] == version) ?\n",
       "        Promise.resolve(paths[lib]) :\n",
       "        new Promise(function(resolve, reject) {\n",
       "          var s = document.createElement('script');\n",
       "          document.getElementsByTagName(\"head\")[0].appendChild(s);\n",
       "          s.async = true;\n",
       "          s.onload = () => {\n",
       "            VEGA_DEBUG[key] = version;\n",
       "            return resolve(paths[lib]);\n",
       "          };\n",
       "          s.onerror = () => reject(`Error loading script: ${paths[lib]}`);\n",
       "          s.src = paths[lib];\n",
       "        });\n",
       "    }\n",
       "\n",
       "    function showError(err) {\n",
       "      outputDiv.innerHTML = `<div class=\"error\" style=\"color:red;\">${err}</div>`;\n",
       "      throw err;\n",
       "    }\n",
       "\n",
       "    function displayChart(vegaEmbed) {\n",
       "      vegaEmbed(outputDiv, spec, embedOpt)\n",
       "        .catch(err => showError(`Javascript Error: ${err.message}<br>This usually means there's a typo in your chart specification. See the javascript console for the full traceback.`));\n",
       "    }\n",
       "\n",
       "    if(typeof define === \"function\" && define.amd) {\n",
       "      requirejs.config({paths});\n",
       "      require([\"vega-embed\"], displayChart, err => showError(`Error loading script: ${err.message}`));\n",
       "    } else {\n",
       "      maybeLoadScript(\"vega\", \"5\")\n",
       "        .then(() => maybeLoadScript(\"vega-lite\", \"5.8.0\"))\n",
       "        .then(() => maybeLoadScript(\"vega-embed\", \"6\"))\n",
       "        .catch(showError)\n",
       "        .then(() => displayChart(vegaEmbed));\n",
       "    }\n",
       "  })({\"config\": {\"view\": {\"continuousWidth\": 400, \"continuousHeight\": 300}}, \"vconcat\": [{\"hconcat\": [{\"mark\": {\"type\": \"line\", \"interpolate\": \"step-after\"}, \"data\": {\"values\": [{\"percentile_ex_nulls\": 0.0, \"percentile_inc_nulls\": 0.0, \"value_count\": 1, \"group_name\": \"_unique_id_\", \"total_non_null_rows\": 13281, \"total_rows_inc_nulls\": 13281, \"sum_tokens_in_value_count_group\": 13281.0, \"distinct_value_count\": 13281}, {\"percentile_ex_nulls\": 1.0, \"percentile_inc_nulls\": 1.0, \"value_count\": 1, \"group_name\": \"_unique_id_\", \"total_non_null_rows\": 13281, \"total_rows_inc_nulls\": 13281, \"sum_tokens_in_value_count_group\": 13281.0, \"distinct_value_count\": 13281}]}, \"encoding\": {\"tooltip\": [{\"field\": \"value_count\", \"type\": \"quantitative\"}, {\"field\": \"percentile_ex_nulls\", \"type\": \"quantitative\"}, {\"field\": \"percentile_inc_nulls\", \"type\": \"quantitative\"}, {\"field\": \"total_non_null_rows\", \"type\": \"quantitative\"}, {\"field\": \"total_rows_inc_nulls\", \"type\": \"quantitative\"}], \"x\": {\"field\": \"percentile_ex_nulls\", \"sort\": \"descending\", \"title\": \"Percentile\", \"type\": \"quantitative\"}, \"y\": {\"field\": \"value_count\", \"title\": \"Count of values\", \"type\": \"quantitative\"}}, \"title\": {\"text\": \"Distribution of counts of values in column \\\"unique_id\\\"\", \"subtitle\": \"In this col, 0 values (0.0%) are null and there are 13281 distinct values\"}}, {\"mark\": \"bar\", \"data\": {\"values\": [{\"value_count\": 1, \"group_name\": \"_unique_id_\", \"value\": \"90000063\", \"total_non_null_rows\": 13281, \"total_rows_inc_nulls\": 13281, \"distinct_value_count\": 13281}, {\"value_count\": 1, \"group_name\": \"_unique_id_\", \"value\": \"90002470\", \"total_non_null_rows\": 13281, \"total_rows_inc_nulls\": 13281, \"distinct_value_count\": 13281}, {\"value_count\": 1, \"group_name\": \"_unique_id_\", \"value\": \"90002477\", \"total_non_null_rows\": 13281, \"total_rows_inc_nulls\": 13281, \"distinct_value_count\": 13281}, {\"value_count\": 1, \"group_name\": \"_unique_id_\", \"value\": \"90000165\", \"total_non_null_rows\": 13281, \"total_rows_inc_nulls\": 13281, \"distinct_value_count\": 13281}, {\"value_count\": 1, \"group_name\": \"_unique_id_\", \"value\": \"90000096\", \"total_non_null_rows\": 13281, \"total_rows_inc_nulls\": 13281, \"distinct_value_count\": 13281}, {\"value_count\": 1, \"group_name\": \"_unique_id_\", \"value\": \"90000112\", \"total_non_null_rows\": 13281, \"total_rows_inc_nulls\": 13281, \"distinct_value_count\": 13281}, {\"value_count\": 1, \"group_name\": \"_unique_id_\", \"value\": \"90000938\", \"total_non_null_rows\": 13281, \"total_rows_inc_nulls\": 13281, \"distinct_value_count\": 13281}, {\"value_count\": 1, \"group_name\": \"_unique_id_\", \"value\": \"90010537\", \"total_non_null_rows\": 13281, \"total_rows_inc_nulls\": 13281, \"distinct_value_count\": 13281}, {\"value_count\": 1, \"group_name\": \"_unique_id_\", \"value\": \"90009421\", \"total_non_null_rows\": 13281, \"total_rows_inc_nulls\": 13281, \"distinct_value_count\": 13281}, {\"value_count\": 1, \"group_name\": \"_unique_id_\", \"value\": \"90000186\", \"total_non_null_rows\": 13281, \"total_rows_inc_nulls\": 13281, \"distinct_value_count\": 13281}]}, \"encoding\": {\"tooltip\": [{\"field\": \"value\", \"type\": \"nominal\"}, {\"field\": \"value_count\", \"type\": \"quantitative\"}, {\"field\": \"total_non_null_rows\", \"type\": \"quantitative\"}, {\"field\": \"total_rows_inc_nulls\", \"type\": \"quantitative\"}], \"x\": {\"field\": \"value\", \"sort\": \"-y\", \"title\": null, \"type\": \"nominal\"}, \"y\": {\"field\": \"value_count\", \"title\": \"Value count\", \"type\": \"quantitative\"}}, \"title\": \"Top 10 values by value count\"}, {\"mark\": \"bar\", \"data\": {\"values\": [{\"value_count\": 1, \"group_name\": \"_unique_id_\", \"value\": \"90000063\", \"total_non_null_rows\": 13281, \"total_rows_inc_nulls\": 13281, \"distinct_value_count\": 13281}, {\"value_count\": 1, \"group_name\": \"_unique_id_\", \"value\": \"90002470\", \"total_non_null_rows\": 13281, \"total_rows_inc_nulls\": 13281, \"distinct_value_count\": 13281}, {\"value_count\": 1, \"group_name\": \"_unique_id_\", \"value\": \"90002477\", \"total_non_null_rows\": 13281, \"total_rows_inc_nulls\": 13281, \"distinct_value_count\": 13281}, {\"value_count\": 1, \"group_name\": \"_unique_id_\", \"value\": \"90000165\", \"total_non_null_rows\": 13281, \"total_rows_inc_nulls\": 13281, \"distinct_value_count\": 13281}, {\"value_count\": 1, \"group_name\": \"_unique_id_\", \"value\": \"90000096\", \"total_non_null_rows\": 13281, \"total_rows_inc_nulls\": 13281, \"distinct_value_count\": 13281}, {\"value_count\": 1, \"group_name\": \"_unique_id_\", \"value\": \"90000112\", \"total_non_null_rows\": 13281, \"total_rows_inc_nulls\": 13281, \"distinct_value_count\": 13281}, {\"value_count\": 1, \"group_name\": \"_unique_id_\", \"value\": \"90000938\", \"total_non_null_rows\": 13281, \"total_rows_inc_nulls\": 13281, \"distinct_value_count\": 13281}, {\"value_count\": 1, \"group_name\": \"_unique_id_\", \"value\": \"90010537\", \"total_non_null_rows\": 13281, \"total_rows_inc_nulls\": 13281, \"distinct_value_count\": 13281}, {\"value_count\": 1, \"group_name\": \"_unique_id_\", \"value\": \"90009421\", \"total_non_null_rows\": 13281, \"total_rows_inc_nulls\": 13281, \"distinct_value_count\": 13281}, {\"value_count\": 1, \"group_name\": \"_unique_id_\", \"value\": \"90000186\", \"total_non_null_rows\": 13281, \"total_rows_inc_nulls\": 13281, \"distinct_value_count\": 13281}]}, \"encoding\": {\"tooltip\": [{\"field\": \"value\", \"type\": \"nominal\"}, {\"field\": \"value_count\", \"type\": \"quantitative\"}, {\"field\": \"total_non_null_rows\", \"type\": \"quantitative\"}, {\"field\": \"total_rows_inc_nulls\", \"type\": \"quantitative\"}], \"x\": {\"field\": \"value\", \"sort\": \"-y\", \"title\": null, \"type\": \"nominal\"}, \"y\": {\"field\": \"value_count\", \"scale\": {\"domain\": [0, 1]}, \"title\": \"Value count\", \"type\": \"quantitative\"}}, \"title\": \"Bottom 10 values by value count\"}]}, {\"hconcat\": [{\"mark\": {\"type\": \"line\", \"interpolate\": \"step-after\"}, \"data\": {\"values\": [{\"percentile_ex_nulls\": 0.4258403778076172, \"percentile_inc_nulls\": 0.4572697877883911, \"value_count\": 7208, \"group_name\": \"_maternal_agecat_\", \"total_non_null_rows\": 12554, \"total_rows_inc_nulls\": 13281, \"sum_tokens_in_value_count_group\": 7208.0, \"distinct_value_count\": 4}, {\"percentile_ex_nulls\": 0.053927063941955566, \"percentile_inc_nulls\": 0.10571491718292236, \"value_count\": 4669, \"group_name\": \"_maternal_agecat_\", \"total_non_null_rows\": 12554, \"total_rows_inc_nulls\": 13281, \"sum_tokens_in_value_count_group\": 4669.0, \"distinct_value_count\": 4}, {\"percentile_ex_nulls\": 0.011470437049865723, \"percentile_inc_nulls\": 0.06558239459991455, \"value_count\": 533, \"group_name\": \"_maternal_agecat_\", \"total_non_null_rows\": 12554, \"total_rows_inc_nulls\": 13281, \"sum_tokens_in_value_count_group\": 533.0, \"distinct_value_count\": 4}, {\"percentile_ex_nulls\": 0.0, \"percentile_inc_nulls\": 0.05473983287811279, \"value_count\": 144, \"group_name\": \"_maternal_agecat_\", \"total_non_null_rows\": 12554, \"total_rows_inc_nulls\": 13281, \"sum_tokens_in_value_count_group\": 144.0, \"distinct_value_count\": 4}, {\"percentile_ex_nulls\": 1.0, \"percentile_inc_nulls\": 1.0, \"value_count\": 7208, \"group_name\": \"_maternal_agecat_\", \"total_non_null_rows\": 12554, \"total_rows_inc_nulls\": 13281, \"sum_tokens_in_value_count_group\": 7208.0, \"distinct_value_count\": 4}]}, \"encoding\": {\"tooltip\": [{\"field\": \"value_count\", \"type\": \"quantitative\"}, {\"field\": \"percentile_ex_nulls\", \"type\": \"quantitative\"}, {\"field\": \"percentile_inc_nulls\", \"type\": \"quantitative\"}, {\"field\": \"total_non_null_rows\", \"type\": \"quantitative\"}, {\"field\": \"total_rows_inc_nulls\", \"type\": \"quantitative\"}], \"x\": {\"field\": \"percentile_ex_nulls\", \"sort\": \"descending\", \"title\": \"Percentile\", \"type\": \"quantitative\"}, \"y\": {\"field\": \"value_count\", \"title\": \"Count of values\", \"type\": \"quantitative\"}}, \"title\": {\"text\": \"Distribution of counts of values in column \\\"maternal_agecat\\\"\", \"subtitle\": \"In this col, 727 values (5.5%) are null and there are 4 distinct values\"}}, {\"mark\": \"bar\", \"data\": {\"values\": [{\"value_count\": 7208, \"group_name\": \"_maternal_agecat_\", \"value\": \"20-29\", \"total_non_null_rows\": 12554, \"total_rows_inc_nulls\": 13281, \"distinct_value_count\": 4}, {\"value_count\": 4669, \"group_name\": \"_maternal_agecat_\", \"value\": \"30-39\", \"total_non_null_rows\": 12554, \"total_rows_inc_nulls\": 13281, \"distinct_value_count\": 4}, {\"value_count\": 533, \"group_name\": \"_maternal_agecat_\", \"value\": \"<20\", \"total_non_null_rows\": 12554, \"total_rows_inc_nulls\": 13281, \"distinct_value_count\": 4}, {\"value_count\": 144, \"group_name\": \"_maternal_agecat_\", \"value\": \"40+\", \"total_non_null_rows\": 12554, \"total_rows_inc_nulls\": 13281, \"distinct_value_count\": 4}]}, \"encoding\": {\"tooltip\": [{\"field\": \"value\", \"type\": \"nominal\"}, {\"field\": \"value_count\", \"type\": \"quantitative\"}, {\"field\": \"total_non_null_rows\", \"type\": \"quantitative\"}, {\"field\": \"total_rows_inc_nulls\", \"type\": \"quantitative\"}], \"x\": {\"field\": \"value\", \"sort\": \"-y\", \"title\": null, \"type\": \"nominal\"}, \"y\": {\"field\": \"value_count\", \"title\": \"Value count\", \"type\": \"quantitative\"}}, \"title\": \"Top 4 values by value count\"}, {\"mark\": \"bar\", \"data\": {\"values\": [{\"value_count\": 144, \"group_name\": \"_maternal_agecat_\", \"value\": \"40+\", \"total_non_null_rows\": 12554, \"total_rows_inc_nulls\": 13281, \"distinct_value_count\": 4}, {\"value_count\": 533, \"group_name\": \"_maternal_agecat_\", \"value\": \"<20\", \"total_non_null_rows\": 12554, \"total_rows_inc_nulls\": 13281, \"distinct_value_count\": 4}, {\"value_count\": 4669, \"group_name\": \"_maternal_agecat_\", \"value\": \"30-39\", \"total_non_null_rows\": 12554, \"total_rows_inc_nulls\": 13281, \"distinct_value_count\": 4}, {\"value_count\": 7208, \"group_name\": \"_maternal_agecat_\", \"value\": \"20-29\", \"total_non_null_rows\": 12554, \"total_rows_inc_nulls\": 13281, \"distinct_value_count\": 4}]}, \"encoding\": {\"tooltip\": [{\"field\": \"value\", \"type\": \"nominal\"}, {\"field\": \"value_count\", \"type\": \"quantitative\"}, {\"field\": \"total_non_null_rows\", \"type\": \"quantitative\"}, {\"field\": \"total_rows_inc_nulls\", \"type\": \"quantitative\"}], \"x\": {\"field\": \"value\", \"sort\": \"-y\", \"title\": null, \"type\": \"nominal\"}, \"y\": {\"field\": \"value_count\", \"scale\": {\"domain\": [0, 7208]}, \"title\": \"Value count\", \"type\": \"quantitative\"}}, \"title\": \"Bottom 4 values by value count\"}]}, {\"hconcat\": [{\"mark\": {\"type\": \"line\", \"interpolate\": \"step-after\"}, \"data\": {\"values\": [{\"percentile_ex_nulls\": 0.02558767795562744, \"percentile_inc_nulls\": 0.1885400414466858, \"value_count\": 10777, \"group_name\": \"_ethgroup_\", \"total_non_null_rows\": 11060, \"total_rows_inc_nulls\": 13281, \"sum_tokens_in_value_count_group\": 10777.0, \"distinct_value_count\": 4}, {\"percentile_ex_nulls\": 0.014466524124145508, \"percentile_inc_nulls\": 0.1792786717414856, \"value_count\": 123, \"group_name\": \"_ethgroup_\", \"total_non_null_rows\": 11060, \"total_rows_inc_nulls\": 13281, \"sum_tokens_in_value_count_group\": 123.0, \"distinct_value_count\": 4}, {\"percentile_ex_nulls\": 0.005063295364379883, \"percentile_inc_nulls\": 0.17144793272018433, \"value_count\": 104, \"group_name\": \"_ethgroup_\", \"total_non_null_rows\": 11060, \"total_rows_inc_nulls\": 13281, \"sum_tokens_in_value_count_group\": 104.0, \"distinct_value_count\": 4}, {\"percentile_ex_nulls\": 0.0, \"percentile_inc_nulls\": 0.16723138093948364, \"value_count\": 56, \"group_name\": \"_ethgroup_\", \"total_non_null_rows\": 11060, \"total_rows_inc_nulls\": 13281, \"sum_tokens_in_value_count_group\": 56.0, \"distinct_value_count\": 4}, {\"percentile_ex_nulls\": 1.0, \"percentile_inc_nulls\": 1.0, \"value_count\": 10777, \"group_name\": \"_ethgroup_\", \"total_non_null_rows\": 11060, \"total_rows_inc_nulls\": 13281, \"sum_tokens_in_value_count_group\": 10777.0, \"distinct_value_count\": 4}]}, \"encoding\": {\"tooltip\": [{\"field\": \"value_count\", \"type\": \"quantitative\"}, {\"field\": \"percentile_ex_nulls\", \"type\": \"quantitative\"}, {\"field\": \"percentile_inc_nulls\", \"type\": \"quantitative\"}, {\"field\": \"total_non_null_rows\", \"type\": \"quantitative\"}, {\"field\": \"total_rows_inc_nulls\", \"type\": \"quantitative\"}], \"x\": {\"field\": \"percentile_ex_nulls\", \"sort\": \"descending\", \"title\": \"Percentile\", \"type\": \"quantitative\"}, \"y\": {\"field\": \"value_count\", \"title\": \"Count of values\", \"type\": \"quantitative\"}}, \"title\": {\"text\": \"Distribution of counts of values in column \\\"ethgroup\\\"\", \"subtitle\": \"In this col, 2,221 values (16.7%) are null and there are 4 distinct values\"}}, {\"mark\": \"bar\", \"data\": {\"values\": [{\"value_count\": 10777, \"group_name\": \"_ethgroup_\", \"value\": \"White\", \"total_non_null_rows\": 11060, \"total_rows_inc_nulls\": 13281, \"distinct_value_count\": 4}, {\"value_count\": 123, \"group_name\": \"_ethgroup_\", \"value\": \"Black\", \"total_non_null_rows\": 11060, \"total_rows_inc_nulls\": 13281, \"distinct_value_count\": 4}, {\"value_count\": 104, \"group_name\": \"_ethgroup_\", \"value\": \"Asian\", \"total_non_null_rows\": 11060, \"total_rows_inc_nulls\": 13281, \"distinct_value_count\": 4}, {\"value_count\": 56, \"group_name\": \"_ethgroup_\", \"value\": \"Other\", \"total_non_null_rows\": 11060, \"total_rows_inc_nulls\": 13281, \"distinct_value_count\": 4}]}, \"encoding\": {\"tooltip\": [{\"field\": \"value\", \"type\": \"nominal\"}, {\"field\": \"value_count\", \"type\": \"quantitative\"}, {\"field\": \"total_non_null_rows\", \"type\": \"quantitative\"}, {\"field\": \"total_rows_inc_nulls\", \"type\": \"quantitative\"}], \"x\": {\"field\": \"value\", \"sort\": \"-y\", \"title\": null, \"type\": \"nominal\"}, \"y\": {\"field\": \"value_count\", \"title\": \"Value count\", \"type\": \"quantitative\"}}, \"title\": \"Top 4 values by value count\"}, {\"mark\": \"bar\", \"data\": {\"values\": [{\"value_count\": 56, \"group_name\": \"_ethgroup_\", \"value\": \"Other\", \"total_non_null_rows\": 11060, \"total_rows_inc_nulls\": 13281, \"distinct_value_count\": 4}, {\"value_count\": 104, \"group_name\": \"_ethgroup_\", \"value\": \"Asian\", \"total_non_null_rows\": 11060, \"total_rows_inc_nulls\": 13281, \"distinct_value_count\": 4}, {\"value_count\": 123, \"group_name\": \"_ethgroup_\", \"value\": \"Black\", \"total_non_null_rows\": 11060, \"total_rows_inc_nulls\": 13281, \"distinct_value_count\": 4}, {\"value_count\": 10777, \"group_name\": \"_ethgroup_\", \"value\": \"White\", \"total_non_null_rows\": 11060, \"total_rows_inc_nulls\": 13281, \"distinct_value_count\": 4}]}, \"encoding\": {\"tooltip\": [{\"field\": \"value\", \"type\": \"nominal\"}, {\"field\": \"value_count\", \"type\": \"quantitative\"}, {\"field\": \"total_non_null_rows\", \"type\": \"quantitative\"}, {\"field\": \"total_rows_inc_nulls\", \"type\": \"quantitative\"}], \"x\": {\"field\": \"value\", \"sort\": \"-y\", \"title\": null, \"type\": \"nominal\"}, \"y\": {\"field\": \"value_count\", \"scale\": {\"domain\": [0, 10777]}, \"title\": \"Value count\", \"type\": \"quantitative\"}}, \"title\": \"Bottom 4 values by value count\"}]}, {\"hconcat\": [{\"mark\": {\"type\": \"line\", \"interpolate\": \"step-after\"}, \"data\": {\"values\": [{\"percentile_ex_nulls\": 0.4934869408607483, \"percentile_inc_nulls\": 0.4934869408607483, \"value_count\": 6727, \"group_name\": \"_g1_gender_arc_\", \"total_non_null_rows\": 13281, \"total_rows_inc_nulls\": 13281, \"sum_tokens_in_value_count_group\": 6727.0, \"distinct_value_count\": 2}, {\"percentile_ex_nulls\": 0.0, \"percentile_inc_nulls\": 0.0, \"value_count\": 6554, \"group_name\": \"_g1_gender_arc_\", \"total_non_null_rows\": 13281, \"total_rows_inc_nulls\": 13281, \"sum_tokens_in_value_count_group\": 6554.0, \"distinct_value_count\": 2}, {\"percentile_ex_nulls\": 1.0, \"percentile_inc_nulls\": 1.0, \"value_count\": 6727, \"group_name\": \"_g1_gender_arc_\", \"total_non_null_rows\": 13281, \"total_rows_inc_nulls\": 13281, \"sum_tokens_in_value_count_group\": 6727.0, \"distinct_value_count\": 2}]}, \"encoding\": {\"tooltip\": [{\"field\": \"value_count\", \"type\": \"quantitative\"}, {\"field\": \"percentile_ex_nulls\", \"type\": \"quantitative\"}, {\"field\": \"percentile_inc_nulls\", \"type\": \"quantitative\"}, {\"field\": \"total_non_null_rows\", \"type\": \"quantitative\"}, {\"field\": \"total_rows_inc_nulls\", \"type\": \"quantitative\"}], \"x\": {\"field\": \"percentile_ex_nulls\", \"sort\": \"descending\", \"title\": \"Percentile\", \"type\": \"quantitative\"}, \"y\": {\"field\": \"value_count\", \"title\": \"Count of values\", \"type\": \"quantitative\"}}, \"title\": {\"text\": \"Distribution of counts of values in column \\\"g1_gender_arc\\\"\", \"subtitle\": \"In this col, 0 values (0.0%) are null and there are 2 distinct values\"}}, {\"mark\": \"bar\", \"data\": {\"values\": [{\"value_count\": 6727, \"group_name\": \"_g1_gender_arc_\", \"value\": \"Male\", \"total_non_null_rows\": 13281, \"total_rows_inc_nulls\": 13281, \"distinct_value_count\": 2}, {\"value_count\": 6554, \"group_name\": \"_g1_gender_arc_\", \"value\": \"Female\", \"total_non_null_rows\": 13281, \"total_rows_inc_nulls\": 13281, \"distinct_value_count\": 2}]}, \"encoding\": {\"tooltip\": [{\"field\": \"value\", \"type\": \"nominal\"}, {\"field\": \"value_count\", \"type\": \"quantitative\"}, {\"field\": \"total_non_null_rows\", \"type\": \"quantitative\"}, {\"field\": \"total_rows_inc_nulls\", \"type\": \"quantitative\"}], \"x\": {\"field\": \"value\", \"sort\": \"-y\", \"title\": null, \"type\": \"nominal\"}, \"y\": {\"field\": \"value_count\", \"title\": \"Value count\", \"type\": \"quantitative\"}}, \"title\": \"Top 2 values by value count\"}, {\"mark\": \"bar\", \"data\": {\"values\": [{\"value_count\": 6554, \"group_name\": \"_g1_gender_arc_\", \"value\": \"Female\", \"total_non_null_rows\": 13281, \"total_rows_inc_nulls\": 13281, \"distinct_value_count\": 2}, {\"value_count\": 6727, \"group_name\": \"_g1_gender_arc_\", \"value\": \"Male\", \"total_non_null_rows\": 13281, \"total_rows_inc_nulls\": 13281, \"distinct_value_count\": 2}]}, \"encoding\": {\"tooltip\": [{\"field\": \"value\", \"type\": \"nominal\"}, {\"field\": \"value_count\", \"type\": \"quantitative\"}, {\"field\": \"total_non_null_rows\", \"type\": \"quantitative\"}, {\"field\": \"total_rows_inc_nulls\", \"type\": \"quantitative\"}], \"x\": {\"field\": \"value\", \"sort\": \"-y\", \"title\": null, \"type\": \"nominal\"}, \"y\": {\"field\": \"value_count\", \"scale\": {\"domain\": [0, 6727]}, \"title\": \"Value count\", \"type\": \"quantitative\"}}, \"title\": \"Bottom 2 values by value count\"}]}, {\"hconcat\": [{\"mark\": {\"type\": \"line\", \"interpolate\": \"step-after\"}, \"data\": {\"values\": [{\"percentile_ex_nulls\": 0.7153310775756836, \"percentile_inc_nulls\": 0.7627437710762024, \"value_count\": 3151, \"group_name\": \"_imddecile_\", \"total_non_null_rows\": 11069, \"total_rows_inc_nulls\": 13281, \"sum_tokens_in_value_count_group\": 3151.0, \"distinct_value_count\": 5}, {\"percentile_ex_nulls\": 0.49381154775619507, \"percentile_inc_nulls\": 0.578119158744812, \"value_count\": 2452, \"group_name\": \"_imddecile_\", \"total_non_null_rows\": 11069, \"total_rows_inc_nulls\": 13281, \"sum_tokens_in_value_count_group\": 2452.0, \"distinct_value_count\": 5}, {\"percentile_ex_nulls\": 0.3234257698059082, \"percentile_inc_nulls\": 0.4361117482185364, \"value_count\": 1886, \"group_name\": \"_imddecile_\", \"total_non_null_rows\": 11069, \"total_rows_inc_nulls\": 13281, \"sum_tokens_in_value_count_group\": 1886.0, \"distinct_value_count\": 5}, {\"percentile_ex_nulls\": 0.1567440629005432, \"percentile_inc_nulls\": 0.2971915006637573, \"value_count\": 1845, \"group_name\": \"_imddecile_\", \"total_non_null_rows\": 11069, \"total_rows_inc_nulls\": 13281, \"sum_tokens_in_value_count_group\": 1845.0, \"distinct_value_count\": 5}, {\"percentile_ex_nulls\": 0.0, \"percentile_inc_nulls\": 0.16655373573303223, \"value_count\": 1735, \"group_name\": \"_imddecile_\", \"total_non_null_rows\": 11069, \"total_rows_inc_nulls\": 13281, \"sum_tokens_in_value_count_group\": 1735.0, \"distinct_value_count\": 5}, {\"percentile_ex_nulls\": 1.0, \"percentile_inc_nulls\": 1.0, \"value_count\": 3151, \"group_name\": \"_imddecile_\", \"total_non_null_rows\": 11069, \"total_rows_inc_nulls\": 13281, \"sum_tokens_in_value_count_group\": 3151.0, \"distinct_value_count\": 5}]}, \"encoding\": {\"tooltip\": [{\"field\": \"value_count\", \"type\": \"quantitative\"}, {\"field\": \"percentile_ex_nulls\", \"type\": \"quantitative\"}, {\"field\": \"percentile_inc_nulls\", \"type\": \"quantitative\"}, {\"field\": \"total_non_null_rows\", \"type\": \"quantitative\"}, {\"field\": \"total_rows_inc_nulls\", \"type\": \"quantitative\"}], \"x\": {\"field\": \"percentile_ex_nulls\", \"sort\": \"descending\", \"title\": \"Percentile\", \"type\": \"quantitative\"}, \"y\": {\"field\": \"value_count\", \"title\": \"Count of values\", \"type\": \"quantitative\"}}, \"title\": {\"text\": \"Distribution of counts of values in column \\\"imddecile\\\"\", \"subtitle\": \"In this col, 2,212 values (16.7%) are null and there are 5 distinct values\"}}, {\"mark\": \"bar\", \"data\": {\"values\": [{\"value_count\": 3151, \"group_name\": \"_imddecile_\", \"value\": \"5.0\", \"total_non_null_rows\": 11069, \"total_rows_inc_nulls\": 13281, \"distinct_value_count\": 5}, {\"value_count\": 2452, \"group_name\": \"_imddecile_\", \"value\": \"4.0\", \"total_non_null_rows\": 11069, \"total_rows_inc_nulls\": 13281, \"distinct_value_count\": 5}, {\"value_count\": 1886, \"group_name\": \"_imddecile_\", \"value\": \"1.0\", \"total_non_null_rows\": 11069, \"total_rows_inc_nulls\": 13281, \"distinct_value_count\": 5}, {\"value_count\": 1845, \"group_name\": \"_imddecile_\", \"value\": \"3.0\", \"total_non_null_rows\": 11069, \"total_rows_inc_nulls\": 13281, \"distinct_value_count\": 5}, {\"value_count\": 1735, \"group_name\": \"_imddecile_\", \"value\": \"2.0\", \"total_non_null_rows\": 11069, \"total_rows_inc_nulls\": 13281, \"distinct_value_count\": 5}]}, \"encoding\": {\"tooltip\": [{\"field\": \"value\", \"type\": \"nominal\"}, {\"field\": \"value_count\", \"type\": \"quantitative\"}, {\"field\": \"total_non_null_rows\", \"type\": \"quantitative\"}, {\"field\": \"total_rows_inc_nulls\", \"type\": \"quantitative\"}], \"x\": {\"field\": \"value\", \"sort\": \"-y\", \"title\": null, \"type\": \"nominal\"}, \"y\": {\"field\": \"value_count\", \"title\": \"Value count\", \"type\": \"quantitative\"}}, \"title\": \"Top 5 values by value count\"}, {\"mark\": \"bar\", \"data\": {\"values\": [{\"value_count\": 1735, \"group_name\": \"_imddecile_\", \"value\": \"2.0\", \"total_non_null_rows\": 11069, \"total_rows_inc_nulls\": 13281, \"distinct_value_count\": 5}, {\"value_count\": 1845, \"group_name\": \"_imddecile_\", \"value\": \"3.0\", \"total_non_null_rows\": 11069, \"total_rows_inc_nulls\": 13281, \"distinct_value_count\": 5}, {\"value_count\": 1886, \"group_name\": \"_imddecile_\", \"value\": \"1.0\", \"total_non_null_rows\": 11069, \"total_rows_inc_nulls\": 13281, \"distinct_value_count\": 5}, {\"value_count\": 2452, \"group_name\": \"_imddecile_\", \"value\": \"4.0\", \"total_non_null_rows\": 11069, \"total_rows_inc_nulls\": 13281, \"distinct_value_count\": 5}, {\"value_count\": 3151, \"group_name\": \"_imddecile_\", \"value\": \"5.0\", \"total_non_null_rows\": 11069, \"total_rows_inc_nulls\": 13281, \"distinct_value_count\": 5}]}, \"encoding\": {\"tooltip\": [{\"field\": \"value\", \"type\": \"nominal\"}, {\"field\": \"value_count\", \"type\": \"quantitative\"}, {\"field\": \"total_non_null_rows\", \"type\": \"quantitative\"}, {\"field\": \"total_rows_inc_nulls\", \"type\": \"quantitative\"}], \"x\": {\"field\": \"value\", \"sort\": \"-y\", \"title\": null, \"type\": \"nominal\"}, \"y\": {\"field\": \"value_count\", \"scale\": {\"domain\": [0, 3151]}, \"title\": \"Value count\", \"type\": \"quantitative\"}}, \"title\": \"Bottom 5 values by value count\"}]}, {\"hconcat\": [{\"mark\": {\"type\": \"line\", \"interpolate\": \"step-after\"}, \"data\": {\"values\": [{\"percentile_ex_nulls\": 0.9963105320930481, \"percentile_inc_nulls\": 0.9963105320930481, \"value_count\": 49, \"group_name\": \"_g1_dob_arc1_\", \"total_non_null_rows\": 13281, \"total_rows_inc_nulls\": 13281, \"sum_tokens_in_value_count_group\": 49.0, \"distinct_value_count\": 672}, {\"percentile_ex_nulls\": 0.9930728077888489, \"percentile_inc_nulls\": 0.9930728077888489, \"value_count\": 43, \"group_name\": \"_g1_dob_arc1_\", \"total_non_null_rows\": 13281, \"total_rows_inc_nulls\": 13281, \"sum_tokens_in_value_count_group\": 43.0, \"distinct_value_count\": 672}, {\"percentile_ex_nulls\": 0.9900609850883484, \"percentile_inc_nulls\": 0.9900609850883484, \"value_count\": 40, \"group_name\": \"_g1_dob_arc1_\", \"total_non_null_rows\": 13281, \"total_rows_inc_nulls\": 13281, \"sum_tokens_in_value_count_group\": 40.0, \"distinct_value_count\": 672}, {\"percentile_ex_nulls\": 0.9841879606246948, \"percentile_inc_nulls\": 0.9841879606246948, \"value_count\": 39, \"group_name\": \"_g1_dob_arc1_\", \"total_non_null_rows\": 13281, \"total_rows_inc_nulls\": 13281, \"sum_tokens_in_value_count_group\": 78.0, \"distinct_value_count\": 672}, {\"percentile_ex_nulls\": 0.9784654974937439, \"percentile_inc_nulls\": 0.9784654974937439, \"value_count\": 38, \"group_name\": \"_g1_dob_arc1_\", \"total_non_null_rows\": 13281, \"total_rows_inc_nulls\": 13281, \"sum_tokens_in_value_count_group\": 76.0, \"distinct_value_count\": 672}, {\"percentile_ex_nulls\": 0.9673217535018921, \"percentile_inc_nulls\": 0.9673217535018921, \"value_count\": 37, \"group_name\": \"_g1_dob_arc1_\", \"total_non_null_rows\": 13281, \"total_rows_inc_nulls\": 13281, \"sum_tokens_in_value_count_group\": 148.0, \"distinct_value_count\": 672}, {\"percentile_ex_nulls\": 0.9591898322105408, \"percentile_inc_nulls\": 0.9591898322105408, \"value_count\": 36, \"group_name\": \"_g1_dob_arc1_\", \"total_non_null_rows\": 13281, \"total_rows_inc_nulls\": 13281, \"sum_tokens_in_value_count_group\": 108.0, \"distinct_value_count\": 672}, {\"percentile_ex_nulls\": 0.9512838125228882, \"percentile_inc_nulls\": 0.9512838125228882, \"value_count\": 35, \"group_name\": \"_g1_dob_arc1_\", \"total_non_null_rows\": 13281, \"total_rows_inc_nulls\": 13281, \"sum_tokens_in_value_count_group\": 105.0, \"distinct_value_count\": 672}, {\"percentile_ex_nulls\": 0.9384835362434387, \"percentile_inc_nulls\": 0.9384835362434387, \"value_count\": 34, \"group_name\": \"_g1_dob_arc1_\", \"total_non_null_rows\": 13281, \"total_rows_inc_nulls\": 13281, \"sum_tokens_in_value_count_group\": 170.0, \"distinct_value_count\": 672}, {\"percentile_ex_nulls\": 0.9161207675933838, \"percentile_inc_nulls\": 0.9161207675933838, \"value_count\": 33, \"group_name\": \"_g1_dob_arc1_\", \"total_non_null_rows\": 13281, \"total_rows_inc_nulls\": 13281, \"sum_tokens_in_value_count_group\": 297.0, \"distinct_value_count\": 672}, {\"percentile_ex_nulls\": 0.8968451023101807, \"percentile_inc_nulls\": 0.8968451023101807, \"value_count\": 32, \"group_name\": \"_g1_dob_arc1_\", \"total_non_null_rows\": 13281, \"total_rows_inc_nulls\": 13281, \"sum_tokens_in_value_count_group\": 256.0, \"distinct_value_count\": 672}, {\"percentile_ex_nulls\": 0.8641668558120728, \"percentile_inc_nulls\": 0.8641668558120728, \"value_count\": 31, \"group_name\": \"_g1_dob_arc1_\", \"total_non_null_rows\": 13281, \"total_rows_inc_nulls\": 13281, \"sum_tokens_in_value_count_group\": 434.0, \"distinct_value_count\": 672}, {\"percentile_ex_nulls\": 0.8189895153045654, \"percentile_inc_nulls\": 0.8189895153045654, \"value_count\": 30, \"group_name\": \"_g1_dob_arc1_\", \"total_non_null_rows\": 13281, \"total_rows_inc_nulls\": 13281, \"sum_tokens_in_value_count_group\": 600.0, \"distinct_value_count\": 672}, {\"percentile_ex_nulls\": 0.7862359881401062, \"percentile_inc_nulls\": 0.7862359881401062, \"value_count\": 29, \"group_name\": \"_g1_dob_arc1_\", \"total_non_null_rows\": 13281, \"total_rows_inc_nulls\": 13281, \"sum_tokens_in_value_count_group\": 435.0, \"distinct_value_count\": 672}, {\"percentile_ex_nulls\": 0.7546118497848511, \"percentile_inc_nulls\": 0.7546118497848511, \"value_count\": 28, \"group_name\": \"_g1_dob_arc1_\", \"total_non_null_rows\": 13281, \"total_rows_inc_nulls\": 13281, \"sum_tokens_in_value_count_group\": 420.0, \"distinct_value_count\": 672}, {\"percentile_ex_nulls\": 0.7058203220367432, \"percentile_inc_nulls\": 0.7058203220367432, \"value_count\": 27, \"group_name\": \"_g1_dob_arc1_\", \"total_non_null_rows\": 13281, \"total_rows_inc_nulls\": 13281, \"sum_tokens_in_value_count_group\": 648.0, \"distinct_value_count\": 672}, {\"percentile_ex_nulls\": 0.6607936024665833, \"percentile_inc_nulls\": 0.6607936024665833, \"value_count\": 26, \"group_name\": \"_g1_dob_arc1_\", \"total_non_null_rows\": 13281, \"total_rows_inc_nulls\": 13281, \"sum_tokens_in_value_count_group\": 598.0, \"distinct_value_count\": 672}, {\"percentile_ex_nulls\": 0.6174986958503723, \"percentile_inc_nulls\": 0.6174986958503723, \"value_count\": 25, \"group_name\": \"_g1_dob_arc1_\", \"total_non_null_rows\": 13281, \"total_rows_inc_nulls\": 13281, \"sum_tokens_in_value_count_group\": 575.0, \"distinct_value_count\": 672}, {\"percentile_ex_nulls\": 0.5596717000007629, \"percentile_inc_nulls\": 0.5596717000007629, \"value_count\": 24, \"group_name\": \"_g1_dob_arc1_\", \"total_non_null_rows\": 13281, \"total_rows_inc_nulls\": 13281, \"sum_tokens_in_value_count_group\": 768.0, \"distinct_value_count\": 672}, {\"percentile_ex_nulls\": 0.5025224089622498, \"percentile_inc_nulls\": 0.5025224089622498, \"value_count\": 23, \"group_name\": \"_g1_dob_arc1_\", \"total_non_null_rows\": 13281, \"total_rows_inc_nulls\": 13281, \"sum_tokens_in_value_count_group\": 759.0, \"distinct_value_count\": 672}, {\"percentile_ex_nulls\": 0.4511708617210388, \"percentile_inc_nulls\": 0.4511708617210388, \"value_count\": 22, \"group_name\": \"_g1_dob_arc1_\", \"total_non_null_rows\": 13281, \"total_rows_inc_nulls\": 13281, \"sum_tokens_in_value_count_group\": 682.0, \"distinct_value_count\": 672}, {\"percentile_ex_nulls\": 0.3895037770271301, \"percentile_inc_nulls\": 0.3895037770271301, \"value_count\": 21, \"group_name\": \"_g1_dob_arc1_\", \"total_non_null_rows\": 13281, \"total_rows_inc_nulls\": 13281, \"sum_tokens_in_value_count_group\": 819.0, \"distinct_value_count\": 672}, {\"percentile_ex_nulls\": 0.3217378258705139, \"percentile_inc_nulls\": 0.3217378258705139, \"value_count\": 20, \"group_name\": \"_g1_dob_arc1_\", \"total_non_null_rows\": 13281, \"total_rows_inc_nulls\": 13281, \"sum_tokens_in_value_count_group\": 900.0, \"distinct_value_count\": 672}, {\"percentile_ex_nulls\": 0.2630826234817505, \"percentile_inc_nulls\": 0.2630826234817505, \"value_count\": 19, \"group_name\": \"_g1_dob_arc1_\", \"total_non_null_rows\": 13281, \"total_rows_inc_nulls\": 13281, \"sum_tokens_in_value_count_group\": 779.0, \"distinct_value_count\": 672}, {\"percentile_ex_nulls\": 0.2224230170249939, \"percentile_inc_nulls\": 0.2224230170249939, \"value_count\": 18, \"group_name\": \"_g1_dob_arc1_\", \"total_non_null_rows\": 13281, \"total_rows_inc_nulls\": 13281, \"sum_tokens_in_value_count_group\": 540.0, \"distinct_value_count\": 672}, {\"percentile_ex_nulls\": 0.18530231714248657, \"percentile_inc_nulls\": 0.18530231714248657, \"value_count\": 17, \"group_name\": \"_g1_dob_arc1_\", \"total_non_null_rows\": 13281, \"total_rows_inc_nulls\": 13281, \"sum_tokens_in_value_count_group\": 493.0, \"distinct_value_count\": 672}, {\"percentile_ex_nulls\": 0.14072734117507935, \"percentile_inc_nulls\": 0.14072734117507935, \"value_count\": 16, \"group_name\": \"_g1_dob_arc1_\", \"total_non_null_rows\": 13281, \"total_rows_inc_nulls\": 13281, \"sum_tokens_in_value_count_group\": 592.0, \"distinct_value_count\": 672}, {\"percentile_ex_nulls\": 0.11700928211212158, \"percentile_inc_nulls\": 0.11700928211212158, \"value_count\": 15, \"group_name\": \"_g1_dob_arc1_\", \"total_non_null_rows\": 13281, \"total_rows_inc_nulls\": 13281, \"sum_tokens_in_value_count_group\": 315.0, \"distinct_value_count\": 672}, {\"percentile_ex_nulls\": 0.09170997142791748, \"percentile_inc_nulls\": 0.09170997142791748, \"value_count\": 14, \"group_name\": \"_g1_dob_arc1_\", \"total_non_null_rows\": 13281, \"total_rows_inc_nulls\": 13281, \"sum_tokens_in_value_count_group\": 336.0, \"distinct_value_count\": 672}, {\"percentile_ex_nulls\": 0.06919658184051514, \"percentile_inc_nulls\": 0.06919658184051514, \"value_count\": 13, \"group_name\": \"_g1_dob_arc1_\", \"total_non_null_rows\": 13281, \"total_rows_inc_nulls\": 13281, \"sum_tokens_in_value_count_group\": 299.0, \"distinct_value_count\": 672}, {\"percentile_ex_nulls\": 0.04841500520706177, \"percentile_inc_nulls\": 0.04841500520706177, \"value_count\": 12, \"group_name\": \"_g1_dob_arc1_\", \"total_non_null_rows\": 13281, \"total_rows_inc_nulls\": 13281, \"sum_tokens_in_value_count_group\": 276.0, \"distinct_value_count\": 672}, {\"percentile_ex_nulls\": 0.03599125146865845, \"percentile_inc_nulls\": 0.03599125146865845, \"value_count\": 11, \"group_name\": \"_g1_dob_arc1_\", \"total_non_null_rows\": 13281, \"total_rows_inc_nulls\": 13281, \"sum_tokens_in_value_count_group\": 165.0, \"distinct_value_count\": 672}, {\"percentile_ex_nulls\": 0.027708768844604492, \"percentile_inc_nulls\": 0.027708768844604492, \"value_count\": 10, \"group_name\": \"_g1_dob_arc1_\", \"total_non_null_rows\": 13281, \"total_rows_inc_nulls\": 13281, \"sum_tokens_in_value_count_group\": 110.0, \"distinct_value_count\": 672}, {\"percentile_ex_nulls\": 0.018899202346801758, \"percentile_inc_nulls\": 0.018899202346801758, \"value_count\": 9, \"group_name\": \"_g1_dob_arc1_\", \"total_non_null_rows\": 13281, \"total_rows_inc_nulls\": 13281, \"sum_tokens_in_value_count_group\": 117.0, \"distinct_value_count\": 672}, {\"percentile_ex_nulls\": 0.011068463325500488, \"percentile_inc_nulls\": 0.011068463325500488, \"value_count\": 8, \"group_name\": \"_g1_dob_arc1_\", \"total_non_null_rows\": 13281, \"total_rows_inc_nulls\": 13281, \"sum_tokens_in_value_count_group\": 104.0, \"distinct_value_count\": 672}, {\"percentile_ex_nulls\": 0.008433103561401367, \"percentile_inc_nulls\": 0.008433103561401367, \"value_count\": 7, \"group_name\": \"_g1_dob_arc1_\", \"total_non_null_rows\": 13281, \"total_rows_inc_nulls\": 13281, \"sum_tokens_in_value_count_group\": 35.0, \"distinct_value_count\": 672}, {\"percentile_ex_nulls\": 0.006626009941101074, \"percentile_inc_nulls\": 0.006626009941101074, \"value_count\": 6, \"group_name\": \"_g1_dob_arc1_\", \"total_non_null_rows\": 13281, \"total_rows_inc_nulls\": 13281, \"sum_tokens_in_value_count_group\": 24.0, \"distinct_value_count\": 672}, {\"percentile_ex_nulls\": 0.003990650177001953, \"percentile_inc_nulls\": 0.003990650177001953, \"value_count\": 5, \"group_name\": \"_g1_dob_arc1_\", \"total_non_null_rows\": 13281, \"total_rows_inc_nulls\": 13281, \"sum_tokens_in_value_count_group\": 35.0, \"distinct_value_count\": 672}, {\"percentile_ex_nulls\": 0.0018823742866516113, \"percentile_inc_nulls\": 0.0018823742866516113, \"value_count\": 4, \"group_name\": \"_g1_dob_arc1_\", \"total_non_null_rows\": 13281, \"total_rows_inc_nulls\": 13281, \"sum_tokens_in_value_count_group\": 28.0, \"distinct_value_count\": 672}, {\"percentile_ex_nulls\": 0.0012047290802001953, \"percentile_inc_nulls\": 0.0012047290802001953, \"value_count\": 3, \"group_name\": \"_g1_dob_arc1_\", \"total_non_null_rows\": 13281, \"total_rows_inc_nulls\": 13281, \"sum_tokens_in_value_count_group\": 9.0, \"distinct_value_count\": 672}, {\"percentile_ex_nulls\": 0.0007529258728027344, \"percentile_inc_nulls\": 0.0007529258728027344, \"value_count\": 2, \"group_name\": \"_g1_dob_arc1_\", \"total_non_null_rows\": 13281, \"total_rows_inc_nulls\": 13281, \"sum_tokens_in_value_count_group\": 6.0, \"distinct_value_count\": 672}, {\"percentile_ex_nulls\": 0.0, \"percentile_inc_nulls\": 0.0, \"value_count\": 1, \"group_name\": \"_g1_dob_arc1_\", \"total_non_null_rows\": 13281, \"total_rows_inc_nulls\": 13281, \"sum_tokens_in_value_count_group\": 10.0, \"distinct_value_count\": 672}, {\"percentile_ex_nulls\": 1.0, \"percentile_inc_nulls\": 1.0, \"value_count\": 49, \"group_name\": \"_g1_dob_arc1_\", \"total_non_null_rows\": 13281, \"total_rows_inc_nulls\": 13281, \"sum_tokens_in_value_count_group\": 49.0, \"distinct_value_count\": 672}]}, \"encoding\": {\"tooltip\": [{\"field\": \"value_count\", \"type\": \"quantitative\"}, {\"field\": \"percentile_ex_nulls\", \"type\": \"quantitative\"}, {\"field\": \"percentile_inc_nulls\", \"type\": \"quantitative\"}, {\"field\": \"total_non_null_rows\", \"type\": \"quantitative\"}, {\"field\": \"total_rows_inc_nulls\", \"type\": \"quantitative\"}], \"x\": {\"field\": \"percentile_ex_nulls\", \"sort\": \"descending\", \"title\": \"Percentile\", \"type\": \"quantitative\"}, \"y\": {\"field\": \"value_count\", \"title\": \"Count of values\", \"type\": \"quantitative\"}}, \"title\": {\"text\": \"Distribution of counts of values in column \\\"g1_dob_arc1\\\"\", \"subtitle\": \"In this col, 0 values (0.0%) are null and there are 672 distinct values\"}}, {\"mark\": \"bar\", \"data\": {\"values\": [{\"value_count\": 49, \"group_name\": \"_g1_dob_arc1_\", \"value\": \"1991-08-19\", \"total_non_null_rows\": 13281, \"total_rows_inc_nulls\": 13281, \"distinct_value_count\": 672}, {\"value_count\": 43, \"group_name\": \"_g1_dob_arc1_\", \"value\": \"1992-03-30\", \"total_non_null_rows\": 13281, \"total_rows_inc_nulls\": 13281, \"distinct_value_count\": 672}, {\"value_count\": 40, \"group_name\": \"_g1_dob_arc1_\", \"value\": \"1991-09-18\", \"total_non_null_rows\": 13281, \"total_rows_inc_nulls\": 13281, \"distinct_value_count\": 672}, {\"value_count\": 39, \"group_name\": \"_g1_dob_arc1_\", \"value\": \"1992-06-30\", \"total_non_null_rows\": 13281, \"total_rows_inc_nulls\": 13281, \"distinct_value_count\": 672}, {\"value_count\": 39, \"group_name\": \"_g1_dob_arc1_\", \"value\": \"1991-11-18\", \"total_non_null_rows\": 13281, \"total_rows_inc_nulls\": 13281, \"distinct_value_count\": 672}, {\"value_count\": 38, \"group_name\": \"_g1_dob_arc1_\", \"value\": \"1991-08-23\", \"total_non_null_rows\": 13281, \"total_rows_inc_nulls\": 13281, \"distinct_value_count\": 672}, {\"value_count\": 38, \"group_name\": \"_g1_dob_arc1_\", \"value\": \"1992-07-31\", \"total_non_null_rows\": 13281, \"total_rows_inc_nulls\": 13281, \"distinct_value_count\": 672}, {\"value_count\": 37, \"group_name\": \"_g1_dob_arc1_\", \"value\": \"1992-05-22\", \"total_non_null_rows\": 13281, \"total_rows_inc_nulls\": 13281, \"distinct_value_count\": 672}, {\"value_count\": 37, \"group_name\": \"_g1_dob_arc1_\", \"value\": \"1991-12-28\", \"total_non_null_rows\": 13281, \"total_rows_inc_nulls\": 13281, \"distinct_value_count\": 672}, {\"value_count\": 37, \"group_name\": \"_g1_dob_arc1_\", \"value\": \"1991-07-24\", \"total_non_null_rows\": 13281, \"total_rows_inc_nulls\": 13281, \"distinct_value_count\": 672}]}, \"encoding\": {\"tooltip\": [{\"field\": \"value\", \"type\": \"nominal\"}, {\"field\": \"value_count\", \"type\": \"quantitative\"}, {\"field\": \"total_non_null_rows\", \"type\": \"quantitative\"}, {\"field\": \"total_rows_inc_nulls\", \"type\": \"quantitative\"}], \"x\": {\"field\": \"value\", \"sort\": \"-y\", \"title\": null, \"type\": \"nominal\"}, \"y\": {\"field\": \"value_count\", \"title\": \"Value count\", \"type\": \"quantitative\"}}, \"title\": \"Top 10 values by value count\"}, {\"mark\": \"bar\", \"data\": {\"values\": [{\"value_count\": 1, \"group_name\": \"_g1_dob_arc1_\", \"value\": \"1993-01-08\", \"total_non_null_rows\": 13281, \"total_rows_inc_nulls\": 13281, \"distinct_value_count\": 672}, {\"value_count\": 1, \"group_name\": \"_g1_dob_arc1_\", \"value\": \"1991-02-17\", \"total_non_null_rows\": 13281, \"total_rows_inc_nulls\": 13281, \"distinct_value_count\": 672}, {\"value_count\": 1, \"group_name\": \"_g1_dob_arc1_\", \"value\": \"1991-03-15\", \"total_non_null_rows\": 13281, \"total_rows_inc_nulls\": 13281, \"distinct_value_count\": 672}, {\"value_count\": 1, \"group_name\": \"_g1_dob_arc1_\", \"value\": \"1991-03-05\", \"total_non_null_rows\": 13281, \"total_rows_inc_nulls\": 13281, \"distinct_value_count\": 672}, {\"value_count\": 1, \"group_name\": \"_g1_dob_arc1_\", \"value\": \"1991-03-25\", \"total_non_null_rows\": 13281, \"total_rows_inc_nulls\": 13281, \"distinct_value_count\": 672}, {\"value_count\": 1, \"group_name\": \"_g1_dob_arc1_\", \"value\": \"1991-03-23\", \"total_non_null_rows\": 13281, \"total_rows_inc_nulls\": 13281, \"distinct_value_count\": 672}, {\"value_count\": 1, \"group_name\": \"_g1_dob_arc1_\", \"value\": \"1991-03-07\", \"total_non_null_rows\": 13281, \"total_rows_inc_nulls\": 13281, \"distinct_value_count\": 672}, {\"value_count\": 1, \"group_name\": \"_g1_dob_arc1_\", \"value\": \"1993-01-04\", \"total_non_null_rows\": 13281, \"total_rows_inc_nulls\": 13281, \"distinct_value_count\": 672}, {\"value_count\": 1, \"group_name\": \"_g1_dob_arc1_\", \"value\": \"1993-01-14\", \"total_non_null_rows\": 13281, \"total_rows_inc_nulls\": 13281, \"distinct_value_count\": 672}, {\"value_count\": 1, \"group_name\": \"_g1_dob_arc1_\", \"value\": \"1993-01-05\", \"total_non_null_rows\": 13281, \"total_rows_inc_nulls\": 13281, \"distinct_value_count\": 672}]}, \"encoding\": {\"tooltip\": [{\"field\": \"value\", \"type\": \"nominal\"}, {\"field\": \"value_count\", \"type\": \"quantitative\"}, {\"field\": \"total_non_null_rows\", \"type\": \"quantitative\"}, {\"field\": \"total_rows_inc_nulls\", \"type\": \"quantitative\"}], \"x\": {\"field\": \"value\", \"sort\": \"-y\", \"title\": null, \"type\": \"nominal\"}, \"y\": {\"field\": \"value_count\", \"scale\": {\"domain\": [0, 49]}, \"title\": \"Value count\", \"type\": \"quantitative\"}}, \"title\": \"Bottom 10 values by value count\"}]}, {\"hconcat\": [{\"mark\": {\"type\": \"line\", \"interpolate\": \"step-after\"}, \"data\": {\"values\": [{\"percentile_ex_nulls\": 0.9902868866920471, \"percentile_inc_nulls\": 0.9902868866920471, \"value_count\": 129, \"group_name\": \"_syn_g0_surname_\", \"total_non_null_rows\": 13281, \"total_rows_inc_nulls\": 13281, \"sum_tokens_in_value_count_group\": 129.0, \"distinct_value_count\": 6926}, {\"percentile_ex_nulls\": 0.9829832315444946, \"percentile_inc_nulls\": 0.9829832315444946, \"value_count\": 97, \"group_name\": \"_syn_g0_surname_\", \"total_non_null_rows\": 13281, \"total_rows_inc_nulls\": 13281, \"sum_tokens_in_value_count_group\": 97.0, \"distinct_value_count\": 6926}, {\"percentile_ex_nulls\": 0.9761313199996948, \"percentile_inc_nulls\": 0.9761313199996948, \"value_count\": 91, \"group_name\": \"_syn_g0_surname_\", \"total_non_null_rows\": 13281, \"total_rows_inc_nulls\": 13281, \"sum_tokens_in_value_count_group\": 91.0, \"distinct_value_count\": 6926}, {\"percentile_ex_nulls\": 0.9713876843452454, \"percentile_inc_nulls\": 0.9713876843452454, \"value_count\": 63, \"group_name\": \"_syn_g0_surname_\", \"total_non_null_rows\": 13281, \"total_rows_inc_nulls\": 13281, \"sum_tokens_in_value_count_group\": 63.0, \"distinct_value_count\": 6926}, {\"percentile_ex_nulls\": 0.9667946696281433, \"percentile_inc_nulls\": 0.9667946696281433, \"value_count\": 61, \"group_name\": \"_syn_g0_surname_\", \"total_non_null_rows\": 13281, \"total_rows_inc_nulls\": 13281, \"sum_tokens_in_value_count_group\": 61.0, \"distinct_value_count\": 6926}, {\"percentile_ex_nulls\": 0.9622769355773926, \"percentile_inc_nulls\": 0.9622769355773926, \"value_count\": 60, \"group_name\": \"_syn_g0_surname_\", \"total_non_null_rows\": 13281, \"total_rows_inc_nulls\": 13281, \"sum_tokens_in_value_count_group\": 60.0, \"distinct_value_count\": 6926}, {\"percentile_ex_nulls\": 0.9539944529533386, \"percentile_inc_nulls\": 0.9539944529533386, \"value_count\": 55, \"group_name\": \"_syn_g0_surname_\", \"total_non_null_rows\": 13281, \"total_rows_inc_nulls\": 13281, \"sum_tokens_in_value_count_group\": 110.0, \"distinct_value_count\": 6926}, {\"percentile_ex_nulls\": 0.950380265712738, \"percentile_inc_nulls\": 0.950380265712738, \"value_count\": 48, \"group_name\": \"_syn_g0_surname_\", \"total_non_null_rows\": 13281, \"total_rows_inc_nulls\": 13281, \"sum_tokens_in_value_count_group\": 48.0, \"distinct_value_count\": 6926}, {\"percentile_ex_nulls\": 0.9468413591384888, \"percentile_inc_nulls\": 0.9468413591384888, \"value_count\": 47, \"group_name\": \"_syn_g0_surname_\", \"total_non_null_rows\": 13281, \"total_rows_inc_nulls\": 13281, \"sum_tokens_in_value_count_group\": 47.0, \"distinct_value_count\": 6926}, {\"percentile_ex_nulls\": 0.9402153491973877, \"percentile_inc_nulls\": 0.9402153491973877, \"value_count\": 44, \"group_name\": \"_syn_g0_surname_\", \"total_non_null_rows\": 13281, \"total_rows_inc_nulls\": 13281, \"sum_tokens_in_value_count_group\": 88.0, \"distinct_value_count\": 6926}, {\"percentile_ex_nulls\": 0.9372788071632385, \"percentile_inc_nulls\": 0.9372788071632385, \"value_count\": 39, \"group_name\": \"_syn_g0_surname_\", \"total_non_null_rows\": 13281, \"total_rows_inc_nulls\": 13281, \"sum_tokens_in_value_count_group\": 39.0, \"distinct_value_count\": 6926}, {\"percentile_ex_nulls\": 0.9289209842681885, \"percentile_inc_nulls\": 0.9289209842681885, \"value_count\": 37, \"group_name\": \"_syn_g0_surname_\", \"total_non_null_rows\": 13281, \"total_rows_inc_nulls\": 13281, \"sum_tokens_in_value_count_group\": 111.0, \"distinct_value_count\": 6926}, {\"percentile_ex_nulls\": 0.923650324344635, \"percentile_inc_nulls\": 0.923650324344635, \"value_count\": 35, \"group_name\": \"_syn_g0_surname_\", \"total_non_null_rows\": 13281, \"total_rows_inc_nulls\": 13281, \"sum_tokens_in_value_count_group\": 70.0, \"distinct_value_count\": 6926}, {\"percentile_ex_nulls\": 0.9161960482597351, \"percentile_inc_nulls\": 0.9161960482597351, \"value_count\": 33, \"group_name\": \"_syn_g0_surname_\", \"total_non_null_rows\": 13281, \"total_rows_inc_nulls\": 13281, \"sum_tokens_in_value_count_group\": 99.0, \"distinct_value_count\": 6926}, {\"percentile_ex_nulls\": 0.9137865900993347, \"percentile_inc_nulls\": 0.9137865900993347, \"value_count\": 32, \"group_name\": \"_syn_g0_surname_\", \"total_non_null_rows\": 13281, \"total_rows_inc_nulls\": 13281, \"sum_tokens_in_value_count_group\": 32.0, \"distinct_value_count\": 6926}, {\"percentile_ex_nulls\": 0.9114524722099304, \"percentile_inc_nulls\": 0.9114524722099304, \"value_count\": 31, \"group_name\": \"_syn_g0_surname_\", \"total_non_null_rows\": 13281, \"total_rows_inc_nulls\": 13281, \"sum_tokens_in_value_count_group\": 31.0, \"distinct_value_count\": 6926}, {\"percentile_ex_nulls\": 0.9091935753822327, \"percentile_inc_nulls\": 0.9091935753822327, \"value_count\": 30, \"group_name\": \"_syn_g0_surname_\", \"total_non_null_rows\": 13281, \"total_rows_inc_nulls\": 13281, \"sum_tokens_in_value_count_group\": 30.0, \"distinct_value_count\": 6926}, {\"percentile_ex_nulls\": 0.9048264622688293, \"percentile_inc_nulls\": 0.9048264622688293, \"value_count\": 29, \"group_name\": \"_syn_g0_surname_\", \"total_non_null_rows\": 13281, \"total_rows_inc_nulls\": 13281, \"sum_tokens_in_value_count_group\": 58.0, \"distinct_value_count\": 6926}, {\"percentile_ex_nulls\": 0.9007604718208313, \"percentile_inc_nulls\": 0.9007604718208313, \"value_count\": 27, \"group_name\": \"_syn_g0_surname_\", \"total_non_null_rows\": 13281, \"total_rows_inc_nulls\": 13281, \"sum_tokens_in_value_count_group\": 54.0, \"distinct_value_count\": 6926}, {\"percentile_ex_nulls\": 0.8988028168678284, \"percentile_inc_nulls\": 0.8988028168678284, \"value_count\": 26, \"group_name\": \"_syn_g0_surname_\", \"total_non_null_rows\": 13281, \"total_rows_inc_nulls\": 13281, \"sum_tokens_in_value_count_group\": 26.0, \"distinct_value_count\": 6926}, {\"percentile_ex_nulls\": 0.8856260776519775, \"percentile_inc_nulls\": 0.8856260776519775, \"value_count\": 25, \"group_name\": \"_syn_g0_surname_\", \"total_non_null_rows\": 13281, \"total_rows_inc_nulls\": 13281, \"sum_tokens_in_value_count_group\": 175.0, \"distinct_value_count\": 6926}, {\"percentile_ex_nulls\": 0.8747835159301758, \"percentile_inc_nulls\": 0.8747835159301758, \"value_count\": 24, \"group_name\": \"_syn_g0_surname_\", \"total_non_null_rows\": 13281, \"total_rows_inc_nulls\": 13281, \"sum_tokens_in_value_count_group\": 144.0, \"distinct_value_count\": 6926}, {\"percentile_ex_nulls\": 0.8626609444618225, \"percentile_inc_nulls\": 0.8626609444618225, \"value_count\": 23, \"group_name\": \"_syn_g0_surname_\", \"total_non_null_rows\": 13281, \"total_rows_inc_nulls\": 13281, \"sum_tokens_in_value_count_group\": 161.0, \"distinct_value_count\": 6926}, {\"percentile_ex_nulls\": 0.8610044717788696, \"percentile_inc_nulls\": 0.8610044717788696, \"value_count\": 22, \"group_name\": \"_syn_g0_surname_\", \"total_non_null_rows\": 13281, \"total_rows_inc_nulls\": 13281, \"sum_tokens_in_value_count_group\": 22.0, \"distinct_value_count\": 6926}, {\"percentile_ex_nulls\": 0.8578420281410217, \"percentile_inc_nulls\": 0.8578420281410217, \"value_count\": 21, \"group_name\": \"_syn_g0_surname_\", \"total_non_null_rows\": 13281, \"total_rows_inc_nulls\": 13281, \"sum_tokens_in_value_count_group\": 42.0, \"distinct_value_count\": 6926}, {\"percentile_ex_nulls\": 0.8518183827400208, \"percentile_inc_nulls\": 0.8518183827400208, \"value_count\": 20, \"group_name\": \"_syn_g0_surname_\", \"total_non_null_rows\": 13281, \"total_rows_inc_nulls\": 13281, \"sum_tokens_in_value_count_group\": 80.0, \"distinct_value_count\": 6926}, {\"percentile_ex_nulls\": 0.8432347178459167, \"percentile_inc_nulls\": 0.8432347178459167, \"value_count\": 19, \"group_name\": \"_syn_g0_surname_\", \"total_non_null_rows\": 13281, \"total_rows_inc_nulls\": 13281, \"sum_tokens_in_value_count_group\": 114.0, \"distinct_value_count\": 6926}, {\"percentile_ex_nulls\": 0.8351027965545654, \"percentile_inc_nulls\": 0.8351027965545654, \"value_count\": 18, \"group_name\": \"_syn_g0_surname_\", \"total_non_null_rows\": 13281, \"total_rows_inc_nulls\": 13281, \"sum_tokens_in_value_count_group\": 108.0, \"distinct_value_count\": 6926}, {\"percentile_ex_nulls\": 0.8274226188659668, \"percentile_inc_nulls\": 0.8274226188659668, \"value_count\": 17, \"group_name\": \"_syn_g0_surname_\", \"total_non_null_rows\": 13281, \"total_rows_inc_nulls\": 13281, \"sum_tokens_in_value_count_group\": 102.0, \"distinct_value_count\": 6926}, {\"percentile_ex_nulls\": 0.8153753280639648, \"percentile_inc_nulls\": 0.8153753280639648, \"value_count\": 16, \"group_name\": \"_syn_g0_surname_\", \"total_non_null_rows\": 13281, \"total_rows_inc_nulls\": 13281, \"sum_tokens_in_value_count_group\": 160.0, \"distinct_value_count\": 6926}, {\"percentile_ex_nulls\": 0.8006927371025085, \"percentile_inc_nulls\": 0.8006927371025085, \"value_count\": 15, \"group_name\": \"_syn_g0_surname_\", \"total_non_null_rows\": 13281, \"total_rows_inc_nulls\": 13281, \"sum_tokens_in_value_count_group\": 195.0, \"distinct_value_count\": 6926}, {\"percentile_ex_nulls\": 0.7912054657936096, \"percentile_inc_nulls\": 0.7912054657936096, \"value_count\": 14, \"group_name\": \"_syn_g0_surname_\", \"total_non_null_rows\": 13281, \"total_rows_inc_nulls\": 13281, \"sum_tokens_in_value_count_group\": 126.0, \"distinct_value_count\": 6926}, {\"percentile_ex_nulls\": 0.7814170718193054, \"percentile_inc_nulls\": 0.7814170718193054, \"value_count\": 13, \"group_name\": \"_syn_g0_surname_\", \"total_non_null_rows\": 13281, \"total_rows_inc_nulls\": 13281, \"sum_tokens_in_value_count_group\": 130.0, \"distinct_value_count\": 6926}, {\"percentile_ex_nulls\": 0.7705745100975037, \"percentile_inc_nulls\": 0.7705745100975037, \"value_count\": 12, \"group_name\": \"_syn_g0_surname_\", \"total_non_null_rows\": 13281, \"total_rows_inc_nulls\": 13281, \"sum_tokens_in_value_count_group\": 144.0, \"distinct_value_count\": 6926}, {\"percentile_ex_nulls\": 0.754009485244751, \"percentile_inc_nulls\": 0.754009485244751, \"value_count\": 11, \"group_name\": \"_syn_g0_surname_\", \"total_non_null_rows\": 13281, \"total_rows_inc_nulls\": 13281, \"sum_tokens_in_value_count_group\": 220.0, \"distinct_value_count\": 6926}, {\"percentile_ex_nulls\": 0.7374444603919983, \"percentile_inc_nulls\": 0.7374444603919983, \"value_count\": 10, \"group_name\": \"_syn_g0_surname_\", \"total_non_null_rows\": 13281, \"total_rows_inc_nulls\": 13281, \"sum_tokens_in_value_count_group\": 220.0, \"distinct_value_count\": 6926}, {\"percentile_ex_nulls\": 0.7245689630508423, \"percentile_inc_nulls\": 0.7245689630508423, \"value_count\": 9, \"group_name\": \"_syn_g0_surname_\", \"total_non_null_rows\": 13281, \"total_rows_inc_nulls\": 13281, \"sum_tokens_in_value_count_group\": 171.0, \"distinct_value_count\": 6926}, {\"percentile_ex_nulls\": 0.7052932977676392, \"percentile_inc_nulls\": 0.7052932977676392, \"value_count\": 8, \"group_name\": \"_syn_g0_surname_\", \"total_non_null_rows\": 13281, \"total_rows_inc_nulls\": 13281, \"sum_tokens_in_value_count_group\": 256.0, \"distinct_value_count\": 6926}, {\"percentile_ex_nulls\": 0.6810481548309326, \"percentile_inc_nulls\": 0.6810481548309326, \"value_count\": 7, \"group_name\": \"_syn_g0_surname_\", \"total_non_null_rows\": 13281, \"total_rows_inc_nulls\": 13281, \"sum_tokens_in_value_count_group\": 322.0, \"distinct_value_count\": 6926}, {\"percentile_ex_nulls\": 0.6598147749900818, \"percentile_inc_nulls\": 0.6598147749900818, \"value_count\": 6, \"group_name\": \"_syn_g0_surname_\", \"total_non_null_rows\": 13281, \"total_rows_inc_nulls\": 13281, \"sum_tokens_in_value_count_group\": 282.0, \"distinct_value_count\": 6926}, {\"percentile_ex_nulls\": 0.6270612478256226, \"percentile_inc_nulls\": 0.6270612478256226, \"value_count\": 5, \"group_name\": \"_syn_g0_surname_\", \"total_non_null_rows\": 13281, \"total_rows_inc_nulls\": 13281, \"sum_tokens_in_value_count_group\": 435.0, \"distinct_value_count\": 6926}, {\"percentile_ex_nulls\": 0.5782697200775146, \"percentile_inc_nulls\": 0.5782697200775146, \"value_count\": 4, \"group_name\": \"_syn_g0_surname_\", \"total_non_null_rows\": 13281, \"total_rows_inc_nulls\": 13281, \"sum_tokens_in_value_count_group\": 648.0, \"distinct_value_count\": 6926}, {\"percentile_ex_nulls\": 0.5136661529541016, \"percentile_inc_nulls\": 0.5136661529541016, \"value_count\": 3, \"group_name\": \"_syn_g0_surname_\", \"total_non_null_rows\": 13281, \"total_rows_inc_nulls\": 13281, \"sum_tokens_in_value_count_group\": 858.0, \"distinct_value_count\": 6926}, {\"percentile_ex_nulls\": 0.40147578716278076, \"percentile_inc_nulls\": 0.40147578716278076, \"value_count\": 2, \"group_name\": \"_syn_g0_surname_\", \"total_non_null_rows\": 13281, \"total_rows_inc_nulls\": 13281, \"sum_tokens_in_value_count_group\": 1490.0, \"distinct_value_count\": 6926}, {\"percentile_ex_nulls\": 0.0, \"percentile_inc_nulls\": 0.0, \"value_count\": 1, \"group_name\": \"_syn_g0_surname_\", \"total_non_null_rows\": 13281, \"total_rows_inc_nulls\": 13281, \"sum_tokens_in_value_count_group\": 5332.0, \"distinct_value_count\": 6926}, {\"percentile_ex_nulls\": 1.0, \"percentile_inc_nulls\": 1.0, \"value_count\": 129, \"group_name\": \"_syn_g0_surname_\", \"total_non_null_rows\": 13281, \"total_rows_inc_nulls\": 13281, \"sum_tokens_in_value_count_group\": 129.0, \"distinct_value_count\": 6926}]}, \"encoding\": {\"tooltip\": [{\"field\": \"value_count\", \"type\": \"quantitative\"}, {\"field\": \"percentile_ex_nulls\", \"type\": \"quantitative\"}, {\"field\": \"percentile_inc_nulls\", \"type\": \"quantitative\"}, {\"field\": \"total_non_null_rows\", \"type\": \"quantitative\"}, {\"field\": \"total_rows_inc_nulls\", \"type\": \"quantitative\"}], \"x\": {\"field\": \"percentile_ex_nulls\", \"sort\": \"descending\", \"title\": \"Percentile\", \"type\": \"quantitative\"}, \"y\": {\"field\": \"value_count\", \"title\": \"Count of values\", \"type\": \"quantitative\"}}, \"title\": {\"text\": \"Distribution of counts of values in column \\\"syn_g0_surname\\\"\", \"subtitle\": \"In this col, 0 values (0.0%) are null and there are 6926 distinct values\"}}, {\"mark\": \"bar\", \"data\": {\"values\": [{\"value_count\": 129, \"group_name\": \"_syn_g0_surname_\", \"value\": \"smith\", \"total_non_null_rows\": 13281, \"total_rows_inc_nulls\": 13281, \"distinct_value_count\": 6926}, {\"value_count\": 97, \"group_name\": \"_syn_g0_surname_\", \"value\": \"jones\", \"total_non_null_rows\": 13281, \"total_rows_inc_nulls\": 13281, \"distinct_value_count\": 6926}, {\"value_count\": 91, \"group_name\": \"_syn_g0_surname_\", \"value\": \"taylor\", \"total_non_null_rows\": 13281, \"total_rows_inc_nulls\": 13281, \"distinct_value_count\": 6926}, {\"value_count\": 63, \"group_name\": \"_syn_g0_surname_\", \"value\": \"davies\", \"total_non_null_rows\": 13281, \"total_rows_inc_nulls\": 13281, \"distinct_value_count\": 6926}, {\"value_count\": 61, \"group_name\": \"_syn_g0_surname_\", \"value\": \"brown\", \"total_non_null_rows\": 13281, \"total_rows_inc_nulls\": 13281, \"distinct_value_count\": 6926}, {\"value_count\": 60, \"group_name\": \"_syn_g0_surname_\", \"value\": \"williams\", \"total_non_null_rows\": 13281, \"total_rows_inc_nulls\": 13281, \"distinct_value_count\": 6926}, {\"value_count\": 55, \"group_name\": \"_syn_g0_surname_\", \"value\": \"roberts\", \"total_non_null_rows\": 13281, \"total_rows_inc_nulls\": 13281, \"distinct_value_count\": 6926}, {\"value_count\": 55, \"group_name\": \"_syn_g0_surname_\", \"value\": \"wilson\", \"total_non_null_rows\": 13281, \"total_rows_inc_nulls\": 13281, \"distinct_value_count\": 6926}, {\"value_count\": 48, \"group_name\": \"_syn_g0_surname_\", \"value\": \"thomas\", \"total_non_null_rows\": 13281, \"total_rows_inc_nulls\": 13281, \"distinct_value_count\": 6926}, {\"value_count\": 47, \"group_name\": \"_syn_g0_surname_\", \"value\": \"lewis\", \"total_non_null_rows\": 13281, \"total_rows_inc_nulls\": 13281, \"distinct_value_count\": 6926}]}, \"encoding\": {\"tooltip\": [{\"field\": \"value\", \"type\": \"nominal\"}, {\"field\": \"value_count\", \"type\": \"quantitative\"}, {\"field\": \"total_non_null_rows\", \"type\": \"quantitative\"}, {\"field\": \"total_rows_inc_nulls\", \"type\": \"quantitative\"}], \"x\": {\"field\": \"value\", \"sort\": \"-y\", \"title\": null, \"type\": \"nominal\"}, \"y\": {\"field\": \"value_count\", \"title\": \"Value count\", \"type\": \"quantitative\"}}, \"title\": \"Top 10 values by value count\"}, {\"mark\": \"bar\", \"data\": {\"values\": [{\"value_count\": 1, \"group_name\": \"_syn_g0_surname_\", \"value\": \"elving\", \"total_non_null_rows\": 13281, \"total_rows_inc_nulls\": 13281, \"distinct_value_count\": 6926}, {\"value_count\": 1, \"group_name\": \"_syn_g0_surname_\", \"value\": \"andre\\u00dfen\", \"total_non_null_rows\": 13281, \"total_rows_inc_nulls\": 13281, \"distinct_value_count\": 6926}, {\"value_count\": 1, \"group_name\": \"_syn_g0_surname_\", \"value\": \"hofmans\", \"total_non_null_rows\": 13281, \"total_rows_inc_nulls\": 13281, \"distinct_value_count\": 6926}, {\"value_count\": 1, \"group_name\": \"_syn_g0_surname_\", \"value\": \"goss\", \"total_non_null_rows\": 13281, \"total_rows_inc_nulls\": 13281, \"distinct_value_count\": 6926}, {\"value_count\": 1, \"group_name\": \"_syn_g0_surname_\", \"value\": \"l\\u00f6hmann\", \"total_non_null_rows\": 13281, \"total_rows_inc_nulls\": 13281, \"distinct_value_count\": 6926}, {\"value_count\": 1, \"group_name\": \"_syn_g0_surname_\", \"value\": \"de salas\", \"total_non_null_rows\": 13281, \"total_rows_inc_nulls\": 13281, \"distinct_value_count\": 6926}, {\"value_count\": 1, \"group_name\": \"_syn_g0_surname_\", \"value\": \"red\", \"total_non_null_rows\": 13281, \"total_rows_inc_nulls\": 13281, \"distinct_value_count\": 6926}, {\"value_count\": 1, \"group_name\": \"_syn_g0_surname_\", \"value\": \"jean\", \"total_non_null_rows\": 13281, \"total_rows_inc_nulls\": 13281, \"distinct_value_count\": 6926}, {\"value_count\": 1, \"group_name\": \"_syn_g0_surname_\", \"value\": \"sundag\", \"total_non_null_rows\": 13281, \"total_rows_inc_nulls\": 13281, \"distinct_value_count\": 6926}, {\"value_count\": 1, \"group_name\": \"_syn_g0_surname_\", \"value\": \"k\\u00e4hler\", \"total_non_null_rows\": 13281, \"total_rows_inc_nulls\": 13281, \"distinct_value_count\": 6926}]}, \"encoding\": {\"tooltip\": [{\"field\": \"value\", \"type\": \"nominal\"}, {\"field\": \"value_count\", \"type\": \"quantitative\"}, {\"field\": \"total_non_null_rows\", \"type\": \"quantitative\"}, {\"field\": \"total_rows_inc_nulls\", \"type\": \"quantitative\"}], \"x\": {\"field\": \"value\", \"sort\": \"-y\", \"title\": null, \"type\": \"nominal\"}, \"y\": {\"field\": \"value_count\", \"scale\": {\"domain\": [0, 129]}, \"title\": \"Value count\", \"type\": \"quantitative\"}}, \"title\": \"Bottom 10 values by value count\"}]}, {\"hconcat\": [{\"mark\": {\"type\": \"line\", \"interpolate\": \"step-after\"}, \"data\": {\"values\": [{\"percentile_ex_nulls\": 0.9889315366744995, \"percentile_inc_nulls\": 0.9889315366744995, \"value_count\": 147, \"group_name\": \"_syn_g1_surname_\", \"total_non_null_rows\": 13281, \"total_rows_inc_nulls\": 13281, \"sum_tokens_in_value_count_group\": 147.0, \"distinct_value_count\": 5971}, {\"percentile_ex_nulls\": 0.9801972508430481, \"percentile_inc_nulls\": 0.9801972508430481, \"value_count\": 116, \"group_name\": \"_syn_g1_surname_\", \"total_non_null_rows\": 13281, \"total_rows_inc_nulls\": 13281, \"sum_tokens_in_value_count_group\": 116.0, \"distinct_value_count\": 5971}, {\"percentile_ex_nulls\": 0.9722159504890442, \"percentile_inc_nulls\": 0.9722159504890442, \"value_count\": 106, \"group_name\": \"_syn_g1_surname_\", \"total_non_null_rows\": 13281, \"total_rows_inc_nulls\": 13281, \"sum_tokens_in_value_count_group\": 106.0, \"distinct_value_count\": 5971}, {\"percentile_ex_nulls\": 0.9671711325645447, \"percentile_inc_nulls\": 0.9671711325645447, \"value_count\": 67, \"group_name\": \"_syn_g1_surname_\", \"total_non_null_rows\": 13281, \"total_rows_inc_nulls\": 13281, \"sum_tokens_in_value_count_group\": 67.0, \"distinct_value_count\": 5971}, {\"percentile_ex_nulls\": 0.9623522162437439, \"percentile_inc_nulls\": 0.9623522162437439, \"value_count\": 64, \"group_name\": \"_syn_g1_surname_\", \"total_non_null_rows\": 13281, \"total_rows_inc_nulls\": 13281, \"sum_tokens_in_value_count_group\": 64.0, \"distinct_value_count\": 5971}, {\"percentile_ex_nulls\": 0.9576086401939392, \"percentile_inc_nulls\": 0.9576086401939392, \"value_count\": 63, \"group_name\": \"_syn_g1_surname_\", \"total_non_null_rows\": 13281, \"total_rows_inc_nulls\": 13281, \"sum_tokens_in_value_count_group\": 63.0, \"distinct_value_count\": 5971}, {\"percentile_ex_nulls\": 0.9533920884132385, \"percentile_inc_nulls\": 0.9533920884132385, \"value_count\": 56, \"group_name\": \"_syn_g1_surname_\", \"total_non_null_rows\": 13281, \"total_rows_inc_nulls\": 13281, \"sum_tokens_in_value_count_group\": 56.0, \"distinct_value_count\": 5971}, {\"percentile_ex_nulls\": 0.9411941766738892, \"percentile_inc_nulls\": 0.9411941766738892, \"value_count\": 54, \"group_name\": \"_syn_g1_surname_\", \"total_non_null_rows\": 13281, \"total_rows_inc_nulls\": 13281, \"sum_tokens_in_value_count_group\": 162.0, \"distinct_value_count\": 5971}, {\"percentile_ex_nulls\": 0.9375047087669373, \"percentile_inc_nulls\": 0.9375047087669373, \"value_count\": 49, \"group_name\": \"_syn_g1_surname_\", \"total_non_null_rows\": 13281, \"total_rows_inc_nulls\": 13281, \"sum_tokens_in_value_count_group\": 49.0, \"distinct_value_count\": 5971}, {\"percentile_ex_nulls\": 0.933965802192688, \"percentile_inc_nulls\": 0.933965802192688, \"value_count\": 47, \"group_name\": \"_syn_g1_surname_\", \"total_non_null_rows\": 13281, \"total_rows_inc_nulls\": 13281, \"sum_tokens_in_value_count_group\": 47.0, \"distinct_value_count\": 5971}, {\"percentile_ex_nulls\": 0.9305775165557861, \"percentile_inc_nulls\": 0.9305775165557861, \"value_count\": 45, \"group_name\": \"_syn_g1_surname_\", \"total_non_null_rows\": 13281, \"total_rows_inc_nulls\": 13281, \"sum_tokens_in_value_count_group\": 45.0, \"distinct_value_count\": 5971}, {\"percentile_ex_nulls\": 0.9242526888847351, \"percentile_inc_nulls\": 0.9242526888847351, \"value_count\": 42, \"group_name\": \"_syn_g1_surname_\", \"total_non_null_rows\": 13281, \"total_rows_inc_nulls\": 13281, \"sum_tokens_in_value_count_group\": 84.0, \"distinct_value_count\": 5971}, {\"percentile_ex_nulls\": 0.9211655855178833, \"percentile_inc_nulls\": 0.9211655855178833, \"value_count\": 41, \"group_name\": \"_syn_g1_surname_\", \"total_non_null_rows\": 13281, \"total_rows_inc_nulls\": 13281, \"sum_tokens_in_value_count_group\": 41.0, \"distinct_value_count\": 5971}, {\"percentile_ex_nulls\": 0.9181537628173828, \"percentile_inc_nulls\": 0.9181537628173828, \"value_count\": 40, \"group_name\": \"_syn_g1_surname_\", \"total_non_null_rows\": 13281, \"total_rows_inc_nulls\": 13281, \"sum_tokens_in_value_count_group\": 40.0, \"distinct_value_count\": 5971}, {\"percentile_ex_nulls\": 0.915292501449585, \"percentile_inc_nulls\": 0.915292501449585, \"value_count\": 38, \"group_name\": \"_syn_g1_surname_\", \"total_non_null_rows\": 13281, \"total_rows_inc_nulls\": 13281, \"sum_tokens_in_value_count_group\": 38.0, \"distinct_value_count\": 5971}, {\"percentile_ex_nulls\": 0.9125065803527832, \"percentile_inc_nulls\": 0.9125065803527832, \"value_count\": 37, \"group_name\": \"_syn_g1_surname_\", \"total_non_null_rows\": 13281, \"total_rows_inc_nulls\": 13281, \"sum_tokens_in_value_count_group\": 37.0, \"distinct_value_count\": 5971}, {\"percentile_ex_nulls\": 0.9070852994918823, \"percentile_inc_nulls\": 0.9070852994918823, \"value_count\": 36, \"group_name\": \"_syn_g1_surname_\", \"total_non_null_rows\": 13281, \"total_rows_inc_nulls\": 13281, \"sum_tokens_in_value_count_group\": 72.0, \"distinct_value_count\": 5971}, {\"percentile_ex_nulls\": 0.9045252799987793, \"percentile_inc_nulls\": 0.9045252799987793, \"value_count\": 34, \"group_name\": \"_syn_g1_surname_\", \"total_non_null_rows\": 13281, \"total_rows_inc_nulls\": 13281, \"sum_tokens_in_value_count_group\": 34.0, \"distinct_value_count\": 5971}, {\"percentile_ex_nulls\": 0.9020404815673828, \"percentile_inc_nulls\": 0.9020404815673828, \"value_count\": 33, \"group_name\": \"_syn_g1_surname_\", \"total_non_null_rows\": 13281, \"total_rows_inc_nulls\": 13281, \"sum_tokens_in_value_count_group\": 33.0, \"distinct_value_count\": 5971}, {\"percentile_ex_nulls\": 0.8950380086898804, \"percentile_inc_nulls\": 0.8950380086898804, \"value_count\": 31, \"group_name\": \"_syn_g1_surname_\", \"total_non_null_rows\": 13281, \"total_rows_inc_nulls\": 13281, \"sum_tokens_in_value_count_group\": 93.0, \"distinct_value_count\": 5971}, {\"percentile_ex_nulls\": 0.8905202746391296, \"percentile_inc_nulls\": 0.8905202746391296, \"value_count\": 30, \"group_name\": \"_syn_g1_surname_\", \"total_non_null_rows\": 13281, \"total_rows_inc_nulls\": 13281, \"sum_tokens_in_value_count_group\": 60.0, \"distinct_value_count\": 5971}, {\"percentile_ex_nulls\": 0.8799788951873779, \"percentile_inc_nulls\": 0.8799788951873779, \"value_count\": 28, \"group_name\": \"_syn_g1_surname_\", \"total_non_null_rows\": 13281, \"total_rows_inc_nulls\": 13281, \"sum_tokens_in_value_count_group\": 140.0, \"distinct_value_count\": 5971}, {\"percentile_ex_nulls\": 0.8698140382766724, \"percentile_inc_nulls\": 0.8698140382766724, \"value_count\": 27, \"group_name\": \"_syn_g1_surname_\", \"total_non_null_rows\": 13281, \"total_rows_inc_nulls\": 13281, \"sum_tokens_in_value_count_group\": 135.0, \"distinct_value_count\": 5971}, {\"percentile_ex_nulls\": 0.8561102151870728, \"percentile_inc_nulls\": 0.8561102151870728, \"value_count\": 26, \"group_name\": \"_syn_g1_surname_\", \"total_non_null_rows\": 13281, \"total_rows_inc_nulls\": 13281, \"sum_tokens_in_value_count_group\": 182.0, \"distinct_value_count\": 5971}, {\"percentile_ex_nulls\": 0.8542278409004211, \"percentile_inc_nulls\": 0.8542278409004211, \"value_count\": 25, \"group_name\": \"_syn_g1_surname_\", \"total_non_null_rows\": 13281, \"total_rows_inc_nulls\": 13281, \"sum_tokens_in_value_count_group\": 25.0, \"distinct_value_count\": 5971}, {\"percentile_ex_nulls\": 0.8451923727989197, \"percentile_inc_nulls\": 0.8451923727989197, \"value_count\": 24, \"group_name\": \"_syn_g1_surname_\", \"total_non_null_rows\": 13281, \"total_rows_inc_nulls\": 13281, \"sum_tokens_in_value_count_group\": 120.0, \"distinct_value_count\": 5971}, {\"percentile_ex_nulls\": 0.8330698013305664, \"percentile_inc_nulls\": 0.8330698013305664, \"value_count\": 23, \"group_name\": \"_syn_g1_surname_\", \"total_non_null_rows\": 13281, \"total_rows_inc_nulls\": 13281, \"sum_tokens_in_value_count_group\": 161.0, \"distinct_value_count\": 5971}, {\"percentile_ex_nulls\": 0.8247872591018677, \"percentile_inc_nulls\": 0.8247872591018677, \"value_count\": 22, \"group_name\": \"_syn_g1_surname_\", \"total_non_null_rows\": 13281, \"total_rows_inc_nulls\": 13281, \"sum_tokens_in_value_count_group\": 110.0, \"distinct_value_count\": 5971}, {\"percentile_ex_nulls\": 0.8184624910354614, \"percentile_inc_nulls\": 0.8184624910354614, \"value_count\": 21, \"group_name\": \"_syn_g1_surname_\", \"total_non_null_rows\": 13281, \"total_rows_inc_nulls\": 13281, \"sum_tokens_in_value_count_group\": 84.0, \"distinct_value_count\": 5971}, {\"percentile_ex_nulls\": 0.80942702293396, \"percentile_inc_nulls\": 0.80942702293396, \"value_count\": 20, \"group_name\": \"_syn_g1_surname_\", \"total_non_null_rows\": 13281, \"total_rows_inc_nulls\": 13281, \"sum_tokens_in_value_count_group\": 120.0, \"distinct_value_count\": 5971}, {\"percentile_ex_nulls\": 0.799412727355957, \"percentile_inc_nulls\": 0.799412727355957, \"value_count\": 19, \"group_name\": \"_syn_g1_surname_\", \"total_non_null_rows\": 13281, \"total_rows_inc_nulls\": 13281, \"sum_tokens_in_value_count_group\": 133.0, \"distinct_value_count\": 5971}, {\"percentile_ex_nulls\": 0.795346736907959, \"percentile_inc_nulls\": 0.795346736907959, \"value_count\": 18, \"group_name\": \"_syn_g1_surname_\", \"total_non_null_rows\": 13281, \"total_rows_inc_nulls\": 13281, \"sum_tokens_in_value_count_group\": 54.0, \"distinct_value_count\": 5971}, {\"percentile_ex_nulls\": 0.7838265299797058, \"percentile_inc_nulls\": 0.7838265299797058, \"value_count\": 17, \"group_name\": \"_syn_g1_surname_\", \"total_non_null_rows\": 13281, \"total_rows_inc_nulls\": 13281, \"sum_tokens_in_value_count_group\": 153.0, \"distinct_value_count\": 5971}, {\"percentile_ex_nulls\": 0.7681650519371033, \"percentile_inc_nulls\": 0.7681650519371033, \"value_count\": 16, \"group_name\": \"_syn_g1_surname_\", \"total_non_null_rows\": 13281, \"total_rows_inc_nulls\": 13281, \"sum_tokens_in_value_count_group\": 208.0, \"distinct_value_count\": 5971}, {\"percentile_ex_nulls\": 0.7591295838356018, \"percentile_inc_nulls\": 0.7591295838356018, \"value_count\": 15, \"group_name\": \"_syn_g1_surname_\", \"total_non_null_rows\": 13281, \"total_rows_inc_nulls\": 13281, \"sum_tokens_in_value_count_group\": 120.0, \"distinct_value_count\": 5971}, {\"percentile_ex_nulls\": 0.7485882043838501, \"percentile_inc_nulls\": 0.7485882043838501, \"value_count\": 14, \"group_name\": \"_syn_g1_surname_\", \"total_non_null_rows\": 13281, \"total_rows_inc_nulls\": 13281, \"sum_tokens_in_value_count_group\": 140.0, \"distinct_value_count\": 5971}, {\"percentile_ex_nulls\": 0.7358632683753967, \"percentile_inc_nulls\": 0.7358632683753967, \"value_count\": 13, \"group_name\": \"_syn_g1_surname_\", \"total_non_null_rows\": 13281, \"total_rows_inc_nulls\": 13281, \"sum_tokens_in_value_count_group\": 169.0, \"distinct_value_count\": 5971}, {\"percentile_ex_nulls\": 0.7241171598434448, \"percentile_inc_nulls\": 0.7241171598434448, \"value_count\": 12, \"group_name\": \"_syn_g1_surname_\", \"total_non_null_rows\": 13281, \"total_rows_inc_nulls\": 13281, \"sum_tokens_in_value_count_group\": 156.0, \"distinct_value_count\": 5971}, {\"percentile_ex_nulls\": 0.7067239284515381, \"percentile_inc_nulls\": 0.7067239284515381, \"value_count\": 11, \"group_name\": \"_syn_g1_surname_\", \"total_non_null_rows\": 13281, \"total_rows_inc_nulls\": 13281, \"sum_tokens_in_value_count_group\": 231.0, \"distinct_value_count\": 5971}, {\"percentile_ex_nulls\": 0.6879000067710876, \"percentile_inc_nulls\": 0.6879000067710876, \"value_count\": 10, \"group_name\": \"_syn_g1_surname_\", \"total_non_null_rows\": 13281, \"total_rows_inc_nulls\": 13281, \"sum_tokens_in_value_count_group\": 250.0, \"distinct_value_count\": 5971}, {\"percentile_ex_nulls\": 0.6689255237579346, \"percentile_inc_nulls\": 0.6689255237579346, \"value_count\": 9, \"group_name\": \"_syn_g1_surname_\", \"total_non_null_rows\": 13281, \"total_rows_inc_nulls\": 13281, \"sum_tokens_in_value_count_group\": 252.0, \"distinct_value_count\": 5971}, {\"percentile_ex_nulls\": 0.6454333066940308, \"percentile_inc_nulls\": 0.6454333066940308, \"value_count\": 8, \"group_name\": \"_syn_g1_surname_\", \"total_non_null_rows\": 13281, \"total_rows_inc_nulls\": 13281, \"sum_tokens_in_value_count_group\": 312.0, \"distinct_value_count\": 5971}, {\"percentile_ex_nulls\": 0.6211881637573242, \"percentile_inc_nulls\": 0.6211881637573242, \"value_count\": 7, \"group_name\": \"_syn_g1_surname_\", \"total_non_null_rows\": 13281, \"total_rows_inc_nulls\": 13281, \"sum_tokens_in_value_count_group\": 322.0, \"distinct_value_count\": 5971}, {\"percentile_ex_nulls\": 0.592726469039917, \"percentile_inc_nulls\": 0.592726469039917, \"value_count\": 6, \"group_name\": \"_syn_g1_surname_\", \"total_non_null_rows\": 13281, \"total_rows_inc_nulls\": 13281, \"sum_tokens_in_value_count_group\": 378.0, \"distinct_value_count\": 5971}, {\"percentile_ex_nulls\": 0.5569610595703125, \"percentile_inc_nulls\": 0.5569610595703125, \"value_count\": 5, \"group_name\": \"_syn_g1_surname_\", \"total_non_null_rows\": 13281, \"total_rows_inc_nulls\": 13281, \"sum_tokens_in_value_count_group\": 475.0, \"distinct_value_count\": 5971}, {\"percentile_ex_nulls\": 0.5096755027770996, \"percentile_inc_nulls\": 0.5096755027770996, \"value_count\": 4, \"group_name\": \"_syn_g1_surname_\", \"total_non_null_rows\": 13281, \"total_rows_inc_nulls\": 13281, \"sum_tokens_in_value_count_group\": 628.0, \"distinct_value_count\": 5971}, {\"percentile_ex_nulls\": 0.43716585636138916, \"percentile_inc_nulls\": 0.43716585636138916, \"value_count\": 3, \"group_name\": \"_syn_g1_surname_\", \"total_non_null_rows\": 13281, \"total_rows_inc_nulls\": 13281, \"sum_tokens_in_value_count_group\": 963.0, \"distinct_value_count\": 5971}, {\"percentile_ex_nulls\": 0.3198554515838623, \"percentile_inc_nulls\": 0.3198554515838623, \"value_count\": 2, \"group_name\": \"_syn_g1_surname_\", \"total_non_null_rows\": 13281, \"total_rows_inc_nulls\": 13281, \"sum_tokens_in_value_count_group\": 1558.0, \"distinct_value_count\": 5971}, {\"percentile_ex_nulls\": 0.0, \"percentile_inc_nulls\": 0.0, \"value_count\": 1, \"group_name\": \"_syn_g1_surname_\", \"total_non_null_rows\": 13281, \"total_rows_inc_nulls\": 13281, \"sum_tokens_in_value_count_group\": 4248.0, \"distinct_value_count\": 5971}, {\"percentile_ex_nulls\": 1.0, \"percentile_inc_nulls\": 1.0, \"value_count\": 147, \"group_name\": \"_syn_g1_surname_\", \"total_non_null_rows\": 13281, \"total_rows_inc_nulls\": 13281, \"sum_tokens_in_value_count_group\": 147.0, \"distinct_value_count\": 5971}]}, \"encoding\": {\"tooltip\": [{\"field\": \"value_count\", \"type\": \"quantitative\"}, {\"field\": \"percentile_ex_nulls\", \"type\": \"quantitative\"}, {\"field\": \"percentile_inc_nulls\", \"type\": \"quantitative\"}, {\"field\": \"total_non_null_rows\", \"type\": \"quantitative\"}, {\"field\": \"total_rows_inc_nulls\", \"type\": \"quantitative\"}], \"x\": {\"field\": \"percentile_ex_nulls\", \"sort\": \"descending\", \"title\": \"Percentile\", \"type\": \"quantitative\"}, \"y\": {\"field\": \"value_count\", \"title\": \"Count of values\", \"type\": \"quantitative\"}}, \"title\": {\"text\": \"Distribution of counts of values in column \\\"syn_g1_surname\\\"\", \"subtitle\": \"In this col, 0 values (0.0%) are null and there are 5971 distinct values\"}}, {\"mark\": \"bar\", \"data\": {\"values\": [{\"value_count\": 147, \"group_name\": \"_syn_g1_surname_\", \"value\": \"smith\", \"total_non_null_rows\": 13281, \"total_rows_inc_nulls\": 13281, \"distinct_value_count\": 5971}, {\"value_count\": 116, \"group_name\": \"_syn_g1_surname_\", \"value\": \"jones\", \"total_non_null_rows\": 13281, \"total_rows_inc_nulls\": 13281, \"distinct_value_count\": 5971}, {\"value_count\": 106, \"group_name\": \"_syn_g1_surname_\", \"value\": \"taylor\", \"total_non_null_rows\": 13281, \"total_rows_inc_nulls\": 13281, \"distinct_value_count\": 5971}, {\"value_count\": 67, \"group_name\": \"_syn_g1_surname_\", \"value\": \"williams\", \"total_non_null_rows\": 13281, \"total_rows_inc_nulls\": 13281, \"distinct_value_count\": 5971}, {\"value_count\": 64, \"group_name\": \"_syn_g1_surname_\", \"value\": \"brown\", \"total_non_null_rows\": 13281, \"total_rows_inc_nulls\": 13281, \"distinct_value_count\": 5971}, {\"value_count\": 63, \"group_name\": \"_syn_g1_surname_\", \"value\": \"davies\", \"total_non_null_rows\": 13281, \"total_rows_inc_nulls\": 13281, \"distinct_value_count\": 5971}, {\"value_count\": 56, \"group_name\": \"_syn_g1_surname_\", \"value\": \"roberts\", \"total_non_null_rows\": 13281, \"total_rows_inc_nulls\": 13281, \"distinct_value_count\": 5971}, {\"value_count\": 54, \"group_name\": \"_syn_g1_surname_\", \"value\": \"wilson\", \"total_non_null_rows\": 13281, \"total_rows_inc_nulls\": 13281, \"distinct_value_count\": 5971}, {\"value_count\": 54, \"group_name\": \"_syn_g1_surname_\", \"value\": \"johnson\", \"total_non_null_rows\": 13281, \"total_rows_inc_nulls\": 13281, \"distinct_value_count\": 5971}, {\"value_count\": 54, \"group_name\": \"_syn_g1_surname_\", \"value\": \"lewis\", \"total_non_null_rows\": 13281, \"total_rows_inc_nulls\": 13281, \"distinct_value_count\": 5971}]}, \"encoding\": {\"tooltip\": [{\"field\": \"value\", \"type\": \"nominal\"}, {\"field\": \"value_count\", \"type\": \"quantitative\"}, {\"field\": \"total_non_null_rows\", \"type\": \"quantitative\"}, {\"field\": \"total_rows_inc_nulls\", \"type\": \"quantitative\"}], \"x\": {\"field\": \"value\", \"sort\": \"-y\", \"title\": null, \"type\": \"nominal\"}, \"y\": {\"field\": \"value_count\", \"title\": \"Value count\", \"type\": \"quantitative\"}}, \"title\": \"Top 10 values by value count\"}, {\"mark\": \"bar\", \"data\": {\"values\": [{\"value_count\": 1, \"group_name\": \"_syn_g1_surname_\", \"value\": \"teather\", \"total_non_null_rows\": 13281, \"total_rows_inc_nulls\": 13281, \"distinct_value_count\": 5971}, {\"value_count\": 1, \"group_name\": \"_syn_g1_surname_\", \"value\": \"stokes toomer\", \"total_non_null_rows\": 13281, \"total_rows_inc_nulls\": 13281, \"distinct_value_count\": 5971}, {\"value_count\": 1, \"group_name\": \"_syn_g1_surname_\", \"value\": \"rapoport\", \"total_non_null_rows\": 13281, \"total_rows_inc_nulls\": 13281, \"distinct_value_count\": 5971}, {\"value_count\": 1, \"group_name\": \"_syn_g1_surname_\", \"value\": \"roder\", \"total_non_null_rows\": 13281, \"total_rows_inc_nulls\": 13281, \"distinct_value_count\": 5971}, {\"value_count\": 1, \"group_name\": \"_syn_g1_surname_\", \"value\": \"merks\", \"total_non_null_rows\": 13281, \"total_rows_inc_nulls\": 13281, \"distinct_value_count\": 5971}, {\"value_count\": 1, \"group_name\": \"_syn_g1_surname_\", \"value\": \"spiegelberg\", \"total_non_null_rows\": 13281, \"total_rows_inc_nulls\": 13281, \"distinct_value_count\": 5971}, {\"value_count\": 1, \"group_name\": \"_syn_g1_surname_\", \"value\": \"zylberman\", \"total_non_null_rows\": 13281, \"total_rows_inc_nulls\": 13281, \"distinct_value_count\": 5971}, {\"value_count\": 1, \"group_name\": \"_syn_g1_surname_\", \"value\": \"d'souza\", \"total_non_null_rows\": 13281, \"total_rows_inc_nulls\": 13281, \"distinct_value_count\": 5971}, {\"value_count\": 1, \"group_name\": \"_syn_g1_surname_\", \"value\": \"apstein\", \"total_non_null_rows\": 13281, \"total_rows_inc_nulls\": 13281, \"distinct_value_count\": 5971}, {\"value_count\": 1, \"group_name\": \"_syn_g1_surname_\", \"value\": \"christen\", \"total_non_null_rows\": 13281, \"total_rows_inc_nulls\": 13281, \"distinct_value_count\": 5971}]}, \"encoding\": {\"tooltip\": [{\"field\": \"value\", \"type\": \"nominal\"}, {\"field\": \"value_count\", \"type\": \"quantitative\"}, {\"field\": \"total_non_null_rows\", \"type\": \"quantitative\"}, {\"field\": \"total_rows_inc_nulls\", \"type\": \"quantitative\"}], \"x\": {\"field\": \"value\", \"sort\": \"-y\", \"title\": null, \"type\": \"nominal\"}, \"y\": {\"field\": \"value_count\", \"scale\": {\"domain\": [0, 147]}, \"title\": \"Value count\", \"type\": \"quantitative\"}}, \"title\": \"Bottom 10 values by value count\"}]}, {\"hconcat\": [{\"mark\": {\"type\": \"line\", \"interpolate\": \"step-after\"}, \"data\": {\"values\": [{\"percentile_ex_nulls\": 0.9819240570068359, \"percentile_inc_nulls\": 0.9820043444633484, \"value_count\": 239, \"group_name\": \"_syn_g1_firstname_\", \"total_non_null_rows\": 13222, \"total_rows_inc_nulls\": 13281, \"sum_tokens_in_value_count_group\": 239.0, \"distinct_value_count\": 2527}, {\"percentile_ex_nulls\": 0.9643775224685669, \"percentile_inc_nulls\": 0.9645358324050903, \"value_count\": 232, \"group_name\": \"_syn_g1_firstname_\", \"total_non_null_rows\": 13222, \"total_rows_inc_nulls\": 13281, \"sum_tokens_in_value_count_group\": 232.0, \"distinct_value_count\": 2527}, {\"percentile_ex_nulls\": 0.9494025111198425, \"percentile_inc_nulls\": 0.9496272802352905, \"value_count\": 198, \"group_name\": \"_syn_g1_firstname_\", \"total_non_null_rows\": 13222, \"total_rows_inc_nulls\": 13281, \"sum_tokens_in_value_count_group\": 198.0, \"distinct_value_count\": 2527}, {\"percentile_ex_nulls\": 0.9354106783866882, \"percentile_inc_nulls\": 0.935697615146637, \"value_count\": 185, \"group_name\": \"_syn_g1_firstname_\", \"total_non_null_rows\": 13222, \"total_rows_inc_nulls\": 13281, \"sum_tokens_in_value_count_group\": 185.0, \"distinct_value_count\": 2527}, {\"percentile_ex_nulls\": 0.9215701222419739, \"percentile_inc_nulls\": 0.921918511390686, \"value_count\": 183, \"group_name\": \"_syn_g1_firstname_\", \"total_non_null_rows\": 13222, \"total_rows_inc_nulls\": 13281, \"sum_tokens_in_value_count_group\": 183.0, \"distinct_value_count\": 2527}, {\"percentile_ex_nulls\": 0.9086371064186096, \"percentile_inc_nulls\": 0.90904301404953, \"value_count\": 171, \"group_name\": \"_syn_g1_firstname_\", \"total_non_null_rows\": 13222, \"total_rows_inc_nulls\": 13281, \"sum_tokens_in_value_count_group\": 171.0, \"distinct_value_count\": 2527}, {\"percentile_ex_nulls\": 0.8972167372703552, \"percentile_inc_nulls\": 0.8976733684539795, \"value_count\": 151, \"group_name\": \"_syn_g1_firstname_\", \"total_non_null_rows\": 13222, \"total_rows_inc_nulls\": 13281, \"sum_tokens_in_value_count_group\": 151.0, \"distinct_value_count\": 2527}, {\"percentile_ex_nulls\": 0.8862501978874207, \"percentile_inc_nulls\": 0.8867555260658264, \"value_count\": 145, \"group_name\": \"_syn_g1_firstname_\", \"total_non_null_rows\": 13222, \"total_rows_inc_nulls\": 13281, \"sum_tokens_in_value_count_group\": 145.0, \"distinct_value_count\": 2527}, {\"percentile_ex_nulls\": 0.8755861520767212, \"percentile_inc_nulls\": 0.8761388659477234, \"value_count\": 141, \"group_name\": \"_syn_g1_firstname_\", \"total_non_null_rows\": 13222, \"total_rows_inc_nulls\": 13281, \"sum_tokens_in_value_count_group\": 141.0, \"distinct_value_count\": 2527}, {\"percentile_ex_nulls\": 0.8649977445602417, \"percentile_inc_nulls\": 0.8655974864959717, \"value_count\": 140, \"group_name\": \"_syn_g1_firstname_\", \"total_non_null_rows\": 13222, \"total_rows_inc_nulls\": 13281, \"sum_tokens_in_value_count_group\": 140.0, \"distinct_value_count\": 2527}, {\"percentile_ex_nulls\": 0.8547118306159973, \"percentile_inc_nulls\": 0.85535728931427, \"value_count\": 136, \"group_name\": \"_syn_g1_firstname_\", \"total_non_null_rows\": 13222, \"total_rows_inc_nulls\": 13281, \"sum_tokens_in_value_count_group\": 136.0, \"distinct_value_count\": 2527}, {\"percentile_ex_nulls\": 0.8344426155090332, \"percentile_inc_nulls\": 0.8351780772209167, \"value_count\": 134, \"group_name\": \"_syn_g1_firstname_\", \"total_non_null_rows\": 13222, \"total_rows_inc_nulls\": 13281, \"sum_tokens_in_value_count_group\": 268.0, \"distinct_value_count\": 2527}, {\"percentile_ex_nulls\": 0.8249130249023438, \"percentile_inc_nulls\": 0.8256908655166626, \"value_count\": 126, \"group_name\": \"_syn_g1_firstname_\", \"total_non_null_rows\": 13222, \"total_rows_inc_nulls\": 13281, \"sum_tokens_in_value_count_group\": 126.0, \"distinct_value_count\": 2527}, {\"percentile_ex_nulls\": 0.8155347108840942, \"percentile_inc_nulls\": 0.8163541555404663, \"value_count\": 124, \"group_name\": \"_syn_g1_firstname_\", \"total_non_null_rows\": 13222, \"total_rows_inc_nulls\": 13281, \"sum_tokens_in_value_count_group\": 124.0, \"distinct_value_count\": 2527}, {\"percentile_ex_nulls\": 0.797231912612915, \"percentile_inc_nulls\": 0.7981326580047607, \"value_count\": 121, \"group_name\": \"_syn_g1_firstname_\", \"total_non_null_rows\": 13222, \"total_rows_inc_nulls\": 13281, \"sum_tokens_in_value_count_group\": 242.0, \"distinct_value_count\": 2527}, {\"percentile_ex_nulls\": 0.7793828248977661, \"percentile_inc_nulls\": 0.7803629040718079, \"value_count\": 118, \"group_name\": \"_syn_g1_firstname_\", \"total_non_null_rows\": 13222, \"total_rows_inc_nulls\": 13281, \"sum_tokens_in_value_count_group\": 236.0, \"distinct_value_count\": 2527}, {\"percentile_ex_nulls\": 0.7706096172332764, \"percentile_inc_nulls\": 0.7716286182403564, \"value_count\": 116, \"group_name\": \"_syn_g1_firstname_\", \"total_non_null_rows\": 13222, \"total_rows_inc_nulls\": 13281, \"sum_tokens_in_value_count_group\": 116.0, \"distinct_value_count\": 2527}, {\"percentile_ex_nulls\": 0.7622901201248169, \"percentile_inc_nulls\": 0.7633461356163025, \"value_count\": 110, \"group_name\": \"_syn_g1_firstname_\", \"total_non_null_rows\": 13222, \"total_rows_inc_nulls\": 13281, \"sum_tokens_in_value_count_group\": 110.0, \"distinct_value_count\": 2527}, {\"percentile_ex_nulls\": 0.7541975378990173, \"percentile_inc_nulls\": 0.7552894949913025, \"value_count\": 107, \"group_name\": \"_syn_g1_firstname_\", \"total_non_null_rows\": 13222, \"total_rows_inc_nulls\": 13281, \"sum_tokens_in_value_count_group\": 107.0, \"distinct_value_count\": 2527}, {\"percentile_ex_nulls\": 0.7461805939674377, \"percentile_inc_nulls\": 0.7473081946372986, \"value_count\": 106, \"group_name\": \"_syn_g1_firstname_\", \"total_non_null_rows\": 13222, \"total_rows_inc_nulls\": 13281, \"sum_tokens_in_value_count_group\": 106.0, \"distinct_value_count\": 2527}, {\"percentile_ex_nulls\": 0.7387686967849731, \"percentile_inc_nulls\": 0.73992919921875, \"value_count\": 98, \"group_name\": \"_syn_g1_firstname_\", \"total_non_null_rows\": 13222, \"total_rows_inc_nulls\": 13281, \"sum_tokens_in_value_count_group\": 98.0, \"distinct_value_count\": 2527}, {\"percentile_ex_nulls\": 0.7316593527793884, \"percentile_inc_nulls\": 0.7328514456748962, \"value_count\": 94, \"group_name\": \"_syn_g1_firstname_\", \"total_non_null_rows\": 13222, \"total_rows_inc_nulls\": 13281, \"sum_tokens_in_value_count_group\": 94.0, \"distinct_value_count\": 2527}, {\"percentile_ex_nulls\": 0.7247768640518188, \"percentile_inc_nulls\": 0.7259995341300964, \"value_count\": 91, \"group_name\": \"_syn_g1_firstname_\", \"total_non_null_rows\": 13222, \"total_rows_inc_nulls\": 13281, \"sum_tokens_in_value_count_group\": 91.0, \"distinct_value_count\": 2527}, {\"percentile_ex_nulls\": 0.7048101425170898, \"percentile_inc_nulls\": 0.706121563911438, \"value_count\": 88, \"group_name\": \"_syn_g1_firstname_\", \"total_non_null_rows\": 13222, \"total_rows_inc_nulls\": 13281, \"sum_tokens_in_value_count_group\": 264.0, \"distinct_value_count\": 2527}, {\"percentile_ex_nulls\": 0.6982302665710449, \"percentile_inc_nulls\": 0.6995707750320435, \"value_count\": 87, \"group_name\": \"_syn_g1_firstname_\", \"total_non_null_rows\": 13222, \"total_rows_inc_nulls\": 13281, \"sum_tokens_in_value_count_group\": 87.0, \"distinct_value_count\": 2527}, {\"percentile_ex_nulls\": 0.6918015480041504, \"percentile_inc_nulls\": 0.6931706666946411, \"value_count\": 85, \"group_name\": \"_syn_g1_firstname_\", \"total_non_null_rows\": 13222, \"total_rows_inc_nulls\": 13281, \"sum_tokens_in_value_count_group\": 85.0, \"distinct_value_count\": 2527}, {\"percentile_ex_nulls\": 0.6855997443199158, \"percentile_inc_nulls\": 0.6869964599609375, \"value_count\": 82, \"group_name\": \"_syn_g1_firstname_\", \"total_non_null_rows\": 13222, \"total_rows_inc_nulls\": 13281, \"sum_tokens_in_value_count_group\": 82.0, \"distinct_value_count\": 2527}, {\"percentile_ex_nulls\": 0.6795492172241211, \"percentile_inc_nulls\": 0.6809728145599365, \"value_count\": 80, \"group_name\": \"_syn_g1_firstname_\", \"total_non_null_rows\": 13222, \"total_rows_inc_nulls\": 13281, \"sum_tokens_in_value_count_group\": 80.0, \"distinct_value_count\": 2527}, {\"percentile_ex_nulls\": 0.6735743284225464, \"percentile_inc_nulls\": 0.6750245094299316, \"value_count\": 79, \"group_name\": \"_syn_g1_firstname_\", \"total_non_null_rows\": 13222, \"total_rows_inc_nulls\": 13281, \"sum_tokens_in_value_count_group\": 79.0, \"distinct_value_count\": 2527}, {\"percentile_ex_nulls\": 0.6677507162094116, \"percentile_inc_nulls\": 0.6692267060279846, \"value_count\": 77, \"group_name\": \"_syn_g1_firstname_\", \"total_non_null_rows\": 13222, \"total_rows_inc_nulls\": 13281, \"sum_tokens_in_value_count_group\": 77.0, \"distinct_value_count\": 2527}, {\"percentile_ex_nulls\": 0.6620783805847168, \"percentile_inc_nulls\": 0.6635795831680298, \"value_count\": 75, \"group_name\": \"_syn_g1_firstname_\", \"total_non_null_rows\": 13222, \"total_rows_inc_nulls\": 13281, \"sum_tokens_in_value_count_group\": 75.0, \"distinct_value_count\": 2527}, {\"percentile_ex_nulls\": 0.6508848667144775, \"percentile_inc_nulls\": 0.6524357795715332, \"value_count\": 74, \"group_name\": \"_syn_g1_firstname_\", \"total_non_null_rows\": 13222, \"total_rows_inc_nulls\": 13281, \"sum_tokens_in_value_count_group\": 148.0, \"distinct_value_count\": 2527}, {\"percentile_ex_nulls\": 0.6453638076782227, \"percentile_inc_nulls\": 0.6469392776489258, \"value_count\": 73, \"group_name\": \"_syn_g1_firstname_\", \"total_non_null_rows\": 13222, \"total_rows_inc_nulls\": 13281, \"sum_tokens_in_value_count_group\": 73.0, \"distinct_value_count\": 2527}, {\"percentile_ex_nulls\": 0.6344728469848633, \"percentile_inc_nulls\": 0.636096715927124, \"value_count\": 72, \"group_name\": \"_syn_g1_firstname_\", \"total_non_null_rows\": 13222, \"total_rows_inc_nulls\": 13281, \"sum_tokens_in_value_count_group\": 144.0, \"distinct_value_count\": 2527}, {\"percentile_ex_nulls\": 0.6291786432266235, \"percentile_inc_nulls\": 0.6308259963989258, \"value_count\": 70, \"group_name\": \"_syn_g1_firstname_\", \"total_non_null_rows\": 13222, \"total_rows_inc_nulls\": 13281, \"sum_tokens_in_value_count_group\": 70.0, \"distinct_value_count\": 2527}, {\"percentile_ex_nulls\": 0.6239600777626038, \"percentile_inc_nulls\": 0.6256306171417236, \"value_count\": 69, \"group_name\": \"_syn_g1_firstname_\", \"total_non_null_rows\": 13222, \"total_rows_inc_nulls\": 13281, \"sum_tokens_in_value_count_group\": 69.0, \"distinct_value_count\": 2527}, {\"percentile_ex_nulls\": 0.6188170909881592, \"percentile_inc_nulls\": 0.6205105185508728, \"value_count\": 68, \"group_name\": \"_syn_g1_firstname_\", \"total_non_null_rows\": 13222, \"total_rows_inc_nulls\": 13281, \"sum_tokens_in_value_count_group\": 68.0, \"distinct_value_count\": 2527}, {\"percentile_ex_nulls\": 0.6137498021125793, \"percentile_inc_nulls\": 0.6154657006263733, \"value_count\": 67, \"group_name\": \"_syn_g1_firstname_\", \"total_non_null_rows\": 13222, \"total_rows_inc_nulls\": 13281, \"sum_tokens_in_value_count_group\": 67.0, \"distinct_value_count\": 2527}, {\"percentile_ex_nulls\": 0.598774790763855, \"percentile_inc_nulls\": 0.6005572080612183, \"value_count\": 66, \"group_name\": \"_syn_g1_firstname_\", \"total_non_null_rows\": 13222, \"total_rows_inc_nulls\": 13281, \"sum_tokens_in_value_count_group\": 198.0, \"distinct_value_count\": 2527}, {\"percentile_ex_nulls\": 0.5939343571662903, \"percentile_inc_nulls\": 0.5957382917404175, \"value_count\": 64, \"group_name\": \"_syn_g1_firstname_\", \"total_non_null_rows\": 13222, \"total_rows_inc_nulls\": 13281, \"sum_tokens_in_value_count_group\": 64.0, \"distinct_value_count\": 2527}, {\"percentile_ex_nulls\": 0.5847073197364807, \"percentile_inc_nulls\": 0.5865522027015686, \"value_count\": 61, \"group_name\": \"_syn_g1_firstname_\", \"total_non_null_rows\": 13222, \"total_rows_inc_nulls\": 13281, \"sum_tokens_in_value_count_group\": 122.0, \"distinct_value_count\": 2527}, {\"percentile_ex_nulls\": 0.5757827758789062, \"percentile_inc_nulls\": 0.5776673555374146, \"value_count\": 59, \"group_name\": \"_syn_g1_firstname_\", \"total_non_null_rows\": 13222, \"total_rows_inc_nulls\": 13281, \"sum_tokens_in_value_count_group\": 118.0, \"distinct_value_count\": 2527}, {\"percentile_ex_nulls\": 0.5713961720466614, \"percentile_inc_nulls\": 0.5733002424240112, \"value_count\": 58, \"group_name\": \"_syn_g1_firstname_\", \"total_non_null_rows\": 13222, \"total_rows_inc_nulls\": 13281, \"sum_tokens_in_value_count_group\": 58.0, \"distinct_value_count\": 2527}, {\"percentile_ex_nulls\": 0.5671607851982117, \"percentile_inc_nulls\": 0.5690836906433105, \"value_count\": 56, \"group_name\": \"_syn_g1_firstname_\", \"total_non_null_rows\": 13222, \"total_rows_inc_nulls\": 13281, \"sum_tokens_in_value_count_group\": 56.0, \"distinct_value_count\": 2527}, {\"percentile_ex_nulls\": 0.5630010366439819, \"percentile_inc_nulls\": 0.5649423599243164, \"value_count\": 55, \"group_name\": \"_syn_g1_firstname_\", \"total_non_null_rows\": 13222, \"total_rows_inc_nulls\": 13281, \"sum_tokens_in_value_count_group\": 55.0, \"distinct_value_count\": 2527}, {\"percentile_ex_nulls\": 0.5549840927124023, \"percentile_inc_nulls\": 0.5569610595703125, \"value_count\": 53, \"group_name\": \"_syn_g1_firstname_\", \"total_non_null_rows\": 13222, \"total_rows_inc_nulls\": 13281, \"sum_tokens_in_value_count_group\": 106.0, \"distinct_value_count\": 2527}, {\"percentile_ex_nulls\": 0.5510512590408325, \"percentile_inc_nulls\": 0.5530456900596619, \"value_count\": 52, \"group_name\": \"_syn_g1_firstname_\", \"total_non_null_rows\": 13222, \"total_rows_inc_nulls\": 13281, \"sum_tokens_in_value_count_group\": 52.0, \"distinct_value_count\": 2527}, {\"percentile_ex_nulls\": 0.5471940636634827, \"percentile_inc_nulls\": 0.5492056608200073, \"value_count\": 51, \"group_name\": \"_syn_g1_firstname_\", \"total_non_null_rows\": 13222, \"total_rows_inc_nulls\": 13281, \"sum_tokens_in_value_count_group\": 51.0, \"distinct_value_count\": 2527}, {\"percentile_ex_nulls\": 0.5434125065803528, \"percentile_inc_nulls\": 0.5454408526420593, \"value_count\": 50, \"group_name\": \"_syn_g1_firstname_\", \"total_non_null_rows\": 13222, \"total_rows_inc_nulls\": 13281, \"sum_tokens_in_value_count_group\": 50.0, \"distinct_value_count\": 2527}, {\"percentile_ex_nulls\": 0.5397065877914429, \"percentile_inc_nulls\": 0.5417513847351074, \"value_count\": 49, \"group_name\": \"_syn_g1_firstname_\", \"total_non_null_rows\": 13222, \"total_rows_inc_nulls\": 13281, \"sum_tokens_in_value_count_group\": 49.0, \"distinct_value_count\": 2527}, {\"percentile_ex_nulls\": 0.5360762476921082, \"percentile_inc_nulls\": 0.5381371974945068, \"value_count\": 48, \"group_name\": \"_syn_g1_firstname_\", \"total_non_null_rows\": 13222, \"total_rows_inc_nulls\": 13281, \"sum_tokens_in_value_count_group\": 48.0, \"distinct_value_count\": 2527}, {\"percentile_ex_nulls\": 0.5325215458869934, \"percentile_inc_nulls\": 0.5345982909202576, \"value_count\": 47, \"group_name\": \"_syn_g1_firstname_\", \"total_non_null_rows\": 13222, \"total_rows_inc_nulls\": 13281, \"sum_tokens_in_value_count_group\": 47.0, \"distinct_value_count\": 2527}, {\"percentile_ex_nulls\": 0.5255634784698486, \"percentile_inc_nulls\": 0.5276710987091064, \"value_count\": 46, \"group_name\": \"_syn_g1_firstname_\", \"total_non_null_rows\": 13222, \"total_rows_inc_nulls\": 13281, \"sum_tokens_in_value_count_group\": 92.0, \"distinct_value_count\": 2527}, {\"percentile_ex_nulls\": 0.518756628036499, \"percentile_inc_nulls\": 0.5208945274353027, \"value_count\": 45, \"group_name\": \"_syn_g1_firstname_\", \"total_non_null_rows\": 13222, \"total_rows_inc_nulls\": 13281, \"sum_tokens_in_value_count_group\": 90.0, \"distinct_value_count\": 2527}, {\"percentile_ex_nulls\": 0.5090001821517944, \"percentile_inc_nulls\": 0.5111813545227051, \"value_count\": 43, \"group_name\": \"_syn_g1_firstname_\", \"total_non_null_rows\": 13222, \"total_rows_inc_nulls\": 13281, \"sum_tokens_in_value_count_group\": 129.0, \"distinct_value_count\": 2527}, {\"percentile_ex_nulls\": 0.5026471018791199, \"percentile_inc_nulls\": 0.5048565864562988, \"value_count\": 42, \"group_name\": \"_syn_g1_firstname_\", \"total_non_null_rows\": 13222, \"total_rows_inc_nulls\": 13281, \"sum_tokens_in_value_count_group\": 84.0, \"distinct_value_count\": 2527}, {\"percentile_ex_nulls\": 0.4996974468231201, \"percentile_inc_nulls\": 0.5019200444221497, \"value_count\": 39, \"group_name\": \"_syn_g1_firstname_\", \"total_non_null_rows\": 13222, \"total_rows_inc_nulls\": 13281, \"sum_tokens_in_value_count_group\": 39.0, \"distinct_value_count\": 2527}, {\"percentile_ex_nulls\": 0.4968234896659851, \"percentile_inc_nulls\": 0.4990587830543518, \"value_count\": 38, \"group_name\": \"_syn_g1_firstname_\", \"total_non_null_rows\": 13222, \"total_rows_inc_nulls\": 13281, \"sum_tokens_in_value_count_group\": 38.0, \"distinct_value_count\": 2527}, {\"percentile_ex_nulls\": 0.48842835426330566, \"percentile_inc_nulls\": 0.49070101976394653, \"value_count\": 37, \"group_name\": \"_syn_g1_firstname_\", \"total_non_null_rows\": 13222, \"total_rows_inc_nulls\": 13281, \"sum_tokens_in_value_count_group\": 111.0, \"distinct_value_count\": 2527}, {\"percentile_ex_nulls\": 0.48298293352127075, \"percentile_inc_nulls\": 0.48527973890304565, \"value_count\": 36, \"group_name\": \"_syn_g1_firstname_\", \"total_non_null_rows\": 13222, \"total_rows_inc_nulls\": 13281, \"sum_tokens_in_value_count_group\": 72.0, \"distinct_value_count\": 2527}, {\"percentile_ex_nulls\": 0.47783994674682617, \"percentile_inc_nulls\": 0.4801596403121948, \"value_count\": 34, \"group_name\": \"_syn_g1_firstname_\", \"total_non_null_rows\": 13222, \"total_rows_inc_nulls\": 13281, \"sum_tokens_in_value_count_group\": 68.0, \"distinct_value_count\": 2527}, {\"percentile_ex_nulls\": 0.4728482961654663, \"percentile_inc_nulls\": 0.47519010305404663, \"value_count\": 33, \"group_name\": \"_syn_g1_firstname_\", \"total_non_null_rows\": 13222, \"total_rows_inc_nulls\": 13281, \"sum_tokens_in_value_count_group\": 66.0, \"distinct_value_count\": 2527}, {\"percentile_ex_nulls\": 0.46558767557144165, \"percentile_inc_nulls\": 0.46796172857284546, \"value_count\": 32, \"group_name\": \"_syn_g1_firstname_\", \"total_non_null_rows\": 13222, \"total_rows_inc_nulls\": 13281, \"sum_tokens_in_value_count_group\": 96.0, \"distinct_value_count\": 2527}, {\"percentile_ex_nulls\": 0.4538647532463074, \"percentile_inc_nulls\": 0.45629096031188965, \"value_count\": 31, \"group_name\": \"_syn_g1_firstname_\", \"total_non_null_rows\": 13222, \"total_rows_inc_nulls\": 13281, \"sum_tokens_in_value_count_group\": 155.0, \"distinct_value_count\": 2527}, {\"percentile_ex_nulls\": 0.44478899240493774, \"percentile_inc_nulls\": 0.4472554922103882, \"value_count\": 30, \"group_name\": \"_syn_g1_firstname_\", \"total_non_null_rows\": 13222, \"total_rows_inc_nulls\": 13281, \"sum_tokens_in_value_count_group\": 120.0, \"distinct_value_count\": 2527}, {\"percentile_ex_nulls\": 0.4425956606864929, \"percentile_inc_nulls\": 0.4450719356536865, \"value_count\": 29, \"group_name\": \"_syn_g1_firstname_\", \"total_non_null_rows\": 13222, \"total_rows_inc_nulls\": 13281, \"sum_tokens_in_value_count_group\": 29.0, \"distinct_value_count\": 2527}, {\"percentile_ex_nulls\": 0.4320072531700134, \"percentile_inc_nulls\": 0.4345305562019348, \"value_count\": 28, \"group_name\": \"_syn_g1_firstname_\", \"total_non_null_rows\": 13222, \"total_rows_inc_nulls\": 13281, \"sum_tokens_in_value_count_group\": 140.0, \"distinct_value_count\": 2527}, {\"percentile_ex_nulls\": 0.4258810877799988, \"percentile_inc_nulls\": 0.42843157052993774, \"value_count\": 27, \"group_name\": \"_syn_g1_firstname_\", \"total_non_null_rows\": 13222, \"total_rows_inc_nulls\": 13281, \"sum_tokens_in_value_count_group\": 81.0, \"distinct_value_count\": 2527}, {\"percentile_ex_nulls\": 0.41801542043685913, \"percentile_inc_nulls\": 0.4206008315086365, \"value_count\": 26, \"group_name\": \"_syn_g1_firstname_\", \"total_non_null_rows\": 13222, \"total_rows_inc_nulls\": 13281, \"sum_tokens_in_value_count_group\": 104.0, \"distinct_value_count\": 2527}, {\"percentile_ex_nulls\": 0.4066706895828247, \"percentile_inc_nulls\": 0.40930652618408203, \"value_count\": 25, \"group_name\": \"_syn_g1_firstname_\", \"total_non_null_rows\": 13222, \"total_rows_inc_nulls\": 13281, \"sum_tokens_in_value_count_group\": 150.0, \"distinct_value_count\": 2527}, {\"percentile_ex_nulls\": 0.39941006898880005, \"percentile_inc_nulls\": 0.40207815170288086, \"value_count\": 24, \"group_name\": \"_syn_g1_firstname_\", \"total_non_null_rows\": 13222, \"total_rows_inc_nulls\": 13281, \"sum_tokens_in_value_count_group\": 96.0, \"distinct_value_count\": 2527}, {\"percentile_ex_nulls\": 0.3941915035247803, \"percentile_inc_nulls\": 0.3968827724456787, \"value_count\": 23, \"group_name\": \"_syn_g1_firstname_\", \"total_non_null_rows\": 13222, \"total_rows_inc_nulls\": 13281, \"sum_tokens_in_value_count_group\": 69.0, \"distinct_value_count\": 2527}, {\"percentile_ex_nulls\": 0.38254421949386597, \"percentile_inc_nulls\": 0.38528722524642944, \"value_count\": 22, \"group_name\": \"_syn_g1_firstname_\", \"total_non_null_rows\": 13222, \"total_rows_inc_nulls\": 13281, \"sum_tokens_in_value_count_group\": 154.0, \"distinct_value_count\": 2527}, {\"percentile_ex_nulls\": 0.3761911988258362, \"percentile_inc_nulls\": 0.3789624571800232, \"value_count\": 21, \"group_name\": \"_syn_g1_firstname_\", \"total_non_null_rows\": 13222, \"total_rows_inc_nulls\": 13281, \"sum_tokens_in_value_count_group\": 84.0, \"distinct_value_count\": 2527}, {\"percentile_ex_nulls\": 0.36862802505493164, \"percentile_inc_nulls\": 0.371432900428772, \"value_count\": 20, \"group_name\": \"_syn_g1_firstname_\", \"total_non_null_rows\": 13222, \"total_rows_inc_nulls\": 13281, \"sum_tokens_in_value_count_group\": 100.0, \"distinct_value_count\": 2527}, {\"percentile_ex_nulls\": 0.36431705951690674, \"percentile_inc_nulls\": 0.3671410083770752, \"value_count\": 19, \"group_name\": \"_syn_g1_firstname_\", \"total_non_null_rows\": 13222, \"total_rows_inc_nulls\": 13281, \"sum_tokens_in_value_count_group\": 57.0, \"distinct_value_count\": 2527}, {\"percentile_ex_nulls\": 0.3547874689102173, \"percentile_inc_nulls\": 0.35765379667282104, \"value_count\": 18, \"group_name\": \"_syn_g1_firstname_\", \"total_non_null_rows\": 13222, \"total_rows_inc_nulls\": 13281, \"sum_tokens_in_value_count_group\": 126.0, \"distinct_value_count\": 2527}, {\"percentile_ex_nulls\": 0.34321582317352295, \"percentile_inc_nulls\": 0.34613358974456787, \"value_count\": 17, \"group_name\": \"_syn_g1_firstname_\", \"total_non_null_rows\": 13222, \"total_rows_inc_nulls\": 13281, \"sum_tokens_in_value_count_group\": 153.0, \"distinct_value_count\": 2527}, {\"percentile_ex_nulls\": 0.339585542678833, \"percentile_inc_nulls\": 0.3425194025039673, \"value_count\": 16, \"group_name\": \"_syn_g1_firstname_\", \"total_non_null_rows\": 13222, \"total_rows_inc_nulls\": 13281, \"sum_tokens_in_value_count_group\": 48.0, \"distinct_value_count\": 2527}, {\"percentile_ex_nulls\": 0.3293752670288086, \"percentile_inc_nulls\": 0.33235448598861694, \"value_count\": 15, \"group_name\": \"_syn_g1_firstname_\", \"total_non_null_rows\": 13222, \"total_rows_inc_nulls\": 13281, \"sum_tokens_in_value_count_group\": 135.0, \"distinct_value_count\": 2527}, {\"percentile_ex_nulls\": 0.32408106327056885, \"percentile_inc_nulls\": 0.3270838260650635, \"value_count\": 14, \"group_name\": \"_syn_g1_firstname_\", \"total_non_null_rows\": 13222, \"total_rows_inc_nulls\": 13281, \"sum_tokens_in_value_count_group\": 70.0, \"distinct_value_count\": 2527}, {\"percentile_ex_nulls\": 0.31719863414764404, \"percentile_inc_nulls\": 0.32023191452026367, \"value_count\": 13, \"group_name\": \"_syn_g1_firstname_\", \"total_non_null_rows\": 13222, \"total_rows_inc_nulls\": 13281, \"sum_tokens_in_value_count_group\": 91.0, \"distinct_value_count\": 2527}, {\"percentile_ex_nulls\": 0.30267733335494995, \"percentile_inc_nulls\": 0.30577516555786133, \"value_count\": 12, \"group_name\": \"_syn_g1_firstname_\", \"total_non_null_rows\": 13222, \"total_rows_inc_nulls\": 13281, \"sum_tokens_in_value_count_group\": 192.0, \"distinct_value_count\": 2527}, {\"percentile_ex_nulls\": 0.29269397258758545, \"percentile_inc_nulls\": 0.2958361506462097, \"value_count\": 11, \"group_name\": \"_syn_g1_firstname_\", \"total_non_null_rows\": 13222, \"total_rows_inc_nulls\": 13281, \"sum_tokens_in_value_count_group\": 132.0, \"distinct_value_count\": 2527}, {\"percentile_ex_nulls\": 0.28210556507110596, \"percentile_inc_nulls\": 0.285294771194458, \"value_count\": 10, \"group_name\": \"_syn_g1_firstname_\", \"total_non_null_rows\": 13222, \"total_rows_inc_nulls\": 13281, \"sum_tokens_in_value_count_group\": 140.0, \"distinct_value_count\": 2527}, {\"percentile_ex_nulls\": 0.27121466398239136, \"percentile_inc_nulls\": 0.27445220947265625, \"value_count\": 9, \"group_name\": \"_syn_g1_firstname_\", \"total_non_null_rows\": 13222, \"total_rows_inc_nulls\": 13281, \"sum_tokens_in_value_count_group\": 144.0, \"distinct_value_count\": 2527}, {\"percentile_ex_nulls\": 0.257903516292572, \"percentile_inc_nulls\": 0.2612001895904541, \"value_count\": 8, \"group_name\": \"_syn_g1_firstname_\", \"total_non_null_rows\": 13222, \"total_rows_inc_nulls\": 13281, \"sum_tokens_in_value_count_group\": 176.0, \"distinct_value_count\": 2527}, {\"percentile_ex_nulls\": 0.24307972192764282, \"percentile_inc_nulls\": 0.2464422583580017, \"value_count\": 7, \"group_name\": \"_syn_g1_firstname_\", \"total_non_null_rows\": 13222, \"total_rows_inc_nulls\": 13281, \"sum_tokens_in_value_count_group\": 196.0, \"distinct_value_count\": 2527}, {\"percentile_ex_nulls\": 0.2262895107269287, \"percentile_inc_nulls\": 0.2297266721725464, \"value_count\": 6, \"group_name\": \"_syn_g1_firstname_\", \"total_non_null_rows\": 13222, \"total_rows_inc_nulls\": 13281, \"sum_tokens_in_value_count_group\": 222.0, \"distinct_value_count\": 2527}, {\"percentile_ex_nulls\": 0.2088942527770996, \"percentile_inc_nulls\": 0.21240872144699097, \"value_count\": 5, \"group_name\": \"_syn_g1_firstname_\", \"total_non_null_rows\": 13222, \"total_rows_inc_nulls\": 13281, \"sum_tokens_in_value_count_group\": 230.0, \"distinct_value_count\": 2527}, {\"percentile_ex_nulls\": 0.1892300844192505, \"percentile_inc_nulls\": 0.1928318738937378, \"value_count\": 4, \"group_name\": \"_syn_g1_firstname_\", \"total_non_null_rows\": 13222, \"total_rows_inc_nulls\": 13281, \"sum_tokens_in_value_count_group\": 260.0, \"distinct_value_count\": 2527}, {\"percentile_ex_nulls\": 0.16880953311920166, \"percentile_inc_nulls\": 0.1725020408630371, \"value_count\": 3, \"group_name\": \"_syn_g1_firstname_\", \"total_non_null_rows\": 13222, \"total_rows_inc_nulls\": 13281, \"sum_tokens_in_value_count_group\": 270.0, \"distinct_value_count\": 2527}, {\"percentile_ex_nulls\": 0.13371652364730835, \"percentile_inc_nulls\": 0.13756495714187622, \"value_count\": 2, \"group_name\": \"_syn_g1_firstname_\", \"total_non_null_rows\": 13222, \"total_rows_inc_nulls\": 13281, \"sum_tokens_in_value_count_group\": 464.0, \"distinct_value_count\": 2527}, {\"percentile_ex_nulls\": 0.0, \"percentile_inc_nulls\": 0.004442453384399414, \"value_count\": 1, \"group_name\": \"_syn_g1_firstname_\", \"total_non_null_rows\": 13222, \"total_rows_inc_nulls\": 13281, \"sum_tokens_in_value_count_group\": 1768.0, \"distinct_value_count\": 2527}, {\"percentile_ex_nulls\": 1.0, \"percentile_inc_nulls\": 1.0, \"value_count\": 239, \"group_name\": \"_syn_g1_firstname_\", \"total_non_null_rows\": 13222, \"total_rows_inc_nulls\": 13281, \"sum_tokens_in_value_count_group\": 239.0, \"distinct_value_count\": 2527}]}, \"encoding\": {\"tooltip\": [{\"field\": \"value_count\", \"type\": \"quantitative\"}, {\"field\": \"percentile_ex_nulls\", \"type\": \"quantitative\"}, {\"field\": \"percentile_inc_nulls\", \"type\": \"quantitative\"}, {\"field\": \"total_non_null_rows\", \"type\": \"quantitative\"}, {\"field\": \"total_rows_inc_nulls\", \"type\": \"quantitative\"}], \"x\": {\"field\": \"percentile_ex_nulls\", \"sort\": \"descending\", \"title\": \"Percentile\", \"type\": \"quantitative\"}, \"y\": {\"field\": \"value_count\", \"title\": \"Count of values\", \"type\": \"quantitative\"}}, \"title\": {\"text\": \"Distribution of counts of values in column \\\"syn_g1_firstname\\\"\", \"subtitle\": \"In this col, 59 values (0.4%) are null and there are 2527 distinct values\"}}, {\"mark\": \"bar\", \"data\": {\"values\": [{\"value_count\": 239, \"group_name\": \"_syn_g1_firstname_\", \"value\": \"Jack\", \"total_non_null_rows\": 13222, \"total_rows_inc_nulls\": 13281, \"distinct_value_count\": 2527}, {\"value_count\": 232, \"group_name\": \"_syn_g1_firstname_\", \"value\": \"Thomas\", \"total_non_null_rows\": 13222, \"total_rows_inc_nulls\": 13281, \"distinct_value_count\": 2527}, {\"value_count\": 198, \"group_name\": \"_syn_g1_firstname_\", \"value\": \"Oliver\", \"total_non_null_rows\": 13222, \"total_rows_inc_nulls\": 13281, \"distinct_value_count\": 2527}, {\"value_count\": 185, \"group_name\": \"_syn_g1_firstname_\", \"value\": \"Emily\", \"total_non_null_rows\": 13222, \"total_rows_inc_nulls\": 13281, \"distinct_value_count\": 2527}, {\"value_count\": 183, \"group_name\": \"_syn_g1_firstname_\", \"value\": \"Joshua\", \"total_non_null_rows\": 13222, \"total_rows_inc_nulls\": 13281, \"distinct_value_count\": 2527}, {\"value_count\": 171, \"group_name\": \"_syn_g1_firstname_\", \"value\": \"James\", \"total_non_null_rows\": 13222, \"total_rows_inc_nulls\": 13281, \"distinct_value_count\": 2527}, {\"value_count\": 151, \"group_name\": \"_syn_g1_firstname_\", \"value\": \"Chloe\", \"total_non_null_rows\": 13222, \"total_rows_inc_nulls\": 13281, \"distinct_value_count\": 2527}, {\"value_count\": 145, \"group_name\": \"_syn_g1_firstname_\", \"value\": \"Jessica\", \"total_non_null_rows\": 13222, \"total_rows_inc_nulls\": 13281, \"distinct_value_count\": 2527}, {\"value_count\": 141, \"group_name\": \"_syn_g1_firstname_\", \"value\": \"Harry\", \"total_non_null_rows\": 13222, \"total_rows_inc_nulls\": 13281, \"distinct_value_count\": 2527}, {\"value_count\": 140, \"group_name\": \"_syn_g1_firstname_\", \"value\": \"Sophie\", \"total_non_null_rows\": 13222, \"total_rows_inc_nulls\": 13281, \"distinct_value_count\": 2527}]}, \"encoding\": {\"tooltip\": [{\"field\": \"value\", \"type\": \"nominal\"}, {\"field\": \"value_count\", \"type\": \"quantitative\"}, {\"field\": \"total_non_null_rows\", \"type\": \"quantitative\"}, {\"field\": \"total_rows_inc_nulls\", \"type\": \"quantitative\"}], \"x\": {\"field\": \"value\", \"sort\": \"-y\", \"title\": null, \"type\": \"nominal\"}, \"y\": {\"field\": \"value_count\", \"title\": \"Value count\", \"type\": \"quantitative\"}}, \"title\": \"Top 10 values by value count\"}, {\"mark\": \"bar\", \"data\": {\"values\": [{\"value_count\": 1, \"group_name\": \"_syn_g1_firstname_\", \"value\": \"thiago\", \"total_non_null_rows\": 13222, \"total_rows_inc_nulls\": 13281, \"distinct_value_count\": 2527}, {\"value_count\": 1, \"group_name\": \"_syn_g1_firstname_\", \"value\": \"irv\", \"total_non_null_rows\": 13222, \"total_rows_inc_nulls\": 13281, \"distinct_value_count\": 2527}, {\"value_count\": 1, \"group_name\": \"_syn_g1_firstname_\", \"value\": \"Isa\", \"total_non_null_rows\": 13222, \"total_rows_inc_nulls\": 13281, \"distinct_value_count\": 2527}, {\"value_count\": 1, \"group_name\": \"_syn_g1_firstname_\", \"value\": \"Jamal\", \"total_non_null_rows\": 13222, \"total_rows_inc_nulls\": 13281, \"distinct_value_count\": 2527}, {\"value_count\": 1, \"group_name\": \"_syn_g1_firstname_\", \"value\": \"Ayla\", \"total_non_null_rows\": 13222, \"total_rows_inc_nulls\": 13281, \"distinct_value_count\": 2527}, {\"value_count\": 1, \"group_name\": \"_syn_g1_firstname_\", \"value\": \"edgar\", \"total_non_null_rows\": 13222, \"total_rows_inc_nulls\": 13281, \"distinct_value_count\": 2527}, {\"value_count\": 1, \"group_name\": \"_syn_g1_firstname_\", \"value\": \"epifaniusz\", \"total_non_null_rows\": 13222, \"total_rows_inc_nulls\": 13281, \"distinct_value_count\": 2527}, {\"value_count\": 1, \"group_name\": \"_syn_g1_firstname_\", \"value\": \"Maxim\", \"total_non_null_rows\": 13222, \"total_rows_inc_nulls\": 13281, \"distinct_value_count\": 2527}, {\"value_count\": 1, \"group_name\": \"_syn_g1_firstname_\", \"value\": \"Ned\", \"total_non_null_rows\": 13222, \"total_rows_inc_nulls\": 13281, \"distinct_value_count\": 2527}, {\"value_count\": 1, \"group_name\": \"_syn_g1_firstname_\", \"value\": \"marco ant\\u00f4nio\", \"total_non_null_rows\": 13222, \"total_rows_inc_nulls\": 13281, \"distinct_value_count\": 2527}]}, \"encoding\": {\"tooltip\": [{\"field\": \"value\", \"type\": \"nominal\"}, {\"field\": \"value_count\", \"type\": \"quantitative\"}, {\"field\": \"total_non_null_rows\", \"type\": \"quantitative\"}, {\"field\": \"total_rows_inc_nulls\", \"type\": \"quantitative\"}], \"x\": {\"field\": \"value\", \"sort\": \"-y\", \"title\": null, \"type\": \"nominal\"}, \"y\": {\"field\": \"value_count\", \"scale\": {\"domain\": [0, 239]}, \"title\": \"Value count\", \"type\": \"quantitative\"}}, \"title\": \"Bottom 10 values by value count\"}]}], \"$schema\": \"https://vega.github.io/schema/vega-lite/v5.9.3.json\"}, {\"mode\": \"vega-lite\"});\n",
       "</script>"
      ],
      "text/plain": [
       "alt.VConcatChart(...)"
      ]
     },
     "execution_count": 2,
     "metadata": {},
     "output_type": "execute_result"
    }
   ],
   "source": [
    "from splink.duckdb.linker import DuckDBLinker\n",
    "linker = DuckDBLinker(df)\n",
    "linker.profile_columns()\n",
    "\n"
   ]
  },
  {
   "cell_type": "code",
   "execution_count": 5,
   "metadata": {},
   "outputs": [
    {
     "data": {
      "text/html": [
       "\n",
       "<style>\n",
       "  #altair-viz-84febf5a00a447698901dd6979179c71.vega-embed {\n",
       "    width: 100%;\n",
       "    display: flex;\n",
       "  }\n",
       "\n",
       "  #altair-viz-84febf5a00a447698901dd6979179c71.vega-embed details,\n",
       "  #altair-viz-84febf5a00a447698901dd6979179c71.vega-embed details summary {\n",
       "    position: relative;\n",
       "  }\n",
       "</style>\n",
       "<div id=\"altair-viz-84febf5a00a447698901dd6979179c71\"></div>\n",
       "<script type=\"text/javascript\">\n",
       "  var VEGA_DEBUG = (typeof VEGA_DEBUG == \"undefined\") ? {} : VEGA_DEBUG;\n",
       "  (function(spec, embedOpt){\n",
       "    let outputDiv = document.currentScript.previousElementSibling;\n",
       "    if (outputDiv.id !== \"altair-viz-84febf5a00a447698901dd6979179c71\") {\n",
       "      outputDiv = document.getElementById(\"altair-viz-84febf5a00a447698901dd6979179c71\");\n",
       "    }\n",
       "    const paths = {\n",
       "      \"vega\": \"https://cdn.jsdelivr.net/npm/vega@5?noext\",\n",
       "      \"vega-lib\": \"https://cdn.jsdelivr.net/npm/vega-lib?noext\",\n",
       "      \"vega-lite\": \"https://cdn.jsdelivr.net/npm/vega-lite@5.8.0?noext\",\n",
       "      \"vega-embed\": \"https://cdn.jsdelivr.net/npm/vega-embed@6?noext\",\n",
       "    };\n",
       "\n",
       "    function maybeLoadScript(lib, version) {\n",
       "      var key = `${lib.replace(\"-\", \"\")}_version`;\n",
       "      return (VEGA_DEBUG[key] == version) ?\n",
       "        Promise.resolve(paths[lib]) :\n",
       "        new Promise(function(resolve, reject) {\n",
       "          var s = document.createElement('script');\n",
       "          document.getElementsByTagName(\"head\")[0].appendChild(s);\n",
       "          s.async = true;\n",
       "          s.onload = () => {\n",
       "            VEGA_DEBUG[key] = version;\n",
       "            return resolve(paths[lib]);\n",
       "          };\n",
       "          s.onerror = () => reject(`Error loading script: ${paths[lib]}`);\n",
       "          s.src = paths[lib];\n",
       "        });\n",
       "    }\n",
       "\n",
       "    function showError(err) {\n",
       "      outputDiv.innerHTML = `<div class=\"error\" style=\"color:red;\">${err}</div>`;\n",
       "      throw err;\n",
       "    }\n",
       "\n",
       "    function displayChart(vegaEmbed) {\n",
       "      vegaEmbed(outputDiv, spec, embedOpt)\n",
       "        .catch(err => showError(`Javascript Error: ${err.message}<br>This usually means there's a typo in your chart specification. See the javascript console for the full traceback.`));\n",
       "    }\n",
       "\n",
       "    if(typeof define === \"function\" && define.amd) {\n",
       "      requirejs.config({paths});\n",
       "      require([\"vega-embed\"], displayChart, err => showError(`Error loading script: ${err.message}`));\n",
       "    } else {\n",
       "      maybeLoadScript(\"vega\", \"5\")\n",
       "        .then(() => maybeLoadScript(\"vega-lite\", \"5.8.0\"))\n",
       "        .then(() => maybeLoadScript(\"vega-embed\", \"6\"))\n",
       "        .catch(showError)\n",
       "        .then(() => displayChart(vegaEmbed));\n",
       "    }\n",
       "  })({\"config\": {\"view\": {\"continuousWidth\": 400, \"continuousHeight\": 300}, \"axis\": {\"labelFontSize\": 11}}, \"layer\": [{\"mark\": \"bar\", \"encoding\": {\"color\": {\"field\": \"null_proportion\", \"legend\": {\"format\": \".0%\", \"offset\": 30}, \"scale\": {\"domain\": [0, 1], \"range\": \"heatmap\"}, \"title\": \"Missingness\", \"type\": \"quantitative\"}, \"tooltip\": [{\"field\": \"column_name\", \"title\": \"Column\", \"type\": \"nominal\"}, {\"field\": \"null_count\", \"format\": \",.0f\", \"title\": \"Count of nulls\", \"type\": \"quantitative\"}, {\"field\": \"null_proportion\", \"format\": \".2%\", \"title\": \"Percentage of nulls\", \"type\": \"quantitative\"}, {\"field\": \"total_record_count\", \"format\": \",.0f\", \"title\": \"Total record count\", \"type\": \"quantitative\"}], \"x\": {\"axis\": {\"format\": \"%\", \"labelAlign\": \"center\", \"title\": \"Percentage of nulls\"}, \"field\": \"null_proportion\", \"scale\": {\"domain\": [0, 1]}, \"type\": \"quantitative\"}, \"y\": {\"axis\": {\"title\": \"\"}, \"field\": \"column_name\", \"sort\": \"-x\", \"type\": \"nominal\"}}, \"title\": \"Missingness per column out of 13,281 records\"}], \"data\": {\"values\": [{\"null_proportion\": 0.0, \"null_count\": 0, \"total_record_count\": 13281, \"column_name\": \"None\"}, {\"null_proportion\": 0.0, \"null_count\": 0, \"total_record_count\": 13281, \"column_name\": \"cluster\"}, {\"null_proportion\": 0.0, \"null_count\": 0, \"total_record_count\": 13281, \"column_name\": \"unique_id\"}, {\"null_proportion\": 0.05451399087905884, \"null_count\": 724, \"total_record_count\": 13281, \"column_name\": \"maternal_agecat\"}, {\"null_proportion\": 0.16851139068603516, \"null_count\": 2238, \"total_record_count\": 13281, \"column_name\": \"ethgroup\"}, {\"null_proportion\": 0.0, \"null_count\": 0, \"total_record_count\": 13281, \"column_name\": \"g1_gender_arc\"}, {\"null_proportion\": 0.16745728254318237, \"null_count\": 2224, \"total_record_count\": 13281, \"column_name\": \"imddecile\"}, {\"null_proportion\": 0.0, \"null_count\": 0, \"total_record_count\": 13281, \"column_name\": \"g1_dob_arc1\"}, {\"null_proportion\": 0.0, \"null_count\": 0, \"total_record_count\": 13281, \"column_name\": \"syn_g0_surname\"}, {\"null_proportion\": 0.0, \"null_count\": 0, \"total_record_count\": 13281, \"column_name\": \"syn_g1_surname\"}, {\"null_proportion\": 0.004442453384399414, \"null_count\": 59, \"total_record_count\": 13281, \"column_name\": \"syn_g1_firstname\"}], \"name\": \"data-0e7bce5a1d2f132e282789d6ef7780fe\"}, \"title\": \"\", \"$schema\": \"https://vega.github.io/schema/vega-lite/v5.9.3.json\"}, {\"mode\": \"vega-lite\"});\n",
       "</script>"
      ],
      "text/plain": [
       "alt.LayerChart(...)"
      ]
     },
     "execution_count": 5,
     "metadata": {},
     "output_type": "execute_result"
    }
   ],
   "source": [
    "linker.missingness_chart()"
   ]
  },
  {
   "cell_type": "code",
   "execution_count": 3,
   "metadata": {},
   "outputs": [
    {
     "data": {
      "text/html": [
       "\n",
       "<style>\n",
       "  #altair-viz-247eb2011ec942fb8f032f1d45e68279.vega-embed {\n",
       "    width: 100%;\n",
       "    display: flex;\n",
       "  }\n",
       "\n",
       "  #altair-viz-247eb2011ec942fb8f032f1d45e68279.vega-embed details,\n",
       "  #altair-viz-247eb2011ec942fb8f032f1d45e68279.vega-embed details summary {\n",
       "    position: relative;\n",
       "  }\n",
       "</style>\n",
       "<div id=\"altair-viz-247eb2011ec942fb8f032f1d45e68279\"></div>\n",
       "<script type=\"text/javascript\">\n",
       "  var VEGA_DEBUG = (typeof VEGA_DEBUG == \"undefined\") ? {} : VEGA_DEBUG;\n",
       "  (function(spec, embedOpt){\n",
       "    let outputDiv = document.currentScript.previousElementSibling;\n",
       "    if (outputDiv.id !== \"altair-viz-247eb2011ec942fb8f032f1d45e68279\") {\n",
       "      outputDiv = document.getElementById(\"altair-viz-247eb2011ec942fb8f032f1d45e68279\");\n",
       "    }\n",
       "    const paths = {\n",
       "      \"vega\": \"https://cdn.jsdelivr.net/npm/vega@5?noext\",\n",
       "      \"vega-lib\": \"https://cdn.jsdelivr.net/npm/vega-lib?noext\",\n",
       "      \"vega-lite\": \"https://cdn.jsdelivr.net/npm/vega-lite@5.8.0?noext\",\n",
       "      \"vega-embed\": \"https://cdn.jsdelivr.net/npm/vega-embed@6?noext\",\n",
       "    };\n",
       "\n",
       "    function maybeLoadScript(lib, version) {\n",
       "      var key = `${lib.replace(\"-\", \"\")}_version`;\n",
       "      return (VEGA_DEBUG[key] == version) ?\n",
       "        Promise.resolve(paths[lib]) :\n",
       "        new Promise(function(resolve, reject) {\n",
       "          var s = document.createElement('script');\n",
       "          document.getElementsByTagName(\"head\")[0].appendChild(s);\n",
       "          s.async = true;\n",
       "          s.onload = () => {\n",
       "            VEGA_DEBUG[key] = version;\n",
       "            return resolve(paths[lib]);\n",
       "          };\n",
       "          s.onerror = () => reject(`Error loading script: ${paths[lib]}`);\n",
       "          s.src = paths[lib];\n",
       "        });\n",
       "    }\n",
       "\n",
       "    function showError(err) {\n",
       "      outputDiv.innerHTML = `<div class=\"error\" style=\"color:red;\">${err}</div>`;\n",
       "      throw err;\n",
       "    }\n",
       "\n",
       "    function displayChart(vegaEmbed) {\n",
       "      vegaEmbed(outputDiv, spec, embedOpt)\n",
       "        .catch(err => showError(`Javascript Error: ${err.message}<br>This usually means there's a typo in your chart specification. See the javascript console for the full traceback.`));\n",
       "    }\n",
       "\n",
       "    if(typeof define === \"function\" && define.amd) {\n",
       "      requirejs.config({paths});\n",
       "      require([\"vega-embed\"], displayChart, err => showError(`Error loading script: ${err.message}`));\n",
       "    } else {\n",
       "      maybeLoadScript(\"vega\", \"5\")\n",
       "        .then(() => maybeLoadScript(\"vega-lite\", \"5.8.0\"))\n",
       "        .then(() => maybeLoadScript(\"vega-embed\", \"6\"))\n",
       "        .catch(showError)\n",
       "        .then(() => displayChart(vegaEmbed));\n",
       "    }\n",
       "  })({\"config\": {\"view\": {\"continuousWidth\": 300, \"continuousHeight\": 300}}, \"data\": {\"name\": \"data-0ca3ca8726a4146a6312456ce46410d1\"}, \"mark\": \"bar\", \"encoding\": {\"color\": {\"field\": \"rule\", \"legend\": null, \"scale\": {\"scheme\": \"category20c\"}}, \"order\": {\"field\": \"cumulative_rows\"}, \"tooltip\": [{\"field\": \"rule\", \"title\": \"SQL Condition\", \"type\": \"nominal\"}, {\"field\": \"row_count\", \"format\": \",\", \"title\": \"Comparisons Generated\", \"type\": \"quantitative\"}, {\"field\": \"cumulative_rows\", \"format\": \",\", \"title\": \"Cumulative Comparisons\", \"type\": \"quantitative\"}, {\"field\": \"cartesian\", \"format\": \",\", \"title\": \"Cartesian Product of Input Data\", \"type\": \"quantitative\"}, {\"field\": \"reduction_ratio\", \"title\": \"Reduction Ratio (cumulative rows/cartesian product)\", \"type\": \"nominal\"}], \"x\": {\"field\": \"start\", \"title\": \"Comparisons Generated by Rule(s)\", \"type\": \"quantitative\"}, \"x2\": {\"field\": \"cumulative_rows\"}, \"y\": {\"field\": \"rule\", \"sort\": [\"-x2\"], \"title\": \"SQL Blocking Rule\"}}, \"height\": {\"step\": 20}, \"title\": {\"text\": \"Count of Additional Comparisons Generated by Each Blocking Rule\", \"subtitle\": \"(Counts exclude comparisons already generated by previous rules)\"}, \"width\": 450, \"$schema\": \"https://vega.github.io/schema/vega-lite/v5.9.3.json\", \"datasets\": {\"data-0ca3ca8726a4146a6312456ce46410d1\": [{\"row_count\": 10603, \"rule\": \"(l.\\\"syn_g1_firstname\\\" = r.\\\"syn_g1_firstname\\\") AND (l.\\\"syn_g1_surname\\\" = r.\\\"syn_g1_surname\\\") AND (l.\\\"syn_g0_surname\\\" = r.\\\"syn_g0_surname\\\") AND (l.\\\"g1_dob_arc1\\\" = r.\\\"g1_dob_arc1\\\")\", \"cumulative_rows\": 10603, \"cartesian\": 176384961, \"reduction_ratio\": \"The rolling reduction ratio with your given blocking rule(s) is 0.99994. This represents the reduction in the total number of comparisons due to your rule(s).\", \"start\": 0}, {\"row_count\": 639, \"rule\": \"(l.\\\"syn_g1_firstname\\\" = r.\\\"syn_g1_firstname\\\") AND (l.\\\"syn_g0_surname\\\" = r.\\\"syn_g0_surname\\\") AND (l.\\\"g1_dob_arc1\\\" = r.\\\"g1_dob_arc1\\\") AND (l.\\\"g1_gender_arc\\\" = r.\\\"g1_gender_arc\\\")\", \"cumulative_rows\": 11242, \"cartesian\": 176384961, \"reduction_ratio\": \"The rolling reduction ratio with your given blocking rule(s) is 0.999936. This represents the reduction in the total number of comparisons due to your rule(s).\", \"start\": 10603}, {\"row_count\": 883, \"rule\": \"(l.\\\"syn_g1_surname\\\" = r.\\\"syn_g1_surname\\\") AND (l.\\\"syn_g0_surname\\\" = r.\\\"syn_g0_surname\\\") AND (l.\\\"g1_dob_arc1\\\" = r.\\\"g1_dob_arc1\\\") AND (l.\\\"g1_gender_arc\\\" = r.\\\"g1_gender_arc\\\")\", \"cumulative_rows\": 12125, \"cartesian\": 176384961, \"reduction_ratio\": \"The rolling reduction ratio with your given blocking rule(s) is 0.999931. This represents the reduction in the total number of comparisons due to your rule(s).\", \"start\": 11242}, {\"row_count\": 1208, \"rule\": \"(l.\\\"syn_g1_firstname\\\" = r.\\\"syn_g1_firstname\\\") AND (l.\\\"syn_g1_surname\\\" = r.\\\"syn_g1_surname\\\") AND (l.\\\"g1_dob_arc1\\\" = r.\\\"g1_dob_arc1\\\") AND (l.\\\"g1_gender_arc\\\" = r.\\\"g1_gender_arc\\\")\", \"cumulative_rows\": 13333, \"cartesian\": 176384961, \"reduction_ratio\": \"The rolling reduction ratio with your given blocking rule(s) is 0.999924. This represents the reduction in the total number of comparisons due to your rule(s).\", \"start\": 12125}, {\"row_count\": 434, \"rule\": \"(l.\\\"syn_g1_firstname\\\" = r.\\\"syn_g1_firstname\\\") AND (l.\\\"syn_g1_surname\\\" = r.\\\"syn_g1_surname\\\") AND (l.\\\"syn_g0_surname\\\" = r.\\\"syn_g0_surname\\\") AND (l.\\\"g1_gender_arc\\\" = r.\\\"g1_gender_arc\\\")\", \"cumulative_rows\": 13767, \"cartesian\": 176384961, \"reduction_ratio\": \"The rolling reduction ratio with your given blocking rule(s) is 0.999922. This represents the reduction in the total number of comparisons due to your rule(s).\", \"start\": 13333}]}}, {\"mode\": \"vega-lite\"});\n",
       "</script>"
      ],
      "text/plain": [
       "alt.Chart(...)"
      ]
     },
     "execution_count": 3,
     "metadata": {},
     "output_type": "execute_result"
    }
   ],
   "source": [
    "from splink.duckdb.blocking_rule_library import block_on\n",
    "import splink.duckdb.comparison_template_library as ctl\n",
    "import splink.duckdb.comparison_library as cl\n",
    "\n",
    "# link_only - setting 1: basic comparison\n",
    "settings_deterministic =  {\n",
    "    \"link_type\": \"link_only\",\n",
    "    \"blocking_rules_to_generate_predictions\": [\n",
    "        block_on([\"syn_g1_firstname\", \"syn_g1_surname\", \"syn_g0_surname\", \"g1_dob_arc1\"]),\n",
    "        block_on([\"syn_g1_firstname\", \"syn_g0_surname\", \"g1_dob_arc1\", \"g1_gender_arc\"]),\n",
    "        block_on([\"syn_g1_surname\", \"syn_g0_surname\", \"g1_dob_arc1\", \"g1_gender_arc\"]),\n",
    "        block_on([\"syn_g1_firstname\", \"syn_g1_surname\", \"g1_dob_arc1\", \"g1_gender_arc\"]),\n",
    "        block_on([\"syn_g1_firstname\", \"syn_g1_surname\", \"syn_g0_surname\", \"g1_gender_arc\"]),\n",
    "    ],  \n",
    "    \"comparisons\": [],\n",
    "    \"retain_matching_columns\":True,\n",
    "    \"retain_intermediate_calculation_columns\":True,\n",
    "    \"additional_columns_to_retain\": [\n",
    "        \"ethgroup\",\n",
    "        \"imddecile\",\n",
    "        \"maternal_agecat\",\n",
    "    ]\n",
    "}\n",
    "\n",
    "linker = DuckDBLinker(\n",
    "    [gold_df, df],\n",
    "    settings_dict= settings_deterministic,\n",
    "    input_table_aliases=[\"df_left\",\"df_right\"]\n",
    ")\n",
    "\n",
    "# linker.save_model_to_json(out_path = \"linkage_outputs\\\\dataset2\\\\scenario2_dataset2\\\\deterministic_linkage_settings.json\", overwrite = True)\n",
    "linker.cumulative_num_comparisons_from_blocking_rules_chart()"
   ]
  },
  {
   "cell_type": "code",
   "execution_count": 4,
   "metadata": {},
   "outputs": [],
   "source": [
    "df_predict = linker.deterministic_link()\n",
    "df_predict.as_pandas_dataframe().head()\n",
    "deterministic_scen2 = df_predict.as_pandas_dataframe()\n",
    "deterministic_scen2.to_csv(f\"linkage_outputs\\\\scen2\\\\dataset{data_set}\\\\deterministic.csv\")"
   ]
  },
  {
   "cell_type": "code",
   "execution_count": 6,
   "metadata": {},
   "outputs": [
    {
     "name": "stderr",
     "output_type": "stream",
     "text": [
      "Completed iteration 1, root rows count 63\n",
      "Completed iteration 2, root rows count 8\n",
      "Completed iteration 3, root rows count 1\n",
      "Completed iteration 4, root rows count 0\n"
     ]
    }
   ],
   "source": [
    "clusters = linker.cluster_pairwise_predictions_at_threshold(df_predict, threshold_match_probability=1)\n"
   ]
  },
  {
   "cell_type": "code",
   "execution_count": 7,
   "metadata": {},
   "outputs": [
    {
     "data": {
      "text/html": [
       "\n",
       "        <iframe\n",
       "            width=\"100%\"\n",
       "            height=\"1200\"\n",
       "            src=\"./linkage_outputs/scenario1_dataset1/dashboard.html\"\n",
       "            frameborder=\"0\"\n",
       "            allowfullscreen\n",
       "            \n",
       "        ></iframe>\n",
       "        "
      ],
      "text/plain": [
       "<IPython.lib.display.IFrame at 0x26f0d630520>"
      ]
     },
     "execution_count": 7,
     "metadata": {},
     "output_type": "execute_result"
    }
   ],
   "source": [
    "clusters.as_pandas_dataframe(limit=5)\n",
    "linker.cluster_studio_dashboard(df_predict, clusters, out_path = \"linkage_outputs\\\\scenario1_dataset1\\\\dashboard.html\", sampling_method = 'by_cluster_size', overwrite = True )\n",
    "\n",
    "from IPython.display import IFrame\n",
    "\n",
    "IFrame(\n",
    "    src=\"./linkage_outputs/scenario1_dataset1/dashboard.html\", width = \"100%\", height = 1200\n",
    ")\n"
   ]
  },
  {
   "cell_type": "code",
   "execution_count": 27,
   "metadata": {},
   "outputs": [],
   "source": [
    "# Define Comparisons - lower JW weights should not matter, try anyway. remove date 3 months.\n",
    "import splink.duckdb.comparison_library as cl\n",
    "import splink.duckdb.comparison_template_library as ctl\n",
    "import splink.duckdb.comparison_level_library as cll\n",
    "\n",
    "comparison_syn_g1_first_name = {\n",
    "    \"output_column_name\": \"syn_g1_firstname\",\n",
    "    \"comparison_description\": \"G1 First name jaro winkler\",\n",
    "    \"comparison_levels\": [\n",
    "        {\n",
    "            \"sql_condition\": \"syn_g1_firstname_l IS NULL OR syn_g1_firstname_r IS NULL\",\n",
    "            \"label_for_charts\": \"Null\",\n",
    "            \"is_null_level\": True,\n",
    "        },\n",
    "        {\n",
    "            \"sql_condition\": \"syn_g1_firstname_l = syn_g1_firstname_r\",\n",
    "            \"label_for_charts\": \"Exact match\",\n",
    "        },\n",
    "        {\n",
    "            \"sql_condition\": 'jaro_winkler_similarity(\"syn_g1_firstname_l\", \"syn_g1_firstname_r\") >= 0.8',\n",
    "            \"label_for_charts\": \"Jaro_winkler_similarity 0.8\",\n",
    "\n",
    "        },\n",
    "        {\"sql_condition\": \"ELSE\", \"label_for_charts\": \"All other comparisons\"},\n",
    "    ],\n",
    "}\n",
    "\n",
    "comparison_syn_g0_surname = {\n",
    "    \"output_column_name\": \"syn_g0_surname\",\n",
    "    \"comparison_description\": \"G0 surname jaro winkler\",\n",
    "    \"comparison_levels\": [\n",
    "        {\n",
    "            \"sql_condition\": \"syn_g0_surname_l IS NULL OR syn_g0_surname_r IS NULL\",\n",
    "            \"label_for_charts\": \"Null\",\n",
    "            \"is_null_level\": True,\n",
    "        },\n",
    "        {\n",
    "            \"sql_condition\": \"syn_g0_surname_l = syn_g0_surname_r\",\n",
    "            \"label_for_charts\": \"Exact match\",\n",
    "        },\n",
    "        {\n",
    "            \"sql_condition\": 'jaro_winkler_similarity(\"syn_g0_surname_l\", \"syn_g0_surname_r\") >= 0.8',\n",
    "            \"label_for_charts\": \"Jaro_winkler_similarity 0.8\",\n",
    "\n",
    "        },\n",
    "        {\"sql_condition\": \"ELSE\", \"label_for_charts\": \"All other comparisons\"},\n",
    "    ],\n",
    "}\n",
    "\n",
    "comparison_syn_g1_surname = {\n",
    "    \"output_column_name\": \"syn_g1_surname\",\n",
    "    \"comparison_description\": \"G1 surname jaro winkler\",\n",
    "    \"comparison_levels\": [\n",
    "        {\n",
    "            \"sql_condition\": \"syn_g1_surname_l IS NULL OR syn_g1_surname_r IS NULL\",\n",
    "            \"label_for_charts\": \"Null\",\n",
    "            \"is_null_level\": True,\n",
    "        },\n",
    "        {\n",
    "            \"sql_condition\": \"syn_g1_surname_l = syn_g1_surname_r\",\n",
    "            \"label_for_charts\": \"Exact match\",\n",
    "        },\n",
    "        {\n",
    "            \"sql_condition\": 'jaro_winkler_similarity(\"syn_g1_surname_l\", \"syn_g1_surname_r\") >= 0.8',\n",
    "            \"label_for_charts\": \"Jaro_winkler_similarity 0.8\",\n",
    "\n",
    "        },\n",
    "        {\"sql_condition\": \"ELSE\", \"label_for_charts\": \"All other comparisons\"},\n",
    "    ],\n",
    "}\n",
    "\"\"\"\n",
    "dob_comparison = {\n",
    "            \"output_column_name\": \"g1_dob_arc1\",\n",
    "            \"comparison_description\": \"Exact match vs. Date_Of_Birth within levenshtein thresholds 1, 2 vs. Dates within the following thresholds Year(s): 1, Year(s): 10 vs. anything else\",\n",
    "            \"comparison_levels\": [\n",
    "                cll.null_level(\"g1_dob_arc1\"),\n",
    "                cll.exact_match_level(\"g1_dob_arc1\"),\n",
    "                cll.levenshtein_level(\"g1_dob_arc1\", 1),\n",
    "                cll.levenshtein_level(\"g1_dob_arc1\", 2),\n",
    "                cll.datediff_level(\"g1_dob_arc1\",\n",
    "                                    date_threshold=1,\n",
    "                                    date_metric=\"year\"),\n",
    "                cll.datediff_level(\"g1_dob_arc1\",\n",
    "                                    date_threshold=10,\n",
    "                                    date_metric=\"year\"),\n",
    "                cll.else_level(),\n",
    "            ],\n",
    "        }\n",
    "\n",
    "comparison_date = {\n",
    "    \"output_column_name\": \"g1_dob_arc1\",\n",
    "    \"comparison_description\": \"exact match vs dob within 3 months vs anything else\",\n",
    "    \"comparison_levels\": [\n",
    "        cll.null_level(\"g1_dob_arc1\"),\n",
    "        cll.exact_match_level(\"g1_dob_arc1\"),\n",
    "        cll.else_level(),\n",
    "    ],\n",
    "}\n",
    "\n",
    "\"\"\"\n",
    "comparison_date = {\n",
    "    \"output_column_name\": \"g1_dob_arc1\",\n",
    "    \"comparison_description\": \"exact match vs anything else\",\n",
    "    \"comparison_levels\": [\n",
    "        cll.null_level(\"g1_dob_arc1\"),\n",
    "        cll.exact_match_level(\"g1_dob_arc1\", m_probability =  0.999),\n",
    "        cll.else_level(m_probability = 0.001),\n",
    "    ],\n",
    "}\n",
    "\n",
    "comparison_gender = {\n",
    "    \"output_column_name\": \"g1_gender_arc\",\n",
    "    \"comparison_description\": \"exact match vs anything else\",\n",
    "    \"comparison_levels\": [\n",
    "        cll.null_level(\"g1_gender_arc\"),\n",
    "        cll.exact_match_level(\"g1_gender_arc\", m_probability =  0.999),\n",
    "        cll.else_level(m_probability = 0.001),\n",
    "    ],\n",
    "}\n"
   ]
  },
  {
   "cell_type": "code",
   "execution_count": 16,
   "metadata": {},
   "outputs": [
    {
     "data": {
      "text/html": [
       "\n",
       "<style>\n",
       "  #altair-viz-40c86ee5ce354440bd505a42562e74eb.vega-embed {\n",
       "    width: 100%;\n",
       "    display: flex;\n",
       "  }\n",
       "\n",
       "  #altair-viz-40c86ee5ce354440bd505a42562e74eb.vega-embed details,\n",
       "  #altair-viz-40c86ee5ce354440bd505a42562e74eb.vega-embed details summary {\n",
       "    position: relative;\n",
       "  }\n",
       "</style>\n",
       "<div id=\"altair-viz-40c86ee5ce354440bd505a42562e74eb\"></div>\n",
       "<script type=\"text/javascript\">\n",
       "  var VEGA_DEBUG = (typeof VEGA_DEBUG == \"undefined\") ? {} : VEGA_DEBUG;\n",
       "  (function(spec, embedOpt){\n",
       "    let outputDiv = document.currentScript.previousElementSibling;\n",
       "    if (outputDiv.id !== \"altair-viz-40c86ee5ce354440bd505a42562e74eb\") {\n",
       "      outputDiv = document.getElementById(\"altair-viz-40c86ee5ce354440bd505a42562e74eb\");\n",
       "    }\n",
       "    const paths = {\n",
       "      \"vega\": \"https://cdn.jsdelivr.net/npm/vega@5?noext\",\n",
       "      \"vega-lib\": \"https://cdn.jsdelivr.net/npm/vega-lib?noext\",\n",
       "      \"vega-lite\": \"https://cdn.jsdelivr.net/npm/vega-lite@5.8.0?noext\",\n",
       "      \"vega-embed\": \"https://cdn.jsdelivr.net/npm/vega-embed@6?noext\",\n",
       "    };\n",
       "\n",
       "    function maybeLoadScript(lib, version) {\n",
       "      var key = `${lib.replace(\"-\", \"\")}_version`;\n",
       "      return (VEGA_DEBUG[key] == version) ?\n",
       "        Promise.resolve(paths[lib]) :\n",
       "        new Promise(function(resolve, reject) {\n",
       "          var s = document.createElement('script');\n",
       "          document.getElementsByTagName(\"head\")[0].appendChild(s);\n",
       "          s.async = true;\n",
       "          s.onload = () => {\n",
       "            VEGA_DEBUG[key] = version;\n",
       "            return resolve(paths[lib]);\n",
       "          };\n",
       "          s.onerror = () => reject(`Error loading script: ${paths[lib]}`);\n",
       "          s.src = paths[lib];\n",
       "        });\n",
       "    }\n",
       "\n",
       "    function showError(err) {\n",
       "      outputDiv.innerHTML = `<div class=\"error\" style=\"color:red;\">${err}</div>`;\n",
       "      throw err;\n",
       "    }\n",
       "\n",
       "    function displayChart(vegaEmbed) {\n",
       "      vegaEmbed(outputDiv, spec, embedOpt)\n",
       "        .catch(err => showError(`Javascript Error: ${err.message}<br>This usually means there's a typo in your chart specification. See the javascript console for the full traceback.`));\n",
       "    }\n",
       "\n",
       "    if(typeof define === \"function\" && define.amd) {\n",
       "      requirejs.config({paths});\n",
       "      require([\"vega-embed\"], displayChart, err => showError(`Error loading script: ${err.message}`));\n",
       "    } else {\n",
       "      maybeLoadScript(\"vega\", \"5\")\n",
       "        .then(() => maybeLoadScript(\"vega-lite\", \"5.8.0\"))\n",
       "        .then(() => maybeLoadScript(\"vega-embed\", \"6\"))\n",
       "        .catch(showError)\n",
       "        .then(() => displayChart(vegaEmbed));\n",
       "    }\n",
       "  })({\"config\": {\"view\": {\"continuousWidth\": 300, \"continuousHeight\": 300}}, \"data\": {\"name\": \"data-d4b8ad160ee7dc2348513ce6bc7ea985\"}, \"mark\": \"bar\", \"encoding\": {\"color\": {\"field\": \"rule\", \"legend\": null, \"scale\": {\"scheme\": \"category20c\"}}, \"order\": {\"field\": \"cumulative_rows\"}, \"tooltip\": [{\"field\": \"rule\", \"title\": \"SQL Condition\", \"type\": \"nominal\"}, {\"field\": \"row_count\", \"format\": \",\", \"title\": \"Comparisons Generated\", \"type\": \"quantitative\"}, {\"field\": \"cumulative_rows\", \"format\": \",\", \"title\": \"Cumulative Comparisons\", \"type\": \"quantitative\"}, {\"field\": \"cartesian\", \"format\": \",\", \"title\": \"Cartesian Product of Input Data\", \"type\": \"quantitative\"}, {\"field\": \"reduction_ratio\", \"title\": \"Reduction Ratio (cumulative rows/cartesian product)\", \"type\": \"nominal\"}], \"x\": {\"field\": \"start\", \"title\": \"Comparisons Generated by Rule(s)\", \"type\": \"quantitative\"}, \"x2\": {\"field\": \"cumulative_rows\"}, \"y\": {\"field\": \"rule\", \"sort\": [\"-x2\"], \"title\": \"SQL Blocking Rule\"}}, \"height\": {\"step\": 20}, \"title\": {\"text\": \"Count of Additional Comparisons Generated by Each Blocking Rule\", \"subtitle\": \"(Counts exclude comparisons already generated by previous rules)\"}, \"width\": 450, \"$schema\": \"https://vega.github.io/schema/vega-lite/v5.9.3.json\", \"datasets\": {\"data-d4b8ad160ee7dc2348513ce6bc7ea985\": [{\"row_count\": 868085, \"rule\": \"l.\\\"syn_g1_firstname\\\" = r.\\\"syn_g1_firstname\\\"\", \"cumulative_rows\": 868085, \"cartesian\": 176384961, \"reduction_ratio\": \"The rolling reduction ratio with your given blocking rule(s) is 0.995078. This represents the reduction in the total number of comparisons due to your rule(s).\", \"start\": 0}, {\"row_count\": 163684, \"rule\": \"l.\\\"syn_g1_surname\\\" = r.\\\"syn_g1_surname\\\"\", \"cumulative_rows\": 1031769, \"cartesian\": 176384961, \"reduction_ratio\": \"The rolling reduction ratio with your given blocking rule(s) is 0.99415. This represents the reduction in the total number of comparisons due to your rule(s).\", \"start\": 868085}, {\"row_count\": 46949, \"rule\": \"l.\\\"syn_g0_surname\\\" = r.\\\"syn_g0_surname\\\"\", \"cumulative_rows\": 1078718, \"cartesian\": 176384961, \"reduction_ratio\": \"The rolling reduction ratio with your given blocking rule(s) is 0.993884. This represents the reduction in the total number of comparisons due to your rule(s).\", \"start\": 1031769}, {\"row_count\": 150525, \"rule\": \"(l.\\\"g1_dob_arc1\\\" = r.\\\"g1_dob_arc1\\\") AND (l.\\\"g1_gender_arc\\\" = r.\\\"g1_gender_arc\\\")\", \"cumulative_rows\": 1229243, \"cartesian\": 176384961, \"reduction_ratio\": \"The rolling reduction ratio with your given blocking rule(s) is 0.993031. This represents the reduction in the total number of comparisons due to your rule(s).\", \"start\": 1078718}]}}, {\"mode\": \"vega-lite\"});\n",
       "</script>"
      ],
      "text/plain": [
       "alt.Chart(...)"
      ]
     },
     "execution_count": 16,
     "metadata": {},
     "output_type": "execute_result"
    }
   ],
   "source": [
    "# Scenario 2, relaxed blocking rules, strategy 2\n",
    "from splink.duckdb.blocking_rule_library import block_on\n",
    "setting_test = {\n",
    "        \"link_type\": \"link_only\",\n",
    "    \"probability_two_random_records_match\": 1/13281,\n",
    "    \"blocking_rules_to_generate_predictions\": [       \n",
    "        block_on([\"syn_g1_firstname\"]),\n",
    "        block_on([\"syn_g1_surname\"]),\n",
    "        block_on([\"syn_g0_surname\"]),\n",
    "        block_on([\"g1_dob_arc1\", \"g1_gender_arc\"]),\n",
    "    ]\n",
    "}\n",
    "\n",
    "linker = DuckDBLinker(\n",
    "    [gold_df, df],\n",
    "    settings_dict= setting_test,\n",
    "    input_table_aliases=[\"df_left\",\"df_right\"]\n",
    ")\n",
    "\n",
    "\n",
    "linker.cumulative_num_comparisons_from_blocking_rules_chart()"
   ]
  },
  {
   "cell_type": "code",
   "execution_count": 28,
   "metadata": {},
   "outputs": [],
   "source": [
    "# Scenario 2, simple probabilistic linkage, blocking strategy 3\n",
    "from splink.duckdb.blocking_rule_library import block_on\n",
    "import splink.duckdb.comparison_template_library as ctl\n",
    "import splink.duckdb.comparison_library as cl\n",
    "\n",
    "\n",
    "settings_prob = {\n",
    "    \"link_type\": \"link_only\",\n",
    "    \"probability_two_random_records_match\": 1/13281,\n",
    "    \"blocking_rules_to_generate_predictions\": [       \n",
    "        block_on([\"syn_g1_firstname\"]),\n",
    "        block_on([\"syn_g1_surname\"]),\n",
    "        block_on([\"syn_g0_surname\"]),\n",
    "        block_on([\"g1_dob_arc1\", \"g1_gender_arc\"]),\n",
    "    ],  \n",
    "    \"comparisons\":[\n",
    "        comparison_syn_g1_first_name,\n",
    "        comparison_syn_g1_surname,\n",
    "        comparison_syn_g0_surname,\n",
    "        comparison_date,\n",
    "        comparison_gender,     \n",
    "    ],\n",
    "    \"retain_matching_columns\":True,\n",
    "    \"retain_intermediate_calculation_columns\":True,\n",
    "    \"additional_columns_to_retain\": [\n",
    "        \"ethgroup\",\n",
    "        \"imddecile\",\n",
    "        \"maternal_agecat\",\n",
    "    ]\n",
    "}\n",
    "# set retain to false to run quickly\n",
    "#linker.save_model_to_json(out_path = \"linkage_outputs\\\\dataset2\\\\scenario2_dataset1\\\\probablistic_linkage_settings.json\", overwrite = True)\n",
    "\n",
    "linker = DuckDBLinker(\n",
    "    [gold_df, df],\n",
    "    settings_dict= settings_prob,\n",
    "    input_table_aliases=[\"df_left\",\"df_right\"]\n",
    ")\n"
   ]
  },
  {
   "cell_type": "code",
   "execution_count": 29,
   "metadata": {},
   "outputs": [
    {
     "name": "stderr",
     "output_type": "stream",
     "text": [
      "----- Estimating u probabilities using random sampling -----\n"
     ]
    },
    {
     "data": {
      "application/vnd.jupyter.widget-view+json": {
       "model_id": "e317cd9d56c1432590ceb66e7203bda7",
       "version_major": 2,
       "version_minor": 0
      },
      "text/plain": [
       "FloatProgress(value=0.0, layout=Layout(width='auto'), style=ProgressStyle(bar_color='black'))"
      ]
     },
     "metadata": {},
     "output_type": "display_data"
    },
    {
     "name": "stderr",
     "output_type": "stream",
     "text": [
      "\n",
      "Estimated u probabilities using random sampling\n",
      "\n",
      "Your model is not yet fully trained. Missing estimates for:\n",
      "    - syn_g1_firstname (no m values are trained).\n",
      "    - syn_g1_surname (no m values are trained).\n",
      "    - syn_g0_surname (no m values are trained).\n"
     ]
    }
   ],
   "source": [
    "# Estimate U using random sampling\n",
    "linker.estimate_u_using_random_sampling(max_pairs=2e7, seed = 1)"
   ]
  },
  {
   "cell_type": "code",
   "execution_count": 30,
   "metadata": {},
   "outputs": [
    {
     "name": "stderr",
     "output_type": "stream",
     "text": [
      "------- Estimating m probabilities using from column unique_id -------\n",
      "m probability not trained for syn_g1_firstname - Jaro_winkler_similarity 0.8 (comparison vector value: 1). This usually means the comparison level was never observed in the training data.\n",
      "m probability not trained for g1_dob_arc1 - All other comparisons (comparison vector value: 0). This usually means the comparison level was never observed in the training data.\n",
      "m probability not trained for g1_gender_arc - All other comparisons (comparison vector value: 0). This usually means the comparison level was never observed in the training data.\n",
      "\n",
      "Your model is not yet fully trained. Missing estimates for:\n",
      "    - syn_g1_firstname (some m values are not trained).\n"
     ]
    }
   ],
   "source": [
    "# Use labelled data for m probability.\n",
    "linker.estimate_m_from_label_column(\"unique_id\")"
   ]
  },
  {
   "cell_type": "code",
   "execution_count": 11,
   "metadata": {},
   "outputs": [
    {
     "data": {
      "text/html": [
       "\n",
       "<style>\n",
       "  #altair-viz-ec3e54f6901f459e8e2e7293de502cfe.vega-embed {\n",
       "    width: 100%;\n",
       "    display: flex;\n",
       "  }\n",
       "\n",
       "  #altair-viz-ec3e54f6901f459e8e2e7293de502cfe.vega-embed details,\n",
       "  #altair-viz-ec3e54f6901f459e8e2e7293de502cfe.vega-embed details summary {\n",
       "    position: relative;\n",
       "  }\n",
       "</style>\n",
       "<div id=\"altair-viz-ec3e54f6901f459e8e2e7293de502cfe\"></div>\n",
       "<script type=\"text/javascript\">\n",
       "  var VEGA_DEBUG = (typeof VEGA_DEBUG == \"undefined\") ? {} : VEGA_DEBUG;\n",
       "  (function(spec, embedOpt){\n",
       "    let outputDiv = document.currentScript.previousElementSibling;\n",
       "    if (outputDiv.id !== \"altair-viz-ec3e54f6901f459e8e2e7293de502cfe\") {\n",
       "      outputDiv = document.getElementById(\"altair-viz-ec3e54f6901f459e8e2e7293de502cfe\");\n",
       "    }\n",
       "    const paths = {\n",
       "      \"vega\": \"https://cdn.jsdelivr.net/npm/vega@5?noext\",\n",
       "      \"vega-lib\": \"https://cdn.jsdelivr.net/npm/vega-lib?noext\",\n",
       "      \"vega-lite\": \"https://cdn.jsdelivr.net/npm/vega-lite@5.8.0?noext\",\n",
       "      \"vega-embed\": \"https://cdn.jsdelivr.net/npm/vega-embed@6?noext\",\n",
       "    };\n",
       "\n",
       "    function maybeLoadScript(lib, version) {\n",
       "      var key = `${lib.replace(\"-\", \"\")}_version`;\n",
       "      return (VEGA_DEBUG[key] == version) ?\n",
       "        Promise.resolve(paths[lib]) :\n",
       "        new Promise(function(resolve, reject) {\n",
       "          var s = document.createElement('script');\n",
       "          document.getElementsByTagName(\"head\")[0].appendChild(s);\n",
       "          s.async = true;\n",
       "          s.onload = () => {\n",
       "            VEGA_DEBUG[key] = version;\n",
       "            return resolve(paths[lib]);\n",
       "          };\n",
       "          s.onerror = () => reject(`Error loading script: ${paths[lib]}`);\n",
       "          s.src = paths[lib];\n",
       "        });\n",
       "    }\n",
       "\n",
       "    function showError(err) {\n",
       "      outputDiv.innerHTML = `<div class=\"error\" style=\"color:red;\">${err}</div>`;\n",
       "      throw err;\n",
       "    }\n",
       "\n",
       "    function displayChart(vegaEmbed) {\n",
       "      vegaEmbed(outputDiv, spec, embedOpt)\n",
       "        .catch(err => showError(`Javascript Error: ${err.message}<br>This usually means there's a typo in your chart specification. See the javascript console for the full traceback.`));\n",
       "    }\n",
       "\n",
       "    if(typeof define === \"function\" && define.amd) {\n",
       "      requirejs.config({paths});\n",
       "      require([\"vega-embed\"], displayChart, err => showError(`Error loading script: ${err.message}`));\n",
       "    } else {\n",
       "      maybeLoadScript(\"vega\", \"5\")\n",
       "        .then(() => maybeLoadScript(\"vega-lite\", \"5.8.0\"))\n",
       "        .then(() => maybeLoadScript(\"vega-embed\", \"6\"))\n",
       "        .catch(showError)\n",
       "        .then(() => displayChart(vegaEmbed));\n",
       "    }\n",
       "  })({\"config\": {\"view\": {\"continuousWidth\": 300, \"continuousHeight\": 300, \"discreteHeight\": 60, \"discreteWidth\": 400}, \"header\": {\"title\": null}, \"mark\": {\"tooltip\": null}, \"title\": {\"anchor\": \"middle\"}}, \"vconcat\": [{\"mark\": {\"type\": \"bar\", \"clip\": true, \"height\": 15}, \"encoding\": {\"color\": {\"field\": \"log2_bayes_factor\", \"scale\": {\"domain\": [-10, 0, 10], \"interpolate\": \"lab\", \"range\": [\"red\", \"#bbbbbb\", \"green\"]}, \"title\": \"Match weight\", \"type\": \"quantitative\"}, \"tooltip\": [{\"field\": \"comparison_name\", \"title\": \"Comparison name\", \"type\": \"nominal\"}, {\"field\": \"probability_two_random_records_match\", \"format\": \".4f\", \"title\": \"Probability two random records match\", \"type\": \"nominal\"}, {\"field\": \"log2_bayes_factor\", \"format\": \",.4f\", \"title\": \"Equivalent match weight\", \"type\": \"quantitative\"}, {\"field\": \"bayes_factor_description\", \"title\": \"Match weight description\", \"type\": \"nominal\"}], \"x\": {\"axis\": {\"domain\": false, \"gridColor\": {\"condition\": {\"test\": \"abs(datum.value / 10)  <= 1 & datum.value % 10 === 0\", \"value\": \"#aaa\"}, \"value\": \"#ddd\"}, \"gridDash\": {\"condition\": {\"test\": \"abs(datum.value / 10) == 1\", \"value\": [3]}, \"value\": null}, \"gridWidth\": {\"condition\": {\"test\": \"abs(datum.value / 10)  <= 1 & datum.value % 10 === 0\", \"value\": 2}, \"value\": 1}, \"labels\": false, \"ticks\": false, \"title\": \"\"}, \"field\": \"log2_bayes_factor\", \"scale\": {\"domain\": [-14, 14]}, \"type\": \"quantitative\"}, \"y\": {\"axis\": {\"title\": \"Prior (starting) match weight\", \"titleAlign\": \"right\", \"titleAngle\": 0, \"titleFontWeight\": \"normal\"}, \"field\": \"label_for_charts\", \"sort\": {\"field\": \"comparison_vector_value\", \"order\": \"descending\"}, \"type\": \"nominal\"}}, \"height\": 20, \"transform\": [{\"filter\": \"(datum.comparison_name == 'probability_two_random_records_match')\"}]}, {\"mark\": {\"type\": \"bar\", \"clip\": true}, \"encoding\": {\"color\": {\"field\": \"log2_bayes_factor\", \"scale\": {\"domain\": [-10, 0, 10], \"interpolate\": \"lab\", \"range\": [\"red\", \"#bbbbbb\", \"green\"]}, \"title\": \"Match weight\", \"type\": \"quantitative\"}, \"row\": {\"field\": \"comparison_name\", \"header\": {\"labelAlign\": \"left\", \"labelAnchor\": \"middle\", \"labelAngle\": 0}, \"sort\": {\"field\": \"comparison_sort_order\"}, \"type\": \"nominal\"}, \"tooltip\": [{\"field\": \"comparison_name\", \"title\": \"Comparison name\", \"type\": \"nominal\"}, {\"field\": \"label_for_charts\", \"title\": \"Label\", \"type\": \"ordinal\"}, {\"field\": \"sql_condition\", \"title\": \"SQL condition\", \"type\": \"nominal\"}, {\"field\": \"m_probability\", \"format\": \".4f\", \"title\": \"M probability\", \"type\": \"quantitative\"}, {\"field\": \"u_probability\", \"format\": \".4f\", \"title\": \"U probability\", \"type\": \"quantitative\"}, {\"field\": \"bayes_factor\", \"format\": \",.4f\", \"title\": \"Bayes factor = m/u\", \"type\": \"quantitative\"}, {\"field\": \"log2_bayes_factor\", \"format\": \",.4f\", \"title\": \"Match weight = log2(m/u)\", \"type\": \"quantitative\"}, {\"field\": \"bayes_factor_description\", \"title\": \"Match weight description\", \"type\": \"nominal\"}], \"x\": {\"axis\": {\"gridColor\": {\"condition\": {\"test\": \"abs(datum.value / 10)  <= 1 & datum.value % 10 === 0\", \"value\": \"#aaa\"}, \"value\": \"#ddd\"}, \"gridDash\": {\"condition\": {\"test\": \"abs(datum.value / 10) == 1\", \"value\": [3]}, \"value\": null}, \"gridWidth\": {\"condition\": {\"test\": \"abs(datum.value / 10)  <= 1 & datum.value % 10 === 0\", \"value\": 2}, \"value\": 1}, \"title\": \"Comparison level match weight = log2(m/u)\"}, \"field\": \"log2_bayes_factor\", \"scale\": {\"domain\": [-14, 14]}, \"type\": \"quantitative\"}, \"y\": {\"axis\": {\"title\": null}, \"field\": \"label_for_charts\", \"sort\": {\"field\": \"comparison_vector_value\", \"order\": \"descending\"}, \"type\": \"nominal\"}}, \"height\": {\"step\": 12}, \"resolve\": {\"axis\": {\"y\": \"independent\"}, \"scale\": {\"y\": \"independent\"}}, \"transform\": [{\"filter\": \"(datum.comparison_name != 'probability_two_random_records_match')\"}]}], \"data\": {\"name\": \"data-2720ddf54c93dc6ece8bb11020ff13ae\"}, \"params\": [{\"name\": \"mouse_zoom\", \"select\": {\"type\": \"interval\", \"encodings\": [\"x\"]}, \"bind\": \"scales\", \"views\": []}], \"resolve\": {\"axis\": {\"y\": \"independent\"}, \"scale\": {\"y\": \"independent\"}}, \"title\": {\"text\": \"Model parameters (components of final match weight)\", \"subtitle\": \"Use mousewheel to zoom\"}, \"$schema\": \"https://vega.github.io/schema/vega-lite/v5.9.3.json\", \"datasets\": {\"data-2720ddf54c93dc6ece8bb11020ff13ae\": [{\"comparison_name\": \"probability_two_random_records_match\", \"sql_condition\": null, \"label_for_charts\": \"\", \"m_probability\": null, \"u_probability\": null, \"m_probability_description\": null, \"u_probability_description\": null, \"has_tf_adjustments\": false, \"tf_adjustment_column\": null, \"tf_adjustment_weight\": null, \"is_null_level\": false, \"bayes_factor\": 7.53012048192771e-05, \"log2_bayes_factor\": -13.696967526234287, \"comparison_vector_value\": 0, \"max_comparison_vector_value\": 0, \"bayes_factor_description\": \"The probability that two random records drawn at random match is 0.000 or one in  13,281.0 records.This is equivalent to a starting match weight of -13.697.\", \"probability_two_random_records_match\": 7.529553497477599e-05, \"comparison_sort_order\": -1}, {\"comparison_name\": \"syn_g1_firstname\", \"sql_condition\": \"syn_g1_firstname_l = syn_g1_firstname_r\", \"label_for_charts\": \"Exact match\", \"m_probability\": 0.9391166238088036, \"u_probability\": 0.005090707762476508, \"m_probability_description\": \"Amongst matching record comparisons, 93.91% of records are in the exact match comparison level\", \"u_probability_description\": \"Amongst non-matching record comparisons, 0.51% of records are in the exact match comparison level\", \"has_tf_adjustments\": false, \"tf_adjustment_column\": null, \"tf_adjustment_weight\": 1.0, \"is_null_level\": false, \"bayes_factor\": 184.476632253576, \"log2_bayes_factor\": 7.52729427073799, \"comparison_vector_value\": 2, \"max_comparison_vector_value\": 2, \"bayes_factor_description\": \"If comparison level is `exact match` then comparison is 184.48 times more likely to be a match\", \"probability_two_random_records_match\": 7.529553497477599e-05, \"comparison_sort_order\": 0}, {\"comparison_name\": \"syn_g1_firstname\", \"sql_condition\": \"jaro_winkler_similarity(\\\"syn_g1_firstname_l\\\", \\\"syn_g1_firstname_r\\\") >= 0.8\", \"label_for_charts\": \"Jaro_winkler_similarity 0.8\", \"m_probability\": 0.025000000000000022, \"u_probability\": 0.005710136676269334, \"m_probability_description\": \"Amongst matching record comparisons, 2.50% of records are in the jaro_winkler_similarity 0.8 comparison level\", \"u_probability_description\": \"Amongst non-matching record comparisons, 0.57% of records are in the jaro_winkler_similarity 0.8 comparison level\", \"has_tf_adjustments\": false, \"tf_adjustment_column\": null, \"tf_adjustment_weight\": 1.0, \"is_null_level\": false, \"bayes_factor\": 4.3781789153834305, \"log2_bayes_factor\": 2.1303309118195135, \"comparison_vector_value\": 1, \"max_comparison_vector_value\": 2, \"bayes_factor_description\": \"If comparison level is `jaro_winkler_similarity 0.8` then comparison is 4.38 times more likely to be a match\", \"probability_two_random_records_match\": 7.529553497477599e-05, \"comparison_sort_order\": 0}, {\"comparison_name\": \"syn_g1_firstname\", \"sql_condition\": \"ELSE\", \"label_for_charts\": \"All other comparisons\", \"m_probability\": 0.06088337619119649, \"u_probability\": 0.9891991555612542, \"m_probability_description\": \"Amongst matching record comparisons, 6.09% of records are in the all other comparisons comparison level\", \"u_probability_description\": \"Amongst non-matching record comparisons, 98.92% of records are in the all other comparisons comparison level\", \"has_tf_adjustments\": false, \"tf_adjustment_column\": null, \"tf_adjustment_weight\": 1.0, \"is_null_level\": false, \"bayes_factor\": 0.06154814816501975, \"log2_bayes_factor\": -4.022140739617935, \"comparison_vector_value\": 0, \"max_comparison_vector_value\": 2, \"bayes_factor_description\": \"If comparison level is `all other comparisons` then comparison is  16.25 times less likely to be a match\", \"probability_two_random_records_match\": 7.529553497477599e-05, \"comparison_sort_order\": 0}, {\"comparison_name\": \"syn_g1_surname\", \"sql_condition\": \"syn_g1_surname_l = syn_g1_surname_r\", \"label_for_charts\": \"Exact match\", \"m_probability\": 0.9520367442210677, \"u_probability\": 0.001024943269190645, \"m_probability_description\": \"Amongst matching record comparisons, 95.20% of records are in the exact match comparison level\", \"u_probability_description\": \"Amongst non-matching record comparisons, 0.10% of records are in the exact match comparison level\", \"has_tf_adjustments\": false, \"tf_adjustment_column\": null, \"tf_adjustment_weight\": 1.0, \"is_null_level\": false, \"bayes_factor\": 928.8677459903233, \"log2_bayes_factor\": 9.859329387258164, \"comparison_vector_value\": 2, \"max_comparison_vector_value\": 2, \"bayes_factor_description\": \"If comparison level is `exact match` then comparison is 928.87 times more likely to be a match\", \"probability_two_random_records_match\": 7.529553497477599e-05, \"comparison_sort_order\": 1}, {\"comparison_name\": \"syn_g1_surname\", \"sql_condition\": \"jaro_winkler_similarity(\\\"syn_g1_surname_l\\\", \\\"syn_g1_surname_r\\\") >= 0.8\", \"label_for_charts\": \"Jaro_winkler_similarity 0.8\", \"m_probability\": 7.529553497477599e-05, \"u_probability\": 0.003960481175701461, \"m_probability_description\": \"Amongst matching record comparisons, 0.01% of records are in the jaro_winkler_similarity 0.8 comparison level\", \"u_probability_description\": \"Amongst non-matching record comparisons, 0.40% of records are in the jaro_winkler_similarity 0.8 comparison level\", \"has_tf_adjustments\": false, \"tf_adjustment_column\": null, \"tf_adjustment_weight\": 1.0, \"is_null_level\": false, \"bayes_factor\": 0.019011713888891293, \"log2_bayes_factor\": -5.716967594266505, \"comparison_vector_value\": 1, \"max_comparison_vector_value\": 2, \"bayes_factor_description\": \"If comparison level is `jaro_winkler_similarity 0.8` then comparison is  52.60 times less likely to be a match\", \"probability_two_random_records_match\": 7.529553497477599e-05, \"comparison_sort_order\": 1}, {\"comparison_name\": \"syn_g1_surname\", \"sql_condition\": \"ELSE\", \"label_for_charts\": \"All other comparisons\", \"m_probability\": 0.047887960243957535, \"u_probability\": 0.9950145755551079, \"m_probability_description\": \"Amongst matching record comparisons, 4.79% of records are in the all other comparisons comparison level\", \"u_probability_description\": \"Amongst non-matching record comparisons, 99.50% of records are in the all other comparisons comparison level\", \"has_tf_adjustments\": false, \"tf_adjustment_column\": null, \"tf_adjustment_weight\": 1.0, \"is_null_level\": false, \"bayes_factor\": 0.04812789824434618, \"log2_bayes_factor\": -4.376982767898622, \"comparison_vector_value\": 0, \"max_comparison_vector_value\": 2, \"bayes_factor_description\": \"If comparison level is `all other comparisons` then comparison is  20.78 times less likely to be a match\", \"probability_two_random_records_match\": 7.529553497477599e-05, \"comparison_sort_order\": 1}, {\"comparison_name\": \"syn_g0_surname\", \"sql_condition\": \"syn_g0_surname_l = syn_g0_surname_r\", \"label_for_charts\": \"Exact match\", \"m_probability\": 0.9091935848204201, \"u_probability\": 0.0008442626084217712, \"m_probability_description\": \"Amongst matching record comparisons, 90.92% of records are in the exact match comparison level\", \"u_probability_description\": \"Amongst non-matching record comparisons, 0.08% of records are in the exact match comparison level\", \"has_tf_adjustments\": false, \"tf_adjustment_column\": null, \"tf_adjustment_weight\": 1.0, \"is_null_level\": false, \"bayes_factor\": 1076.9085066079476, \"log2_bayes_factor\": 10.072679969390988, \"comparison_vector_value\": 2, \"max_comparison_vector_value\": 2, \"bayes_factor_description\": \"If comparison level is `exact match` then comparison is 1,076.91 times more likely to be a match\", \"probability_two_random_records_match\": 7.529553497477599e-05, \"comparison_sort_order\": 2}, {\"comparison_name\": \"syn_g0_surname\", \"sql_condition\": \"jaro_winkler_similarity(\\\"syn_g0_surname_l\\\", \\\"syn_g0_surname_r\\\") >= 0.8\", \"label_for_charts\": \"Jaro_winkler_similarity 0.8\", \"m_probability\": 0.00015059106994955198, \"u_probability\": 0.003607144701815629, \"m_probability_description\": \"Amongst matching record comparisons, 0.02% of records are in the jaro_winkler_similarity 0.8 comparison level\", \"u_probability_description\": \"Amongst non-matching record comparisons, 0.36% of records are in the jaro_winkler_similarity 0.8 comparison level\", \"has_tf_adjustments\": false, \"tf_adjustment_column\": null, \"tf_adjustment_weight\": 1.0, \"is_null_level\": false, \"bayes_factor\": 0.041747998042261265, \"log2_bayes_factor\": -4.5821491726371475, \"comparison_vector_value\": 1, \"max_comparison_vector_value\": 2, \"bayes_factor_description\": \"If comparison level is `jaro_winkler_similarity 0.8` then comparison is  23.95 times less likely to be a match\", \"probability_two_random_records_match\": 7.529553497477599e-05, \"comparison_sort_order\": 2}, {\"comparison_name\": \"syn_g0_surname\", \"sql_condition\": \"ELSE\", \"label_for_charts\": \"All other comparisons\", \"m_probability\": 0.0906558241096303, \"u_probability\": 0.9955485926897626, \"m_probability_description\": \"Amongst matching record comparisons, 9.07% of records are in the all other comparisons comparison level\", \"u_probability_description\": \"Amongst non-matching record comparisons, 99.55% of records are in the all other comparisons comparison level\", \"has_tf_adjustments\": false, \"tf_adjustment_column\": null, \"tf_adjustment_weight\": 1.0, \"is_null_level\": false, \"bayes_factor\": 0.09106117448742242, \"log2_bayes_factor\": -3.4570201227275987, \"comparison_vector_value\": 0, \"max_comparison_vector_value\": 2, \"bayes_factor_description\": \"If comparison level is `all other comparisons` then comparison is  10.98 times less likely to be a match\", \"probability_two_random_records_match\": 7.529553497477599e-05, \"comparison_sort_order\": 2}, {\"comparison_name\": \"g1_dob_arc1\", \"sql_condition\": \"\\\"g1_dob_arc1_l\\\" = \\\"g1_dob_arc1_r\\\"\", \"label_for_charts\": \"Exact match\", \"m_probability\": 1.0, \"u_probability\": 0.0017256826932439246, \"m_probability_description\": \"Amongst matching record comparisons, 100.00% of records are in the exact match comparison level\", \"u_probability_description\": \"Amongst non-matching record comparisons, 0.17% of records are in the exact match comparison level\", \"has_tf_adjustments\": false, \"tf_adjustment_column\": null, \"tf_adjustment_weight\": 1.0, \"is_null_level\": false, \"bayes_factor\": 579.4808071698326, \"log2_bayes_factor\": 9.178617068677836, \"comparison_vector_value\": 1, \"max_comparison_vector_value\": 1, \"bayes_factor_description\": \"If comparison level is `exact match` then comparison is 579.48 times more likely to be a match\", \"probability_two_random_records_match\": 7.529553497477599e-05, \"comparison_sort_order\": 3}, {\"comparison_name\": \"g1_dob_arc1\", \"sql_condition\": \"ELSE\", \"label_for_charts\": \"All other comparisons\", \"m_probability\": 0.001, \"u_probability\": 0.9982743173067561, \"m_probability_description\": \"Amongst matching record comparisons, 0.10% of records are in the all other comparisons comparison level\", \"u_probability_description\": \"Amongst non-matching record comparisons, 99.83% of records are in the all other comparisons comparison level\", \"has_tf_adjustments\": false, \"tf_adjustment_column\": null, \"tf_adjustment_weight\": 1.0, \"is_null_level\": false, \"bayes_factor\": 0.0010017286658219353, \"log2_bayes_factor\": -9.963292500164798, \"comparison_vector_value\": 0, \"max_comparison_vector_value\": 1, \"bayes_factor_description\": \"If comparison level is `all other comparisons` then comparison is  998.27 times less likely to be a match\", \"probability_two_random_records_match\": 7.529553497477599e-05, \"comparison_sort_order\": 3}, {\"comparison_name\": \"g1_gender_arc\", \"sql_condition\": \"\\\"g1_gender_arc_l\\\" = \\\"g1_gender_arc_r\\\"\", \"label_for_charts\": \"Exact match\", \"m_probability\": 1.0, \"u_probability\": 0.5002982325200094, \"m_probability_description\": \"Amongst matching record comparisons, 100.00% of records are in the exact match comparison level\", \"u_probability_description\": \"Amongst non-matching record comparisons, 50.03% of records are in the exact match comparison level\", \"has_tf_adjustments\": false, \"tf_adjustment_column\": null, \"tf_adjustment_weight\": 1.0, \"is_null_level\": false, \"bayes_factor\": 1.998807781036894, \"log2_bayes_factor\": 0.9991397393768978, \"comparison_vector_value\": 1, \"max_comparison_vector_value\": 1, \"bayes_factor_description\": \"If comparison level is `exact match` then comparison is 2.00 times more likely to be a match\", \"probability_two_random_records_match\": 7.529553497477599e-05, \"comparison_sort_order\": 4}, {\"comparison_name\": \"g1_gender_arc\", \"sql_condition\": \"ELSE\", \"label_for_charts\": \"All other comparisons\", \"m_probability\": 0.001, \"u_probability\": 0.4997017674799907, \"m_probability_description\": \"Amongst matching record comparisons, 0.10% of records are in the all other comparisons comparison level\", \"u_probability_description\": \"Amongst non-matching record comparisons, 49.97% of records are in the all other comparisons comparison level\", \"has_tf_adjustments\": false, \"tf_adjustment_column\": null, \"tf_adjustment_weight\": 1.0, \"is_null_level\": false, \"bayes_factor\": 0.002001193642045788, \"log2_bayes_factor\": -8.964923510770495, \"comparison_vector_value\": 0, \"max_comparison_vector_value\": 1, \"bayes_factor_description\": \"If comparison level is `all other comparisons` then comparison is  499.70 times less likely to be a match\", \"probability_two_random_records_match\": 7.529553497477599e-05, \"comparison_sort_order\": 4}]}}, {\"mode\": \"vega-lite\"});\n",
       "</script>"
      ],
      "text/plain": [
       "alt.VConcatChart(...)"
      ]
     },
     "execution_count": 11,
     "metadata": {},
     "output_type": "execute_result"
    }
   ],
   "source": [
    "linker.match_weights_chart()\n"
   ]
  },
  {
   "cell_type": "code",
   "execution_count": 12,
   "metadata": {},
   "outputs": [
    {
     "data": {
      "text/html": [
       "\n",
       "<style>\n",
       "  #altair-viz-f2a89afade1e4f9ea7f51c36424728c5.vega-embed {\n",
       "    width: 100%;\n",
       "    display: flex;\n",
       "  }\n",
       "\n",
       "  #altair-viz-f2a89afade1e4f9ea7f51c36424728c5.vega-embed details,\n",
       "  #altair-viz-f2a89afade1e4f9ea7f51c36424728c5.vega-embed details summary {\n",
       "    position: relative;\n",
       "  }\n",
       "</style>\n",
       "<div id=\"altair-viz-f2a89afade1e4f9ea7f51c36424728c5\"></div>\n",
       "<script type=\"text/javascript\">\n",
       "  var VEGA_DEBUG = (typeof VEGA_DEBUG == \"undefined\") ? {} : VEGA_DEBUG;\n",
       "  (function(spec, embedOpt){\n",
       "    let outputDiv = document.currentScript.previousElementSibling;\n",
       "    if (outputDiv.id !== \"altair-viz-f2a89afade1e4f9ea7f51c36424728c5\") {\n",
       "      outputDiv = document.getElementById(\"altair-viz-f2a89afade1e4f9ea7f51c36424728c5\");\n",
       "    }\n",
       "    const paths = {\n",
       "      \"vega\": \"https://cdn.jsdelivr.net/npm/vega@5?noext\",\n",
       "      \"vega-lib\": \"https://cdn.jsdelivr.net/npm/vega-lib?noext\",\n",
       "      \"vega-lite\": \"https://cdn.jsdelivr.net/npm/vega-lite@5.8.0?noext\",\n",
       "      \"vega-embed\": \"https://cdn.jsdelivr.net/npm/vega-embed@6?noext\",\n",
       "    };\n",
       "\n",
       "    function maybeLoadScript(lib, version) {\n",
       "      var key = `${lib.replace(\"-\", \"\")}_version`;\n",
       "      return (VEGA_DEBUG[key] == version) ?\n",
       "        Promise.resolve(paths[lib]) :\n",
       "        new Promise(function(resolve, reject) {\n",
       "          var s = document.createElement('script');\n",
       "          document.getElementsByTagName(\"head\")[0].appendChild(s);\n",
       "          s.async = true;\n",
       "          s.onload = () => {\n",
       "            VEGA_DEBUG[key] = version;\n",
       "            return resolve(paths[lib]);\n",
       "          };\n",
       "          s.onerror = () => reject(`Error loading script: ${paths[lib]}`);\n",
       "          s.src = paths[lib];\n",
       "        });\n",
       "    }\n",
       "\n",
       "    function showError(err) {\n",
       "      outputDiv.innerHTML = `<div class=\"error\" style=\"color:red;\">${err}</div>`;\n",
       "      throw err;\n",
       "    }\n",
       "\n",
       "    function displayChart(vegaEmbed) {\n",
       "      vegaEmbed(outputDiv, spec, embedOpt)\n",
       "        .catch(err => showError(`Javascript Error: ${err.message}<br>This usually means there's a typo in your chart specification. See the javascript console for the full traceback.`));\n",
       "    }\n",
       "\n",
       "    if(typeof define === \"function\" && define.amd) {\n",
       "      requirejs.config({paths});\n",
       "      require([\"vega-embed\"], displayChart, err => showError(`Error loading script: ${err.message}`));\n",
       "    } else {\n",
       "      maybeLoadScript(\"vega\", \"5\")\n",
       "        .then(() => maybeLoadScript(\"vega-lite\", \"5.8.0\"))\n",
       "        .then(() => maybeLoadScript(\"vega-embed\", \"6\"))\n",
       "        .catch(showError)\n",
       "        .then(() => displayChart(vegaEmbed));\n",
       "    }\n",
       "  })({\"config\": {\"view\": {\"continuousWidth\": 300, \"continuousHeight\": 300, \"discreteHeight\": 300, \"discreteWidth\": 400}, \"header\": {\"title\": null}, \"title\": {\"anchor\": \"middle\", \"offset\": 10}}, \"hconcat\": [{\"mark\": \"bar\", \"encoding\": {\"color\": {\"value\": \"green\"}, \"row\": {\"field\": \"comparison_name\", \"header\": {\"labelAlign\": \"left\", \"labelAnchor\": \"middle\", \"labelAngle\": 0}, \"sort\": {\"field\": \"comparison_sort_order\"}, \"type\": \"nominal\"}, \"tooltip\": [{\"field\": \"m_probability_description\", \"title\": \"m probability description\", \"type\": \"nominal\"}, {\"field\": \"comparison_name\", \"title\": \"Comparison column name\", \"type\": \"nominal\"}, {\"field\": \"label_for_charts\", \"title\": \"Label\", \"type\": \"ordinal\"}, {\"field\": \"sql_condition\", \"title\": \"SQL condition\", \"type\": \"nominal\"}, {\"field\": \"m_probability\", \"format\": \".4p\", \"title\": \"m probability\", \"type\": \"quantitative\"}, {\"field\": \"u_probability\", \"format\": \".4p\", \"title\": \"u probability\", \"type\": \"quantitative\"}, {\"field\": \"bayes_factor\", \"format\": \",.4f\", \"title\": \"Bayes factor = m/u\", \"type\": \"quantitative\"}, {\"field\": \"log2_bayes_factor\", \"format\": \",.4f\", \"title\": \"Match weight = log2(m/u)\", \"type\": \"quantitative\"}], \"x\": {\"axis\": {\"title\": \"Proportion of record comparisons\"}, \"field\": \"m_probability\", \"type\": \"quantitative\"}, \"y\": {\"axis\": {\"title\": null}, \"field\": \"label_for_charts\", \"sort\": {\"field\": \"comparison_vector_value\", \"order\": \"descending\"}, \"type\": \"nominal\"}}, \"height\": {\"step\": 12}, \"resolve\": {\"scale\": {\"y\": \"independent\"}}, \"title\": {\"text\": \"Amongst matching record comparisons:\", \"fontSize\": 12, \"fontWeight\": \"bold\"}, \"transform\": [{\"filter\": \"(datum.bayes_factor != 'no-op filter due to vega lite issue 4680')\"}], \"width\": 150}, {\"mark\": \"bar\", \"encoding\": {\"color\": {\"value\": \"red\"}, \"row\": {\"field\": \"comparison_name\", \"header\": {\"labels\": false}, \"sort\": {\"field\": \"comparison_sort_order\"}, \"type\": \"nominal\"}, \"tooltip\": [{\"field\": \"u_probability_description\", \"title\": \"u probability description\", \"type\": \"nominal\"}, {\"field\": \"comparison_name\", \"title\": \"Comparison column name\", \"type\": \"nominal\"}, {\"field\": \"label_for_charts\", \"title\": \"Label\", \"type\": \"ordinal\"}, {\"field\": \"sql_condition\", \"title\": \"SQL condition\", \"type\": \"nominal\"}, {\"field\": \"m_probability\", \"format\": \".4p\", \"title\": \"m probability\", \"type\": \"quantitative\"}, {\"field\": \"u_probability\", \"format\": \".4p\", \"title\": \"u probability\", \"type\": \"quantitative\"}, {\"field\": \"bayes_factor\", \"format\": \",.4f\", \"title\": \"Bayes factor = m/u\", \"type\": \"quantitative\"}, {\"field\": \"log2_bayes_factor\", \"format\": \",.4f\", \"title\": \"Match weight = log2(m/u)\", \"type\": \"quantitative\"}], \"x\": {\"axis\": {\"title\": \"Proportion of record comparisons\"}, \"field\": \"u_probability\", \"type\": \"quantitative\"}, \"y\": {\"axis\": {\"title\": null}, \"field\": \"label_for_charts\", \"sort\": {\"field\": \"comparison_vector_value\", \"order\": \"descending\"}, \"type\": \"nominal\"}}, \"height\": {\"step\": 12}, \"resolve\": {\"scale\": {\"y\": \"independent\"}}, \"title\": {\"text\": \"Amongst non-matching record comparisons:\", \"fontSize\": 12, \"fontWeight\": \"bold\"}, \"transform\": [{\"filter\": \"(datum.bayes_factor != 'no-op filter2 due to vega lite issue 4680')\"}], \"width\": 150}], \"data\": {\"name\": \"data-cdb7d306806589ee03de959417e7371a\"}, \"title\": {\"text\": \"Proportion of record comparisons in each comparison level by match status\", \"subtitle\": \"(m and u probabilities)\"}, \"$schema\": \"https://vega.github.io/schema/vega-lite/v5.9.3.json\", \"datasets\": {\"data-cdb7d306806589ee03de959417e7371a\": [{\"comparison_name\": \"syn_g1_firstname\", \"sql_condition\": \"syn_g1_firstname_l = syn_g1_firstname_r\", \"label_for_charts\": \"Exact match\", \"m_probability\": 0.9391166238088036, \"u_probability\": 0.005090707762476508, \"m_probability_description\": \"Amongst matching record comparisons, 93.91% of records are in the exact match comparison level\", \"u_probability_description\": \"Amongst non-matching record comparisons, 0.51% of records are in the exact match comparison level\", \"has_tf_adjustments\": false, \"tf_adjustment_column\": null, \"tf_adjustment_weight\": 1.0, \"is_null_level\": false, \"bayes_factor\": 184.476632253576, \"log2_bayes_factor\": 7.52729427073799, \"comparison_vector_value\": 2, \"max_comparison_vector_value\": 2, \"bayes_factor_description\": \"If comparison level is `exact match` then comparison is 184.48 times more likely to be a match\", \"probability_two_random_records_match\": 7.529553497477599e-05, \"comparison_sort_order\": 0}, {\"comparison_name\": \"syn_g1_firstname\", \"sql_condition\": \"jaro_winkler_similarity(\\\"syn_g1_firstname_l\\\", \\\"syn_g1_firstname_r\\\") >= 0.8\", \"label_for_charts\": \"Jaro_winkler_similarity 0.8\", \"m_probability\": 0.025000000000000022, \"u_probability\": 0.005710136676269334, \"m_probability_description\": \"Amongst matching record comparisons, 2.50% of records are in the jaro_winkler_similarity 0.8 comparison level\", \"u_probability_description\": \"Amongst non-matching record comparisons, 0.57% of records are in the jaro_winkler_similarity 0.8 comparison level\", \"has_tf_adjustments\": false, \"tf_adjustment_column\": null, \"tf_adjustment_weight\": 1.0, \"is_null_level\": false, \"bayes_factor\": 4.3781789153834305, \"log2_bayes_factor\": 2.1303309118195135, \"comparison_vector_value\": 1, \"max_comparison_vector_value\": 2, \"bayes_factor_description\": \"If comparison level is `jaro_winkler_similarity 0.8` then comparison is 4.38 times more likely to be a match\", \"probability_two_random_records_match\": 7.529553497477599e-05, \"comparison_sort_order\": 0}, {\"comparison_name\": \"syn_g1_firstname\", \"sql_condition\": \"ELSE\", \"label_for_charts\": \"All other comparisons\", \"m_probability\": 0.06088337619119649, \"u_probability\": 0.9891991555612542, \"m_probability_description\": \"Amongst matching record comparisons, 6.09% of records are in the all other comparisons comparison level\", \"u_probability_description\": \"Amongst non-matching record comparisons, 98.92% of records are in the all other comparisons comparison level\", \"has_tf_adjustments\": false, \"tf_adjustment_column\": null, \"tf_adjustment_weight\": 1.0, \"is_null_level\": false, \"bayes_factor\": 0.06154814816501975, \"log2_bayes_factor\": -4.022140739617935, \"comparison_vector_value\": 0, \"max_comparison_vector_value\": 2, \"bayes_factor_description\": \"If comparison level is `all other comparisons` then comparison is  16.25 times less likely to be a match\", \"probability_two_random_records_match\": 7.529553497477599e-05, \"comparison_sort_order\": 0}, {\"comparison_name\": \"syn_g1_surname\", \"sql_condition\": \"syn_g1_surname_l = syn_g1_surname_r\", \"label_for_charts\": \"Exact match\", \"m_probability\": 0.9520367442210677, \"u_probability\": 0.001024943269190645, \"m_probability_description\": \"Amongst matching record comparisons, 95.20% of records are in the exact match comparison level\", \"u_probability_description\": \"Amongst non-matching record comparisons, 0.10% of records are in the exact match comparison level\", \"has_tf_adjustments\": false, \"tf_adjustment_column\": null, \"tf_adjustment_weight\": 1.0, \"is_null_level\": false, \"bayes_factor\": 928.8677459903233, \"log2_bayes_factor\": 9.859329387258164, \"comparison_vector_value\": 2, \"max_comparison_vector_value\": 2, \"bayes_factor_description\": \"If comparison level is `exact match` then comparison is 928.87 times more likely to be a match\", \"probability_two_random_records_match\": 7.529553497477599e-05, \"comparison_sort_order\": 1}, {\"comparison_name\": \"syn_g1_surname\", \"sql_condition\": \"jaro_winkler_similarity(\\\"syn_g1_surname_l\\\", \\\"syn_g1_surname_r\\\") >= 0.8\", \"label_for_charts\": \"Jaro_winkler_similarity 0.8\", \"m_probability\": 7.529553497477599e-05, \"u_probability\": 0.003960481175701461, \"m_probability_description\": \"Amongst matching record comparisons, 0.01% of records are in the jaro_winkler_similarity 0.8 comparison level\", \"u_probability_description\": \"Amongst non-matching record comparisons, 0.40% of records are in the jaro_winkler_similarity 0.8 comparison level\", \"has_tf_adjustments\": false, \"tf_adjustment_column\": null, \"tf_adjustment_weight\": 1.0, \"is_null_level\": false, \"bayes_factor\": 0.019011713888891293, \"log2_bayes_factor\": -5.716967594266505, \"comparison_vector_value\": 1, \"max_comparison_vector_value\": 2, \"bayes_factor_description\": \"If comparison level is `jaro_winkler_similarity 0.8` then comparison is  52.60 times less likely to be a match\", \"probability_two_random_records_match\": 7.529553497477599e-05, \"comparison_sort_order\": 1}, {\"comparison_name\": \"syn_g1_surname\", \"sql_condition\": \"ELSE\", \"label_for_charts\": \"All other comparisons\", \"m_probability\": 0.047887960243957535, \"u_probability\": 0.9950145755551079, \"m_probability_description\": \"Amongst matching record comparisons, 4.79% of records are in the all other comparisons comparison level\", \"u_probability_description\": \"Amongst non-matching record comparisons, 99.50% of records are in the all other comparisons comparison level\", \"has_tf_adjustments\": false, \"tf_adjustment_column\": null, \"tf_adjustment_weight\": 1.0, \"is_null_level\": false, \"bayes_factor\": 0.04812789824434618, \"log2_bayes_factor\": -4.376982767898622, \"comparison_vector_value\": 0, \"max_comparison_vector_value\": 2, \"bayes_factor_description\": \"If comparison level is `all other comparisons` then comparison is  20.78 times less likely to be a match\", \"probability_two_random_records_match\": 7.529553497477599e-05, \"comparison_sort_order\": 1}, {\"comparison_name\": \"syn_g0_surname\", \"sql_condition\": \"syn_g0_surname_l = syn_g0_surname_r\", \"label_for_charts\": \"Exact match\", \"m_probability\": 0.9091935848204201, \"u_probability\": 0.0008442626084217712, \"m_probability_description\": \"Amongst matching record comparisons, 90.92% of records are in the exact match comparison level\", \"u_probability_description\": \"Amongst non-matching record comparisons, 0.08% of records are in the exact match comparison level\", \"has_tf_adjustments\": false, \"tf_adjustment_column\": null, \"tf_adjustment_weight\": 1.0, \"is_null_level\": false, \"bayes_factor\": 1076.9085066079476, \"log2_bayes_factor\": 10.072679969390988, \"comparison_vector_value\": 2, \"max_comparison_vector_value\": 2, \"bayes_factor_description\": \"If comparison level is `exact match` then comparison is 1,076.91 times more likely to be a match\", \"probability_two_random_records_match\": 7.529553497477599e-05, \"comparison_sort_order\": 2}, {\"comparison_name\": \"syn_g0_surname\", \"sql_condition\": \"jaro_winkler_similarity(\\\"syn_g0_surname_l\\\", \\\"syn_g0_surname_r\\\") >= 0.8\", \"label_for_charts\": \"Jaro_winkler_similarity 0.8\", \"m_probability\": 0.00015059106994955198, \"u_probability\": 0.003607144701815629, \"m_probability_description\": \"Amongst matching record comparisons, 0.02% of records are in the jaro_winkler_similarity 0.8 comparison level\", \"u_probability_description\": \"Amongst non-matching record comparisons, 0.36% of records are in the jaro_winkler_similarity 0.8 comparison level\", \"has_tf_adjustments\": false, \"tf_adjustment_column\": null, \"tf_adjustment_weight\": 1.0, \"is_null_level\": false, \"bayes_factor\": 0.041747998042261265, \"log2_bayes_factor\": -4.5821491726371475, \"comparison_vector_value\": 1, \"max_comparison_vector_value\": 2, \"bayes_factor_description\": \"If comparison level is `jaro_winkler_similarity 0.8` then comparison is  23.95 times less likely to be a match\", \"probability_two_random_records_match\": 7.529553497477599e-05, \"comparison_sort_order\": 2}, {\"comparison_name\": \"syn_g0_surname\", \"sql_condition\": \"ELSE\", \"label_for_charts\": \"All other comparisons\", \"m_probability\": 0.0906558241096303, \"u_probability\": 0.9955485926897626, \"m_probability_description\": \"Amongst matching record comparisons, 9.07% of records are in the all other comparisons comparison level\", \"u_probability_description\": \"Amongst non-matching record comparisons, 99.55% of records are in the all other comparisons comparison level\", \"has_tf_adjustments\": false, \"tf_adjustment_column\": null, \"tf_adjustment_weight\": 1.0, \"is_null_level\": false, \"bayes_factor\": 0.09106117448742242, \"log2_bayes_factor\": -3.4570201227275987, \"comparison_vector_value\": 0, \"max_comparison_vector_value\": 2, \"bayes_factor_description\": \"If comparison level is `all other comparisons` then comparison is  10.98 times less likely to be a match\", \"probability_two_random_records_match\": 7.529553497477599e-05, \"comparison_sort_order\": 2}, {\"comparison_name\": \"g1_dob_arc1\", \"sql_condition\": \"\\\"g1_dob_arc1_l\\\" = \\\"g1_dob_arc1_r\\\"\", \"label_for_charts\": \"Exact match\", \"m_probability\": 1.0, \"u_probability\": 0.0017256826932439246, \"m_probability_description\": \"Amongst matching record comparisons, 100.00% of records are in the exact match comparison level\", \"u_probability_description\": \"Amongst non-matching record comparisons, 0.17% of records are in the exact match comparison level\", \"has_tf_adjustments\": false, \"tf_adjustment_column\": null, \"tf_adjustment_weight\": 1.0, \"is_null_level\": false, \"bayes_factor\": 579.4808071698326, \"log2_bayes_factor\": 9.178617068677836, \"comparison_vector_value\": 1, \"max_comparison_vector_value\": 1, \"bayes_factor_description\": \"If comparison level is `exact match` then comparison is 579.48 times more likely to be a match\", \"probability_two_random_records_match\": 7.529553497477599e-05, \"comparison_sort_order\": 3}, {\"comparison_name\": \"g1_dob_arc1\", \"sql_condition\": \"ELSE\", \"label_for_charts\": \"All other comparisons\", \"m_probability\": 0.001, \"u_probability\": 0.9982743173067561, \"m_probability_description\": \"Amongst matching record comparisons, 0.10% of records are in the all other comparisons comparison level\", \"u_probability_description\": \"Amongst non-matching record comparisons, 99.83% of records are in the all other comparisons comparison level\", \"has_tf_adjustments\": false, \"tf_adjustment_column\": null, \"tf_adjustment_weight\": 1.0, \"is_null_level\": false, \"bayes_factor\": 0.0010017286658219353, \"log2_bayes_factor\": -9.963292500164798, \"comparison_vector_value\": 0, \"max_comparison_vector_value\": 1, \"bayes_factor_description\": \"If comparison level is `all other comparisons` then comparison is  998.27 times less likely to be a match\", \"probability_two_random_records_match\": 7.529553497477599e-05, \"comparison_sort_order\": 3}, {\"comparison_name\": \"g1_gender_arc\", \"sql_condition\": \"\\\"g1_gender_arc_l\\\" = \\\"g1_gender_arc_r\\\"\", \"label_for_charts\": \"Exact match\", \"m_probability\": 1.0, \"u_probability\": 0.5002982325200094, \"m_probability_description\": \"Amongst matching record comparisons, 100.00% of records are in the exact match comparison level\", \"u_probability_description\": \"Amongst non-matching record comparisons, 50.03% of records are in the exact match comparison level\", \"has_tf_adjustments\": false, \"tf_adjustment_column\": null, \"tf_adjustment_weight\": 1.0, \"is_null_level\": false, \"bayes_factor\": 1.998807781036894, \"log2_bayes_factor\": 0.9991397393768978, \"comparison_vector_value\": 1, \"max_comparison_vector_value\": 1, \"bayes_factor_description\": \"If comparison level is `exact match` then comparison is 2.00 times more likely to be a match\", \"probability_two_random_records_match\": 7.529553497477599e-05, \"comparison_sort_order\": 4}, {\"comparison_name\": \"g1_gender_arc\", \"sql_condition\": \"ELSE\", \"label_for_charts\": \"All other comparisons\", \"m_probability\": 0.001, \"u_probability\": 0.4997017674799907, \"m_probability_description\": \"Amongst matching record comparisons, 0.10% of records are in the all other comparisons comparison level\", \"u_probability_description\": \"Amongst non-matching record comparisons, 49.97% of records are in the all other comparisons comparison level\", \"has_tf_adjustments\": false, \"tf_adjustment_column\": null, \"tf_adjustment_weight\": 1.0, \"is_null_level\": false, \"bayes_factor\": 0.002001193642045788, \"log2_bayes_factor\": -8.964923510770495, \"comparison_vector_value\": 0, \"max_comparison_vector_value\": 1, \"bayes_factor_description\": \"If comparison level is `all other comparisons` then comparison is  499.70 times less likely to be a match\", \"probability_two_random_records_match\": 7.529553497477599e-05, \"comparison_sort_order\": 4}]}}, {\"mode\": \"vega-lite\"});\n",
       "</script>"
      ],
      "text/plain": [
       "alt.HConcatChart(...)"
      ]
     },
     "execution_count": 12,
     "metadata": {},
     "output_type": "execute_result"
    }
   ],
   "source": [
    "linker.m_u_parameters_chart()"
   ]
  },
  {
   "cell_type": "code",
   "execution_count": 15,
   "metadata": {},
   "outputs": [
    {
     "data": {
      "application/vnd.jupyter.widget-view+json": {
       "model_id": "c6d816f85182434dbe153cde913d2973",
       "version_major": 2,
       "version_minor": 0
      },
      "text/plain": [
       "FloatProgress(value=0.0, layout=Layout(width='auto'), style=ProgressStyle(bar_color='black'))"
      ]
     },
     "metadata": {},
     "output_type": "display_data"
    },
    {
     "data": {
      "text/html": [
       "\n",
       "<style>\n",
       "  #altair-viz-c3c0f6739e114fc994ee4a019dbafd4e.vega-embed {\n",
       "    width: 100%;\n",
       "    display: flex;\n",
       "  }\n",
       "\n",
       "  #altair-viz-c3c0f6739e114fc994ee4a019dbafd4e.vega-embed details,\n",
       "  #altair-viz-c3c0f6739e114fc994ee4a019dbafd4e.vega-embed details summary {\n",
       "    position: relative;\n",
       "  }\n",
       "</style>\n",
       "<div id=\"altair-viz-c3c0f6739e114fc994ee4a019dbafd4e\"></div>\n",
       "<script type=\"text/javascript\">\n",
       "  var VEGA_DEBUG = (typeof VEGA_DEBUG == \"undefined\") ? {} : VEGA_DEBUG;\n",
       "  (function(spec, embedOpt){\n",
       "    let outputDiv = document.currentScript.previousElementSibling;\n",
       "    if (outputDiv.id !== \"altair-viz-c3c0f6739e114fc994ee4a019dbafd4e\") {\n",
       "      outputDiv = document.getElementById(\"altair-viz-c3c0f6739e114fc994ee4a019dbafd4e\");\n",
       "    }\n",
       "    const paths = {\n",
       "      \"vega\": \"https://cdn.jsdelivr.net/npm/vega@5?noext\",\n",
       "      \"vega-lib\": \"https://cdn.jsdelivr.net/npm/vega-lib?noext\",\n",
       "      \"vega-lite\": \"https://cdn.jsdelivr.net/npm/vega-lite@5.8.0?noext\",\n",
       "      \"vega-embed\": \"https://cdn.jsdelivr.net/npm/vega-embed@6?noext\",\n",
       "    };\n",
       "\n",
       "    function maybeLoadScript(lib, version) {\n",
       "      var key = `${lib.replace(\"-\", \"\")}_version`;\n",
       "      return (VEGA_DEBUG[key] == version) ?\n",
       "        Promise.resolve(paths[lib]) :\n",
       "        new Promise(function(resolve, reject) {\n",
       "          var s = document.createElement('script');\n",
       "          document.getElementsByTagName(\"head\")[0].appendChild(s);\n",
       "          s.async = true;\n",
       "          s.onload = () => {\n",
       "            VEGA_DEBUG[key] = version;\n",
       "            return resolve(paths[lib]);\n",
       "          };\n",
       "          s.onerror = () => reject(`Error loading script: ${paths[lib]}`);\n",
       "          s.src = paths[lib];\n",
       "        });\n",
       "    }\n",
       "\n",
       "    function showError(err) {\n",
       "      outputDiv.innerHTML = `<div class=\"error\" style=\"color:red;\">${err}</div>`;\n",
       "      throw err;\n",
       "    }\n",
       "\n",
       "    function displayChart(vegaEmbed) {\n",
       "      vegaEmbed(outputDiv, spec, embedOpt)\n",
       "        .catch(err => showError(`Javascript Error: ${err.message}<br>This usually means there's a typo in your chart specification. See the javascript console for the full traceback.`));\n",
       "    }\n",
       "\n",
       "    if(typeof define === \"function\" && define.amd) {\n",
       "      requirejs.config({paths});\n",
       "      require([\"vega-embed\"], displayChart, err => showError(`Error loading script: ${err.message}`));\n",
       "    } else {\n",
       "      maybeLoadScript(\"vega\", \"5\")\n",
       "        .then(() => maybeLoadScript(\"vega-lite\", \"5.8.0\"))\n",
       "        .then(() => maybeLoadScript(\"vega-embed\", \"6\"))\n",
       "        .catch(showError)\n",
       "        .then(() => displayChart(vegaEmbed));\n",
       "    }\n",
       "  })({\"config\": {\"view\": {\"continuousWidth\": 300, \"continuousHeight\": 300}, \"title\": {\"fontSize\": 14}}, \"data\": {\"name\": \"data-a1cec394be8e57caedbd561143f1e8ca\"}, \"mark\": \"bar\", \"encoding\": {\"tooltip\": [{\"field\": \"count_rows\", \"title\": \"Count in bin\", \"type\": \"quantitative\"}], \"x\": {\"axis\": {\"title\": \"Match weight\"}, \"bin\": \"binned\", \"field\": \"splink_score_bin_low\", \"type\": \"quantitative\"}, \"x2\": {\"field\": \"splink_score_bin_high\"}, \"y\": {\"axis\": {\"title\": \"Count of record comparisons in bin\"}, \"field\": \"count_rows\", \"type\": \"quantitative\"}}, \"height\": 250, \"params\": [{\"name\": \"mouse_zoom\", \"select\": {\"type\": \"interval\", \"encodings\": [\"y\"]}, \"bind\": \"scales\"}], \"title\": {\"text\": \"Histogram of match weights\", \"subtitle\": \"Use mousewheel to zoom\"}, \"width\": 600, \"$schema\": \"https://vega.github.io/schema/vega-lite/v5.9.3.json\", \"datasets\": {\"data-a1cec394be8e57caedbd561143f1e8ca\": [{\"splink_score_bin_low\": -32.0, \"binwidth\": 2, \"count_rows\": 14208, \"splink_score_bin_high\": -30.0}, {\"splink_score_bin_low\": -28.0, \"binwidth\": 2, \"count_rows\": 51674, \"splink_score_bin_high\": -26.0}, {\"splink_score_bin_low\": -26.0, \"binwidth\": 2, \"count_rows\": 439, \"splink_score_bin_high\": -24.0}, {\"splink_score_bin_low\": -22.0, \"binwidth\": 2, \"count_rows\": 679246, \"splink_score_bin_high\": -20.0}, {\"splink_score_bin_low\": -20.0, \"binwidth\": 2, \"count_rows\": 79, \"splink_score_bin_high\": -18.0}, {\"splink_score_bin_low\": -18.0, \"binwidth\": 2, \"count_rows\": 51117, \"splink_score_bin_high\": -16.0}, {\"splink_score_bin_low\": -16.0, \"binwidth\": 2, \"count_rows\": 148417, \"splink_score_bin_high\": -14.0}, {\"splink_score_bin_low\": -14.0, \"binwidth\": 2, \"count_rows\": 47023, \"splink_score_bin_high\": -12.0}, {\"splink_score_bin_low\": -12.0, \"binwidth\": 2, \"count_rows\": 8684, \"splink_score_bin_high\": -10.0}, {\"splink_score_bin_low\": -10.0, \"binwidth\": 2, \"count_rows\": 3378, \"splink_score_bin_high\": -8.0}, {\"splink_score_bin_low\": -8.0, \"binwidth\": 2, \"count_rows\": 489, \"splink_score_bin_high\": -6.0}, {\"splink_score_bin_low\": -6.0, \"binwidth\": 2, \"count_rows\": 1435, \"splink_score_bin_high\": -4.0}, {\"splink_score_bin_low\": -4.0, \"binwidth\": 2, \"count_rows\": 47449, \"splink_score_bin_high\": -2.0}, {\"splink_score_bin_low\": -2.0, \"binwidth\": 2, \"count_rows\": 1306, \"splink_score_bin_high\": 0.0}, {\"splink_score_bin_low\": 0.0, \"binwidth\": 2, \"count_rows\": 4, \"splink_score_bin_high\": 2.0}, {\"splink_score_bin_low\": 2.0, \"binwidth\": 2, \"count_rows\": 483, \"splink_score_bin_high\": 4.0}, {\"splink_score_bin_low\": 4.0, \"binwidth\": 2, \"count_rows\": 19, \"splink_score_bin_high\": 6.0}, {\"splink_score_bin_low\": 6.0, \"binwidth\": 2, \"count_rows\": 470, \"splink_score_bin_high\": 8.0}, {\"splink_score_bin_low\": 8.0, \"binwidth\": 2, \"count_rows\": 210, \"splink_score_bin_high\": 10.0}, {\"splink_score_bin_low\": 12.0, \"binwidth\": 2, \"count_rows\": 1787, \"splink_score_bin_high\": 14.0}, {\"splink_score_bin_low\": 14.0, \"binwidth\": 2, \"count_rows\": 284, \"splink_score_bin_high\": 16.0}, {\"splink_score_bin_low\": 16.0, \"binwidth\": 2, \"count_rows\": 63, \"splink_score_bin_high\": 18.0}, {\"splink_score_bin_low\": 20.0, \"binwidth\": 2, \"count_rows\": 905, \"splink_score_bin_high\": 22.0}, {\"splink_score_bin_low\": 22.0, \"binwidth\": 2, \"count_rows\": 9224, \"splink_score_bin_high\": 24.0}]}}, {\"mode\": \"vega-lite\"});\n",
       "</script>"
      ],
      "text/plain": [
       "alt.Chart(...)"
      ]
     },
     "execution_count": 15,
     "metadata": {},
     "output_type": "execute_result"
    }
   ],
   "source": [
    "linker.match_weights_histogram(linker.predict())"
   ]
  },
  {
   "cell_type": "code",
   "execution_count": 31,
   "metadata": {},
   "outputs": [
    {
     "data": {
      "application/vnd.jupyter.widget-view+json": {
       "model_id": "d7f6f2d5ecf247d9937522d361c8bfc7",
       "version_major": 2,
       "version_minor": 0
      },
      "text/plain": [
       "FloatProgress(value=0.0, layout=Layout(width='auto'), style=ProgressStyle(bar_color='black'))"
      ]
     },
     "metadata": {},
     "output_type": "display_data"
    },
    {
     "name": "stderr",
     "output_type": "stream",
     "text": [
      "\n",
      " -- WARNING --\n",
      "You have called predict(), but there are some parameter estimates which have neither been estimated or specified in your settings dictionary.  To produce predictions the following untrained trained parameters will use default values.\n",
      "Comparison: 'syn_g1_firstname':\n",
      "    m values not fully trained\n"
     ]
    }
   ],
   "source": [
    "results = linker.predict()\n",
    "results.as_pandas_dataframe(limit = 5)\n",
    "prob_linkage = results.as_pandas_dataframe()\n",
    "prob_linkage.to_csv(f\"linkage_outputs\\\\scen2\\\\dataset{data_set}\\\\probabilistic_nothreshold.csv\")"
   ]
  },
  {
   "cell_type": "code",
   "execution_count": 11,
   "metadata": {},
   "outputs": [
    {
     "data": {
      "application/vnd.jupyter.widget-view+json": {
       "model_id": "d7d8990316004efb8ac6c4bb07227e51",
       "version_major": 2,
       "version_minor": 0
      },
      "text/plain": [
       "FloatProgress(value=0.0, layout=Layout(width='auto'), style=ProgressStyle(bar_color='black'))"
      ]
     },
     "metadata": {},
     "output_type": "display_data"
    },
    {
     "data": {
      "application/vnd.jupyter.widget-view+json": {
       "model_id": "65d99962a1d948a4a8027afd29166db9",
       "version_major": 2,
       "version_minor": 0
      },
      "text/plain": [
       "FloatProgress(value=0.0, layout=Layout(width='auto'), style=ProgressStyle(bar_color='black'))"
      ]
     },
     "metadata": {},
     "output_type": "display_data"
    },
    {
     "data": {
      "application/vnd.jupyter.widget-view+json": {
       "model_id": "c1105b55a3d34e6386f34169031eea51",
       "version_major": 2,
       "version_minor": 0
      },
      "text/plain": [
       "FloatProgress(value=0.0, layout=Layout(width='auto'), style=ProgressStyle(bar_color='black'))"
      ]
     },
     "metadata": {},
     "output_type": "display_data"
    },
    {
     "data": {
      "application/vnd.jupyter.widget-view+json": {
       "model_id": "9985b77a67e64a718cd1241b82c6750a",
       "version_major": 2,
       "version_minor": 0
      },
      "text/plain": [
       "FloatProgress(value=0.0, layout=Layout(width='auto'), style=ProgressStyle(bar_color='black'))"
      ]
     },
     "metadata": {},
     "output_type": "display_data"
    },
    {
     "data": {
      "application/vnd.jupyter.widget-view+json": {
       "model_id": "1dca0e3d211c4b5b8fe3cbdfa13ea4a2",
       "version_major": 2,
       "version_minor": 0
      },
      "text/plain": [
       "FloatProgress(value=0.0, layout=Layout(width='auto'), style=ProgressStyle(bar_color='black'))"
      ]
     },
     "metadata": {},
     "output_type": "display_data"
    },
    {
     "data": {
      "application/vnd.jupyter.widget-view+json": {
       "model_id": "56123537cd6542749e9bf66f92d682bf",
       "version_major": 2,
       "version_minor": 0
      },
      "text/plain": [
       "FloatProgress(value=0.0, layout=Layout(width='auto'), style=ProgressStyle(bar_color='black'))"
      ]
     },
     "metadata": {},
     "output_type": "display_data"
    },
    {
     "data": {
      "application/vnd.jupyter.widget-view+json": {
       "model_id": "1cc0cf822a144a5ebb8b23dad3de7680",
       "version_major": 2,
       "version_minor": 0
      },
      "text/plain": [
       "FloatProgress(value=0.0, layout=Layout(width='auto'), style=ProgressStyle(bar_color='black'))"
      ]
     },
     "metadata": {},
     "output_type": "display_data"
    }
   ],
   "source": [
    "# With threshold\n",
    "threshold_values = [-0.22, 0.00000001, 2, 3, 4, 5, 6]\n",
    "for v in threshold_values:\n",
    "    results = linker.predict(threshold_match_weight = v)\n",
    "    prob_linkage = results.as_pandas_dataframe()\n",
    "    file_name = f\"linkage_outputs//scen2//dataset{data_set}//probabilistic_threshold_{v}.csv\"\n",
    "    prob_linkage.to_csv(file_name)"
   ]
  },
  {
   "cell_type": "code",
   "execution_count": 11,
   "metadata": {
    "scrolled": true
   },
   "outputs": [
    {
     "data": {
      "application/vnd.jupyter.widget-view+json": {
       "model_id": "436b26af0dc1417096bec9da4d6eac6c",
       "version_major": 2,
       "version_minor": 0
      },
      "text/plain": [
       "FloatProgress(value=0.0, layout=Layout(width='auto'), style=ProgressStyle(bar_color='black'))"
      ]
     },
     "metadata": {},
     "output_type": "display_data"
    },
    {
     "data": {
      "text/html": [
       "\n",
       "        <iframe\n",
       "            width=\"100%\"\n",
       "            height=\"1200\"\n",
       "            src=\"./scv.html\"\n",
       "            frameborder=\"0\"\n",
       "            allowfullscreen\n",
       "            \n",
       "        ></iframe>\n",
       "        "
      ],
      "text/plain": [
       "<IPython.lib.display.IFrame at 0x214d2319c60>"
      ]
     },
     "execution_count": 11,
     "metadata": {},
     "output_type": "execute_result"
    }
   ],
   "source": [
    "df_predictions = linker.predict()\n",
    "\n",
    "linker.comparison_viewer_dashboard(df_predictions, \"scv.html\", overwrite=True)\n",
    "\n",
    "# You can view the scv.html file in your browser, or inline in a notbook as follows\n",
    "from IPython.display import IFrame\n",
    "IFrame(\n",
    "    src=\"./scv.html\", width=\"100%\", height=1200\n",
    ")  "
   ]
  },
  {
   "cell_type": "code",
   "execution_count": null,
   "metadata": {},
   "outputs": [],
   "source": [
    "df_predictions = linker.predict(threshold_match_weight= 11)\n",
    "\n",
    "linker.comparison_viewer_dashboard(df_predictions, \"scv.html\", overwrite=True)\n",
    "\n",
    "# You can view the scv.html file in your browser, or inline in a notbook as follows\n",
    "from IPython.display import IFrame\n",
    "IFrame(\n",
    "    src=\"./scv.html\", width=\"100%\", height=1200\n",
    ")  "
   ]
  },
  {
   "cell_type": "code",
   "execution_count": 32,
   "metadata": {},
   "outputs": [],
   "source": [
    "# Scenario 3\n",
    "import splink.duckdb.comparison_library as cl\n",
    "import splink.duckdb.comparison_template_library as ctl\n",
    "import splink.duckdb.comparison_level_library as cll\n",
    "# Define Comparisons \n",
    "tfcomparison_syn_g1_first_name = {\n",
    "    \"output_column_name\": \"syn_g1_firstname\",\n",
    "    \"comparison_description\": \"G1 First name jaro winkler\",\n",
    "    \"comparison_levels\": [\n",
    "        {\n",
    "            \"sql_condition\": \"syn_g1_firstname_l IS NULL OR syn_g1_firstname_r IS NULL\",\n",
    "            \"label_for_charts\": \"Null\",\n",
    "            \"is_null_level\": True,\n",
    "        },\n",
    "        {\n",
    "            \"sql_condition\": \"syn_g1_firstname_l = syn_g1_firstname_r\",\n",
    "            \"label_for_charts\": \"Exact match\",\n",
    "            \"tf_adjustment_column\": \"syn_g1_firstname\",\n",
    "            \"tf_adjustment_weight\": 1.0,\n",
    "            \"tf_minimum_u_value\": 0.001,\n",
    "        },\n",
    "        {\n",
    "            \"sql_condition\": 'jaro_winkler_similarity(\"syn_g1_firstname_l\", \"syn_g1_firstname_r\") >= 0.8',\n",
    "            \"label_for_charts\": \"Jaro_winkler_similarity 0.8\",\n",
    "            \"tf_adjustment_column\": \"syn_g1_firstname\",\n",
    "            \"tf_adjustment_weight\": 0.5,\n",
    "            \"tf_minimum_u_value\": 0.001,\n",
    "\n",
    "        },\n",
    "        {\"sql_condition\": \"ELSE\", \"label_for_charts\": \"All other comparisons\"},\n",
    "    ],\n",
    "}\n",
    "\n",
    "tfcomparison_syn_g0_surname = {\n",
    "    \"output_column_name\": \"syn_g0_surname\",\n",
    "    \"comparison_description\": \"G0 surname jaro winkler\",\n",
    "    \"comparison_levels\": [\n",
    "        {\n",
    "            \"sql_condition\": \"syn_g0_surname_l IS NULL OR syn_g0_surname_r IS NULL\",\n",
    "            \"label_for_charts\": \"Null\",\n",
    "            \"is_null_level\": True,\n",
    "        },\n",
    "        {\n",
    "            \"sql_condition\": \"syn_g0_surname_l = syn_g0_surname_r\",\n",
    "            \"label_for_charts\": \"Exact match\",\n",
    "             \"tf_adjustment_column\": \"syn_g0_surname\",\n",
    "            \"tf_adjustment_weight\": 1.0,\n",
    "            \"tf_minimum_u_value\": 0.001,\n",
    "        },\n",
    "        {\n",
    "            \"sql_condition\": 'jaro_winkler_similarity(\"syn_g0_surname_l\", \"syn_g0_surname_r\") >= 0.8',\n",
    "            \"label_for_charts\": \"Jaro_winkler_similarity 0.8\",\n",
    "            \"tf_adjustment_column\": \"syn_g0_surname\",\n",
    "            \"tf_adjustment_weight\": 0.5,\n",
    "            \"tf_minimum_u_value\": 0.001,\n",
    "\n",
    "        },\n",
    "        {\"sql_condition\": \"ELSE\", \"label_for_charts\": \"All other comparisons\"},\n",
    "    ],\n",
    "}\n",
    "\n",
    "tfcomparison_syn_g1_surname = {\n",
    "    \"output_column_name\": \"syn_g1_surname\",\n",
    "    \"comparison_description\": \"G1 surname jaro winkler\",\n",
    "    \"comparison_levels\": [\n",
    "        {\n",
    "            \"sql_condition\": \"syn_g1_surname_l IS NULL OR syn_g1_surname_r IS NULL\",\n",
    "            \"label_for_charts\": \"Null\",\n",
    "            \"is_null_level\": True,\n",
    "        },\n",
    "        {\n",
    "            \"sql_condition\": \"syn_g1_surname_l = syn_g1_surname_r\",\n",
    "            \"label_for_charts\": \"Exact match\",\n",
    "            \"tf_adjustment_column\": \"syn_g1_surname\",\n",
    "            \"tf_adjustment_weight\": 1.0,\n",
    "            \"tf_minimum_u_value\": 0.001,\n",
    "        },\n",
    "        {\n",
    "            \"sql_condition\": 'jaro_winkler_similarity(\"syn_g1_surname_l\", \"syn_g1_surname_r\") >= 0.8',\n",
    "            \"label_for_charts\": \"Jaro_winkler_similarity 0.8\",     \n",
    "            \"tf_adjustment_column\": \"syn_g1_surname\",\n",
    "            \"tf_adjustment_weight\": 0.5,\n",
    "            \"tf_minimum_u_value\": 0.001,\n",
    "\n",
    "        },\n",
    "        {\"sql_condition\": \"ELSE\", \"label_for_charts\": \"All other comparisons\"},\n",
    "    ],\n",
    "}\n",
    "\n",
    "comparison_date = {\n",
    "    \"output_column_name\": \"g1_dob_arc1\",\n",
    "    \"comparison_description\": \"exact match vs anything else\",\n",
    "    \"comparison_levels\": [\n",
    "        cll.null_level(\"g1_dob_arc1\"),\n",
    "        cll.exact_match_level(\"g1_dob_arc1\", m_probability =  0.999),\n",
    "        cll.else_level(m_probability = 0.001),\n",
    "    ],\n",
    "}\n",
    "\n",
    "comparison_gender = {\n",
    "    \"output_column_name\": \"g1_gender_arc\",\n",
    "    \"comparison_description\": \"exact match vs anything else\",\n",
    "    \"comparison_levels\": [\n",
    "        cll.null_level(\"g1_gender_arc\"),\n",
    "        cll.exact_match_level(\"g1_gender_arc\", m_probability =  0.999),\n",
    "        cll.else_level(m_probability = 0.001),\n",
    "    ],\n",
    "}\n",
    "\n",
    "\n"
   ]
  },
  {
   "cell_type": "code",
   "execution_count": 33,
   "metadata": {},
   "outputs": [],
   "source": [
    "# Scenario 3,  probabilistic linkage with term frequency adjustment\n",
    "from splink.duckdb.blocking_rule_library import block_on\n",
    "settings_prob_tf = {\n",
    "    \"link_type\": \"link_only\",\n",
    "    \"probability_two_random_records_match\": 1/13281,\n",
    "    \"blocking_rules_to_generate_predictions\":[     \n",
    "        block_on([\"syn_g1_firstname\"]),\n",
    "        block_on([\"syn_g1_surname\"]),\n",
    "        block_on([\"syn_g0_surname\"]),\n",
    "        block_on([\"g1_dob_arc1\", \"g1_gender_arc\"]),\n",
    "    ],  \n",
    "    \"comparisons\":[\n",
    "        tfcomparison_syn_g1_first_name,\n",
    "        tfcomparison_syn_g1_surname,\n",
    "        tfcomparison_syn_g0_surname,\n",
    "        comparison_date,\n",
    "        comparison_gender,      \n",
    "    ],\n",
    "    \"retain_matching_columns\":True,\n",
    "    \"retain_intermediate_calculation_columns\":True,\n",
    "    \"additional_columns_to_retain\": [\n",
    "        \"ethgroup\",\n",
    "        \"imddecile\",\n",
    "        \"maternal_agecat\",\n",
    "    ]\n",
    "}\n",
    "\n",
    "linker = DuckDBLinker(\n",
    "    [gold_df, df],\n",
    "    settings_dict= settings_prob_tf,\n",
    "    input_table_aliases=[\"df_left\",\"df_right\"]\n",
    ")\n",
    "\n",
    "\n",
    "#linker.save_model_to_json(out_path = \"linkage_outputs\\\\scenario2_dataset2\\\\probablistic_linkage_tf_settings.json\", overwrite = True)\n"
   ]
  },
  {
   "cell_type": "code",
   "execution_count": 34,
   "metadata": {},
   "outputs": [
    {
     "name": "stderr",
     "output_type": "stream",
     "text": [
      "----- Estimating u probabilities using random sampling -----\n"
     ]
    },
    {
     "data": {
      "application/vnd.jupyter.widget-view+json": {
       "model_id": "9b54a089de844dd7a813ca591c9262c7",
       "version_major": 2,
       "version_minor": 0
      },
      "text/plain": [
       "FloatProgress(value=0.0, layout=Layout(width='auto'), style=ProgressStyle(bar_color='black'))"
      ]
     },
     "metadata": {},
     "output_type": "display_data"
    },
    {
     "name": "stderr",
     "output_type": "stream",
     "text": [
      "\n",
      "Estimated u probabilities using random sampling\n",
      "\n",
      "Your model is not yet fully trained. Missing estimates for:\n",
      "    - syn_g1_firstname (no m values are trained).\n",
      "    - syn_g1_surname (no m values are trained).\n",
      "    - syn_g0_surname (no m values are trained).\n"
     ]
    }
   ],
   "source": [
    "# Estimate U using random sampling\n",
    "linker.estimate_u_using_random_sampling(max_pairs=2e7, seed = 1)\n"
   ]
  },
  {
   "cell_type": "code",
   "execution_count": 35,
   "metadata": {},
   "outputs": [
    {
     "name": "stderr",
     "output_type": "stream",
     "text": [
      "------- Estimating m probabilities using from column unique_id -------\n",
      "m probability not trained for syn_g1_firstname - Jaro_winkler_similarity 0.8 (comparison vector value: 1). This usually means the comparison level was never observed in the training data.\n",
      "m probability not trained for g1_dob_arc1 - All other comparisons (comparison vector value: 0). This usually means the comparison level was never observed in the training data.\n",
      "m probability not trained for g1_gender_arc - All other comparisons (comparison vector value: 0). This usually means the comparison level was never observed in the training data.\n",
      "\n",
      "Your model is not yet fully trained. Missing estimates for:\n",
      "    - syn_g1_firstname (some m values are not trained).\n"
     ]
    }
   ],
   "source": [
    "# Use labelled data for m probability.\n",
    "linker.estimate_m_from_label_column(\"unique_id\")"
   ]
  },
  {
   "cell_type": "code",
   "execution_count": 33,
   "metadata": {},
   "outputs": [
    {
     "name": "stderr",
     "output_type": "stream",
     "text": [
      "C:\\Users\\uctvjla\\OneDrive - University College London\\Desktop\\splink\\splink_synthetic_data-main\\venv\\lib\\site-packages\\splink\\linker.py:3343: UserWarning: Values [None] from `vals_to_include` were not found in the dataset so are not included in the chart.\n",
      "  return tf_adjustment_chart(\n"
     ]
    },
    {
     "data": {
      "text/html": [
       "\n",
       "<style>\n",
       "  #altair-viz-a7cfae5219934ab885bea459402eb894.vega-embed {\n",
       "    width: 100%;\n",
       "    display: flex;\n",
       "  }\n",
       "\n",
       "  #altair-viz-a7cfae5219934ab885bea459402eb894.vega-embed details,\n",
       "  #altair-viz-a7cfae5219934ab885bea459402eb894.vega-embed details summary {\n",
       "    position: relative;\n",
       "  }\n",
       "</style>\n",
       "<div id=\"altair-viz-a7cfae5219934ab885bea459402eb894\"></div>\n",
       "<script type=\"text/javascript\">\n",
       "  var VEGA_DEBUG = (typeof VEGA_DEBUG == \"undefined\") ? {} : VEGA_DEBUG;\n",
       "  (function(spec, embedOpt){\n",
       "    let outputDiv = document.currentScript.previousElementSibling;\n",
       "    if (outputDiv.id !== \"altair-viz-a7cfae5219934ab885bea459402eb894\") {\n",
       "      outputDiv = document.getElementById(\"altair-viz-a7cfae5219934ab885bea459402eb894\");\n",
       "    }\n",
       "    const paths = {\n",
       "      \"vega\": \"https://cdn.jsdelivr.net/npm/vega@5?noext\",\n",
       "      \"vega-lib\": \"https://cdn.jsdelivr.net/npm/vega-lib?noext\",\n",
       "      \"vega-lite\": \"https://cdn.jsdelivr.net/npm/vega-lite@5.8.0?noext\",\n",
       "      \"vega-embed\": \"https://cdn.jsdelivr.net/npm/vega-embed@6?noext\",\n",
       "    };\n",
       "\n",
       "    function maybeLoadScript(lib, version) {\n",
       "      var key = `${lib.replace(\"-\", \"\")}_version`;\n",
       "      return (VEGA_DEBUG[key] == version) ?\n",
       "        Promise.resolve(paths[lib]) :\n",
       "        new Promise(function(resolve, reject) {\n",
       "          var s = document.createElement('script');\n",
       "          document.getElementsByTagName(\"head\")[0].appendChild(s);\n",
       "          s.async = true;\n",
       "          s.onload = () => {\n",
       "            VEGA_DEBUG[key] = version;\n",
       "            return resolve(paths[lib]);\n",
       "          };\n",
       "          s.onerror = () => reject(`Error loading script: ${paths[lib]}`);\n",
       "          s.src = paths[lib];\n",
       "        });\n",
       "    }\n",
       "\n",
       "    function showError(err) {\n",
       "      outputDiv.innerHTML = `<div class=\"error\" style=\"color:red;\">${err}</div>`;\n",
       "      throw err;\n",
       "    }\n",
       "\n",
       "    function displayChart(vegaEmbed) {\n",
       "      vegaEmbed(outputDiv, spec, embedOpt)\n",
       "        .catch(err => showError(`Javascript Error: ${err.message}<br>This usually means there's a typo in your chart specification. See the javascript console for the full traceback.`));\n",
       "    }\n",
       "\n",
       "    if(typeof define === \"function\" && define.amd) {\n",
       "      requirejs.config({paths});\n",
       "      require([\"vega-embed\"], displayChart, err => showError(`Error loading script: ${err.message}`));\n",
       "    } else {\n",
       "      maybeLoadScript(\"vega\", \"5\")\n",
       "        .then(() => maybeLoadScript(\"vega-lite\", \"5.8.0\"))\n",
       "        .then(() => maybeLoadScript(\"vega-embed\", \"6\"))\n",
       "        .catch(showError)\n",
       "        .then(() => displayChart(vegaEmbed));\n",
       "    }\n",
       "  })({\"config\": {\"view\": {\"continuousWidth\": 300, \"continuousHeight\": 300}, \"params\": [{\"name\": \"gamma_sel\", \"bind\": {\"input\": \"select\", \"options\": [2, 1], \"labels\": [\"Exact match (TF col: syn_g1_surname)\", \"Jaro_winkler_similarity 0.8 (TF col: syn_g1_surname)\"], \"name\": \"Gamma level:\"}, \"value\": 2}]}, \"hconcat\": [{\"layer\": [{\"mark\": {\"type\": \"point\", \"filled\": true, \"size\": 100, \"stroke\": \"black\", \"strokeWidth\": 1}, \"encoding\": {\"color\": {\"field\": \"log2_bf_tf\", \"scale\": {\"domain\": [-2.5, 2.5], \"scheme\": \"redyellowgreen\"}, \"title\": \"TF adjustment weight\", \"type\": \"quantitative\"}, \"tooltip\": [{\"field\": \"value\", \"title\": \"Value\", \"type\": \"nominal\"}, {\"field\": \"log2_bf\", \"format\": \"+.3\", \"title\": \"Match weight\", \"type\": \"quantitative\"}, {\"field\": \"log2_bf_tf\", \"format\": \"+.3\", \"title\": \"TF adjusted match weight\", \"type\": \"quantitative\"}, {\"field\": \"log2_bf_final\", \"format\": \"+.3\", \"title\": \"Final match weight\", \"type\": \"quantitative\"}], \"x\": {\"axis\": {\"labelAngle\": -60, \"labelFontSize\": 16, \"titleFontSize\": 20}, \"field\": \"value\", \"sort\": {\"field\": \"log2_bf_final\", \"order\": \"ascending\"}, \"title\": \"TF column value\", \"type\": \"nominal\"}, \"y\": {\"axis\": {\"format\": \"+\", \"labelFontSize\": 16, \"titleFontSize\": 18, \"values\": [-5, -4, -3, -2, -1, 0, 1, 2, 3, 4, 5, 6, 7, 8, 9, 10, 11, 12, 13, 14, 15, 16, 17, 18, 19, 20]}, \"field\": \"log2_bf_final\", \"title\": \"Match weight\", \"type\": \"quantitative\"}}}, {\"mark\": \"rule\", \"encoding\": {\"y\": {\"field\": \"log2_bf\", \"type\": \"quantitative\"}}, \"transform\": [{\"filter\": \"datum.gamma == gamma_sel\"}]}, {\"mark\": {\"type\": \"rule\", \"opacity\": 0.5, \"strokeWidth\": 2}, \"encoding\": {\"color\": {\"field\": \"log2_bf_tf\", \"legend\": null, \"scale\": {\"domain\": [-2.5, 2.5], \"scheme\": \"redyellowgreen\"}, \"title\": \"TF adjustment weight\", \"type\": \"quantitative\"}, \"x\": {\"field\": \"value\", \"sort\": {\"field\": \"log2_bf_final\", \"order\": \"ascending\"}, \"title\": \"TF column value\", \"type\": \"nominal\"}, \"y\": {\"field\": \"log2_bf_final\", \"type\": \"quantitative\"}, \"y2\": {\"type\": \"quantitative\"}}, \"transform\": [{\"filter\": \"datum.gamma == gamma_sel\"}]}], \"data\": {\"name\": \"data\"}, \"height\": 400, \"transform\": [{\"filter\": \"datum.gamma == gamma_sel\"}], \"width\": {\"step\": 20}}, {\"mark\": {\"type\": \"bar\", \"fillOpacity\": 0.8, \"filled\": true, \"stroke\": \"black\", \"strokeWidth\": 1}, \"data\": {\"name\": \"hist\"}, \"encoding\": {\"color\": {\"field\": \"log2_bf_tf\", \"legend\": null, \"scale\": {\"domain\": [-2.5, 2.5], \"scheme\": \"redyellowgreen\"}, \"title\": \"TF adjustment weight\", \"type\": \"quantitative\"}, \"tooltip\": [{\"field\": \"log2_bf_desc\", \"title\": \"Match weight\"}, {\"field\": \"count\", \"title\": \"Number of values\"}], \"x\": {\"axis\": {\"domain\": false, \"gridOpacity\": 0.5, \"labelAlign\": \"center\", \"labelFontSize\": 12, \"labelOpacity\": 0.5, \"labelOverlap\": true, \"ticks\": false, \"title\": \"Count of values\", \"titleFontSize\": 12, \"titleOpacity\": 0.5}, \"field\": \"count\", \"type\": \"quantitative\"}, \"y\": {\"axis\": null, \"bin\": {\"step\": 0.5}, \"field\": \"log2_bf_final\", \"type\": \"quantitative\"}}, \"transform\": [{\"filter\": {\"or\": [\"datum.gamma == gamma_sel\", {\"field\": \"gamma\", \"valid\": false}]}}], \"view\": {\"stroke\": \"transparent\"}, \"width\": 100}], \"datasets\": {\"data\": [{\"value\": \"dell\", \"tf\": 3.7647767487387995e-05, \"label_for_charts\": \"Exact match\", \"u_probability\": 0.0009868130839839702, \"tf_col\": \"syn_g1_surname\", \"tf_adjustment_weight\": 1.0, \"log2_bf\": 9.879381723092342, \"gamma\": 2, \"log2_bf_tf\": 4.712140623478393, \"log2_bf_final\": 14.591522346570734, \"most_freq_rank\": 6327, \"least_freq_rank\": 0}, {\"value\": \"dell\", \"tf\": 3.7647767487387995e-05, \"label_for_charts\": \"Jaro_winkler_similarity 0.8\", \"u_probability\": 0.0037757151379461586, \"tf_col\": \"syn_g1_surname\", \"tf_adjustment_weight\": 0.5, \"log2_bf\": 1.5118295391756678, \"gamma\": 1, \"log2_bf_tf\": 3.324020898801361, \"log2_bf_final\": 4.835850437977029, \"most_freq_rank\": 6327, \"least_freq_rank\": 0}, {\"value\": \"portrey morrison\", \"tf\": 3.7647767487387995e-05, \"label_for_charts\": \"Jaro_winkler_similarity 0.8\", \"u_probability\": 0.0037757151379461586, \"tf_col\": \"syn_g1_surname\", \"tf_adjustment_weight\": 0.5, \"log2_bf\": 1.5118295391756678, \"gamma\": 1, \"log2_bf_tf\": 3.324020898801361, \"log2_bf_final\": 4.835850437977029, \"most_freq_rank\": 6326, \"least_freq_rank\": 1}, {\"value\": \"portrey morrison\", \"tf\": 3.7647767487387995e-05, \"label_for_charts\": \"Exact match\", \"u_probability\": 0.0009868130839839702, \"tf_col\": \"syn_g1_surname\", \"tf_adjustment_weight\": 1.0, \"log2_bf\": 9.879381723092342, \"gamma\": 2, \"log2_bf_tf\": 4.712140623478393, \"log2_bf_final\": 14.591522346570734, \"most_freq_rank\": 6326, \"least_freq_rank\": 1}, {\"value\": \"bays langdon\", \"tf\": 3.7647767487387995e-05, \"label_for_charts\": \"Exact match\", \"u_probability\": 0.0009868130839839702, \"tf_col\": \"syn_g1_surname\", \"tf_adjustment_weight\": 1.0, \"log2_bf\": 9.879381723092342, \"gamma\": 2, \"log2_bf_tf\": 4.712140623478393, \"log2_bf_final\": 14.591522346570734, \"most_freq_rank\": 6325, \"least_freq_rank\": 2}, {\"value\": \"bays langdon\", \"tf\": 3.7647767487387995e-05, \"label_for_charts\": \"Jaro_winkler_similarity 0.8\", \"u_probability\": 0.0037757151379461586, \"tf_col\": \"syn_g1_surname\", \"tf_adjustment_weight\": 0.5, \"log2_bf\": 1.5118295391756678, \"gamma\": 1, \"log2_bf_tf\": 3.324020898801361, \"log2_bf_final\": 4.835850437977029, \"most_freq_rank\": 6325, \"least_freq_rank\": 2}, {\"value\": \"brooks\", \"tf\": 3.7647767487387995e-05, \"label_for_charts\": \"Jaro_winkler_similarity 0.8\", \"u_probability\": 0.0037757151379461586, \"tf_col\": \"syn_g1_surname\", \"tf_adjustment_weight\": 0.5, \"log2_bf\": 1.5118295391756678, \"gamma\": 1, \"log2_bf_tf\": 3.324020898801361, \"log2_bf_final\": 4.835850437977029, \"most_freq_rank\": 6324, \"least_freq_rank\": 3}, {\"value\": \"brooks\", \"tf\": 3.7647767487387995e-05, \"label_for_charts\": \"Exact match\", \"u_probability\": 0.0009868130839839702, \"tf_col\": \"syn_g1_surname\", \"tf_adjustment_weight\": 1.0, \"log2_bf\": 9.879381723092342, \"gamma\": 2, \"log2_bf_tf\": 4.712140623478393, \"log2_bf_final\": 14.591522346570734, \"most_freq_rank\": 6324, \"least_freq_rank\": 3}, {\"value\": \"yevseichev\", \"tf\": 3.7647767487387995e-05, \"label_for_charts\": \"Jaro_winkler_similarity 0.8\", \"u_probability\": 0.0037757151379461586, \"tf_col\": \"syn_g1_surname\", \"tf_adjustment_weight\": 0.5, \"log2_bf\": 1.5118295391756678, \"gamma\": 1, \"log2_bf_tf\": 3.324020898801361, \"log2_bf_final\": 4.835850437977029, \"most_freq_rank\": 6323, \"least_freq_rank\": 4}, {\"value\": \"yevseichev\", \"tf\": 3.7647767487387995e-05, \"label_for_charts\": \"Exact match\", \"u_probability\": 0.0009868130839839702, \"tf_col\": \"syn_g1_surname\", \"tf_adjustment_weight\": 1.0, \"log2_bf\": 9.879381723092342, \"gamma\": 2, \"log2_bf_tf\": 4.712140623478393, \"log2_bf_final\": 14.591522346570734, \"most_freq_rank\": 6323, \"least_freq_rank\": 4}, {\"value\": \"yelisieiev\", \"tf\": 3.7647767487387995e-05, \"label_for_charts\": \"Jaro_winkler_similarity 0.8\", \"u_probability\": 0.0037757151379461586, \"tf_col\": \"syn_g1_surname\", \"tf_adjustment_weight\": 0.5, \"log2_bf\": 1.5118295391756678, \"gamma\": 1, \"log2_bf_tf\": 3.324020898801361, \"log2_bf_final\": 4.835850437977029, \"most_freq_rank\": 6322, \"least_freq_rank\": 5}, {\"value\": \"yelisieiev\", \"tf\": 3.7647767487387995e-05, \"label_for_charts\": \"Exact match\", \"u_probability\": 0.0009868130839839702, \"tf_col\": \"syn_g1_surname\", \"tf_adjustment_weight\": 1.0, \"log2_bf\": 9.879381723092342, \"gamma\": 2, \"log2_bf_tf\": 4.712140623478393, \"log2_bf_final\": 14.591522346570734, \"most_freq_rank\": 6322, \"least_freq_rank\": 5}, {\"value\": \"ond\\u0159ej\", \"tf\": 3.7647767487387995e-05, \"label_for_charts\": \"Exact match\", \"u_probability\": 0.0009868130839839702, \"tf_col\": \"syn_g1_surname\", \"tf_adjustment_weight\": 1.0, \"log2_bf\": 9.879381723092342, \"gamma\": 2, \"log2_bf_tf\": 4.712140623478393, \"log2_bf_final\": 14.591522346570734, \"most_freq_rank\": 6321, \"least_freq_rank\": 6}, {\"value\": \"ond\\u0159ej\", \"tf\": 3.7647767487387995e-05, \"label_for_charts\": \"Jaro_winkler_similarity 0.8\", \"u_probability\": 0.0037757151379461586, \"tf_col\": \"syn_g1_surname\", \"tf_adjustment_weight\": 0.5, \"log2_bf\": 1.5118295391756678, \"gamma\": 1, \"log2_bf_tf\": 3.324020898801361, \"log2_bf_final\": 4.835850437977029, \"most_freq_rank\": 6321, \"least_freq_rank\": 6}, {\"value\": \"st\\u00e5hl\", \"tf\": 3.7647767487387995e-05, \"label_for_charts\": \"Jaro_winkler_similarity 0.8\", \"u_probability\": 0.0037757151379461586, \"tf_col\": \"syn_g1_surname\", \"tf_adjustment_weight\": 0.5, \"log2_bf\": 1.5118295391756678, \"gamma\": 1, \"log2_bf_tf\": 3.324020898801361, \"log2_bf_final\": 4.835850437977029, \"most_freq_rank\": 6320, \"least_freq_rank\": 7}, {\"value\": \"st\\u00e5hl\", \"tf\": 3.7647767487387995e-05, \"label_for_charts\": \"Exact match\", \"u_probability\": 0.0009868130839839702, \"tf_col\": \"syn_g1_surname\", \"tf_adjustment_weight\": 1.0, \"log2_bf\": 9.879381723092342, \"gamma\": 2, \"log2_bf_tf\": 4.712140623478393, \"log2_bf_final\": 14.591522346570734, \"most_freq_rank\": 6320, \"least_freq_rank\": 7}, {\"value\": \"vesel\\u00e1\", \"tf\": 3.7647767487387995e-05, \"label_for_charts\": \"Exact match\", \"u_probability\": 0.0009868130839839702, \"tf_col\": \"syn_g1_surname\", \"tf_adjustment_weight\": 1.0, \"log2_bf\": 9.879381723092342, \"gamma\": 2, \"log2_bf_tf\": 4.712140623478393, \"log2_bf_final\": 14.591522346570734, \"most_freq_rank\": 6319, \"least_freq_rank\": 8}, {\"value\": \"vesel\\u00e1\", \"tf\": 3.7647767487387995e-05, \"label_for_charts\": \"Jaro_winkler_similarity 0.8\", \"u_probability\": 0.0037757151379461586, \"tf_col\": \"syn_g1_surname\", \"tf_adjustment_weight\": 0.5, \"log2_bf\": 1.5118295391756678, \"gamma\": 1, \"log2_bf_tf\": 3.324020898801361, \"log2_bf_final\": 4.835850437977029, \"most_freq_rank\": 6319, \"least_freq_rank\": 8}, {\"value\": \"y\\u011b\", \"tf\": 3.7647767487387995e-05, \"label_for_charts\": \"Exact match\", \"u_probability\": 0.0009868130839839702, \"tf_col\": \"syn_g1_surname\", \"tf_adjustment_weight\": 1.0, \"log2_bf\": 9.879381723092342, \"gamma\": 2, \"log2_bf_tf\": 4.712140623478393, \"log2_bf_final\": 14.591522346570734, \"most_freq_rank\": 6318, \"least_freq_rank\": 9}, {\"value\": \"y\\u011b\", \"tf\": 3.7647767487387995e-05, \"label_for_charts\": \"Jaro_winkler_similarity 0.8\", \"u_probability\": 0.0037757151379461586, \"tf_col\": \"syn_g1_surname\", \"tf_adjustment_weight\": 0.5, \"log2_bf\": 1.5118295391756678, \"gamma\": 1, \"log2_bf_tf\": 3.324020898801361, \"log2_bf_final\": 4.835850437977029, \"most_freq_rank\": 6318, \"least_freq_rank\": 9}, {\"value\": \"thomas\", \"tf\": 0.0040659588886379034, \"label_for_charts\": \"Exact match\", \"u_probability\": 0.0009868130839839702, \"tf_col\": \"syn_g1_surname\", \"tf_adjustment_weight\": 1.0, \"log2_bf\": 9.879381723092342, \"gamma\": 2, \"log2_bf_tf\": -2.042746878685075, \"log2_bf_final\": 7.836634844407267, \"most_freq_rank\": 9, \"least_freq_rank\": 6318}, {\"value\": \"thomas\", \"tf\": 0.0040659588886379034, \"label_for_charts\": \"Jaro_winkler_similarity 0.8\", \"u_probability\": 0.0037757151379461586, \"tf_col\": \"syn_g1_surname\", \"tf_adjustment_weight\": 0.5, \"log2_bf\": 1.5118295391756678, \"gamma\": 1, \"log2_bf_tf\": -0.053422852280373384, \"log2_bf_final\": 1.4584066868952943, \"most_freq_rank\": 9, \"least_freq_rank\": 6318}, {\"value\": \"wilson\", \"tf\": 0.004216549958587456, \"label_for_charts\": \"Exact match\", \"u_probability\": 0.0009868130839839702, \"tf_col\": \"syn_g1_surname\", \"tf_adjustment_weight\": 1.0, \"log2_bf\": 9.879381723092342, \"gamma\": 2, \"log2_bf_tf\": -2.095214298579211, \"log2_bf_final\": 7.7841674245131305, \"most_freq_rank\": 8, \"least_freq_rank\": 6319}, {\"value\": \"wilson\", \"tf\": 0.004216549958587456, \"label_for_charts\": \"Jaro_winkler_similarity 0.8\", \"u_probability\": 0.0037757151379461586, \"tf_col\": \"syn_g1_surname\", \"tf_adjustment_weight\": 0.5, \"log2_bf\": 1.5118295391756678, \"gamma\": 1, \"log2_bf_tf\": -0.0796565622274412, \"log2_bf_final\": 1.4321729769482265, \"most_freq_rank\": 8, \"least_freq_rank\": 6319}, {\"value\": \"johnson\", \"tf\": 0.004254197726074844, \"label_for_charts\": \"Exact match\", \"u_probability\": 0.0009868130839839702, \"tf_col\": \"syn_g1_surname\", \"tf_adjustment_weight\": 1.0, \"log2_bf\": 9.879381723092342, \"gamma\": 2, \"log2_bf_tf\": -2.1080383389367947, \"log2_bf_final\": 7.771343384155547, \"most_freq_rank\": 7, \"least_freq_rank\": 6320}, {\"value\": \"johnson\", \"tf\": 0.004254197726074844, \"label_for_charts\": \"Jaro_winkler_similarity 0.8\", \"u_probability\": 0.0037757151379461586, \"tf_col\": \"syn_g1_surname\", \"tf_adjustment_weight\": 0.5, \"log2_bf\": 1.5118295391756678, \"gamma\": 1, \"log2_bf_tf\": -0.08606858240623302, \"log2_bf_final\": 1.4257609567694347, \"most_freq_rank\": 7, \"least_freq_rank\": 6320}, {\"value\": \"roberts\", \"tf\": 0.0043671410285370076, \"label_for_charts\": \"Exact match\", \"u_probability\": 0.0009868130839839702, \"tf_col\": \"syn_g1_surname\", \"tf_adjustment_weight\": 1.0, \"log2_bf\": 9.879381723092342, \"gamma\": 2, \"log2_bf_tf\": -2.1458403716491787, \"log2_bf_final\": 7.733541351443163, \"most_freq_rank\": 6, \"least_freq_rank\": 6321}, {\"value\": \"roberts\", \"tf\": 0.0043671410285370076, \"label_for_charts\": \"Jaro_winkler_similarity 0.8\", \"u_probability\": 0.0037757151379461586, \"tf_col\": \"syn_g1_surname\", \"tf_adjustment_weight\": 0.5, \"log2_bf\": 1.5118295391756678, \"gamma\": 1, \"log2_bf_tf\": -0.10496959876242519, \"log2_bf_final\": 1.4068599404132425, \"most_freq_rank\": 6, \"least_freq_rank\": 6321}, {\"value\": \"davies\", \"tf\": 0.004630675400948724, \"label_for_charts\": \"Jaro_winkler_similarity 0.8\", \"u_probability\": 0.0037757151379461586, \"tf_col\": \"syn_g1_surname\", \"tf_adjustment_weight\": 0.5, \"log2_bf\": 1.5118295391756678, \"gamma\": 1, \"log2_bf_tf\": -0.14723635386825915, \"log2_bf_final\": 1.3645931853074087, \"most_freq_rank\": 5, \"least_freq_rank\": 6322}, {\"value\": \"davies\", \"tf\": 0.004630675400948724, \"label_for_charts\": \"Exact match\", \"u_probability\": 0.0009868130839839702, \"tf_col\": \"syn_g1_surname\", \"tf_adjustment_weight\": 1.0, \"log2_bf\": 9.879381723092342, \"gamma\": 2, \"log2_bf_tf\": -2.2303738818608467, \"log2_bf_final\": 7.649007841231495, \"most_freq_rank\": 5, \"least_freq_rank\": 6322}, {\"value\": \"brown\", \"tf\": 0.004668323168436112, \"label_for_charts\": \"Jaro_winkler_similarity 0.8\", \"u_probability\": 0.0037757151379461586, \"tf_col\": \"syn_g1_surname\", \"tf_adjustment_weight\": 0.5, \"log2_bf\": 1.5118295391756678, \"gamma\": 1, \"log2_bf_tf\": -0.15307725639207673, \"log2_bf_final\": 1.358752282783591, \"most_freq_rank\": 4, \"least_freq_rank\": 6323}, {\"value\": \"brown\", \"tf\": 0.004668323168436112, \"label_for_charts\": \"Exact match\", \"u_probability\": 0.0009868130839839702, \"tf_col\": \"syn_g1_surname\", \"tf_adjustment_weight\": 1.0, \"log2_bf\": 9.879381723092342, \"gamma\": 2, \"log2_bf_tf\": -2.2420556869084822, \"log2_bf_final\": 7.637326036183859, \"most_freq_rank\": 4, \"least_freq_rank\": 6323}, {\"value\": \"williams\", \"tf\": 0.00489420977336044, \"label_for_charts\": \"Exact match\", \"u_probability\": 0.0009868130839839702, \"tf_col\": \"syn_g1_surname\", \"tf_adjustment_weight\": 1.0, \"log2_bf\": 9.879381723092342, \"gamma\": 2, \"log2_bf_tf\": -2.3102271895500617, \"log2_bf_final\": 7.56915453354228, \"most_freq_rank\": 3, \"least_freq_rank\": 6324}, {\"value\": \"williams\", \"tf\": 0.00489420977336044, \"label_for_charts\": \"Jaro_winkler_similarity 0.8\", \"u_probability\": 0.0037757151379461586, \"tf_col\": \"syn_g1_surname\", \"tf_adjustment_weight\": 0.5, \"log2_bf\": 1.5118295391756678, \"gamma\": 1, \"log2_bf_tf\": -0.18716300771286642, \"log2_bf_final\": 1.3246665314628014, \"most_freq_rank\": 3, \"least_freq_rank\": 6324}, {\"value\": \"taylor\", \"tf\": 0.008395452149687524, \"label_for_charts\": \"Exact match\", \"u_probability\": 0.0009868130839839702, \"tf_col\": \"syn_g1_surname\", \"tf_adjustment_weight\": 1.0, \"log2_bf\": 9.879381723092342, \"gamma\": 2, \"log2_bf_tf\": -3.0887592764419116, \"log2_bf_final\": 6.79062244665043, \"most_freq_rank\": 2, \"least_freq_rank\": 6325}, {\"value\": \"taylor\", \"tf\": 0.008395452149687524, \"label_for_charts\": \"Jaro_winkler_similarity 0.8\", \"u_probability\": 0.0037757151379461586, \"tf_col\": \"syn_g1_surname\", \"tf_adjustment_weight\": 0.5, \"log2_bf\": 1.5118295391756678, \"gamma\": 1, \"log2_bf_tf\": -0.5764290511587916, \"log2_bf_final\": 0.9354004880168761, \"most_freq_rank\": 2, \"least_freq_rank\": 6325}, {\"value\": \"jones\", \"tf\": 0.009298998569384835, \"label_for_charts\": \"Exact match\", \"u_probability\": 0.0009868130839839702, \"tf_col\": \"syn_g1_surname\", \"tf_adjustment_weight\": 1.0, \"log2_bf\": 9.879381723092342, \"gamma\": 2, \"log2_bf_tf\": -3.2362266081062847, \"log2_bf_final\": 6.643155114986057, \"most_freq_rank\": 1, \"least_freq_rank\": 6326}, {\"value\": \"jones\", \"tf\": 0.009298998569384835, \"label_for_charts\": \"Jaro_winkler_similarity 0.8\", \"u_probability\": 0.0037757151379461586, \"tf_col\": \"syn_g1_surname\", \"tf_adjustment_weight\": 0.5, \"log2_bf\": 1.5118295391756678, \"gamma\": 1, \"log2_bf_tf\": -0.650162716990978, \"log2_bf_final\": 0.8616668221846897, \"most_freq_rank\": 1, \"least_freq_rank\": 6326}, {\"value\": \"smith\", \"tf\": 0.011369625781191176, \"label_for_charts\": \"Jaro_winkler_similarity 0.8\", \"u_probability\": 0.0037757151379461586, \"tf_col\": \"syn_g1_surname\", \"tf_adjustment_weight\": 0.5, \"log2_bf\": 1.5118295391756678, \"gamma\": 1, \"log2_bf_tf\": -0.7951814708611786, \"log2_bf_final\": 0.7166480683144891, \"most_freq_rank\": 0, \"least_freq_rank\": 6327}, {\"value\": \"smith\", \"tf\": 0.011369625781191176, \"label_for_charts\": \"Exact match\", \"u_probability\": 0.0009868130839839702, \"tf_col\": \"syn_g1_surname\", \"tf_adjustment_weight\": 1.0, \"log2_bf\": 9.879381723092342, \"gamma\": 2, \"log2_bf_tf\": -3.526264115846686, \"log2_bf_final\": 6.353117607245656, \"most_freq_rank\": 0, \"least_freq_rank\": 6327}], \"hist\": [{\"gamma\": 1, \"log2_bf\": 1.5118295391756678, \"count\": 3, \"log2_bf_tf\": -0.6739244130036495, \"bin_start\": 0.5, \"bin_end\": 1.0, \"log2_bf_final\": 0.75, \"log2_bf_desc\": \"0.5-1.0\"}, {\"gamma\": 1, \"log2_bf\": 1.5118295391756678, \"count\": 8, \"log2_bf_tf\": -0.10472414673985754, \"bin_start\": 1.0, \"bin_end\": 1.5, \"log2_bf_final\": 1.25, \"log2_bf_desc\": \"1.0-1.5\"}, {\"gamma\": 1, \"log2_bf\": 1.5118295391756678, \"count\": 37, \"log2_bf_tf\": 0.3371556085442786, \"bin_start\": 1.5, \"bin_end\": 2.0, \"log2_bf_final\": 1.75, \"log2_bf_desc\": \"1.5-2.0\"}, {\"gamma\": 1, \"log2_bf\": 1.5118295391756678, \"count\": 89, \"log2_bf_tf\": 0.7713506060426366, \"bin_start\": 2.0, \"bin_end\": 2.5, \"log2_bf_final\": 2.25, \"log2_bf_desc\": \"2.0-2.5\"}, {\"gamma\": 1, \"log2_bf\": 1.5118295391756678, \"count\": 186, \"log2_bf_tf\": 1.2683539907798467, \"bin_start\": 2.5, \"bin_end\": 3.0, \"log2_bf_final\": 2.75, \"log2_bf_desc\": \"2.5-3.0\"}, {\"gamma\": 1, \"log2_bf\": 1.5118295391756678, \"count\": 331, \"log2_bf_tf\": 1.736730122182281, \"bin_start\": 3.0, \"bin_end\": 3.5, \"log2_bf_final\": 3.25, \"log2_bf_desc\": \"3.0-3.5\"}, {\"gamma\": 1, \"log2_bf\": 1.5118295391756678, \"count\": 1022, \"log2_bf_tf\": 2.2368995200611996, \"bin_start\": 3.5, \"bin_end\": 4.0, \"log2_bf_final\": 3.75, \"log2_bf_desc\": \"3.5-4.0\"}, {\"gamma\": 1, \"log2_bf\": 1.5118295391756678, \"count\": 3610, \"log2_bf_tf\": 2.8150277080008, \"bin_start\": 4.0, \"bin_end\": 4.5, \"log2_bf_final\": 4.25, \"log2_bf_desc\": \"4.0-4.5\"}, {\"gamma\": 1, \"log2_bf\": 1.5118295391756678, \"count\": 1042, \"log2_bf_tf\": 3.324020898801361, \"bin_start\": 4.5, \"bin_end\": 5.0, \"log2_bf_final\": 4.75, \"log2_bf_desc\": \"4.5-5.0\"}, {\"gamma\": 2, \"log2_bf\": 9.879381723092342, \"count\": 1, \"log2_bf_tf\": -3.526264115846686, \"bin_start\": 6.0, \"bin_end\": 6.5, \"log2_bf_final\": 6.25, \"log2_bf_desc\": \"6.0-6.5\"}, {\"gamma\": 2, \"log2_bf\": 9.879381723092342, \"count\": 2, \"log2_bf_tf\": -3.162492942274098, \"bin_start\": 6.5, \"bin_end\": 7.0, \"log2_bf_final\": 6.75, \"log2_bf_desc\": \"6.5-7.0\"}, {\"gamma\": 2, \"log2_bf\": 9.879381723092342, \"count\": 8, \"log2_bf_tf\": -2.145349467604044, \"bin_start\": 7.5, \"bin_end\": 8.0, \"log2_bf_final\": 7.75, \"log2_bf_desc\": \"7.5-8.0\"}, {\"gamma\": 2, \"log2_bf\": 9.879381723092342, \"count\": 11, \"log2_bf_tf\": -1.6015033798782177, \"bin_start\": 8.0, \"bin_end\": 8.5, \"log2_bf_final\": 8.25, \"log2_bf_desc\": \"8.0-8.5\"}, {\"gamma\": 2, \"log2_bf\": 9.879381723092342, \"count\": 28, \"log2_bf_tf\": -1.103449143521296, \"bin_start\": 8.5, \"bin_end\": 9.0, \"log2_bf_final\": 8.75, \"log2_bf_desc\": \"8.5-9.0\"}, {\"gamma\": 2, \"log2_bf\": 9.879381723092342, \"count\": 37, \"log2_bf_tf\": -0.6697066700312356, \"bin_start\": 9.0, \"bin_end\": 9.5, \"log2_bf_final\": 9.25, \"log2_bf_desc\": \"9.0-9.5\"}, {\"gamma\": 2, \"log2_bf\": 9.879381723092342, \"count\": 52, \"log2_bf_tf\": -0.15855377261499487, \"bin_start\": 9.5, \"bin_end\": 10.0, \"log2_bf_final\": 9.75, \"log2_bf_desc\": \"9.5-10.0\"}, {\"gamma\": 2, \"log2_bf\": 9.879381723092342, \"count\": 90, \"log2_bf_tf\": 0.36687429588932274, \"bin_start\": 10.0, \"bin_end\": 10.5, \"log2_bf_final\": 10.25, \"log2_bf_desc\": \"10.0-10.5\"}, {\"gamma\": 2, \"log2_bf\": 9.879381723092342, \"count\": 94, \"log2_bf_tf\": 0.8361150072928881, \"bin_start\": 10.5, \"bin_end\": 11.0, \"log2_bf_final\": 10.75, \"log2_bf_desc\": \"10.5-11.0\"}, {\"gamma\": 2, \"log2_bf\": 9.879381723092342, \"count\": 162, \"log2_bf_tf\": 1.313813019467191, \"bin_start\": 11.0, \"bin_end\": 11.5, \"log2_bf_final\": 11.25, \"log2_bf_desc\": \"11.0-11.5\"}, {\"gamma\": 2, \"log2_bf\": 9.879381723092342, \"count\": 169, \"log2_bf_tf\": 1.7520375331114337, \"bin_start\": 11.5, \"bin_end\": 12.0, \"log2_bf_final\": 11.75, \"log2_bf_desc\": \"11.5-12.0\"}, {\"gamma\": 2, \"log2_bf\": 9.879381723092342, \"count\": 335, \"log2_bf_tf\": 2.180570181254843, \"bin_start\": 12.0, \"bin_end\": 12.5, \"log2_bf_final\": 12.25, \"log2_bf_desc\": \"12.0-12.5\"}, {\"gamma\": 2, \"log2_bf\": 9.879381723092342, \"count\": 687, \"log2_bf_tf\": 2.712140623478393, \"bin_start\": 12.5, \"bin_end\": 13.0, \"log2_bf_final\": 12.75, \"log2_bf_desc\": \"12.5-13.0\"}, {\"gamma\": 2, \"log2_bf\": 9.879381723092342, \"count\": 111, \"log2_bf_tf\": 3.127178122757237, \"bin_start\": 13.0, \"bin_end\": 13.5, \"log2_bf_final\": 13.25, \"log2_bf_desc\": \"13.0-13.5\"}, {\"gamma\": 2, \"log2_bf\": 9.879381723092342, \"count\": 3499, \"log2_bf_tf\": 3.712140623478393, \"bin_start\": 13.5, \"bin_end\": 14.0, \"log2_bf_final\": 13.75, \"log2_bf_desc\": \"13.5-14.0\"}, {\"gamma\": 2, \"log2_bf\": 9.879381723092342, \"count\": 1042, \"log2_bf_tf\": 4.712140623478393, \"bin_start\": 14.5, \"bin_end\": 15.0, \"log2_bf_final\": 14.75, \"log2_bf_desc\": \"14.5-15.0\"}]}, \"resolve\": {\"scale\": {\"color\": \"shared\", \"y\": \"shared\"}}, \"spacing\": 10, \"title\": {\"text\": \"Term frequency adjusted match weights\", \"anchor\": \"middle\", \"fontSize\": 16, \"subtitle\": \"For selected values, incl. the lowest and highest frequency\"}, \"$schema\": \"https://vega.github.io/schema/vega-lite/v5.9.3.json\"}, {\"mode\": \"vega-lite\"});\n",
       "</script>"
      ],
      "text/plain": [
       "alt.HConcatChart(...)"
      ]
     },
     "execution_count": 33,
     "metadata": {},
     "output_type": "execute_result"
    }
   ],
   "source": [
    "linker.tf_adjustment_chart(\"syn_g1_surname\")\n"
   ]
  },
  {
   "cell_type": "code",
   "execution_count": 26,
   "metadata": {},
   "outputs": [
    {
     "name": "stderr",
     "output_type": "stream",
     "text": [
      "C:\\Users\\uctvjla\\OneDrive - University College London\\Desktop\\splink\\splink_synthetic_data-main\\venv\\lib\\site-packages\\splink\\linker.py:3343: UserWarning: Values [None] from `vals_to_include` were not found in the dataset so are not included in the chart.\n",
      "  return tf_adjustment_chart(\n"
     ]
    },
    {
     "data": {
      "text/html": [
       "\n",
       "<style>\n",
       "  #altair-viz-335af45a157347bc84f1701e9205d44d.vega-embed {\n",
       "    width: 100%;\n",
       "    display: flex;\n",
       "  }\n",
       "\n",
       "  #altair-viz-335af45a157347bc84f1701e9205d44d.vega-embed details,\n",
       "  #altair-viz-335af45a157347bc84f1701e9205d44d.vega-embed details summary {\n",
       "    position: relative;\n",
       "  }\n",
       "</style>\n",
       "<div id=\"altair-viz-335af45a157347bc84f1701e9205d44d\"></div>\n",
       "<script type=\"text/javascript\">\n",
       "  var VEGA_DEBUG = (typeof VEGA_DEBUG == \"undefined\") ? {} : VEGA_DEBUG;\n",
       "  (function(spec, embedOpt){\n",
       "    let outputDiv = document.currentScript.previousElementSibling;\n",
       "    if (outputDiv.id !== \"altair-viz-335af45a157347bc84f1701e9205d44d\") {\n",
       "      outputDiv = document.getElementById(\"altair-viz-335af45a157347bc84f1701e9205d44d\");\n",
       "    }\n",
       "    const paths = {\n",
       "      \"vega\": \"https://cdn.jsdelivr.net/npm/vega@5?noext\",\n",
       "      \"vega-lib\": \"https://cdn.jsdelivr.net/npm/vega-lib?noext\",\n",
       "      \"vega-lite\": \"https://cdn.jsdelivr.net/npm/vega-lite@5.8.0?noext\",\n",
       "      \"vega-embed\": \"https://cdn.jsdelivr.net/npm/vega-embed@6?noext\",\n",
       "    };\n",
       "\n",
       "    function maybeLoadScript(lib, version) {\n",
       "      var key = `${lib.replace(\"-\", \"\")}_version`;\n",
       "      return (VEGA_DEBUG[key] == version) ?\n",
       "        Promise.resolve(paths[lib]) :\n",
       "        new Promise(function(resolve, reject) {\n",
       "          var s = document.createElement('script');\n",
       "          document.getElementsByTagName(\"head\")[0].appendChild(s);\n",
       "          s.async = true;\n",
       "          s.onload = () => {\n",
       "            VEGA_DEBUG[key] = version;\n",
       "            return resolve(paths[lib]);\n",
       "          };\n",
       "          s.onerror = () => reject(`Error loading script: ${paths[lib]}`);\n",
       "          s.src = paths[lib];\n",
       "        });\n",
       "    }\n",
       "\n",
       "    function showError(err) {\n",
       "      outputDiv.innerHTML = `<div class=\"error\" style=\"color:red;\">${err}</div>`;\n",
       "      throw err;\n",
       "    }\n",
       "\n",
       "    function displayChart(vegaEmbed) {\n",
       "      vegaEmbed(outputDiv, spec, embedOpt)\n",
       "        .catch(err => showError(`Javascript Error: ${err.message}<br>This usually means there's a typo in your chart specification. See the javascript console for the full traceback.`));\n",
       "    }\n",
       "\n",
       "    if(typeof define === \"function\" && define.amd) {\n",
       "      requirejs.config({paths});\n",
       "      require([\"vega-embed\"], displayChart, err => showError(`Error loading script: ${err.message}`));\n",
       "    } else {\n",
       "      maybeLoadScript(\"vega\", \"5\")\n",
       "        .then(() => maybeLoadScript(\"vega-lite\", \"5.8.0\"))\n",
       "        .then(() => maybeLoadScript(\"vega-embed\", \"6\"))\n",
       "        .catch(showError)\n",
       "        .then(() => displayChart(vegaEmbed));\n",
       "    }\n",
       "  })({\"config\": {\"view\": {\"continuousWidth\": 300, \"continuousHeight\": 300}, \"params\": [{\"name\": \"gamma_sel\", \"bind\": {\"input\": \"select\", \"options\": [2, 1], \"labels\": [\"Exact match (TF col: syn_g0_surname)\", \"Jaro_winkler_similarity 0.8 (TF col: syn_g0_surname)\"], \"name\": \"Gamma level:\"}, \"value\": 2}]}, \"hconcat\": [{\"layer\": [{\"mark\": {\"type\": \"point\", \"filled\": true, \"size\": 100, \"stroke\": \"black\", \"strokeWidth\": 1}, \"encoding\": {\"color\": {\"field\": \"log2_bf_tf\", \"scale\": {\"domain\": [-2.5, 2.5], \"scheme\": \"redyellowgreen\"}, \"title\": \"TF adjustment weight\", \"type\": \"quantitative\"}, \"tooltip\": [{\"field\": \"value\", \"title\": \"Value\", \"type\": \"nominal\"}, {\"field\": \"log2_bf\", \"format\": \"+.3\", \"title\": \"Match weight\", \"type\": \"quantitative\"}, {\"field\": \"log2_bf_tf\", \"format\": \"+.3\", \"title\": \"TF adjusted match weight\", \"type\": \"quantitative\"}, {\"field\": \"log2_bf_final\", \"format\": \"+.3\", \"title\": \"Final match weight\", \"type\": \"quantitative\"}], \"x\": {\"axis\": {\"labelAngle\": -60, \"labelFontSize\": 16, \"titleFontSize\": 20}, \"field\": \"value\", \"sort\": {\"field\": \"log2_bf_final\", \"order\": \"ascending\"}, \"title\": \"TF column value\", \"type\": \"nominal\"}, \"y\": {\"axis\": {\"format\": \"+\", \"labelFontSize\": 16, \"titleFontSize\": 18, \"values\": [-5, -4, -3, -2, -1, 0, 1, 2, 3, 4, 5, 6, 7, 8, 9, 10, 11, 12, 13, 14, 15, 16, 17, 18, 19, 20]}, \"field\": \"log2_bf_final\", \"title\": \"Match weight\", \"type\": \"quantitative\"}}}, {\"mark\": \"rule\", \"encoding\": {\"y\": {\"field\": \"log2_bf\", \"type\": \"quantitative\"}}, \"transform\": [{\"filter\": \"datum.gamma == gamma_sel\"}]}, {\"mark\": {\"type\": \"rule\", \"opacity\": 0.5, \"strokeWidth\": 2}, \"encoding\": {\"color\": {\"field\": \"log2_bf_tf\", \"legend\": null, \"scale\": {\"domain\": [-2.5, 2.5], \"scheme\": \"redyellowgreen\"}, \"title\": \"TF adjustment weight\", \"type\": \"quantitative\"}, \"x\": {\"field\": \"value\", \"sort\": {\"field\": \"log2_bf_final\", \"order\": \"ascending\"}, \"title\": \"TF column value\", \"type\": \"nominal\"}, \"y\": {\"field\": \"log2_bf_final\", \"type\": \"quantitative\"}, \"y2\": {\"type\": \"quantitative\"}}, \"transform\": [{\"filter\": \"datum.gamma == gamma_sel\"}]}], \"data\": {\"name\": \"data\"}, \"height\": 400, \"transform\": [{\"filter\": \"datum.gamma == gamma_sel\"}], \"width\": {\"step\": 20}}, {\"mark\": {\"type\": \"bar\", \"fillOpacity\": 0.8, \"filled\": true, \"stroke\": \"black\", \"strokeWidth\": 1}, \"data\": {\"name\": \"hist\"}, \"encoding\": {\"color\": {\"field\": \"log2_bf_tf\", \"legend\": null, \"scale\": {\"domain\": [-2.5, 2.5], \"scheme\": \"redyellowgreen\"}, \"title\": \"TF adjustment weight\", \"type\": \"quantitative\"}, \"tooltip\": [{\"field\": \"log2_bf_desc\", \"title\": \"Match weight\"}, {\"field\": \"count\", \"title\": \"Number of values\"}], \"x\": {\"axis\": {\"domain\": false, \"gridOpacity\": 0.5, \"labelAlign\": \"center\", \"labelFontSize\": 12, \"labelOpacity\": 0.5, \"labelOverlap\": true, \"ticks\": false, \"title\": \"Count of values\", \"titleFontSize\": 12, \"titleOpacity\": 0.5}, \"field\": \"count\", \"type\": \"quantitative\"}, \"y\": {\"axis\": null, \"bin\": {\"step\": 0.5}, \"field\": \"log2_bf_final\", \"type\": \"quantitative\"}}, \"transform\": [{\"filter\": {\"or\": [\"datum.gamma == gamma_sel\", {\"field\": \"gamma\", \"valid\": false}]}}], \"view\": {\"stroke\": \"transparent\"}, \"width\": 100}], \"datasets\": {\"data\": [{\"value\": \"mart\\u00ednez\", \"tf\": 3.7647767487387995e-05, \"label_for_charts\": \"Exact match\", \"u_probability\": 0.0007971848480165407, \"tf_col\": \"syn_g0_surname\", \"tf_adjustment_weight\": 1.0, \"log2_bf\": 10.062293435242767, \"gamma\": 2, \"log2_bf_tf\": 4.404278068599658, \"log2_bf_final\": 14.466571503842424, \"most_freq_rank\": 7965, \"least_freq_rank\": 0}, {\"value\": \"mart\\u00ednez\", \"tf\": 3.7647767487387995e-05, \"label_for_charts\": \"Jaro_winkler_similarity 0.8\", \"u_probability\": 0.0035789328185787746, \"tf_col\": \"syn_g0_surname\", \"tf_adjustment_weight\": 0.5, \"log2_bf\": 0.8341213794514446, \"gamma\": 1, \"log2_bf_tf\": 3.2854106684117608, \"log2_bf_final\": 4.119532047863205, \"most_freq_rank\": 7965, \"least_freq_rank\": 0}, {\"value\": \"ivanovski\", \"tf\": 3.7647767487387995e-05, \"label_for_charts\": \"Jaro_winkler_similarity 0.8\", \"u_probability\": 0.0035789328185787746, \"tf_col\": \"syn_g0_surname\", \"tf_adjustment_weight\": 0.5, \"log2_bf\": 0.8341213794514446, \"gamma\": 1, \"log2_bf_tf\": 3.2854106684117608, \"log2_bf_final\": 4.119532047863205, \"most_freq_rank\": 7964, \"least_freq_rank\": 1}, {\"value\": \"ivanovski\", \"tf\": 3.7647767487387995e-05, \"label_for_charts\": \"Exact match\", \"u_probability\": 0.0007971848480165407, \"tf_col\": \"syn_g0_surname\", \"tf_adjustment_weight\": 1.0, \"log2_bf\": 10.062293435242767, \"gamma\": 2, \"log2_bf_tf\": 4.404278068599658, \"log2_bf_final\": 14.466571503842424, \"most_freq_rank\": 7964, \"least_freq_rank\": 1}, {\"value\": \"gei\\u00dfler\", \"tf\": 3.7647767487387995e-05, \"label_for_charts\": \"Exact match\", \"u_probability\": 0.0007971848480165407, \"tf_col\": \"syn_g0_surname\", \"tf_adjustment_weight\": 1.0, \"log2_bf\": 10.062293435242767, \"gamma\": 2, \"log2_bf_tf\": 4.404278068599658, \"log2_bf_final\": 14.466571503842424, \"most_freq_rank\": 7963, \"least_freq_rank\": 2}, {\"value\": \"gei\\u00dfler\", \"tf\": 3.7647767487387995e-05, \"label_for_charts\": \"Jaro_winkler_similarity 0.8\", \"u_probability\": 0.0035789328185787746, \"tf_col\": \"syn_g0_surname\", \"tf_adjustment_weight\": 0.5, \"log2_bf\": 0.8341213794514446, \"gamma\": 1, \"log2_bf_tf\": 3.2854106684117608, \"log2_bf_final\": 4.119532047863205, \"most_freq_rank\": 7963, \"least_freq_rank\": 2}, {\"value\": \"bondy\", \"tf\": 3.7647767487387995e-05, \"label_for_charts\": \"Jaro_winkler_similarity 0.8\", \"u_probability\": 0.0035789328185787746, \"tf_col\": \"syn_g0_surname\", \"tf_adjustment_weight\": 0.5, \"log2_bf\": 0.8341213794514446, \"gamma\": 1, \"log2_bf_tf\": 3.2854106684117608, \"log2_bf_final\": 4.119532047863205, \"most_freq_rank\": 7962, \"least_freq_rank\": 3}, {\"value\": \"bondy\", \"tf\": 3.7647767487387995e-05, \"label_for_charts\": \"Exact match\", \"u_probability\": 0.0007971848480165407, \"tf_col\": \"syn_g0_surname\", \"tf_adjustment_weight\": 1.0, \"log2_bf\": 10.062293435242767, \"gamma\": 2, \"log2_bf_tf\": 4.404278068599658, \"log2_bf_final\": 14.466571503842424, \"most_freq_rank\": 7962, \"least_freq_rank\": 3}, {\"value\": \"hasekawa\", \"tf\": 3.7647767487387995e-05, \"label_for_charts\": \"Jaro_winkler_similarity 0.8\", \"u_probability\": 0.0035789328185787746, \"tf_col\": \"syn_g0_surname\", \"tf_adjustment_weight\": 0.5, \"log2_bf\": 0.8341213794514446, \"gamma\": 1, \"log2_bf_tf\": 3.2854106684117608, \"log2_bf_final\": 4.119532047863205, \"most_freq_rank\": 7961, \"least_freq_rank\": 4}, {\"value\": \"hasekawa\", \"tf\": 3.7647767487387995e-05, \"label_for_charts\": \"Exact match\", \"u_probability\": 0.0007971848480165407, \"tf_col\": \"syn_g0_surname\", \"tf_adjustment_weight\": 1.0, \"log2_bf\": 10.062293435242767, \"gamma\": 2, \"log2_bf_tf\": 4.404278068599658, \"log2_bf_final\": 14.466571503842424, \"most_freq_rank\": 7961, \"least_freq_rank\": 4}, {\"value\": \"sikora\", \"tf\": 3.7647767487387995e-05, \"label_for_charts\": \"Jaro_winkler_similarity 0.8\", \"u_probability\": 0.0035789328185787746, \"tf_col\": \"syn_g0_surname\", \"tf_adjustment_weight\": 0.5, \"log2_bf\": 0.8341213794514446, \"gamma\": 1, \"log2_bf_tf\": 3.2854106684117608, \"log2_bf_final\": 4.119532047863205, \"most_freq_rank\": 7960, \"least_freq_rank\": 5}, {\"value\": \"sikora\", \"tf\": 3.7647767487387995e-05, \"label_for_charts\": \"Exact match\", \"u_probability\": 0.0007971848480165407, \"tf_col\": \"syn_g0_surname\", \"tf_adjustment_weight\": 1.0, \"log2_bf\": 10.062293435242767, \"gamma\": 2, \"log2_bf_tf\": 4.404278068599658, \"log2_bf_final\": 14.466571503842424, \"most_freq_rank\": 7960, \"least_freq_rank\": 5}, {\"value\": \"dumon\", \"tf\": 3.7647767487387995e-05, \"label_for_charts\": \"Exact match\", \"u_probability\": 0.0007971848480165407, \"tf_col\": \"syn_g0_surname\", \"tf_adjustment_weight\": 1.0, \"log2_bf\": 10.062293435242767, \"gamma\": 2, \"log2_bf_tf\": 4.404278068599658, \"log2_bf_final\": 14.466571503842424, \"most_freq_rank\": 7959, \"least_freq_rank\": 6}, {\"value\": \"dumon\", \"tf\": 3.7647767487387995e-05, \"label_for_charts\": \"Jaro_winkler_similarity 0.8\", \"u_probability\": 0.0035789328185787746, \"tf_col\": \"syn_g0_surname\", \"tf_adjustment_weight\": 0.5, \"log2_bf\": 0.8341213794514446, \"gamma\": 1, \"log2_bf_tf\": 3.2854106684117608, \"log2_bf_final\": 4.119532047863205, \"most_freq_rank\": 7959, \"least_freq_rank\": 6}, {\"value\": \"bohm\", \"tf\": 3.7647767487387995e-05, \"label_for_charts\": \"Jaro_winkler_similarity 0.8\", \"u_probability\": 0.0035789328185787746, \"tf_col\": \"syn_g0_surname\", \"tf_adjustment_weight\": 0.5, \"log2_bf\": 0.8341213794514446, \"gamma\": 1, \"log2_bf_tf\": 3.2854106684117608, \"log2_bf_final\": 4.119532047863205, \"most_freq_rank\": 7958, \"least_freq_rank\": 7}, {\"value\": \"bohm\", \"tf\": 3.7647767487387995e-05, \"label_for_charts\": \"Exact match\", \"u_probability\": 0.0007971848480165407, \"tf_col\": \"syn_g0_surname\", \"tf_adjustment_weight\": 1.0, \"log2_bf\": 10.062293435242767, \"gamma\": 2, \"log2_bf_tf\": 4.404278068599658, \"log2_bf_final\": 14.466571503842424, \"most_freq_rank\": 7958, \"least_freq_rank\": 7}, {\"value\": \"schi\\u00f8tt\", \"tf\": 3.7647767487387995e-05, \"label_for_charts\": \"Exact match\", \"u_probability\": 0.0007971848480165407, \"tf_col\": \"syn_g0_surname\", \"tf_adjustment_weight\": 1.0, \"log2_bf\": 10.062293435242767, \"gamma\": 2, \"log2_bf_tf\": 4.404278068599658, \"log2_bf_final\": 14.466571503842424, \"most_freq_rank\": 7957, \"least_freq_rank\": 8}, {\"value\": \"schi\\u00f8tt\", \"tf\": 3.7647767487387995e-05, \"label_for_charts\": \"Jaro_winkler_similarity 0.8\", \"u_probability\": 0.0035789328185787746, \"tf_col\": \"syn_g0_surname\", \"tf_adjustment_weight\": 0.5, \"log2_bf\": 0.8341213794514446, \"gamma\": 1, \"log2_bf_tf\": 3.2854106684117608, \"log2_bf_final\": 4.119532047863205, \"most_freq_rank\": 7957, \"least_freq_rank\": 8}, {\"value\": \"eichm\\u00fcller\", \"tf\": 3.7647767487387995e-05, \"label_for_charts\": \"Exact match\", \"u_probability\": 0.0007971848480165407, \"tf_col\": \"syn_g0_surname\", \"tf_adjustment_weight\": 1.0, \"log2_bf\": 10.062293435242767, \"gamma\": 2, \"log2_bf_tf\": 4.404278068599658, \"log2_bf_final\": 14.466571503842424, \"most_freq_rank\": 7956, \"least_freq_rank\": 9}, {\"value\": \"eichm\\u00fcller\", \"tf\": 3.7647767487387995e-05, \"label_for_charts\": \"Jaro_winkler_similarity 0.8\", \"u_probability\": 0.0035789328185787746, \"tf_col\": \"syn_g0_surname\", \"tf_adjustment_weight\": 0.5, \"log2_bf\": 0.8341213794514446, \"gamma\": 1, \"log2_bf_tf\": 3.2854106684117608, \"log2_bf_final\": 4.119532047863205, \"most_freq_rank\": 7956, \"least_freq_rank\": 9}, {\"value\": \"lewis\", \"tf\": 0.003840072283713576, \"label_for_charts\": \"Exact match\", \"u_probability\": 0.0007971848480165407, \"tf_col\": \"syn_g0_surname\", \"tf_adjustment_weight\": 1.0, \"log2_bf\": 10.062293435242767, \"gamma\": 2, \"log2_bf_tf\": -2.268147273371838, \"log2_bf_final\": 7.794146161870929, \"most_freq_rank\": 9, \"least_freq_rank\": 7956}, {\"value\": \"lewis\", \"tf\": 0.003840072283713576, \"label_for_charts\": \"Jaro_winkler_similarity 0.8\", \"u_probability\": 0.0035789328185787746, \"tf_col\": \"syn_g0_surname\", \"tf_adjustment_weight\": 0.5, \"log2_bf\": 0.8341213794514446, \"gamma\": 1, \"log2_bf_tf\": -0.05080200257398728, \"log2_bf_final\": 0.7833193768774573, \"most_freq_rank\": 9, \"least_freq_rank\": 7956}, {\"value\": \"roberts\", \"tf\": 0.003915367818688352, \"label_for_charts\": \"Exact match\", \"u_probability\": 0.0007971848480165407, \"tf_col\": \"syn_g0_surname\", \"tf_adjustment_weight\": 1.0, \"log2_bf\": 10.062293435242767, \"gamma\": 2, \"log2_bf_tf\": -2.296161649541434, \"log2_bf_final\": 7.766131785701333, \"most_freq_rank\": 8, \"least_freq_rank\": 7957}, {\"value\": \"roberts\", \"tf\": 0.003915367818688352, \"label_for_charts\": \"Jaro_winkler_similarity 0.8\", \"u_probability\": 0.0035789328185787746, \"tf_col\": \"syn_g0_surname\", \"tf_adjustment_weight\": 0.5, \"log2_bf\": 0.8341213794514446, \"gamma\": 1, \"log2_bf_tf\": -0.0648091906587856, \"log2_bf_final\": 0.7693121887926591, \"most_freq_rank\": 8, \"least_freq_rank\": 7957}, {\"value\": \"thomas\", \"tf\": 0.0040283111211505155, \"label_for_charts\": \"Exact match\", \"u_probability\": 0.0007971848480165407, \"tf_col\": \"syn_g0_surname\", \"tf_adjustment_weight\": 1.0, \"log2_bf\": 10.062293435242767, \"gamma\": 2, \"log2_bf_tf\": -2.337188917801489, \"log2_bf_final\": 7.725104517441277, \"most_freq_rank\": 7, \"least_freq_rank\": 7958}, {\"value\": \"thomas\", \"tf\": 0.0040283111211505155, \"label_for_charts\": \"Jaro_winkler_similarity 0.8\", \"u_probability\": 0.0035789328185787746, \"tf_col\": \"syn_g0_surname\", \"tf_adjustment_weight\": 0.5, \"log2_bf\": 0.8341213794514446, \"gamma\": 1, \"log2_bf_tf\": -0.0853228247888129, \"log2_bf_final\": 0.7487985546626317, \"most_freq_rank\": 7, \"least_freq_rank\": 7958}, {\"value\": \"brown\", \"tf\": 0.0044047887960243955, \"label_for_charts\": \"Exact match\", \"u_probability\": 0.0007971848480165407, \"tf_col\": \"syn_g0_surname\", \"tf_adjustment_weight\": 1.0, \"log2_bf\": 10.062293435242767, \"gamma\": 2, \"log2_bf_tf\": -2.4660866509837462, \"log2_bf_final\": 7.596206784259021, \"most_freq_rank\": 6, \"least_freq_rank\": 7959}, {\"value\": \"brown\", \"tf\": 0.0044047887960243955, \"label_for_charts\": \"Jaro_winkler_similarity 0.8\", \"u_probability\": 0.0035789328185787746, \"tf_col\": \"syn_g0_surname\", \"tf_adjustment_weight\": 0.5, \"log2_bf\": 0.8341213794514446, \"gamma\": 1, \"log2_bf_tf\": -0.1497716913799417, \"log2_bf_final\": 0.6843496880715029, \"most_freq_rank\": 6, \"least_freq_rank\": 7959}, {\"value\": \"wilson\", \"tf\": 0.0044047887960243955, \"label_for_charts\": \"Jaro_winkler_similarity 0.8\", \"u_probability\": 0.0035789328185787746, \"tf_col\": \"syn_g0_surname\", \"tf_adjustment_weight\": 0.5, \"log2_bf\": 0.8341213794514446, \"gamma\": 1, \"log2_bf_tf\": -0.1497716913799417, \"log2_bf_final\": 0.6843496880715029, \"most_freq_rank\": 5, \"least_freq_rank\": 7960}, {\"value\": \"wilson\", \"tf\": 0.0044047887960243955, \"label_for_charts\": \"Exact match\", \"u_probability\": 0.0007971848480165407, \"tf_col\": \"syn_g0_surname\", \"tf_adjustment_weight\": 1.0, \"log2_bf\": 10.062293435242767, \"gamma\": 2, \"log2_bf_tf\": -2.4660866509837462, \"log2_bf_final\": 7.596206784259021, \"most_freq_rank\": 5, \"least_freq_rank\": 7960}, {\"value\": \"williams\", \"tf\": 0.004442436563511783, \"label_for_charts\": \"Jaro_winkler_similarity 0.8\", \"u_probability\": 0.0035789328185787746, \"tf_col\": \"syn_g0_surname\", \"tf_adjustment_weight\": 0.5, \"log2_bf\": 0.8341213794514446, \"gamma\": 1, \"log2_bf_tf\": -0.15591085626916004, \"log2_bf_final\": 0.6782105231822846, \"most_freq_rank\": 4, \"least_freq_rank\": 7961}, {\"value\": \"williams\", \"tf\": 0.004442436563511783, \"label_for_charts\": \"Exact match\", \"u_probability\": 0.0007971848480165407, \"tf_col\": \"syn_g0_surname\", \"tf_adjustment_weight\": 1.0, \"log2_bf\": 10.062293435242767, \"gamma\": 2, \"log2_bf_tf\": -2.478364980762183, \"log2_bf_final\": 7.583928454480583, \"most_freq_rank\": 4, \"least_freq_rank\": 7961}, {\"value\": \"davies\", \"tf\": 0.004555379865973948, \"label_for_charts\": \"Exact match\", \"u_probability\": 0.0007971848480165407, \"tf_col\": \"syn_g0_surname\", \"tf_adjustment_weight\": 1.0, \"log2_bf\": 10.062293435242767, \"gamma\": 2, \"log2_bf_tf\": -2.5145851686749365, \"log2_bf_final\": 7.54770826656783, \"most_freq_rank\": 3, \"least_freq_rank\": 7962}, {\"value\": \"davies\", \"tf\": 0.004555379865973948, \"label_for_charts\": \"Jaro_winkler_similarity 0.8\", \"u_probability\": 0.0035789328185787746, \"tf_col\": \"syn_g0_surname\", \"tf_adjustment_weight\": 0.5, \"log2_bf\": 0.8341213794514446, \"gamma\": 1, \"log2_bf_tf\": -0.1740209502255367, \"log2_bf_final\": 0.6601004292259078, \"most_freq_rank\": 3, \"least_freq_rank\": 7962}, {\"value\": \"jones\", \"tf\": 0.007680144567427152, \"label_for_charts\": \"Exact match\", \"u_probability\": 0.0007971848480165407, \"tf_col\": \"syn_g0_surname\", \"tf_adjustment_weight\": 1.0, \"log2_bf\": 10.062293435242767, \"gamma\": 2, \"log2_bf_tf\": -3.268147273371838, \"log2_bf_final\": 6.794146161870929, \"most_freq_rank\": 2, \"least_freq_rank\": 7963}, {\"value\": \"jones\", \"tf\": 0.007680144567427152, \"label_for_charts\": \"Jaro_winkler_similarity 0.8\", \"u_probability\": 0.0035789328185787746, \"tf_col\": \"syn_g0_surname\", \"tf_adjustment_weight\": 0.5, \"log2_bf\": 0.8341213794514446, \"gamma\": 1, \"log2_bf_tf\": -0.5508020025739873, \"log2_bf_final\": 0.28331937687745734, \"most_freq_rank\": 2, \"least_freq_rank\": 7963}, {\"value\": \"taylor\", \"tf\": 0.007793087869889316, \"label_for_charts\": \"Exact match\", \"u_probability\": 0.0007971848480165407, \"tf_col\": \"syn_g0_surname\", \"tf_adjustment_weight\": 1.0, \"log2_bf\": 10.062293435242767, \"gamma\": 2, \"log2_bf_tf\": -3.289208888899667, \"log2_bf_final\": 6.7730845463430995, \"most_freq_rank\": 1, \"least_freq_rank\": 7964}, {\"value\": \"taylor\", \"tf\": 0.007793087869889316, \"label_for_charts\": \"Jaro_winkler_similarity 0.8\", \"u_probability\": 0.0035789328185787746, \"tf_col\": \"syn_g0_surname\", \"tf_adjustment_weight\": 0.5, \"log2_bf\": 0.8341213794514446, \"gamma\": 1, \"log2_bf_tf\": -0.561332810337902, \"log2_bf_final\": 0.27278856911354254, \"most_freq_rank\": 1, \"least_freq_rank\": 7964}, {\"value\": \"smith\", \"tf\": 0.00997665838415782, \"label_for_charts\": \"Jaro_winkler_similarity 0.8\", \"u_probability\": 0.0035789328185787746, \"tf_col\": \"syn_g0_surname\", \"tf_adjustment_weight\": 0.5, \"log2_bf\": 0.8341213794514446, \"gamma\": 1, \"log2_bf_tf\": -0.7395136063135203, \"log2_bf_final\": 0.09460777313792434, \"most_freq_rank\": 0, \"least_freq_rank\": 7965}, {\"value\": \"smith\", \"tf\": 0.00997665838415782, \"label_for_charts\": \"Exact match\", \"u_probability\": 0.0007971848480165407, \"tf_col\": \"syn_g0_surname\", \"tf_adjustment_weight\": 1.0, \"log2_bf\": 10.062293435242767, \"gamma\": 2, \"log2_bf_tf\": -3.6455704808509033, \"log2_bf_final\": 6.416722954391863, \"most_freq_rank\": 0, \"least_freq_rank\": 7965}], \"hist\": [{\"gamma\": 1, \"log2_bf\": 0.8341213794514446, \"count\": 3, \"log2_bf_tf\": -0.6172161397418031, \"bin_start\": 0.0, \"bin_end\": 0.5, \"log2_bf_final\": 0.25, \"log2_bf_desc\": \"0.0-0.5\"}, {\"gamma\": 1, \"log2_bf\": 0.8341213794514446, \"count\": 13, \"log2_bf_tf\": -0.02065139988892891, \"bin_start\": 0.5, \"bin_end\": 1.0, \"log2_bf_final\": 0.75, \"log2_bf_desc\": \"0.5-1.0\"}, {\"gamma\": 1, \"log2_bf\": 0.8341213794514446, \"count\": 50, \"log2_bf_tf\": 0.47744426950411245, \"bin_start\": 1.0, \"bin_end\": 1.5, \"log2_bf_final\": 1.25, \"log2_bf_desc\": \"1.0-1.5\"}, {\"gamma\": 1, \"log2_bf\": 0.8341213794514446, \"count\": 109, \"log2_bf_tf\": 0.9623993865660299, \"bin_start\": 1.5, \"bin_end\": 2.0, \"log2_bf_final\": 1.75, \"log2_bf_desc\": \"1.5-2.0\"}, {\"gamma\": 1, \"log2_bf\": 0.8341213794514446, \"count\": 214, \"log2_bf_tf\": 1.4506210051845965, \"bin_start\": 2.0, \"bin_end\": 2.5, \"log2_bf_final\": 2.25, \"log2_bf_desc\": \"2.0-2.5\"}, {\"gamma\": 1, \"log2_bf\": 0.8341213794514446, \"count\": 524, \"log2_bf_tf\": 1.9426585061964226, \"bin_start\": 2.5, \"bin_end\": 3.0, \"log2_bf_final\": 2.75, \"log2_bf_desc\": \"2.5-3.0\"}, {\"gamma\": 1, \"log2_bf\": 0.8341213794514446, \"count\": 754, \"log2_bf_tf\": 2.348436919960073, \"bin_start\": 3.0, \"bin_end\": 3.5, \"log2_bf_final\": 3.25, \"log2_bf_desc\": \"3.0-3.5\"}, {\"gamma\": 1, \"log2_bf\": 0.8341213794514446, \"count\": 4037, \"log2_bf_tf\": 2.7854106684117608, \"bin_start\": 3.5, \"bin_end\": 4.0, \"log2_bf_final\": 3.75, \"log2_bf_desc\": \"3.5-4.0\"}, {\"gamma\": 1, \"log2_bf\": 0.8341213794514446, \"count\": 2262, \"log2_bf_tf\": 3.2854106684117608, \"bin_start\": 4.0, \"bin_end\": 4.5, \"log2_bf_final\": 4.25, \"log2_bf_desc\": \"4.0-4.5\"}, {\"gamma\": 2, \"log2_bf\": 10.062293435242767, \"count\": 1, \"log2_bf_tf\": -3.6455704808509033, \"bin_start\": 6.0, \"bin_end\": 6.5, \"log2_bf_final\": 6.25, \"log2_bf_desc\": \"6.0-6.5\"}, {\"gamma\": 2, \"log2_bf\": 10.062293435242767, \"count\": 2, \"log2_bf_tf\": -3.2786780811357525, \"bin_start\": 6.5, \"bin_end\": 7.0, \"log2_bf_final\": 6.75, \"log2_bf_desc\": \"6.5-7.0\"}, {\"gamma\": 2, \"log2_bf\": 10.062293435242767, \"count\": 9, \"log2_bf_tf\": -2.337072715035272, \"bin_start\": 7.5, \"bin_end\": 8.0, \"log2_bf_final\": 7.75, \"log2_bf_desc\": \"7.5-8.0\"}, {\"gamma\": 2, \"log2_bf\": 10.062293435242767, \"count\": 11, \"log2_bf_tf\": -1.7879601496097193, \"bin_start\": 8.0, \"bin_end\": 8.5, \"log2_bf_final\": 8.25, \"log2_bf_desc\": \"8.0-8.5\"}, {\"gamma\": 2, \"log2_bf\": 10.062293435242767, \"count\": 24, \"log2_bf_tf\": -1.269310860651154, \"bin_start\": 8.5, \"bin_end\": 9.0, \"log2_bf_final\": 8.75, \"log2_bf_desc\": \"8.5-9.0\"}, {\"gamma\": 2, \"log2_bf\": 10.062293435242767, \"count\": 36, \"log2_bf_tf\": -0.8252903161219045, \"bin_start\": 9.0, \"bin_end\": 9.5, \"log2_bf_final\": 9.25, \"log2_bf_desc\": \"9.0-9.5\"}, {\"gamma\": 2, \"log2_bf\": 10.062293435242767, \"count\": 49, \"log2_bf_tf\": -0.3388309023237068, \"bin_start\": 9.5, \"bin_end\": 10.0, \"log2_bf_final\": 9.75, \"log2_bf_desc\": \"9.5-10.0\"}, {\"gamma\": 2, \"log2_bf\": 10.062293435242767, \"count\": 89, \"log2_bf_tf\": 0.19588265420849246, \"bin_start\": 10.0, \"bin_end\": 10.5, \"log2_bf_final\": 10.25, \"log2_bf_desc\": \"10.0-10.5\"}, {\"gamma\": 2, \"log2_bf\": 10.062293435242767, \"count\": 95, \"log2_bf_tf\": 0.6968260542330194, \"bin_start\": 10.5, \"bin_end\": 11.0, \"log2_bf_final\": 10.75, \"log2_bf_desc\": \"10.5-11.0\"}, {\"gamma\": 2, \"log2_bf\": 10.062293435242767, \"count\": 203, \"log2_bf_tf\": 1.2416021198570142, \"bin_start\": 11.0, \"bin_end\": 11.5, \"log2_bf_final\": 11.25, \"log2_bf_desc\": \"11.0-11.5\"}, {\"gamma\": 2, \"log2_bf\": 10.062293435242767, \"count\": 293, \"log2_bf_tf\": 1.7532809581301367, \"bin_start\": 11.5, \"bin_end\": 12.0, \"log2_bf_final\": 11.75, \"log2_bf_desc\": \"11.5-12.0\"}, {\"gamma\": 2, \"log2_bf\": 10.062293435242767, \"count\": 626, \"log2_bf_tf\": 2.352337593226457, \"bin_start\": 12.0, \"bin_end\": 12.5, \"log2_bf_final\": 12.25, \"log2_bf_desc\": \"12.0-12.5\"}, {\"gamma\": 2, \"log2_bf\": 10.062293435242767, \"count\": 229, \"log2_bf_tf\": 2.819315567878502, \"bin_start\": 12.5, \"bin_end\": 13.0, \"log2_bf_final\": 12.75, \"log2_bf_desc\": \"12.5-13.0\"}, {\"gamma\": 2, \"log2_bf\": 10.062293435242767, \"count\": 4037, \"log2_bf_tf\": 3.404278068599658, \"bin_start\": 13.0, \"bin_end\": 13.5, \"log2_bf_final\": 13.25, \"log2_bf_desc\": \"13.0-13.5\"}, {\"gamma\": 2, \"log2_bf\": 10.062293435242767, \"count\": 2262, \"log2_bf_tf\": 4.404278068599658, \"bin_start\": 14.0, \"bin_end\": 14.5, \"log2_bf_final\": 14.25, \"log2_bf_desc\": \"14.0-14.5\"}]}, \"resolve\": {\"scale\": {\"color\": \"shared\", \"y\": \"shared\"}}, \"spacing\": 10, \"title\": {\"text\": \"Term frequency adjusted match weights\", \"anchor\": \"middle\", \"fontSize\": 16, \"subtitle\": \"For selected values, incl. the lowest and highest frequency\"}, \"$schema\": \"https://vega.github.io/schema/vega-lite/v5.9.3.json\"}, {\"mode\": \"vega-lite\"});\n",
       "</script>"
      ],
      "text/plain": [
       "alt.HConcatChart(...)"
      ]
     },
     "execution_count": 26,
     "metadata": {},
     "output_type": "execute_result"
    }
   ],
   "source": [
    "linker.tf_adjustment_chart(\"syn_g0_surname\")\n"
   ]
  },
  {
   "cell_type": "code",
   "execution_count": 18,
   "metadata": {},
   "outputs": [
    {
     "name": "stderr",
     "output_type": "stream",
     "text": [
      "C:\\Users\\uctvjla\\OneDrive - University College London\\Desktop\\splink\\splink_synthetic_data-main\\venv\\lib\\site-packages\\splink\\linker.py:3343: UserWarning: Values [None] from `vals_to_include` were not found in the dataset so are not included in the chart.\n",
      "  return tf_adjustment_chart(\n"
     ]
    },
    {
     "data": {
      "text/html": [
       "\n",
       "<style>\n",
       "  #altair-viz-2516bc4a217d4995adb7ad4befd7ba7a.vega-embed {\n",
       "    width: 100%;\n",
       "    display: flex;\n",
       "  }\n",
       "\n",
       "  #altair-viz-2516bc4a217d4995adb7ad4befd7ba7a.vega-embed details,\n",
       "  #altair-viz-2516bc4a217d4995adb7ad4befd7ba7a.vega-embed details summary {\n",
       "    position: relative;\n",
       "  }\n",
       "</style>\n",
       "<div id=\"altair-viz-2516bc4a217d4995adb7ad4befd7ba7a\"></div>\n",
       "<script type=\"text/javascript\">\n",
       "  var VEGA_DEBUG = (typeof VEGA_DEBUG == \"undefined\") ? {} : VEGA_DEBUG;\n",
       "  (function(spec, embedOpt){\n",
       "    let outputDiv = document.currentScript.previousElementSibling;\n",
       "    if (outputDiv.id !== \"altair-viz-2516bc4a217d4995adb7ad4befd7ba7a\") {\n",
       "      outputDiv = document.getElementById(\"altair-viz-2516bc4a217d4995adb7ad4befd7ba7a\");\n",
       "    }\n",
       "    const paths = {\n",
       "      \"vega\": \"https://cdn.jsdelivr.net/npm/vega@5?noext\",\n",
       "      \"vega-lib\": \"https://cdn.jsdelivr.net/npm/vega-lib?noext\",\n",
       "      \"vega-lite\": \"https://cdn.jsdelivr.net/npm/vega-lite@5.8.0?noext\",\n",
       "      \"vega-embed\": \"https://cdn.jsdelivr.net/npm/vega-embed@6?noext\",\n",
       "    };\n",
       "\n",
       "    function maybeLoadScript(lib, version) {\n",
       "      var key = `${lib.replace(\"-\", \"\")}_version`;\n",
       "      return (VEGA_DEBUG[key] == version) ?\n",
       "        Promise.resolve(paths[lib]) :\n",
       "        new Promise(function(resolve, reject) {\n",
       "          var s = document.createElement('script');\n",
       "          document.getElementsByTagName(\"head\")[0].appendChild(s);\n",
       "          s.async = true;\n",
       "          s.onload = () => {\n",
       "            VEGA_DEBUG[key] = version;\n",
       "            return resolve(paths[lib]);\n",
       "          };\n",
       "          s.onerror = () => reject(`Error loading script: ${paths[lib]}`);\n",
       "          s.src = paths[lib];\n",
       "        });\n",
       "    }\n",
       "\n",
       "    function showError(err) {\n",
       "      outputDiv.innerHTML = `<div class=\"error\" style=\"color:red;\">${err}</div>`;\n",
       "      throw err;\n",
       "    }\n",
       "\n",
       "    function displayChart(vegaEmbed) {\n",
       "      vegaEmbed(outputDiv, spec, embedOpt)\n",
       "        .catch(err => showError(`Javascript Error: ${err.message}<br>This usually means there's a typo in your chart specification. See the javascript console for the full traceback.`));\n",
       "    }\n",
       "\n",
       "    if(typeof define === \"function\" && define.amd) {\n",
       "      requirejs.config({paths});\n",
       "      require([\"vega-embed\"], displayChart, err => showError(`Error loading script: ${err.message}`));\n",
       "    } else {\n",
       "      maybeLoadScript(\"vega\", \"5\")\n",
       "        .then(() => maybeLoadScript(\"vega-lite\", \"5.8.0\"))\n",
       "        .then(() => maybeLoadScript(\"vega-embed\", \"6\"))\n",
       "        .catch(showError)\n",
       "        .then(() => displayChart(vegaEmbed));\n",
       "    }\n",
       "  })({\"config\": {\"view\": {\"continuousWidth\": 300, \"continuousHeight\": 300}, \"params\": [{\"name\": \"gamma_sel\", \"bind\": {\"input\": \"select\", \"options\": [2, 1], \"labels\": [\"Exact match (TF col: syn_g1_firstname)\", \"Jaro_winkler_similarity 0.8 (TF col: syn_g1_firstname)\"], \"name\": \"Gamma level:\"}, \"value\": 2}]}, \"hconcat\": [{\"layer\": [{\"mark\": {\"type\": \"point\", \"filled\": true, \"size\": 100, \"stroke\": \"black\", \"strokeWidth\": 1}, \"encoding\": {\"color\": {\"field\": \"log2_bf_tf\", \"scale\": {\"domain\": [-2.5, 2.5], \"scheme\": \"redyellowgreen\"}, \"title\": \"TF adjustment weight\", \"type\": \"quantitative\"}, \"tooltip\": [{\"field\": \"value\", \"title\": \"Value\", \"type\": \"nominal\"}, {\"field\": \"log2_bf\", \"format\": \"+.3\", \"title\": \"Match weight\", \"type\": \"quantitative\"}, {\"field\": \"log2_bf_tf\", \"format\": \"+.3\", \"title\": \"TF adjusted match weight\", \"type\": \"quantitative\"}, {\"field\": \"log2_bf_final\", \"format\": \"+.3\", \"title\": \"Final match weight\", \"type\": \"quantitative\"}], \"x\": {\"axis\": {\"labelAngle\": -60, \"labelFontSize\": 16, \"titleFontSize\": 20}, \"field\": \"value\", \"sort\": {\"field\": \"log2_bf_final\", \"order\": \"ascending\"}, \"title\": \"TF column value\", \"type\": \"nominal\"}, \"y\": {\"axis\": {\"format\": \"+\", \"labelFontSize\": 16, \"titleFontSize\": 18, \"values\": [-5, -4, -3, -2, -1, 0, 1, 2, 3, 4, 5, 6, 7, 8, 9, 10, 11, 12, 13, 14, 15, 16, 17, 18, 19, 20]}, \"field\": \"log2_bf_final\", \"title\": \"Match weight\", \"type\": \"quantitative\"}}}, {\"mark\": \"rule\", \"encoding\": {\"y\": {\"field\": \"log2_bf\", \"type\": \"quantitative\"}}, \"transform\": [{\"filter\": \"datum.gamma == gamma_sel\"}]}, {\"mark\": {\"type\": \"rule\", \"opacity\": 0.5, \"strokeWidth\": 2}, \"encoding\": {\"color\": {\"field\": \"log2_bf_tf\", \"legend\": null, \"scale\": {\"domain\": [-2.5, 2.5], \"scheme\": \"redyellowgreen\"}, \"title\": \"TF adjustment weight\", \"type\": \"quantitative\"}, \"x\": {\"field\": \"value\", \"sort\": {\"field\": \"log2_bf_final\", \"order\": \"ascending\"}, \"title\": \"TF column value\", \"type\": \"nominal\"}, \"y\": {\"field\": \"log2_bf_final\", \"type\": \"quantitative\"}, \"y2\": {\"type\": \"quantitative\"}}, \"transform\": [{\"filter\": \"datum.gamma == gamma_sel\"}]}], \"data\": {\"name\": \"data\"}, \"height\": 400, \"transform\": [{\"filter\": \"datum.gamma == gamma_sel\"}], \"width\": {\"step\": 20}}, {\"mark\": {\"type\": \"bar\", \"fillOpacity\": 0.8, \"filled\": true, \"stroke\": \"black\", \"strokeWidth\": 1}, \"data\": {\"name\": \"hist\"}, \"encoding\": {\"color\": {\"field\": \"log2_bf_tf\", \"legend\": null, \"scale\": {\"domain\": [-2.5, 2.5], \"scheme\": \"redyellowgreen\"}, \"title\": \"TF adjustment weight\", \"type\": \"quantitative\"}, \"tooltip\": [{\"field\": \"log2_bf_desc\", \"title\": \"Match weight\"}, {\"field\": \"count\", \"title\": \"Number of values\"}], \"x\": {\"axis\": {\"domain\": false, \"gridOpacity\": 0.5, \"labelAlign\": \"center\", \"labelFontSize\": 12, \"labelOpacity\": 0.5, \"labelOverlap\": true, \"ticks\": false, \"title\": \"Count of values\", \"titleFontSize\": 12, \"titleOpacity\": 0.5}, \"field\": \"count\", \"type\": \"quantitative\"}, \"y\": {\"axis\": null, \"bin\": {\"step\": 0.5}, \"field\": \"log2_bf_final\", \"type\": \"quantitative\"}}, \"transform\": [{\"filter\": {\"or\": [\"datum.gamma == gamma_sel\", {\"field\": \"gamma\", \"valid\": false}]}}], \"view\": {\"stroke\": \"transparent\"}, \"width\": 100}], \"datasets\": {\"data\": [{\"value\": \"carl joseph\", \"tf\": 3.7815761609438814e-05, \"label_for_charts\": \"Exact match\", \"u_probability\": 0.00489086420082551, \"tf_col\": \"syn_g1_firstname\", \"tf_adjustment_weight\": 1.0, \"log2_bf\": 7.58507111173829, \"gamma\": 2, \"log2_bf_tf\": 7.014957922213157, \"log2_bf_final\": 14.600029033951447, \"most_freq_rank\": 2632, \"least_freq_rank\": 0}, {\"value\": \"carl joseph\", \"tf\": 3.7815761609438814e-05, \"label_for_charts\": \"Jaro_winkler_similarity 0.8\", \"u_probability\": 0.005905348515342922, \"tf_col\": \"syn_g1_firstname\", \"tf_adjustment_weight\": 0.5, \"log2_bf\": 2.0818339842556415, \"gamma\": 1, \"log2_bf_tf\": 3.64344536010274, \"log2_bf_final\": 5.725279344358381, \"most_freq_rank\": 2632, \"least_freq_rank\": 0}, {\"value\": \"konr\\u00e1\\u00f0ur\", \"tf\": 3.7815761609438814e-05, \"label_for_charts\": \"Jaro_winkler_similarity 0.8\", \"u_probability\": 0.005905348515342922, \"tf_col\": \"syn_g1_firstname\", \"tf_adjustment_weight\": 0.5, \"log2_bf\": 2.0818339842556415, \"gamma\": 1, \"log2_bf_tf\": 3.64344536010274, \"log2_bf_final\": 5.725279344358381, \"most_freq_rank\": 2631, \"least_freq_rank\": 1}, {\"value\": \"konr\\u00e1\\u00f0ur\", \"tf\": 3.7815761609438814e-05, \"label_for_charts\": \"Exact match\", \"u_probability\": 0.00489086420082551, \"tf_col\": \"syn_g1_firstname\", \"tf_adjustment_weight\": 1.0, \"log2_bf\": 7.58507111173829, \"gamma\": 2, \"log2_bf_tf\": 7.014957922213157, \"log2_bf_final\": 14.600029033951447, \"most_freq_rank\": 2631, \"least_freq_rank\": 1}, {\"value\": \"giovanni battista\", \"tf\": 3.7815761609438814e-05, \"label_for_charts\": \"Exact match\", \"u_probability\": 0.00489086420082551, \"tf_col\": \"syn_g1_firstname\", \"tf_adjustment_weight\": 1.0, \"log2_bf\": 7.58507111173829, \"gamma\": 2, \"log2_bf_tf\": 7.014957922213157, \"log2_bf_final\": 14.600029033951447, \"most_freq_rank\": 2630, \"least_freq_rank\": 2}, {\"value\": \"giovanni battista\", \"tf\": 3.7815761609438814e-05, \"label_for_charts\": \"Jaro_winkler_similarity 0.8\", \"u_probability\": 0.005905348515342922, \"tf_col\": \"syn_g1_firstname\", \"tf_adjustment_weight\": 0.5, \"log2_bf\": 2.0818339842556415, \"gamma\": 1, \"log2_bf_tf\": 3.64344536010274, \"log2_bf_final\": 5.725279344358381, \"most_freq_rank\": 2630, \"least_freq_rank\": 2}, {\"value\": \"henk\", \"tf\": 3.7815761609438814e-05, \"label_for_charts\": \"Jaro_winkler_similarity 0.8\", \"u_probability\": 0.005905348515342922, \"tf_col\": \"syn_g1_firstname\", \"tf_adjustment_weight\": 0.5, \"log2_bf\": 2.0818339842556415, \"gamma\": 1, \"log2_bf_tf\": 3.64344536010274, \"log2_bf_final\": 5.725279344358381, \"most_freq_rank\": 2629, \"least_freq_rank\": 3}, {\"value\": \"henk\", \"tf\": 3.7815761609438814e-05, \"label_for_charts\": \"Exact match\", \"u_probability\": 0.00489086420082551, \"tf_col\": \"syn_g1_firstname\", \"tf_adjustment_weight\": 1.0, \"log2_bf\": 7.58507111173829, \"gamma\": 2, \"log2_bf_tf\": 7.014957922213157, \"log2_bf_final\": 14.600029033951447, \"most_freq_rank\": 2629, \"least_freq_rank\": 3}, {\"value\": \"depke\", \"tf\": 3.7815761609438814e-05, \"label_for_charts\": \"Jaro_winkler_similarity 0.8\", \"u_probability\": 0.005905348515342922, \"tf_col\": \"syn_g1_firstname\", \"tf_adjustment_weight\": 0.5, \"log2_bf\": 2.0818339842556415, \"gamma\": 1, \"log2_bf_tf\": 3.64344536010274, \"log2_bf_final\": 5.725279344358381, \"most_freq_rank\": 2628, \"least_freq_rank\": 4}, {\"value\": \"depke\", \"tf\": 3.7815761609438814e-05, \"label_for_charts\": \"Exact match\", \"u_probability\": 0.00489086420082551, \"tf_col\": \"syn_g1_firstname\", \"tf_adjustment_weight\": 1.0, \"log2_bf\": 7.58507111173829, \"gamma\": 2, \"log2_bf_tf\": 7.014957922213157, \"log2_bf_final\": 14.600029033951447, \"most_freq_rank\": 2628, \"least_freq_rank\": 4}, {\"value\": \"noam\", \"tf\": 3.7815761609438814e-05, \"label_for_charts\": \"Jaro_winkler_similarity 0.8\", \"u_probability\": 0.005905348515342922, \"tf_col\": \"syn_g1_firstname\", \"tf_adjustment_weight\": 0.5, \"log2_bf\": 2.0818339842556415, \"gamma\": 1, \"log2_bf_tf\": 3.64344536010274, \"log2_bf_final\": 5.725279344358381, \"most_freq_rank\": 2627, \"least_freq_rank\": 5}, {\"value\": \"noam\", \"tf\": 3.7815761609438814e-05, \"label_for_charts\": \"Exact match\", \"u_probability\": 0.00489086420082551, \"tf_col\": \"syn_g1_firstname\", \"tf_adjustment_weight\": 1.0, \"log2_bf\": 7.58507111173829, \"gamma\": 2, \"log2_bf_tf\": 7.014957922213157, \"log2_bf_final\": 14.600029033951447, \"most_freq_rank\": 2627, \"least_freq_rank\": 5}, {\"value\": \"prymus\", \"tf\": 3.7815761609438814e-05, \"label_for_charts\": \"Exact match\", \"u_probability\": 0.00489086420082551, \"tf_col\": \"syn_g1_firstname\", \"tf_adjustment_weight\": 1.0, \"log2_bf\": 7.58507111173829, \"gamma\": 2, \"log2_bf_tf\": 7.014957922213157, \"log2_bf_final\": 14.600029033951447, \"most_freq_rank\": 2626, \"least_freq_rank\": 6}, {\"value\": \"prymus\", \"tf\": 3.7815761609438814e-05, \"label_for_charts\": \"Jaro_winkler_similarity 0.8\", \"u_probability\": 0.005905348515342922, \"tf_col\": \"syn_g1_firstname\", \"tf_adjustment_weight\": 0.5, \"log2_bf\": 2.0818339842556415, \"gamma\": 1, \"log2_bf_tf\": 3.64344536010274, \"log2_bf_final\": 5.725279344358381, \"most_freq_rank\": 2626, \"least_freq_rank\": 6}, {\"value\": \"clayton\", \"tf\": 3.7815761609438814e-05, \"label_for_charts\": \"Jaro_winkler_similarity 0.8\", \"u_probability\": 0.005905348515342922, \"tf_col\": \"syn_g1_firstname\", \"tf_adjustment_weight\": 0.5, \"log2_bf\": 2.0818339842556415, \"gamma\": 1, \"log2_bf_tf\": 3.64344536010274, \"log2_bf_final\": 5.725279344358381, \"most_freq_rank\": 2625, \"least_freq_rank\": 7}, {\"value\": \"clayton\", \"tf\": 3.7815761609438814e-05, \"label_for_charts\": \"Exact match\", \"u_probability\": 0.00489086420082551, \"tf_col\": \"syn_g1_firstname\", \"tf_adjustment_weight\": 1.0, \"log2_bf\": 7.58507111173829, \"gamma\": 2, \"log2_bf_tf\": 7.014957922213157, \"log2_bf_final\": 14.600029033951447, \"most_freq_rank\": 2625, \"least_freq_rank\": 7}, {\"value\": \"fredrique\", \"tf\": 3.7815761609438814e-05, \"label_for_charts\": \"Exact match\", \"u_probability\": 0.00489086420082551, \"tf_col\": \"syn_g1_firstname\", \"tf_adjustment_weight\": 1.0, \"log2_bf\": 7.58507111173829, \"gamma\": 2, \"log2_bf_tf\": 7.014957922213157, \"log2_bf_final\": 14.600029033951447, \"most_freq_rank\": 2624, \"least_freq_rank\": 8}, {\"value\": \"fredrique\", \"tf\": 3.7815761609438814e-05, \"label_for_charts\": \"Jaro_winkler_similarity 0.8\", \"u_probability\": 0.005905348515342922, \"tf_col\": \"syn_g1_firstname\", \"tf_adjustment_weight\": 0.5, \"log2_bf\": 2.0818339842556415, \"gamma\": 1, \"log2_bf_tf\": 3.64344536010274, \"log2_bf_final\": 5.725279344358381, \"most_freq_rank\": 2624, \"least_freq_rank\": 8}, {\"value\": \"dwane\", \"tf\": 3.7815761609438814e-05, \"label_for_charts\": \"Exact match\", \"u_probability\": 0.00489086420082551, \"tf_col\": \"syn_g1_firstname\", \"tf_adjustment_weight\": 1.0, \"log2_bf\": 7.58507111173829, \"gamma\": 2, \"log2_bf_tf\": 7.014957922213157, \"log2_bf_final\": 14.600029033951447, \"most_freq_rank\": 2623, \"least_freq_rank\": 9}, {\"value\": \"dwane\", \"tf\": 3.7815761609438814e-05, \"label_for_charts\": \"Jaro_winkler_similarity 0.8\", \"u_probability\": 0.005905348515342922, \"tf_col\": \"syn_g1_firstname\", \"tf_adjustment_weight\": 0.5, \"log2_bf\": 2.0818339842556415, \"gamma\": 1, \"log2_bf_tf\": 3.64344536010274, \"log2_bf_final\": 5.725279344358381, \"most_freq_rank\": 2623, \"least_freq_rank\": 9}, {\"value\": \"Sophie\", \"tf\": 0.010550597489033428, \"label_for_charts\": \"Exact match\", \"u_probability\": 0.00489086420082551, \"tf_col\": \"syn_g1_firstname\", \"tf_adjustment_weight\": 1.0, \"log2_bf\": 7.58507111173829, \"gamma\": 2, \"log2_bf_tf\": -1.10916338961603, \"log2_bf_final\": 6.47590772212226, \"most_freq_rank\": 9, \"least_freq_rank\": 2623}, {\"value\": \"Sophie\", \"tf\": 0.010550597489033428, \"label_for_charts\": \"Jaro_winkler_similarity 0.8\", \"u_probability\": 0.005905348515342922, \"tf_col\": \"syn_g1_firstname\", \"tf_adjustment_weight\": 0.5, \"log2_bf\": 2.0818339842556415, \"gamma\": 1, \"log2_bf_tf\": -0.4186152958118538, \"log2_bf_final\": 1.6632186884437876, \"most_freq_rank\": 9, \"least_freq_rank\": 2623}, {\"value\": \"Harry\", \"tf\": 0.01089093934351838, \"label_for_charts\": \"Exact match\", \"u_probability\": 0.00489086420082551, \"tf_col\": \"syn_g1_firstname\", \"tf_adjustment_weight\": 1.0, \"log2_bf\": 7.58507111173829, \"gamma\": 2, \"log2_bf_tf\": -1.154967079229155, \"log2_bf_final\": 6.430104032509135, \"most_freq_rank\": 8, \"least_freq_rank\": 2624}, {\"value\": \"Harry\", \"tf\": 0.01089093934351838, \"label_for_charts\": \"Jaro_winkler_similarity 0.8\", \"u_probability\": 0.005905348515342922, \"tf_col\": \"syn_g1_firstname\", \"tf_adjustment_weight\": 0.5, \"log2_bf\": 2.0818339842556415, \"gamma\": 1, \"log2_bf_tf\": -0.44151714061841624, \"log2_bf_final\": 1.6403168436372253, \"most_freq_rank\": 8, \"least_freq_rank\": 2624}, {\"value\": \"Jessica\", \"tf\": 0.011420360006050522, \"label_for_charts\": \"Exact match\", \"u_probability\": 0.00489086420082551, \"tf_col\": \"syn_g1_firstname\", \"tf_adjustment_weight\": 1.0, \"log2_bf\": 7.58507111173829, \"gamma\": 2, \"log2_bf_tf\": -1.2234468171119217, \"log2_bf_final\": 6.361624294626369, \"most_freq_rank\": 7, \"least_freq_rank\": 2625}, {\"value\": \"Jessica\", \"tf\": 0.011420360006050522, \"label_for_charts\": \"Jaro_winkler_similarity 0.8\", \"u_probability\": 0.005905348515342922, \"tf_col\": \"syn_g1_firstname\", \"tf_adjustment_weight\": 0.5, \"log2_bf\": 2.0818339842556415, \"gamma\": 1, \"log2_bf_tf\": -0.4757570095597996, \"log2_bf_final\": 1.6060769746958419, \"most_freq_rank\": 7, \"least_freq_rank\": 2625}, {\"value\": \"Chloe\", \"tf\": 0.011647254575707155, \"label_for_charts\": \"Exact match\", \"u_probability\": 0.00489086420082551, \"tf_col\": \"syn_g1_firstname\", \"tf_adjustment_weight\": 1.0, \"log2_bf\": 7.58507111173829, \"gamma\": 2, \"log2_bf_tf\": -1.2518286184817442, \"log2_bf_final\": 6.333242493256545, \"most_freq_rank\": 6, \"least_freq_rank\": 2626}, {\"value\": \"Chloe\", \"tf\": 0.011647254575707155, \"label_for_charts\": \"Jaro_winkler_similarity 0.8\", \"u_probability\": 0.005905348515342922, \"tf_col\": \"syn_g1_firstname\", \"tf_adjustment_weight\": 0.5, \"log2_bf\": 2.0818339842556415, \"gamma\": 1, \"log2_bf_tf\": -0.4899479102447107, \"log2_bf_final\": 1.5918860740109309, \"most_freq_rank\": 6, \"least_freq_rank\": 2626}, {\"value\": \"James\", \"tf\": 0.013462411132960218, \"label_for_charts\": \"Jaro_winkler_similarity 0.8\", \"u_probability\": 0.005905348515342922, \"tf_col\": \"syn_g1_firstname\", \"tf_adjustment_weight\": 0.5, \"log2_bf\": 2.0818339842556415, \"gamma\": 1, \"log2_bf_tf\": -0.5944213553804589, \"log2_bf_final\": 1.4874126288751826, \"most_freq_rank\": 5, \"least_freq_rank\": 2627}, {\"value\": \"James\", \"tf\": 0.013462411132960218, \"label_for_charts\": \"Exact match\", \"u_probability\": 0.00489086420082551, \"tf_col\": \"syn_g1_firstname\", \"tf_adjustment_weight\": 1.0, \"log2_bf\": 7.58507111173829, \"gamma\": 2, \"log2_bf_tf\": -1.4607755087532404, \"log2_bf_final\": 6.1242956029850495, \"most_freq_rank\": 5, \"least_freq_rank\": 2627}, {\"value\": \"Joshua\", \"tf\": 0.014369989411586749, \"label_for_charts\": \"Jaro_winkler_similarity 0.8\", \"u_probability\": 0.005905348515342922, \"tf_col\": \"syn_g1_firstname\", \"tf_adjustment_weight\": 0.5, \"log2_bf\": 2.0818339842556415, \"gamma\": 1, \"log2_bf_tf\": -0.641482444062734, \"log2_bf_final\": 1.4403515401929075, \"most_freq_rank\": 4, \"least_freq_rank\": 2628}, {\"value\": \"Joshua\", \"tf\": 0.014369989411586749, \"label_for_charts\": \"Exact match\", \"u_probability\": 0.00489086420082551, \"tf_col\": \"syn_g1_firstname\", \"tf_adjustment_weight\": 1.0, \"log2_bf\": 7.58507111173829, \"gamma\": 2, \"log2_bf_tf\": -1.5548976861177906, \"log2_bf_final\": 6.030173425620499, \"most_freq_rank\": 4, \"least_freq_rank\": 2628}, {\"value\": \"Emily\", \"tf\": 0.014596883981243381, \"label_for_charts\": \"Exact match\", \"u_probability\": 0.00489086420082551, \"tf_col\": \"syn_g1_firstname\", \"tf_adjustment_weight\": 1.0, \"log2_bf\": 7.58507111173829, \"gamma\": 2, \"log2_bf_tf\": -1.5774991150549231, \"log2_bf_final\": 6.0075719966833665, \"most_freq_rank\": 3, \"least_freq_rank\": 2629}, {\"value\": \"Emily\", \"tf\": 0.014596883981243381, \"label_for_charts\": \"Jaro_winkler_similarity 0.8\", \"u_probability\": 0.005905348515342922, \"tf_col\": \"syn_g1_firstname\", \"tf_adjustment_weight\": 0.5, \"log2_bf\": 2.0818339842556415, \"gamma\": 1, \"log2_bf_tf\": -0.6527831585313003, \"log2_bf_final\": 1.429050825724341, \"most_freq_rank\": 3, \"least_freq_rank\": 2629}, {\"value\": \"Oliver\", \"tf\": 0.015844804114354863, \"label_for_charts\": \"Exact match\", \"u_probability\": 0.00489086420082551, \"tf_col\": \"syn_g1_firstname\", \"tf_adjustment_weight\": 1.0, \"log2_bf\": 7.58507111173829, \"gamma\": 2, \"log2_bf_tf\": -1.695848511486194, \"log2_bf_final\": 5.889222600252095, \"most_freq_rank\": 2, \"least_freq_rank\": 2630}, {\"value\": \"Oliver\", \"tf\": 0.015844804114354863, \"label_for_charts\": \"Jaro_winkler_similarity 0.8\", \"u_probability\": 0.005905348515342922, \"tf_col\": \"syn_g1_firstname\", \"tf_adjustment_weight\": 0.5, \"log2_bf\": 2.0818339842556415, \"gamma\": 1, \"log2_bf_tf\": -0.7119578567469358, \"log2_bf_final\": 1.3698761275087057, \"most_freq_rank\": 2, \"least_freq_rank\": 2630}, {\"value\": \"Thomas\", \"tf\": 0.01818938133414007, \"label_for_charts\": \"Exact match\", \"u_probability\": 0.00489086420082551, \"tf_col\": \"syn_g1_firstname\", \"tf_adjustment_weight\": 1.0, \"log2_bf\": 7.58507111173829, \"gamma\": 2, \"log2_bf_tf\": -1.8949351615568848, \"log2_bf_final\": 5.690135950181405, \"most_freq_rank\": 1, \"least_freq_rank\": 2631}, {\"value\": \"Thomas\", \"tf\": 0.01818938133414007, \"label_for_charts\": \"Jaro_winkler_similarity 0.8\", \"u_probability\": 0.005905348515342922, \"tf_col\": \"syn_g1_firstname\", \"tf_adjustment_weight\": 0.5, \"log2_bf\": 2.0818339842556415, \"gamma\": 1, \"log2_bf_tf\": -0.8115011817822811, \"log2_bf_final\": 1.2703328024733604, \"most_freq_rank\": 1, \"least_freq_rank\": 2631}, {\"value\": \"Jack\", \"tf\": 0.018378460142187265, \"label_for_charts\": \"Jaro_winkler_similarity 0.8\", \"u_probability\": 0.005905348515342922, \"tf_col\": \"syn_g1_firstname\", \"tf_adjustment_weight\": 0.5, \"log2_bf\": 2.0818339842556415, \"gamma\": 1, \"log2_bf_tf\": -0.8189608917001506, \"log2_bf_final\": 1.2628730925554907, \"most_freq_rank\": 0, \"least_freq_rank\": 2632}, {\"value\": \"Jack\", \"tf\": 0.018378460142187265, \"label_for_charts\": \"Exact match\", \"u_probability\": 0.00489086420082551, \"tf_col\": \"syn_g1_firstname\", \"tf_adjustment_weight\": 1.0, \"log2_bf\": 7.58507111173829, \"gamma\": 2, \"log2_bf_tf\": -1.9098545813926238, \"log2_bf_final\": 5.675216530345666, \"most_freq_rank\": 0, \"least_freq_rank\": 2632}], \"hist\": [{\"gamma\": 1, \"log2_bf\": 2.0818339842556415, \"count\": 6, \"log2_bf_tf\": -0.7051844813673102, \"bin_start\": 1.0, \"bin_end\": 1.5, \"log2_bf_final\": 1.25, \"log2_bf_desc\": \"1.0-1.5\"}, {\"gamma\": 1, \"log2_bf\": 2.0818339842556415, \"count\": 24, \"log2_bf_tf\": -0.29093193407785384, \"bin_start\": 1.5, \"bin_end\": 2.0, \"log2_bf_final\": 1.75, \"log2_bf_desc\": \"1.5-2.0\"}, {\"gamma\": 1, \"log2_bf\": 2.0818339842556415, \"count\": 40, \"log2_bf_tf\": 0.16698758172766376, \"bin_start\": 2.0, \"bin_end\": 2.5, \"log2_bf_final\": 2.25, \"log2_bf_desc\": \"2.0-2.5\"}, {\"gamma\": 1, \"log2_bf\": 2.0818339842556415, \"count\": 60, \"log2_bf_tf\": 0.7100560993753048, \"bin_start\": 2.5, \"bin_end\": 3.0, \"log2_bf_final\": 2.75, \"log2_bf_desc\": \"2.5-3.0\"}, {\"gamma\": 1, \"log2_bf\": 2.0818339842556415, \"count\": 82, \"log2_bf_tf\": 1.2002193589625996, \"bin_start\": 3.0, \"bin_end\": 3.5, \"log2_bf_final\": 3.25, \"log2_bf_desc\": \"3.0-3.5\"}, {\"gamma\": 1, \"log2_bf\": 2.0818339842556415, \"count\": 120, \"log2_bf_tf\": 1.6939163777403607, \"bin_start\": 3.5, \"bin_end\": 4.0, \"log2_bf_final\": 3.75, \"log2_bf_desc\": \"3.5-4.0\"}, {\"gamma\": 1, \"log2_bf\": 2.0818339842556415, \"count\": 191, \"log2_bf_tf\": 2.1967265238906393, \"bin_start\": 4.0, \"bin_end\": 4.5, \"log2_bf_final\": 4.25, \"log2_bf_desc\": \"4.0-4.5\"}, {\"gamma\": 1, \"log2_bf\": 2.0818339842556415, \"count\": 238, \"log2_bf_tf\": 2.6617890717976707, \"bin_start\": 4.5, \"bin_end\": 5.0, \"log2_bf_final\": 4.75, \"log2_bf_desc\": \"4.5-5.0\"}, {\"gamma\": 1, \"log2_bf\": 2.0818339842556415, \"count\": 1072, \"log2_bf_tf\": 3.14344536010274, \"bin_start\": 5.0, \"bin_end\": 5.5, \"log2_bf_final\": 5.25, \"log2_bf_desc\": \"5.0-5.5\"}, {\"gamma\": 1, \"log2_bf\": 2.0818339842556415, \"count\": 800, \"log2_bf_tf\": 3.64344536010274, \"bin_start\": 5.5, \"bin_end\": 6.0, \"log2_bf_final\": 5.75, \"log2_bf_desc\": \"5.5-6.0\"}, {\"gamma\": 2, \"log2_bf\": 7.58507111173829, \"count\": 3, \"log2_bf_tf\": -1.833546084811901, \"bin_start\": 5.5, \"bin_end\": 6.0, \"log2_bf_final\": 5.75, \"log2_bf_desc\": \"5.5-6.0\"}, {\"gamma\": 2, \"log2_bf\": 7.58507111173829, \"count\": 9, \"log2_bf_tf\": -1.2793860705698537, \"bin_start\": 6.0, \"bin_end\": 6.5, \"log2_bf_final\": 6.25, \"log2_bf_desc\": \"6.0-6.5\"}, {\"gamma\": 2, \"log2_bf\": 7.58507111173829, \"count\": 12, \"log2_bf_tf\": -0.8780036682405172, \"bin_start\": 6.5, \"bin_end\": 7.0, \"log2_bf_final\": 6.75, \"log2_bf_desc\": \"6.5-7.0\"}, {\"gamma\": 2, \"log2_bf\": 7.58507111173829, \"count\": 21, \"log2_bf_tf\": -0.3091463564705291, \"bin_start\": 7.0, \"bin_end\": 7.5, \"log2_bf_final\": 7.25, \"log2_bf_desc\": \"7.0-7.5\"}, {\"gamma\": 2, \"log2_bf\": 7.58507111173829, \"count\": 21, \"log2_bf_tf\": 0.1854037442582493, \"bin_start\": 7.5, \"bin_end\": 8.0, \"log2_bf_final\": 7.75, \"log2_bf_desc\": \"7.5-8.0\"}, {\"gamma\": 2, \"log2_bf\": 7.58507111173829, \"count\": 17, \"log2_bf_tf\": 0.6818333921683873, \"bin_start\": 8.0, \"bin_end\": 8.5, \"log2_bf_final\": 8.25, \"log2_bf_desc\": \"8.0-8.5\"}, {\"gamma\": 2, \"log2_bf\": 7.58507111173829, \"count\": 34, \"log2_bf_tf\": 1.175867576783749, \"bin_start\": 8.5, \"bin_end\": 9.0, \"log2_bf_final\": 8.75, \"log2_bf_desc\": \"8.5-9.0\"}, {\"gamma\": 2, \"log2_bf\": 7.58507111173829, \"count\": 35, \"log2_bf_tf\": 1.6598278117029421, \"bin_start\": 9.0, \"bin_end\": 9.5, \"log2_bf_final\": 9.25, \"log2_bf_desc\": \"9.0-9.5\"}, {\"gamma\": 2, \"log2_bf\": 7.58507111173829, \"count\": 40, \"log2_bf_tf\": 2.14740596554518, \"bin_start\": 9.5, \"bin_end\": 10.0, \"log2_bf_final\": 9.75, \"log2_bf_desc\": \"9.5-10.0\"}, {\"gamma\": 2, \"log2_bf\": 7.58507111173829, \"count\": 49, \"log2_bf_tf\": 2.6328944178439535, \"bin_start\": 10.0, \"bin_end\": 10.5, \"log2_bf_final\": 10.25, \"log2_bf_desc\": \"10.0-10.5\"}, {\"gamma\": 2, \"log2_bf\": 7.58507111173829, \"count\": 59, \"log2_bf_tf\": 3.117295338988857, \"bin_start\": 10.5, \"bin_end\": 11.0, \"log2_bf_final\": 10.75, \"log2_bf_desc\": \"10.5-11.0\"}, {\"gamma\": 2, \"log2_bf\": 7.58507111173829, \"count\": 83, \"log2_bf_tf\": 3.6253757427471065, \"bin_start\": 11.0, \"bin_end\": 11.5, \"log2_bf_final\": 11.25, \"log2_bf_desc\": \"11.0-11.5\"}, {\"gamma\": 2, \"log2_bf\": 7.58507111173829, \"count\": 61, \"log2_bf_tf\": 4.052855314595268, \"bin_start\": 11.5, \"bin_end\": 12.0, \"log2_bf_final\": 11.75, \"log2_bf_desc\": \"11.5-12.0\"}, {\"gamma\": 2, \"log2_bf\": 7.58507111173829, \"count\": 97, \"log2_bf_tf\": 4.478805929791055, \"bin_start\": 12.0, \"bin_end\": 12.5, \"log2_bf_final\": 12.25, \"log2_bf_desc\": \"12.0-12.5\"}, {\"gamma\": 2, \"log2_bf\": 7.58507111173829, \"count\": 185, \"log2_bf_tf\": 5.014957922213157, \"bin_start\": 12.5, \"bin_end\": 13.0, \"log2_bf_final\": 12.75, \"log2_bf_desc\": \"12.5-13.0\"}, {\"gamma\": 2, \"log2_bf\": 7.58507111173829, \"count\": 35, \"log2_bf_tf\": 5.429995421492001, \"bin_start\": 13.0, \"bin_end\": 13.5, \"log2_bf_final\": 13.25, \"log2_bf_desc\": \"13.0-13.5\"}, {\"gamma\": 2, \"log2_bf\": 7.58507111173829, \"count\": 1072, \"log2_bf_tf\": 6.014957922213157, \"bin_start\": 13.5, \"bin_end\": 14.0, \"log2_bf_final\": 13.75, \"log2_bf_desc\": \"13.5-14.0\"}, {\"gamma\": 2, \"log2_bf\": 7.58507111173829, \"count\": 800, \"log2_bf_tf\": 7.014957922213157, \"bin_start\": 14.5, \"bin_end\": 15.0, \"log2_bf_final\": 14.75, \"log2_bf_desc\": \"14.5-15.0\"}]}, \"resolve\": {\"scale\": {\"color\": \"shared\", \"y\": \"shared\"}}, \"spacing\": 10, \"title\": {\"text\": \"Term frequency adjusted match weights\", \"anchor\": \"middle\", \"fontSize\": 16, \"subtitle\": \"For selected values, incl. the lowest and highest frequency\"}, \"$schema\": \"https://vega.github.io/schema/vega-lite/v5.9.3.json\"}, {\"mode\": \"vega-lite\"});\n",
       "</script>"
      ],
      "text/plain": [
       "alt.HConcatChart(...)"
      ]
     },
     "execution_count": 18,
     "metadata": {},
     "output_type": "execute_result"
    }
   ],
   "source": [
    "linker.tf_adjustment_chart(\"syn_g1_firstname\")\n"
   ]
  },
  {
   "cell_type": "code",
   "execution_count": 22,
   "metadata": {},
   "outputs": [
    {
     "data": {
      "text/html": [
       "\n",
       "<style>\n",
       "  #altair-viz-25a83e48b52d4b0889ca64b7c662be28.vega-embed {\n",
       "    width: 100%;\n",
       "    display: flex;\n",
       "  }\n",
       "\n",
       "  #altair-viz-25a83e48b52d4b0889ca64b7c662be28.vega-embed details,\n",
       "  #altair-viz-25a83e48b52d4b0889ca64b7c662be28.vega-embed details summary {\n",
       "    position: relative;\n",
       "  }\n",
       "</style>\n",
       "<div id=\"altair-viz-25a83e48b52d4b0889ca64b7c662be28\"></div>\n",
       "<script type=\"text/javascript\">\n",
       "  var VEGA_DEBUG = (typeof VEGA_DEBUG == \"undefined\") ? {} : VEGA_DEBUG;\n",
       "  (function(spec, embedOpt){\n",
       "    let outputDiv = document.currentScript.previousElementSibling;\n",
       "    if (outputDiv.id !== \"altair-viz-25a83e48b52d4b0889ca64b7c662be28\") {\n",
       "      outputDiv = document.getElementById(\"altair-viz-25a83e48b52d4b0889ca64b7c662be28\");\n",
       "    }\n",
       "    const paths = {\n",
       "      \"vega\": \"https://cdn.jsdelivr.net/npm/vega@5?noext\",\n",
       "      \"vega-lib\": \"https://cdn.jsdelivr.net/npm/vega-lib?noext\",\n",
       "      \"vega-lite\": \"https://cdn.jsdelivr.net/npm/vega-lite@5.8.0?noext\",\n",
       "      \"vega-embed\": \"https://cdn.jsdelivr.net/npm/vega-embed@6?noext\",\n",
       "    };\n",
       "\n",
       "    function maybeLoadScript(lib, version) {\n",
       "      var key = `${lib.replace(\"-\", \"\")}_version`;\n",
       "      return (VEGA_DEBUG[key] == version) ?\n",
       "        Promise.resolve(paths[lib]) :\n",
       "        new Promise(function(resolve, reject) {\n",
       "          var s = document.createElement('script');\n",
       "          document.getElementsByTagName(\"head\")[0].appendChild(s);\n",
       "          s.async = true;\n",
       "          s.onload = () => {\n",
       "            VEGA_DEBUG[key] = version;\n",
       "            return resolve(paths[lib]);\n",
       "          };\n",
       "          s.onerror = () => reject(`Error loading script: ${paths[lib]}`);\n",
       "          s.src = paths[lib];\n",
       "        });\n",
       "    }\n",
       "\n",
       "    function showError(err) {\n",
       "      outputDiv.innerHTML = `<div class=\"error\" style=\"color:red;\">${err}</div>`;\n",
       "      throw err;\n",
       "    }\n",
       "\n",
       "    function displayChart(vegaEmbed) {\n",
       "      vegaEmbed(outputDiv, spec, embedOpt)\n",
       "        .catch(err => showError(`Javascript Error: ${err.message}<br>This usually means there's a typo in your chart specification. See the javascript console for the full traceback.`));\n",
       "    }\n",
       "\n",
       "    if(typeof define === \"function\" && define.amd) {\n",
       "      requirejs.config({paths});\n",
       "      require([\"vega-embed\"], displayChart, err => showError(`Error loading script: ${err.message}`));\n",
       "    } else {\n",
       "      maybeLoadScript(\"vega\", \"5\")\n",
       "        .then(() => maybeLoadScript(\"vega-lite\", \"5.8.0\"))\n",
       "        .then(() => maybeLoadScript(\"vega-embed\", \"6\"))\n",
       "        .catch(showError)\n",
       "        .then(() => displayChart(vegaEmbed));\n",
       "    }\n",
       "  })({\"config\": {\"view\": {\"continuousWidth\": 300, \"continuousHeight\": 300, \"discreteHeight\": 300, \"discreteWidth\": 400}, \"header\": {\"title\": null}, \"title\": {\"anchor\": \"middle\", \"offset\": 10}}, \"hconcat\": [{\"mark\": \"bar\", \"encoding\": {\"color\": {\"value\": \"green\"}, \"row\": {\"field\": \"comparison_name\", \"header\": {\"labelAlign\": \"left\", \"labelAnchor\": \"middle\", \"labelAngle\": 0}, \"sort\": {\"field\": \"comparison_sort_order\"}, \"type\": \"nominal\"}, \"tooltip\": [{\"field\": \"m_probability_description\", \"title\": \"m probability description\", \"type\": \"nominal\"}, {\"field\": \"comparison_name\", \"title\": \"Comparison column name\", \"type\": \"nominal\"}, {\"field\": \"label_for_charts\", \"title\": \"Label\", \"type\": \"ordinal\"}, {\"field\": \"sql_condition\", \"title\": \"SQL condition\", \"type\": \"nominal\"}, {\"field\": \"m_probability\", \"format\": \".4p\", \"title\": \"m probability\", \"type\": \"quantitative\"}, {\"field\": \"u_probability\", \"format\": \".4p\", \"title\": \"u probability\", \"type\": \"quantitative\"}, {\"field\": \"bayes_factor\", \"format\": \",.4f\", \"title\": \"Bayes factor = m/u\", \"type\": \"quantitative\"}, {\"field\": \"log2_bayes_factor\", \"format\": \",.4f\", \"title\": \"Match weight = log2(m/u)\", \"type\": \"quantitative\"}], \"x\": {\"axis\": {\"title\": \"Proportion of record comparisons\"}, \"field\": \"m_probability\", \"type\": \"quantitative\"}, \"y\": {\"axis\": {\"title\": null}, \"field\": \"label_for_charts\", \"sort\": {\"field\": \"comparison_vector_value\", \"order\": \"descending\"}, \"type\": \"nominal\"}}, \"height\": {\"step\": 12}, \"resolve\": {\"scale\": {\"y\": \"independent\"}}, \"title\": {\"text\": \"Amongst matching record comparisons:\", \"fontSize\": 12, \"fontWeight\": \"bold\"}, \"transform\": [{\"filter\": \"(datum.bayes_factor != 'no-op filter due to vega lite issue 4680')\"}], \"width\": 150}, {\"mark\": \"bar\", \"encoding\": {\"color\": {\"value\": \"red\"}, \"row\": {\"field\": \"comparison_name\", \"header\": {\"labels\": false}, \"sort\": {\"field\": \"comparison_sort_order\"}, \"type\": \"nominal\"}, \"tooltip\": [{\"field\": \"u_probability_description\", \"title\": \"u probability description\", \"type\": \"nominal\"}, {\"field\": \"comparison_name\", \"title\": \"Comparison column name\", \"type\": \"nominal\"}, {\"field\": \"label_for_charts\", \"title\": \"Label\", \"type\": \"ordinal\"}, {\"field\": \"sql_condition\", \"title\": \"SQL condition\", \"type\": \"nominal\"}, {\"field\": \"m_probability\", \"format\": \".4p\", \"title\": \"m probability\", \"type\": \"quantitative\"}, {\"field\": \"u_probability\", \"format\": \".4p\", \"title\": \"u probability\", \"type\": \"quantitative\"}, {\"field\": \"bayes_factor\", \"format\": \",.4f\", \"title\": \"Bayes factor = m/u\", \"type\": \"quantitative\"}, {\"field\": \"log2_bayes_factor\", \"format\": \",.4f\", \"title\": \"Match weight = log2(m/u)\", \"type\": \"quantitative\"}], \"x\": {\"axis\": {\"title\": \"Proportion of record comparisons\"}, \"field\": \"u_probability\", \"type\": \"quantitative\"}, \"y\": {\"axis\": {\"title\": null}, \"field\": \"label_for_charts\", \"sort\": {\"field\": \"comparison_vector_value\", \"order\": \"descending\"}, \"type\": \"nominal\"}}, \"height\": {\"step\": 12}, \"resolve\": {\"scale\": {\"y\": \"independent\"}}, \"title\": {\"text\": \"Amongst non-matching record comparisons:\", \"fontSize\": 12, \"fontWeight\": \"bold\"}, \"transform\": [{\"filter\": \"(datum.bayes_factor != 'no-op filter2 due to vega lite issue 4680')\"}], \"width\": 150}], \"data\": {\"name\": \"data-684dcc13f59833bb9630a04922ac4bb9\"}, \"title\": {\"text\": \"Proportion of record comparisons in each comparison level by match status\", \"subtitle\": \"(m and u probabilities)\"}, \"$schema\": \"https://vega.github.io/schema/vega-lite/v5.9.3.json\", \"datasets\": {\"data-684dcc13f59833bb9630a04922ac4bb9\": [{\"comparison_name\": \"syn_g1_firstname\", \"sql_condition\": \"syn_g1_firstname_l = syn_g1_firstname_r\", \"label_for_charts\": \"Exact match\", \"m_probability\": 0.7602299372210877, \"u_probability\": 0.004098701563675564, \"m_probability_description\": \"Amongst matching record comparisons, 76.02% of records are in the exact match comparison level\", \"u_probability_description\": \"Amongst non-matching record comparisons, 0.41% of records are in the exact match comparison level\", \"has_tf_adjustments\": true, \"tf_adjustment_column\": \"syn_g1_firstname\", \"tf_adjustment_weight\": 1.0, \"is_null_level\": false, \"bayes_factor\": 185.4806761142525, \"log2_bayes_factor\": 7.5351250805220635, \"comparison_vector_value\": 2, \"max_comparison_vector_value\": 2, \"bayes_factor_description\": \"If comparison level is `exact match` then comparison is 185.48 times more likely to be a match\", \"probability_two_random_records_match\": 7.529553497477599e-05, \"comparison_sort_order\": 0}, {\"comparison_name\": \"syn_g1_firstname\", \"sql_condition\": \"jaro_winkler_similarity(\\\"syn_g1_firstname_l\\\", \\\"syn_g1_firstname_r\\\") >= 0.8\", \"label_for_charts\": \"Jaro_winkler_similarity 0.8\", \"m_probability\": 0.07457832236593298, \"u_probability\": 0.005594841175253101, \"m_probability_description\": \"Amongst matching record comparisons, 7.46% of records are in the jaro_winkler_similarity 0.8 comparison level\", \"u_probability_description\": \"Amongst non-matching record comparisons, 0.56% of records are in the jaro_winkler_similarity 0.8 comparison level\", \"has_tf_adjustments\": true, \"tf_adjustment_column\": \"syn_g1_firstname\", \"tf_adjustment_weight\": 0.5, \"is_null_level\": false, \"bayes_factor\": 13.329837260761774, \"log2_bayes_factor\": 3.736587262071553, \"comparison_vector_value\": 1, \"max_comparison_vector_value\": 2, \"bayes_factor_description\": \"If comparison level is `jaro_winkler_similarity 0.8` then comparison is 13.33 times more likely to be a match\", \"probability_two_random_records_match\": 7.529553497477599e-05, \"comparison_sort_order\": 0}, {\"comparison_name\": \"syn_g1_firstname\", \"sql_condition\": \"ELSE\", \"label_for_charts\": \"All other comparisons\", \"m_probability\": 0.16519174041297935, \"u_probability\": 0.9903064572610714, \"m_probability_description\": \"Amongst matching record comparisons, 16.52% of records are in the all other comparisons comparison level\", \"u_probability_description\": \"Amongst non-matching record comparisons, 99.03% of records are in the all other comparisons comparison level\", \"has_tf_adjustments\": false, \"tf_adjustment_column\": null, \"tf_adjustment_weight\": 1.0, \"is_null_level\": false, \"bayes_factor\": 0.16680870775078707, \"log2_bayes_factor\": -2.583733492549781, \"comparison_vector_value\": 0, \"max_comparison_vector_value\": 2, \"bayes_factor_description\": \"If comparison level is `all other comparisons` then comparison is  5.99 times less likely to be a match\", \"probability_two_random_records_match\": 7.529553497477599e-05, \"comparison_sort_order\": 0}, {\"comparison_name\": \"syn_g1_surname\", \"sql_condition\": \"syn_g1_surname_l = syn_g1_surname_r\", \"label_for_charts\": \"Exact match\", \"m_probability\": 0.9289963105187863, \"u_probability\": 0.0010022305185637098, \"m_probability_description\": \"Amongst matching record comparisons, 92.90% of records are in the exact match comparison level\", \"u_probability_description\": \"Amongst non-matching record comparisons, 0.10% of records are in the exact match comparison level\", \"has_tf_adjustments\": true, \"tf_adjustment_column\": \"syn_g1_surname\", \"tf_adjustment_weight\": 1.0, \"is_null_level\": false, \"bayes_factor\": 926.9287786707245, \"log2_bayes_factor\": 9.856314682232957, \"comparison_vector_value\": 2, \"max_comparison_vector_value\": 2, \"bayes_factor_description\": \"If comparison level is `exact match` then comparison is 926.93 times more likely to be a match\", \"probability_two_random_records_match\": 7.529553497477599e-05, \"comparison_sort_order\": 1}, {\"comparison_name\": \"syn_g1_surname\", \"sql_condition\": \"jaro_winkler_similarity(\\\"syn_g1_surname_l\\\", \\\"syn_g1_surname_r\\\") >= 0.8\", \"label_for_charts\": \"Jaro_winkler_similarity 0.8\", \"m_probability\": 0.010014306151645207, \"u_probability\": 0.003940102926209629, \"m_probability_description\": \"Amongst matching record comparisons, 1.00% of records are in the jaro_winkler_similarity 0.8 comparison level\", \"u_probability_description\": \"Amongst non-matching record comparisons, 0.39% of records are in the jaro_winkler_similarity 0.8 comparison level\", \"has_tf_adjustments\": true, \"tf_adjustment_column\": \"syn_g1_surname\", \"tf_adjustment_weight\": 0.5, \"is_null_level\": false, \"bayes_factor\": 2.541635672771358, \"log2_bayes_factor\": 1.3457572440502437, \"comparison_vector_value\": 1, \"max_comparison_vector_value\": 2, \"bayes_factor_description\": \"If comparison level is `jaro_winkler_similarity 0.8` then comparison is 2.54 times more likely to be a match\", \"probability_two_random_records_match\": 7.529553497477599e-05, \"comparison_sort_order\": 1}, {\"comparison_name\": \"syn_g1_surname\", \"sql_condition\": \"ELSE\", \"label_for_charts\": \"All other comparisons\", \"m_probability\": 0.060989383329568554, \"u_probability\": 0.9950576665552266, \"m_probability_description\": \"Amongst matching record comparisons, 6.10% of records are in the all other comparisons comparison level\", \"u_probability_description\": \"Amongst non-matching record comparisons, 99.51% of records are in the all other comparisons comparison level\", \"has_tf_adjustments\": false, \"tf_adjustment_column\": null, \"tf_adjustment_weight\": 1.0, \"is_null_level\": false, \"bayes_factor\": 0.061292310364992886, \"log2_bayes_factor\": -4.028150102712941, \"comparison_vector_value\": 0, \"max_comparison_vector_value\": 2, \"bayes_factor_description\": \"If comparison level is `all other comparisons` then comparison is  16.32 times less likely to be a match\", \"probability_two_random_records_match\": 7.529553497477599e-05, \"comparison_sort_order\": 1}, {\"comparison_name\": \"syn_g0_surname\", \"sql_condition\": \"syn_g0_surname_l = syn_g0_surname_r\", \"label_for_charts\": \"Exact match\", \"m_probability\": 0.9406671184398765, \"u_probability\": 0.0009361349551761191, \"m_probability_description\": \"Amongst matching record comparisons, 94.07% of records are in the exact match comparison level\", \"u_probability_description\": \"Amongst non-matching record comparisons, 0.09% of records are in the exact match comparison level\", \"has_tf_adjustments\": true, \"tf_adjustment_column\": \"syn_g0_surname\", \"tf_adjustment_weight\": 1.0, \"is_null_level\": false, \"bayes_factor\": 1004.8413567282131, \"log2_bayes_factor\": 9.972752032904394, \"comparison_vector_value\": 2, \"max_comparison_vector_value\": 2, \"bayes_factor_description\": \"If comparison level is `exact match` then comparison is 1,004.84 times more likely to be a match\", \"probability_two_random_records_match\": 7.529553497477599e-05, \"comparison_sort_order\": 2}, {\"comparison_name\": \"syn_g0_surname\", \"sql_condition\": \"jaro_winkler_similarity(\\\"syn_g0_surname_l\\\", \\\"syn_g0_surname_r\\\") >= 0.8\", \"label_for_charts\": \"Jaro_winkler_similarity 0.8\", \"m_probability\": 0.013176718620585798, \"u_probability\": 0.003723869758570756, \"m_probability_description\": \"Amongst matching record comparisons, 1.32% of records are in the jaro_winkler_similarity 0.8 comparison level\", \"u_probability_description\": \"Amongst non-matching record comparisons, 0.37% of records are in the jaro_winkler_similarity 0.8 comparison level\", \"has_tf_adjustments\": true, \"tf_adjustment_column\": \"syn_g0_surname\", \"tf_adjustment_weight\": 0.5, \"is_null_level\": false, \"bayes_factor\": 3.5384477639849314, \"log2_bayes_factor\": 1.823116621800681, \"comparison_vector_value\": 1, \"max_comparison_vector_value\": 2, \"bayes_factor_description\": \"If comparison level is `jaro_winkler_similarity 0.8` then comparison is 3.54 times more likely to be a match\", \"probability_two_random_records_match\": 7.529553497477599e-05, \"comparison_sort_order\": 2}, {\"comparison_name\": \"syn_g0_surname\", \"sql_condition\": \"ELSE\", \"label_for_charts\": \"All other comparisons\", \"m_probability\": 0.046156162939537684, \"u_probability\": 0.9953399952862532, \"m_probability_description\": \"Amongst matching record comparisons, 4.62% of records are in the all other comparisons comparison level\", \"u_probability_description\": \"Amongst non-matching record comparisons, 99.53% of records are in the all other comparisons comparison level\", \"has_tf_adjustments\": false, \"tf_adjustment_column\": null, \"tf_adjustment_weight\": 1.0, \"is_null_level\": false, \"bayes_factor\": 0.04637225787984484, \"log2_bayes_factor\": -4.430594216076065, \"comparison_vector_value\": 0, \"max_comparison_vector_value\": 2, \"bayes_factor_description\": \"If comparison level is `all other comparisons` then comparison is  21.56 times less likely to be a match\", \"probability_two_random_records_match\": 7.529553497477599e-05, \"comparison_sort_order\": 2}, {\"comparison_name\": \"g1_dob_arc1\", \"sql_condition\": \"\\\"g1_dob_arc1_l\\\" = \\\"g1_dob_arc1_r\\\"\", \"label_for_charts\": \"Exact match\", \"m_probability\": 0.9957834500414126, \"u_probability\": 0.0017164419595841437, \"m_probability_description\": \"Amongst matching record comparisons, 99.58% of records are in the exact match comparison level\", \"u_probability_description\": \"Amongst non-matching record comparisons, 0.17% of records are in the exact match comparison level\", \"has_tf_adjustments\": false, \"tf_adjustment_column\": null, \"tf_adjustment_weight\": 1.0, \"is_null_level\": false, \"bayes_factor\": 580.1439684466052, \"log2_bayes_factor\": 9.180267153446158, \"comparison_vector_value\": 1, \"max_comparison_vector_value\": 1, \"bayes_factor_description\": \"If comparison level is `exact match` then comparison is 580.14 times more likely to be a match\", \"probability_two_random_records_match\": 7.529553497477599e-05, \"comparison_sort_order\": 3}, {\"comparison_name\": \"g1_dob_arc1\", \"sql_condition\": \"ELSE\", \"label_for_charts\": \"All other comparisons\", \"m_probability\": 0.004216549958587456, \"u_probability\": 0.9982835580404159, \"m_probability_description\": \"Amongst matching record comparisons, 0.42% of records are in the all other comparisons comparison level\", \"u_probability_description\": \"Amongst non-matching record comparisons, 99.83% of records are in the all other comparisons comparison level\", \"has_tf_adjustments\": false, \"tf_adjustment_column\": null, \"tf_adjustment_weight\": 1.0, \"is_null_level\": false, \"bayes_factor\": 0.004223799865906183, \"log2_bayes_factor\": -7.887242806808756, \"comparison_vector_value\": 0, \"max_comparison_vector_value\": 1, \"bayes_factor_description\": \"If comparison level is `all other comparisons` then comparison is  236.75 times less likely to be a match\", \"probability_two_random_records_match\": 7.529553497477599e-05, \"comparison_sort_order\": 3}, {\"comparison_name\": \"g1_gender_arc\", \"sql_condition\": \"\\\"g1_gender_arc_l\\\" = \\\"g1_gender_arc_r\\\"\", \"label_for_charts\": \"Exact match\", \"m_probability\": 1.0, \"u_probability\": 0.5003557682459016, \"m_probability_description\": \"Amongst matching record comparisons, 100.00% of records are in the exact match comparison level\", \"u_probability_description\": \"Amongst non-matching record comparisons, 50.04% of records are in the exact match comparison level\", \"has_tf_adjustments\": false, \"tf_adjustment_column\": null, \"tf_adjustment_weight\": 1.0, \"is_null_level\": false, \"bayes_factor\": 1.998577938864785, \"log2_bayes_factor\": 0.9989738348655551, \"comparison_vector_value\": 1, \"max_comparison_vector_value\": 1, \"bayes_factor_description\": \"If comparison level is `exact match` then comparison is 2.00 times more likely to be a match\", \"probability_two_random_records_match\": 7.529553497477599e-05, \"comparison_sort_order\": 4}, {\"comparison_name\": \"g1_gender_arc\", \"sql_condition\": \"ELSE\", \"label_for_charts\": \"All other comparisons\", \"m_probability\": 0.001, \"u_probability\": 0.49964423175409844, \"m_probability_description\": \"Amongst matching record comparisons, 0.10% of records are in the all other comparisons comparison level\", \"u_probability_description\": \"Amongst non-matching record comparisons, 49.96% of records are in the all other comparisons comparison level\", \"has_tf_adjustments\": false, \"tf_adjustment_column\": null, \"tf_adjustment_weight\": 1.0, \"is_null_level\": false, \"bayes_factor\": 0.002001424086272957, \"log2_bayes_factor\": -8.964757389113782, \"comparison_vector_value\": 0, \"max_comparison_vector_value\": 1, \"bayes_factor_description\": \"If comparison level is `all other comparisons` then comparison is  499.64 times less likely to be a match\", \"probability_two_random_records_match\": 7.529553497477599e-05, \"comparison_sort_order\": 4}]}}, {\"mode\": \"vega-lite\"});\n",
       "</script>"
      ],
      "text/plain": [
       "alt.HConcatChart(...)"
      ]
     },
     "execution_count": 22,
     "metadata": {},
     "output_type": "execute_result"
    }
   ],
   "source": [
    "linker.m_u_parameters_chart()"
   ]
  },
  {
   "cell_type": "code",
   "execution_count": 23,
   "metadata": {},
   "outputs": [
    {
     "data": {
      "text/html": [
       "\n",
       "<style>\n",
       "  #altair-viz-5ad74714ff1d4833909346beeed73f21.vega-embed {\n",
       "    width: 100%;\n",
       "    display: flex;\n",
       "  }\n",
       "\n",
       "  #altair-viz-5ad74714ff1d4833909346beeed73f21.vega-embed details,\n",
       "  #altair-viz-5ad74714ff1d4833909346beeed73f21.vega-embed details summary {\n",
       "    position: relative;\n",
       "  }\n",
       "</style>\n",
       "<div id=\"altair-viz-5ad74714ff1d4833909346beeed73f21\"></div>\n",
       "<script type=\"text/javascript\">\n",
       "  var VEGA_DEBUG = (typeof VEGA_DEBUG == \"undefined\") ? {} : VEGA_DEBUG;\n",
       "  (function(spec, embedOpt){\n",
       "    let outputDiv = document.currentScript.previousElementSibling;\n",
       "    if (outputDiv.id !== \"altair-viz-5ad74714ff1d4833909346beeed73f21\") {\n",
       "      outputDiv = document.getElementById(\"altair-viz-5ad74714ff1d4833909346beeed73f21\");\n",
       "    }\n",
       "    const paths = {\n",
       "      \"vega\": \"https://cdn.jsdelivr.net/npm/vega@5?noext\",\n",
       "      \"vega-lib\": \"https://cdn.jsdelivr.net/npm/vega-lib?noext\",\n",
       "      \"vega-lite\": \"https://cdn.jsdelivr.net/npm/vega-lite@5.8.0?noext\",\n",
       "      \"vega-embed\": \"https://cdn.jsdelivr.net/npm/vega-embed@6?noext\",\n",
       "    };\n",
       "\n",
       "    function maybeLoadScript(lib, version) {\n",
       "      var key = `${lib.replace(\"-\", \"\")}_version`;\n",
       "      return (VEGA_DEBUG[key] == version) ?\n",
       "        Promise.resolve(paths[lib]) :\n",
       "        new Promise(function(resolve, reject) {\n",
       "          var s = document.createElement('script');\n",
       "          document.getElementsByTagName(\"head\")[0].appendChild(s);\n",
       "          s.async = true;\n",
       "          s.onload = () => {\n",
       "            VEGA_DEBUG[key] = version;\n",
       "            return resolve(paths[lib]);\n",
       "          };\n",
       "          s.onerror = () => reject(`Error loading script: ${paths[lib]}`);\n",
       "          s.src = paths[lib];\n",
       "        });\n",
       "    }\n",
       "\n",
       "    function showError(err) {\n",
       "      outputDiv.innerHTML = `<div class=\"error\" style=\"color:red;\">${err}</div>`;\n",
       "      throw err;\n",
       "    }\n",
       "\n",
       "    function displayChart(vegaEmbed) {\n",
       "      vegaEmbed(outputDiv, spec, embedOpt)\n",
       "        .catch(err => showError(`Javascript Error: ${err.message}<br>This usually means there's a typo in your chart specification. See the javascript console for the full traceback.`));\n",
       "    }\n",
       "\n",
       "    if(typeof define === \"function\" && define.amd) {\n",
       "      requirejs.config({paths});\n",
       "      require([\"vega-embed\"], displayChart, err => showError(`Error loading script: ${err.message}`));\n",
       "    } else {\n",
       "      maybeLoadScript(\"vega\", \"5\")\n",
       "        .then(() => maybeLoadScript(\"vega-lite\", \"5.8.0\"))\n",
       "        .then(() => maybeLoadScript(\"vega-embed\", \"6\"))\n",
       "        .catch(showError)\n",
       "        .then(() => displayChart(vegaEmbed));\n",
       "    }\n",
       "  })({\"config\": {\"view\": {\"continuousWidth\": 300, \"continuousHeight\": 300, \"discreteHeight\": 60, \"discreteWidth\": 400}, \"header\": {\"title\": null}, \"mark\": {\"tooltip\": null}, \"title\": {\"anchor\": \"middle\"}}, \"vconcat\": [{\"mark\": {\"type\": \"bar\", \"clip\": true, \"height\": 15}, \"encoding\": {\"color\": {\"field\": \"log2_bayes_factor\", \"scale\": {\"domain\": [-10, 0, 10], \"interpolate\": \"lab\", \"range\": [\"red\", \"#bbbbbb\", \"green\"]}, \"title\": \"Match weight\", \"type\": \"quantitative\"}, \"tooltip\": [{\"field\": \"comparison_name\", \"title\": \"Comparison name\", \"type\": \"nominal\"}, {\"field\": \"probability_two_random_records_match\", \"format\": \".4f\", \"title\": \"Probability two random records match\", \"type\": \"nominal\"}, {\"field\": \"log2_bayes_factor\", \"format\": \",.4f\", \"title\": \"Equivalent match weight\", \"type\": \"quantitative\"}, {\"field\": \"bayes_factor_description\", \"title\": \"Match weight description\", \"type\": \"nominal\"}], \"x\": {\"axis\": {\"domain\": false, \"gridColor\": {\"condition\": {\"test\": \"abs(datum.value / 10)  <= 1 & datum.value % 10 === 0\", \"value\": \"#aaa\"}, \"value\": \"#ddd\"}, \"gridDash\": {\"condition\": {\"test\": \"abs(datum.value / 10) == 1\", \"value\": [3]}, \"value\": null}, \"gridWidth\": {\"condition\": {\"test\": \"abs(datum.value / 10)  <= 1 & datum.value % 10 === 0\", \"value\": 2}, \"value\": 1}, \"labels\": false, \"ticks\": false, \"title\": \"\"}, \"field\": \"log2_bayes_factor\", \"scale\": {\"domain\": [-14, 14]}, \"type\": \"quantitative\"}, \"y\": {\"axis\": {\"title\": \"Prior (starting) match weight\", \"titleAlign\": \"right\", \"titleAngle\": 0, \"titleFontWeight\": \"normal\"}, \"field\": \"label_for_charts\", \"sort\": {\"field\": \"comparison_vector_value\", \"order\": \"descending\"}, \"type\": \"nominal\"}}, \"height\": 20, \"transform\": [{\"filter\": \"(datum.comparison_name == 'probability_two_random_records_match')\"}]}, {\"mark\": {\"type\": \"bar\", \"clip\": true}, \"encoding\": {\"color\": {\"field\": \"log2_bayes_factor\", \"scale\": {\"domain\": [-10, 0, 10], \"interpolate\": \"lab\", \"range\": [\"red\", \"#bbbbbb\", \"green\"]}, \"title\": \"Match weight\", \"type\": \"quantitative\"}, \"row\": {\"field\": \"comparison_name\", \"header\": {\"labelAlign\": \"left\", \"labelAnchor\": \"middle\", \"labelAngle\": 0}, \"sort\": {\"field\": \"comparison_sort_order\"}, \"type\": \"nominal\"}, \"tooltip\": [{\"field\": \"comparison_name\", \"title\": \"Comparison name\", \"type\": \"nominal\"}, {\"field\": \"label_for_charts\", \"title\": \"Label\", \"type\": \"ordinal\"}, {\"field\": \"sql_condition\", \"title\": \"SQL condition\", \"type\": \"nominal\"}, {\"field\": \"m_probability\", \"format\": \".4f\", \"title\": \"M probability\", \"type\": \"quantitative\"}, {\"field\": \"u_probability\", \"format\": \".4f\", \"title\": \"U probability\", \"type\": \"quantitative\"}, {\"field\": \"bayes_factor\", \"format\": \",.4f\", \"title\": \"Bayes factor = m/u\", \"type\": \"quantitative\"}, {\"field\": \"log2_bayes_factor\", \"format\": \",.4f\", \"title\": \"Match weight = log2(m/u)\", \"type\": \"quantitative\"}, {\"field\": \"bayes_factor_description\", \"title\": \"Match weight description\", \"type\": \"nominal\"}], \"x\": {\"axis\": {\"gridColor\": {\"condition\": {\"test\": \"abs(datum.value / 10)  <= 1 & datum.value % 10 === 0\", \"value\": \"#aaa\"}, \"value\": \"#ddd\"}, \"gridDash\": {\"condition\": {\"test\": \"abs(datum.value / 10) == 1\", \"value\": [3]}, \"value\": null}, \"gridWidth\": {\"condition\": {\"test\": \"abs(datum.value / 10)  <= 1 & datum.value % 10 === 0\", \"value\": 2}, \"value\": 1}, \"title\": \"Comparison level match weight = log2(m/u)\"}, \"field\": \"log2_bayes_factor\", \"scale\": {\"domain\": [-14, 14]}, \"type\": \"quantitative\"}, \"y\": {\"axis\": {\"title\": null}, \"field\": \"label_for_charts\", \"sort\": {\"field\": \"comparison_vector_value\", \"order\": \"descending\"}, \"type\": \"nominal\"}}, \"height\": {\"step\": 12}, \"resolve\": {\"axis\": {\"y\": \"independent\"}, \"scale\": {\"y\": \"independent\"}}, \"transform\": [{\"filter\": \"(datum.comparison_name != 'probability_two_random_records_match')\"}]}], \"data\": {\"name\": \"data-248016f004ab8e3dbd51ddf0b058442c\"}, \"params\": [{\"name\": \"mouse_zoom\", \"select\": {\"type\": \"interval\", \"encodings\": [\"x\"]}, \"bind\": \"scales\", \"views\": []}], \"resolve\": {\"axis\": {\"y\": \"independent\"}, \"scale\": {\"y\": \"independent\"}}, \"title\": {\"text\": \"Model parameters (components of final match weight)\", \"subtitle\": \"Use mousewheel to zoom\"}, \"$schema\": \"https://vega.github.io/schema/vega-lite/v5.9.3.json\", \"datasets\": {\"data-248016f004ab8e3dbd51ddf0b058442c\": [{\"comparison_name\": \"probability_two_random_records_match\", \"sql_condition\": null, \"label_for_charts\": \"\", \"m_probability\": null, \"u_probability\": null, \"m_probability_description\": null, \"u_probability_description\": null, \"has_tf_adjustments\": false, \"tf_adjustment_column\": null, \"tf_adjustment_weight\": null, \"is_null_level\": false, \"bayes_factor\": 7.53012048192771e-05, \"log2_bayes_factor\": -13.696967526234287, \"comparison_vector_value\": 0, \"max_comparison_vector_value\": 0, \"bayes_factor_description\": \"The probability that two random records drawn at random match is 0.000 or one in  13,281.0 records.This is equivalent to a starting match weight of -13.697.\", \"probability_two_random_records_match\": 7.529553497477599e-05, \"comparison_sort_order\": -1}, {\"comparison_name\": \"syn_g1_firstname\", \"sql_condition\": \"syn_g1_firstname_l = syn_g1_firstname_r\", \"label_for_charts\": \"Exact match\", \"m_probability\": 0.7602299372210877, \"u_probability\": 0.004098701563675564, \"m_probability_description\": \"Amongst matching record comparisons, 76.02% of records are in the exact match comparison level\", \"u_probability_description\": \"Amongst non-matching record comparisons, 0.41% of records are in the exact match comparison level\", \"has_tf_adjustments\": true, \"tf_adjustment_column\": \"syn_g1_firstname\", \"tf_adjustment_weight\": 1.0, \"is_null_level\": false, \"bayes_factor\": 185.4806761142525, \"log2_bayes_factor\": 7.5351250805220635, \"comparison_vector_value\": 2, \"max_comparison_vector_value\": 2, \"bayes_factor_description\": \"If comparison level is `exact match` then comparison is 185.48 times more likely to be a match\", \"probability_two_random_records_match\": 7.529553497477599e-05, \"comparison_sort_order\": 0}, {\"comparison_name\": \"syn_g1_firstname\", \"sql_condition\": \"jaro_winkler_similarity(\\\"syn_g1_firstname_l\\\", \\\"syn_g1_firstname_r\\\") >= 0.8\", \"label_for_charts\": \"Jaro_winkler_similarity 0.8\", \"m_probability\": 0.07457832236593298, \"u_probability\": 0.005594841175253101, \"m_probability_description\": \"Amongst matching record comparisons, 7.46% of records are in the jaro_winkler_similarity 0.8 comparison level\", \"u_probability_description\": \"Amongst non-matching record comparisons, 0.56% of records are in the jaro_winkler_similarity 0.8 comparison level\", \"has_tf_adjustments\": true, \"tf_adjustment_column\": \"syn_g1_firstname\", \"tf_adjustment_weight\": 0.5, \"is_null_level\": false, \"bayes_factor\": 13.329837260761774, \"log2_bayes_factor\": 3.736587262071553, \"comparison_vector_value\": 1, \"max_comparison_vector_value\": 2, \"bayes_factor_description\": \"If comparison level is `jaro_winkler_similarity 0.8` then comparison is 13.33 times more likely to be a match\", \"probability_two_random_records_match\": 7.529553497477599e-05, \"comparison_sort_order\": 0}, {\"comparison_name\": \"syn_g1_firstname\", \"sql_condition\": \"ELSE\", \"label_for_charts\": \"All other comparisons\", \"m_probability\": 0.16519174041297935, \"u_probability\": 0.9903064572610714, \"m_probability_description\": \"Amongst matching record comparisons, 16.52% of records are in the all other comparisons comparison level\", \"u_probability_description\": \"Amongst non-matching record comparisons, 99.03% of records are in the all other comparisons comparison level\", \"has_tf_adjustments\": false, \"tf_adjustment_column\": null, \"tf_adjustment_weight\": 1.0, \"is_null_level\": false, \"bayes_factor\": 0.16680870775078707, \"log2_bayes_factor\": -2.583733492549781, \"comparison_vector_value\": 0, \"max_comparison_vector_value\": 2, \"bayes_factor_description\": \"If comparison level is `all other comparisons` then comparison is  5.99 times less likely to be a match\", \"probability_two_random_records_match\": 7.529553497477599e-05, \"comparison_sort_order\": 0}, {\"comparison_name\": \"syn_g1_surname\", \"sql_condition\": \"syn_g1_surname_l = syn_g1_surname_r\", \"label_for_charts\": \"Exact match\", \"m_probability\": 0.9289963105187863, \"u_probability\": 0.0010022305185637098, \"m_probability_description\": \"Amongst matching record comparisons, 92.90% of records are in the exact match comparison level\", \"u_probability_description\": \"Amongst non-matching record comparisons, 0.10% of records are in the exact match comparison level\", \"has_tf_adjustments\": true, \"tf_adjustment_column\": \"syn_g1_surname\", \"tf_adjustment_weight\": 1.0, \"is_null_level\": false, \"bayes_factor\": 926.9287786707245, \"log2_bayes_factor\": 9.856314682232957, \"comparison_vector_value\": 2, \"max_comparison_vector_value\": 2, \"bayes_factor_description\": \"If comparison level is `exact match` then comparison is 926.93 times more likely to be a match\", \"probability_two_random_records_match\": 7.529553497477599e-05, \"comparison_sort_order\": 1}, {\"comparison_name\": \"syn_g1_surname\", \"sql_condition\": \"jaro_winkler_similarity(\\\"syn_g1_surname_l\\\", \\\"syn_g1_surname_r\\\") >= 0.8\", \"label_for_charts\": \"Jaro_winkler_similarity 0.8\", \"m_probability\": 0.010014306151645207, \"u_probability\": 0.003940102926209629, \"m_probability_description\": \"Amongst matching record comparisons, 1.00% of records are in the jaro_winkler_similarity 0.8 comparison level\", \"u_probability_description\": \"Amongst non-matching record comparisons, 0.39% of records are in the jaro_winkler_similarity 0.8 comparison level\", \"has_tf_adjustments\": true, \"tf_adjustment_column\": \"syn_g1_surname\", \"tf_adjustment_weight\": 0.5, \"is_null_level\": false, \"bayes_factor\": 2.541635672771358, \"log2_bayes_factor\": 1.3457572440502437, \"comparison_vector_value\": 1, \"max_comparison_vector_value\": 2, \"bayes_factor_description\": \"If comparison level is `jaro_winkler_similarity 0.8` then comparison is 2.54 times more likely to be a match\", \"probability_two_random_records_match\": 7.529553497477599e-05, \"comparison_sort_order\": 1}, {\"comparison_name\": \"syn_g1_surname\", \"sql_condition\": \"ELSE\", \"label_for_charts\": \"All other comparisons\", \"m_probability\": 0.060989383329568554, \"u_probability\": 0.9950576665552266, \"m_probability_description\": \"Amongst matching record comparisons, 6.10% of records are in the all other comparisons comparison level\", \"u_probability_description\": \"Amongst non-matching record comparisons, 99.51% of records are in the all other comparisons comparison level\", \"has_tf_adjustments\": false, \"tf_adjustment_column\": null, \"tf_adjustment_weight\": 1.0, \"is_null_level\": false, \"bayes_factor\": 0.061292310364992886, \"log2_bayes_factor\": -4.028150102712941, \"comparison_vector_value\": 0, \"max_comparison_vector_value\": 2, \"bayes_factor_description\": \"If comparison level is `all other comparisons` then comparison is  16.32 times less likely to be a match\", \"probability_two_random_records_match\": 7.529553497477599e-05, \"comparison_sort_order\": 1}, {\"comparison_name\": \"syn_g0_surname\", \"sql_condition\": \"syn_g0_surname_l = syn_g0_surname_r\", \"label_for_charts\": \"Exact match\", \"m_probability\": 0.9406671184398765, \"u_probability\": 0.0009361349551761191, \"m_probability_description\": \"Amongst matching record comparisons, 94.07% of records are in the exact match comparison level\", \"u_probability_description\": \"Amongst non-matching record comparisons, 0.09% of records are in the exact match comparison level\", \"has_tf_adjustments\": true, \"tf_adjustment_column\": \"syn_g0_surname\", \"tf_adjustment_weight\": 1.0, \"is_null_level\": false, \"bayes_factor\": 1004.8413567282131, \"log2_bayes_factor\": 9.972752032904394, \"comparison_vector_value\": 2, \"max_comparison_vector_value\": 2, \"bayes_factor_description\": \"If comparison level is `exact match` then comparison is 1,004.84 times more likely to be a match\", \"probability_two_random_records_match\": 7.529553497477599e-05, \"comparison_sort_order\": 2}, {\"comparison_name\": \"syn_g0_surname\", \"sql_condition\": \"jaro_winkler_similarity(\\\"syn_g0_surname_l\\\", \\\"syn_g0_surname_r\\\") >= 0.8\", \"label_for_charts\": \"Jaro_winkler_similarity 0.8\", \"m_probability\": 0.013176718620585798, \"u_probability\": 0.003723869758570756, \"m_probability_description\": \"Amongst matching record comparisons, 1.32% of records are in the jaro_winkler_similarity 0.8 comparison level\", \"u_probability_description\": \"Amongst non-matching record comparisons, 0.37% of records are in the jaro_winkler_similarity 0.8 comparison level\", \"has_tf_adjustments\": true, \"tf_adjustment_column\": \"syn_g0_surname\", \"tf_adjustment_weight\": 0.5, \"is_null_level\": false, \"bayes_factor\": 3.5384477639849314, \"log2_bayes_factor\": 1.823116621800681, \"comparison_vector_value\": 1, \"max_comparison_vector_value\": 2, \"bayes_factor_description\": \"If comparison level is `jaro_winkler_similarity 0.8` then comparison is 3.54 times more likely to be a match\", \"probability_two_random_records_match\": 7.529553497477599e-05, \"comparison_sort_order\": 2}, {\"comparison_name\": \"syn_g0_surname\", \"sql_condition\": \"ELSE\", \"label_for_charts\": \"All other comparisons\", \"m_probability\": 0.046156162939537684, \"u_probability\": 0.9953399952862532, \"m_probability_description\": \"Amongst matching record comparisons, 4.62% of records are in the all other comparisons comparison level\", \"u_probability_description\": \"Amongst non-matching record comparisons, 99.53% of records are in the all other comparisons comparison level\", \"has_tf_adjustments\": false, \"tf_adjustment_column\": null, \"tf_adjustment_weight\": 1.0, \"is_null_level\": false, \"bayes_factor\": 0.04637225787984484, \"log2_bayes_factor\": -4.430594216076065, \"comparison_vector_value\": 0, \"max_comparison_vector_value\": 2, \"bayes_factor_description\": \"If comparison level is `all other comparisons` then comparison is  21.56 times less likely to be a match\", \"probability_two_random_records_match\": 7.529553497477599e-05, \"comparison_sort_order\": 2}, {\"comparison_name\": \"g1_dob_arc1\", \"sql_condition\": \"\\\"g1_dob_arc1_l\\\" = \\\"g1_dob_arc1_r\\\"\", \"label_for_charts\": \"Exact match\", \"m_probability\": 0.9957834500414126, \"u_probability\": 0.0017164419595841437, \"m_probability_description\": \"Amongst matching record comparisons, 99.58% of records are in the exact match comparison level\", \"u_probability_description\": \"Amongst non-matching record comparisons, 0.17% of records are in the exact match comparison level\", \"has_tf_adjustments\": false, \"tf_adjustment_column\": null, \"tf_adjustment_weight\": 1.0, \"is_null_level\": false, \"bayes_factor\": 580.1439684466052, \"log2_bayes_factor\": 9.180267153446158, \"comparison_vector_value\": 1, \"max_comparison_vector_value\": 1, \"bayes_factor_description\": \"If comparison level is `exact match` then comparison is 580.14 times more likely to be a match\", \"probability_two_random_records_match\": 7.529553497477599e-05, \"comparison_sort_order\": 3}, {\"comparison_name\": \"g1_dob_arc1\", \"sql_condition\": \"ELSE\", \"label_for_charts\": \"All other comparisons\", \"m_probability\": 0.004216549958587456, \"u_probability\": 0.9982835580404159, \"m_probability_description\": \"Amongst matching record comparisons, 0.42% of records are in the all other comparisons comparison level\", \"u_probability_description\": \"Amongst non-matching record comparisons, 99.83% of records are in the all other comparisons comparison level\", \"has_tf_adjustments\": false, \"tf_adjustment_column\": null, \"tf_adjustment_weight\": 1.0, \"is_null_level\": false, \"bayes_factor\": 0.004223799865906183, \"log2_bayes_factor\": -7.887242806808756, \"comparison_vector_value\": 0, \"max_comparison_vector_value\": 1, \"bayes_factor_description\": \"If comparison level is `all other comparisons` then comparison is  236.75 times less likely to be a match\", \"probability_two_random_records_match\": 7.529553497477599e-05, \"comparison_sort_order\": 3}, {\"comparison_name\": \"g1_gender_arc\", \"sql_condition\": \"\\\"g1_gender_arc_l\\\" = \\\"g1_gender_arc_r\\\"\", \"label_for_charts\": \"Exact match\", \"m_probability\": 1.0, \"u_probability\": 0.5003557682459016, \"m_probability_description\": \"Amongst matching record comparisons, 100.00% of records are in the exact match comparison level\", \"u_probability_description\": \"Amongst non-matching record comparisons, 50.04% of records are in the exact match comparison level\", \"has_tf_adjustments\": false, \"tf_adjustment_column\": null, \"tf_adjustment_weight\": 1.0, \"is_null_level\": false, \"bayes_factor\": 1.998577938864785, \"log2_bayes_factor\": 0.9989738348655551, \"comparison_vector_value\": 1, \"max_comparison_vector_value\": 1, \"bayes_factor_description\": \"If comparison level is `exact match` then comparison is 2.00 times more likely to be a match\", \"probability_two_random_records_match\": 7.529553497477599e-05, \"comparison_sort_order\": 4}, {\"comparison_name\": \"g1_gender_arc\", \"sql_condition\": \"ELSE\", \"label_for_charts\": \"All other comparisons\", \"m_probability\": 0.001, \"u_probability\": 0.49964423175409844, \"m_probability_description\": \"Amongst matching record comparisons, 0.10% of records are in the all other comparisons comparison level\", \"u_probability_description\": \"Amongst non-matching record comparisons, 49.96% of records are in the all other comparisons comparison level\", \"has_tf_adjustments\": false, \"tf_adjustment_column\": null, \"tf_adjustment_weight\": 1.0, \"is_null_level\": false, \"bayes_factor\": 0.002001424086272957, \"log2_bayes_factor\": -8.964757389113782, \"comparison_vector_value\": 0, \"max_comparison_vector_value\": 1, \"bayes_factor_description\": \"If comparison level is `all other comparisons` then comparison is  499.64 times less likely to be a match\", \"probability_two_random_records_match\": 7.529553497477599e-05, \"comparison_sort_order\": 4}]}}, {\"mode\": \"vega-lite\"});\n",
       "</script>"
      ],
      "text/plain": [
       "alt.VConcatChart(...)"
      ]
     },
     "execution_count": 23,
     "metadata": {},
     "output_type": "execute_result"
    }
   ],
   "source": [
    "linker.match_weights_chart()\n"
   ]
  },
  {
   "cell_type": "code",
   "execution_count": 36,
   "metadata": {},
   "outputs": [
    {
     "data": {
      "text/html": [
       "\n",
       "<style>\n",
       "  #altair-viz-d675052ceff54bde850aa78e4bf4ae56.vega-embed {\n",
       "    width: 100%;\n",
       "    display: flex;\n",
       "  }\n",
       "\n",
       "  #altair-viz-d675052ceff54bde850aa78e4bf4ae56.vega-embed details,\n",
       "  #altair-viz-d675052ceff54bde850aa78e4bf4ae56.vega-embed details summary {\n",
       "    position: relative;\n",
       "  }\n",
       "</style>\n",
       "<div id=\"altair-viz-d675052ceff54bde850aa78e4bf4ae56\"></div>\n",
       "<script type=\"text/javascript\">\n",
       "  var VEGA_DEBUG = (typeof VEGA_DEBUG == \"undefined\") ? {} : VEGA_DEBUG;\n",
       "  (function(spec, embedOpt){\n",
       "    let outputDiv = document.currentScript.previousElementSibling;\n",
       "    if (outputDiv.id !== \"altair-viz-d675052ceff54bde850aa78e4bf4ae56\") {\n",
       "      outputDiv = document.getElementById(\"altair-viz-d675052ceff54bde850aa78e4bf4ae56\");\n",
       "    }\n",
       "    const paths = {\n",
       "      \"vega\": \"https://cdn.jsdelivr.net/npm/vega@5?noext\",\n",
       "      \"vega-lib\": \"https://cdn.jsdelivr.net/npm/vega-lib?noext\",\n",
       "      \"vega-lite\": \"https://cdn.jsdelivr.net/npm/vega-lite@5.8.0?noext\",\n",
       "      \"vega-embed\": \"https://cdn.jsdelivr.net/npm/vega-embed@6?noext\",\n",
       "    };\n",
       "\n",
       "    function maybeLoadScript(lib, version) {\n",
       "      var key = `${lib.replace(\"-\", \"\")}_version`;\n",
       "      return (VEGA_DEBUG[key] == version) ?\n",
       "        Promise.resolve(paths[lib]) :\n",
       "        new Promise(function(resolve, reject) {\n",
       "          var s = document.createElement('script');\n",
       "          document.getElementsByTagName(\"head\")[0].appendChild(s);\n",
       "          s.async = true;\n",
       "          s.onload = () => {\n",
       "            VEGA_DEBUG[key] = version;\n",
       "            return resolve(paths[lib]);\n",
       "          };\n",
       "          s.onerror = () => reject(`Error loading script: ${paths[lib]}`);\n",
       "          s.src = paths[lib];\n",
       "        });\n",
       "    }\n",
       "\n",
       "    function showError(err) {\n",
       "      outputDiv.innerHTML = `<div class=\"error\" style=\"color:red;\">${err}</div>`;\n",
       "      throw err;\n",
       "    }\n",
       "\n",
       "    function displayChart(vegaEmbed) {\n",
       "      vegaEmbed(outputDiv, spec, embedOpt)\n",
       "        .catch(err => showError(`Javascript Error: ${err.message}<br>This usually means there's a typo in your chart specification. See the javascript console for the full traceback.`));\n",
       "    }\n",
       "\n",
       "    if(typeof define === \"function\" && define.amd) {\n",
       "      requirejs.config({paths});\n",
       "      require([\"vega-embed\"], displayChart, err => showError(`Error loading script: ${err.message}`));\n",
       "    } else {\n",
       "      maybeLoadScript(\"vega\", \"5\")\n",
       "        .then(() => maybeLoadScript(\"vega-lite\", \"5.8.0\"))\n",
       "        .then(() => maybeLoadScript(\"vega-embed\", \"6\"))\n",
       "        .catch(showError)\n",
       "        .then(() => displayChart(vegaEmbed));\n",
       "    }\n",
       "  })({\"config\": {\"view\": {\"continuousWidth\": 300, \"continuousHeight\": 300}, \"title\": {\"fontSize\": 14}}, \"data\": {\"name\": \"data-82861432f9b54528aaf54ead55e7cbac\"}, \"mark\": \"bar\", \"encoding\": {\"tooltip\": [{\"field\": \"count_rows\", \"title\": \"Count in bin\", \"type\": \"quantitative\"}], \"x\": {\"axis\": {\"title\": \"Match weight\"}, \"bin\": \"binned\", \"field\": \"splink_score_bin_low\", \"type\": \"quantitative\"}, \"x2\": {\"field\": \"splink_score_bin_high\"}, \"y\": {\"axis\": {\"title\": \"Count of record comparisons in bin\"}, \"field\": \"count_rows\", \"type\": \"quantitative\"}}, \"height\": 250, \"params\": [{\"name\": \"mouse_zoom\", \"select\": {\"type\": \"interval\", \"encodings\": [\"y\"]}, \"bind\": \"scales\"}], \"title\": {\"text\": \"Histogram of match weights\", \"subtitle\": \"Use mousewheel to zoom\"}, \"width\": 600, \"$schema\": \"https://vega.github.io/schema/vega-lite/v5.9.3.json\", \"datasets\": {\"data-82861432f9b54528aaf54ead55e7cbac\": [{\"splink_score_bin_low\": -34.0, \"binwidth\": 2, \"count_rows\": 10546, \"splink_score_bin_high\": -32.0}, {\"splink_score_bin_low\": -32.0, \"binwidth\": 2, \"count_rows\": 18662, \"splink_score_bin_high\": -30.0}, {\"splink_score_bin_low\": -30.0, \"binwidth\": 2, \"count_rows\": 24331, \"splink_score_bin_high\": -28.0}, {\"splink_score_bin_low\": -28.0, \"binwidth\": 2, \"count_rows\": 15298, \"splink_score_bin_high\": -26.0}, {\"splink_score_bin_low\": -26.0, \"binwidth\": 2, \"count_rows\": 1659, \"splink_score_bin_high\": -24.0}, {\"splink_score_bin_low\": -24.0, \"binwidth\": 2, \"count_rows\": 439122, \"splink_score_bin_high\": -22.0}, {\"splink_score_bin_low\": -22.0, \"binwidth\": 2, \"count_rows\": 223694, \"splink_score_bin_high\": -20.0}, {\"splink_score_bin_low\": -20.0, \"binwidth\": 2, \"count_rows\": 60131, \"splink_score_bin_high\": -18.0}, {\"splink_score_bin_low\": -18.0, \"binwidth\": 2, \"count_rows\": 28532, \"splink_score_bin_high\": -16.0}, {\"splink_score_bin_low\": -16.0, \"binwidth\": 2, \"count_rows\": 159835, \"splink_score_bin_high\": -14.0}, {\"splink_score_bin_low\": -14.0, \"binwidth\": 2, \"count_rows\": 12206, \"splink_score_bin_high\": -12.0}, {\"splink_score_bin_low\": -12.0, \"binwidth\": 2, \"count_rows\": 10199, \"splink_score_bin_high\": -10.0}, {\"splink_score_bin_low\": -10.0, \"binwidth\": 2, \"count_rows\": 9922, \"splink_score_bin_high\": -8.0}, {\"splink_score_bin_low\": -8.0, \"binwidth\": 2, \"count_rows\": 14152, \"splink_score_bin_high\": -6.0}, {\"splink_score_bin_low\": -6.0, \"binwidth\": 2, \"count_rows\": 11681, \"splink_score_bin_high\": -4.0}, {\"splink_score_bin_low\": -4.0, \"binwidth\": 2, \"count_rows\": 10423, \"splink_score_bin_high\": -2.0}, {\"splink_score_bin_low\": -2.0, \"binwidth\": 2, \"count_rows\": 708, \"splink_score_bin_high\": 0.0}, {\"splink_score_bin_low\": 0.0, \"binwidth\": 2, \"count_rows\": 180, \"splink_score_bin_high\": 2.0}, {\"splink_score_bin_low\": 2.0, \"binwidth\": 2, \"count_rows\": 250, \"splink_score_bin_high\": 4.0}, {\"splink_score_bin_low\": 4.0, \"binwidth\": 2, \"count_rows\": 158, \"splink_score_bin_high\": 6.0}, {\"splink_score_bin_low\": 6.0, \"binwidth\": 2, \"count_rows\": 157, \"splink_score_bin_high\": 8.0}, {\"splink_score_bin_low\": 8.0, \"binwidth\": 2, \"count_rows\": 164, \"splink_score_bin_high\": 10.0}, {\"splink_score_bin_low\": 10.0, \"binwidth\": 2, \"count_rows\": 305, \"splink_score_bin_high\": 12.0}, {\"splink_score_bin_low\": 12.0, \"binwidth\": 2, \"count_rows\": 1506, \"splink_score_bin_high\": 14.0}, {\"splink_score_bin_low\": 14.0, \"binwidth\": 2, \"count_rows\": 177, \"splink_score_bin_high\": 16.0}, {\"splink_score_bin_low\": 16.0, \"binwidth\": 2, \"count_rows\": 352, \"splink_score_bin_high\": 18.0}, {\"splink_score_bin_low\": 18.0, \"binwidth\": 2, \"count_rows\": 815, \"splink_score_bin_high\": 20.0}, {\"splink_score_bin_low\": 20.0, \"binwidth\": 2, \"count_rows\": 1534, \"splink_score_bin_high\": 22.0}, {\"splink_score_bin_low\": 22.0, \"binwidth\": 2, \"count_rows\": 3653, \"splink_score_bin_high\": 24.0}, {\"splink_score_bin_low\": 24.0, \"binwidth\": 2, \"count_rows\": 3885, \"splink_score_bin_high\": 26.0}]}}, {\"mode\": \"vega-lite\"});\n",
       "</script>"
      ],
      "text/plain": [
       "alt.Chart(...)"
      ]
     },
     "execution_count": 36,
     "metadata": {},
     "output_type": "execute_result"
    }
   ],
   "source": [
    "linker.match_weights_histogram(linker.predict())\n"
   ]
  },
  {
   "cell_type": "code",
   "execution_count": 37,
   "metadata": {},
   "outputs": [
    {
     "data": {
      "application/vnd.jupyter.widget-view+json": {
       "model_id": "f5d3306f3ce34dcd97d0fb5a4bbcfdc2",
       "version_major": 2,
       "version_minor": 0
      },
      "text/plain": [
       "FloatProgress(value=0.0, layout=Layout(width='auto'), style=ProgressStyle(bar_color='black'))"
      ]
     },
     "metadata": {},
     "output_type": "display_data"
    },
    {
     "data": {
      "text/html": [
       "\n",
       "<style>\n",
       "  #altair-viz-6596cea6ae884b5d984993e40d6772e7.vega-embed {\n",
       "    width: 100%;\n",
       "    display: flex;\n",
       "  }\n",
       "\n",
       "  #altair-viz-6596cea6ae884b5d984993e40d6772e7.vega-embed details,\n",
       "  #altair-viz-6596cea6ae884b5d984993e40d6772e7.vega-embed details summary {\n",
       "    position: relative;\n",
       "  }\n",
       "</style>\n",
       "<div id=\"altair-viz-6596cea6ae884b5d984993e40d6772e7\"></div>\n",
       "<script type=\"text/javascript\">\n",
       "  var VEGA_DEBUG = (typeof VEGA_DEBUG == \"undefined\") ? {} : VEGA_DEBUG;\n",
       "  (function(spec, embedOpt){\n",
       "    let outputDiv = document.currentScript.previousElementSibling;\n",
       "    if (outputDiv.id !== \"altair-viz-6596cea6ae884b5d984993e40d6772e7\") {\n",
       "      outputDiv = document.getElementById(\"altair-viz-6596cea6ae884b5d984993e40d6772e7\");\n",
       "    }\n",
       "    const paths = {\n",
       "      \"vega\": \"https://cdn.jsdelivr.net/npm/vega@5?noext\",\n",
       "      \"vega-lib\": \"https://cdn.jsdelivr.net/npm/vega-lib?noext\",\n",
       "      \"vega-lite\": \"https://cdn.jsdelivr.net/npm/vega-lite@5.8.0?noext\",\n",
       "      \"vega-embed\": \"https://cdn.jsdelivr.net/npm/vega-embed@6?noext\",\n",
       "    };\n",
       "\n",
       "    function maybeLoadScript(lib, version) {\n",
       "      var key = `${lib.replace(\"-\", \"\")}_version`;\n",
       "      return (VEGA_DEBUG[key] == version) ?\n",
       "        Promise.resolve(paths[lib]) :\n",
       "        new Promise(function(resolve, reject) {\n",
       "          var s = document.createElement('script');\n",
       "          document.getElementsByTagName(\"head\")[0].appendChild(s);\n",
       "          s.async = true;\n",
       "          s.onload = () => {\n",
       "            VEGA_DEBUG[key] = version;\n",
       "            return resolve(paths[lib]);\n",
       "          };\n",
       "          s.onerror = () => reject(`Error loading script: ${paths[lib]}`);\n",
       "          s.src = paths[lib];\n",
       "        });\n",
       "    }\n",
       "\n",
       "    function showError(err) {\n",
       "      outputDiv.innerHTML = `<div class=\"error\" style=\"color:red;\">${err}</div>`;\n",
       "      throw err;\n",
       "    }\n",
       "\n",
       "    function displayChart(vegaEmbed) {\n",
       "      vegaEmbed(outputDiv, spec, embedOpt)\n",
       "        .catch(err => showError(`Javascript Error: ${err.message}<br>This usually means there's a typo in your chart specification. See the javascript console for the full traceback.`));\n",
       "    }\n",
       "\n",
       "    if(typeof define === \"function\" && define.amd) {\n",
       "      requirejs.config({paths});\n",
       "      require([\"vega-embed\"], displayChart, err => showError(`Error loading script: ${err.message}`));\n",
       "    } else {\n",
       "      maybeLoadScript(\"vega\", \"5\")\n",
       "        .then(() => maybeLoadScript(\"vega-lite\", \"5.8.0\"))\n",
       "        .then(() => maybeLoadScript(\"vega-embed\", \"6\"))\n",
       "        .catch(showError)\n",
       "        .then(() => displayChart(vegaEmbed));\n",
       "    }\n",
       "  })({\"config\": {\"view\": {\"continuousWidth\": 400, \"continuousHeight\": 300}}, \"layer\": [{\"layer\": [{\"mark\": \"rule\", \"encoding\": {\"color\": {\"value\": \"black\"}, \"size\": {\"value\": 0.5}, \"y\": {\"field\": \"zero\", \"type\": \"quantitative\"}}}, {\"mark\": {\"type\": \"bar\", \"width\": 60}, \"encoding\": {\"color\": {\"condition\": {\"test\": \"(datum.log2_bayes_factor < 0)\", \"value\": \"red\"}, \"value\": \"green\"}, \"opacity\": {\"condition\": {\"test\": \"datum.column_name == 'Prior match weight' || datum.column_name == 'Final score'\", \"value\": 1}, \"value\": 0.5}, \"tooltip\": [{\"field\": \"column_name\", \"title\": \"Comparison column\", \"type\": \"nominal\"}, {\"field\": \"value_l\", \"title\": \"Value (L)\", \"type\": \"nominal\"}, {\"field\": \"value_r\", \"title\": \"Value (R)\", \"type\": \"nominal\"}, {\"field\": \"label_for_charts\", \"title\": \"Label\", \"type\": \"ordinal\"}, {\"field\": \"sql_condition\", \"title\": \"SQL condition\", \"type\": \"nominal\"}, {\"field\": \"comparison_vector_value\", \"title\": \"Comparison vector value\", \"type\": \"nominal\"}, {\"field\": \"bayes_factor\", \"format\": \",.4f\", \"title\": \"Bayes factor = m/u\", \"type\": \"quantitative\"}, {\"field\": \"log2_bayes_factor\", \"format\": \",.4f\", \"title\": \"Match weight = log2(m/u)\", \"type\": \"quantitative\"}, {\"field\": \"prob\", \"format\": \".4f\", \"title\": \"Cumulative match probability\", \"type\": \"quantitative\"}, {\"field\": \"bayes_factor_description\", \"title\": \"Match weight description\", \"type\": \"nominal\"}], \"x\": {\"axis\": {\"grid\": true, \"labelAlign\": \"center\", \"labelAngle\": -20, \"labelExpr\": \"datum.value == 'Prior' || datum.value == 'Final score' ? '' : datum.value\", \"labelPadding\": 10, \"tickBand\": \"extent\", \"title\": \"Column\"}, \"field\": \"column_name\", \"sort\": {\"field\": \"bar_sort_order\", \"order\": \"ascending\"}, \"type\": \"nominal\"}, \"y\": {\"axis\": {\"grid\": false, \"orient\": \"left\", \"title\": \"Match Weight\"}, \"field\": \"previous_sum\", \"type\": \"quantitative\"}, \"y2\": {\"field\": \"sum\"}}}, {\"mark\": {\"type\": \"text\", \"fontWeight\": \"bold\"}, \"encoding\": {\"color\": {\"value\": \"white\"}, \"text\": {\"condition\": {\"test\": \"abs(datum.log2_bayes_factor) > 1\", \"field\": \"log2_bayes_factor\", \"format\": \".2f\", \"type\": \"nominal\"}, \"value\": \"\"}, \"x\": {\"axis\": {\"labelAngle\": -20, \"title\": \"Column\"}, \"field\": \"column_name\", \"sort\": {\"field\": \"bar_sort_order\", \"order\": \"ascending\"}, \"type\": \"nominal\"}, \"y\": {\"axis\": {\"orient\": \"left\"}, \"field\": \"center\", \"type\": \"quantitative\"}}}, {\"mark\": {\"type\": \"text\", \"baseline\": \"bottom\", \"dy\": -25, \"fontWeight\": \"bold\"}, \"encoding\": {\"color\": {\"value\": \"black\"}, \"text\": {\"field\": \"column_name\", \"type\": \"nominal\"}, \"x\": {\"axis\": {\"labelAngle\": -20, \"title\": \"Column\"}, \"field\": \"column_name\", \"sort\": {\"field\": \"bar_sort_order\", \"order\": \"ascending\"}, \"type\": \"nominal\"}, \"y\": {\"field\": \"sum_top\", \"type\": \"quantitative\"}}}, {\"mark\": {\"type\": \"text\", \"baseline\": \"bottom\", \"dy\": -13, \"fontSize\": 8}, \"encoding\": {\"color\": {\"value\": \"grey\"}, \"text\": {\"field\": \"value_l\", \"type\": \"nominal\"}, \"x\": {\"axis\": {\"labelAngle\": -20, \"title\": \"Column\"}, \"field\": \"column_name\", \"sort\": {\"field\": \"bar_sort_order\", \"order\": \"ascending\"}, \"type\": \"nominal\"}, \"y\": {\"field\": \"sum_top\", \"type\": \"quantitative\"}}}, {\"mark\": {\"type\": \"text\", \"baseline\": \"bottom\", \"dy\": -5, \"fontSize\": 8}, \"encoding\": {\"color\": {\"value\": \"grey\"}, \"text\": {\"field\": \"value_r\", \"type\": \"nominal\"}, \"x\": {\"axis\": {\"labelAngle\": -20, \"title\": \"Column\"}, \"field\": \"column_name\", \"sort\": {\"field\": \"bar_sort_order\", \"order\": \"ascending\"}, \"type\": \"nominal\"}, \"y\": {\"field\": \"sum_top\", \"type\": \"quantitative\"}}}]}, {\"mark\": {\"type\": \"rule\", \"color\": \"black\", \"strokeWidth\": 2, \"x2Offset\": 30, \"xOffset\": -30}, \"encoding\": {\"x\": {\"axis\": {\"labelAngle\": -20, \"title\": \"Column\"}, \"field\": \"column_name\", \"sort\": {\"field\": \"bar_sort_order\", \"order\": \"ascending\"}, \"type\": \"nominal\"}, \"x2\": {\"field\": \"lead\"}, \"y\": {\"axis\": {\"labelExpr\": \"format(1 / (1 + pow(2, -1*datum.value)), '.2r')\", \"orient\": \"right\", \"title\": \"Probability\"}, \"field\": \"sum\", \"scale\": {\"zero\": false}, \"type\": \"quantitative\"}}}], \"data\": {\"name\": \"data-2d01c4d0b86f0d4b2ca440f6dec12745\"}, \"height\": 450, \"params\": [{\"name\": \"record_number\", \"bind\": {\"input\": \"range\", \"max\": 9, \"min\": 0, \"step\": 1}, \"value\": 0}], \"resolve\": {\"axis\": {\"y\": \"independent\"}}, \"title\": {\"text\": \"Match weights waterfall chart\", \"subtitle\": \"How each comparison contributes to the final match score\"}, \"transform\": [{\"filter\": \"(datum.record_number == record_number)\"}, {\"filter\": \"(datum.bayes_factor !== 1.0)\"}, {\"window\": [{\"op\": \"sum\", \"field\": \"log2_bayes_factor\", \"as\": \"sum\"}, {\"op\": \"lead\", \"field\": \"column_name\", \"as\": \"lead\"}], \"frame\": [null, 0]}, {\"calculate\": \"datum.column_name === \\\"Final score\\\" ? datum.sum - datum.log2_bayes_factor : datum.sum\", \"as\": \"sum\"}, {\"calculate\": \"datum.lead === null ? datum.column_name : datum.lead\", \"as\": \"lead\"}, {\"calculate\": \"datum.column_name === \\\"Final score\\\" || datum.column_name === \\\"Prior match weight\\\" ? 0 : datum.sum - datum.log2_bayes_factor\", \"as\": \"previous_sum\"}, {\"calculate\": \"datum.sum > datum.previous_sum ? datum.column_name : \\\"\\\"\", \"as\": \"top_label\"}, {\"calculate\": \"datum.sum < datum.previous_sum ? datum.column_name : \\\"\\\"\", \"as\": \"bottom_label\"}, {\"calculate\": \"datum.sum > datum.previous_sum ? datum.sum : datum.previous_sum\", \"as\": \"sum_top\"}, {\"calculate\": \"datum.sum < datum.previous_sum ? datum.sum : datum.previous_sum\", \"as\": \"sum_bottom\"}, {\"calculate\": \"(datum.sum + datum.previous_sum) / 2\", \"as\": \"center\"}, {\"calculate\": \"(datum.log2_bayes_factor > 0 ? \\\"+\\\" : \\\"\\\") + datum.log2_bayes_factor\", \"as\": \"text_log2_bayes_factor\"}, {\"calculate\": \"datum.sum < datum.previous_sum ? 4 : -4\", \"as\": \"dy\"}, {\"calculate\": \"datum.sum < datum.previous_sum ? \\\"top\\\" : \\\"bottom\\\"\", \"as\": \"baseline\"}, {\"calculate\": \"1. / (1 + pow(2, -1.*datum.sum))\", \"as\": \"prob\"}, {\"calculate\": \"0*datum.sum\", \"as\": \"zero\"}], \"width\": {\"step\": 75}, \"$schema\": \"https://vega.github.io/schema/vega-lite/v5.9.3.json\", \"datasets\": {\"data-2d01c4d0b86f0d4b2ca440f6dec12745\": [{\"column_name\": \"Prior\", \"label_for_charts\": \"Starting match weight (prior)\", \"sql_condition\": null, \"log2_bayes_factor\": -13.696967526234287, \"bayes_factor\": 7.53012048192771e-05, \"comparison_vector_value\": null, \"m_probability\": null, \"u_probability\": null, \"bayes_factor_description\": null, \"value_l\": \"\", \"value_r\": \"\", \"term_frequency_adjustment\": null, \"bar_sort_order\": 0, \"record_number\": 0}, {\"column_name\": \"syn_g1_firstname\", \"label_for_charts\": \"Exact match\", \"sql_condition\": \"syn_g1_firstname_l = syn_g1_firstname_r\", \"log2_bayes_factor\": 7.572144783812948, \"bayes_factor\": 190.30171906179348, \"comparison_vector_value\": 2, \"m_probability\": 0.76077749205869, \"u_probability\": 0.003997743666265335, \"bayes_factor_description\": \"If comparison level is `exact match` then comparison is 190.30 times more likely to be a match\", \"value_l\": \"Pearl\", \"value_r\": \"Pearl\", \"term_frequency_adjustment\": false, \"bar_sort_order\": 1, \"record_number\": 0}, {\"column_name\": \"tf_syn_g1_firstname\", \"label_for_charts\": \"Term freq adjustment on syn_g1_firstname with weight {cl.tf_adjustment_weight}\", \"sql_condition\": \"syn_g1_firstname_l = syn_g1_firstname_r\", \"log2_bayes_factor\": 1.999185970015597, \"bayes_factor\": 3.997743666265335, \"comparison_vector_value\": 2, \"m_probability\": null, \"u_probability\": null, \"bayes_factor_description\": \"Term frequency adjustment on syn_g1_firstname makes comparison 4.00 times more likely to be a match\", \"value_l\": \"Pearl\", \"value_r\": \"Pearl\", \"term_frequency_adjustment\": true, \"bar_sort_order\": 2, \"record_number\": 0}, {\"column_name\": \"syn_g1_surname\", \"label_for_charts\": \"Exact match\", \"sql_condition\": \"syn_g1_surname_l = syn_g1_surname_r\", \"log2_bayes_factor\": 9.879381723092342, \"bayes_factor\": 941.868423527847, \"comparison_vector_value\": 2, \"m_probability\": 0.9294480837286349, \"u_probability\": 0.0009868130839839702, \"bayes_factor_description\": \"If comparison level is `exact match` then comparison is 941.87 times more likely to be a match\", \"value_l\": \"khan\", \"value_r\": \"khan\", \"term_frequency_adjustment\": false, \"bar_sort_order\": 3, \"record_number\": 0}, {\"column_name\": \"tf_syn_g1_surname\", \"label_for_charts\": \"Term freq adjustment on syn_g1_surname with weight {cl.tf_adjustment_weight}\", \"sql_condition\": \"syn_g1_surname_l = syn_g1_surname_r\", \"log2_bayes_factor\": -0.01915125067854182, \"bayes_factor\": 0.9868130839839702, \"comparison_vector_value\": 2, \"m_probability\": null, \"u_probability\": null, \"bayes_factor_description\": \"Term frequency adjustment on syn_g1_surname makes comparison  1.01 times less likely to be a match\", \"value_l\": \"khan\", \"value_r\": \"khan\", \"term_frequency_adjustment\": true, \"bar_sort_order\": 4, \"record_number\": 0}, {\"column_name\": \"syn_g0_surname\", \"label_for_charts\": \"Exact match\", \"sql_condition\": \"syn_g0_surname_l = syn_g0_surname_r\", \"log2_bayes_factor\": 10.021675973841743, \"bayes_factor\": 1039.5013913256116, \"comparison_vector_value\": 2, \"m_probability\": 0.941566265060241, \"u_probability\": 0.0009057864404197861, \"bayes_factor_description\": \"If comparison level is `exact match` then comparison is 1,039.50 times more likely to be a match\", \"value_l\": \"khan\", \"value_r\": \"khan\", \"term_frequency_adjustment\": false, \"bar_sort_order\": 5, \"record_number\": 0}, {\"column_name\": \"tf_syn_g0_surname\", \"label_for_charts\": \"Term freq adjustment on syn_g0_surname with weight {cl.tf_adjustment_weight}\", \"sql_condition\": \"syn_g0_surname_l = syn_g0_surname_r\", \"log2_bayes_factor\": -0.14275715241427933, \"bayes_factor\": 0.9057864404197861, \"comparison_vector_value\": 2, \"m_probability\": null, \"u_probability\": null, \"bayes_factor_description\": \"Term frequency adjustment on syn_g0_surname makes comparison  1.10 times less likely to be a match\", \"value_l\": \"khan\", \"value_r\": \"khan\", \"term_frequency_adjustment\": true, \"bar_sort_order\": 6, \"record_number\": 0}, {\"column_name\": \"g1_dob_arc1\", \"label_for_charts\": \"Exact match\", \"sql_condition\": \"\\\"g1_dob_arc1_l\\\" = \\\"g1_dob_arc1_r\\\"\", \"log2_bayes_factor\": 9.190187591492597, \"bayes_factor\": 584.1469733496527, \"comparison_vector_value\": 1, \"m_probability\": 0.9949551991566901, \"u_probability\": 0.001703261755258877, \"bayes_factor_description\": \"If comparison level is `exact match` then comparison is 584.15 times more likely to be a match\", \"value_l\": \"1992-01-20\", \"value_r\": \"1992-01-20\", \"term_frequency_adjustment\": false, \"bar_sort_order\": 7, \"record_number\": 0}, {\"column_name\": \"g1_gender_arc\", \"label_for_charts\": \"Exact match\", \"sql_condition\": \"\\\"g1_gender_arc_l\\\" = \\\"g1_gender_arc_r\\\"\", \"log2_bayes_factor\": 0.9994258748202448, \"bayes_factor\": 1.9992042518465118, \"comparison_vector_value\": 1, \"m_probability\": 1.0, \"u_probability\": 0.5001990162217675, \"bayes_factor_description\": \"If comparison level is `exact match` then comparison is 2.00 times more likely to be a match\", \"value_l\": \"Female\", \"value_r\": \"Female\", \"term_frequency_adjustment\": false, \"bar_sort_order\": 8, \"record_number\": 0}, {\"column_name\": \"Final score\", \"label_for_charts\": \"Final score\", \"sql_condition\": null, \"log2_bayes_factor\": 25.803125987748363, \"bayes_factor\": 58548382.87325486, \"comparison_vector_value\": null, \"m_probability\": null, \"u_probability\": null, \"bayes_factor_description\": null, \"value_l\": \"\", \"value_r\": \"\", \"term_frequency_adjustment\": null, \"bar_sort_order\": 9, \"record_number\": 0}, {\"column_name\": \"Prior\", \"label_for_charts\": \"Starting match weight (prior)\", \"sql_condition\": null, \"log2_bayes_factor\": -13.696967526234287, \"bayes_factor\": 7.53012048192771e-05, \"comparison_vector_value\": null, \"m_probability\": null, \"u_probability\": null, \"bayes_factor_description\": null, \"value_l\": \"\", \"value_r\": \"\", \"term_frequency_adjustment\": null, \"bar_sort_order\": 0, \"record_number\": 1}, {\"column_name\": \"syn_g1_firstname\", \"label_for_charts\": \"Exact match\", \"sql_condition\": \"syn_g1_firstname_l = syn_g1_firstname_r\", \"log2_bayes_factor\": 7.572144783812948, \"bayes_factor\": 190.30171906179348, \"comparison_vector_value\": 2, \"m_probability\": 0.76077749205869, \"u_probability\": 0.003997743666265335, \"bayes_factor_description\": \"If comparison level is `exact match` then comparison is 190.30 times more likely to be a match\", \"value_l\": \"Aishah\", \"value_r\": \"Aishah\", \"term_frequency_adjustment\": false, \"bar_sort_order\": 1, \"record_number\": 1}, {\"column_name\": \"tf_syn_g1_firstname\", \"label_for_charts\": \"Term freq adjustment on syn_g1_firstname with weight {cl.tf_adjustment_weight}\", \"sql_condition\": \"syn_g1_firstname_l = syn_g1_firstname_r\", \"log2_bayes_factor\": 1.999185970015597, \"bayes_factor\": 3.997743666265335, \"comparison_vector_value\": 2, \"m_probability\": null, \"u_probability\": null, \"bayes_factor_description\": \"Term frequency adjustment on syn_g1_firstname makes comparison 4.00 times more likely to be a match\", \"value_l\": \"Aishah\", \"value_r\": \"Aishah\", \"term_frequency_adjustment\": true, \"bar_sort_order\": 2, \"record_number\": 1}, {\"column_name\": \"syn_g1_surname\", \"label_for_charts\": \"Exact match\", \"sql_condition\": \"syn_g1_surname_l = syn_g1_surname_r\", \"log2_bayes_factor\": 9.879381723092342, \"bayes_factor\": 941.868423527847, \"comparison_vector_value\": 2, \"m_probability\": 0.9294480837286349, \"u_probability\": 0.0009868130839839702, \"bayes_factor_description\": \"If comparison level is `exact match` then comparison is 941.87 times more likely to be a match\", \"value_l\": \"tang\", \"value_r\": \"tang\", \"term_frequency_adjustment\": false, \"bar_sort_order\": 3, \"record_number\": 1}, {\"column_name\": \"tf_syn_g1_surname\", \"label_for_charts\": \"Term freq adjustment on syn_g1_surname with weight {cl.tf_adjustment_weight}\", \"sql_condition\": \"syn_g1_surname_l = syn_g1_surname_r\", \"log2_bayes_factor\": -0.01915125067854182, \"bayes_factor\": 0.9868130839839702, \"comparison_vector_value\": 2, \"m_probability\": null, \"u_probability\": null, \"bayes_factor_description\": \"Term frequency adjustment on syn_g1_surname makes comparison  1.01 times less likely to be a match\", \"value_l\": \"tang\", \"value_r\": \"tang\", \"term_frequency_adjustment\": true, \"bar_sort_order\": 4, \"record_number\": 1}, {\"column_name\": \"syn_g0_surname\", \"label_for_charts\": \"Jaro_winkler_similarity 0.8\", \"sql_condition\": \"jaro_winkler_similarity(\\\"syn_g0_surname_l\\\", \\\"syn_g0_surname_r\\\") >= 0.8\", \"log2_bayes_factor\": 1.7195999723031696, \"bayes_factor\": 3.2934507407874754, \"comparison_vector_value\": 1, \"m_probability\": 0.011822289156626507, \"u_probability\": 0.00358963594330236, \"bayes_factor_description\": \"If comparison level is `jaro_winkler_similarity 0.8` then comparison is 3.29 times more likely to be a match\", \"value_l\": \"tang\", \"value_r\": \"tang rivas\", \"term_frequency_adjustment\": false, \"bar_sort_order\": 5, \"record_number\": 1}, {\"column_name\": \"tf_syn_g0_surname\", \"label_for_charts\": \"Term freq adjustment on syn_g0_surname with weight {cl.tf_adjustment_weight}\", \"sql_condition\": \"jaro_winkler_similarity(\\\"syn_g0_surname_l\\\", \\\"syn_g0_surname_r\\\") >= 0.8\", \"log2_bayes_factor\": -0.07137857620713967, \"bayes_factor\": 0.9517281336704227, \"comparison_vector_value\": 1, \"m_probability\": null, \"u_probability\": null, \"bayes_factor_description\": \"Term frequency adjustment on syn_g0_surname makes comparison  1.05 times less likely to be a match\", \"value_l\": \"tang\", \"value_r\": \"tang rivas\", \"term_frequency_adjustment\": true, \"bar_sort_order\": 6, \"record_number\": 1}, {\"column_name\": \"g1_dob_arc1\", \"label_for_charts\": \"Exact match\", \"sql_condition\": \"\\\"g1_dob_arc1_l\\\" = \\\"g1_dob_arc1_r\\\"\", \"log2_bayes_factor\": 9.190187591492597, \"bayes_factor\": 584.1469733496527, \"comparison_vector_value\": 1, \"m_probability\": 0.9949551991566901, \"u_probability\": 0.001703261755258877, \"bayes_factor_description\": \"If comparison level is `exact match` then comparison is 584.15 times more likely to be a match\", \"value_l\": \"1991-10-22\", \"value_r\": \"1991-10-22\", \"term_frequency_adjustment\": false, \"bar_sort_order\": 7, \"record_number\": 1}, {\"column_name\": \"g1_gender_arc\", \"label_for_charts\": \"Exact match\", \"sql_condition\": \"\\\"g1_gender_arc_l\\\" = \\\"g1_gender_arc_r\\\"\", \"log2_bayes_factor\": 0.9994258748202448, \"bayes_factor\": 1.9992042518465118, \"comparison_vector_value\": 1, \"m_probability\": 1.0, \"u_probability\": 0.5001990162217675, \"bayes_factor_description\": \"If comparison level is `exact match` then comparison is 2.00 times more likely to be a match\", \"value_l\": \"Female\", \"value_r\": \"Female\", \"term_frequency_adjustment\": false, \"bar_sort_order\": 8, \"record_number\": 1}, {\"column_name\": \"Final score\", \"label_for_charts\": \"Final score\", \"sql_condition\": null, \"log2_bayes_factor\": 17.572428562416928, \"bayes_factor\": 194907.2948799679, \"comparison_vector_value\": null, \"m_probability\": null, \"u_probability\": null, \"bayes_factor_description\": null, \"value_l\": \"\", \"value_r\": \"\", \"term_frequency_adjustment\": null, \"bar_sort_order\": 9, \"record_number\": 1}, {\"column_name\": \"Prior\", \"label_for_charts\": \"Starting match weight (prior)\", \"sql_condition\": null, \"log2_bayes_factor\": -13.696967526234287, \"bayes_factor\": 7.53012048192771e-05, \"comparison_vector_value\": null, \"m_probability\": null, \"u_probability\": null, \"bayes_factor_description\": null, \"value_l\": \"\", \"value_r\": \"\", \"term_frequency_adjustment\": null, \"bar_sort_order\": 0, \"record_number\": 2}, {\"column_name\": \"syn_g1_firstname\", \"label_for_charts\": \"Exact match\", \"sql_condition\": \"syn_g1_firstname_l = syn_g1_firstname_r\", \"log2_bayes_factor\": 7.572144783812948, \"bayes_factor\": 190.30171906179348, \"comparison_vector_value\": 2, \"m_probability\": 0.76077749205869, \"u_probability\": 0.003997743666265335, \"bayes_factor_description\": \"If comparison level is `exact match` then comparison is 190.30 times more likely to be a match\", \"value_l\": \"Lina\", \"value_r\": \"Lina\", \"term_frequency_adjustment\": false, \"bar_sort_order\": 1, \"record_number\": 2}, {\"column_name\": \"tf_syn_g1_firstname\", \"label_for_charts\": \"Term freq adjustment on syn_g1_firstname with weight {cl.tf_adjustment_weight}\", \"sql_condition\": \"syn_g1_firstname_l = syn_g1_firstname_r\", \"log2_bayes_factor\": 1.999185970015597, \"bayes_factor\": 3.997743666265335, \"comparison_vector_value\": 2, \"m_probability\": null, \"u_probability\": null, \"bayes_factor_description\": \"Term frequency adjustment on syn_g1_firstname makes comparison 4.00 times more likely to be a match\", \"value_l\": \"Lina\", \"value_r\": \"Lina\", \"term_frequency_adjustment\": true, \"bar_sort_order\": 2, \"record_number\": 2}, {\"column_name\": \"syn_g1_surname\", \"label_for_charts\": \"Exact match\", \"sql_condition\": \"syn_g1_surname_l = syn_g1_surname_r\", \"log2_bayes_factor\": 9.879381723092342, \"bayes_factor\": 941.868423527847, \"comparison_vector_value\": 2, \"m_probability\": 0.9294480837286349, \"u_probability\": 0.0009868130839839702, \"bayes_factor_description\": \"If comparison level is `exact match` then comparison is 941.87 times more likely to be a match\", \"value_l\": \"chen\", \"value_r\": \"chen\", \"term_frequency_adjustment\": false, \"bar_sort_order\": 3, \"record_number\": 2}, {\"column_name\": \"tf_syn_g1_surname\", \"label_for_charts\": \"Term freq adjustment on syn_g1_surname with weight {cl.tf_adjustment_weight}\", \"sql_condition\": \"syn_g1_surname_l = syn_g1_surname_r\", \"log2_bayes_factor\": -0.01915125067854182, \"bayes_factor\": 0.9868130839839702, \"comparison_vector_value\": 2, \"m_probability\": null, \"u_probability\": null, \"bayes_factor_description\": \"Term frequency adjustment on syn_g1_surname makes comparison  1.01 times less likely to be a match\", \"value_l\": \"chen\", \"value_r\": \"chen\", \"term_frequency_adjustment\": true, \"bar_sort_order\": 4, \"record_number\": 2}, {\"column_name\": \"syn_g0_surname\", \"label_for_charts\": \"Exact match\", \"sql_condition\": \"syn_g0_surname_l = syn_g0_surname_r\", \"log2_bayes_factor\": 10.021675973841743, \"bayes_factor\": 1039.5013913256116, \"comparison_vector_value\": 2, \"m_probability\": 0.941566265060241, \"u_probability\": 0.0009057864404197861, \"bayes_factor_description\": \"If comparison level is `exact match` then comparison is 1,039.50 times more likely to be a match\", \"value_l\": \"chen\", \"value_r\": \"chen\", \"term_frequency_adjustment\": false, \"bar_sort_order\": 5, \"record_number\": 2}, {\"column_name\": \"tf_syn_g0_surname\", \"label_for_charts\": \"Term freq adjustment on syn_g0_surname with weight {cl.tf_adjustment_weight}\", \"sql_condition\": \"syn_g0_surname_l = syn_g0_surname_r\", \"log2_bayes_factor\": -0.14275715241427933, \"bayes_factor\": 0.9057864404197861, \"comparison_vector_value\": 2, \"m_probability\": null, \"u_probability\": null, \"bayes_factor_description\": \"Term frequency adjustment on syn_g0_surname makes comparison  1.10 times less likely to be a match\", \"value_l\": \"chen\", \"value_r\": \"chen\", \"term_frequency_adjustment\": true, \"bar_sort_order\": 6, \"record_number\": 2}, {\"column_name\": \"g1_dob_arc1\", \"label_for_charts\": \"Exact match\", \"sql_condition\": \"\\\"g1_dob_arc1_l\\\" = \\\"g1_dob_arc1_r\\\"\", \"log2_bayes_factor\": 9.190187591492597, \"bayes_factor\": 584.1469733496527, \"comparison_vector_value\": 1, \"m_probability\": 0.9949551991566901, \"u_probability\": 0.001703261755258877, \"bayes_factor_description\": \"If comparison level is `exact match` then comparison is 584.15 times more likely to be a match\", \"value_l\": \"1991-04-17\", \"value_r\": \"1991-04-17\", \"term_frequency_adjustment\": false, \"bar_sort_order\": 7, \"record_number\": 2}, {\"column_name\": \"g1_gender_arc\", \"label_for_charts\": \"Exact match\", \"sql_condition\": \"\\\"g1_gender_arc_l\\\" = \\\"g1_gender_arc_r\\\"\", \"log2_bayes_factor\": 0.9994258748202448, \"bayes_factor\": 1.9992042518465118, \"comparison_vector_value\": 1, \"m_probability\": 1.0, \"u_probability\": 0.5001990162217675, \"bayes_factor_description\": \"If comparison level is `exact match` then comparison is 2.00 times more likely to be a match\", \"value_l\": \"Female\", \"value_r\": \"Female\", \"term_frequency_adjustment\": false, \"bar_sort_order\": 8, \"record_number\": 2}, {\"column_name\": \"Final score\", \"label_for_charts\": \"Final score\", \"sql_condition\": null, \"log2_bayes_factor\": 25.803125987748363, \"bayes_factor\": 58548382.87325486, \"comparison_vector_value\": null, \"m_probability\": null, \"u_probability\": null, \"bayes_factor_description\": null, \"value_l\": \"\", \"value_r\": \"\", \"term_frequency_adjustment\": null, \"bar_sort_order\": 9, \"record_number\": 2}, {\"column_name\": \"Prior\", \"label_for_charts\": \"Starting match weight (prior)\", \"sql_condition\": null, \"log2_bayes_factor\": -13.696967526234287, \"bayes_factor\": 7.53012048192771e-05, \"comparison_vector_value\": null, \"m_probability\": null, \"u_probability\": null, \"bayes_factor_description\": null, \"value_l\": \"\", \"value_r\": \"\", \"term_frequency_adjustment\": null, \"bar_sort_order\": 0, \"record_number\": 3}, {\"column_name\": \"syn_g1_firstname\", \"label_for_charts\": \"Exact match\", \"sql_condition\": \"syn_g1_firstname_l = syn_g1_firstname_r\", \"log2_bayes_factor\": 7.572144783812948, \"bayes_factor\": 190.30171906179348, \"comparison_vector_value\": 2, \"m_probability\": 0.76077749205869, \"u_probability\": 0.003997743666265335, \"bayes_factor_description\": \"If comparison level is `exact match` then comparison is 190.30 times more likely to be a match\", \"value_l\": \"Sofia\", \"value_r\": \"Sofia\", \"term_frequency_adjustment\": false, \"bar_sort_order\": 1, \"record_number\": 3}, {\"column_name\": \"tf_syn_g1_firstname\", \"label_for_charts\": \"Term freq adjustment on syn_g1_firstname with weight {cl.tf_adjustment_weight}\", \"sql_condition\": \"syn_g1_firstname_l = syn_g1_firstname_r\", \"log2_bayes_factor\": 1.0236147665609008, \"bayes_factor\": 2.0330064136677026, \"comparison_vector_value\": 2, \"m_probability\": null, \"u_probability\": null, \"bayes_factor_description\": \"Term frequency adjustment on syn_g1_firstname makes comparison 2.03 times more likely to be a match\", \"value_l\": \"Sofia\", \"value_r\": \"Sofia\", \"term_frequency_adjustment\": true, \"bar_sort_order\": 2, \"record_number\": 3}, {\"column_name\": \"syn_g1_surname\", \"label_for_charts\": \"Exact match\", \"sql_condition\": \"syn_g1_surname_l = syn_g1_surname_r\", \"log2_bayes_factor\": 9.879381723092342, \"bayes_factor\": 941.868423527847, \"comparison_vector_value\": 2, \"m_probability\": 0.9294480837286349, \"u_probability\": 0.0009868130839839702, \"bayes_factor_description\": \"If comparison level is `exact match` then comparison is 941.87 times more likely to be a match\", \"value_l\": \"singh\", \"value_r\": \"singh\", \"term_frequency_adjustment\": false, \"bar_sort_order\": 3, \"record_number\": 3}, {\"column_name\": \"tf_syn_g1_surname\", \"label_for_charts\": \"Term freq adjustment on syn_g1_surname with weight {cl.tf_adjustment_weight}\", \"sql_condition\": \"syn_g1_surname_l = syn_g1_surname_r\", \"log2_bayes_factor\": -0.01915125067854182, \"bayes_factor\": 0.9868130839839702, \"comparison_vector_value\": 2, \"m_probability\": null, \"u_probability\": null, \"bayes_factor_description\": \"Term frequency adjustment on syn_g1_surname makes comparison  1.01 times less likely to be a match\", \"value_l\": \"singh\", \"value_r\": \"singh\", \"term_frequency_adjustment\": true, \"bar_sort_order\": 4, \"record_number\": 3}, {\"column_name\": \"syn_g0_surname\", \"label_for_charts\": \"Exact match\", \"sql_condition\": \"syn_g0_surname_l = syn_g0_surname_r\", \"log2_bayes_factor\": 10.021675973841743, \"bayes_factor\": 1039.5013913256116, \"comparison_vector_value\": 2, \"m_probability\": 0.941566265060241, \"u_probability\": 0.0009057864404197861, \"bayes_factor_description\": \"If comparison level is `exact match` then comparison is 1,039.50 times more likely to be a match\", \"value_l\": \"singh\", \"value_r\": \"singh\", \"term_frequency_adjustment\": false, \"bar_sort_order\": 5, \"record_number\": 3}, {\"column_name\": \"tf_syn_g0_surname\", \"label_for_charts\": \"Term freq adjustment on syn_g0_surname with weight {cl.tf_adjustment_weight}\", \"sql_condition\": \"syn_g0_surname_l = syn_g0_surname_r\", \"log2_bayes_factor\": -0.14275715241427933, \"bayes_factor\": 0.9057864404197861, \"comparison_vector_value\": 2, \"m_probability\": null, \"u_probability\": null, \"bayes_factor_description\": \"Term frequency adjustment on syn_g0_surname makes comparison  1.10 times less likely to be a match\", \"value_l\": \"singh\", \"value_r\": \"singh\", \"term_frequency_adjustment\": true, \"bar_sort_order\": 6, \"record_number\": 3}, {\"column_name\": \"g1_dob_arc1\", \"label_for_charts\": \"Exact match\", \"sql_condition\": \"\\\"g1_dob_arc1_l\\\" = \\\"g1_dob_arc1_r\\\"\", \"log2_bayes_factor\": 9.190187591492597, \"bayes_factor\": 584.1469733496527, \"comparison_vector_value\": 1, \"m_probability\": 0.9949551991566901, \"u_probability\": 0.001703261755258877, \"bayes_factor_description\": \"If comparison level is `exact match` then comparison is 584.15 times more likely to be a match\", \"value_l\": \"1991-10-22\", \"value_r\": \"1991-10-22\", \"term_frequency_adjustment\": false, \"bar_sort_order\": 7, \"record_number\": 3}, {\"column_name\": \"g1_gender_arc\", \"label_for_charts\": \"Exact match\", \"sql_condition\": \"\\\"g1_gender_arc_l\\\" = \\\"g1_gender_arc_r\\\"\", \"log2_bayes_factor\": 0.9994258748202448, \"bayes_factor\": 1.9992042518465118, \"comparison_vector_value\": 1, \"m_probability\": 1.0, \"u_probability\": 0.5001990162217675, \"bayes_factor_description\": \"If comparison level is `exact match` then comparison is 2.00 times more likely to be a match\", \"value_l\": \"Female\", \"value_r\": \"Female\", \"term_frequency_adjustment\": false, \"bar_sort_order\": 8, \"record_number\": 3}, {\"column_name\": \"Final score\", \"label_for_charts\": \"Final score\", \"sql_condition\": null, \"log2_bayes_factor\": 24.827554784293667, \"bayes_factor\": 29774104.55192986, \"comparison_vector_value\": null, \"m_probability\": null, \"u_probability\": null, \"bayes_factor_description\": null, \"value_l\": \"\", \"value_r\": \"\", \"term_frequency_adjustment\": null, \"bar_sort_order\": 9, \"record_number\": 3}, {\"column_name\": \"Prior\", \"label_for_charts\": \"Starting match weight (prior)\", \"sql_condition\": null, \"log2_bayes_factor\": -13.696967526234287, \"bayes_factor\": 7.53012048192771e-05, \"comparison_vector_value\": null, \"m_probability\": null, \"u_probability\": null, \"bayes_factor_description\": null, \"value_l\": \"\", \"value_r\": \"\", \"term_frequency_adjustment\": null, \"bar_sort_order\": 0, \"record_number\": 4}, {\"column_name\": \"syn_g1_firstname\", \"label_for_charts\": \"Exact match\", \"sql_condition\": \"syn_g1_firstname_l = syn_g1_firstname_r\", \"log2_bayes_factor\": 7.572144783812948, \"bayes_factor\": 190.30171906179348, \"comparison_vector_value\": 2, \"m_probability\": 0.76077749205869, \"u_probability\": 0.003997743666265335, \"bayes_factor_description\": \"If comparison level is `exact match` then comparison is 190.30 times more likely to be a match\", \"value_l\": \"Humaira\", \"value_r\": \"Humaira\", \"term_frequency_adjustment\": false, \"bar_sort_order\": 1, \"record_number\": 4}, {\"column_name\": \"tf_syn_g1_firstname\", \"label_for_charts\": \"Term freq adjustment on syn_g1_firstname with weight {cl.tf_adjustment_weight}\", \"sql_condition\": \"syn_g1_firstname_l = syn_g1_firstname_r\", \"log2_bayes_factor\": 1.999185970015597, \"bayes_factor\": 3.997743666265335, \"comparison_vector_value\": 2, \"m_probability\": null, \"u_probability\": null, \"bayes_factor_description\": \"Term frequency adjustment on syn_g1_firstname makes comparison 4.00 times more likely to be a match\", \"value_l\": \"Humaira\", \"value_r\": \"Humaira\", \"term_frequency_adjustment\": true, \"bar_sort_order\": 2, \"record_number\": 4}, {\"column_name\": \"syn_g1_surname\", \"label_for_charts\": \"Exact match\", \"sql_condition\": \"syn_g1_surname_l = syn_g1_surname_r\", \"log2_bayes_factor\": 9.879381723092342, \"bayes_factor\": 941.868423527847, \"comparison_vector_value\": 2, \"m_probability\": 0.9294480837286349, \"u_probability\": 0.0009868130839839702, \"bayes_factor_description\": \"If comparison level is `exact match` then comparison is 941.87 times more likely to be a match\", \"value_l\": \"tailor\", \"value_r\": \"tailor\", \"term_frequency_adjustment\": false, \"bar_sort_order\": 3, \"record_number\": 4}, {\"column_name\": \"tf_syn_g1_surname\", \"label_for_charts\": \"Term freq adjustment on syn_g1_surname with weight {cl.tf_adjustment_weight}\", \"sql_condition\": \"syn_g1_surname_l = syn_g1_surname_r\", \"log2_bayes_factor\": -0.01915125067854182, \"bayes_factor\": 0.9868130839839702, \"comparison_vector_value\": 2, \"m_probability\": null, \"u_probability\": null, \"bayes_factor_description\": \"Term frequency adjustment on syn_g1_surname makes comparison  1.01 times less likely to be a match\", \"value_l\": \"tailor\", \"value_r\": \"tailor\", \"term_frequency_adjustment\": true, \"bar_sort_order\": 4, \"record_number\": 4}, {\"column_name\": \"syn_g0_surname\", \"label_for_charts\": \"Exact match\", \"sql_condition\": \"syn_g0_surname_l = syn_g0_surname_r\", \"log2_bayes_factor\": 10.021675973841743, \"bayes_factor\": 1039.5013913256116, \"comparison_vector_value\": 2, \"m_probability\": 0.941566265060241, \"u_probability\": 0.0009057864404197861, \"bayes_factor_description\": \"If comparison level is `exact match` then comparison is 1,039.50 times more likely to be a match\", \"value_l\": \"tailor\", \"value_r\": \"tailor\", \"term_frequency_adjustment\": false, \"bar_sort_order\": 5, \"record_number\": 4}, {\"column_name\": \"tf_syn_g0_surname\", \"label_for_charts\": \"Term freq adjustment on syn_g0_surname with weight {cl.tf_adjustment_weight}\", \"sql_condition\": \"syn_g0_surname_l = syn_g0_surname_r\", \"log2_bayes_factor\": -0.14275715241427933, \"bayes_factor\": 0.9057864404197861, \"comparison_vector_value\": 2, \"m_probability\": null, \"u_probability\": null, \"bayes_factor_description\": \"Term frequency adjustment on syn_g0_surname makes comparison  1.10 times less likely to be a match\", \"value_l\": \"tailor\", \"value_r\": \"tailor\", \"term_frequency_adjustment\": true, \"bar_sort_order\": 6, \"record_number\": 4}, {\"column_name\": \"g1_dob_arc1\", \"label_for_charts\": \"Exact match\", \"sql_condition\": \"\\\"g1_dob_arc1_l\\\" = \\\"g1_dob_arc1_r\\\"\", \"log2_bayes_factor\": 9.190187591492597, \"bayes_factor\": 584.1469733496527, \"comparison_vector_value\": 1, \"m_probability\": 0.9949551991566901, \"u_probability\": 0.001703261755258877, \"bayes_factor_description\": \"If comparison level is `exact match` then comparison is 584.15 times more likely to be a match\", \"value_l\": \"1991-12-17\", \"value_r\": \"1991-12-17\", \"term_frequency_adjustment\": false, \"bar_sort_order\": 7, \"record_number\": 4}, {\"column_name\": \"g1_gender_arc\", \"label_for_charts\": \"Exact match\", \"sql_condition\": \"\\\"g1_gender_arc_l\\\" = \\\"g1_gender_arc_r\\\"\", \"log2_bayes_factor\": 0.9994258748202448, \"bayes_factor\": 1.9992042518465118, \"comparison_vector_value\": 1, \"m_probability\": 1.0, \"u_probability\": 0.5001990162217675, \"bayes_factor_description\": \"If comparison level is `exact match` then comparison is 2.00 times more likely to be a match\", \"value_l\": \"Female\", \"value_r\": \"Female\", \"term_frequency_adjustment\": false, \"bar_sort_order\": 8, \"record_number\": 4}, {\"column_name\": \"Final score\", \"label_for_charts\": \"Final score\", \"sql_condition\": null, \"log2_bayes_factor\": 25.803125987748363, \"bayes_factor\": 58548382.87325486, \"comparison_vector_value\": null, \"m_probability\": null, \"u_probability\": null, \"bayes_factor_description\": null, \"value_l\": \"\", \"value_r\": \"\", \"term_frequency_adjustment\": null, \"bar_sort_order\": 9, \"record_number\": 4}, {\"column_name\": \"Prior\", \"label_for_charts\": \"Starting match weight (prior)\", \"sql_condition\": null, \"log2_bayes_factor\": -13.696967526234287, \"bayes_factor\": 7.53012048192771e-05, \"comparison_vector_value\": null, \"m_probability\": null, \"u_probability\": null, \"bayes_factor_description\": null, \"value_l\": \"\", \"value_r\": \"\", \"term_frequency_adjustment\": null, \"bar_sort_order\": 0, \"record_number\": 5}, {\"column_name\": \"syn_g1_firstname\", \"label_for_charts\": \"Exact match\", \"sql_condition\": \"syn_g1_firstname_l = syn_g1_firstname_r\", \"log2_bayes_factor\": 7.572144783812948, \"bayes_factor\": 190.30171906179348, \"comparison_vector_value\": 2, \"m_probability\": 0.76077749205869, \"u_probability\": 0.003997743666265335, \"bayes_factor_description\": \"If comparison level is `exact match` then comparison is 190.30 times more likely to be a match\", \"value_l\": \"Yasmin\", \"value_r\": \"Yasmin\", \"term_frequency_adjustment\": false, \"bar_sort_order\": 1, \"record_number\": 5}, {\"column_name\": \"tf_syn_g1_firstname\", \"label_for_charts\": \"Term freq adjustment on syn_g1_firstname with weight {cl.tf_adjustment_weight}\", \"sql_condition\": \"syn_g1_firstname_l = syn_g1_firstname_r\", \"log2_bayes_factor\": 1.999185970015597, \"bayes_factor\": 3.997743666265335, \"comparison_vector_value\": 2, \"m_probability\": null, \"u_probability\": null, \"bayes_factor_description\": \"Term frequency adjustment on syn_g1_firstname makes comparison 4.00 times more likely to be a match\", \"value_l\": \"Yasmin\", \"value_r\": \"Yasmin\", \"term_frequency_adjustment\": true, \"bar_sort_order\": 2, \"record_number\": 5}, {\"column_name\": \"syn_g1_surname\", \"label_for_charts\": \"Exact match\", \"sql_condition\": \"syn_g1_surname_l = syn_g1_surname_r\", \"log2_bayes_factor\": 9.879381723092342, \"bayes_factor\": 941.868423527847, \"comparison_vector_value\": 2, \"m_probability\": 0.9294480837286349, \"u_probability\": 0.0009868130839839702, \"bayes_factor_description\": \"If comparison level is `exact match` then comparison is 941.87 times more likely to be a match\", \"value_l\": \"gibson\", \"value_r\": \"gibson\", \"term_frequency_adjustment\": false, \"bar_sort_order\": 3, \"record_number\": 5}, {\"column_name\": \"tf_syn_g1_surname\", \"label_for_charts\": \"Term freq adjustment on syn_g1_surname with weight {cl.tf_adjustment_weight}\", \"sql_condition\": \"syn_g1_surname_l = syn_g1_surname_r\", \"log2_bayes_factor\": -0.01915125067854182, \"bayes_factor\": 0.9868130839839702, \"comparison_vector_value\": 2, \"m_probability\": null, \"u_probability\": null, \"bayes_factor_description\": \"Term frequency adjustment on syn_g1_surname makes comparison  1.01 times less likely to be a match\", \"value_l\": \"gibson\", \"value_r\": \"gibson\", \"term_frequency_adjustment\": true, \"bar_sort_order\": 4, \"record_number\": 5}, {\"column_name\": \"syn_g0_surname\", \"label_for_charts\": \"Exact match\", \"sql_condition\": \"syn_g0_surname_l = syn_g0_surname_r\", \"log2_bayes_factor\": 10.021675973841743, \"bayes_factor\": 1039.5013913256116, \"comparison_vector_value\": 2, \"m_probability\": 0.941566265060241, \"u_probability\": 0.0009057864404197861, \"bayes_factor_description\": \"If comparison level is `exact match` then comparison is 1,039.50 times more likely to be a match\", \"value_l\": \"gibson\", \"value_r\": \"gibson\", \"term_frequency_adjustment\": false, \"bar_sort_order\": 5, \"record_number\": 5}, {\"column_name\": \"tf_syn_g0_surname\", \"label_for_charts\": \"Term freq adjustment on syn_g0_surname with weight {cl.tf_adjustment_weight}\", \"sql_condition\": \"syn_g0_surname_l = syn_g0_surname_r\", \"log2_bayes_factor\": -0.8709512121645273, \"bayes_factor\": 0.5467862191815894, \"comparison_vector_value\": 2, \"m_probability\": null, \"u_probability\": null, \"bayes_factor_description\": \"Term frequency adjustment on syn_g0_surname makes comparison  1.83 times less likely to be a match\", \"value_l\": \"gibson\", \"value_r\": \"gibson\", \"term_frequency_adjustment\": true, \"bar_sort_order\": 6, \"record_number\": 5}, {\"column_name\": \"g1_dob_arc1\", \"label_for_charts\": \"Exact match\", \"sql_condition\": \"\\\"g1_dob_arc1_l\\\" = \\\"g1_dob_arc1_r\\\"\", \"log2_bayes_factor\": 9.190187591492597, \"bayes_factor\": 584.1469733496527, \"comparison_vector_value\": 1, \"m_probability\": 0.9949551991566901, \"u_probability\": 0.001703261755258877, \"bayes_factor_description\": \"If comparison level is `exact match` then comparison is 584.15 times more likely to be a match\", \"value_l\": \"1991-12-07\", \"value_r\": \"1991-12-07\", \"term_frequency_adjustment\": false, \"bar_sort_order\": 7, \"record_number\": 5}, {\"column_name\": \"g1_gender_arc\", \"label_for_charts\": \"Exact match\", \"sql_condition\": \"\\\"g1_gender_arc_l\\\" = \\\"g1_gender_arc_r\\\"\", \"log2_bayes_factor\": 0.9994258748202448, \"bayes_factor\": 1.9992042518465118, \"comparison_vector_value\": 1, \"m_probability\": 1.0, \"u_probability\": 0.5001990162217675, \"bayes_factor_description\": \"If comparison level is `exact match` then comparison is 2.00 times more likely to be a match\", \"value_l\": \"Female\", \"value_r\": \"Female\", \"term_frequency_adjustment\": false, \"bar_sort_order\": 8, \"record_number\": 5}, {\"column_name\": \"Final score\", \"label_for_charts\": \"Final score\", \"sql_condition\": null, \"log2_bayes_factor\": 25.074931927998115, \"bayes_factor\": 35343263.57946642, \"comparison_vector_value\": null, \"m_probability\": null, \"u_probability\": null, \"bayes_factor_description\": null, \"value_l\": \"\", \"value_r\": \"\", \"term_frequency_adjustment\": null, \"bar_sort_order\": 9, \"record_number\": 5}, {\"column_name\": \"Prior\", \"label_for_charts\": \"Starting match weight (prior)\", \"sql_condition\": null, \"log2_bayes_factor\": -13.696967526234287, \"bayes_factor\": 7.53012048192771e-05, \"comparison_vector_value\": null, \"m_probability\": null, \"u_probability\": null, \"bayes_factor_description\": null, \"value_l\": \"\", \"value_r\": \"\", \"term_frequency_adjustment\": null, \"bar_sort_order\": 0, \"record_number\": 6}, {\"column_name\": \"syn_g1_firstname\", \"label_for_charts\": \"Exact match\", \"sql_condition\": \"syn_g1_firstname_l = syn_g1_firstname_r\", \"log2_bayes_factor\": 7.572144783812948, \"bayes_factor\": 190.30171906179348, \"comparison_vector_value\": 2, \"m_probability\": 0.76077749205869, \"u_probability\": 0.003997743666265335, \"bayes_factor_description\": \"If comparison level is `exact match` then comparison is 190.30 times more likely to be a match\", \"value_l\": \"Hafsah\", \"value_r\": \"Hafsah\", \"term_frequency_adjustment\": false, \"bar_sort_order\": 1, \"record_number\": 6}, {\"column_name\": \"tf_syn_g1_firstname\", \"label_for_charts\": \"Term freq adjustment on syn_g1_firstname with weight {cl.tf_adjustment_weight}\", \"sql_condition\": \"syn_g1_firstname_l = syn_g1_firstname_r\", \"log2_bayes_factor\": 1.999185970015597, \"bayes_factor\": 3.997743666265335, \"comparison_vector_value\": 2, \"m_probability\": null, \"u_probability\": null, \"bayes_factor_description\": \"Term frequency adjustment on syn_g1_firstname makes comparison 4.00 times more likely to be a match\", \"value_l\": \"Hafsah\", \"value_r\": \"Hafsah\", \"term_frequency_adjustment\": true, \"bar_sort_order\": 2, \"record_number\": 6}, {\"column_name\": \"syn_g1_surname\", \"label_for_charts\": \"Exact match\", \"sql_condition\": \"syn_g1_surname_l = syn_g1_surname_r\", \"log2_bayes_factor\": 9.879381723092342, \"bayes_factor\": 941.868423527847, \"comparison_vector_value\": 2, \"m_probability\": 0.9294480837286349, \"u_probability\": 0.0009868130839839702, \"bayes_factor_description\": \"If comparison level is `exact match` then comparison is 941.87 times more likely to be a match\", \"value_l\": \"wong\", \"value_r\": \"wong\", \"term_frequency_adjustment\": false, \"bar_sort_order\": 3, \"record_number\": 6}, {\"column_name\": \"tf_syn_g1_surname\", \"label_for_charts\": \"Term freq adjustment on syn_g1_surname with weight {cl.tf_adjustment_weight}\", \"sql_condition\": \"syn_g1_surname_l = syn_g1_surname_r\", \"log2_bayes_factor\": -0.01915125067854182, \"bayes_factor\": 0.9868130839839702, \"comparison_vector_value\": 2, \"m_probability\": null, \"u_probability\": null, \"bayes_factor_description\": \"Term frequency adjustment on syn_g1_surname makes comparison  1.01 times less likely to be a match\", \"value_l\": \"wong\", \"value_r\": \"wong\", \"term_frequency_adjustment\": true, \"bar_sort_order\": 4, \"record_number\": 6}, {\"column_name\": \"syn_g0_surname\", \"label_for_charts\": \"Exact match\", \"sql_condition\": \"syn_g0_surname_l = syn_g0_surname_r\", \"log2_bayes_factor\": 10.021675973841743, \"bayes_factor\": 1039.5013913256116, \"comparison_vector_value\": 2, \"m_probability\": 0.941566265060241, \"u_probability\": 0.0009057864404197861, \"bayes_factor_description\": \"If comparison level is `exact match` then comparison is 1,039.50 times more likely to be a match\", \"value_l\": \"wong\", \"value_r\": \"wong\", \"term_frequency_adjustment\": false, \"bar_sort_order\": 5, \"record_number\": 6}, {\"column_name\": \"tf_syn_g0_surname\", \"label_for_charts\": \"Term freq adjustment on syn_g0_surname with weight {cl.tf_adjustment_weight}\", \"sql_condition\": \"syn_g0_surname_l = syn_g0_surname_r\", \"log2_bayes_factor\": -0.14275715241427933, \"bayes_factor\": 0.9057864404197861, \"comparison_vector_value\": 2, \"m_probability\": null, \"u_probability\": null, \"bayes_factor_description\": \"Term frequency adjustment on syn_g0_surname makes comparison  1.10 times less likely to be a match\", \"value_l\": \"wong\", \"value_r\": \"wong\", \"term_frequency_adjustment\": true, \"bar_sort_order\": 6, \"record_number\": 6}, {\"column_name\": \"g1_dob_arc1\", \"label_for_charts\": \"Exact match\", \"sql_condition\": \"\\\"g1_dob_arc1_l\\\" = \\\"g1_dob_arc1_r\\\"\", \"log2_bayes_factor\": 9.190187591492597, \"bayes_factor\": 584.1469733496527, \"comparison_vector_value\": 1, \"m_probability\": 0.9949551991566901, \"u_probability\": 0.001703261755258877, \"bayes_factor_description\": \"If comparison level is `exact match` then comparison is 584.15 times more likely to be a match\", \"value_l\": \"1992-08-18\", \"value_r\": \"1992-08-18\", \"term_frequency_adjustment\": false, \"bar_sort_order\": 7, \"record_number\": 6}, {\"column_name\": \"g1_gender_arc\", \"label_for_charts\": \"Exact match\", \"sql_condition\": \"\\\"g1_gender_arc_l\\\" = \\\"g1_gender_arc_r\\\"\", \"log2_bayes_factor\": 0.9994258748202448, \"bayes_factor\": 1.9992042518465118, \"comparison_vector_value\": 1, \"m_probability\": 1.0, \"u_probability\": 0.5001990162217675, \"bayes_factor_description\": \"If comparison level is `exact match` then comparison is 2.00 times more likely to be a match\", \"value_l\": \"Female\", \"value_r\": \"Female\", \"term_frequency_adjustment\": false, \"bar_sort_order\": 8, \"record_number\": 6}, {\"column_name\": \"Final score\", \"label_for_charts\": \"Final score\", \"sql_condition\": null, \"log2_bayes_factor\": 25.803125987748363, \"bayes_factor\": 58548382.87325486, \"comparison_vector_value\": null, \"m_probability\": null, \"u_probability\": null, \"bayes_factor_description\": null, \"value_l\": \"\", \"value_r\": \"\", \"term_frequency_adjustment\": null, \"bar_sort_order\": 9, \"record_number\": 6}, {\"column_name\": \"Prior\", \"label_for_charts\": \"Starting match weight (prior)\", \"sql_condition\": null, \"log2_bayes_factor\": -13.696967526234287, \"bayes_factor\": 7.53012048192771e-05, \"comparison_vector_value\": null, \"m_probability\": null, \"u_probability\": null, \"bayes_factor_description\": null, \"value_l\": \"\", \"value_r\": \"\", \"term_frequency_adjustment\": null, \"bar_sort_order\": 0, \"record_number\": 7}, {\"column_name\": \"syn_g1_firstname\", \"label_for_charts\": \"Exact match\", \"sql_condition\": \"syn_g1_firstname_l = syn_g1_firstname_r\", \"log2_bayes_factor\": 7.572144783812948, \"bayes_factor\": 190.30171906179348, \"comparison_vector_value\": 2, \"m_probability\": 0.76077749205869, \"u_probability\": 0.003997743666265335, \"bayes_factor_description\": \"If comparison level is `exact match` then comparison is 190.30 times more likely to be a match\", \"value_l\": \"Sumaya\", \"value_r\": \"Sumaya\", \"term_frequency_adjustment\": false, \"bar_sort_order\": 1, \"record_number\": 7}, {\"column_name\": \"tf_syn_g1_firstname\", \"label_for_charts\": \"Term freq adjustment on syn_g1_firstname with weight {cl.tf_adjustment_weight}\", \"sql_condition\": \"syn_g1_firstname_l = syn_g1_firstname_r\", \"log2_bayes_factor\": 1.999185970015597, \"bayes_factor\": 3.997743666265335, \"comparison_vector_value\": 2, \"m_probability\": null, \"u_probability\": null, \"bayes_factor_description\": \"Term frequency adjustment on syn_g1_firstname makes comparison 4.00 times more likely to be a match\", \"value_l\": \"Sumaya\", \"value_r\": \"Sumaya\", \"term_frequency_adjustment\": true, \"bar_sort_order\": 2, \"record_number\": 7}, {\"column_name\": \"syn_g1_surname\", \"label_for_charts\": \"Exact match\", \"sql_condition\": \"syn_g1_surname_l = syn_g1_surname_r\", \"log2_bayes_factor\": 9.879381723092342, \"bayes_factor\": 941.868423527847, \"comparison_vector_value\": 2, \"m_probability\": 0.9294480837286349, \"u_probability\": 0.0009868130839839702, \"bayes_factor_description\": \"If comparison level is `exact match` then comparison is 941.87 times more likely to be a match\", \"value_l\": \"gibson\", \"value_r\": \"gibson\", \"term_frequency_adjustment\": false, \"bar_sort_order\": 3, \"record_number\": 7}, {\"column_name\": \"tf_syn_g1_surname\", \"label_for_charts\": \"Term freq adjustment on syn_g1_surname with weight {cl.tf_adjustment_weight}\", \"sql_condition\": \"syn_g1_surname_l = syn_g1_surname_r\", \"log2_bayes_factor\": -0.01915125067854182, \"bayes_factor\": 0.9868130839839702, \"comparison_vector_value\": 2, \"m_probability\": null, \"u_probability\": null, \"bayes_factor_description\": \"Term frequency adjustment on syn_g1_surname makes comparison  1.01 times less likely to be a match\", \"value_l\": \"gibson\", \"value_r\": \"gibson\", \"term_frequency_adjustment\": true, \"bar_sort_order\": 4, \"record_number\": 7}, {\"column_name\": \"syn_g0_surname\", \"label_for_charts\": \"Exact match\", \"sql_condition\": \"syn_g0_surname_l = syn_g0_surname_r\", \"log2_bayes_factor\": 10.021675973841743, \"bayes_factor\": 1039.5013913256116, \"comparison_vector_value\": 2, \"m_probability\": 0.941566265060241, \"u_probability\": 0.0009057864404197861, \"bayes_factor_description\": \"If comparison level is `exact match` then comparison is 1,039.50 times more likely to be a match\", \"value_l\": \"gibson\", \"value_r\": \"gibson\", \"term_frequency_adjustment\": false, \"bar_sort_order\": 5, \"record_number\": 7}, {\"column_name\": \"tf_syn_g0_surname\", \"label_for_charts\": \"Term freq adjustment on syn_g0_surname with weight {cl.tf_adjustment_weight}\", \"sql_condition\": \"syn_g0_surname_l = syn_g0_surname_r\", \"log2_bayes_factor\": -0.8709512121645273, \"bayes_factor\": 0.5467862191815894, \"comparison_vector_value\": 2, \"m_probability\": null, \"u_probability\": null, \"bayes_factor_description\": \"Term frequency adjustment on syn_g0_surname makes comparison  1.83 times less likely to be a match\", \"value_l\": \"gibson\", \"value_r\": \"gibson\", \"term_frequency_adjustment\": true, \"bar_sort_order\": 6, \"record_number\": 7}, {\"column_name\": \"g1_dob_arc1\", \"label_for_charts\": \"Exact match\", \"sql_condition\": \"\\\"g1_dob_arc1_l\\\" = \\\"g1_dob_arc1_r\\\"\", \"log2_bayes_factor\": 9.190187591492597, \"bayes_factor\": 584.1469733496527, \"comparison_vector_value\": 1, \"m_probability\": 0.9949551991566901, \"u_probability\": 0.001703261755258877, \"bayes_factor_description\": \"If comparison level is `exact match` then comparison is 584.15 times more likely to be a match\", \"value_l\": \"1991-12-08\", \"value_r\": \"1991-12-08\", \"term_frequency_adjustment\": false, \"bar_sort_order\": 7, \"record_number\": 7}, {\"column_name\": \"g1_gender_arc\", \"label_for_charts\": \"Exact match\", \"sql_condition\": \"\\\"g1_gender_arc_l\\\" = \\\"g1_gender_arc_r\\\"\", \"log2_bayes_factor\": 0.9994258748202448, \"bayes_factor\": 1.9992042518465118, \"comparison_vector_value\": 1, \"m_probability\": 1.0, \"u_probability\": 0.5001990162217675, \"bayes_factor_description\": \"If comparison level is `exact match` then comparison is 2.00 times more likely to be a match\", \"value_l\": \"Female\", \"value_r\": \"Female\", \"term_frequency_adjustment\": false, \"bar_sort_order\": 8, \"record_number\": 7}, {\"column_name\": \"Final score\", \"label_for_charts\": \"Final score\", \"sql_condition\": null, \"log2_bayes_factor\": 25.074931927998115, \"bayes_factor\": 35343263.57946642, \"comparison_vector_value\": null, \"m_probability\": null, \"u_probability\": null, \"bayes_factor_description\": null, \"value_l\": \"\", \"value_r\": \"\", \"term_frequency_adjustment\": null, \"bar_sort_order\": 9, \"record_number\": 7}, {\"column_name\": \"Prior\", \"label_for_charts\": \"Starting match weight (prior)\", \"sql_condition\": null, \"log2_bayes_factor\": -13.696967526234287, \"bayes_factor\": 7.53012048192771e-05, \"comparison_vector_value\": null, \"m_probability\": null, \"u_probability\": null, \"bayes_factor_description\": null, \"value_l\": \"\", \"value_r\": \"\", \"term_frequency_adjustment\": null, \"bar_sort_order\": 0, \"record_number\": 8}, {\"column_name\": \"syn_g1_firstname\", \"label_for_charts\": \"Exact match\", \"sql_condition\": \"syn_g1_firstname_l = syn_g1_firstname_r\", \"log2_bayes_factor\": 7.572144783812948, \"bayes_factor\": 190.30171906179348, \"comparison_vector_value\": 2, \"m_probability\": 0.76077749205869, \"u_probability\": 0.003997743666265335, \"bayes_factor_description\": \"If comparison level is `exact match` then comparison is 190.30 times more likely to be a match\", \"value_l\": \"Alishba\", \"value_r\": \"Alishba\", \"term_frequency_adjustment\": false, \"bar_sort_order\": 1, \"record_number\": 8}, {\"column_name\": \"tf_syn_g1_firstname\", \"label_for_charts\": \"Term freq adjustment on syn_g1_firstname with weight {cl.tf_adjustment_weight}\", \"sql_condition\": \"syn_g1_firstname_l = syn_g1_firstname_r\", \"log2_bayes_factor\": 1.999185970015597, \"bayes_factor\": 3.997743666265335, \"comparison_vector_value\": 2, \"m_probability\": null, \"u_probability\": null, \"bayes_factor_description\": \"Term frequency adjustment on syn_g1_firstname makes comparison 4.00 times more likely to be a match\", \"value_l\": \"Alishba\", \"value_r\": \"Alishba\", \"term_frequency_adjustment\": true, \"bar_sort_order\": 2, \"record_number\": 8}, {\"column_name\": \"syn_g1_surname\", \"label_for_charts\": \"Exact match\", \"sql_condition\": \"syn_g1_surname_l = syn_g1_surname_r\", \"log2_bayes_factor\": 9.879381723092342, \"bayes_factor\": 941.868423527847, \"comparison_vector_value\": 2, \"m_probability\": 0.9294480837286349, \"u_probability\": 0.0009868130839839702, \"bayes_factor_description\": \"If comparison level is `exact match` then comparison is 941.87 times more likely to be a match\", \"value_l\": \"gibson\", \"value_r\": \"gibson\", \"term_frequency_adjustment\": false, \"bar_sort_order\": 3, \"record_number\": 8}, {\"column_name\": \"tf_syn_g1_surname\", \"label_for_charts\": \"Term freq adjustment on syn_g1_surname with weight {cl.tf_adjustment_weight}\", \"sql_condition\": \"syn_g1_surname_l = syn_g1_surname_r\", \"log2_bayes_factor\": -0.01915125067854182, \"bayes_factor\": 0.9868130839839702, \"comparison_vector_value\": 2, \"m_probability\": null, \"u_probability\": null, \"bayes_factor_description\": \"Term frequency adjustment on syn_g1_surname makes comparison  1.01 times less likely to be a match\", \"value_l\": \"gibson\", \"value_r\": \"gibson\", \"term_frequency_adjustment\": true, \"bar_sort_order\": 4, \"record_number\": 8}, {\"column_name\": \"syn_g0_surname\", \"label_for_charts\": \"Exact match\", \"sql_condition\": \"syn_g0_surname_l = syn_g0_surname_r\", \"log2_bayes_factor\": 10.021675973841743, \"bayes_factor\": 1039.5013913256116, \"comparison_vector_value\": 2, \"m_probability\": 0.941566265060241, \"u_probability\": 0.0009057864404197861, \"bayes_factor_description\": \"If comparison level is `exact match` then comparison is 1,039.50 times more likely to be a match\", \"value_l\": \"gibson\", \"value_r\": \"gibson\", \"term_frequency_adjustment\": false, \"bar_sort_order\": 5, \"record_number\": 8}, {\"column_name\": \"tf_syn_g0_surname\", \"label_for_charts\": \"Term freq adjustment on syn_g0_surname with weight {cl.tf_adjustment_weight}\", \"sql_condition\": \"syn_g0_surname_l = syn_g0_surname_r\", \"log2_bayes_factor\": -0.8709512121645273, \"bayes_factor\": 0.5467862191815894, \"comparison_vector_value\": 2, \"m_probability\": null, \"u_probability\": null, \"bayes_factor_description\": \"Term frequency adjustment on syn_g0_surname makes comparison  1.83 times less likely to be a match\", \"value_l\": \"gibson\", \"value_r\": \"gibson\", \"term_frequency_adjustment\": true, \"bar_sort_order\": 6, \"record_number\": 8}, {\"column_name\": \"g1_dob_arc1\", \"label_for_charts\": \"Exact match\", \"sql_condition\": \"\\\"g1_dob_arc1_l\\\" = \\\"g1_dob_arc1_r\\\"\", \"log2_bayes_factor\": 9.190187591492597, \"bayes_factor\": 584.1469733496527, \"comparison_vector_value\": 1, \"m_probability\": 0.9949551991566901, \"u_probability\": 0.001703261755258877, \"bayes_factor_description\": \"If comparison level is `exact match` then comparison is 584.15 times more likely to be a match\", \"value_l\": \"1991-09-05\", \"value_r\": \"1991-09-05\", \"term_frequency_adjustment\": false, \"bar_sort_order\": 7, \"record_number\": 8}, {\"column_name\": \"g1_gender_arc\", \"label_for_charts\": \"Exact match\", \"sql_condition\": \"\\\"g1_gender_arc_l\\\" = \\\"g1_gender_arc_r\\\"\", \"log2_bayes_factor\": 0.9994258748202448, \"bayes_factor\": 1.9992042518465118, \"comparison_vector_value\": 1, \"m_probability\": 1.0, \"u_probability\": 0.5001990162217675, \"bayes_factor_description\": \"If comparison level is `exact match` then comparison is 2.00 times more likely to be a match\", \"value_l\": \"Female\", \"value_r\": \"Female\", \"term_frequency_adjustment\": false, \"bar_sort_order\": 8, \"record_number\": 8}, {\"column_name\": \"Final score\", \"label_for_charts\": \"Final score\", \"sql_condition\": null, \"log2_bayes_factor\": 25.074931927998115, \"bayes_factor\": 35343263.57946642, \"comparison_vector_value\": null, \"m_probability\": null, \"u_probability\": null, \"bayes_factor_description\": null, \"value_l\": \"\", \"value_r\": \"\", \"term_frequency_adjustment\": null, \"bar_sort_order\": 9, \"record_number\": 8}, {\"column_name\": \"Prior\", \"label_for_charts\": \"Starting match weight (prior)\", \"sql_condition\": null, \"log2_bayes_factor\": -13.696967526234287, \"bayes_factor\": 7.53012048192771e-05, \"comparison_vector_value\": null, \"m_probability\": null, \"u_probability\": null, \"bayes_factor_description\": null, \"value_l\": \"\", \"value_r\": \"\", \"term_frequency_adjustment\": null, \"bar_sort_order\": 0, \"record_number\": 9}, {\"column_name\": \"syn_g1_firstname\", \"label_for_charts\": \"Exact match\", \"sql_condition\": \"syn_g1_firstname_l = syn_g1_firstname_r\", \"log2_bayes_factor\": 7.572144783812948, \"bayes_factor\": 190.30171906179348, \"comparison_vector_value\": 2, \"m_probability\": 0.76077749205869, \"u_probability\": 0.003997743666265335, \"bayes_factor_description\": \"If comparison level is `exact match` then comparison is 190.30 times more likely to be a match\", \"value_l\": \"Amirah\", \"value_r\": \"Amirah\", \"term_frequency_adjustment\": false, \"bar_sort_order\": 1, \"record_number\": 9}, {\"column_name\": \"tf_syn_g1_firstname\", \"label_for_charts\": \"Term freq adjustment on syn_g1_firstname with weight {cl.tf_adjustment_weight}\", \"sql_condition\": \"syn_g1_firstname_l = syn_g1_firstname_r\", \"log2_bayes_factor\": 1.999185970015597, \"bayes_factor\": 3.997743666265335, \"comparison_vector_value\": 2, \"m_probability\": null, \"u_probability\": null, \"bayes_factor_description\": \"Term frequency adjustment on syn_g1_firstname makes comparison 4.00 times more likely to be a match\", \"value_l\": \"Amirah\", \"value_r\": \"Amirah\", \"term_frequency_adjustment\": true, \"bar_sort_order\": 2, \"record_number\": 9}, {\"column_name\": \"syn_g1_surname\", \"label_for_charts\": \"Exact match\", \"sql_condition\": \"syn_g1_surname_l = syn_g1_surname_r\", \"log2_bayes_factor\": 9.879381723092342, \"bayes_factor\": 941.868423527847, \"comparison_vector_value\": 2, \"m_probability\": 0.9294480837286349, \"u_probability\": 0.0009868130839839702, \"bayes_factor_description\": \"If comparison level is `exact match` then comparison is 941.87 times more likely to be a match\", \"value_l\": \"gibson\", \"value_r\": \"gibson\", \"term_frequency_adjustment\": false, \"bar_sort_order\": 3, \"record_number\": 9}, {\"column_name\": \"tf_syn_g1_surname\", \"label_for_charts\": \"Term freq adjustment on syn_g1_surname with weight {cl.tf_adjustment_weight}\", \"sql_condition\": \"syn_g1_surname_l = syn_g1_surname_r\", \"log2_bayes_factor\": -0.01915125067854182, \"bayes_factor\": 0.9868130839839702, \"comparison_vector_value\": 2, \"m_probability\": null, \"u_probability\": null, \"bayes_factor_description\": \"Term frequency adjustment on syn_g1_surname makes comparison  1.01 times less likely to be a match\", \"value_l\": \"gibson\", \"value_r\": \"gibson\", \"term_frequency_adjustment\": true, \"bar_sort_order\": 4, \"record_number\": 9}, {\"column_name\": \"syn_g0_surname\", \"label_for_charts\": \"Exact match\", \"sql_condition\": \"syn_g0_surname_l = syn_g0_surname_r\", \"log2_bayes_factor\": 10.021675973841743, \"bayes_factor\": 1039.5013913256116, \"comparison_vector_value\": 2, \"m_probability\": 0.941566265060241, \"u_probability\": 0.0009057864404197861, \"bayes_factor_description\": \"If comparison level is `exact match` then comparison is 1,039.50 times more likely to be a match\", \"value_l\": \"gibson\", \"value_r\": \"gibson\", \"term_frequency_adjustment\": false, \"bar_sort_order\": 5, \"record_number\": 9}, {\"column_name\": \"tf_syn_g0_surname\", \"label_for_charts\": \"Term freq adjustment on syn_g0_surname with weight {cl.tf_adjustment_weight}\", \"sql_condition\": \"syn_g0_surname_l = syn_g0_surname_r\", \"log2_bayes_factor\": -0.8709512121645273, \"bayes_factor\": 0.5467862191815894, \"comparison_vector_value\": 2, \"m_probability\": null, \"u_probability\": null, \"bayes_factor_description\": \"Term frequency adjustment on syn_g0_surname makes comparison  1.83 times less likely to be a match\", \"value_l\": \"gibson\", \"value_r\": \"gibson\", \"term_frequency_adjustment\": true, \"bar_sort_order\": 6, \"record_number\": 9}, {\"column_name\": \"g1_dob_arc1\", \"label_for_charts\": \"Exact match\", \"sql_condition\": \"\\\"g1_dob_arc1_l\\\" = \\\"g1_dob_arc1_r\\\"\", \"log2_bayes_factor\": 9.190187591492597, \"bayes_factor\": 584.1469733496527, \"comparison_vector_value\": 1, \"m_probability\": 0.9949551991566901, \"u_probability\": 0.001703261755258877, \"bayes_factor_description\": \"If comparison level is `exact match` then comparison is 584.15 times more likely to be a match\", \"value_l\": \"1991-06-02\", \"value_r\": \"1991-06-02\", \"term_frequency_adjustment\": false, \"bar_sort_order\": 7, \"record_number\": 9}, {\"column_name\": \"g1_gender_arc\", \"label_for_charts\": \"Exact match\", \"sql_condition\": \"\\\"g1_gender_arc_l\\\" = \\\"g1_gender_arc_r\\\"\", \"log2_bayes_factor\": 0.9994258748202448, \"bayes_factor\": 1.9992042518465118, \"comparison_vector_value\": 1, \"m_probability\": 1.0, \"u_probability\": 0.5001990162217675, \"bayes_factor_description\": \"If comparison level is `exact match` then comparison is 2.00 times more likely to be a match\", \"value_l\": \"Female\", \"value_r\": \"Female\", \"term_frequency_adjustment\": false, \"bar_sort_order\": 8, \"record_number\": 9}, {\"column_name\": \"Final score\", \"label_for_charts\": \"Final score\", \"sql_condition\": null, \"log2_bayes_factor\": 25.074931927998115, \"bayes_factor\": 35343263.57946642, \"comparison_vector_value\": null, \"m_probability\": null, \"u_probability\": null, \"bayes_factor_description\": null, \"value_l\": \"\", \"value_r\": \"\", \"term_frequency_adjustment\": null, \"bar_sort_order\": 9, \"record_number\": 9}]}}, {\"mode\": \"vega-lite\"});\n",
       "</script>"
      ],
      "text/plain": [
       "alt.LayerChart(...)"
      ]
     },
     "execution_count": 37,
     "metadata": {},
     "output_type": "execute_result"
    }
   ],
   "source": [
    "df = linker.predict(threshold_match_weight= -0.5)\n",
    "records = df.as_record_dict(limit=10)\n",
    "linker.waterfall_chart(records)\n"
   ]
  },
  {
   "cell_type": "code",
   "execution_count": 36,
   "metadata": {},
   "outputs": [
    {
     "data": {
      "application/vnd.jupyter.widget-view+json": {
       "model_id": "c107d420d74c4459a31093bb1406fe50",
       "version_major": 2,
       "version_minor": 0
      },
      "text/plain": [
       "FloatProgress(value=0.0, layout=Layout(width='auto'), style=ProgressStyle(bar_color='black'))"
      ]
     },
     "metadata": {},
     "output_type": "display_data"
    },
    {
     "name": "stderr",
     "output_type": "stream",
     "text": [
      "\n",
      " -- WARNING --\n",
      "You have called predict(), but there are some parameter estimates which have neither been estimated or specified in your settings dictionary.  To produce predictions the following untrained trained parameters will use default values.\n",
      "Comparison: 'syn_g1_firstname':\n",
      "    m values not fully trained\n"
     ]
    }
   ],
   "source": [
    "results = linker.predict()\n",
    "prob_linkage = results.as_pandas_dataframe()\n",
    "prob_linkage.to_csv(f\"linkage_outputs\\\\scen2\\\\dataset{data_set}\\\\probabilistic_tf_nothreshold.csv\")"
   ]
  },
  {
   "cell_type": "code",
   "execution_count": 16,
   "metadata": {
    "scrolled": true
   },
   "outputs": [
    {
     "data": {
      "application/vnd.jupyter.widget-view+json": {
       "model_id": "a50746a7013a416d80de3fd64b9f8b1d",
       "version_major": 2,
       "version_minor": 0
      },
      "text/plain": [
       "FloatProgress(value=0.0, layout=Layout(width='auto'), style=ProgressStyle(bar_color='black'))"
      ]
     },
     "metadata": {},
     "output_type": "display_data"
    },
    {
     "data": {
      "application/vnd.jupyter.widget-view+json": {
       "model_id": "8c04aff3fd9a4d169d65595bc120e22e",
       "version_major": 2,
       "version_minor": 0
      },
      "text/plain": [
       "FloatProgress(value=0.0, layout=Layout(width='auto'), style=ProgressStyle(bar_color='black'))"
      ]
     },
     "metadata": {},
     "output_type": "display_data"
    },
    {
     "data": {
      "application/vnd.jupyter.widget-view+json": {
       "model_id": "f5bc0aada38e45fca84507f65535a466",
       "version_major": 2,
       "version_minor": 0
      },
      "text/plain": [
       "FloatProgress(value=0.0, layout=Layout(width='auto'), style=ProgressStyle(bar_color='black'))"
      ]
     },
     "metadata": {},
     "output_type": "display_data"
    },
    {
     "data": {
      "application/vnd.jupyter.widget-view+json": {
       "model_id": "01b29deb72fe4a7abc98982f38b75089",
       "version_major": 2,
       "version_minor": 0
      },
      "text/plain": [
       "FloatProgress(value=0.0, layout=Layout(width='auto'), style=ProgressStyle(bar_color='black'))"
      ]
     },
     "metadata": {},
     "output_type": "display_data"
    },
    {
     "data": {
      "application/vnd.jupyter.widget-view+json": {
       "model_id": "1a3ac91d9aa24969abaa843d24519fae",
       "version_major": 2,
       "version_minor": 0
      },
      "text/plain": [
       "FloatProgress(value=0.0, layout=Layout(width='auto'), style=ProgressStyle(bar_color='black'))"
      ]
     },
     "metadata": {},
     "output_type": "display_data"
    },
    {
     "data": {
      "application/vnd.jupyter.widget-view+json": {
       "model_id": "e1a704b64c1c42059c1a310ef9a4455d",
       "version_major": 2,
       "version_minor": 0
      },
      "text/plain": [
       "FloatProgress(value=0.0, layout=Layout(width='auto'), style=ProgressStyle(bar_color='black'))"
      ]
     },
     "metadata": {},
     "output_type": "display_data"
    },
    {
     "data": {
      "application/vnd.jupyter.widget-view+json": {
       "model_id": "21808d93228b4c9aa6101b192628d261",
       "version_major": 2,
       "version_minor": 0
      },
      "text/plain": [
       "FloatProgress(value=0.0, layout=Layout(width='auto'), style=ProgressStyle(bar_color='black'))"
      ]
     },
     "metadata": {},
     "output_type": "display_data"
    },
    {
     "data": {
      "application/vnd.jupyter.widget-view+json": {
       "model_id": "886bc897ca7e4a1eb8cbee9ec34f96e9",
       "version_major": 2,
       "version_minor": 0
      },
      "text/plain": [
       "FloatProgress(value=0.0, layout=Layout(width='auto'), style=ProgressStyle(bar_color='black'))"
      ]
     },
     "metadata": {},
     "output_type": "display_data"
    },
    {
     "data": {
      "application/vnd.jupyter.widget-view+json": {
       "model_id": "7351e122b8d84498b05a3bc572ea65e6",
       "version_major": 2,
       "version_minor": 0
      },
      "text/plain": [
       "FloatProgress(value=0.0, layout=Layout(width='auto'), style=ProgressStyle(bar_color='black'))"
      ]
     },
     "metadata": {},
     "output_type": "display_data"
    }
   ],
   "source": [
    "threshold_values = [-3, -2, -1, -0.5, 1, 2, 4, 5, 6]\n",
    "for v in threshold_values:\n",
    "    results = linker.predict(threshold_match_weight = v)\n",
    "    prob_linkage = results.as_pandas_dataframe()\n",
    "    file_name = f\"linkage_outputs\\\\scen2\\\\dataset{data_set}\\\\tf_{v}.csv\"\n",
    "    prob_linkage.to_csv(file_name)"
   ]
  },
  {
   "cell_type": "code",
   "execution_count": 34,
   "metadata": {},
   "outputs": [
    {
     "data": {
      "application/vnd.jupyter.widget-view+json": {
       "model_id": "7a288bc0eaab462c912b2a02d1058f0b",
       "version_major": 2,
       "version_minor": 0
      },
      "text/plain": [
       "FloatProgress(value=0.0, layout=Layout(width='auto'), style=ProgressStyle(bar_color='black'))"
      ]
     },
     "metadata": {},
     "output_type": "display_data"
    },
    {
     "data": {
      "text/html": [
       "\n",
       "        <iframe\n",
       "            width=\"100%\"\n",
       "            height=\"1200\"\n",
       "            src=\"./scv.html\"\n",
       "            frameborder=\"0\"\n",
       "            allowfullscreen\n",
       "            \n",
       "        ></iframe>\n",
       "        "
      ],
      "text/plain": [
       "<IPython.lib.display.IFrame at 0x23a59a22ef0>"
      ]
     },
     "execution_count": 34,
     "metadata": {},
     "output_type": "execute_result"
    }
   ],
   "source": [
    "df_predictions = linker.predict(threshold_match_weight= -5)\n",
    "\n",
    "linker.comparison_viewer_dashboard(df_predictions, \"scv.html\", overwrite=True)\n",
    "\n",
    "# You can view the scv.html file in your browser, or inline in a notbook as follows\n",
    "from IPython.display import IFrame\n",
    "IFrame(\n",
    "    src=\"./scv.html\", width=\"100%\", height=1200\n",
    ")  "
   ]
  },
  {
   "cell_type": "code",
   "execution_count": 17,
   "metadata": {},
   "outputs": [
    {
     "data": {
      "text/html": [
       "\n",
       "<style>\n",
       "  #altair-viz-27c3e091c5604709a1a2d2408b4307ca.vega-embed {\n",
       "    width: 100%;\n",
       "    display: flex;\n",
       "  }\n",
       "\n",
       "  #altair-viz-27c3e091c5604709a1a2d2408b4307ca.vega-embed details,\n",
       "  #altair-viz-27c3e091c5604709a1a2d2408b4307ca.vega-embed details summary {\n",
       "    position: relative;\n",
       "  }\n",
       "</style>\n",
       "<div id=\"altair-viz-27c3e091c5604709a1a2d2408b4307ca\"></div>\n",
       "<script type=\"text/javascript\">\n",
       "  var VEGA_DEBUG = (typeof VEGA_DEBUG == \"undefined\") ? {} : VEGA_DEBUG;\n",
       "  (function(spec, embedOpt){\n",
       "    let outputDiv = document.currentScript.previousElementSibling;\n",
       "    if (outputDiv.id !== \"altair-viz-27c3e091c5604709a1a2d2408b4307ca\") {\n",
       "      outputDiv = document.getElementById(\"altair-viz-27c3e091c5604709a1a2d2408b4307ca\");\n",
       "    }\n",
       "    const paths = {\n",
       "      \"vega\": \"https://cdn.jsdelivr.net/npm/vega@5?noext\",\n",
       "      \"vega-lib\": \"https://cdn.jsdelivr.net/npm/vega-lib?noext\",\n",
       "      \"vega-lite\": \"https://cdn.jsdelivr.net/npm/vega-lite@5.8.0?noext\",\n",
       "      \"vega-embed\": \"https://cdn.jsdelivr.net/npm/vega-embed@6?noext\",\n",
       "    };\n",
       "\n",
       "    function maybeLoadScript(lib, version) {\n",
       "      var key = `${lib.replace(\"-\", \"\")}_version`;\n",
       "      return (VEGA_DEBUG[key] == version) ?\n",
       "        Promise.resolve(paths[lib]) :\n",
       "        new Promise(function(resolve, reject) {\n",
       "          var s = document.createElement('script');\n",
       "          document.getElementsByTagName(\"head\")[0].appendChild(s);\n",
       "          s.async = true;\n",
       "          s.onload = () => {\n",
       "            VEGA_DEBUG[key] = version;\n",
       "            return resolve(paths[lib]);\n",
       "          };\n",
       "          s.onerror = () => reject(`Error loading script: ${paths[lib]}`);\n",
       "          s.src = paths[lib];\n",
       "        });\n",
       "    }\n",
       "\n",
       "    function showError(err) {\n",
       "      outputDiv.innerHTML = `<div class=\"error\" style=\"color:red;\">${err}</div>`;\n",
       "      throw err;\n",
       "    }\n",
       "\n",
       "    function displayChart(vegaEmbed) {\n",
       "      vegaEmbed(outputDiv, spec, embedOpt)\n",
       "        .catch(err => showError(`Javascript Error: ${err.message}<br>This usually means there's a typo in your chart specification. See the javascript console for the full traceback.`));\n",
       "    }\n",
       "\n",
       "    if(typeof define === \"function\" && define.amd) {\n",
       "      requirejs.config({paths});\n",
       "      require([\"vega-embed\"], displayChart, err => showError(`Error loading script: ${err.message}`));\n",
       "    } else {\n",
       "      maybeLoadScript(\"vega\", \"5\")\n",
       "        .then(() => maybeLoadScript(\"vega-lite\", \"5.8.0\"))\n",
       "        .then(() => maybeLoadScript(\"vega-embed\", \"6\"))\n",
       "        .catch(showError)\n",
       "        .then(() => displayChart(vegaEmbed));\n",
       "    }\n",
       "  })({\"config\": {\"view\": {\"continuousWidth\": 400, \"continuousHeight\": 300}}, \"layer\": [{\"mark\": {\"type\": \"line\"}, \"encoding\": {\"x\": {\"axis\": {\"format\": \"+\", \"title\": \"Threshold match weight\"}, \"field\": \"match_weight\", \"type\": \"quantitative\"}, \"y\": {\"axis\": {\"format\": \"%\", \"title\": \"Percentage of unlinkable records\"}, \"field\": \"cum_prop\", \"type\": \"quantitative\"}}}, {\"mark\": {\"type\": \"point\"}, \"encoding\": {\"opacity\": {\"condition\": {\"param\": \"x_match_weight_y_cum_prop_coords_of_mouse\", \"value\": 1, \"empty\": false}, \"value\": 0}, \"tooltip\": [{\"field\": \"match_weight\", \"format\": \"+.5\", \"title\": \"Match weight\", \"type\": \"quantitative\"}, {\"field\": \"match_probability\", \"format\": \".5\", \"title\": \"Match probability\", \"type\": \"quantitative\"}, {\"field\": \"cum_prop\", \"format\": \".3%\", \"title\": \"Proportion of unlinkable records\", \"type\": \"quantitative\"}], \"x\": {\"axis\": {\"title\": \"Threshold match weight\"}, \"field\": \"match_weight\", \"type\": \"quantitative\"}, \"y\": {\"axis\": {\"format\": \"%\", \"title\": \"Percentage of unlinkable records\"}, \"field\": \"cum_prop\", \"type\": \"quantitative\"}}, \"name\": \"mouse_coords\"}, {\"mark\": {\"type\": \"rule\", \"color\": \"gray\"}, \"encoding\": {\"x\": {\"field\": \"match_weight\", \"type\": \"quantitative\"}}, \"transform\": [{\"filter\": {\"param\": \"x_match_weight_y_cum_prop_coords_of_mouse\", \"empty\": false}}]}, {\"mark\": {\"type\": \"rule\", \"color\": \"gray\"}, \"encoding\": {\"y\": {\"field\": \"cum_prop\", \"type\": \"quantitative\"}}, \"transform\": [{\"filter\": {\"param\": \"x_match_weight_y_cum_prop_coords_of_mouse\", \"empty\": false}}]}], \"data\": {\"name\": \"data-469855676521324e2d40eff341b2efd9\"}, \"height\": 400, \"params\": [{\"name\": \"x_match_weight_y_cum_prop_coords_of_mouse\", \"select\": {\"type\": \"point\", \"fields\": [\"match_weight\", \"cum_prop\"], \"nearest\": true, \"on\": \"mouseover\"}, \"views\": [\"mouse_coords\"]}], \"title\": {\"text\": \"Unlinkable records\", \"subtitle\": \"Records with insufficient information to exceed a given match threshold\"}, \"width\": 400, \"$schema\": \"https://vega.github.io/schema/vega-lite/v5.9.3.json\", \"datasets\": {\"data-469855676521324e2d40eff341b2efd9\": [{\"match_weight\": 9.27, \"match_probability\": 0.99838, \"prop\": 0.0001505910768173635, \"cum_prop\": 0.0001505910768173635}, {\"match_weight\": 9.95, \"match_probability\": 0.99899, \"prop\": 7.529553840868175e-05, \"cum_prop\": 0.00022588661522604525}, {\"match_weight\": 10.07, \"match_probability\": 0.99907, \"prop\": 7.529553840868175e-05, \"cum_prop\": 0.000301182153634727}, {\"match_weight\": 11.91, \"match_probability\": 0.99974, \"prop\": 7.529553840868175e-05, \"cum_prop\": 0.00037647769204340875}, {\"match_weight\": 12.02, \"match_probability\": 0.99976, \"prop\": 7.529553840868175e-05, \"cum_prop\": 0.0004517732304520905}, {\"match_weight\": 13.27, \"match_probability\": 0.9999, \"prop\": 7.529553840868175e-05, \"cum_prop\": 0.0005270687688607723}, {\"match_weight\": 14.13, \"match_probability\": 0.99994, \"prop\": 0.00022588660067413002, \"cum_prop\": 0.0007529553695349023}, {\"match_weight\": 14.27, \"match_probability\": 0.99995, \"prop\": 7.529553840868175e-05, \"cum_prop\": 0.000828250907943584}, {\"match_weight\": 14.75, \"match_probability\": 0.99996, \"prop\": 0.0004141254466958344, \"cum_prop\": 0.0012423763546394184}, {\"match_weight\": 15.28, \"match_probability\": 0.99997, \"prop\": 0.0005647165235131979, \"cum_prop\": 0.0018070928781526163}, {\"match_weight\": 16.0, \"match_probability\": 0.99998, \"prop\": 0.002032979391515255, \"cum_prop\": 0.0038400722696678713}, {\"match_weight\": 17.6, \"match_probability\": 0.99999, \"prop\": 0.01001430582255125, \"cum_prop\": 0.013854378092219122}]}}, {\"mode\": \"vega-lite\"});\n",
       "</script>"
      ],
      "text/plain": [
       "alt.LayerChart(...)"
      ]
     },
     "execution_count": 17,
     "metadata": {},
     "output_type": "execute_result"
    }
   ],
   "source": [
    "linker.unlinkables_chart()"
   ]
  },
  {
   "cell_type": "code",
   "execution_count": 18,
   "metadata": {},
   "outputs": [
    {
     "data": {
      "text/html": [
       "\n",
       "<style>\n",
       "  #altair-viz-baf53d8198864b50b0ac871c864d571f.vega-embed {\n",
       "    width: 100%;\n",
       "    display: flex;\n",
       "  }\n",
       "\n",
       "  #altair-viz-baf53d8198864b50b0ac871c864d571f.vega-embed details,\n",
       "  #altair-viz-baf53d8198864b50b0ac871c864d571f.vega-embed details summary {\n",
       "    position: relative;\n",
       "  }\n",
       "</style>\n",
       "<div id=\"altair-viz-baf53d8198864b50b0ac871c864d571f\"></div>\n",
       "<script type=\"text/javascript\">\n",
       "  var VEGA_DEBUG = (typeof VEGA_DEBUG == \"undefined\") ? {} : VEGA_DEBUG;\n",
       "  (function(spec, embedOpt){\n",
       "    let outputDiv = document.currentScript.previousElementSibling;\n",
       "    if (outputDiv.id !== \"altair-viz-baf53d8198864b50b0ac871c864d571f\") {\n",
       "      outputDiv = document.getElementById(\"altair-viz-baf53d8198864b50b0ac871c864d571f\");\n",
       "    }\n",
       "    const paths = {\n",
       "      \"vega\": \"https://cdn.jsdelivr.net/npm/vega@5?noext\",\n",
       "      \"vega-lib\": \"https://cdn.jsdelivr.net/npm/vega-lib?noext\",\n",
       "      \"vega-lite\": \"https://cdn.jsdelivr.net/npm/vega-lite@5.8.0?noext\",\n",
       "      \"vega-embed\": \"https://cdn.jsdelivr.net/npm/vega-embed@6?noext\",\n",
       "    };\n",
       "\n",
       "    function maybeLoadScript(lib, version) {\n",
       "      var key = `${lib.replace(\"-\", \"\")}_version`;\n",
       "      return (VEGA_DEBUG[key] == version) ?\n",
       "        Promise.resolve(paths[lib]) :\n",
       "        new Promise(function(resolve, reject) {\n",
       "          var s = document.createElement('script');\n",
       "          document.getElementsByTagName(\"head\")[0].appendChild(s);\n",
       "          s.async = true;\n",
       "          s.onload = () => {\n",
       "            VEGA_DEBUG[key] = version;\n",
       "            return resolve(paths[lib]);\n",
       "          };\n",
       "          s.onerror = () => reject(`Error loading script: ${paths[lib]}`);\n",
       "          s.src = paths[lib];\n",
       "        });\n",
       "    }\n",
       "\n",
       "    function showError(err) {\n",
       "      outputDiv.innerHTML = `<div class=\"error\" style=\"color:red;\">${err}</div>`;\n",
       "      throw err;\n",
       "    }\n",
       "\n",
       "    function displayChart(vegaEmbed) {\n",
       "      vegaEmbed(outputDiv, spec, embedOpt)\n",
       "        .catch(err => showError(`Javascript Error: ${err.message}<br>This usually means there's a typo in your chart specification. See the javascript console for the full traceback.`));\n",
       "    }\n",
       "\n",
       "    if(typeof define === \"function\" && define.amd) {\n",
       "      requirejs.config({paths});\n",
       "      require([\"vega-embed\"], displayChart, err => showError(`Error loading script: ${err.message}`));\n",
       "    } else {\n",
       "      maybeLoadScript(\"vega\", \"5\")\n",
       "        .then(() => maybeLoadScript(\"vega-lite\", \"5.8.0\"))\n",
       "        .then(() => maybeLoadScript(\"vega-embed\", \"6\"))\n",
       "        .catch(showError)\n",
       "        .then(() => displayChart(vegaEmbed));\n",
       "    }\n",
       "  })({\"config\": {\"view\": {\"continuousWidth\": 400, \"continuousHeight\": 300}, \"title\": {\"anchor\": \"middle\", \"fontSize\": 18, \"subtitleFontSize\": 14}}, \"data\": {\"name\": \"data-43b15335f4655ef930b944587270c7a7\"}, \"mark\": {\"type\": \"point\", \"filled\": false, \"opacity\": 0.7, \"size\": 100}, \"encoding\": {\"color\": {\"field\": \"estimate_description\", \"type\": \"nominal\"}, \"column\": {\"align\": \"each\", \"field\": \"col_header\", \"header\": {\"labelFontSize\": 14, \"labelFontWeight\": \"bold\"}, \"title\": null, \"type\": \"nominal\"}, \"row\": {\"align\": \"each\", \"field\": \"comparison_name\", \"header\": {\"labelAlign\": \"left\", \"labelAnchor\": \"middle\", \"labelAngle\": 0, \"labelFontSize\": 12, \"labelFontWeight\": \"bold\"}, \"sort\": {\"field\": \"comparison_sort_order\"}, \"title\": null, \"type\": \"nominal\"}, \"shape\": {\"field\": \"estimate_description\", \"scale\": {\"range\": [\"circle\", \"square\", \"triangle\", \"diamond\"]}, \"type\": \"nominal\"}, \"tooltip\": [{\"field\": \"comparison_name\", \"type\": \"nominal\"}, {\"field\": \"estimate_description\", \"type\": \"nominal\"}, {\"field\": \"estimated_probability\", \"type\": \"quantitative\"}], \"x\": {\"axis\": {\"gridColor\": {\"condition\": {\"test\": \"abs(datum.value / 10)  <= 1 & datum.value % 10 === 0\", \"value\": \"#aaa\"}, \"value\": \"#ddd\"}, \"gridDash\": {\"condition\": {\"test\": \"abs(datum.value / 10) == 1\", \"value\": [3]}, \"value\": null}, \"gridWidth\": {\"condition\": {\"test\": \"abs(datum.value / 10)  <= 1 & datum.value % 10 === 0\", \"value\": 2}, \"value\": 1}}, \"field\": \"estimated_probability_as_log_odds\", \"title\": \"Estimated probability as log odds\", \"type\": \"quantitative\"}, \"y\": {\"axis\": {\"grid\": true, \"title\": null}, \"field\": \"comparison_level_label\", \"sort\": {\"field\": \"comparison_vector_value\", \"order\": \"descending\"}, \"type\": \"nominal\"}}, \"params\": [{\"name\": \"mouse_zoom\", \"select\": {\"type\": \"interval\", \"encodings\": [\"x\"]}, \"bind\": \"scales\"}], \"resolve\": {\"scale\": {\"y\": \"independent\"}}, \"title\": {\"text\": \"Comparison of parameter estimates across training sessions\", \"subtitle\": \"Use mousewheel to zoom\"}, \"transform\": [{\"calculate\": \"datum.m_or_u + '-probability (as log odds)'\", \"as\": \"col_header\"}], \"$schema\": \"https://vega.github.io/schema/vega-lite/v5.9.3.json\", \"datasets\": {\"data-43b15335f4655ef930b944587270c7a7\": [{\"m_or_u\": \"m\", \"estimated_probability\": 0.8997654890687646, \"estimate_description\": \"estimate m from label column\", \"estimated_probability_as_log_odds\": 3.16616971603828, \"sql_condition\": \"syn_g1_firstname_l = syn_g1_firstname_r\", \"comparison_level_label\": \"Exact match\", \"comparison_vector_value\": 2, \"comparison_name\": \"syn_g1_firstname\", \"comparison_sort_order\": 0}, {\"m_or_u\": \"m\", \"estimated_probability\": 0.028519555185717527, \"estimate_description\": \"estimate m from label column\", \"estimated_probability_as_log_odds\": -5.090161570095071, \"sql_condition\": \"jaro_winkler_similarity(\\\"syn_g1_firstname_l\\\", \\\"syn_g1_firstname_r\\\") >= 0.8\", \"comparison_level_label\": \"Jaro_winkler_similarity 0.8\", \"comparison_vector_value\": 1, \"comparison_name\": \"syn_g1_firstname\", \"comparison_sort_order\": 0}, {\"m_or_u\": \"m\", \"estimated_probability\": 0.07171495574551781, \"estimate_description\": \"estimate m from label column\", \"estimated_probability_as_log_odds\": -3.694221953918883, \"sql_condition\": \"ELSE\", \"comparison_level_label\": \"All other comparisons\", \"comparison_vector_value\": 0, \"comparison_name\": \"syn_g1_firstname\", \"comparison_sort_order\": 0}, {\"m_or_u\": \"m\", \"estimated_probability\": 0.9481213764023794, \"estimate_description\": \"estimate m from label column\", \"estimated_probability_as_log_odds\": 4.1918596528031955, \"sql_condition\": \"syn_g1_surname_l = syn_g1_surname_r\", \"comparison_level_label\": \"Exact match\", \"comparison_vector_value\": 2, \"comparison_name\": \"syn_g1_surname\", \"comparison_sort_order\": 1}, {\"m_or_u\": \"m\", \"estimated_probability\": 0.0025600481891423837, \"estimate_description\": \"estimate m from label column\", \"estimated_probability_as_log_odds\": -8.605915213056567, \"sql_condition\": \"jaro_winkler_similarity(\\\"syn_g1_surname_l\\\", \\\"syn_g1_surname_r\\\") >= 0.8\", \"comparison_level_label\": \"Jaro_winkler_similarity 0.8\", \"comparison_vector_value\": 1, \"comparison_name\": \"syn_g1_surname\", \"comparison_sort_order\": 1}, {\"m_or_u\": \"m\", \"estimated_probability\": 0.049318575408478275, \"estimate_description\": \"estimate m from label column\", \"estimated_probability_as_log_odds\": -4.268758939338175, \"sql_condition\": \"ELSE\", \"comparison_level_label\": \"All other comparisons\", \"comparison_vector_value\": 0, \"comparison_name\": \"syn_g1_surname\", \"comparison_sort_order\": 1}, {\"m_or_u\": \"m\", \"estimated_probability\": 0.850086589865221, \"estimate_description\": \"estimate m from label column\", \"estimated_probability_as_log_odds\": 2.5034803599398607, \"sql_condition\": \"syn_g0_surname_l = syn_g0_surname_r\", \"comparison_level_label\": \"Exact match\", \"comparison_vector_value\": 2, \"comparison_name\": \"syn_g0_surname\", \"comparison_sort_order\": 2}, {\"m_or_u\": \"m\", \"estimated_probability\": 0.00489420977336044, \"estimate_description\": \"estimate m from label column\", \"estimated_probability_as_log_odds\": -7.667630158390991, \"sql_condition\": \"jaro_winkler_similarity(\\\"syn_g0_surname_l\\\", \\\"syn_g0_surname_r\\\") >= 0.8\", \"comparison_level_label\": \"Jaro_winkler_similarity 0.8\", \"comparison_vector_value\": 1, \"comparison_name\": \"syn_g0_surname\", \"comparison_sort_order\": 2}, {\"m_or_u\": \"m\", \"estimated_probability\": 0.14501920036141858, \"estimate_description\": \"estimate m from label column\", \"estimated_probability_as_log_odds\": -2.5596480977507907, \"sql_condition\": \"ELSE\", \"comparison_level_label\": \"All other comparisons\", \"comparison_vector_value\": 0, \"comparison_name\": \"syn_g0_surname\", \"comparison_sort_order\": 2}, {\"m_or_u\": \"m\", \"estimated_probability\": 1.0, \"estimate_description\": \"estimate m from label column\", \"estimated_probability_as_log_odds\": null, \"sql_condition\": \"\\\"g1_dob_arc1_l\\\" = \\\"g1_dob_arc1_r\\\"\", \"comparison_level_label\": \"Exact match\", \"comparison_vector_value\": 1, \"comparison_name\": \"g1_dob_arc1\", \"comparison_sort_order\": 3}, {\"m_or_u\": \"m\", \"estimated_probability\": \"level not observed in training dataset\", \"estimate_description\": \"estimate m from label column\", \"estimated_probability_as_log_odds\": null, \"sql_condition\": \"ELSE\", \"comparison_level_label\": \"All other comparisons\", \"comparison_vector_value\": 0, \"comparison_name\": \"g1_dob_arc1\", \"comparison_sort_order\": 3}, {\"m_or_u\": \"m\", \"estimated_probability\": 1.0, \"estimate_description\": \"estimate m from label column\", \"estimated_probability_as_log_odds\": null, \"sql_condition\": \"\\\"g1_gender_arc_l\\\" = \\\"g1_gender_arc_r\\\"\", \"comparison_level_label\": \"Exact match\", \"comparison_vector_value\": 1, \"comparison_name\": \"g1_gender_arc\", \"comparison_sort_order\": 4}, {\"m_or_u\": \"m\", \"estimated_probability\": \"level not observed in training dataset\", \"estimate_description\": \"estimate m from label column\", \"estimated_probability_as_log_odds\": null, \"sql_condition\": \"ELSE\", \"comparison_level_label\": \"All other comparisons\", \"comparison_vector_value\": 0, \"comparison_name\": \"g1_gender_arc\", \"comparison_sort_order\": 4}]}}, {\"mode\": \"vega-lite\"});\n",
       "</script>"
      ],
      "text/plain": [
       "alt.Chart(...)"
      ]
     },
     "execution_count": 18,
     "metadata": {},
     "output_type": "execute_result"
    }
   ],
   "source": [
    "linker.parameter_estimate_comparisons_chart()"
   ]
  },
  {
   "cell_type": "code",
   "execution_count": null,
   "metadata": {},
   "outputs": [],
   "source": []
  }
 ],
 "metadata": {
  "kernelspec": {
   "display_name": "Python 3 (ipykernel)",
   "language": "python",
   "name": "python3"
  },
  "language_info": {
   "codemirror_mode": {
    "name": "ipython",
    "version": 3
   },
   "file_extension": ".py",
   "mimetype": "text/x-python",
   "name": "python",
   "nbconvert_exporter": "python",
   "pygments_lexer": "ipython3",
   "version": "3.10.5"
  },
  "vscode": {
   "interpreter": {
    "hash": "2531e3b508fbb3d6eccb945cca14e7a59c2422839bd9845528f68dee50072fc5"
   }
  }
 },
 "nbformat": 4,
 "nbformat_minor": 4
}
